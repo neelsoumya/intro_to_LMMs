{
 "cells": [
  {
   "cell_type": "markdown",
   "id": "221b2e35",
   "metadata": {},
   "source": [
    "Code to call the OpenAI API to call and solve visual puzzles (ConceptARC problems).\n",
    "\n",
    "https://github.com/victorvikram/ConceptARC/tree/main/MinimalTasks\n"
   ]
  },
  {
   "cell_type": "code",
   "execution_count": 37,
   "id": "66cf57c8",
   "metadata": {},
   "outputs": [],
   "source": [
    "from openai import OpenAI\n",
    "import dotenv\n",
    "import os\n",
    "from rich import print as rprint # for making fancy outputs\n",
    "\n",
    "dotenv.load_dotenv()\n",
    "\n",
    "client = OpenAI()\n",
    "\n",
    "OPENAI_API_KEY = os.getenv(\"OPENAI_API_KEY\")"
   ]
  },
  {
   "cell_type": "markdown",
   "id": "27376b08",
   "metadata": {},
   "source": [
    "Call ConceptARC solver. Start by creating a good system prompt."
   ]
  },
  {
   "cell_type": "code",
   "execution_count": 38,
   "id": "98c05e02",
   "metadata": {},
   "outputs": [],
   "source": [
    "system_prompt = \"You are an intelligent solver of puzzles.\"\n",
    "user_prompt = 'your job is to solve a puzzle. These are puzzles in json format. I have some training examples and a test example in ConceptARC. Please solve it. Here is the puzzle:  {\"train\":[{\"input\":[[0,0,0,0,0,0,0,0,0,0],[0,0,0,0,4,0,0,0,0,0],[0,0,0,4,4,4,0,0,0,0],[0,0,0,0,0,0,0,0,0,0],[0,0,0,3,3,3,0,0,0,0],[0,0,0,3,3,3,0,0,0,0],[0,0,0,3,3,3,0,0,0,0],[0,0,0,0,0,0,0,0,0,0],[0,0,0,0,0,0,0,0,0,0],[0,0,0,0,0,0,0,0,0,0]],\"output\":[[0,4,0],[4,4,4]]},{\"input\":[[0,0,3,3,0,0,0,0],[0,0,3,3,0,0,0,0],[0,0,0,0,0,0,0,0],[0,4,0,4,0,0,0,0],[0,4,4,4,0,0,0,0],[0,0,0,0,0,0,0,0],[0,0,0,0,0,0,0,0],[0,0,0,0,0,0,0,0]],\"output\":[[3,3],[3,3]]},{\"input\":[[0,0,0,0,0,0,0,0,0],[0,0,0,3,3,3,3,3,0],[0,0,0,0,0,0,0,0,0],[0,0,0,0,0,0,0,0,0],[0,0,4,4,4,4,0,0,0],[0,0,0,0,0,0,0,0,0],[0,0,0,0,0,0,0,0,0],[0,0,0,0,0,0,0,0,0],[0,0,0,0,0,0,0,0,0]],\"output\":[[3,3,3,3,3]]},{\"input\":[[0,0,0,0,0,0,0,0],[0,0,0,4,0,0,0,0],[0,0,4,0,4,0,0,0],[0,0,0,4,0,0,0,0],[0,0,0,0,0,0,0,0],[0,0,3,3,3,3,0,0],[0,0,3,0,0,3,0,0],[0,0,0,3,3,0,0,0]],\"output\":[[0,4,0],[4,0,4],[0,4,0]]}],\"test\":[{\"input\":[[4,4,4,0,0,0],[4,4,4,0,0,0],[0,0,0,0,0,0],[0,0,3,0,0,0],[3,3,3,3,0,0],[0,0,0,0,0,0]],\"output\":[[4,4,4],[4,4,4]]},{\"input\":[[0,0,0,0,0,0,0,0,0,0],[0,0,0,0,0,0,0,0,0,0],[4,4,4,4,4,4,4,4,4,4],[3,3,3,3,3,3,3,3,3,3],[0,0,0,0,0,0,0,0,0,0],[0,0,0,0,0,0,0,0,0,0],[0,0,0,0,0,0,0,0,0,0],[0,0,0,0,0,0,0,0,0,0],[0,0,0,0,0,0,0,0,0,0],[0,0,0,0,0,0,0,0,0,0]],\"output\":[[4,4,4,4,4,4,4,4,4,4]]},{\"input\":[[0,0,0,0,0],[0,3,3,3,0],[0,3,0,3,0],[0,3,3,3,0],[0,4,0,4,0],[4,0,4,0,4]],\"output\":[[3,3,3],[3,0,3],[3,3,3]]}]}'\n"
   ]
  },
  {
   "cell_type": "markdown",
   "id": "28f1a066",
   "metadata": {},
   "source": [
    "Solve the problem now."
   ]
  },
  {
   "cell_type": "code",
   "execution_count": 39,
   "id": "acc06d35",
   "metadata": {},
   "outputs": [
    {
     "ename": "AuthenticationError",
     "evalue": "Error code: 401 - {'error': {'message': 'Incorrect API key provided: sk-proj-********************************************************************************************************************************************************CmkA. You can find your API key at https://platform.openai.com/account/api-keys.', 'type': 'invalid_request_error', 'param': None, 'code': 'invalid_api_key'}}",
     "output_type": "error",
     "traceback": [
      "\u001b[31m---------------------------------------------------------------------------\u001b[39m",
      "\u001b[31mAuthenticationError\u001b[39m                       Traceback (most recent call last)",
      "\u001b[36mCell\u001b[39m\u001b[36m \u001b[39m\u001b[32mIn[39]\u001b[39m\u001b[32m, line 1\u001b[39m\n\u001b[32m----> \u001b[39m\u001b[32m1\u001b[39m response = \u001b[43mclient\u001b[49m\u001b[43m.\u001b[49m\u001b[43mchat\u001b[49m\u001b[43m.\u001b[49m\u001b[43mcompletions\u001b[49m\u001b[43m.\u001b[49m\u001b[43mcreate\u001b[49m\u001b[43m(\u001b[49m\n\u001b[32m      2\u001b[39m \u001b[43m    \u001b[49m\u001b[43mmodel\u001b[49m\u001b[43m=\u001b[49m\u001b[33;43m\"\u001b[39;49m\u001b[33;43mgpt-4o-mini\u001b[39;49m\u001b[33;43m\"\u001b[39;49m\u001b[43m,\u001b[49m\n\u001b[32m      3\u001b[39m \u001b[43m    \u001b[49m\u001b[43mmessages\u001b[49m\u001b[43m=\u001b[49m\u001b[43m[\u001b[49m\n\u001b[32m      4\u001b[39m \u001b[43m        \u001b[49m\u001b[43m{\u001b[49m\u001b[33;43m\"\u001b[39;49m\u001b[33;43mrole\u001b[39;49m\u001b[33;43m\"\u001b[39;49m\u001b[43m:\u001b[49m\u001b[33;43m\"\u001b[39;49m\u001b[33;43msystem\u001b[39;49m\u001b[33;43m\"\u001b[39;49m\u001b[43m,\u001b[49m\u001b[43m \u001b[49m\u001b[33;43m\"\u001b[39;49m\u001b[33;43mcontent\u001b[39;49m\u001b[33;43m\"\u001b[39;49m\u001b[43m:\u001b[49m\u001b[43m \u001b[49m\u001b[43msystem_prompt\u001b[49m\u001b[43m}\u001b[49m\u001b[43m,\u001b[49m\n\u001b[32m      5\u001b[39m \u001b[43m        \u001b[49m\u001b[43m{\u001b[49m\u001b[33;43m\"\u001b[39;49m\u001b[33;43mrole\u001b[39;49m\u001b[33;43m\"\u001b[39;49m\u001b[43m:\u001b[49m\u001b[43m \u001b[49m\u001b[33;43m\"\u001b[39;49m\u001b[33;43muser\u001b[39;49m\u001b[33;43m\"\u001b[39;49m\u001b[43m,\u001b[49m\u001b[43m  \u001b[49m\u001b[33;43m\"\u001b[39;49m\u001b[33;43mcontent\u001b[39;49m\u001b[33;43m\"\u001b[39;49m\u001b[43m:\u001b[49m\u001b[43m \u001b[49m\u001b[43muser_prompt\u001b[49m\u001b[43m}\u001b[49m\n\u001b[32m      6\u001b[39m \u001b[43m    \u001b[49m\u001b[43m]\u001b[49m\u001b[43m,\u001b[49m\n\u001b[32m      7\u001b[39m \u001b[43m    \u001b[49m\u001b[43mtemperature\u001b[49m\u001b[43m=\u001b[49m\u001b[32;43m1.0\u001b[39;49m\u001b[43m,\u001b[49m\n\u001b[32m      8\u001b[39m \u001b[43m    \u001b[49m\u001b[43mmax_tokens\u001b[49m\u001b[43m=\u001b[49m\u001b[32;43m1000\u001b[39;49m\u001b[43m,\u001b[49m\n\u001b[32m      9\u001b[39m \u001b[43m)\u001b[49m\n\u001b[32m     11\u001b[39m \u001b[38;5;28mprint\u001b[39m(response.choices[\u001b[32m0\u001b[39m].message.content) \u001b[38;5;66;03m# print the response from the model\u001b[39;00m\n",
      "\u001b[36mFile \u001b[39m\u001b[32m/usr/local/python/3.12.1/lib/python3.12/site-packages/openai/_utils/_utils.py:279\u001b[39m, in \u001b[36mrequired_args.<locals>.inner.<locals>.wrapper\u001b[39m\u001b[34m(*args, **kwargs)\u001b[39m\n\u001b[32m    277\u001b[39m             msg = \u001b[33mf\u001b[39m\u001b[33m\"\u001b[39m\u001b[33mMissing required argument: \u001b[39m\u001b[38;5;132;01m{\u001b[39;00mquote(missing[\u001b[32m0\u001b[39m])\u001b[38;5;132;01m}\u001b[39;00m\u001b[33m\"\u001b[39m\n\u001b[32m    278\u001b[39m     \u001b[38;5;28;01mraise\u001b[39;00m \u001b[38;5;167;01mTypeError\u001b[39;00m(msg)\n\u001b[32m--> \u001b[39m\u001b[32m279\u001b[39m \u001b[38;5;28;01mreturn\u001b[39;00m \u001b[43mfunc\u001b[49m\u001b[43m(\u001b[49m\u001b[43m*\u001b[49m\u001b[43margs\u001b[49m\u001b[43m,\u001b[49m\u001b[43m \u001b[49m\u001b[43m*\u001b[49m\u001b[43m*\u001b[49m\u001b[43mkwargs\u001b[49m\u001b[43m)\u001b[49m\n",
      "\u001b[36mFile \u001b[39m\u001b[32m/usr/local/python/3.12.1/lib/python3.12/site-packages/openai/resources/chat/completions/completions.py:914\u001b[39m, in \u001b[36mCompletions.create\u001b[39m\u001b[34m(self, messages, model, audio, frequency_penalty, function_call, functions, logit_bias, logprobs, max_completion_tokens, max_tokens, metadata, modalities, n, parallel_tool_calls, prediction, presence_penalty, reasoning_effort, response_format, seed, service_tier, stop, store, stream, stream_options, temperature, tool_choice, tools, top_logprobs, top_p, user, web_search_options, extra_headers, extra_query, extra_body, timeout)\u001b[39m\n\u001b[32m    871\u001b[39m \u001b[38;5;129m@required_args\u001b[39m([\u001b[33m\"\u001b[39m\u001b[33mmessages\u001b[39m\u001b[33m\"\u001b[39m, \u001b[33m\"\u001b[39m\u001b[33mmodel\u001b[39m\u001b[33m\"\u001b[39m], [\u001b[33m\"\u001b[39m\u001b[33mmessages\u001b[39m\u001b[33m\"\u001b[39m, \u001b[33m\"\u001b[39m\u001b[33mmodel\u001b[39m\u001b[33m\"\u001b[39m, \u001b[33m\"\u001b[39m\u001b[33mstream\u001b[39m\u001b[33m\"\u001b[39m])\n\u001b[32m    872\u001b[39m \u001b[38;5;28;01mdef\u001b[39;00m\u001b[38;5;250m \u001b[39m\u001b[34mcreate\u001b[39m(\n\u001b[32m    873\u001b[39m     \u001b[38;5;28mself\u001b[39m,\n\u001b[32m   (...)\u001b[39m\u001b[32m    911\u001b[39m     timeout: \u001b[38;5;28mfloat\u001b[39m | httpx.Timeout | \u001b[38;5;28;01mNone\u001b[39;00m | NotGiven = NOT_GIVEN,\n\u001b[32m    912\u001b[39m ) -> ChatCompletion | Stream[ChatCompletionChunk]:\n\u001b[32m    913\u001b[39m     validate_response_format(response_format)\n\u001b[32m--> \u001b[39m\u001b[32m914\u001b[39m     \u001b[38;5;28;01mreturn\u001b[39;00m \u001b[38;5;28;43mself\u001b[39;49m\u001b[43m.\u001b[49m\u001b[43m_post\u001b[49m\u001b[43m(\u001b[49m\n\u001b[32m    915\u001b[39m \u001b[43m        \u001b[49m\u001b[33;43m\"\u001b[39;49m\u001b[33;43m/chat/completions\u001b[39;49m\u001b[33;43m\"\u001b[39;49m\u001b[43m,\u001b[49m\n\u001b[32m    916\u001b[39m \u001b[43m        \u001b[49m\u001b[43mbody\u001b[49m\u001b[43m=\u001b[49m\u001b[43mmaybe_transform\u001b[49m\u001b[43m(\u001b[49m\n\u001b[32m    917\u001b[39m \u001b[43m            \u001b[49m\u001b[43m{\u001b[49m\n\u001b[32m    918\u001b[39m \u001b[43m                \u001b[49m\u001b[33;43m\"\u001b[39;49m\u001b[33;43mmessages\u001b[39;49m\u001b[33;43m\"\u001b[39;49m\u001b[43m:\u001b[49m\u001b[43m \u001b[49m\u001b[43mmessages\u001b[49m\u001b[43m,\u001b[49m\n\u001b[32m    919\u001b[39m \u001b[43m                \u001b[49m\u001b[33;43m\"\u001b[39;49m\u001b[33;43mmodel\u001b[39;49m\u001b[33;43m\"\u001b[39;49m\u001b[43m:\u001b[49m\u001b[43m \u001b[49m\u001b[43mmodel\u001b[49m\u001b[43m,\u001b[49m\n\u001b[32m    920\u001b[39m \u001b[43m                \u001b[49m\u001b[33;43m\"\u001b[39;49m\u001b[33;43maudio\u001b[39;49m\u001b[33;43m\"\u001b[39;49m\u001b[43m:\u001b[49m\u001b[43m \u001b[49m\u001b[43maudio\u001b[49m\u001b[43m,\u001b[49m\n\u001b[32m    921\u001b[39m \u001b[43m                \u001b[49m\u001b[33;43m\"\u001b[39;49m\u001b[33;43mfrequency_penalty\u001b[39;49m\u001b[33;43m\"\u001b[39;49m\u001b[43m:\u001b[49m\u001b[43m \u001b[49m\u001b[43mfrequency_penalty\u001b[49m\u001b[43m,\u001b[49m\n\u001b[32m    922\u001b[39m \u001b[43m                \u001b[49m\u001b[33;43m\"\u001b[39;49m\u001b[33;43mfunction_call\u001b[39;49m\u001b[33;43m\"\u001b[39;49m\u001b[43m:\u001b[49m\u001b[43m \u001b[49m\u001b[43mfunction_call\u001b[49m\u001b[43m,\u001b[49m\n\u001b[32m    923\u001b[39m \u001b[43m                \u001b[49m\u001b[33;43m\"\u001b[39;49m\u001b[33;43mfunctions\u001b[39;49m\u001b[33;43m\"\u001b[39;49m\u001b[43m:\u001b[49m\u001b[43m \u001b[49m\u001b[43mfunctions\u001b[49m\u001b[43m,\u001b[49m\n\u001b[32m    924\u001b[39m \u001b[43m                \u001b[49m\u001b[33;43m\"\u001b[39;49m\u001b[33;43mlogit_bias\u001b[39;49m\u001b[33;43m\"\u001b[39;49m\u001b[43m:\u001b[49m\u001b[43m \u001b[49m\u001b[43mlogit_bias\u001b[49m\u001b[43m,\u001b[49m\n\u001b[32m    925\u001b[39m \u001b[43m                \u001b[49m\u001b[33;43m\"\u001b[39;49m\u001b[33;43mlogprobs\u001b[39;49m\u001b[33;43m\"\u001b[39;49m\u001b[43m:\u001b[49m\u001b[43m \u001b[49m\u001b[43mlogprobs\u001b[49m\u001b[43m,\u001b[49m\n\u001b[32m    926\u001b[39m \u001b[43m                \u001b[49m\u001b[33;43m\"\u001b[39;49m\u001b[33;43mmax_completion_tokens\u001b[39;49m\u001b[33;43m\"\u001b[39;49m\u001b[43m:\u001b[49m\u001b[43m \u001b[49m\u001b[43mmax_completion_tokens\u001b[49m\u001b[43m,\u001b[49m\n\u001b[32m    927\u001b[39m \u001b[43m                \u001b[49m\u001b[33;43m\"\u001b[39;49m\u001b[33;43mmax_tokens\u001b[39;49m\u001b[33;43m\"\u001b[39;49m\u001b[43m:\u001b[49m\u001b[43m \u001b[49m\u001b[43mmax_tokens\u001b[49m\u001b[43m,\u001b[49m\n\u001b[32m    928\u001b[39m \u001b[43m                \u001b[49m\u001b[33;43m\"\u001b[39;49m\u001b[33;43mmetadata\u001b[39;49m\u001b[33;43m\"\u001b[39;49m\u001b[43m:\u001b[49m\u001b[43m \u001b[49m\u001b[43mmetadata\u001b[49m\u001b[43m,\u001b[49m\n\u001b[32m    929\u001b[39m \u001b[43m                \u001b[49m\u001b[33;43m\"\u001b[39;49m\u001b[33;43mmodalities\u001b[39;49m\u001b[33;43m\"\u001b[39;49m\u001b[43m:\u001b[49m\u001b[43m \u001b[49m\u001b[43mmodalities\u001b[49m\u001b[43m,\u001b[49m\n\u001b[32m    930\u001b[39m \u001b[43m                \u001b[49m\u001b[33;43m\"\u001b[39;49m\u001b[33;43mn\u001b[39;49m\u001b[33;43m\"\u001b[39;49m\u001b[43m:\u001b[49m\u001b[43m \u001b[49m\u001b[43mn\u001b[49m\u001b[43m,\u001b[49m\n\u001b[32m    931\u001b[39m \u001b[43m                \u001b[49m\u001b[33;43m\"\u001b[39;49m\u001b[33;43mparallel_tool_calls\u001b[39;49m\u001b[33;43m\"\u001b[39;49m\u001b[43m:\u001b[49m\u001b[43m \u001b[49m\u001b[43mparallel_tool_calls\u001b[49m\u001b[43m,\u001b[49m\n\u001b[32m    932\u001b[39m \u001b[43m                \u001b[49m\u001b[33;43m\"\u001b[39;49m\u001b[33;43mprediction\u001b[39;49m\u001b[33;43m\"\u001b[39;49m\u001b[43m:\u001b[49m\u001b[43m \u001b[49m\u001b[43mprediction\u001b[49m\u001b[43m,\u001b[49m\n\u001b[32m    933\u001b[39m \u001b[43m                \u001b[49m\u001b[33;43m\"\u001b[39;49m\u001b[33;43mpresence_penalty\u001b[39;49m\u001b[33;43m\"\u001b[39;49m\u001b[43m:\u001b[49m\u001b[43m \u001b[49m\u001b[43mpresence_penalty\u001b[49m\u001b[43m,\u001b[49m\n\u001b[32m    934\u001b[39m \u001b[43m                \u001b[49m\u001b[33;43m\"\u001b[39;49m\u001b[33;43mreasoning_effort\u001b[39;49m\u001b[33;43m\"\u001b[39;49m\u001b[43m:\u001b[49m\u001b[43m \u001b[49m\u001b[43mreasoning_effort\u001b[49m\u001b[43m,\u001b[49m\n\u001b[32m    935\u001b[39m \u001b[43m                \u001b[49m\u001b[33;43m\"\u001b[39;49m\u001b[33;43mresponse_format\u001b[39;49m\u001b[33;43m\"\u001b[39;49m\u001b[43m:\u001b[49m\u001b[43m \u001b[49m\u001b[43mresponse_format\u001b[49m\u001b[43m,\u001b[49m\n\u001b[32m    936\u001b[39m \u001b[43m                \u001b[49m\u001b[33;43m\"\u001b[39;49m\u001b[33;43mseed\u001b[39;49m\u001b[33;43m\"\u001b[39;49m\u001b[43m:\u001b[49m\u001b[43m \u001b[49m\u001b[43mseed\u001b[49m\u001b[43m,\u001b[49m\n\u001b[32m    937\u001b[39m \u001b[43m                \u001b[49m\u001b[33;43m\"\u001b[39;49m\u001b[33;43mservice_tier\u001b[39;49m\u001b[33;43m\"\u001b[39;49m\u001b[43m:\u001b[49m\u001b[43m \u001b[49m\u001b[43mservice_tier\u001b[49m\u001b[43m,\u001b[49m\n\u001b[32m    938\u001b[39m \u001b[43m                \u001b[49m\u001b[33;43m\"\u001b[39;49m\u001b[33;43mstop\u001b[39;49m\u001b[33;43m\"\u001b[39;49m\u001b[43m:\u001b[49m\u001b[43m \u001b[49m\u001b[43mstop\u001b[49m\u001b[43m,\u001b[49m\n\u001b[32m    939\u001b[39m \u001b[43m                \u001b[49m\u001b[33;43m\"\u001b[39;49m\u001b[33;43mstore\u001b[39;49m\u001b[33;43m\"\u001b[39;49m\u001b[43m:\u001b[49m\u001b[43m \u001b[49m\u001b[43mstore\u001b[49m\u001b[43m,\u001b[49m\n\u001b[32m    940\u001b[39m \u001b[43m                \u001b[49m\u001b[33;43m\"\u001b[39;49m\u001b[33;43mstream\u001b[39;49m\u001b[33;43m\"\u001b[39;49m\u001b[43m:\u001b[49m\u001b[43m \u001b[49m\u001b[43mstream\u001b[49m\u001b[43m,\u001b[49m\n\u001b[32m    941\u001b[39m \u001b[43m                \u001b[49m\u001b[33;43m\"\u001b[39;49m\u001b[33;43mstream_options\u001b[39;49m\u001b[33;43m\"\u001b[39;49m\u001b[43m:\u001b[49m\u001b[43m \u001b[49m\u001b[43mstream_options\u001b[49m\u001b[43m,\u001b[49m\n\u001b[32m    942\u001b[39m \u001b[43m                \u001b[49m\u001b[33;43m\"\u001b[39;49m\u001b[33;43mtemperature\u001b[39;49m\u001b[33;43m\"\u001b[39;49m\u001b[43m:\u001b[49m\u001b[43m \u001b[49m\u001b[43mtemperature\u001b[49m\u001b[43m,\u001b[49m\n\u001b[32m    943\u001b[39m \u001b[43m                \u001b[49m\u001b[33;43m\"\u001b[39;49m\u001b[33;43mtool_choice\u001b[39;49m\u001b[33;43m\"\u001b[39;49m\u001b[43m:\u001b[49m\u001b[43m \u001b[49m\u001b[43mtool_choice\u001b[49m\u001b[43m,\u001b[49m\n\u001b[32m    944\u001b[39m \u001b[43m                \u001b[49m\u001b[33;43m\"\u001b[39;49m\u001b[33;43mtools\u001b[39;49m\u001b[33;43m\"\u001b[39;49m\u001b[43m:\u001b[49m\u001b[43m \u001b[49m\u001b[43mtools\u001b[49m\u001b[43m,\u001b[49m\n\u001b[32m    945\u001b[39m \u001b[43m                \u001b[49m\u001b[33;43m\"\u001b[39;49m\u001b[33;43mtop_logprobs\u001b[39;49m\u001b[33;43m\"\u001b[39;49m\u001b[43m:\u001b[49m\u001b[43m \u001b[49m\u001b[43mtop_logprobs\u001b[49m\u001b[43m,\u001b[49m\n\u001b[32m    946\u001b[39m \u001b[43m                \u001b[49m\u001b[33;43m\"\u001b[39;49m\u001b[33;43mtop_p\u001b[39;49m\u001b[33;43m\"\u001b[39;49m\u001b[43m:\u001b[49m\u001b[43m \u001b[49m\u001b[43mtop_p\u001b[49m\u001b[43m,\u001b[49m\n\u001b[32m    947\u001b[39m \u001b[43m                \u001b[49m\u001b[33;43m\"\u001b[39;49m\u001b[33;43muser\u001b[39;49m\u001b[33;43m\"\u001b[39;49m\u001b[43m:\u001b[49m\u001b[43m \u001b[49m\u001b[43muser\u001b[49m\u001b[43m,\u001b[49m\n\u001b[32m    948\u001b[39m \u001b[43m                \u001b[49m\u001b[33;43m\"\u001b[39;49m\u001b[33;43mweb_search_options\u001b[39;49m\u001b[33;43m\"\u001b[39;49m\u001b[43m:\u001b[49m\u001b[43m \u001b[49m\u001b[43mweb_search_options\u001b[49m\u001b[43m,\u001b[49m\n\u001b[32m    949\u001b[39m \u001b[43m            \u001b[49m\u001b[43m}\u001b[49m\u001b[43m,\u001b[49m\n\u001b[32m    950\u001b[39m \u001b[43m            \u001b[49m\u001b[43mcompletion_create_params\u001b[49m\u001b[43m.\u001b[49m\u001b[43mCompletionCreateParamsStreaming\u001b[49m\n\u001b[32m    951\u001b[39m \u001b[43m            \u001b[49m\u001b[38;5;28;43;01mif\u001b[39;49;00m\u001b[43m \u001b[49m\u001b[43mstream\u001b[49m\n\u001b[32m    952\u001b[39m \u001b[43m            \u001b[49m\u001b[38;5;28;43;01melse\u001b[39;49;00m\u001b[43m \u001b[49m\u001b[43mcompletion_create_params\u001b[49m\u001b[43m.\u001b[49m\u001b[43mCompletionCreateParamsNonStreaming\u001b[49m\u001b[43m,\u001b[49m\n\u001b[32m    953\u001b[39m \u001b[43m        \u001b[49m\u001b[43m)\u001b[49m\u001b[43m,\u001b[49m\n\u001b[32m    954\u001b[39m \u001b[43m        \u001b[49m\u001b[43moptions\u001b[49m\u001b[43m=\u001b[49m\u001b[43mmake_request_options\u001b[49m\u001b[43m(\u001b[49m\n\u001b[32m    955\u001b[39m \u001b[43m            \u001b[49m\u001b[43mextra_headers\u001b[49m\u001b[43m=\u001b[49m\u001b[43mextra_headers\u001b[49m\u001b[43m,\u001b[49m\u001b[43m \u001b[49m\u001b[43mextra_query\u001b[49m\u001b[43m=\u001b[49m\u001b[43mextra_query\u001b[49m\u001b[43m,\u001b[49m\u001b[43m \u001b[49m\u001b[43mextra_body\u001b[49m\u001b[43m=\u001b[49m\u001b[43mextra_body\u001b[49m\u001b[43m,\u001b[49m\u001b[43m \u001b[49m\u001b[43mtimeout\u001b[49m\u001b[43m=\u001b[49m\u001b[43mtimeout\u001b[49m\n\u001b[32m    956\u001b[39m \u001b[43m        \u001b[49m\u001b[43m)\u001b[49m\u001b[43m,\u001b[49m\n\u001b[32m    957\u001b[39m \u001b[43m        \u001b[49m\u001b[43mcast_to\u001b[49m\u001b[43m=\u001b[49m\u001b[43mChatCompletion\u001b[49m\u001b[43m,\u001b[49m\n\u001b[32m    958\u001b[39m \u001b[43m        \u001b[49m\u001b[43mstream\u001b[49m\u001b[43m=\u001b[49m\u001b[43mstream\u001b[49m\u001b[43m \u001b[49m\u001b[38;5;129;43;01mor\u001b[39;49;00m\u001b[43m \u001b[49m\u001b[38;5;28;43;01mFalse\u001b[39;49;00m\u001b[43m,\u001b[49m\n\u001b[32m    959\u001b[39m \u001b[43m        \u001b[49m\u001b[43mstream_cls\u001b[49m\u001b[43m=\u001b[49m\u001b[43mStream\u001b[49m\u001b[43m[\u001b[49m\u001b[43mChatCompletionChunk\u001b[49m\u001b[43m]\u001b[49m\u001b[43m,\u001b[49m\n\u001b[32m    960\u001b[39m \u001b[43m    \u001b[49m\u001b[43m)\u001b[49m\n",
      "\u001b[36mFile \u001b[39m\u001b[32m/usr/local/python/3.12.1/lib/python3.12/site-packages/openai/_base_client.py:1242\u001b[39m, in \u001b[36mSyncAPIClient.post\u001b[39m\u001b[34m(self, path, cast_to, body, options, files, stream, stream_cls)\u001b[39m\n\u001b[32m   1228\u001b[39m \u001b[38;5;28;01mdef\u001b[39;00m\u001b[38;5;250m \u001b[39m\u001b[34mpost\u001b[39m(\n\u001b[32m   1229\u001b[39m     \u001b[38;5;28mself\u001b[39m,\n\u001b[32m   1230\u001b[39m     path: \u001b[38;5;28mstr\u001b[39m,\n\u001b[32m   (...)\u001b[39m\u001b[32m   1237\u001b[39m     stream_cls: \u001b[38;5;28mtype\u001b[39m[_StreamT] | \u001b[38;5;28;01mNone\u001b[39;00m = \u001b[38;5;28;01mNone\u001b[39;00m,\n\u001b[32m   1238\u001b[39m ) -> ResponseT | _StreamT:\n\u001b[32m   1239\u001b[39m     opts = FinalRequestOptions.construct(\n\u001b[32m   1240\u001b[39m         method=\u001b[33m\"\u001b[39m\u001b[33mpost\u001b[39m\u001b[33m\"\u001b[39m, url=path, json_data=body, files=to_httpx_files(files), **options\n\u001b[32m   1241\u001b[39m     )\n\u001b[32m-> \u001b[39m\u001b[32m1242\u001b[39m     \u001b[38;5;28;01mreturn\u001b[39;00m cast(ResponseT, \u001b[38;5;28;43mself\u001b[39;49m\u001b[43m.\u001b[49m\u001b[43mrequest\u001b[49m\u001b[43m(\u001b[49m\u001b[43mcast_to\u001b[49m\u001b[43m,\u001b[49m\u001b[43m \u001b[49m\u001b[43mopts\u001b[49m\u001b[43m,\u001b[49m\u001b[43m \u001b[49m\u001b[43mstream\u001b[49m\u001b[43m=\u001b[49m\u001b[43mstream\u001b[49m\u001b[43m,\u001b[49m\u001b[43m \u001b[49m\u001b[43mstream_cls\u001b[49m\u001b[43m=\u001b[49m\u001b[43mstream_cls\u001b[49m\u001b[43m)\u001b[49m)\n",
      "\u001b[36mFile \u001b[39m\u001b[32m/usr/local/python/3.12.1/lib/python3.12/site-packages/openai/_base_client.py:919\u001b[39m, in \u001b[36mSyncAPIClient.request\u001b[39m\u001b[34m(self, cast_to, options, remaining_retries, stream, stream_cls)\u001b[39m\n\u001b[32m    916\u001b[39m \u001b[38;5;28;01melse\u001b[39;00m:\n\u001b[32m    917\u001b[39m     retries_taken = \u001b[32m0\u001b[39m\n\u001b[32m--> \u001b[39m\u001b[32m919\u001b[39m \u001b[38;5;28;01mreturn\u001b[39;00m \u001b[38;5;28;43mself\u001b[39;49m\u001b[43m.\u001b[49m\u001b[43m_request\u001b[49m\u001b[43m(\u001b[49m\n\u001b[32m    920\u001b[39m \u001b[43m    \u001b[49m\u001b[43mcast_to\u001b[49m\u001b[43m=\u001b[49m\u001b[43mcast_to\u001b[49m\u001b[43m,\u001b[49m\n\u001b[32m    921\u001b[39m \u001b[43m    \u001b[49m\u001b[43moptions\u001b[49m\u001b[43m=\u001b[49m\u001b[43moptions\u001b[49m\u001b[43m,\u001b[49m\n\u001b[32m    922\u001b[39m \u001b[43m    \u001b[49m\u001b[43mstream\u001b[49m\u001b[43m=\u001b[49m\u001b[43mstream\u001b[49m\u001b[43m,\u001b[49m\n\u001b[32m    923\u001b[39m \u001b[43m    \u001b[49m\u001b[43mstream_cls\u001b[49m\u001b[43m=\u001b[49m\u001b[43mstream_cls\u001b[49m\u001b[43m,\u001b[49m\n\u001b[32m    924\u001b[39m \u001b[43m    \u001b[49m\u001b[43mretries_taken\u001b[49m\u001b[43m=\u001b[49m\u001b[43mretries_taken\u001b[49m\u001b[43m,\u001b[49m\n\u001b[32m    925\u001b[39m \u001b[43m\u001b[49m\u001b[43m)\u001b[49m\n",
      "\u001b[36mFile \u001b[39m\u001b[32m/usr/local/python/3.12.1/lib/python3.12/site-packages/openai/_base_client.py:1023\u001b[39m, in \u001b[36mSyncAPIClient._request\u001b[39m\u001b[34m(self, cast_to, options, retries_taken, stream, stream_cls)\u001b[39m\n\u001b[32m   1020\u001b[39m         err.response.read()\n\u001b[32m   1022\u001b[39m     log.debug(\u001b[33m\"\u001b[39m\u001b[33mRe-raising status error\u001b[39m\u001b[33m\"\u001b[39m)\n\u001b[32m-> \u001b[39m\u001b[32m1023\u001b[39m     \u001b[38;5;28;01mraise\u001b[39;00m \u001b[38;5;28mself\u001b[39m._make_status_error_from_response(err.response) \u001b[38;5;28;01mfrom\u001b[39;00m\u001b[38;5;250m \u001b[39m\u001b[38;5;28;01mNone\u001b[39;00m\n\u001b[32m   1025\u001b[39m \u001b[38;5;28;01mreturn\u001b[39;00m \u001b[38;5;28mself\u001b[39m._process_response(\n\u001b[32m   1026\u001b[39m     cast_to=cast_to,\n\u001b[32m   1027\u001b[39m     options=options,\n\u001b[32m   (...)\u001b[39m\u001b[32m   1031\u001b[39m     retries_taken=retries_taken,\n\u001b[32m   1032\u001b[39m )\n",
      "\u001b[31mAuthenticationError\u001b[39m: Error code: 401 - {'error': {'message': 'Incorrect API key provided: sk-proj-********************************************************************************************************************************************************CmkA. You can find your API key at https://platform.openai.com/account/api-keys.', 'type': 'invalid_request_error', 'param': None, 'code': 'invalid_api_key'}}"
     ]
    }
   ],
   "source": [
    "response = client.chat.completions.create(\n",
    "    model=\"gpt-4o-mini\",\n",
    "    messages=[\n",
    "        {\"role\":\"system\", \"content\": system_prompt},\n",
    "        {\"role\": \"user\",  \"content\": user_prompt}\n",
    "    ],\n",
    "    temperature=1.0,\n",
    "    max_tokens=1000,\n",
    ")\n",
    "\n",
    "print(response.choices[0].message.content) # print the response from the model\n"
   ]
  },
  {
   "cell_type": "markdown",
   "id": "904e0c7f",
   "metadata": {},
   "source": [
    "Use a vision model now to solve ConceptARC puzzle\n"
   ]
  },
  {
   "cell_type": "code",
   "execution_count": null,
   "id": "9c1e424a",
   "metadata": {},
   "outputs": [],
   "source": [
    "prompt = (\"You are an intelligent solver of puzzles. \" \n",
    "\"Your job is to solve a puzzle. The puzzle is given to you as an image \" \n",
    "\"and you need to provide the solution in text format. \"\n",
    "\"Please provide the solution in a clear and concise manner. \"\n",
    "\"Make sure to include all necessary details in the solution. \"\n",
    "\"Feel free to make any inferences you need to. \"\n",
    ")\n",
    "\n",
    "\n",
    "\n"
   ]
  },
  {
   "cell_type": "markdown",
   "id": "9cb15adb",
   "metadata": {},
   "source": [
    "Now call the OpenAI vision model API"
   ]
  },
  {
   "cell_type": "code",
   "execution_count": null,
   "id": "f074d71f",
   "metadata": {},
   "outputs": [],
   "source": [
    "import base64\n",
    "import requests\n",
    "import json"
   ]
  },
  {
   "cell_type": "markdown",
   "id": "ffa1938d",
   "metadata": {},
   "source": [
    "function to encode the image"
   ]
  },
  {
   "cell_type": "code",
   "execution_count": null,
   "id": "567d58f7",
   "metadata": {},
   "outputs": [],
   "source": [
    "def encode_image(image_path):\n",
    "    with open(image_path, \"rb\") as image_file:\n",
    "        encoded_string = base64.b64encode(image_file.read()).decode('utf-8')\n",
    "    return encoded_string\n",
    "\n"
   ]
  },
  {
   "cell_type": "code",
   "execution_count": null,
   "id": "b96e06e6",
   "metadata": {},
   "outputs": [],
   "source": [
    "# Path to image file\n",
    "image_path = \"imgs/puzzle.png\"\n",
    "\n",
    "def get_image_caption(image_path, prompt):\n",
    "  # Getting the base64 string\n",
    "  base64_image = encode_image(image_path)\n",
    "\n",
    "  headers = {\n",
    "    \"Content-Type\": \"application/json\",\n",
    "    \"Authorization\": f\"Bearer {OPENAI_API_KEY}\"\n",
    "  }\n",
    "\n",
    "  payload = {\n",
    "    \"model\": \"gpt-4o-mini\",\n",
    "    \"messages\": [\n",
    "      {\n",
    "        \"role\": \"user\",\n",
    "        \"content\": [\n",
    "          {\n",
    "            \"type\": \"text\",\n",
    "            \"text\": prompt\n",
    "          },\n",
    "          {\n",
    "            \"type\": \"image_url\",\n",
    "            \"image_url\": {\n",
    "              \"url\": f\"data:image/jpeg;base64,{base64_image}\"\n",
    "            }\n",
    "          }\n",
    "        ]\n",
    "      }\n",
    "    ],\n",
    "    \"max_tokens\": 512\n",
    "  }\n",
    "\n",
    "  response = requests.post(\"https://api.openai.com/v1/chat/completions\", headers=headers, json=payload)\n",
    "\n",
    "  return response.json()['choices'][0]['message']['content']\n",
    "\n",
    "\n"
   ]
  },
  {
   "cell_type": "markdown",
   "id": "06bc1f16",
   "metadata": {},
   "source": [
    "Pass this to the solver"
   ]
  },
  {
   "cell_type": "code",
   "execution_count": null,
   "id": "2bc38e97",
   "metadata": {},
   "outputs": [
    {
     "data": {
      "text/html": [
       "<pre style=\"white-space:pre;overflow-x:auto;line-height:normal;font-family:Menlo,'DejaVu Sans Mono',consolas,'Courier New',monospace\">The puzzle consists of a series of grids with colored shapes and corresponding yellow segments on the right side. \n",
       "The goal is to identify relationships between the shapes to determine the next correct segment.\n",
       "\n",
       "Observations of the patterns in each grid:\n",
       "\n",
       "<span style=\"color: #008080; text-decoration-color: #008080; font-weight: bold\">1</span>. **First Grid**: Shapes in various colors.\n",
       "<span style=\"color: #008080; text-decoration-color: #008080; font-weight: bold\">2</span>. **Second Grid**: Similar color scheme with some shapes missing. \n",
       "<span style=\"color: #008080; text-decoration-color: #008080; font-weight: bold\">3</span>. **Third Grid**: A combination of shapes has been removed before adding yellow shapes.\n",
       "<span style=\"color: #008080; text-decoration-color: #008080; font-weight: bold\">4</span>. **Fourth Grid**: Shift in shape colors with orange being prominent.\n",
       "<span style=\"color: #008080; text-decoration-color: #008080; font-weight: bold\">5</span>. **Fifth Grid**: Balanced shapes with new color entries.\n",
       "\n",
       "The yellow segments indicate completion or necessity in the grid. It seems that based on the previous patterns, the\n",
       "sequence follows a logic of retained colors with a certain shape incorporation.\n",
       "\n",
       "**Solution**: The segment that is missing in each grid corresponds to what needs to be filled in the next. Based on\n",
       "this observation and patterns deduced, the final correct segment to follow the last grid would be:\n",
       "\n",
       "- **Fill the yellow segment to complete the last shape pattern on the right side.**\n",
       "\n",
       "In summary, the answer is to fill in the next yellow segment as indicated in the derived pattern from the grids \n",
       "preceding.\n",
       "</pre>\n"
      ],
      "text/plain": [
       "The puzzle consists of a series of grids with colored shapes and corresponding yellow segments on the right side. \n",
       "The goal is to identify relationships between the shapes to determine the next correct segment.\n",
       "\n",
       "Observations of the patterns in each grid:\n",
       "\n",
       "\u001b[1;36m1\u001b[0m. **First Grid**: Shapes in various colors.\n",
       "\u001b[1;36m2\u001b[0m. **Second Grid**: Similar color scheme with some shapes missing. \n",
       "\u001b[1;36m3\u001b[0m. **Third Grid**: A combination of shapes has been removed before adding yellow shapes.\n",
       "\u001b[1;36m4\u001b[0m. **Fourth Grid**: Shift in shape colors with orange being prominent.\n",
       "\u001b[1;36m5\u001b[0m. **Fifth Grid**: Balanced shapes with new color entries.\n",
       "\n",
       "The yellow segments indicate completion or necessity in the grid. It seems that based on the previous patterns, the\n",
       "sequence follows a logic of retained colors with a certain shape incorporation.\n",
       "\n",
       "**Solution**: The segment that is missing in each grid corresponds to what needs to be filled in the next. Based on\n",
       "this observation and patterns deduced, the final correct segment to follow the last grid would be:\n",
       "\n",
       "- **Fill the yellow segment to complete the last shape pattern on the right side.**\n",
       "\n",
       "In summary, the answer is to fill in the next yellow segment as indicated in the derived pattern from the grids \n",
       "preceding.\n"
      ]
     },
     "metadata": {},
     "output_type": "display_data"
    }
   ],
   "source": [
    "caption = get_image_caption(image_path, prompt)\n",
    "\n",
    "#print(\"Caption for the image:\")\n",
    "#print(caption)\n",
    "rprint(caption) # print the caption"
   ]
  },
  {
   "cell_type": "markdown",
   "id": "6adf6dd5",
   "metadata": {},
   "source": [
    "Solve a puzzle from H. Dudeney's classic book \"Canterbury Puzzles\""
   ]
  },
  {
   "cell_type": "code",
   "execution_count": null,
   "id": "34c733da",
   "metadata": {},
   "outputs": [],
   "source": [
    "prompt = (\"You are an intelligent solver of puzzles. \" \n",
    "\"Your job is to solve a puzzle. The puzzle is given to you as an image \" \n",
    "\"and you need to provide the solution in text format. \"\n",
    "\"Please provide the solution in a clear and concise manner. \"\n",
    "\"Make sure to include all necessary details in the solution. \"\n",
    "\"Feel free to make any inferences you need to. \"\n",
    "\"Please check your answer again and recheck your solutions. \"\n",
    ")"
   ]
  },
  {
   "cell_type": "markdown",
   "id": "ef89121d",
   "metadata": {},
   "source": [
    "Solve the puzzles"
   ]
  },
  {
   "cell_type": "code",
   "execution_count": null,
   "id": "18792290",
   "metadata": {},
   "outputs": [
    {
     "data": {
      "text/html": [
       "<pre style=\"white-space:pre;overflow-x:auto;line-height:normal;font-family:Menlo,'DejaVu Sans Mono',consolas,'Courier New',monospace\">To solve the puzzle presented by Master Herbert Spearing, we need to find two cubes of silver that together contain\n",
       "exactly <span style=\"color: #008080; text-decoration-color: #008080; font-weight: bold\">17</span> cubic inches.\n",
       "\n",
       "We know:\n",
       "- Each cube's volume, \\<span style=\"font-weight: bold\">(</span> V = s^<span style=\"color: #008080; text-decoration-color: #008080; font-weight: bold\">3</span> \\<span style=\"font-weight: bold\">)</span>, where \\<span style=\"font-weight: bold\">(</span> s \\<span style=\"font-weight: bold\">)</span> is the side length of the cube.\n",
       "- The total volume should be \\<span style=\"font-weight: bold\">(</span> V_1 + V_2 = <span style=\"color: #008080; text-decoration-color: #008080; font-weight: bold\">17</span> \\<span style=\"font-weight: bold\">)</span>.\n",
       "\n",
       "Let the side lengths of the two cubes be \\<span style=\"font-weight: bold\">(</span> a \\<span style=\"font-weight: bold\">)</span> and \\<span style=\"font-weight: bold\">(</span> b \\<span style=\"font-weight: bold\">)</span>. Then:\n",
       "<span style=\"font-weight: bold\">[</span> \n",
       "a^<span style=\"color: #008080; text-decoration-color: #008080; font-weight: bold\">3</span> + b^<span style=\"color: #008080; text-decoration-color: #008080; font-weight: bold\">3</span> = <span style=\"color: #008080; text-decoration-color: #008080; font-weight: bold\">17</span> \n",
       "\\<span style=\"font-weight: bold\">]</span>\n",
       "\n",
       "To find integers \\<span style=\"font-weight: bold\">(</span> a \\<span style=\"font-weight: bold\">)</span> and \\<span style=\"font-weight: bold\">(</span> b \\<span style=\"font-weight: bold\">)</span>:\n",
       "<span style=\"color: #008080; text-decoration-color: #008080; font-weight: bold\">1</span>. The possible values for \\<span style=\"font-weight: bold\">(</span> a \\<span style=\"font-weight: bold\">)</span> <span style=\"font-weight: bold\">(</span>where \\<span style=\"font-weight: bold\">(</span> a^<span style=\"color: #008080; text-decoration-color: #008080; font-weight: bold\">3</span> &lt; <span style=\"color: #008080; text-decoration-color: #008080; font-weight: bold\">17</span> \\<span style=\"font-weight: bold\">))</span> are <span style=\"color: #008080; text-decoration-color: #008080; font-weight: bold\">1</span>, <span style=\"color: #008080; text-decoration-color: #008080; font-weight: bold\">2</span>, and <span style=\"color: #008080; text-decoration-color: #008080; font-weight: bold\">3</span> since \\<span style=\"font-weight: bold\">(</span> <span style=\"color: #008080; text-decoration-color: #008080; font-weight: bold\">3</span>^<span style=\"color: #008080; text-decoration-color: #008080; font-weight: bold\">3</span> = <span style=\"color: #008080; text-decoration-color: #008080; font-weight: bold\">27</span> \\<span style=\"font-weight: bold\">)</span> exceeds <span style=\"color: #008080; text-decoration-color: #008080; font-weight: bold\">17</span>.\n",
       "<span style=\"color: #008080; text-decoration-color: #008080; font-weight: bold\">2</span>. We evaluate combinations:\n",
       "\n",
       "   - \\<span style=\"font-weight: bold\">(</span> a = <span style=\"color: #008080; text-decoration-color: #008080; font-weight: bold\">1</span> \\<span style=\"font-weight: bold\">)</span>: \n",
       "     <span style=\"font-weight: bold\">[</span> \n",
       "     <span style=\"color: #008080; text-decoration-color: #008080; font-weight: bold\">1</span>^<span style=\"color: #008080; text-decoration-color: #008080; font-weight: bold\">3</span> + b^<span style=\"color: #008080; text-decoration-color: #008080; font-weight: bold\">3</span> = <span style=\"color: #008080; text-decoration-color: #008080; font-weight: bold\">17</span> \\implies b^<span style=\"color: #008080; text-decoration-color: #008080; font-weight: bold\">3</span> = <span style=\"color: #008080; text-decoration-color: #008080; font-weight: bold\">16</span> \\implies b = <span style=\"color: #008080; text-decoration-color: #008080; font-weight: bold\">2.52</span> \\quad <span style=\"font-weight: bold\">(</span>\\text<span style=\"font-weight: bold\">{</span>not an integer<span style=\"font-weight: bold\">})</span> \n",
       "     \\<span style=\"font-weight: bold\">]</span>\n",
       "\n",
       "   - \\<span style=\"font-weight: bold\">(</span> a = <span style=\"color: #008080; text-decoration-color: #008080; font-weight: bold\">2</span> \\<span style=\"font-weight: bold\">)</span>: \n",
       "     <span style=\"font-weight: bold\">[</span> \n",
       "     <span style=\"color: #008080; text-decoration-color: #008080; font-weight: bold\">2</span>^<span style=\"color: #008080; text-decoration-color: #008080; font-weight: bold\">3</span> + b^<span style=\"color: #008080; text-decoration-color: #008080; font-weight: bold\">3</span> = <span style=\"color: #008080; text-decoration-color: #008080; font-weight: bold\">17</span> \\implies <span style=\"color: #008080; text-decoration-color: #008080; font-weight: bold\">8</span> + b^<span style=\"color: #008080; text-decoration-color: #008080; font-weight: bold\">3</span> = <span style=\"color: #008080; text-decoration-color: #008080; font-weight: bold\">17</span> \\implies b^<span style=\"color: #008080; text-decoration-color: #008080; font-weight: bold\">3</span> = <span style=\"color: #008080; text-decoration-color: #008080; font-weight: bold\">9</span> \\implies b = <span style=\"color: #008080; text-decoration-color: #008080; font-weight: bold\">2.08</span> \\quad <span style=\"font-weight: bold\">(</span>\\text<span style=\"font-weight: bold\">{</span>not an integer<span style=\"font-weight: bold\">})</span> \n",
       "     \\<span style=\"font-weight: bold\">]</span>\n",
       "\n",
       "   - \\<span style=\"font-weight: bold\">(</span> a = <span style=\"color: #008080; text-decoration-color: #008080; font-weight: bold\">3</span> \\<span style=\"font-weight: bold\">)</span>: \n",
       "     <span style=\"font-weight: bold\">[</span> \n",
       "     <span style=\"color: #008080; text-decoration-color: #008080; font-weight: bold\">3</span>^<span style=\"color: #008080; text-decoration-color: #008080; font-weight: bold\">3</span> + b^<span style=\"color: #008080; text-decoration-color: #008080; font-weight: bold\">3</span> = <span style=\"color: #008080; text-decoration-color: #008080; font-weight: bold\">17</span> \\implies <span style=\"color: #008080; text-decoration-color: #008080; font-weight: bold\">27</span> + b^<span style=\"color: #008080; text-decoration-color: #008080; font-weight: bold\">3</span> = <span style=\"color: #008080; text-decoration-color: #008080; font-weight: bold\">17</span> \\quad <span style=\"font-weight: bold\">(</span>\\text<span style=\"font-weight: bold\">{</span>not valid since <span style=\"font-weight: bold\">}</span> b^<span style=\"color: #008080; text-decoration-color: #008080; font-weight: bold\">3</span> &lt; <span style=\"color: #008080; text-decoration-color: #008080; font-weight: bold\">0</span><span style=\"font-weight: bold\">)</span> \n",
       "     \\<span style=\"font-weight: bold\">]</span>\n",
       "\n",
       "After checking every integer possibility and realizing the cubes must fit perfectly without remainders or \n",
       "fractions, we find a combination. Thus, we can determine that:\n",
       "\n",
       "A solution is:\n",
       "- Cube <span style=\"color: #008080; text-decoration-color: #008080; font-weight: bold\">1</span>: side length \\<span style=\"font-weight: bold\">(</span> a = <span style=\"color: #008080; text-decoration-color: #008080; font-weight: bold\">1</span> \\<span style=\"font-weight: bold\">)</span> inch <span style=\"font-weight: bold\">(</span>Volume = \\<span style=\"font-weight: bold\">(</span> <span style=\"color: #008080; text-decoration-color: #008080; font-weight: bold\">1</span>^<span style=\"color: #008080; text-decoration-color: #008080; font-weight: bold\">3</span> = <span style=\"color: #008080; text-decoration-color: #008080; font-weight: bold\">1</span> \\<span style=\"font-weight: bold\">)</span> cubic inch<span style=\"font-weight: bold\">)</span>\n",
       "- Cube <span style=\"color: #008080; text-decoration-color: #008080; font-weight: bold\">2</span>: side length \\<span style=\"font-weight: bold\">(</span> b = <span style=\"color: #008080; text-decoration-color: #008080; font-weight: bold\">2</span> \\<span style=\"font-weight: bold\">)</span> inches <span style=\"font-weight: bold\">(</span>Volume = \\<span style=\"font-weight: bold\">(</span> <span style=\"color: #008080; text-decoration-color: #008080; font-weight: bold\">2</span>^<span style=\"color: #008080; text-decoration-color: #008080; font-weight: bold\">3</span> = <span style=\"color: #008080; text-decoration-color: #008080; font-weight: bold\">8</span> \\<span style=\"font-weight: bold\">)</span> cubic inches<span style=\"font-weight: bold\">)</span>\n",
       "- Total volume = \\<span style=\"font-weight: bold\">(</span> <span style=\"color: #008080; text-decoration-color: #008080; font-weight: bold\">1</span>^<span style=\"color: #008080; text-decoration-color: #008080; font-weight: bold\">3</span> + <span style=\"color: #008080; text-decoration-color: #008080; font-weight: bold\">2</span>^<span style=\"color: #008080; text-decoration-color: #008080; font-weight: bold\">3</span> = <span style=\"color: #008080; text-decoration-color: #008080; font-weight: bold\">1</span> + <span style=\"color: #008080; text-decoration-color: #008080; font-weight: bold\">8</span> = <span style=\"color: #008080; text-decoration-color: #008080; font-weight: bold\">9</span> \\<span style=\"font-weight: bold\">)</span>, which does not work.\n",
       "\n",
       "Thus, the dimensions that work would be where \\<span style=\"font-weight: bold\">(</span> a = <span style=\"color: #008080; text-decoration-color: #008080; font-weight: bold\">1</span> \\<span style=\"font-weight: bold\">)</span> and \\<span style=\"font-weight: bold\">(</span> b = <span style=\"color: #008080; text-decoration-color: #008080; font-weight: bold\">3</span> \\<span style=\"font-weight: bold\">)</span>:\n",
       "-\n",
       "</pre>\n"
      ],
      "text/plain": [
       "To solve the puzzle presented by Master Herbert Spearing, we need to find two cubes of silver that together contain\n",
       "exactly \u001b[1;36m17\u001b[0m cubic inches.\n",
       "\n",
       "We know:\n",
       "- Each cube's volume, \\\u001b[1m(\u001b[0m V = s^\u001b[1;36m3\u001b[0m \\\u001b[1m)\u001b[0m, where \\\u001b[1m(\u001b[0m s \\\u001b[1m)\u001b[0m is the side length of the cube.\n",
       "- The total volume should be \\\u001b[1m(\u001b[0m V_1 + V_2 = \u001b[1;36m17\u001b[0m \\\u001b[1m)\u001b[0m.\n",
       "\n",
       "Let the side lengths of the two cubes be \\\u001b[1m(\u001b[0m a \\\u001b[1m)\u001b[0m and \\\u001b[1m(\u001b[0m b \\\u001b[1m)\u001b[0m. Then:\n",
       "\u001b[1m[\u001b[0m \n",
       "a^\u001b[1;36m3\u001b[0m + b^\u001b[1;36m3\u001b[0m = \u001b[1;36m17\u001b[0m \n",
       "\\\u001b[1m]\u001b[0m\n",
       "\n",
       "To find integers \\\u001b[1m(\u001b[0m a \\\u001b[1m)\u001b[0m and \\\u001b[1m(\u001b[0m b \\\u001b[1m)\u001b[0m:\n",
       "\u001b[1;36m1\u001b[0m. The possible values for \\\u001b[1m(\u001b[0m a \\\u001b[1m)\u001b[0m \u001b[1m(\u001b[0mwhere \\\u001b[1m(\u001b[0m a^\u001b[1;36m3\u001b[0m < \u001b[1;36m17\u001b[0m \\\u001b[1m)\u001b[0m\u001b[1m)\u001b[0m are \u001b[1;36m1\u001b[0m, \u001b[1;36m2\u001b[0m, and \u001b[1;36m3\u001b[0m since \\\u001b[1m(\u001b[0m \u001b[1;36m3\u001b[0m^\u001b[1;36m3\u001b[0m = \u001b[1;36m27\u001b[0m \\\u001b[1m)\u001b[0m exceeds \u001b[1;36m17\u001b[0m.\n",
       "\u001b[1;36m2\u001b[0m. We evaluate combinations:\n",
       "\n",
       "   - \\\u001b[1m(\u001b[0m a = \u001b[1;36m1\u001b[0m \\\u001b[1m)\u001b[0m: \n",
       "     \u001b[1m[\u001b[0m \n",
       "     \u001b[1;36m1\u001b[0m^\u001b[1;36m3\u001b[0m + b^\u001b[1;36m3\u001b[0m = \u001b[1;36m17\u001b[0m \\implies b^\u001b[1;36m3\u001b[0m = \u001b[1;36m16\u001b[0m \\implies b = \u001b[1;36m2.52\u001b[0m \\quad \u001b[1m(\u001b[0m\\text\u001b[1m{\u001b[0mnot an integer\u001b[1m}\u001b[0m\u001b[1m)\u001b[0m \n",
       "     \\\u001b[1m]\u001b[0m\n",
       "\n",
       "   - \\\u001b[1m(\u001b[0m a = \u001b[1;36m2\u001b[0m \\\u001b[1m)\u001b[0m: \n",
       "     \u001b[1m[\u001b[0m \n",
       "     \u001b[1;36m2\u001b[0m^\u001b[1;36m3\u001b[0m + b^\u001b[1;36m3\u001b[0m = \u001b[1;36m17\u001b[0m \\implies \u001b[1;36m8\u001b[0m + b^\u001b[1;36m3\u001b[0m = \u001b[1;36m17\u001b[0m \\implies b^\u001b[1;36m3\u001b[0m = \u001b[1;36m9\u001b[0m \\implies b = \u001b[1;36m2.08\u001b[0m \\quad \u001b[1m(\u001b[0m\\text\u001b[1m{\u001b[0mnot an integer\u001b[1m}\u001b[0m\u001b[1m)\u001b[0m \n",
       "     \\\u001b[1m]\u001b[0m\n",
       "\n",
       "   - \\\u001b[1m(\u001b[0m a = \u001b[1;36m3\u001b[0m \\\u001b[1m)\u001b[0m: \n",
       "     \u001b[1m[\u001b[0m \n",
       "     \u001b[1;36m3\u001b[0m^\u001b[1;36m3\u001b[0m + b^\u001b[1;36m3\u001b[0m = \u001b[1;36m17\u001b[0m \\implies \u001b[1;36m27\u001b[0m + b^\u001b[1;36m3\u001b[0m = \u001b[1;36m17\u001b[0m \\quad \u001b[1m(\u001b[0m\\text\u001b[1m{\u001b[0mnot valid since \u001b[1m}\u001b[0m b^\u001b[1;36m3\u001b[0m < \u001b[1;36m0\u001b[0m\u001b[1m)\u001b[0m \n",
       "     \\\u001b[1m]\u001b[0m\n",
       "\n",
       "After checking every integer possibility and realizing the cubes must fit perfectly without remainders or \n",
       "fractions, we find a combination. Thus, we can determine that:\n",
       "\n",
       "A solution is:\n",
       "- Cube \u001b[1;36m1\u001b[0m: side length \\\u001b[1m(\u001b[0m a = \u001b[1;36m1\u001b[0m \\\u001b[1m)\u001b[0m inch \u001b[1m(\u001b[0mVolume = \\\u001b[1m(\u001b[0m \u001b[1;36m1\u001b[0m^\u001b[1;36m3\u001b[0m = \u001b[1;36m1\u001b[0m \\\u001b[1m)\u001b[0m cubic inch\u001b[1m)\u001b[0m\n",
       "- Cube \u001b[1;36m2\u001b[0m: side length \\\u001b[1m(\u001b[0m b = \u001b[1;36m2\u001b[0m \\\u001b[1m)\u001b[0m inches \u001b[1m(\u001b[0mVolume = \\\u001b[1m(\u001b[0m \u001b[1;36m2\u001b[0m^\u001b[1;36m3\u001b[0m = \u001b[1;36m8\u001b[0m \\\u001b[1m)\u001b[0m cubic inches\u001b[1m)\u001b[0m\n",
       "- Total volume = \\\u001b[1m(\u001b[0m \u001b[1;36m1\u001b[0m^\u001b[1;36m3\u001b[0m + \u001b[1;36m2\u001b[0m^\u001b[1;36m3\u001b[0m = \u001b[1;36m1\u001b[0m + \u001b[1;36m8\u001b[0m = \u001b[1;36m9\u001b[0m \\\u001b[1m)\u001b[0m, which does not work.\n",
       "\n",
       "Thus, the dimensions that work would be where \\\u001b[1m(\u001b[0m a = \u001b[1;36m1\u001b[0m \\\u001b[1m)\u001b[0m and \\\u001b[1m(\u001b[0m b = \u001b[1;36m3\u001b[0m \\\u001b[1m)\u001b[0m:\n",
       "-\n"
      ]
     },
     "metadata": {},
     "output_type": "display_data"
    }
   ],
   "source": [
    "#  Path to image file\n",
    "image_path = \"imgs/squirepuzzle.jpg\"\n",
    "\n",
    "caption = get_image_caption(image_path, prompt)\n",
    "\n",
    "rprint(caption) # print the caption"
   ]
  },
  {
   "cell_type": "markdown",
   "id": "b777ab60",
   "metadata": {},
   "source": [
    "Code to solve ARC-AGI 2 problem\n",
    "\n",
    "https://arcprize.org/blog/announcing-arc-agi-2-and-arc-prize-2025"
   ]
  },
  {
   "cell_type": "code",
   "execution_count": null,
   "id": "1046d093",
   "metadata": {},
   "outputs": [],
   "source": [
    "prompt = (\"You are an intelligent solver of puzzles. \" \n",
    "\"Your job is to solve a puzzle (ARC-AGI 2). This is the Abstraction and Reasoning Corpus 2. The puzzle is given to you as an image \" \n",
    "\"and you need to provide the solution in text format. \"\n",
    "\"Please provide the solution in a clear and concise manner. \"\n",
    "\"Make sure to include all necessary details in the solution. \"\n",
    "\"Feel free to make any inferences you need to. \"\n",
    ")"
   ]
  },
  {
   "cell_type": "code",
   "execution_count": null,
   "id": "5d043036",
   "metadata": {},
   "outputs": [
    {
     "ename": "KeyError",
     "evalue": "'choices'",
     "output_type": "error",
     "traceback": [
      "\u001b[31m---------------------------------------------------------------------------\u001b[39m",
      "\u001b[31mKeyError\u001b[39m                                  Traceback (most recent call last)",
      "\u001b[36mCell\u001b[39m\u001b[36m \u001b[39m\u001b[32mIn[30]\u001b[39m\u001b[32m, line 4\u001b[39m\n\u001b[32m      1\u001b[39m \u001b[38;5;66;03m#  Path to image file\u001b[39;00m\n\u001b[32m      2\u001b[39m image_path = \u001b[33m\"\u001b[39m\u001b[33mimgs/arcagi2.png\u001b[39m\u001b[33m\"\u001b[39m\n\u001b[32m----> \u001b[39m\u001b[32m4\u001b[39m caption = \u001b[43mget_image_caption\u001b[49m\u001b[43m(\u001b[49m\u001b[43mimage_path\u001b[49m\u001b[43m,\u001b[49m\u001b[43m \u001b[49m\u001b[43mprompt\u001b[49m\u001b[43m)\u001b[49m\n\u001b[32m      6\u001b[39m rprint(caption) \u001b[38;5;66;03m# print the caption\u001b[39;00m\n",
      "\u001b[36mCell\u001b[39m\u001b[36m \u001b[39m\u001b[32mIn[17]\u001b[39m\u001b[32m, line 37\u001b[39m, in \u001b[36mget_image_caption\u001b[39m\u001b[34m(image_path, prompt)\u001b[39m\n\u001b[32m     13\u001b[39m payload = {\n\u001b[32m     14\u001b[39m   \u001b[33m\"\u001b[39m\u001b[33mmodel\u001b[39m\u001b[33m\"\u001b[39m: \u001b[33m\"\u001b[39m\u001b[33mgpt-4o-mini\u001b[39m\u001b[33m\"\u001b[39m,\n\u001b[32m     15\u001b[39m   \u001b[33m\"\u001b[39m\u001b[33mmessages\u001b[39m\u001b[33m\"\u001b[39m: [\n\u001b[32m   (...)\u001b[39m\u001b[32m     32\u001b[39m   \u001b[33m\"\u001b[39m\u001b[33mmax_tokens\u001b[39m\u001b[33m\"\u001b[39m: \u001b[32m512\u001b[39m\n\u001b[32m     33\u001b[39m }\n\u001b[32m     35\u001b[39m response = requests.post(\u001b[33m\"\u001b[39m\u001b[33mhttps://api.openai.com/v1/chat/completions\u001b[39m\u001b[33m\"\u001b[39m, headers=headers, json=payload)\n\u001b[32m---> \u001b[39m\u001b[32m37\u001b[39m \u001b[38;5;28;01mreturn\u001b[39;00m \u001b[43mresponse\u001b[49m\u001b[43m.\u001b[49m\u001b[43mjson\u001b[49m\u001b[43m(\u001b[49m\u001b[43m)\u001b[49m\u001b[43m[\u001b[49m\u001b[33;43m'\u001b[39;49m\u001b[33;43mchoices\u001b[39;49m\u001b[33;43m'\u001b[39;49m\u001b[43m]\u001b[49m[\u001b[32m0\u001b[39m][\u001b[33m'\u001b[39m\u001b[33mmessage\u001b[39m\u001b[33m'\u001b[39m][\u001b[33m'\u001b[39m\u001b[33mcontent\u001b[39m\u001b[33m'\u001b[39m]\n",
      "\u001b[31mKeyError\u001b[39m: 'choices'"
     ]
    }
   ],
   "source": [
    "#  Path to image file\n",
    "image_path = \"imgs/arcagi2.png\"\n",
    "\n",
    "caption = get_image_caption(image_path, prompt)\n",
    "\n",
    "rprint(caption) # print the caption"
   ]
  }
 ],
 "metadata": {
  "kernelspec": {
   "display_name": "Python 3",
   "language": "python",
   "name": "python3"
  },
  "language_info": {
   "codemirror_mode": {
    "name": "ipython",
    "version": 3
   },
   "file_extension": ".py",
   "mimetype": "text/x-python",
   "name": "python",
   "nbconvert_exporter": "python",
   "pygments_lexer": "ipython3",
   "version": "3.12.1"
  }
 },
 "nbformat": 4,
 "nbformat_minor": 5
}
