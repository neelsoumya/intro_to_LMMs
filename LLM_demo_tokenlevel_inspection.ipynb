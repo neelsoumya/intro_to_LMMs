{
  "nbformat": 4,
  "nbformat_minor": 0,
  "metadata": {
    "colab": {
      "provenance": [],
      "authorship_tag": "ABX9TyOtVfUAKI4t2hdlsJQT3fta",
      "include_colab_link": true
    },
    "kernelspec": {
      "name": "python3",
      "display_name": "Python 3"
    },
    "language_info": {
      "name": "python"
    }
  },
  "cells": [
    {
      "cell_type": "markdown",
      "metadata": {
        "id": "view-in-github",
        "colab_type": "text"
      },
      "source": [
        "<a href=\"https://colab.research.google.com/github/neelsoumya/intro_to_LMMs/blob/main/LLM_demo_tokenlevel_inspection.ipynb\" target=\"_parent\"><img src=\"https://colab.research.google.com/assets/colab-badge.svg\" alt=\"Open In Colab\"/></a>"
      ]
    },
    {
      "cell_type": "markdown",
      "source": [
        "# Lesson 1 — LLM demo & token-level inspection\n",
        "This notebook demonstrates a small causal LM (`distilgpt2`), shows tokenization, inspects logits to compute next-token probabilities, and performs a simple generation loop that prints token probabilities as it generates.\n",
        "\n",
        "**Notes**\n",
        "- Run the installation cell first.\n",
        "- Optional: Runtime → Change runtime type → GPU for faster generation.\n"
      ],
      "metadata": {
        "id": "wmCuXDDka57G"
      }
    },
    {
      "cell_type": "code",
      "execution_count": 1,
      "metadata": {
        "id": "bYIsIHZya0IV"
      },
      "outputs": [],
      "source": [
        "# Colab cell: install dependencies (run once)\n",
        "!pip install -q transformers torch\n"
      ]
    },
    {
      "cell_type": "code",
      "source": [
        "# Colab cell: imports and helper utilities\n",
        "from transformers import AutoTokenizer, AutoModelForCausalLM\n",
        "import torch\n",
        "import torch.nn.functional as F\n",
        "\n",
        "device = \"cuda\" if torch.cuda.is_available() else \"cpu\"\n",
        "print(\"Using device:\", device)\n"
      ],
      "metadata": {
        "colab": {
          "base_uri": "https://localhost:8080/"
        },
        "id": "KBcGUG5Oa_cM",
        "outputId": "31e2431a-711d-4ec7-92a5-1428022955d0"
      },
      "execution_count": 2,
      "outputs": [
        {
          "output_type": "stream",
          "name": "stdout",
          "text": [
            "Using device: cpu\n"
          ]
        }
      ]
    },
    {
      "cell_type": "code",
      "source": [
        "# Colab cell: load tokenizer and model (small, fast)\n",
        "MODEL = \"distilgpt2\"  # small GPT-like model useful for demos\n",
        "tokenizer = AutoTokenizer.from_pretrained(MODEL)\n",
        "model = AutoModelForCausalLM.from_pretrained(MODEL, output_attentions=False).to(device)\n",
        "model.eval()\n"
      ],
      "metadata": {
        "id": "WXRNfu_zbB12"
      },
      "execution_count": 2,
      "outputs": []
    },
    {
      "cell_type": "code",
      "source": [
        "# Colab cell: helper to show top-k next-token probs\n",
        "def topk_next_token_probs(text, k=8):\n",
        "    # Tokenize\n",
        "    enc = tokenizer(text, return_tensors=\"pt\").to(device)\n",
        "    input_ids = enc[\"input_ids\"]\n",
        "    with torch.no_grad():\n",
        "        outputs = model(input_ids)\n",
        "        # logits shape: (batch, seq_len, vocab)\n",
        "        logits = outputs.logits\n",
        "    last_logits = logits[0, -1]  # final token logits\n",
        "    probs = F.softmax(last_logits, dim=-1)\n",
        "    topk = torch.topk(probs, k)\n",
        "    tokens = [tokenizer.decode([int(t)]) for t in topk.indices]\n",
        "    scores = [float(s) for s in topk.values]\n",
        "    return list(zip(tokens, scores))\n",
        "\n",
        "# Example\n",
        "prompt = \"In the near future, scientists discovered\"\n",
        "print(\"Prompt:\", prompt)\n",
        "for token, score in topk_next_token_probs(prompt, k=10):\n",
        "    print(f\"{token!r}: {score:.4f}\")\n"
      ],
      "metadata": {
        "colab": {
          "base_uri": "https://localhost:8080/",
          "height": 332
        },
        "id": "ZVc5Hp5SbJaS",
        "outputId": "e7c696a5-f4d2-485e-e29d-f5727fad868e"
      },
      "execution_count": 3,
      "outputs": [
        {
          "output_type": "stream",
          "name": "stdout",
          "text": [
            "Prompt: In the near future, scientists discovered\n"
          ]
        },
        {
          "output_type": "error",
          "ename": "NameError",
          "evalue": "name 'tokenizer' is not defined",
          "traceback": [
            "\u001b[0;31m---------------------------------------------------------------------------\u001b[0m",
            "\u001b[0;31mNameError\u001b[0m                                 Traceback (most recent call last)",
            "\u001b[0;32m/tmp/ipython-input-377031651.py\u001b[0m in \u001b[0;36m<cell line: 0>\u001b[0;34m()\u001b[0m\n\u001b[1;32m     18\u001b[0m \u001b[0mprompt\u001b[0m \u001b[0;34m=\u001b[0m \u001b[0;34m\"In the near future, scientists discovered\"\u001b[0m\u001b[0;34m\u001b[0m\u001b[0;34m\u001b[0m\u001b[0m\n\u001b[1;32m     19\u001b[0m \u001b[0mprint\u001b[0m\u001b[0;34m(\u001b[0m\u001b[0;34m\"Prompt:\"\u001b[0m\u001b[0;34m,\u001b[0m \u001b[0mprompt\u001b[0m\u001b[0;34m)\u001b[0m\u001b[0;34m\u001b[0m\u001b[0;34m\u001b[0m\u001b[0m\n\u001b[0;32m---> 20\u001b[0;31m \u001b[0;32mfor\u001b[0m \u001b[0mtoken\u001b[0m\u001b[0;34m,\u001b[0m \u001b[0mscore\u001b[0m \u001b[0;32min\u001b[0m \u001b[0mtopk_next_token_probs\u001b[0m\u001b[0;34m(\u001b[0m\u001b[0mprompt\u001b[0m\u001b[0;34m,\u001b[0m \u001b[0mk\u001b[0m\u001b[0;34m=\u001b[0m\u001b[0;36m10\u001b[0m\u001b[0;34m)\u001b[0m\u001b[0;34m:\u001b[0m\u001b[0;34m\u001b[0m\u001b[0;34m\u001b[0m\u001b[0m\n\u001b[0m\u001b[1;32m     21\u001b[0m     \u001b[0mprint\u001b[0m\u001b[0;34m(\u001b[0m\u001b[0;34mf\"{token!r}: {score:.4f}\"\u001b[0m\u001b[0;34m)\u001b[0m\u001b[0;34m\u001b[0m\u001b[0;34m\u001b[0m\u001b[0m\n",
            "\u001b[0;32m/tmp/ipython-input-377031651.py\u001b[0m in \u001b[0;36mtopk_next_token_probs\u001b[0;34m(text, k)\u001b[0m\n\u001b[1;32m      2\u001b[0m \u001b[0;32mdef\u001b[0m \u001b[0mtopk_next_token_probs\u001b[0m\u001b[0;34m(\u001b[0m\u001b[0mtext\u001b[0m\u001b[0;34m,\u001b[0m \u001b[0mk\u001b[0m\u001b[0;34m=\u001b[0m\u001b[0;36m8\u001b[0m\u001b[0;34m)\u001b[0m\u001b[0;34m:\u001b[0m\u001b[0;34m\u001b[0m\u001b[0;34m\u001b[0m\u001b[0m\n\u001b[1;32m      3\u001b[0m     \u001b[0;31m# Tokenize\u001b[0m\u001b[0;34m\u001b[0m\u001b[0;34m\u001b[0m\u001b[0m\n\u001b[0;32m----> 4\u001b[0;31m     \u001b[0menc\u001b[0m \u001b[0;34m=\u001b[0m \u001b[0mtokenizer\u001b[0m\u001b[0;34m(\u001b[0m\u001b[0mtext\u001b[0m\u001b[0;34m,\u001b[0m \u001b[0mreturn_tensors\u001b[0m\u001b[0;34m=\u001b[0m\u001b[0;34m\"pt\"\u001b[0m\u001b[0;34m)\u001b[0m\u001b[0;34m.\u001b[0m\u001b[0mto\u001b[0m\u001b[0;34m(\u001b[0m\u001b[0mdevice\u001b[0m\u001b[0;34m)\u001b[0m\u001b[0;34m\u001b[0m\u001b[0;34m\u001b[0m\u001b[0m\n\u001b[0m\u001b[1;32m      5\u001b[0m     \u001b[0minput_ids\u001b[0m \u001b[0;34m=\u001b[0m \u001b[0menc\u001b[0m\u001b[0;34m[\u001b[0m\u001b[0;34m\"input_ids\"\u001b[0m\u001b[0;34m]\u001b[0m\u001b[0;34m\u001b[0m\u001b[0;34m\u001b[0m\u001b[0m\n\u001b[1;32m      6\u001b[0m     \u001b[0;32mwith\u001b[0m \u001b[0mtorch\u001b[0m\u001b[0;34m.\u001b[0m\u001b[0mno_grad\u001b[0m\u001b[0;34m(\u001b[0m\u001b[0;34m)\u001b[0m\u001b[0;34m:\u001b[0m\u001b[0;34m\u001b[0m\u001b[0;34m\u001b[0m\u001b[0m\n",
            "\u001b[0;31mNameError\u001b[0m: name 'tokenizer' is not defined"
          ]
        }
      ]
    },
    {
      "cell_type": "code",
      "source": [
        "# Colab cell: step-by-step generation with probabilities (greedy sampling)\n",
        "def generate_stepwise(prompt, max_new_tokens=10):\n",
        "    input_ids = tokenizer(prompt, return_tensors=\"pt\").to(device)[\"input_ids\"]\n",
        "    generated = input_ids.clone()\n",
        "    for step in range(max_new_tokens):\n",
        "        with torch.no_grad():\n",
        "            outputs = model(generated)\n",
        "            logits = outputs.logits\n",
        "        last_logits = logits[0, -1]\n",
        "        probs = F.softmax(last_logits, dim=-1)\n",
        "        topk = torch.topk(probs, 5)\n",
        "        # Show top-5 choices for this step\n",
        "        choices = [(tokenizer.decode([int(idx)]), float(prob)) for idx, prob in zip(topk.indices, topk.values)]\n",
        "        print(f\"\\nStep {step+1} — top 5 candidates:\")\n",
        "        for tkn, p in choices:\n",
        "            print(f\"  {tkn!r}: {p:.4f}\")\n",
        "        # greedy next token (for demo stability)\n",
        "        next_token = torch.argmax(last_logits).unsqueeze(0).unsqueeze(0)\n",
        "        generated = torch.cat([generated, next_token], dim=1)\n",
        "    out = tokenizer.decode(generated[0], skip_special_tokens=True)\n",
        "    return out\n",
        "\n",
        "# Run demo generation\n",
        "print(\"\\n=== Generation Demo ===\")\n",
        "print(generate_stepwise(\"The study shows that\", max_new_tokens=8))\n"
      ],
      "metadata": {
        "colab": {
          "base_uri": "https://localhost:8080/",
          "height": 332
        },
        "id": "HfIC50iZbOFq",
        "outputId": "7f421daa-b370-4a99-d99b-4deeb9bf5563"
      },
      "execution_count": 4,
      "outputs": [
        {
          "output_type": "stream",
          "name": "stdout",
          "text": [
            "\n",
            "=== Generation Demo ===\n"
          ]
        },
        {
          "output_type": "error",
          "ename": "NameError",
          "evalue": "name 'tokenizer' is not defined",
          "traceback": [
            "\u001b[0;31m---------------------------------------------------------------------------\u001b[0m",
            "\u001b[0;31mNameError\u001b[0m                                 Traceback (most recent call last)",
            "\u001b[0;32m/tmp/ipython-input-3946825256.py\u001b[0m in \u001b[0;36m<cell line: 0>\u001b[0;34m()\u001b[0m\n\u001b[1;32m     23\u001b[0m \u001b[0;31m# Run demo generation\u001b[0m\u001b[0;34m\u001b[0m\u001b[0;34m\u001b[0m\u001b[0m\n\u001b[1;32m     24\u001b[0m \u001b[0mprint\u001b[0m\u001b[0;34m(\u001b[0m\u001b[0;34m\"\\n=== Generation Demo ===\"\u001b[0m\u001b[0;34m)\u001b[0m\u001b[0;34m\u001b[0m\u001b[0;34m\u001b[0m\u001b[0m\n\u001b[0;32m---> 25\u001b[0;31m \u001b[0mprint\u001b[0m\u001b[0;34m(\u001b[0m\u001b[0mgenerate_stepwise\u001b[0m\u001b[0;34m(\u001b[0m\u001b[0;34m\"The study shows that\"\u001b[0m\u001b[0;34m,\u001b[0m \u001b[0mmax_new_tokens\u001b[0m\u001b[0;34m=\u001b[0m\u001b[0;36m8\u001b[0m\u001b[0;34m)\u001b[0m\u001b[0;34m)\u001b[0m\u001b[0;34m\u001b[0m\u001b[0;34m\u001b[0m\u001b[0m\n\u001b[0m",
            "\u001b[0;32m/tmp/ipython-input-3946825256.py\u001b[0m in \u001b[0;36mgenerate_stepwise\u001b[0;34m(prompt, max_new_tokens)\u001b[0m\n\u001b[1;32m      1\u001b[0m \u001b[0;31m# Colab cell: step-by-step generation with probabilities (greedy sampling)\u001b[0m\u001b[0;34m\u001b[0m\u001b[0;34m\u001b[0m\u001b[0m\n\u001b[1;32m      2\u001b[0m \u001b[0;32mdef\u001b[0m \u001b[0mgenerate_stepwise\u001b[0m\u001b[0;34m(\u001b[0m\u001b[0mprompt\u001b[0m\u001b[0;34m,\u001b[0m \u001b[0mmax_new_tokens\u001b[0m\u001b[0;34m=\u001b[0m\u001b[0;36m10\u001b[0m\u001b[0;34m)\u001b[0m\u001b[0;34m:\u001b[0m\u001b[0;34m\u001b[0m\u001b[0;34m\u001b[0m\u001b[0m\n\u001b[0;32m----> 3\u001b[0;31m     \u001b[0minput_ids\u001b[0m \u001b[0;34m=\u001b[0m \u001b[0mtokenizer\u001b[0m\u001b[0;34m(\u001b[0m\u001b[0mprompt\u001b[0m\u001b[0;34m,\u001b[0m \u001b[0mreturn_tensors\u001b[0m\u001b[0;34m=\u001b[0m\u001b[0;34m\"pt\"\u001b[0m\u001b[0;34m)\u001b[0m\u001b[0;34m.\u001b[0m\u001b[0mto\u001b[0m\u001b[0;34m(\u001b[0m\u001b[0mdevice\u001b[0m\u001b[0;34m)\u001b[0m\u001b[0;34m[\u001b[0m\u001b[0;34m\"input_ids\"\u001b[0m\u001b[0;34m]\u001b[0m\u001b[0;34m\u001b[0m\u001b[0;34m\u001b[0m\u001b[0m\n\u001b[0m\u001b[1;32m      4\u001b[0m     \u001b[0mgenerated\u001b[0m \u001b[0;34m=\u001b[0m \u001b[0minput_ids\u001b[0m\u001b[0;34m.\u001b[0m\u001b[0mclone\u001b[0m\u001b[0;34m(\u001b[0m\u001b[0;34m)\u001b[0m\u001b[0;34m\u001b[0m\u001b[0;34m\u001b[0m\u001b[0m\n\u001b[1;32m      5\u001b[0m     \u001b[0;32mfor\u001b[0m \u001b[0mstep\u001b[0m \u001b[0;32min\u001b[0m \u001b[0mrange\u001b[0m\u001b[0;34m(\u001b[0m\u001b[0mmax_new_tokens\u001b[0m\u001b[0;34m)\u001b[0m\u001b[0;34m:\u001b[0m\u001b[0;34m\u001b[0m\u001b[0;34m\u001b[0m\u001b[0m\n",
            "\u001b[0;31mNameError\u001b[0m: name 'tokenizer' is not defined"
          ]
        }
      ]
    },
    {
      "cell_type": "markdown",
      "source": [
        "## Exercises / classroom prompts\n",
        "1. Change the prompt and observe how top-k probabilities change.  \n",
        "2. Replace greedy selection with sampling (use `torch.multinomial`) to see varied outputs.  \n",
        "3. Print token ids and decoded tokens for the input to see how tokenization works:\n",
        "   - `tokenizer.encode(prompt)` and `tokenizer.decode([id1, id2, ...])`.\n"
      ],
      "metadata": {
        "id": "tUUcGSYfbSAS"
      }
    }
  ]
}