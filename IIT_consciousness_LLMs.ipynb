{
  "nbformat": 4,
  "nbformat_minor": 0,
  "metadata": {
    "colab": {
      "provenance": [],
      "authorship_tag": "ABX9TyMhk/JleJOcrjpUhVtbrv3d",
      "include_colab_link": true
    },
    "kernelspec": {
      "name": "python3",
      "display_name": "Python 3"
    },
    "language_info": {
      "name": "python"
    }
  },
  "cells": [
    {
      "cell_type": "markdown",
      "metadata": {
        "id": "view-in-github",
        "colab_type": "text"
      },
      "source": [
        "<a href=\"https://colab.research.google.com/github/neelsoumya/intro_to_LMMs/blob/main/IIT_consciousness_LLMs.ipynb\" target=\"_parent\"><img src=\"https://colab.research.google.com/assets/colab-badge.svg\" alt=\"Open In Colab\"/></a>"
      ]
    },
    {
      "cell_type": "code",
      "source": [
        "pip install pyphi\n"
      ],
      "metadata": {
        "colab": {
          "base_uri": "https://localhost:8080/"
        },
        "id": "6MZ-_Ifk8jY5",
        "outputId": "b3f70a36-a976-4fcb-db21-4d241b0683eb"
      },
      "execution_count": 3,
      "outputs": [
        {
          "output_type": "stream",
          "name": "stdout",
          "text": [
            "Collecting pyphi\n",
            "  Downloading pyphi-1.2.0-py3-none-any.whl.metadata (7.8 kB)\n",
            "Requirement already satisfied: decorator>=4.0.0 in /usr/local/lib/python3.11/dist-packages (from pyphi) (4.4.2)\n",
            "Requirement already satisfied: joblib>=0.8.0 in /usr/local/lib/python3.11/dist-packages (from pyphi) (1.5.1)\n",
            "Requirement already satisfied: numpy>=1.11.0 in /usr/local/lib/python3.11/dist-packages (from pyphi) (2.0.2)\n",
            "Requirement already satisfied: psutil>=2.1.1 in /usr/local/lib/python3.11/dist-packages (from pyphi) (5.9.5)\n",
            "Collecting pyemd>=0.3.0 (from pyphi)\n",
            "  Downloading pyemd-1.0.0-cp311-cp311-manylinux_2_17_x86_64.manylinux2014_x86_64.whl.metadata (9.6 kB)\n",
            "Collecting pymongo>=2.7.1 (from pyphi)\n",
            "  Downloading pymongo-4.13.1-cp311-cp311-manylinux_2_17_x86_64.manylinux2014_x86_64.whl.metadata (22 kB)\n",
            "Requirement already satisfied: pyyaml>=3.13 in /usr/local/lib/python3.11/dist-packages (from pyphi) (6.0.2)\n",
            "Collecting redis>=2.10.5 (from pyphi)\n",
            "  Downloading redis-6.2.0-py3-none-any.whl.metadata (10 kB)\n",
            "Requirement already satisfied: scipy>=0.13.3 in /usr/local/lib/python3.11/dist-packages (from pyphi) (1.15.3)\n",
            "Requirement already satisfied: tblib>=1.3.2 in /usr/local/lib/python3.11/dist-packages (from pyphi) (3.1.0)\n",
            "Requirement already satisfied: tqdm>=4.20.0 in /usr/local/lib/python3.11/dist-packages (from pyphi) (4.67.1)\n",
            "Collecting dnspython<3.0.0,>=1.16.0 (from pymongo>=2.7.1->pyphi)\n",
            "  Downloading dnspython-2.7.0-py3-none-any.whl.metadata (5.8 kB)\n",
            "Downloading pyphi-1.2.0-py3-none-any.whl (619 kB)\n",
            "\u001b[2K   \u001b[90m━━━━━━━━━━━━━━━━━━━━━━━━━━━━━━━━━━━━━━━━\u001b[0m \u001b[32m619.6/619.6 kB\u001b[0m \u001b[31m16.3 MB/s\u001b[0m eta \u001b[36m0:00:00\u001b[0m\n",
            "\u001b[?25hDownloading pyemd-1.0.0-cp311-cp311-manylinux_2_17_x86_64.manylinux2014_x86_64.whl (666 kB)\n",
            "\u001b[2K   \u001b[90m━━━━━━━━━━━━━━━━━━━━━━━━━━━━━━━━━━━━━━━━\u001b[0m \u001b[32m666.6/666.6 kB\u001b[0m \u001b[31m36.7 MB/s\u001b[0m eta \u001b[36m0:00:00\u001b[0m\n",
            "\u001b[?25hDownloading pymongo-4.13.1-cp311-cp311-manylinux_2_17_x86_64.manylinux2014_x86_64.whl (1.4 MB)\n",
            "\u001b[2K   \u001b[90m━━━━━━━━━━━━━━━━━━━━━━━━━━━━━━━━━━━━━━━━\u001b[0m \u001b[32m1.4/1.4 MB\u001b[0m \u001b[31m56.1 MB/s\u001b[0m eta \u001b[36m0:00:00\u001b[0m\n",
            "\u001b[?25hDownloading redis-6.2.0-py3-none-any.whl (278 kB)\n",
            "\u001b[2K   \u001b[90m━━━━━━━━━━━━━━━━━━━━━━━━━━━━━━━━━━━━━━━━\u001b[0m \u001b[32m278.7/278.7 kB\u001b[0m \u001b[31m19.9 MB/s\u001b[0m eta \u001b[36m0:00:00\u001b[0m\n",
            "\u001b[?25hDownloading dnspython-2.7.0-py3-none-any.whl (313 kB)\n",
            "\u001b[2K   \u001b[90m━━━━━━━━━━━━━━━━━━━━━━━━━━━━━━━━━━━━━━━━\u001b[0m \u001b[32m313.6/313.6 kB\u001b[0m \u001b[31m18.9 MB/s\u001b[0m eta \u001b[36m0:00:00\u001b[0m\n",
            "\u001b[?25hInstalling collected packages: redis, pyemd, dnspython, pymongo, pyphi\n",
            "Successfully installed dnspython-2.7.0 pyemd-1.0.0 pymongo-4.13.1 pyphi-1.2.0 redis-6.2.0\n"
          ]
        }
      ]
    },
    {
      "cell_type": "code",
      "execution_count": 4,
      "metadata": {
        "colab": {
          "base_uri": "https://localhost:8080/",
          "height": 530
        },
        "id": "7LWmt-3N8BZ8",
        "outputId": "8c29f48d-dccb-40a5-b8fe-66aece8c07ea"
      },
      "outputs": [
        {
          "output_type": "error",
          "ename": "ImportError",
          "evalue": "cannot import name 'Iterable' from 'collections' (/usr/lib/python3.11/collections/__init__.py)",
          "traceback": [
            "\u001b[0;31m---------------------------------------------------------------------------\u001b[0m",
            "\u001b[0;31mImportError\u001b[0m                               Traceback (most recent call last)",
            "\u001b[0;32m<ipython-input-4-3243594540>\u001b[0m in \u001b[0;36m<cell line: 0>\u001b[0;34m()\u001b[0m\n\u001b[1;32m      2\u001b[0m \u001b[0;32mfrom\u001b[0m \u001b[0mtransformers\u001b[0m \u001b[0;32mimport\u001b[0m \u001b[0mAutoModelForCausalLM\u001b[0m\u001b[0;34m,\u001b[0m \u001b[0mAutoTokenizer\u001b[0m\u001b[0;34m\u001b[0m\u001b[0;34m\u001b[0m\u001b[0m\n\u001b[1;32m      3\u001b[0m \u001b[0;32mimport\u001b[0m \u001b[0mnumpy\u001b[0m \u001b[0;32mas\u001b[0m \u001b[0mnp\u001b[0m\u001b[0;34m\u001b[0m\u001b[0;34m\u001b[0m\u001b[0m\n\u001b[0;32m----> 4\u001b[0;31m \u001b[0;32mimport\u001b[0m \u001b[0mpyphi\u001b[0m\u001b[0;34m\u001b[0m\u001b[0;34m\u001b[0m\u001b[0m\n\u001b[0m\u001b[1;32m      5\u001b[0m \u001b[0;34m\u001b[0m\u001b[0m\n\u001b[1;32m      6\u001b[0m \u001b[0;31m# 1. Configuration\u001b[0m\u001b[0;34m\u001b[0m\u001b[0;34m\u001b[0m\u001b[0m\n",
            "\u001b[0;32m/usr/local/lib/python3.11/dist-packages/pyphi/__init__.py\u001b[0m in \u001b[0;36m<module>\u001b[0;34m\u001b[0m\n\u001b[1;32m     76\u001b[0m \u001b[0;34m\u001b[0m\u001b[0m\n\u001b[1;32m     77\u001b[0m \u001b[0;32mfrom\u001b[0m \u001b[0;34m.\u001b[0m\u001b[0mdirection\u001b[0m \u001b[0;32mimport\u001b[0m \u001b[0mDirection\u001b[0m\u001b[0;34m\u001b[0m\u001b[0;34m\u001b[0m\u001b[0m\n\u001b[0;32m---> 78\u001b[0;31m from . import (actual, constants, convert, db, examples, jsonify, macro,\n\u001b[0m\u001b[1;32m     79\u001b[0m                models, network, node, subsystem, utils, validate)\n\u001b[1;32m     80\u001b[0m \u001b[0;32mfrom\u001b[0m \u001b[0;34m.\u001b[0m\u001b[0mnetwork\u001b[0m \u001b[0;32mimport\u001b[0m \u001b[0mNetwork\u001b[0m\u001b[0;34m\u001b[0m\u001b[0;34m\u001b[0m\u001b[0m\n",
            "\u001b[0;32m/usr/local/lib/python3.11/dist-packages/pyphi/actual.py\u001b[0m in \u001b[0;36m<module>\u001b[0;34m\u001b[0m\n\u001b[1;32m     26\u001b[0m \u001b[0;32mimport\u001b[0m \u001b[0mnumpy\u001b[0m \u001b[0;32mas\u001b[0m \u001b[0mnp\u001b[0m\u001b[0;34m\u001b[0m\u001b[0;34m\u001b[0m\u001b[0m\n\u001b[1;32m     27\u001b[0m \u001b[0;34m\u001b[0m\u001b[0m\n\u001b[0;32m---> 28\u001b[0;31m from . import (Direction, compute, config, connectivity, constants, exceptions,\n\u001b[0m\u001b[1;32m     29\u001b[0m                utils, validate)\n\u001b[1;32m     30\u001b[0m from .models import (Account, AcRepertoireIrreducibilityAnalysis,\n",
            "\u001b[0;32m/usr/local/lib/python3.11/dist-packages/pyphi/compute/__init__.py\u001b[0m in \u001b[0;36m<module>\u001b[0;34m\u001b[0m\n\u001b[1;32m     27\u001b[0m \u001b[0;31m# pylint: disable=unused-import\u001b[0m\u001b[0;34m\u001b[0m\u001b[0;34m\u001b[0m\u001b[0m\n\u001b[1;32m     28\u001b[0m \u001b[0;34m\u001b[0m\u001b[0m\n\u001b[0;32m---> 29\u001b[0;31m from .subsystem import (sia, phi, evaluate_cut, ConceptStyleSystem,\n\u001b[0m\u001b[1;32m     30\u001b[0m                         \u001b[0msia_concept_style\u001b[0m\u001b[0;34m,\u001b[0m \u001b[0mconcept_cuts\u001b[0m\u001b[0;34m,\u001b[0m\u001b[0;34m\u001b[0m\u001b[0;34m\u001b[0m\u001b[0m\n\u001b[1;32m     31\u001b[0m                         \u001b[0mSystemIrreducibilityAnalysisConceptStyle\u001b[0m\u001b[0;34m,\u001b[0m\u001b[0;34m\u001b[0m\u001b[0;34m\u001b[0m\u001b[0m\n",
            "\u001b[0;32m/usr/local/lib/python3.11/dist-packages/pyphi/compute/subsystem.py\u001b[0m in \u001b[0;36m<module>\u001b[0;34m\u001b[0m\n\u001b[1;32m     10\u001b[0m \u001b[0;32mimport\u001b[0m \u001b[0mlogging\u001b[0m\u001b[0;34m\u001b[0m\u001b[0;34m\u001b[0m\u001b[0m\n\u001b[1;32m     11\u001b[0m \u001b[0;34m\u001b[0m\u001b[0m\n\u001b[0;32m---> 12\u001b[0;31m \u001b[0;32mfrom\u001b[0m \u001b[0;34m.\u001b[0m\u001b[0;34m.\u001b[0m \u001b[0;32mimport\u001b[0m \u001b[0mDirection\u001b[0m\u001b[0;34m,\u001b[0m \u001b[0mconfig\u001b[0m\u001b[0;34m,\u001b[0m \u001b[0mconnectivity\u001b[0m\u001b[0;34m,\u001b[0m \u001b[0mmemory\u001b[0m\u001b[0;34m,\u001b[0m \u001b[0mutils\u001b[0m\u001b[0;34m\u001b[0m\u001b[0;34m\u001b[0m\u001b[0m\n\u001b[0m\u001b[1;32m     13\u001b[0m from ..models import (CauseEffectStructure, Concept, Cut, KCut,\n\u001b[1;32m     14\u001b[0m                       SystemIrreducibilityAnalysis, _null_sia, cmp, fmt)\n",
            "\u001b[0;32m/usr/local/lib/python3.11/dist-packages/pyphi/memory.py\u001b[0m in \u001b[0;36m<module>\u001b[0;34m\u001b[0m\n\u001b[1;32m     13\u001b[0m \u001b[0;32mimport\u001b[0m \u001b[0mjoblib\u001b[0m\u001b[0;34m.\u001b[0m\u001b[0mfunc_inspect\u001b[0m\u001b[0;34m\u001b[0m\u001b[0;34m\u001b[0m\u001b[0m\n\u001b[1;32m     14\u001b[0m \u001b[0;34m\u001b[0m\u001b[0m\n\u001b[0;32m---> 15\u001b[0;31m \u001b[0;32mfrom\u001b[0m \u001b[0;34m.\u001b[0m \u001b[0;32mimport\u001b[0m \u001b[0mconfig\u001b[0m\u001b[0;34m,\u001b[0m \u001b[0mconstants\u001b[0m\u001b[0;34m,\u001b[0m \u001b[0mdb\u001b[0m\u001b[0;34m\u001b[0m\u001b[0;34m\u001b[0m\u001b[0m\n\u001b[0m\u001b[1;32m     16\u001b[0m \u001b[0;34m\u001b[0m\u001b[0m\n\u001b[1;32m     17\u001b[0m \u001b[0;34m\u001b[0m\u001b[0m\n",
            "\u001b[0;32m/usr/local/lib/python3.11/dist-packages/pyphi/db.py\u001b[0m in \u001b[0;36m<module>\u001b[0;34m\u001b[0m\n\u001b[1;32m      8\u001b[0m \u001b[0;34m\u001b[0m\u001b[0m\n\u001b[1;32m      9\u001b[0m \u001b[0;32mimport\u001b[0m \u001b[0mpickle\u001b[0m\u001b[0;34m\u001b[0m\u001b[0;34m\u001b[0m\u001b[0m\n\u001b[0;32m---> 10\u001b[0;31m \u001b[0;32mfrom\u001b[0m \u001b[0mcollections\u001b[0m \u001b[0;32mimport\u001b[0m \u001b[0mIterable\u001b[0m\u001b[0;34m\u001b[0m\u001b[0;34m\u001b[0m\u001b[0m\n\u001b[0m\u001b[1;32m     11\u001b[0m \u001b[0;34m\u001b[0m\u001b[0m\n\u001b[1;32m     12\u001b[0m \u001b[0;32mimport\u001b[0m \u001b[0mpymongo\u001b[0m\u001b[0;34m\u001b[0m\u001b[0;34m\u001b[0m\u001b[0m\n",
            "\u001b[0;31mImportError\u001b[0m: cannot import name 'Iterable' from 'collections' (/usr/lib/python3.11/collections/__init__.py)",
            "",
            "\u001b[0;31m---------------------------------------------------------------------------\u001b[0;32m\nNOTE: If your import is failing due to a missing package, you can\nmanually install dependencies using either !pip or !apt.\n\nTo view examples of installing some common dependencies, click the\n\"Open Examples\" button below.\n\u001b[0;31m---------------------------------------------------------------------------\u001b[0m\n"
          ],
          "errorDetails": {
            "actions": [
              {
                "action": "open_url",
                "actionText": "Open Examples",
                "url": "/notebooks/snippets/importing_libraries.ipynb"
              }
            ]
          }
        }
      ],
      "source": [
        "\n",
        "import torch\n",
        "from transformers import AutoModelForCausalLM, AutoTokenizer\n",
        "import numpy as np\n",
        "import pyphi\n",
        "\n",
        "# 1. Configuration\n",
        "MODEL_NAME = 'EleutherAI/gpt-neo-125M'\n",
        "LAYER = 0               # which layer to probe (0-based)\n",
        "NUM_NODES = 8           # number of units to abstract\n",
        "STATE_BINS = 2          # binary states\n",
        "SAMPLES_PER_STATE = 100  # for TPM estimation\n",
        "\n",
        "# 2. Load model and tokenizer\n",
        "device = 'cuda' if torch.cuda.is_available() else 'cpu'\n",
        "model = AutoModelForCausalLM.from_pretrained(MODEL_NAME, output_hidden_states=True).to(device)\n",
        "tokenizer = AutoTokenizer.from_pretrained(MODEL_NAME)\n",
        "\n",
        "# 3. Select random nodes from the chosen layer\n",
        "with torch.no_grad():\n",
        "    # run a dummy forward to know hidden size\n",
        "    out = model(**tokenizer('Hello', return_tensors='pt').to(device))\n",
        "    hidden_size = out.hidden_states[LAYER].size(-1)\n",
        "\n",
        "elected_indices = np.random.choice(hidden_size, size=NUM_NODES, replace=False)\n",
        "print(f\"Probing layer {LAYER}, units: {elected_indices}\")\n",
        "\n",
        "# 4. Activation capture\n",
        "activations = []\n",
        "def hook_fn(module, inp, out):\n",
        "    # out: [batch, seq, hidden]\n",
        "    # reduce to mean over seq, select our nodes\n",
        "    vec = out.mean(dim=1)[0, elected_indices].cpu().numpy()\n",
        "    activations.append(vec)\n",
        "\n",
        "# attach to the feed-forward submodule\n",
        "ff = model.transformer.h[0].mlp\n",
        "hook = ff.register_forward_hook(hook_fn)\n",
        "\n",
        "# 5. Define prompts\n",
        "test_prompts = [\n",
        "    \"Hello, how are you?\",\n",
        "    \"The capital of France is\",\n",
        "    \"Once upon a time\",\n",
        "]\n",
        "\n",
        "# 6. Gather activations for each prompt to compute thresholds\n",
        "all_vals = []\n",
        "for prompt in test_prompts:\n",
        "    activations.clear()\n",
        "    inputs = tokenizer(prompt, return_tensors='pt').to(device)\n",
        "    _ = model(**inputs)\n",
        "    all_vals.append(np.stack(activations)[0])\n",
        "all_vals = np.stack(all_vals)\n",
        "# threshold: mean per node\n",
        "thresholds = all_vals.mean(axis=0)\n",
        "\n",
        "# 7. Discretization function\n",
        "def discretize(vec):\n",
        "    return (vec > thresholds).astype(int)\n",
        "\n",
        "# 8. TPM estimation\n",
        "# For each possible state vector, sample next-state distribution\n",
        "states = np.array([list(map(int, np.binary_repr(i, width=NUM_NODES)))\n",
        "                   for i in range(2**NUM_NODES)])\n",
        "tpm = np.zeros((2**NUM_NODES, 2**NUM_NODES))\n",
        "\n",
        "for i, s in enumerate(states):\n",
        "    # prepare dummy hidden by overwriting activations? Simplest: rejection sample\n",
        "    next_counts = np.zeros(2**NUM_NODES)\n",
        "    for _ in range(SAMPLES_PER_STATE):\n",
        "        # craft prompt + bias? here we simply sample model normally\n",
        "        activations.clear()\n",
        "        _ = model(**tokenizer(\"\\n\", return_tensors='pt').to(device))\n",
        "        vec = activations[0]\n",
        "        ds = discretize(vec)\n",
        "        idx = int(''.join(map(str, ds)), 2)\n",
        "        next_counts[idx] += 1\n",
        "    tpm[i] = next_counts / next_counts.sum()\n",
        "\n",
        "# 9. Compute integrated information Φ\n",
        "network = pyphi.Network(tpm, num_states=STATE_BINS)\n",
        "current_state = np.zeros(NUM_NODES, dtype=int)\n",
        "subsystem = pyphi.Subsystem(network, current_state)\n",
        "big_phi = pyphi.compute.big_phi(subsystem)\n",
        "print(f\"Φ (big phi) = {big_phi.phi}\")\n",
        "\n",
        "# 10. Cleanup\n",
        "hook.remove()\n"
      ]
    }
  ]
}