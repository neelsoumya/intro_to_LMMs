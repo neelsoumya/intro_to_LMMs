{
  "cells": [
    {
      "cell_type": "markdown",
      "metadata": {
        "id": "view-in-github",
        "colab_type": "text"
      },
      "source": [
        "<a href=\"https://colab.research.google.com/github/neelsoumya/intro_to_LMMs/blob/main/%5B1_1%5D_Transformer_from_Scratch_(solutions).ipynb\" target=\"_parent\"><img src=\"https://colab.research.google.com/assets/colab-badge.svg\" alt=\"Open In Colab\"/></a>"
      ]
    },
    {
      "cell_type": "markdown",
      "source": [
        "# [1.1] - Transformers from scratch\n"
      ],
      "metadata": {
        "id": "OT4NYsNfM1AQ"
      }
    },
    {
      "cell_type": "markdown",
      "metadata": {
        "id": "usCBu-Op2CeU"
      },
      "source": [
        "Colab: [exercises](https://colab.research.google.com/drive/1lDwKASSYGE4y_7DuGSqlo3DN41NHrXEw?usp=sharing) | [solutions](https://colab.research.google.com/drive/1bZkkJd8pAVnSN23svyszZ3f4WrnYKN_3?usp=sharing)\n",
        "\n",
        "[Streamlit page](https://arena3-chapter1-transformer-interp.streamlit.app/[1.1]_Transformer_from_Scratch)\n",
        "\n",
        "Please send any problems / bugs on the `#errata` channel in the [Slack group](https://join.slack.com/t/arena-uk/shared_invite/zt-2noug8mpy-TRYbCnc3pzj7ITNrZIjKww), and ask any questions on the dedicated channels for this chapter of material."
      ]
    },
    {
      "cell_type": "markdown",
      "metadata": {
        "id": "9XdSGDOH2qtL"
      },
      "source": [
        "<img src=\"https://raw.githubusercontent.com/callummcdougall/TransformerLens-intro/main/images/page_images/transformer-building.png\" width=\"350\">\n"
      ]
    },
    {
      "cell_type": "markdown",
      "metadata": {
        "id": "Ny4PdCRf3YPu"
      },
      "source": [
        "# Introduction"
      ]
    },
    {
      "cell_type": "markdown",
      "metadata": {
        "id": "KUEMnZlZcPXZ"
      },
      "source": [
        "This is a clean, first principles implementation of GPT-2 in PyTorch. The architectural choices closely follow those used by the TransformerLens library (which you'll be using a lot more in later exercises).\n",
        "\n",
        "The exercises are written to accompany Neel Nanda's [TransformerLens library](https://github.com/neelnanda-io/TransformerLens) for doing mechanistic interpretability research on GPT-2 style language models. We'll be working with this library extensively in this chapter of the course.\n",
        "\n",
        "Each exercise will have a difficulty and importance rating out of 5, as well as an estimated maximum time you should spend on these exercises and sometimes a short annotation. You should interpret the ratings & time estimates relatively (e.g. if you find yourself spending about 50% longer on the exercises than the time estimates, adjust accordingly). Please do skip exercises / look at solutions if you don't feel like they're important enough to be worth doing, and you'd rather get to the good stuff!\n"
      ]
    },
    {
      "cell_type": "markdown",
      "metadata": {
        "id": "ugWVaR9Gm4Rw"
      },
      "source": [
        "## Content & Learning Objectives\n"
      ]
    },
    {
      "cell_type": "markdown",
      "metadata": {
        "id": "UYT9yPDkcPXa"
      },
      "source": [
        "#### 1️⃣ Understanding Inputs & Outputs of a Transformer\n",
        "\n",
        "In this section, we'll take a first look at transformers - what their function is, how information moves inside a transformer, and what inputs & outputs they take.\n",
        "\n",
        "> ##### Learning objectives\n",
        ">\n",
        "> - Understand what a transformer is used for\n",
        "> - Understand causal attention, and what a transformer's output representsalgebra operations on tensors\n",
        "> - Learn what tokenization is, and how models do it\n",
        "> - Understand what logits are, and how to use them to derive a probability distribution over the vocabulary\n",
        "\n",
        "#### 2️⃣ Clean Transformer Implementation\n",
        "\n",
        "Here, we'll implement a transformer from scratch, using only PyTorch's tensor operations. This will give us a good understanding of how transformers work, and how to use them. We do this by going module-by-module, in an experience which should feel somewhat similar to last week's ResNet exercises. Much like with ResNets, you'll conclude by loading in pretrained weights and verifying that your model works as expected.\n",
        "\n",
        "> ##### Learning objectives\n",
        ">\n",
        "> * Understand that a transformer is composed of attention heads and MLPs, with each one performing operations on the residual stream\n",
        "> * Understand that the attention heads in a single layer operate independently, and that they have the role of calculating attention patterns (which determine where information is moved to & from in the residual stream)\n",
        "> * Learn about & implement the following transformer modules:\n",
        ">     * LayerNorm (transforming the input to have zero mean and unit variance)\n",
        ">     * Positional embedding (a lookup table from position indices to residual stream vectors)\n",
        ">     * Attention (the method of computing attention patterns for residual stream vectors)\n",
        ">     * MLP (the collection of linear and nonlinear transformations which operate on each residual stream vector in the same way)\n",
        ">     * Embedding (a lookup table from tokens to residual stream vectors)\n",
        ">     * Unembedding (a matrix for converting residual stream vectors into a distribution over tokens)\n",
        "\n",
        "#### 3️⃣ Training a Transformer\n",
        "\n",
        "Next, you'll learn how to train your transformer from scratch. This will be quite similar to the training loops you wrote for ResNet in your first week.\n",
        "\n",
        "> ##### Learning objectives\n",
        ">\n",
        "> * Understand how to train a transformer from scratch\n",
        "> * Write a basic transformer training loop\n",
        "> * Interpret the transformer's falling cross entropy loss with reference to features of the training data (e.g. bigram frequencies)\n",
        "\n",
        "#### 4️⃣ Sampling from a Transformer\n",
        "\n",
        "Lastly, you'll learn how to sample from a transformer. This will involve implementing a few different sampling methods, and writing a caching system which can reuse computations from previous forward passes to improve your model's text generation speed.\n",
        "\n",
        "*The second half of this section is less important, and you can skip it if you want.*\n",
        "\n",
        "> ##### Learning objectives\n",
        ">\n",
        "> * Learn how to sample from a transformer\n",
        ">     * This includes basic methods like greedy search or top-k, and more advanced methods like beam search\n",
        "> * Learn how to cache the output of a transformer, so that it can be used to generate text more efficiently\n",
        ">     * Optionally, rewrite your sampling functions to make use of your caching methods\n"
      ]
    },
    {
      "cell_type": "markdown",
      "metadata": {
        "id": "3mItbKVVm4Rx"
      },
      "source": [
        "## Setup (don't read, just run!)\n"
      ]
    },
    {
      "cell_type": "code",
      "execution_count": null,
      "metadata": {
        "colab": {
          "base_uri": "https://localhost:8080/"
        },
        "id": "P_ngQtCbm4Rx",
        "outputId": "0021d1cb-63c9-4aa7-c781-3a5a7993c127"
      },
      "outputs": [
        {
          "output_type": "stream",
          "name": "stdout",
          "text": [
            "Collecting transformer_lens\n",
            "  Downloading transformer_lens-2.4.1-py3-none-any.whl.metadata (12 kB)\n",
            "Requirement already satisfied: accelerate>=0.23.0 in /usr/local/lib/python3.10/dist-packages (from transformer_lens) (0.33.0)\n",
            "Collecting beartype<0.15.0,>=0.14.1 (from transformer_lens)\n",
            "  Downloading beartype-0.14.1-py3-none-any.whl.metadata (28 kB)\n",
            "Collecting better-abc<0.0.4,>=0.0.3 (from transformer_lens)\n",
            "  Downloading better_abc-0.0.3-py3-none-any.whl.metadata (1.4 kB)\n",
            "Collecting datasets>=2.7.1 (from transformer_lens)\n",
            "  Downloading datasets-2.21.0-py3-none-any.whl.metadata (21 kB)\n",
            "Requirement already satisfied: einops>=0.6.0 in /usr/local/lib/python3.10/dist-packages (from transformer_lens) (0.8.0)\n",
            "Collecting fancy-einsum>=0.0.3 (from transformer_lens)\n",
            "  Downloading fancy_einsum-0.0.3-py3-none-any.whl.metadata (1.2 kB)\n",
            "Collecting jaxtyping>=0.2.11 (from transformer_lens)\n",
            "  Downloading jaxtyping-0.2.34-py3-none-any.whl.metadata (6.4 kB)\n",
            "Requirement already satisfied: numpy>=1.24 in /usr/local/lib/python3.10/dist-packages (from transformer_lens) (1.26.4)\n",
            "Requirement already satisfied: pandas>=1.1.5 in /usr/local/lib/python3.10/dist-packages (from transformer_lens) (2.1.4)\n",
            "Requirement already satisfied: rich>=12.6.0 in /usr/local/lib/python3.10/dist-packages (from transformer_lens) (13.8.0)\n",
            "Requirement already satisfied: sentencepiece in /usr/local/lib/python3.10/dist-packages (from transformer_lens) (0.1.99)\n",
            "Requirement already satisfied: torch>=1.10 in /usr/local/lib/python3.10/dist-packages (from transformer_lens) (2.4.0+cu121)\n",
            "Requirement already satisfied: tqdm>=4.64.1 in /usr/local/lib/python3.10/dist-packages (from transformer_lens) (4.66.5)\n",
            "Requirement already satisfied: transformers>=4.37.2 in /usr/local/lib/python3.10/dist-packages (from transformer_lens) (4.44.2)\n",
            "Requirement already satisfied: typing-extensions in /usr/local/lib/python3.10/dist-packages (from transformer_lens) (4.12.2)\n",
            "Collecting wandb>=0.13.5 (from transformer_lens)\n",
            "  Downloading wandb-0.17.9-py3-none-manylinux_2_17_x86_64.manylinux2014_x86_64.whl.metadata (9.6 kB)\n",
            "Requirement already satisfied: packaging>=20.0 in /usr/local/lib/python3.10/dist-packages (from accelerate>=0.23.0->transformer_lens) (24.1)\n",
            "Requirement already satisfied: psutil in /usr/local/lib/python3.10/dist-packages (from accelerate>=0.23.0->transformer_lens) (5.9.5)\n",
            "Requirement already satisfied: pyyaml in /usr/local/lib/python3.10/dist-packages (from accelerate>=0.23.0->transformer_lens) (6.0.2)\n",
            "Requirement already satisfied: huggingface-hub>=0.21.0 in /usr/local/lib/python3.10/dist-packages (from accelerate>=0.23.0->transformer_lens) (0.24.6)\n",
            "Requirement already satisfied: safetensors>=0.3.1 in /usr/local/lib/python3.10/dist-packages (from accelerate>=0.23.0->transformer_lens) (0.4.4)\n",
            "Requirement already satisfied: filelock in /usr/local/lib/python3.10/dist-packages (from datasets>=2.7.1->transformer_lens) (3.15.4)\n",
            "Collecting pyarrow>=15.0.0 (from datasets>=2.7.1->transformer_lens)\n",
            "  Downloading pyarrow-17.0.0-cp310-cp310-manylinux_2_28_x86_64.whl.metadata (3.3 kB)\n",
            "Collecting dill<0.3.9,>=0.3.0 (from datasets>=2.7.1->transformer_lens)\n",
            "  Downloading dill-0.3.8-py3-none-any.whl.metadata (10 kB)\n",
            "Requirement already satisfied: requests>=2.32.2 in /usr/local/lib/python3.10/dist-packages (from datasets>=2.7.1->transformer_lens) (2.32.3)\n",
            "Collecting xxhash (from datasets>=2.7.1->transformer_lens)\n",
            "  Downloading xxhash-3.5.0-cp310-cp310-manylinux_2_17_x86_64.manylinux2014_x86_64.whl.metadata (12 kB)\n",
            "Collecting multiprocess (from datasets>=2.7.1->transformer_lens)\n",
            "  Downloading multiprocess-0.70.16-py310-none-any.whl.metadata (7.2 kB)\n",
            "Requirement already satisfied: fsspec<=2024.6.1,>=2023.1.0 in /usr/local/lib/python3.10/dist-packages (from fsspec[http]<=2024.6.1,>=2023.1.0->datasets>=2.7.1->transformer_lens) (2024.6.1)\n",
            "Requirement already satisfied: aiohttp in /usr/local/lib/python3.10/dist-packages (from datasets>=2.7.1->transformer_lens) (3.10.5)\n",
            "Collecting typeguard==2.13.3 (from jaxtyping>=0.2.11->transformer_lens)\n",
            "  Downloading typeguard-2.13.3-py3-none-any.whl.metadata (3.6 kB)\n",
            "Requirement already satisfied: python-dateutil>=2.8.2 in /usr/local/lib/python3.10/dist-packages (from pandas>=1.1.5->transformer_lens) (2.8.2)\n",
            "Requirement already satisfied: pytz>=2020.1 in /usr/local/lib/python3.10/dist-packages (from pandas>=1.1.5->transformer_lens) (2024.1)\n",
            "Requirement already satisfied: tzdata>=2022.1 in /usr/local/lib/python3.10/dist-packages (from pandas>=1.1.5->transformer_lens) (2024.1)\n",
            "Requirement already satisfied: markdown-it-py>=2.2.0 in /usr/local/lib/python3.10/dist-packages (from rich>=12.6.0->transformer_lens) (3.0.0)\n",
            "Requirement already satisfied: pygments<3.0.0,>=2.13.0 in /usr/local/lib/python3.10/dist-packages (from rich>=12.6.0->transformer_lens) (2.16.1)\n",
            "Requirement already satisfied: sympy in /usr/local/lib/python3.10/dist-packages (from torch>=1.10->transformer_lens) (1.13.2)\n",
            "Requirement already satisfied: networkx in /usr/local/lib/python3.10/dist-packages (from torch>=1.10->transformer_lens) (3.3)\n",
            "Requirement already satisfied: jinja2 in /usr/local/lib/python3.10/dist-packages (from torch>=1.10->transformer_lens) (3.1.4)\n",
            "Requirement already satisfied: regex!=2019.12.17 in /usr/local/lib/python3.10/dist-packages (from transformers>=4.37.2->transformer_lens) (2024.5.15)\n",
            "Requirement already satisfied: tokenizers<0.20,>=0.19 in /usr/local/lib/python3.10/dist-packages (from transformers>=4.37.2->transformer_lens) (0.19.1)\n",
            "Requirement already satisfied: click!=8.0.0,>=7.1 in /usr/local/lib/python3.10/dist-packages (from wandb>=0.13.5->transformer_lens) (8.1.7)\n",
            "Collecting docker-pycreds>=0.4.0 (from wandb>=0.13.5->transformer_lens)\n",
            "  Downloading docker_pycreds-0.4.0-py2.py3-none-any.whl.metadata (1.8 kB)\n",
            "Collecting gitpython!=3.1.29,>=1.0.0 (from wandb>=0.13.5->transformer_lens)\n",
            "  Downloading GitPython-3.1.43-py3-none-any.whl.metadata (13 kB)\n",
            "Requirement already satisfied: platformdirs in /usr/local/lib/python3.10/dist-packages (from wandb>=0.13.5->transformer_lens) (4.2.2)\n",
            "Requirement already satisfied: protobuf!=4.21.0,<6,>=3.19.0 in /usr/local/lib/python3.10/dist-packages (from wandb>=0.13.5->transformer_lens) (3.20.3)\n",
            "Collecting sentry-sdk>=1.0.0 (from wandb>=0.13.5->transformer_lens)\n",
            "  Downloading sentry_sdk-2.13.0-py2.py3-none-any.whl.metadata (9.7 kB)\n",
            "Collecting setproctitle (from wandb>=0.13.5->transformer_lens)\n",
            "  Downloading setproctitle-1.3.3-cp310-cp310-manylinux_2_5_x86_64.manylinux1_x86_64.manylinux_2_17_x86_64.manylinux2014_x86_64.whl.metadata (9.9 kB)\n",
            "Requirement already satisfied: setuptools in /usr/local/lib/python3.10/dist-packages (from wandb>=0.13.5->transformer_lens) (71.0.4)\n",
            "Requirement already satisfied: six>=1.4.0 in /usr/local/lib/python3.10/dist-packages (from docker-pycreds>=0.4.0->wandb>=0.13.5->transformer_lens) (1.16.0)\n",
            "Requirement already satisfied: aiohappyeyeballs>=2.3.0 in /usr/local/lib/python3.10/dist-packages (from aiohttp->datasets>=2.7.1->transformer_lens) (2.4.0)\n",
            "Requirement already satisfied: aiosignal>=1.1.2 in /usr/local/lib/python3.10/dist-packages (from aiohttp->datasets>=2.7.1->transformer_lens) (1.3.1)\n",
            "Requirement already satisfied: attrs>=17.3.0 in /usr/local/lib/python3.10/dist-packages (from aiohttp->datasets>=2.7.1->transformer_lens) (24.2.0)\n",
            "Requirement already satisfied: frozenlist>=1.1.1 in /usr/local/lib/python3.10/dist-packages (from aiohttp->datasets>=2.7.1->transformer_lens) (1.4.1)\n",
            "Requirement already satisfied: multidict<7.0,>=4.5 in /usr/local/lib/python3.10/dist-packages (from aiohttp->datasets>=2.7.1->transformer_lens) (6.0.5)\n",
            "Requirement already satisfied: yarl<2.0,>=1.0 in /usr/local/lib/python3.10/dist-packages (from aiohttp->datasets>=2.7.1->transformer_lens) (1.9.4)\n",
            "Requirement already satisfied: async-timeout<5.0,>=4.0 in /usr/local/lib/python3.10/dist-packages (from aiohttp->datasets>=2.7.1->transformer_lens) (4.0.3)\n",
            "Collecting gitdb<5,>=4.0.1 (from gitpython!=3.1.29,>=1.0.0->wandb>=0.13.5->transformer_lens)\n",
            "  Downloading gitdb-4.0.11-py3-none-any.whl.metadata (1.2 kB)\n",
            "Requirement already satisfied: mdurl~=0.1 in /usr/local/lib/python3.10/dist-packages (from markdown-it-py>=2.2.0->rich>=12.6.0->transformer_lens) (0.1.2)\n",
            "Requirement already satisfied: charset-normalizer<4,>=2 in /usr/local/lib/python3.10/dist-packages (from requests>=2.32.2->datasets>=2.7.1->transformer_lens) (3.3.2)\n",
            "Requirement already satisfied: idna<4,>=2.5 in /usr/local/lib/python3.10/dist-packages (from requests>=2.32.2->datasets>=2.7.1->transformer_lens) (3.8)\n",
            "Requirement already satisfied: urllib3<3,>=1.21.1 in /usr/local/lib/python3.10/dist-packages (from requests>=2.32.2->datasets>=2.7.1->transformer_lens) (2.0.7)\n",
            "Requirement already satisfied: certifi>=2017.4.17 in /usr/local/lib/python3.10/dist-packages (from requests>=2.32.2->datasets>=2.7.1->transformer_lens) (2024.8.30)\n",
            "Requirement already satisfied: MarkupSafe>=2.0 in /usr/local/lib/python3.10/dist-packages (from jinja2->torch>=1.10->transformer_lens) (2.1.5)\n",
            "Requirement already satisfied: mpmath<1.4,>=1.1.0 in /usr/local/lib/python3.10/dist-packages (from sympy->torch>=1.10->transformer_lens) (1.3.0)\n",
            "Collecting smmap<6,>=3.0.1 (from gitdb<5,>=4.0.1->gitpython!=3.1.29,>=1.0.0->wandb>=0.13.5->transformer_lens)\n",
            "  Downloading smmap-5.0.1-py3-none-any.whl.metadata (4.3 kB)\n",
            "Downloading transformer_lens-2.4.1-py3-none-any.whl (174 kB)\n",
            "\u001b[2K   \u001b[90m━━━━━━━━━━━━━━━━━━━━━━━━━━━━━━━━━━━━━━━━\u001b[0m \u001b[32m174.8/174.8 kB\u001b[0m \u001b[31m2.9 MB/s\u001b[0m eta \u001b[36m0:00:00\u001b[0m\n",
            "\u001b[?25hDownloading beartype-0.14.1-py3-none-any.whl (739 kB)\n",
            "\u001b[2K   \u001b[90m━━━━━━━━━━━━━━━━━━━━━━━━━━━━━━━━━━━━━━━━\u001b[0m \u001b[32m739.7/739.7 kB\u001b[0m \u001b[31m10.0 MB/s\u001b[0m eta \u001b[36m0:00:00\u001b[0m\n",
            "\u001b[?25hDownloading better_abc-0.0.3-py3-none-any.whl (3.5 kB)\n",
            "Downloading datasets-2.21.0-py3-none-any.whl (527 kB)\n",
            "\u001b[2K   \u001b[90m━━━━━━━━━━━━━━━━━━━━━━━━━━━━━━━━━━━━━━━━\u001b[0m \u001b[32m527.3/527.3 kB\u001b[0m \u001b[31m31.6 MB/s\u001b[0m eta \u001b[36m0:00:00\u001b[0m\n",
            "\u001b[?25hDownloading fancy_einsum-0.0.3-py3-none-any.whl (6.2 kB)\n",
            "Downloading jaxtyping-0.2.34-py3-none-any.whl (42 kB)\n",
            "\u001b[2K   \u001b[90m━━━━━━━━━━━━━━━━━━━━━━━━━━━━━━━━━━━━━━━━\u001b[0m \u001b[32m42.4/42.4 kB\u001b[0m \u001b[31m3.6 MB/s\u001b[0m eta \u001b[36m0:00:00\u001b[0m\n",
            "\u001b[?25hDownloading typeguard-2.13.3-py3-none-any.whl (17 kB)\n",
            "Downloading wandb-0.17.9-py3-none-manylinux_2_17_x86_64.manylinux2014_x86_64.whl (9.4 MB)\n",
            "\u001b[2K   \u001b[90m━━━━━━━━━━━━━━━━━━━━━━━━━━━━━━━━━━━━━━━━\u001b[0m \u001b[32m9.4/9.4 MB\u001b[0m \u001b[31m64.1 MB/s\u001b[0m eta \u001b[36m0:00:00\u001b[0m\n",
            "\u001b[?25hDownloading dill-0.3.8-py3-none-any.whl (116 kB)\n",
            "\u001b[2K   \u001b[90m━━━━━━━━━━━━━━━━━━━━━━━━━━━━━━━━━━━━━━━━\u001b[0m \u001b[32m116.3/116.3 kB\u001b[0m \u001b[31m11.0 MB/s\u001b[0m eta \u001b[36m0:00:00\u001b[0m\n",
            "\u001b[?25hDownloading docker_pycreds-0.4.0-py2.py3-none-any.whl (9.0 kB)\n",
            "Downloading GitPython-3.1.43-py3-none-any.whl (207 kB)\n",
            "\u001b[2K   \u001b[90m━━━━━━━━━━━━━━━━━━━━━━━━━━━━━━━━━━━━━━━━\u001b[0m \u001b[32m207.3/207.3 kB\u001b[0m \u001b[31m19.9 MB/s\u001b[0m eta \u001b[36m0:00:00\u001b[0m\n",
            "\u001b[?25hDownloading pyarrow-17.0.0-cp310-cp310-manylinux_2_28_x86_64.whl (39.9 MB)\n",
            "\u001b[2K   \u001b[90m━━━━━━━━━━━━━━━━━━━━━━━━━━━━━━━━━━━━━━━━\u001b[0m \u001b[32m39.9/39.9 MB\u001b[0m \u001b[31m39.3 MB/s\u001b[0m eta \u001b[36m0:00:00\u001b[0m\n",
            "\u001b[?25hDownloading sentry_sdk-2.13.0-py2.py3-none-any.whl (309 kB)\n",
            "\u001b[2K   \u001b[90m━━━━━━━━━━━━━━━━━━━━━━━━━━━━━━━━━━━━━━━━\u001b[0m \u001b[32m309.1/309.1 kB\u001b[0m \u001b[31m25.8 MB/s\u001b[0m eta \u001b[36m0:00:00\u001b[0m\n",
            "\u001b[?25hDownloading multiprocess-0.70.16-py310-none-any.whl (134 kB)\n",
            "\u001b[2K   \u001b[90m━━━━━━━━━━━━━━━━━━━━━━━━━━━━━━━━━━━━━━━━\u001b[0m \u001b[32m134.8/134.8 kB\u001b[0m \u001b[31m12.8 MB/s\u001b[0m eta \u001b[36m0:00:00\u001b[0m\n",
            "\u001b[?25hDownloading setproctitle-1.3.3-cp310-cp310-manylinux_2_5_x86_64.manylinux1_x86_64.manylinux_2_17_x86_64.manylinux2014_x86_64.whl (30 kB)\n",
            "Downloading xxhash-3.5.0-cp310-cp310-manylinux_2_17_x86_64.manylinux2014_x86_64.whl (194 kB)\n",
            "\u001b[2K   \u001b[90m━━━━━━━━━━━━━━━━━━━━━━━━━━━━━━━━━━━━━━━━\u001b[0m \u001b[32m194.1/194.1 kB\u001b[0m \u001b[31m17.8 MB/s\u001b[0m eta \u001b[36m0:00:00\u001b[0m\n",
            "\u001b[?25hDownloading gitdb-4.0.11-py3-none-any.whl (62 kB)\n",
            "\u001b[2K   \u001b[90m━━━━━━━━━━━━━━━━━━━━━━━━━━━━━━━━━━━━━━━━\u001b[0m \u001b[32m62.7/62.7 kB\u001b[0m \u001b[31m5.5 MB/s\u001b[0m eta \u001b[36m0:00:00\u001b[0m\n",
            "\u001b[?25hDownloading smmap-5.0.1-py3-none-any.whl (24 kB)\n",
            "Installing collected packages: better-abc, xxhash, typeguard, smmap, setproctitle, sentry-sdk, pyarrow, fancy-einsum, docker-pycreds, dill, beartype, multiprocess, jaxtyping, gitdb, gitpython, wandb, datasets, transformer_lens\n",
            "  Attempting uninstall: typeguard\n",
            "    Found existing installation: typeguard 4.3.0\n",
            "    Uninstalling typeguard-4.3.0:\n",
            "      Successfully uninstalled typeguard-4.3.0\n",
            "  Attempting uninstall: pyarrow\n",
            "    Found existing installation: pyarrow 14.0.2\n",
            "    Uninstalling pyarrow-14.0.2:\n",
            "      Successfully uninstalled pyarrow-14.0.2\n",
            "\u001b[31mERROR: pip's dependency resolver does not currently take into account all the packages that are installed. This behaviour is the source of the following dependency conflicts.\n",
            "cudf-cu12 24.4.1 requires pyarrow<15.0.0a0,>=14.0.1, but you have pyarrow 17.0.0 which is incompatible.\n",
            "ibis-framework 8.0.0 requires pyarrow<16,>=2, but you have pyarrow 17.0.0 which is incompatible.\n",
            "inflect 7.3.1 requires typeguard>=4.0.1, but you have typeguard 2.13.3 which is incompatible.\u001b[0m\u001b[31m\n",
            "\u001b[0mSuccessfully installed beartype-0.14.1 better-abc-0.0.3 datasets-2.21.0 dill-0.3.8 docker-pycreds-0.4.0 fancy-einsum-0.0.3 gitdb-4.0.11 gitpython-3.1.43 jaxtyping-0.2.34 multiprocess-0.70.16 pyarrow-17.0.0 sentry-sdk-2.13.0 setproctitle-1.3.3 smmap-5.0.1 transformer_lens-2.4.1 typeguard-2.13.3 wandb-0.17.9 xxhash-3.5.0\n",
            "Requirement already satisfied: einops in /usr/local/lib/python3.10/dist-packages (0.8.0)\n",
            "Requirement already satisfied: jaxtyping in /usr/local/lib/python3.10/dist-packages (0.2.34)\n",
            "Requirement already satisfied: typeguard==2.13.3 in /usr/local/lib/python3.10/dist-packages (from jaxtyping) (2.13.3)\n",
            "Collecting git+https://github.com/callummcdougall/CircuitsVis.git#subdirectory=python\n",
            "  Cloning https://github.com/callummcdougall/CircuitsVis.git to /tmp/pip-req-build-ef16ryv2\n",
            "  Running command git clone --filter=blob:none --quiet https://github.com/callummcdougall/CircuitsVis.git /tmp/pip-req-build-ef16ryv2\n",
            "  Resolved https://github.com/callummcdougall/CircuitsVis.git to commit 1e6129d08cae7af9242d9ab5d3ed322dd44b4dd3\n",
            "  Installing build dependencies ... \u001b[?25l\u001b[?25hdone\n",
            "  Getting requirements to build wheel ... \u001b[?25l\u001b[?25hdone\n",
            "  Preparing metadata (pyproject.toml) ... \u001b[?25l\u001b[?25hdone\n",
            "Collecting importlib-metadata<6.0.0,>=5.1.0 (from circuitsvis==0.0.0)\n",
            "  Downloading importlib_metadata-5.2.0-py3-none-any.whl.metadata (5.0 kB)\n",
            "Requirement already satisfied: numpy<2.0,>=1.23 in /usr/local/lib/python3.10/dist-packages (from circuitsvis==0.0.0) (1.26.4)\n",
            "Requirement already satisfied: torch<3.0,>=2.0 in /usr/local/lib/python3.10/dist-packages (from circuitsvis==0.0.0) (2.4.0+cu121)\n",
            "Requirement already satisfied: zipp>=0.5 in /usr/local/lib/python3.10/dist-packages (from importlib-metadata<6.0.0,>=5.1.0->circuitsvis==0.0.0) (3.20.1)\n",
            "Requirement already satisfied: filelock in /usr/local/lib/python3.10/dist-packages (from torch<3.0,>=2.0->circuitsvis==0.0.0) (3.15.4)\n",
            "Requirement already satisfied: typing-extensions>=4.8.0 in /usr/local/lib/python3.10/dist-packages (from torch<3.0,>=2.0->circuitsvis==0.0.0) (4.12.2)\n",
            "Requirement already satisfied: sympy in /usr/local/lib/python3.10/dist-packages (from torch<3.0,>=2.0->circuitsvis==0.0.0) (1.13.2)\n",
            "Requirement already satisfied: networkx in /usr/local/lib/python3.10/dist-packages (from torch<3.0,>=2.0->circuitsvis==0.0.0) (3.3)\n",
            "Requirement already satisfied: jinja2 in /usr/local/lib/python3.10/dist-packages (from torch<3.0,>=2.0->circuitsvis==0.0.0) (3.1.4)\n",
            "Requirement already satisfied: fsspec in /usr/local/lib/python3.10/dist-packages (from torch<3.0,>=2.0->circuitsvis==0.0.0) (2024.6.1)\n",
            "Requirement already satisfied: MarkupSafe>=2.0 in /usr/local/lib/python3.10/dist-packages (from jinja2->torch<3.0,>=2.0->circuitsvis==0.0.0) (2.1.5)\n",
            "Requirement already satisfied: mpmath<1.4,>=1.1.0 in /usr/local/lib/python3.10/dist-packages (from sympy->torch<3.0,>=2.0->circuitsvis==0.0.0) (1.3.0)\n",
            "Downloading importlib_metadata-5.2.0-py3-none-any.whl (21 kB)\n",
            "Building wheels for collected packages: circuitsvis\n",
            "  Building wheel for circuitsvis (pyproject.toml) ... \u001b[?25l\u001b[?25hdone\n",
            "  Created wheel for circuitsvis: filename=circuitsvis-0.0.0-py3-none-any.whl size=6172334 sha256=59415c32edc93016c6c42f3b4833706a3be43b700e7573be5495cc7c0ec5f306\n",
            "  Stored in directory: /tmp/pip-ephem-wheel-cache-ggo7el4c/wheels/86/be/ad/78078aba9344d200aad61b63d35cdaecdec160212f039eed74\n",
            "Successfully built circuitsvis\n",
            "Installing collected packages: importlib-metadata, circuitsvis\n",
            "  Attempting uninstall: importlib-metadata\n",
            "    Found existing installation: importlib_metadata 8.4.0\n",
            "    Uninstalling importlib_metadata-8.4.0:\n",
            "      Successfully uninstalled importlib_metadata-8.4.0\n",
            "Successfully installed circuitsvis-0.0.0 importlib-metadata-5.2.0\n",
            "--2024-09-06 18:27:09--  https://github.com/callummcdougall/ARENA_3.0/archive/refs/heads/main.zip\n",
            "Resolving github.com (github.com)... 140.82.112.4\n",
            "Connecting to github.com (github.com)|140.82.112.4|:443... connected.\n",
            "HTTP request sent, awaiting response... 302 Found\n",
            "Location: https://codeload.github.com/callummcdougall/ARENA_3.0/zip/refs/heads/main [following]\n",
            "--2024-09-06 18:27:09--  https://codeload.github.com/callummcdougall/ARENA_3.0/zip/refs/heads/main\n",
            "Resolving codeload.github.com (codeload.github.com)... 140.82.114.10\n",
            "Connecting to codeload.github.com (codeload.github.com)|140.82.114.10|:443... connected.\n",
            "HTTP request sent, awaiting response... 200 OK\n",
            "Length: unspecified [application/zip]\n",
            "Saving to: ‘main.zip’\n",
            "\n",
            "main.zip                [  <=>               ]  86.30M  9.38MB/s    in 9.8s    \n",
            "\n",
            "2024-09-06 18:27:20 (8.77 MB/s) - ‘main.zip’ saved [90491894]\n",
            "\n",
            "Archive:  /content/main.zip\n",
            "632a4572667720cb43f6aea40bee7a99c922f240\n",
            "   creating: ARENA_3.0-main/chapter1_transformer_interp/exercises/\n",
            "   creating: ARENA_3.0-main/chapter1_transformer_interp/exercises/monthly_algorithmic_problems/\n",
            "   creating: ARENA_3.0-main/chapter1_transformer_interp/exercises/monthly_algorithmic_problems/august23_unique_char/\n",
            "  inflating: ARENA_3.0-main/chapter1_transformer_interp/exercises/monthly_algorithmic_problems/august23_unique_char/dataset.py  \n",
            "  inflating: ARENA_3.0-main/chapter1_transformer_interp/exercises/monthly_algorithmic_problems/august23_unique_char/first_unique_char_model.pt  \n",
            "  inflating: ARENA_3.0-main/chapter1_transformer_interp/exercises/monthly_algorithmic_problems/august23_unique_char/model.py  \n",
            "  inflating: ARENA_3.0-main/chapter1_transformer_interp/exercises/monthly_algorithmic_problems/august23_unique_char/training.py  \n",
            "  inflating: ARENA_3.0-main/chapter1_transformer_interp/exercises/monthly_algorithmic_problems/august23_unique_char/training_model.ipynb  \n",
            "   creating: ARENA_3.0-main/chapter1_transformer_interp/exercises/monthly_algorithmic_problems/january24_caesar_cipher/\n",
            "  inflating: ARENA_3.0-main/chapter1_transformer_interp/exercises/monthly_algorithmic_problems/january24_caesar_cipher/caesar_cipher_model_easy.pt  \n",
            "  inflating: ARENA_3.0-main/chapter1_transformer_interp/exercises/monthly_algorithmic_problems/january24_caesar_cipher/caesar_cipher_model_hard.pt  \n",
            "  inflating: ARENA_3.0-main/chapter1_transformer_interp/exercises/monthly_algorithmic_problems/january24_caesar_cipher/caesar_cipher_model_medium.pt  \n",
            "  inflating: ARENA_3.0-main/chapter1_transformer_interp/exercises/monthly_algorithmic_problems/january24_caesar_cipher/dataset.py  \n",
            "  inflating: ARENA_3.0-main/chapter1_transformer_interp/exercises/monthly_algorithmic_problems/january24_caesar_cipher/hitchhikers.txt  \n",
            "  inflating: ARENA_3.0-main/chapter1_transformer_interp/exercises/monthly_algorithmic_problems/january24_caesar_cipher/model.py  \n",
            "  inflating: ARENA_3.0-main/chapter1_transformer_interp/exercises/monthly_algorithmic_problems/january24_caesar_cipher/training.py  \n",
            "  inflating: ARENA_3.0-main/chapter1_transformer_interp/exercises/monthly_algorithmic_problems/january24_caesar_cipher/training_model.ipynb  \n",
            "   creating: ARENA_3.0-main/chapter1_transformer_interp/exercises/monthly_algorithmic_problems/july23_palindromes/\n",
            "  inflating: ARENA_3.0-main/chapter1_transformer_interp/exercises/monthly_algorithmic_problems/july23_palindromes/dataset.py  \n",
            "  inflating: ARENA_3.0-main/chapter1_transformer_interp/exercises/monthly_algorithmic_problems/july23_palindromes/model.py  \n",
            "  inflating: ARENA_3.0-main/chapter1_transformer_interp/exercises/monthly_algorithmic_problems/july23_palindromes/palindrome_classifier.pt  \n",
            "  inflating: ARENA_3.0-main/chapter1_transformer_interp/exercises/monthly_algorithmic_problems/july23_palindromes/training.py  \n",
            "  inflating: ARENA_3.0-main/chapter1_transformer_interp/exercises/monthly_algorithmic_problems/july23_palindromes/training_model.ipynb  \n",
            "   creating: ARENA_3.0-main/chapter1_transformer_interp/exercises/monthly_algorithmic_problems/november23_cumsum/\n",
            "  inflating: ARENA_3.0-main/chapter1_transformer_interp/exercises/monthly_algorithmic_problems/november23_cumsum/cumsum_model.pt  \n",
            "  inflating: ARENA_3.0-main/chapter1_transformer_interp/exercises/monthly_algorithmic_problems/november23_cumsum/dataset.py  \n",
            "  inflating: ARENA_3.0-main/chapter1_transformer_interp/exercises/monthly_algorithmic_problems/november23_cumsum/model.py  \n",
            "  inflating: ARENA_3.0-main/chapter1_transformer_interp/exercises/monthly_algorithmic_problems/november23_cumsum/training.py  \n",
            "  inflating: ARENA_3.0-main/chapter1_transformer_interp/exercises/monthly_algorithmic_problems/november23_cumsum/training_model.ipynb  \n",
            "   creating: ARENA_3.0-main/chapter1_transformer_interp/exercises/monthly_algorithmic_problems/october23_sorted_list/\n",
            "  inflating: ARENA_3.0-main/chapter1_transformer_interp/exercises/monthly_algorithmic_problems/october23_sorted_list/dataset.py  \n",
            "  inflating: ARENA_3.0-main/chapter1_transformer_interp/exercises/monthly_algorithmic_problems/october23_sorted_list/model.py  \n",
            "  inflating: ARENA_3.0-main/chapter1_transformer_interp/exercises/monthly_algorithmic_problems/october23_sorted_list/sorted_list_model.pt  \n",
            "  inflating: ARENA_3.0-main/chapter1_transformer_interp/exercises/monthly_algorithmic_problems/october23_sorted_list/training.py  \n",
            "  inflating: ARENA_3.0-main/chapter1_transformer_interp/exercises/monthly_algorithmic_problems/october23_sorted_list/training_model.ipynb  \n",
            "   creating: ARENA_3.0-main/chapter1_transformer_interp/exercises/monthly_algorithmic_problems/september23_sum/\n",
            "  inflating: ARENA_3.0-main/chapter1_transformer_interp/exercises/monthly_algorithmic_problems/september23_sum/dataset.py  \n",
            "  inflating: ARENA_3.0-main/chapter1_transformer_interp/exercises/monthly_algorithmic_problems/september23_sum/model.py  \n",
            "  inflating: ARENA_3.0-main/chapter1_transformer_interp/exercises/monthly_algorithmic_problems/september23_sum/sum_model.pt  \n",
            "  inflating: ARENA_3.0-main/chapter1_transformer_interp/exercises/monthly_algorithmic_problems/september23_sum/training.py  \n",
            "  inflating: ARENA_3.0-main/chapter1_transformer_interp/exercises/monthly_algorithmic_problems/september23_sum/training_model.ipynb  \n",
            "   creating: ARENA_3.0-main/chapter1_transformer_interp/exercises/part1_transformer_from_scratch/\n",
            "  inflating: ARENA_3.0-main/chapter1_transformer_interp/exercises/part1_transformer_from_scratch/solutions.py  \n",
            "  inflating: ARENA_3.0-main/chapter1_transformer_interp/exercises/part1_transformer_from_scratch/tests.py  \n",
            "   creating: ARENA_3.0-main/chapter1_transformer_interp/exercises/part2_intro_to_mech_interp/\n",
            "  inflating: ARENA_3.0-main/chapter1_transformer_interp/exercises/part2_intro_to_mech_interp/solutions.py  \n",
            "  inflating: ARENA_3.0-main/chapter1_transformer_interp/exercises/part2_intro_to_mech_interp/tests.py  \n",
            "   creating: ARENA_3.0-main/chapter1_transformer_interp/exercises/part3_indirect_object_identification/\n",
            "  inflating: ARENA_3.0-main/chapter1_transformer_interp/exercises/part3_indirect_object_identification/ioi_circuit_extraction.py  \n",
            "  inflating: ARENA_3.0-main/chapter1_transformer_interp/exercises/part3_indirect_object_identification/ioi_dataset.py  \n",
            "  inflating: ARENA_3.0-main/chapter1_transformer_interp/exercises/part3_indirect_object_identification/solutions.py  \n",
            "  inflating: ARENA_3.0-main/chapter1_transformer_interp/exercises/part3_indirect_object_identification/tests.py  \n",
            "   creating: ARENA_3.0-main/chapter1_transformer_interp/exercises/part4_superposition_and_saes/\n",
            "  inflating: ARENA_3.0-main/chapter1_transformer_interp/exercises/part4_superposition_and_saes/solutions.py  \n",
            "  inflating: ARENA_3.0-main/chapter1_transformer_interp/exercises/part4_superposition_and_saes/tests.py  \n",
            "  inflating: ARENA_3.0-main/chapter1_transformer_interp/exercises/part4_superposition_and_saes/utils.py  \n",
            "   creating: ARENA_3.0-main/chapter1_transformer_interp/exercises/part5_function_vectors_and_model_steering/\n",
            "   creating: ARENA_3.0-main/chapter1_transformer_interp/exercises/part5_function_vectors_and_model_steering/data/\n",
            "  inflating: ARENA_3.0-main/chapter1_transformer_interp/exercises/part5_function_vectors_and_model_steering/data/antonym_pairs.txt  \n",
            "  inflating: ARENA_3.0-main/chapter1_transformer_interp/exercises/part5_function_vectors_and_model_steering/data/country_capital_pairs.txt  \n",
            "  inflating: ARENA_3.0-main/chapter1_transformer_interp/exercises/part5_function_vectors_and_model_steering/data/test_fn_vector.pt  \n",
            "  inflating: ARENA_3.0-main/chapter1_transformer_interp/exercises/part5_function_vectors_and_model_steering/data/test_fn_vector_1.pt  \n",
            "  inflating: ARENA_3.0-main/chapter1_transformer_interp/exercises/part5_function_vectors_and_model_steering/data/test_fn_vector_2.pt  \n",
            "  inflating: ARENA_3.0-main/chapter1_transformer_interp/exercises/part5_function_vectors_and_model_steering/data/test_h.pt  \n",
            "  inflating: ARENA_3.0-main/chapter1_transformer_interp/exercises/part5_function_vectors_and_model_steering/solutions.py  \n",
            "  inflating: ARENA_3.0-main/chapter1_transformer_interp/exercises/part5_function_vectors_and_model_steering/tests.py  \n",
            "   creating: ARENA_3.0-main/chapter1_transformer_interp/exercises/part6_othellogpt/\n",
            "  inflating: ARENA_3.0-main/chapter1_transformer_interp/exercises/part6_othellogpt/solutions.py  \n",
            "  inflating: ARENA_3.0-main/chapter1_transformer_interp/exercises/part6_othellogpt/tests.py  \n",
            "   creating: ARENA_3.0-main/chapter1_transformer_interp/exercises/part7_balanced_bracket_classifier/\n",
            "  inflating: ARENA_3.0-main/chapter1_transformer_interp/exercises/part7_balanced_bracket_classifier/brackets_data.json  \n",
            "  inflating: ARENA_3.0-main/chapter1_transformer_interp/exercises/part7_balanced_bracket_classifier/brackets_datasets.py  \n",
            "  inflating: ARENA_3.0-main/chapter1_transformer_interp/exercises/part7_balanced_bracket_classifier/brackets_model_state_dict.pt  \n",
            "  inflating: ARENA_3.0-main/chapter1_transformer_interp/exercises/part7_balanced_bracket_classifier/solutions.py  \n",
            "  inflating: ARENA_3.0-main/chapter1_transformer_interp/exercises/part7_balanced_bracket_classifier/tests.py  \n",
            "   creating: ARENA_3.0-main/chapter1_transformer_interp/exercises/part8_grokking_and_modular_arithmetic/\n",
            "  inflating: ARENA_3.0-main/chapter1_transformer_interp/exercises/part8_grokking_and_modular_arithmetic/my_utils.py  \n",
            "  inflating: ARENA_3.0-main/chapter1_transformer_interp/exercises/part8_grokking_and_modular_arithmetic/solutions.py  \n",
            "  inflating: ARENA_3.0-main/chapter1_transformer_interp/exercises/part8_grokking_and_modular_arithmetic/tests.py  \n",
            "  inflating: ARENA_3.0-main/chapter1_transformer_interp/exercises/plotly_utils.py  \n"
          ]
        }
      ],
      "source": [
        "try:\n",
        "    import google.colab # type: ignore\n",
        "    IN_COLAB = True\n",
        "except:\n",
        "    IN_COLAB = False\n",
        "\n",
        "import os, sys\n",
        "chapter = \"chapter1_transformer_interp\"\n",
        "repo = \"ARENA_3.0\"\n",
        "\n",
        "if IN_COLAB:\n",
        "    # Install packages\n",
        "    %pip install transformer_lens\n",
        "    %pip install einops\n",
        "    %pip install jaxtyping\n",
        "    %pip install git+https://github.com/callummcdougall/CircuitsVis.git#subdirectory=python\n",
        "\n",
        "    # Code to download the necessary files (e.g. solutions, test funcs)\n",
        "    if not os.path.exists(f\"/content/{chapter}\"):\n",
        "        !wget https://github.com/callummcdougall/ARENA_3.0/archive/refs/heads/arena_pre_v4.zip\n",
        "        !unzip /content/arena_pre_v4.zip 'ARENA_3.0-arena_pre_v4/chapter1_transformer_interp/exercises/*'\n",
        "        sys.path.append(f\"/content/{repo}-arena_pre_v4/{chapter}/exercises\")\n",
        "        os.remove(\"/content/arena_pre_v4.zip\")\n",
        "        os.rename(f\"{repo}-arena_pre_v4/{chapter}\", chapter)\n",
        "        os.rmdir(f\"{repo}-arena_pre_v4\")\n",
        "        os.chdir(f\"{chapter}/exercises\")\n",
        "else:\n",
        "    raise Exception(\"If running from VSCode, you should copy code from the Streamlit page, not the Colab.\")"
      ]
    },
    {
      "cell_type": "code",
      "execution_count": null,
      "metadata": {
        "id": "tfWhhdEBm4Ry",
        "colab": {
          "base_uri": "https://localhost:8080/",
          "referenced_widgets": [
            "9da9f51b4f2c483699dfc7fb9df9a5d2",
            "fbf22afa4db3426fb770a6a44258c687",
            "915e9caf9579434c9f3ad3c77f0f6c8a",
            "1072d456618a4346af720632bdd0b964",
            "7e945997017343e89c40390529486570",
            "a29c7a94c0d9433f87a42fefefb72399",
            "e32e19692a4144cf9d931fac67d8efb3",
            "11760cbbc33f499b9b4b4d67f9952589",
            "57af692487df44b89d3d3c02da6bdf89",
            "3e2b886eca7a4e4f9f842a47e3f3cace",
            "dd4f96cddd5b45669f91e79df6739348",
            "6ad5e6ce5bc24450b6ec090d39c4bc6f",
            "e48eec02f60c439c90172dda5880c676",
            "459861abdcaf46bca1ea0830578783c0",
            "23307e5eac78485ead559790bb79973c",
            "54f69ad0960f472cbcd31c288db56d3c",
            "431e91c1ddbe4accbaccec488d751e7a",
            "e12eeaf2b7eb4ef7981b067f666cd1dc",
            "2bafdf4f8cd348f2a503249e2726f627",
            "36721e3256ed4674b7e535dd17b88978",
            "f3065da00a5f431ab719ac4025e68a6a",
            "316e18d55071467f95cdd2f1f44e81c9",
            "fc83fef0aa4647c48803f1560c9c00d7",
            "132c841e28fb43b0a80ebbb7353ee6fa",
            "d22d7522eda84d758cc35387bd5854ec",
            "b31436906365474497d94f16fc24c0c6",
            "25b2cacf9cb740a9b8601032e2e5d88d",
            "069276e549284c33a86463dd91701594",
            "df71f49fabe246dbaee4271b10733d0f",
            "aa6ed61af5914fbdba5ffb90bf765277",
            "e2f7c02da2d34faa8d53fbab7c43f85c",
            "875cc03ca9274ad686084b7f846e6ef7",
            "22e36e9c185646189ada8e6f9ec8df3e",
            "b5c00762304947ff8e009a6751f113eb",
            "af8dec136ba040949568d399827fc245",
            "4a6a8324589b435488004ce90f8cff6f",
            "7f4a8cc1bb10435d958cc68f46533755",
            "2c1b55040c4b436baf0fa1c4f52d3b0a",
            "51802aed5fe942f29024f3526d47740c",
            "4ad508ef753547a0bfe0b0fd5bb46cbf",
            "24584b548d7a4fb4b768436c4c2c81e0",
            "6df5ae6289a14b93bdb07f676b2be0cf",
            "bb214beec9c34200828394505851d180",
            "c6426ad4e29042219e3ed6b8b747412f",
            "e9def34937834814934be6c3093dc3e1",
            "58e6b2510c6d4bb7885b5bf54b38ff4b",
            "5d762931950a4c948af696704d916af8",
            "c50558f6c56c42bfb5987bfb9d874886",
            "1036fba67472407c99972816c55aae1a",
            "2dc4224acf8a45a980596608d204ac29",
            "8478f91647b44738894f71f3df5041f2",
            "9a27f381a7924600bfa35d0ab6464139",
            "909e866f22c547faacb93d93c6184b23",
            "bf838f807405406fb3cc1a2356917355",
            "dff93eb948a54e41a86422dd09bf73ef",
            "bb26097c468443649712ed17a512b77a",
            "8b73d93793984a379f8acb69cedb2d5f",
            "28726b229ee540eeab59c5e4f20819e2",
            "2fa8d3133ec34c3faad5f9770c817461",
            "ff3529365c894ad8a5eb7627a2ca007b",
            "e0368bd43b8f4b848932dcbc0d4e2027",
            "7182eb49c1ec44b8bfc7615ec75d9acf",
            "3e2a6d9bdc884f96b29cedbf74883745",
            "919aa1c2964f47c494041435ec740e97",
            "d3679cca28834dc7ba5ce6131d9f8c3c",
            "17a0a49f5a074c5e929425d50da0c71f",
            "79e6ceba94ac4e5dba862e1f8893047c",
            "d1a44b72213241af81eaf8c967a3b132",
            "b05a07489a9a4feb80f8e4179634e29e",
            "edd394a599f24c8b9656ce80d6beda6c",
            "60275a1e7872409981b1bd17203d5936",
            "a06b226086904c838ee841aa032713ef",
            "2152a37f3f27443ea2887085793a9dad",
            "934dbe9ed9214fa6a6b6405c96af4557",
            "7e151238a096462398b675c0c1e29a9b",
            "0e48a525efb240d7b18714081b537a61",
            "edc5b164d98843cfa6f6ffe5728c026f"
          ]
        },
        "outputId": "e3631b79-109e-460f-b11d-c112d46eb456"
      },
      "outputs": [
        {
          "output_type": "stream",
          "name": "stderr",
          "text": [
            "/usr/local/lib/python3.10/dist-packages/accelerate/utils/imports.py:282: UserWarning: `ACCELERATE_DISABLE_RICH` is deprecated and will be removed in v0.22.0 and deactivated by default. Please use `ACCELERATE_ENABLE_RICH` if you wish to use `rich`.\n",
            "  warnings.warn(\n",
            "/usr/local/lib/python3.10/dist-packages/huggingface_hub/utils/_token.py:89: UserWarning: \n",
            "The secret `HF_TOKEN` does not exist in your Colab secrets.\n",
            "To authenticate with the Hugging Face Hub, create a token in your settings tab (https://huggingface.co/settings/tokens), set it as secret in your Google Colab and restart your session.\n",
            "You will be able to reuse this secret in all of your notebooks.\n",
            "Please note that authentication is recommended but still optional to access public models or datasets.\n",
            "  warnings.warn(\n"
          ]
        },
        {
          "output_type": "display_data",
          "data": {
            "text/plain": [
              "config.json:   0%|          | 0.00/665 [00:00<?, ?B/s]"
            ],
            "application/vnd.jupyter.widget-view+json": {
              "version_major": 2,
              "version_minor": 0,
              "model_id": "9da9f51b4f2c483699dfc7fb9df9a5d2"
            }
          },
          "metadata": {}
        },
        {
          "output_type": "display_data",
          "data": {
            "text/plain": [
              "model.safetensors:   0%|          | 0.00/548M [00:00<?, ?B/s]"
            ],
            "application/vnd.jupyter.widget-view+json": {
              "version_major": 2,
              "version_minor": 0,
              "model_id": "6ad5e6ce5bc24450b6ec090d39c4bc6f"
            }
          },
          "metadata": {}
        },
        {
          "output_type": "display_data",
          "data": {
            "text/plain": [
              "generation_config.json:   0%|          | 0.00/124 [00:00<?, ?B/s]"
            ],
            "application/vnd.jupyter.widget-view+json": {
              "version_major": 2,
              "version_minor": 0,
              "model_id": "fc83fef0aa4647c48803f1560c9c00d7"
            }
          },
          "metadata": {}
        },
        {
          "output_type": "display_data",
          "data": {
            "text/plain": [
              "tokenizer_config.json:   0%|          | 0.00/26.0 [00:00<?, ?B/s]"
            ],
            "application/vnd.jupyter.widget-view+json": {
              "version_major": 2,
              "version_minor": 0,
              "model_id": "b5c00762304947ff8e009a6751f113eb"
            }
          },
          "metadata": {}
        },
        {
          "output_type": "display_data",
          "data": {
            "text/plain": [
              "vocab.json:   0%|          | 0.00/1.04M [00:00<?, ?B/s]"
            ],
            "application/vnd.jupyter.widget-view+json": {
              "version_major": 2,
              "version_minor": 0,
              "model_id": "e9def34937834814934be6c3093dc3e1"
            }
          },
          "metadata": {}
        },
        {
          "output_type": "display_data",
          "data": {
            "text/plain": [
              "merges.txt:   0%|          | 0.00/456k [00:00<?, ?B/s]"
            ],
            "application/vnd.jupyter.widget-view+json": {
              "version_major": 2,
              "version_minor": 0,
              "model_id": "bb26097c468443649712ed17a512b77a"
            }
          },
          "metadata": {}
        },
        {
          "output_type": "display_data",
          "data": {
            "text/plain": [
              "tokenizer.json:   0%|          | 0.00/1.36M [00:00<?, ?B/s]"
            ],
            "application/vnd.jupyter.widget-view+json": {
              "version_major": 2,
              "version_minor": 0,
              "model_id": "79e6ceba94ac4e5dba862e1f8893047c"
            }
          },
          "metadata": {}
        },
        {
          "output_type": "stream",
          "name": "stderr",
          "text": [
            "/usr/local/lib/python3.10/dist-packages/transformers/tokenization_utils_base.py:1601: FutureWarning: `clean_up_tokenization_spaces` was not set. It will be set to `True` by default. This behavior will be depracted in transformers v4.45, and will be then set to `False` by default. For more details check this issue: https://github.com/huggingface/transformers/issues/31884\n",
            "  warnings.warn(\n"
          ]
        },
        {
          "output_type": "stream",
          "name": "stdout",
          "text": [
            "Loaded pretrained model gpt2-small into HookedTransformer\n"
          ]
        }
      ],
      "source": [
        "import os; os.environ['ACCELERATE_DISABLE_RICH'] = \"1\"\n",
        "import sys\n",
        "import einops\n",
        "from dataclasses import dataclass\n",
        "from transformer_lens import HookedTransformer\n",
        "from transformer_lens.utils import gelu_new, tokenize_and_concatenate\n",
        "import torch as t\n",
        "from torch import Tensor\n",
        "import torch.nn as nn\n",
        "import numpy as np\n",
        "import math\n",
        "from tqdm.notebook import tqdm\n",
        "from typing import Callable\n",
        "from jaxtyping import Float, Int\n",
        "from transformers.models.gpt2.tokenization_gpt2_fast import GPT2TokenizerFast\n",
        "from collections import defaultdict\n",
        "from rich.table import Table\n",
        "from rich import print as rprint\n",
        "import datasets\n",
        "from torch.utils.data import DataLoader\n",
        "import wandb\n",
        "from pathlib import Path\n",
        "import webbrowser\n",
        "\n",
        "# Make sure exercises are in the path\n",
        "exercises_dir = Path(f\"{os.getcwd().split(chapter)[0]}/{chapter}/exercises\").resolve()\n",
        "section_dir = (exercises_dir / \"part1_transformer_from_scratch\").resolve()\n",
        "if str(exercises_dir) not in sys.path: sys.path.append(str(exercises_dir))\n",
        "\n",
        "from plotly_utils import imshow\n",
        "import part1_transformer_from_scratch.solutions as solutions\n",
        "import part1_transformer_from_scratch.tests as tests\n",
        "\n",
        "device = t.device(\"cuda\" if t.cuda.is_available() else \"cpu\")\n",
        "\n",
        "MAIN = __name__ == '__main__'\n",
        "\n",
        "reference_gpt2 = HookedTransformer.from_pretrained(\"gpt2-small\", fold_ln=False, center_unembed=False, center_writing_weights=False)"
      ]
    },
    {
      "cell_type": "markdown",
      "metadata": {
        "id": "w1x_mWI6m4Rz"
      },
      "source": [
        "# 1️⃣ Understanding Inputs & Outputs of a Transformer\n"
      ]
    },
    {
      "cell_type": "markdown",
      "metadata": {
        "id": "B_FUMfnwA6Oq"
      },
      "source": [
        "> ### Learning Objectives\n",
        ">\n",
        "> * Understand what a transformer is used for\n",
        "> * Understand causal attention, and what a transformer's output represents\n",
        "> * Learn what tokenization is, and how models do it\n",
        "> * Understand what logits are, and how to use them to derive a probability distribution over the vocabulary\n"
      ]
    },
    {
      "cell_type": "markdown",
      "metadata": {
        "id": "d--zV4Crm4Rz"
      },
      "source": [
        "## What is the point of a transformer?\n"
      ]
    },
    {
      "cell_type": "markdown",
      "metadata": {
        "id": "MaMw4jYgm4Rz"
      },
      "source": [
        "**Transformers exist to model text!**\n",
        "\n",
        "We're going to focus GPT-2 style transformers. Key feature: They generate text! You feed in language, and the model generates a probability distribution over tokens. And you can repeatedly sample from this to generate text!\n",
        "\n",
        "(To explain this in more detail - you feed in a sequence of length $N$, then sample from the probability distribution over the $N+1$-th word, use this to construct a new sequence of length $N+1$, then feed this new sequence into the model to get a probability distribution over the $N+2$-th word, and so on.)\n",
        "\n",
        "### How is the model trained?\n",
        "\n",
        "You give it a bunch of text, and train it to predict the next token.\n",
        "\n",
        "Importantly, if you give a model 100 tokens in a sequence, it predicts the next token for *each* prefix, i.e. it produces 100 logit vectors (= probability distributions) over the set of all words in our vocabulary, with the `i`-th logit vector representing the probability distribution over the token *following* the `i`-th token in the sequence. This is a key part of what allows transformers to be trained so efficiently; for every sequence of length $n$ we get $n$ different predictions to train on:\n",
        "\n",
        "$$\n",
        "p(x_1), \\; p(x_2|x_1), \\; p(x_3|x_1x_2), \\; \\ldots, \\; p(x_n|x_1 \\ldots x_{n-1})\n",
        "$$\n",
        "\n",
        "<details>\n",
        "<summary>Aside - logits</summary>\n",
        "\n",
        "If you haven't encountered the term \"logits\" before, here's a quick refresher.\n",
        "\n",
        "Given an arbitrary vector $x$, we can turn it into a probability distribution via the **softmax** function: $x_i \\to \\frac{e^{x_i}}{\\sum e^{x_j}}$. The exponential makes everything positive; the normalization makes it add to one.\n",
        "\n",
        "The model's output is the vector $x$ (one for each prediction it makes). We call this vector a logit because it represents a probability distribution, and it is related to the actual probabilities via the softmax function.\n",
        "</details>\n",
        "\n",
        "How do we stop the transformer by \"cheating\" by just looking at the tokens it's trying to predict? Answer - we make the transformer have *causal attention* (as opposed to *bidirectional attention*). Causal attention only allows information to move forwards in the sequence, never backwards. The prediction of what comes after token 50 is only a function of the first 50 tokens, *not* of token 51. We say the transformer is **autoregressive**, because it only predicts future words based on past data.\n"
      ]
    },
    {
      "cell_type": "markdown",
      "metadata": {
        "id": "MLmp-YtJcPXd"
      },
      "source": [
        "<img src=\"https://raw.githubusercontent.com/callummcdougall/computational-thread-art/master/example_images/misc/transformer-overview-new.png\" width=\"900\">\n"
      ]
    },
    {
      "cell_type": "markdown",
      "metadata": {
        "id": "z8ZVvPhDm4R0"
      },
      "source": [
        "## Tokens - Transformer Inputs\n"
      ]
    },
    {
      "cell_type": "markdown",
      "metadata": {
        "id": "UkBYr2qym4R0"
      },
      "source": [
        "Our tranformer's input is natural language (i.e. a sequence of characters, strings, etc). But ML models generally take vectors as input, not language. How do we convert language to vectors?\n",
        "\n",
        "We can factor this into 2 questions:\n",
        "\n",
        "1. How do we split up language into small sub-units?\n",
        "2. How do we convert these sub-units into vectors?\n",
        "\n",
        "Let's start with the second of these questions.\n"
      ]
    },
    {
      "cell_type": "markdown",
      "metadata": {
        "id": "4X3SStKccPXe"
      },
      "source": [
        "### Converting sub-units to vectors\n",
        "\n",
        "We basically make a massive lookup table, which is called an **embedding**. It has one vector for each possible sub-unit of language we might get (we call this set of all sub-units our **vocabulary**). We label every element in our vocabulary with an integer (this labelling never changes), and we use this integer to index into the embedding.\n",
        "\n",
        "A key intuition is that one-hot encodings let you think about each integer independently. We don't bake in any relation between words when we perform our embedding, because every word has a completely separate embedding vector.\n",
        "\n",
        "<details>\n",
        "<summary>Aside - one-hot encodings</summary>\n",
        "\n",
        "We sometimes think about **one-hot encodings** of words. These are vectors with zeros everywhere, except for a single one in the position corresponding to the word's index in the vocabulary. This means that indexing into the embedding is equivalent to multiplying the **embedding matrix** by the one-hot encoding (where the embedding matrix is the matrix we get by stacking all the embedding vectors on top of each other).\n",
        "\n",
        "$$\n",
        "\\begin{aligned}\n",
        "W_E &= \\begin{bmatrix}\n",
        "\\leftarrow v_0 \\rightarrow \\\\\n",
        "\\leftarrow v_1 \\rightarrow \\\\\n",
        "\\vdots \\\\\n",
        "\\leftarrow v_{d_{vocab}-1} \\rightarrow \\\\\n",
        "\\end{bmatrix} \\quad \\text{is the embedding matrix (size }d_{vocab} \\times d_{embed}\\text{),} \\\\\n",
        "\\\\\n",
        "t_i &= (0, \\dots, 0, 1, 0, \\dots, 0) \\quad \\text{is the one-hot encoding for the }i\\text{th word (length }d_{vocab}\\text{)} \\\\\n",
        "\\\\\n",
        "v_i &= t_i W_E \\quad \\text{is the embedding vector for the }i\\text{th word (length }d_{embed}\\text{).} \\\\\n",
        "\\end{aligned}\n",
        "$$\n",
        "\n",
        "</details>\n",
        "\n",
        "Now, let's answer the first question - how do we split language into sub-units?\n"
      ]
    },
    {
      "cell_type": "markdown",
      "metadata": {
        "id": "Y7t_YsDxm4R0"
      },
      "source": [
        "### Splitting language into sub-units\n",
        "\n",
        "We need to define a standard way of splitting up language into a series of substrings, where each substring is a member of our **vocabulary** set.\n",
        "\n",
        "Could we use a dictionary, and have our vocabulary be the set of all words in the dictionary? No, because this couldn't handle arbitrary text (e.g. URLs, punctuation, etc). We need a more general way of splitting up language.\n",
        "\n",
        "Could we just use the 256 ASCII characters? This fixes the previous problem, but it loses structure of language - some sequences of characters are more meaningful than others. For example, \"language\" is a lot more meaningful than \"hjksdfiu\". We want \"language\" to be a single token, but not \"hjksdfiu\" - this is a more efficient use of our vocab.\n",
        "\n",
        "What actually happens? The most common strategy is called **Byte-Pair encodings**.\n",
        "\n",
        "We begin with the 256 ASCII characters as our tokens, and then find the most common pair of tokens, and merge that into a new token. Note that we do have a space character as one of our 256 tokens, and merges using space are very common. For instance, here are the five first merges for the tokenizer used by GPT-2 (you'll be able to verify this below).\n",
        "\n",
        "```\n",
        "\" t\"\n",
        "\" a\"\n",
        "\"he\"\n",
        "\"in\"\n",
        "\"re\"\n",
        "```\n",
        "\n",
        "Note - you might see the character `Ġ` in front of some tokens. This is a special token that indicates that the token begins with a space. Tokens with a leading space vs not are different.\n",
        "\n",
        "You can run the code below to see some more of GPT-2's tokenizer's vocabulary:\n"
      ]
    },
    {
      "cell_type": "code",
      "execution_count": null,
      "metadata": {
        "colab": {
          "base_uri": "https://localhost:8080/"
        },
        "id": "sHq2U0hKnXMm",
        "outputId": "835d7025-ac13-4673-fcb4-005164c5576c"
      },
      "outputs": [
        {
          "output_type": "stream",
          "name": "stdout",
          "text": [
            "[('!', 0), ('\"', 1), ('#', 2), ('$', 3), ('%', 4), ('&', 5), (\"'\", 6), ('(', 7), (')', 8), ('*', 9), ('+', 10), (',', 11), ('-', 12), ('.', 13), ('/', 14), ('0', 15), ('1', 16), ('2', 17), ('3', 18), ('4', 19)]\n",
            "\n",
            "[('ľ', 250), ('Ŀ', 251), ('ŀ', 252), ('Ł', 253), ('ł', 254), ('Ń', 255), ('Ġt', 256), ('Ġa', 257), ('he', 258), ('in', 259), ('re', 260), ('on', 261), ('Ġthe', 262), ('er', 263), ('Ġs', 264), ('at', 265), ('Ġw', 266), ('Ġo', 267), ('en', 268), ('Ġc', 269)]\n",
            "\n",
            "[('Ġprodu', 990), ('Ġstill', 991), ('led', 992), ('ah', 993), ('Ġhere', 994), ('Ġworld', 995), ('Ġthough', 996), ('Ġnum', 997), ('arch', 998), ('imes', 999), ('ale', 1000), ('ĠSe', 1001), ('ĠIf', 1002), ('//', 1003), ('ĠLe', 1004), ('Ġret', 1005), ('Ġref', 1006), ('Ġtrans', 1007), ('ner', 1008), ('ution', 1009)]\n",
            "\n"
          ]
        }
      ],
      "source": [
        "sorted_vocab = sorted(list(reference_gpt2.tokenizer.vocab.items()), key=lambda n: n[1])\n",
        "print(sorted_vocab[:20])\n",
        "print()\n",
        "print(sorted_vocab[250:270])\n",
        "print()\n",
        "print(sorted_vocab[990:1010])\n",
        "print()"
      ]
    },
    {
      "cell_type": "markdown",
      "metadata": {
        "id": "ddGjdpeinaI8"
      },
      "source": [
        "As you get to the end of the vocabulary, you'll be producing some pretty weird-looking esoteric tokens (because you'll already have exhausted all of the short frequently-occurring ones):\n"
      ]
    },
    {
      "cell_type": "code",
      "execution_count": null,
      "metadata": {
        "colab": {
          "base_uri": "https://localhost:8080/"
        },
        "id": "Rl40Jlw0m4R0",
        "outputId": "1e6314c5-107c-468b-8f98-14f53ebfc742"
      },
      "outputs": [
        {
          "output_type": "stream",
          "name": "stdout",
          "text": [
            "[('Revolution', 50237), ('Ġsnipers', 50238), ('Ġreverted', 50239), ('Ġconglomerate', 50240), ('Terry', 50241), ('794', 50242), ('Ġharsher', 50243), ('Ġdesolate', 50244), ('ĠHitman', 50245), ('Commission', 50246), ('Ġ(/', 50247), ('âĢ¦.\"', 50248), ('Compar', 50249), ('Ġamplification', 50250), ('ominated', 50251), ('Ġregress', 50252), ('ĠCollider', 50253), ('Ġinformants', 50254), ('Ġgazed', 50255), ('<|endoftext|>', 50256)]\n"
          ]
        }
      ],
      "source": [
        "print(sorted_vocab[-20:])"
      ]
    },
    {
      "cell_type": "markdown",
      "source": [
        "\n",
        "<details>\n",
        "<summary>Fun (totally optional) exercise - can you guess what the first-formed 3/4/5/6/7-letter encodings in GPT-2's vocabulary are?</summary>\n",
        "Run this code to find out:\n",
        "\n",
        "```python\n",
        "lengths = dict.fromkeys(range(3, 8), \"\")\n",
        "for tok, idx in sorted_vocab:\n",
        "    if not lengths.get(len(tok), True):\n",
        "        lengths[len(tok)] = tok\n",
        "\n",
        "for length, tok in lengths.items():\n",
        "    print(f\"{length}: {tok}\")\n",
        "```\n",
        "</details>\n"
      ],
      "metadata": {
        "id": "MvBjqHB31E9M"
      }
    },
    {
      "cell_type": "markdown",
      "metadata": {
        "id": "S5OKWOqHnmBg"
      },
      "source": [
        "Transformers in the `transformer_lens` library have a `to_tokens` method that converts text to numbers. It also prepends them with a special token called BOS (beginning of sequence) to indicate the start of a sequence. You can disable this with the `prepend_bos=False` argument.\n",
        "\n",
        "<details>\n",
        "<summary>Aside - BOS token</summary>\n",
        "\n",
        "The beginning of sequence (BOS) token is a special token used to mark the beginning of the sequence. Confusingly, in GPT-2, the End of Sequence (EOS), Beginning of Sequence (BOS) and Padding (PAD) tokens are all the same, `<|endoftext|>` with index `50256`.\n",
        "\n",
        "Why is this token added? Some basic intuitions are:\n",
        "\n",
        "* It provides context that this is the start of a sequence, which can help the model generate more appropriate text.\n",
        "* It can act as a \"rest position\" for attention heads (more on this later, when we discuss attention).\n",
        "\n",
        "TransformerLens adds this token automatically (including in forward passes of transformer models, e.g. it's implicitly added when you call `model(\"Hello World\")`). You can disable this behaviour by setting the flag `prepend_bos=False` in `to_tokens`, `to_str_tokens`, `model.forward` and any other function that converts strings to multi-token tensors.\n",
        "\n",
        "**Key Point: *If you get weird off-by-one errors, check whether there's an unexpected `prepend_bos`!***\n",
        "\n",
        "Why are the BOS, EOS and PAD tokens the same? This is because GPT-2 is an autoregressive model, and uses these kinds of tokens in a slightly different way to other transformer families (e.g. BERT). For instance, GPT has no need to distinguish between BOS and EOS tokens, because it only processes text from left to right.\n",
        "\n",
        "</details>\n",
        "\n",
        "### Some tokenization annoyances\n",
        "\n",
        "There are a few funky and frustrating things about tokenization, which causes it to behave differently than you might expect. For instance:\n",
        "\n",
        "#### Whether a word begins with a capital or space matters!\n"
      ]
    },
    {
      "cell_type": "code",
      "execution_count": null,
      "metadata": {
        "colab": {
          "base_uri": "https://localhost:8080/"
        },
        "id": "0vlZ-pRAnoEw",
        "outputId": "40ec60d2-e9cb-4ada-a4ee-a61cde94a363"
      },
      "outputs": [
        {
          "output_type": "stream",
          "name": "stdout",
          "text": [
            "['<|endoftext|>', 'R', 'alph']\n",
            "['<|endoftext|>', ' Ralph']\n",
            "['<|endoftext|>', ' r', 'alph']\n",
            "['<|endoftext|>', 'ral', 'ph']\n"
          ]
        }
      ],
      "source": [
        "print(reference_gpt2.to_str_tokens(\"Ralph\"))\n",
        "print(reference_gpt2.to_str_tokens(\" Ralph\"))\n",
        "print(reference_gpt2.to_str_tokens(\" ralph\"))\n",
        "print(reference_gpt2.to_str_tokens(\"ralph\"))"
      ]
    },
    {
      "cell_type": "markdown",
      "metadata": {
        "id": "joPO920PntIw"
      },
      "source": [
        "#### Arithmetic is a mess.\n",
        "\n",
        "Length is inconsistent, common numbers bundle together.\n"
      ]
    },
    {
      "cell_type": "code",
      "execution_count": null,
      "metadata": {
        "colab": {
          "base_uri": "https://localhost:8080/"
        },
        "id": "rzbf4t-Zm4R1",
        "outputId": "43e6743c-bd1b-433f-8e35-0e811f25a3e5"
      },
      "outputs": [
        {
          "output_type": "stream",
          "name": "stdout",
          "text": [
            "['<|endoftext|>', '568', '73', '+', '318', '46', '23', '=', '123', '45', '67', '89', '-', '1', '000000', '000']\n"
          ]
        }
      ],
      "source": [
        "print(reference_gpt2.to_str_tokens(\"56873+3184623=123456789-1000000000\"))"
      ]
    },
    {
      "cell_type": "markdown",
      "metadata": {
        "id": "GgtPkQE-m4R2"
      },
      "source": [
        "> ### Key Takeaways\n",
        ">\n",
        "> * We learn a dictionary of vocab of tokens (sub-words).\n",
        "> * We (approx) losslessly convert language to integers via tokenizing it.\n",
        "> * We convert integers to vectors via a lookup table.\n",
        "> * Note: input to the transformer is a sequence of *tokens* (ie integers), not vectors\n"
      ]
    },
    {
      "cell_type": "markdown",
      "metadata": {
        "id": "rCSs3uXgn9Kb"
      },
      "source": [
        "## Text generation\n",
        "\n",
        "Now that we understand the basic ideas here, let's go through the entire process of text generation, from our original string to a new token which we can append to our string and plug back into the model.\n",
        "\n",
        "#### **Step 1:** Convert text to tokens\n",
        "\n",
        "The sequence gets tokenized, so it has shape `[batch, seq_len]`. Here, the batch dimension is just one (because we only have one sequence).\n"
      ]
    },
    {
      "cell_type": "code",
      "execution_count": null,
      "metadata": {
        "colab": {
          "base_uri": "https://localhost:8080/"
        },
        "id": "mommexyJm4R3",
        "outputId": "23cd889e-758d-45ac-d019-e39c5009e687"
      },
      "outputs": [
        {
          "output_type": "stream",
          "name": "stdout",
          "text": [
            "tensor([[50256,    40,   716,   281,  4998,  1960,   382, 19741,    11,   875,\n",
            "         12342,    12,  8807,    11,   402, 11571,    12,    17,  3918, 47385,\n",
            "            13,  1881,  1110,   314,   481,  7074,  1692,  1241,  4430,   290,\n",
            "          1011,   625,   262,   995,     0]], device='cuda:0')\n",
            "torch.Size([1, 35])\n",
            "['<|endoftext|>', 'I', ' am', ' an', ' amazing', ' aut', 'ore', 'gressive', ',', ' dec', 'oder', '-', 'only', ',', ' G', 'PT', '-', '2', ' style', ' transformer', '.', ' One', ' day', ' I', ' will', ' exceed', ' human', ' level', ' intelligence', ' and', ' take', ' over', ' the', ' world', '!']\n"
          ]
        }
      ],
      "source": [
        "reference_text = \"I am an amazing autoregressive, decoder-only, GPT-2 style transformer. One day I will exceed human level intelligence and take over the world!\"\n",
        "tokens = reference_gpt2.to_tokens(reference_text).to(device)\n",
        "print(tokens)\n",
        "print(tokens.shape)\n",
        "print(reference_gpt2.to_str_tokens(tokens))"
      ]
    },
    {
      "cell_type": "markdown",
      "metadata": {
        "id": "Ovci8XHNm4R3"
      },
      "source": [
        "#### **Step 2:** Map tokens to logits\n",
        "\n",
        "\n",
        "From our input of shape `[batch, seq_len]`, we get output of shape `[batch, seq_len, vocab_size]`. The `[i, j, :]`-th element of our output is a vector of logits representing our prediction for the `j+1`-th token in the `i`-th sequence.\n"
      ]
    },
    {
      "cell_type": "code",
      "execution_count": null,
      "metadata": {
        "colab": {
          "base_uri": "https://localhost:8080/"
        },
        "id": "5iK_hEUzm4R3",
        "outputId": "2e3bb20f-c4e0-48b6-c4c0-fbfcfa69dcd1"
      },
      "outputs": [
        {
          "output_type": "stream",
          "name": "stdout",
          "text": [
            "torch.Size([1, 35, 50257])\n"
          ]
        }
      ],
      "source": [
        "logits, cache = reference_gpt2.run_with_cache(tokens)\n",
        "print(logits.shape)"
      ]
    },
    {
      "cell_type": "markdown",
      "metadata": {
        "id": "39kXnrmrgeIw"
      },
      "source": [
        "(`run_with_cache` tells the model to cache all intermediate activations. This isn't important right now; we'll look at it in more detail later.)\n"
      ]
    },
    {
      "cell_type": "markdown",
      "metadata": {
        "id": "SDv_ftwFm4R4"
      },
      "source": [
        "#### **Step 3:** Convert the logits to a distribution with a softmax\n",
        "\n",
        "This doesn't change the shape, it is still `[batch, seq_len, vocab_size]`.\n"
      ]
    },
    {
      "cell_type": "code",
      "execution_count": null,
      "metadata": {
        "colab": {
          "base_uri": "https://localhost:8080/"
        },
        "id": "csYLLcvcm4R4",
        "outputId": "a36b9e37-8529-4970-f0cd-c08a92f9c37f"
      },
      "outputs": [
        {
          "output_type": "stream",
          "name": "stdout",
          "text": [
            "torch.Size([1, 35, 50257])\n"
          ]
        }
      ],
      "source": [
        "probs = logits.softmax(dim=-1)\n",
        "print(probs.shape)"
      ]
    },
    {
      "cell_type": "markdown",
      "metadata": {
        "id": "BkOqYy8qm4R4"
      },
      "source": [
        "#### **Bonus step:** What is the most likely next token at each position?\n"
      ]
    },
    {
      "cell_type": "code",
      "execution_count": null,
      "metadata": {
        "colab": {
          "base_uri": "https://localhost:8080/"
        },
        "id": "9tKcEGLXm4R4",
        "outputId": "bb217c30-e8cc-41c8-affc-84fce87e5c76"
      },
      "outputs": [
        {
          "output_type": "stream",
          "name": "stdout",
          "text": [
            "[('<|endoftext|>', '\\n'), ('I', \"'m\"), (' am', ' a'), (' an', ' avid'), (' amazing', ' person'), (' aut', 'od'), ('ore', 'sp'), ('gressive', '.'), (',', ' and'), (' dec', 'ently'), ('oder', ','), ('-', 'driven'), ('only', ' programmer'), (',', ' and'), (' G', 'IM'), ('PT', '-'), ('-', 'only'), ('2', '.'), (' style', ','), (' transformer', '.'), ('.', ' I'), (' One', ' of'), (' day', ' I'), (' I', ' will'), (' will', ' be'), (' exceed', ' my'), (' human', 'ly'), (' level', ' of'), (' intelligence', ' and'), (' and', ' I'), (' take', ' over'), (' over', ' the'), (' the', ' world'), (' world', '.'), ('!', ' I')]\n"
          ]
        }
      ],
      "source": [
        "most_likely_next_tokens = reference_gpt2.tokenizer.batch_decode(logits.argmax(dim=-1)[0])\n",
        "\n",
        "print(list(zip(reference_gpt2.to_str_tokens(tokens), most_likely_next_tokens)))"
      ]
    },
    {
      "cell_type": "markdown",
      "metadata": {
        "id": "yESVZd2igyPd"
      },
      "source": [
        "We can see that, in a few cases (particularly near the end of the sequence), the model accurately predicts the next token in the sequence. We might guess that `\"take over the world\"` is a common phrase that the model has seen in training, which is why the model can predict it.\n"
      ]
    },
    {
      "cell_type": "markdown",
      "metadata": {
        "id": "DrZCnki1m4R4"
      },
      "source": [
        "#### **Step 4:** Map distribution to a token\n"
      ]
    },
    {
      "cell_type": "code",
      "execution_count": null,
      "metadata": {
        "colab": {
          "base_uri": "https://localhost:8080/"
        },
        "id": "Pp9PB99Mm4R4",
        "outputId": "e458916c-3874-4e3c-dee5-217ed9ee8602"
      },
      "outputs": [
        {
          "output_type": "stream",
          "name": "stdout",
          "text": [
            "' I'\n"
          ]
        }
      ],
      "source": [
        "next_token = logits[0, -1].argmax(dim=-1)\n",
        "next_char = reference_gpt2.to_string(next_token)\n",
        "print(repr(next_char))"
      ]
    },
    {
      "cell_type": "markdown",
      "metadata": {
        "id": "I4uXGn1mhSnf"
      },
      "source": [
        "Note that we're indexing `logits[0, -1]`. This is because logits have shape `[1, sequence_length, vocab_size]`, so this indexing returns the vector of length `vocab_size` representing the model's prediction for what token follows the **last** token in the input sequence.\n",
        "\n",
        "In this case, we can see that the model predicts the token `' I'`."
      ]
    },
    {
      "cell_type": "markdown",
      "metadata": {
        "id": "8XmSN1YFm4R5"
      },
      "source": [
        "### **Step 5:** Add this to the end of the input, re-run\n",
        "\n",
        "There are more efficient ways to do this (e.g. where we cache some of the values each time we run our input, so we don't have to do as much calculation each time we generate a new value), but this doesn't matter conceptually right now.\n"
      ]
    },
    {
      "cell_type": "code",
      "execution_count": null,
      "metadata": {
        "id": "dpgN-auXm4R6"
      },
      "outputs": [],
      "source": [
        "# print(f\"Sequence so far: {reference_gpt2.to_string(tokens)[0]!r}\")\n",
        "\n",
        "# for i in range(10):\n",
        "#     print(f\"{tokens.shape[-1]+1}th char = {next_char!r}\")\n",
        "#     # Define new input sequence, by appending the previously generated token\n",
        "#     tokens = t.cat([tokens, next_token[None, None]], dim=-1)\n",
        "#     # Pass our new sequence through the model, to get new output\n",
        "#     logits = reference_gpt2(tokens)\n",
        "#     # Get the predicted token at the end of our sequence\n",
        "#     next_token = logits[0, -1].argmax(dim=-1)\n",
        "#     # Decode and print the result\n",
        "#     next_char = reference_gpt2.to_string(next_token)"
      ]
    },
    {
      "cell_type": "markdown",
      "metadata": {
        "id": "PVd8J0QLm4R6"
      },
      "source": [
        "## Key takeaways\n",
        "\n",
        "* Transformer takes in language, predicts next token (for *each* token in a causal way)\n",
        "* We convert language to a sequence of integers with a tokenizer.\n",
        "* We convert integers to vectors with a lookup table.\n",
        "* Output is a vector of logits (one for each input token), we convert to a probability distn with a softmax, and can then convert this to a token (eg taking the largest logit, or sampling).\n",
        "* We append this to the input + run again to generate more text (Jargon: *autoregressive*)\n",
        "* Meta level point: Transformers are sequence operation models, they take in a sequence, do processing in parallel at each position, and use attention to move information between positions!\n"
      ]
    },
    {
      "cell_type": "markdown",
      "metadata": {
        "id": "BaSOTaLdm4R6"
      },
      "source": [
        "# 2️⃣ Clean Transformer Implementation\n"
      ]
    },
    {
      "cell_type": "markdown",
      "metadata": {
        "id": "-3YLmU9boWEv"
      },
      "source": [
        "> ##### Learning objectives\n",
        ">\n",
        "> * Understand that a transformer is composed of attention heads and MLPs, with each one performing operations on the residual stream\n",
        "> * Understand that the attention heads in a single layer operate independently, and that they have the role of calculating attention patterns (which determine where information is moved to & from in the residual stream)\n",
        "> * Learn about & implement the following transformer modules:\n",
        ">     * LayerNorm (transforming the input to have zero mean and unit variance)\n",
        ">     * Positional embedding (a lookup table from position indices to residual stream vectors)\n",
        ">     * Attention (the method of computing attention patterns for residual stream vectors)\n",
        ">     * MLP (the collection of linear and nonlinear transformations which operate on each residual stream vector in the same way)\n",
        ">     * Embedding (a lookup table from tokens to residual stream vectors)\n",
        ">     * Unembedding (a matrix for converting residual stream vectors into a distribution over tokens)\n"
      ]
    },
    {
      "cell_type": "markdown",
      "metadata": {
        "id": "v2LTUZkXm4R7"
      },
      "source": [
        "## High-Level architecture\n",
        "\n",
        "Go watch Neel's [Transformer Circuits walkthrough](https://www.youtube.com/watch?v=KV5gbOmHbjU) if you want more intuitions!\n",
        "\n",
        "(Diagram is bottom to top, right-click and open for higher resolution.)\n",
        "\n",
        "<img src=\"https://raw.githubusercontent.com/chloeli-15/ARENA_img/main/img/transformer-new2.png\" width=\"1024\">\n"
      ]
    },
    {
      "cell_type": "markdown",
      "metadata": {
        "id": "347we6hfo6oP"
      },
      "source": [
        "### Tokenization & Embedding\n",
        "\n",
        "The input tokens $t$ are integers. We get them from taking a sequence, and tokenizing it (like we saw in the previous section).\n",
        "\n",
        "The token embedding is a lookup table mapping tokens to vectors, which is implemented as a matrix $W_E$. The matrix consists of a stack of token embedding vectors (one for each token).\n"
      ]
    },
    {
      "cell_type": "markdown",
      "metadata": {
        "id": "7SVWlk-qo9Bg"
      },
      "source": [
        "### Residual stream\n",
        "\n",
        "The residual stream is the sum of all previous outputs of layers of the model, is the input to each new layer. It has shape `[batch, seq_len, d_model]` (where `d_model` is the length of a single embedding vector).\n",
        "\n",
        "The initial value of the residual stream is denoted $x_0$ in the diagram, and $x_i$ are later values of the residual stream (after more attention and MLP layers have been applied to the residual stream).\n",
        "\n",
        "The residual stream is *really* fundamental. It's the central object of the transformer. It's how model remembers things, moves information between layers for composition, and it's the medium used to store the information that attention moves between positions.\n",
        "\n",
        "<details>\n",
        "<summary>Aside - <b>logit lens</b></summary>\n",
        "\n",
        "A key idea of transformers is the [residual stream as output accumulation](https://www.lesswrong.com/posts/X26ksz4p3wSyycKNB/gears-level-mental-models-of-transformer-interpretability#Residual_Stream_as_Output_Accumulation:~:text=The%20Models-,Residual%20Stream%20as%20Output%20Accumulation,-The%20residual%20stream). As we move through the layers of the model, shifting information around and processing it, the values in the residual stream represent the accumulation of all the inferences made by the transformer up to that point.\n",
        "\n",
        "This is neatly illustrated by the **logit lens**. Rather than getting predictions from the residual stream at the very end of the model, we can take the value of the residual stream midway through the model and convert it to a distribution over tokens. When we do this, we find surprisingly coherent predictions, especially in the last few layers before the end.\n",
        "</details>\n"
      ]
    },
    {
      "cell_type": "markdown",
      "metadata": {
        "id": "MTQ0R_FIo_Er"
      },
      "source": [
        "### Transformer blocks\n",
        "\n",
        "Then we have a series of `n_layers` **transformer blocks** (also sometimes called **residual blocks**).\n",
        "\n",
        "Note - a block contains an attention layer *and* an MLP layer, but we say a transformer has $k$ layers if it has $k$ blocks (i.e. $2k$ total layers).\n",
        "\n",
        "<img src=\"https://raw.githubusercontent.com/chloeli-15/ARENA_img/main/img/transformer-block2.png\" width=\"900\">\n",
        "\n"
      ]
    },
    {
      "cell_type": "markdown",
      "metadata": {
        "id": "bN8L6lEgpBNB"
      },
      "source": [
        "#### Attention\n",
        "\n",
        "First we have attention. This moves information from prior positions in the sequence to the current token.\n",
        "\n",
        "We do this for *every* token in parallel using the same parameters. The only difference is that we look backwards only (to avoid \"cheating\"). This means later tokens have more of the sequence that they can look at.\n",
        "\n",
        "Attention layers are the only bit of a transformer that moves information between positions (i.e. between vectors at different sequence positions in the residual stream).\n",
        "\n",
        "Attention layers are made up of `n_heads` heads - each with their own parameters, own attention pattern, and own information how to copy things from source to destination. The heads act independently and additively, we just add their outputs together, and back to the stream.\n",
        "\n",
        "Each head does the following:\n",
        "* Produces an **attention pattern** for each destination token, a probability distribution of prior source tokens (including the current one) weighting how much information to copy.\n",
        "* Moves information (via a linear map) in the same way from each source token to each destination token.\n",
        "\n",
        "A few key points:\n",
        "\n",
        "* What information we copy depends on the source token's *residual stream*, but this doesn't mean it only depends on the value of that token, because the residual stream can store more information than just the token identity (the purpose of the attention heads is to move information between vectors at different positions in the residual stream!)\n",
        "* We can think of each attention head as consisting of two different **circuits**:\n",
        "    * One circuit determines **where to move information to and from** (this is a function of the residual stream for the source and destination tokens)\n",
        "    * The other circuit determines **what information to move** (this is a function of only the source token's residual stream)\n",
        "    * For reasons which will become clear later, we refer to the first circuit as the **QK circuit**, and the second circuit as the **OV circuit**\n",
        "\n",
        "<details>\n",
        "<summary>Key intuition - attention as generalized convolution</summary>\n",
        "\n",
        "We can think of attention as a kind of generalized convolution. Standard convolution layers work by imposing a \"prior of locality\", i.e. the assumption that pixels which are close together are more likely to share information. Although language has some locality (two words next to each other are more likely to share information than two words 100 tokens apart), the picture is a lot more nuanced, because which tokens are relevant to which others depends on the context of the sentence. For instance, in the sentence `\"When Mary and John went to the store, John gave a drink to Mary\"`, the names in this sentence are the most important tokens for predicting that the final token will be `\"Mary\"`, and this is because of the particular context of this sentence rather than the tokens' position.\n",
        "\n",
        "Attention layers are effectively our way of saying to the transformer, \"don't impose a prior of locality, but instead develop your own algorithm to figure out which tokens are important to which other tokens in any given sequence.\"\n",
        "</details>\n",
        "\n",
        "Below is a schematic diagram of the attention layers. Don't worry if you don't follow this right now, we'll go into more detail during implementation.\n"
      ]
    },
    {
      "cell_type": "markdown",
      "metadata": {
        "id": "9oU4oR-_omed"
      },
      "source": [
        "<img src=\"https://raw.githubusercontent.com/chloeli-15/ARENA_img/main/img/transformer-attn-new-v2.png\" width=\"1100\">\n"
      ]
    },
    {
      "cell_type": "markdown",
      "metadata": {
        "id": "fGmfTAbCm4R7"
      },
      "source": [
        "### MLP\n",
        "\n",
        "The MLP layers are just a standard neural network, with a singular hidden layer and a nonlinear activation function. The exact activation isn't conceptually important ([GELU](https://paperswithcode.com/method/gelu) seems to perform best).\n",
        "\n",
        "Our hidden dimension is normally `d_mlp = 4 * d_model`. Exactly why the ratios are what they are isn't super important (people basically cargo-cult what GPT did back in the day!).\n",
        "\n",
        "Importantly, **the MLP operates on positions in the residual stream independently, and in exactly the same way**. It doesn't move information between positions.\n",
        "\n",
        "Intuition - once attention has moved relevant information to a single position in the residual stream, MLPs can actually do computation, reasoning, lookup information, etc. *What the hell is going on inside MLPs* is a pretty big open problem in transformer mechanistic interpretability - see the [Toy Model of Superposition Paper](https://transformer-circuits.pub/2022/toy_model/index.html) for more on why this is hard.\n",
        "\n",
        "<details>\n",
        "<summary>Key intuition - MLPs as key-value pairs</summary>\n",
        "\n",
        "We can write the MLP's output as $f(x^T W^{in})W^{out}$, where $W^{in}$ and $W^{out}$ are the different weights of the MLP (ignoring biases), $f$ is the activation function, and $x$ is a vector in the residual stream. This can be rewritten as:\n",
        "\n",
        "$$\n",
        "f(x^T W^{in}) W^{out} = \\sum_{i=1}^{d_{mlp}} f(x^T W^{in}_{[:, i]}) W^{out}_{[i, :]}\n",
        "$$\n",
        "\n",
        "We can view the vectors $W^{in}_{[:, i]}$ as the **input directions**, and $W^{out}_{[i, :]}$ as the **output directions**. We say the input directions are **activated** by certain textual features, and when they are activated, vectors are written in the corresponding output direction. This is very similar to the concept of keys and values in attention layers, which is why these vectors are also sometimes called keys and values (e.g. see the paper [Transformer Feed-Forward Layers Are Key-Value Memories](https://arxiv.org/pdf/2012.14913.pdf)).\n",
        "\n",
        "Terminology note - sometimes we refer to each of these $d_{mlp}$ input-output pairs as **neurons**.\n",
        "\n",
        "<img src=\"https://raw.githubusercontent.com/chloeli-15/ARENA_img/main/img/mlp-neurons-2.png\" width=\"900\">\n",
        "\n",
        "---\n",
        "\n",
        "Here's a step-by-step breakdown of the linear algebra, if it was too fast above. We have:\n",
        "\n",
        "$$\n",
        "\\begin{aligned}\n",
        "x^T W^{in} &= x^T [W^{in}_{[:, 1]}\\,, ...\\;, W^{in}_{[:, n]}] \\\\\n",
        "&= (x^T W^{in}_{[:, 1]}\\,, \\; ...\\;, \\; x^T W^{in}_{[:, n]})\n",
        "\\end{aligned}\n",
        "$$\n",
        "\n",
        "where $W^{in}_{[:, i]}$ are the columns of $W^{in}$. In other words, these values (the pre-GELU activations) are projections of $x$ along the input directions of the neurons.\n",
        "\n",
        "If we add our activation function and the second matrix, then we get:\n",
        "\n",
        "$$\n",
        "\\begin{aligned}\n",
        "f(x^T W^{in})W^{out} &= (f(x^T W^{in}_{[:, 1]})\\,, \\; ...\\;,\\; f(x^T W^{in}_{[:, n]})) \\begin{bmatrix} \\leftarrow W^{out}_{[1, :]} \\rightarrow \\\\ \\vdots \\\\ \\leftarrow W^{out}_{[n, :]} \\rightarrow \\end{bmatrix} \\\\\n",
        "&= f(x^T W^{in}_{[:, 1]}) W^{out}_{[1, :]} + \\;...\\; + f(x^T W^{in}_{[:, n]}) W^{out}_{[n, :]} \\\\\n",
        "&= \\sum_{i=1}^n f(x^T W^{in}_{[:, i]}) W^{out}_{[i, :]}\n",
        "\\end{aligned}\n",
        "$$\n",
        "\n",
        "where $W^{out}_{[i, :]}$ are the rows of $W^{out}$. In other words, our output is a linear combination of the rows of $W^{out}$, with the coefficients of that linear combination given by the projections of $x$ along the columns of $W^{in}$.\n",
        "\n",
        "</details>\n",
        "\n",
        "<details>\n",
        "<summary>Key intuition - MLPs as knowledge storage</summary>\n",
        "\n",
        "We can think of MLPs as where knowledge gets stored in our transformer. The attention mechanism is what moves information around between sequence positions, but the MLPs is where this information is processed, and new information is written into the residual stream which is a function of the old information.\n",
        "\n",
        "This is deeply connected to the key-value pairs model, since you can treat key-value pairs as a kind of associative memory system (where the key serves as a unique identifier, and the value holds the related information).\n",
        "\n",
        "Another related intuition (for which there is some evidence) is **MLPs as memory management**. In an idealized case, we might find that the $i$-th neuron satisfies $W^{in}_{[:, i]} \\approx - W^{out}_{[i, :]} \\approx \\vec v$ for some unit vector $\\vec v$, meaning it may be responsible for erasing the positive component of vector $\\vec x$ in the direction $\\vec v$ (exercise - can you show why this is the case?). This can free up space in the residual stream for other components to write to.\n",
        "</details>\n"
      ]
    },
    {
      "cell_type": "markdown",
      "metadata": {
        "id": "JxqWjPd2pI2p"
      },
      "source": [
        "<img src=\"https://raw.githubusercontent.com/chloeli-15/ARENA_img/main/img/transformer-mlp-new-2.png\" width=\"650\">\n"
      ]
    },
    {
      "cell_type": "markdown",
      "metadata": {
        "id": "Fvfe6yEtpYMd"
      },
      "source": [
        "### Unembedding\n",
        "\n",
        "Finally, we unembed!\n",
        "\n",
        "This just consists of applying a linear map $W_U$, going from final residual stream to a vector of logits - this is the output.\n",
        "\n",
        "<details>\n",
        "<summary>Aside - tied embeddings</summary>\n",
        "\n",
        "Note - sometimes we use something called a **tied embedding** - this is where we use the same weights for our $W_E$ and $W_U$ matrices. In other words, to get the logit score for a particular token at some sequence position, we just take the vector in the residual stream at that sequence position and take the inner product with the corresponding token embedding vector. This is more training-efficient (because there are fewer parameters in our model), and it might seem pricipled at first. After all, if two words have very similar meanings, shouldn't they have similar embedding vectors because the model will treat them the same, and similar unembedding vectors because they could both be substituted for each other in most output?\n",
        "\n",
        "However, this is actually not very principled, for the following main reason: **the direct path involving the embedding and unembedding should approximate bigram frequencies**.\n",
        "\n",
        "Let's break down this claim. **Bigram frequencies** refers to the frequencies of pairs of words in the english language (e.g. the bigram frequency of \"Barack Obama\" is much higher than the product of the individual frequencies of the words \"Barack\" and \"Obama\"). If our model had no attention heads or MLP layers, then all we have is a linear map from our one-hot encoded token `T` to a probability distribution over the token following `T`. This map is represented by the linear transformation $t \\to t^T W_E W_U$ (where $t$ is our one-hot encoded token vector). Since the output of this transformation can only be a function of the token `T` (and no earlier tokens), the best we can do is have this map approximate the true frequency of bigrams starting with `T`, which appear in the training data. Importantly, **this is not a symmetric map**. We want `T = \"Barack\"` to result in a high probability of the next token being `\"Obama\"`, but not the other way around!\n",
        "\n",
        "Even in multi-layer models, a similar principle applies. There will be more paths through the model than just the \"direct path\" $W_E W_U$, but because of the residual connections there will always exist a direct path, so there will always be some incentive for $W_E W_U$ to approximate bigram frequencies.\n",
        "\n",
        "</details>\n"
      ]
    },
    {
      "cell_type": "markdown",
      "metadata": {
        "id": "g5isIxIEpnO6"
      },
      "source": [
        "### Bonus things - less conceptually important but key technical details\n",
        "\n",
        "#### LayerNorm\n",
        "\n",
        "* Simple normalization function applied at the start of each layer (i.e. before each MLP, attention layer, and before the unembedding)\n",
        "* Converts each input vector (independently in parallel for each `(batch, seq)` residual stream vector) to have mean zero and variance 1.\n",
        "* Then applies an elementwise scaling and translation\n",
        "* Cool maths tangent: The scale ($\\odot \\gamma$) & translate ($+ \\beta$) is just a linear map. LayerNorm is only applied immediately before another linear map (either the MLP, or the query/key/value linear maps in the attention head, or the unembedding $W_U$). Linear compose linear = linear, so we can just fold this into a single effective linear layer and ignore it.\n",
        "    * `fold_ln=True` flag in `from_pretrained` does this for you.\n",
        "* LayerNorm is annoying for interpretability - it would be linear if not for the fact we divide by the variance, so you can't decompose the contributions of the input to the output independently. But it's *almost* linear - if you're changing a small part of the input you can pretend $\\sqrt{\\text{Var}[x] + \\epsilon}$ is constant, so the LayerNorm operation is linear, but if you're changing $x$ enough to alter the norm substantially it's not linear.\n",
        "\n",
        "<img src=\"https://raw.githubusercontent.com/chloeli-15/ARENA_img/main/img/transformer-ln.png\" width=\"900\">\n",
        "\n",
        "</details>\n",
        "\n",
        "\n",
        "#### Positional embeddings\n",
        "\n",
        "* **Problem:** Attention operates over all pairs of positions. This means it's symmetric with regards to position - the attention calculation from token 5 to token 1 and token 5 to token 2 are the same by default\n",
        "    * This is dumb because nearby tokens are more relevant.\n",
        "* There's a lot of dumb hacks for this.\n",
        "* We'll focus on **learned, absolute positional embeddings**. This means we learn a lookup table mapping the index of the position of each token to a residual stream vector, and add this to the embed.\n",
        "    * Note that we *add* rather than concatenate. This is because the residual stream is shared memory, and likely under significant superposition (the model compresses more features in there than the model has dimensions)\n",
        "    * We basically never concatenate inside a transformer, unless doing weird shit like generating text efficiently.\n",
        "* This connects to **attention as generalized convolution**\n",
        "    * We argued that language does still have locality, and so it's helpful for transformers to have access to the positional information so they \"know\" two tokens are next to each other (and hence probably relevant to each other).\n"
      ]
    },
    {
      "cell_type": "markdown",
      "metadata": {
        "id": "pb3wtM2bm4R7"
      },
      "source": [
        "## Actual Code!\n",
        "\n",
        "Key (for the results you get when running the code immediately below)\n",
        "\n",
        "```\n",
        "batch = 1\n",
        "position = 35\n",
        "d_model = 768\n",
        "n_heads = 12\n",
        "n_layers = 12\n",
        "d_mlp = 3072 (= 4 * d_model)\n",
        "d_head = 64 (= d_model / n_heads)\n",
        "```\n"
      ]
    },
    {
      "cell_type": "markdown",
      "metadata": {
        "id": "WC9PaopAm4R7"
      },
      "source": [
        "### Parameters and Activations\n",
        "\n",
        "It's important to distinguish between parameters and activations in the model.\n",
        "\n",
        "* **Parameters** are the weights and biases that are learned during training.\n",
        "    * These don't change when the model input changes.\n",
        "* **Activations** are temporary numbers calculated during a forward pass, that are functions of the input.\n",
        "    * We can think of these values as only existing for the duration of a single forward pass, and disappearing afterwards.\n",
        "    * We can use hooks to access these values during a forward pass (more on hooks later), but it doesn't make sense to talk about a model's activations outside the context of some particular input.\n",
        "    * Attention scores and patterns are activations (this is slightly non-intuitve because they're used in a matrix multiplication with another activation).\n",
        "\n",
        "#### Print All Activation Shapes of Reference Model\n",
        "\n",
        "Run the following code to print all the activation shapes of the reference model:\n"
      ]
    },
    {
      "cell_type": "code",
      "execution_count": null,
      "metadata": {
        "colab": {
          "base_uri": "https://localhost:8080/"
        },
        "id": "m6lM8CJmpwDJ",
        "outputId": "d2f03ab0-f36c-48ac-8993-6aa7c025b96c"
      },
      "outputs": [
        {
          "output_type": "stream",
          "name": "stdout",
          "text": [
            "hook_embed                     (1, 35, 768)\n",
            "hook_pos_embed                 (1, 35, 768)\n",
            "blocks.0.hook_resid_pre        (1, 35, 768)\n",
            "blocks.0.ln1.hook_scale        (1, 35, 1)\n",
            "blocks.0.ln1.hook_normalized   (1, 35, 768)\n",
            "blocks.0.attn.hook_q           (1, 35, 12, 64)\n",
            "blocks.0.attn.hook_k           (1, 35, 12, 64)\n",
            "blocks.0.attn.hook_v           (1, 35, 12, 64)\n",
            "blocks.0.attn.hook_attn_scores (1, 12, 35, 35)\n",
            "blocks.0.attn.hook_pattern     (1, 12, 35, 35)\n",
            "blocks.0.attn.hook_z           (1, 35, 12, 64)\n",
            "blocks.0.hook_attn_out         (1, 35, 768)\n",
            "blocks.0.hook_resid_mid        (1, 35, 768)\n",
            "blocks.0.ln2.hook_scale        (1, 35, 1)\n",
            "blocks.0.ln2.hook_normalized   (1, 35, 768)\n",
            "blocks.0.mlp.hook_pre          (1, 35, 3072)\n",
            "blocks.0.mlp.hook_post         (1, 35, 3072)\n",
            "blocks.0.hook_mlp_out          (1, 35, 768)\n",
            "blocks.0.hook_resid_post       (1, 35, 768)\n",
            "ln_final.hook_scale            (1, 35, 1)\n",
            "ln_final.hook_normalized       (1, 35, 768)\n"
          ]
        }
      ],
      "source": [
        "for activation_name, activation in cache.items():\n",
        "    # Only print for first layer\n",
        "    if \".0.\" in activation_name or \"blocks\" not in activation_name:\n",
        "        print(f\"{activation_name:30} {tuple(activation.shape)}\")"
      ]
    },
    {
      "cell_type": "markdown",
      "metadata": {
        "id": "RTSyQI7wm4R7"
      },
      "source": [
        "#### Print All Parameters Shapes of Reference Model\n"
      ]
    },
    {
      "cell_type": "code",
      "execution_count": null,
      "metadata": {
        "colab": {
          "base_uri": "https://localhost:8080/"
        },
        "id": "HiiiIUbdm4R7",
        "outputId": "19820113-b6b3-483e-8f1b-53027b589fd9"
      },
      "outputs": [
        {
          "output_type": "stream",
          "name": "stdout",
          "text": [
            "embed.W_E          (50257, 768)\n",
            "pos_embed.W_pos    (1024, 768)\n",
            "blocks.0.ln1.w     (768,)\n",
            "blocks.0.ln1.b     (768,)\n",
            "blocks.0.ln2.w     (768,)\n",
            "blocks.0.ln2.b     (768,)\n",
            "blocks.0.attn.W_Q  (12, 768, 64)\n",
            "blocks.0.attn.W_O  (12, 64, 768)\n",
            "blocks.0.attn.b_Q  (12, 64)\n",
            "blocks.0.attn.b_O  (768,)\n",
            "blocks.0.attn.W_K  (12, 768, 64)\n",
            "blocks.0.attn.W_V  (12, 768, 64)\n",
            "blocks.0.attn.b_K  (12, 64)\n",
            "blocks.0.attn.b_V  (12, 64)\n",
            "blocks.0.mlp.W_in  (768, 3072)\n",
            "blocks.0.mlp.b_in  (3072,)\n",
            "blocks.0.mlp.W_out (3072, 768)\n",
            "blocks.0.mlp.b_out (768,)\n",
            "ln_final.w         (768,)\n",
            "ln_final.b         (768,)\n",
            "unembed.W_U        (768, 50257)\n",
            "unembed.b_U        (50257,)\n"
          ]
        }
      ],
      "source": [
        "for name, param in reference_gpt2.named_parameters():\n",
        "    # Only print for first layer\n",
        "    if \".0.\" in name or \"blocks\" not in name:\n",
        "        print(f\"{name:18} {tuple(param.shape)}\")"
      ]
    },
    {
      "cell_type": "markdown",
      "metadata": {
        "id": "s7tXtTowp0Fy"
      },
      "source": [
        "[This diagram](https://raw.githubusercontent.com/chloeli-15/ARENA_img/main/img/full-merm.svg) shows the name of all activations and parameters in a fully general transformer model from transformerlens (except for a few at the start and end, like the embedding and unembedding). Lots of this won't make sense at first, but you can return to this diagram later and check that you understand most/all parts of it.\n",
        "\n",
        "There's also an annotated version [here](https://raw.githubusercontent.com/chloeli-15/ARENA_img/main/img/transformer-full-updated.png).\n"
      ]
    },
    {
      "cell_type": "markdown",
      "metadata": {
        "id": "TTbG6T8Bm4R8"
      },
      "source": [
        "### Config\n",
        "\n",
        "The config object contains all the hyperparameters of the model. We can print the config of the reference model to see what it contains:\n"
      ]
    },
    {
      "cell_type": "code",
      "execution_count": null,
      "metadata": {
        "colab": {
          "base_uri": "https://localhost:8080/"
        },
        "id": "WPzJd3z-m4R8",
        "outputId": "40f7f50c-ea4e-49ef-e057-59aecaa1005a"
      },
      "outputs": [
        {
          "output_type": "stream",
          "name": "stdout",
          "text": [
            "HookedTransformerConfig:\n",
            "{'act_fn': 'gelu_new',\n",
            " 'attention_dir': 'causal',\n",
            " 'attn_only': False,\n",
            " 'attn_scale': 8.0,\n",
            " 'attn_scores_soft_cap': -1.0,\n",
            " 'attn_types': None,\n",
            " 'checkpoint_index': None,\n",
            " 'checkpoint_label_type': None,\n",
            " 'checkpoint_value': None,\n",
            " 'd_head': 64,\n",
            " 'd_mlp': 3072,\n",
            " 'd_model': 768,\n",
            " 'd_vocab': 50257,\n",
            " 'd_vocab_out': 50257,\n",
            " 'decoder_start_token_id': None,\n",
            " 'default_prepend_bos': True,\n",
            " 'device': device(type='cuda'),\n",
            " 'dtype': torch.float32,\n",
            " 'eps': 1e-05,\n",
            " 'experts_per_token': None,\n",
            " 'final_rms': False,\n",
            " 'from_checkpoint': False,\n",
            " 'gated_mlp': False,\n",
            " 'init_mode': 'gpt2',\n",
            " 'init_weights': False,\n",
            " 'initializer_range': 0.02886751345948129,\n",
            " 'load_in_4bit': False,\n",
            " 'model_name': 'gpt2',\n",
            " 'n_ctx': 1024,\n",
            " 'n_devices': 1,\n",
            " 'n_heads': 12,\n",
            " 'n_key_value_heads': None,\n",
            " 'n_layers': 12,\n",
            " 'n_params': 84934656,\n",
            " 'normalization_type': 'LN',\n",
            " 'num_experts': None,\n",
            " 'original_architecture': 'GPT2LMHeadModel',\n",
            " 'output_logits_soft_cap': -1.0,\n",
            " 'parallel_attn_mlp': False,\n",
            " 'positional_embedding_type': 'standard',\n",
            " 'post_embedding_ln': False,\n",
            " 'relative_attention_max_distance': None,\n",
            " 'relative_attention_num_buckets': None,\n",
            " 'rotary_adjacent_pairs': False,\n",
            " 'rotary_base': 10000,\n",
            " 'rotary_dim': None,\n",
            " 'scale_attn_by_inverse_layer_idx': False,\n",
            " 'seed': None,\n",
            " 'tie_word_embeddings': False,\n",
            " 'tokenizer_name': 'gpt2',\n",
            " 'tokenizer_prepends_bos': False,\n",
            " 'trust_remote_code': False,\n",
            " 'use_attn_in': False,\n",
            " 'use_attn_result': False,\n",
            " 'use_attn_scale': True,\n",
            " 'use_hook_mlp_in': False,\n",
            " 'use_hook_tokens': False,\n",
            " 'use_local_attn': False,\n",
            " 'use_normalization_before_and_after': False,\n",
            " 'use_split_qkv_input': False,\n",
            " 'window_size': None}\n"
          ]
        }
      ],
      "source": [
        "# As a reference - note there's a lot of stuff we don't care about in here, to do with library internals or other architectures\n",
        "print(reference_gpt2.cfg)"
      ]
    },
    {
      "cell_type": "markdown",
      "metadata": {
        "id": "dCXCsrSSm4R8"
      },
      "source": [
        "We define a stripped down config for our model:\n"
      ]
    },
    {
      "cell_type": "code",
      "execution_count": null,
      "metadata": {
        "colab": {
          "base_uri": "https://localhost:8080/"
        },
        "id": "VzsnAKw7m4R8",
        "outputId": "145c1845-5039-485d-8541-4e9988842c98"
      },
      "outputs": [
        {
          "output_type": "stream",
          "name": "stdout",
          "text": [
            "Config(d_model=768, debug=True, layer_norm_eps=1e-05, d_vocab=50257, init_range=0.02, n_ctx=1024, d_head=64, d_mlp=3072, n_heads=12, n_layers=12)\n"
          ]
        }
      ],
      "source": [
        "@dataclass\n",
        "class Config:\n",
        "    d_model: int = 768\n",
        "    debug: bool = True\n",
        "    layer_norm_eps: float = 1e-5\n",
        "    d_vocab: int = 50257\n",
        "    init_range: float = 0.02\n",
        "    n_ctx: int = 1024\n",
        "    d_head: int = 64\n",
        "    d_mlp: int = 3072\n",
        "    n_heads: int = 12\n",
        "    n_layers: int = 12\n",
        "\n",
        "cfg = Config()\n",
        "print(cfg)"
      ]
    },
    {
      "cell_type": "markdown",
      "metadata": {
        "id": "RZlXjTMWm4R8"
      },
      "source": [
        "## Tests\n"
      ]
    },
    {
      "cell_type": "markdown",
      "metadata": {
        "id": "DJ8aqDkYm4R8"
      },
      "source": [
        "Tests are great, write lightweight ones to use as you go!\n",
        "\n",
        "**Naive test:** Generate random inputs of the right shape, input to your model, check whether there's an error and print the correct output.\n"
      ]
    },
    {
      "cell_type": "code",
      "execution_count": null,
      "metadata": {
        "id": "iqUK4acom4R8"
      },
      "outputs": [],
      "source": [
        "def rand_float_test(cls, shape):\n",
        "    cfg = Config(debug=True)\n",
        "    layer = cls(cfg).to(device)\n",
        "    random_input = t.randn(shape).to(device)\n",
        "    print(\"Input shape:\", random_input.shape)\n",
        "    output = layer(random_input)\n",
        "    if isinstance(output, tuple): output = output[0]\n",
        "    print(\"Output shape:\", output.shape, \"\\n\")\n",
        "\n",
        "def rand_int_test(cls, shape):\n",
        "    cfg = Config(debug=True)\n",
        "    layer = cls(cfg).to(device)\n",
        "    random_input = t.randint(100, 1000, shape).to(device)\n",
        "    print(\"Input shape:\", random_input.shape)\n",
        "    output = layer(random_input)\n",
        "    if isinstance(output, tuple): output = output[0]\n",
        "    print(\"Output shape:\", output.shape, \"\\n\")\n",
        "\n",
        "def load_gpt2_test(cls, gpt2_layer, input):\n",
        "    cfg = Config(debug=True)\n",
        "    layer = cls(cfg).to(device)\n",
        "    layer.load_state_dict(gpt2_layer.state_dict(), strict=False)\n",
        "    print(\"Input shape:\", input.shape)\n",
        "    output = layer(input)\n",
        "    if isinstance(output, tuple): output = output[0]\n",
        "    print(\"Output shape:\", output.shape)\n",
        "    try: reference_output = gpt2_layer(input)\n",
        "    except: reference_output = gpt2_layer(input, input, input)\n",
        "    print(\"Reference output shape:\", reference_output.shape, \"\\n\")\n",
        "    comparison = t.isclose(output, reference_output, atol=1e-4, rtol=1e-3)\n",
        "    print(f\"{comparison.sum()/comparison.numel():.2%} of the values are correct\\n\")"
      ]
    },
    {
      "cell_type": "markdown",
      "metadata": {
        "id": "Vo4pVDvim4R8"
      },
      "source": [
        "## LayerNorm\n",
        "\n",
        "```c\n",
        "Difficulty: 🔴🔴🔴⚪⚪\n",
        "Importance: 🔵🔵🔵⚪⚪\n",
        "\n",
        "You should spend up to 10-15 minutes on this exercise.\n",
        "```\n",
        "\n",
        "You should fill in the code below, and then run the tests to verify that your layer is working correctly.\n",
        "\n",
        "Your LayerNorm should do the following:\n",
        "\n",
        "* Make mean 0\n",
        "* Normalize to have variance 1\n",
        "* Scale with learned weights\n",
        "* Translate with learned bias\n",
        "\n",
        "You can use the PyTorch [LayerNorm documentation](https://pytorch.org/docs/stable/generated/torch.nn.LayerNorm.html) as a reference. A few more notes:\n",
        "\n",
        "* Your layernorm implementation always has `affine=True`, i.e. you do learn parameters `w` and `b` (which are represented as $\\gamma$ and $\\beta$ respectively in the PyTorch documentation).\n",
        "* Remember that, after the centering and normalization, each vector of length `d_model` in your input should have mean 0 and variance 1.\n",
        "* As the PyTorch documentation page says, your variance should be computed using `unbiased=False`.\n",
        "* The `layer_norm_eps` argument in your config object corresponds to the $\\epsilon$ term in the PyTorch documentation (it is included to avoid division-by-zero errors).\n",
        "* We've given you a `debug` argument in your config. If `debug=True`, then you can print output like the shape of objects in your `forward` function to help you debug (this is a very useful trick to improve your coding speed).\n",
        "\n",
        "Fill in the function, where it says `pass` (this will be the basic pattern for most other exercises in this section).\n"
      ]
    },
    {
      "cell_type": "code",
      "execution_count": null,
      "metadata": {
        "id": "OlU317NRm4R9",
        "colab": {
          "base_uri": "https://localhost:8080/"
        },
        "outputId": "ea624e9d-6fca-4932-f9ae-2ee311d343a2"
      },
      "outputs": [
        {
          "output_type": "stream",
          "name": "stdout",
          "text": [
            "Input shape: torch.Size([2, 4, 768])\n",
            "Output shape: torch.Size([2, 4, 768]) \n",
            "\n",
            "Input shape: torch.Size([1, 35, 768])\n",
            "Output shape: torch.Size([1, 35, 768])\n",
            "Reference output shape: torch.Size([1, 35, 768]) \n",
            "\n",
            "100.00% of the values are correct\n",
            "\n"
          ]
        }
      ],
      "source": [
        "class LayerNorm(nn.Module):\n",
        "    def __init__(self, cfg: Config):\n",
        "        super().__init__()\n",
        "        self.cfg = cfg\n",
        "        self.w = nn.Parameter(t.ones(cfg.d_model))\n",
        "        self.b = nn.Parameter(t.zeros(cfg.d_model))\n",
        "\n",
        "    def forward(self, residual: Float[Tensor, \"batch posn d_model\"]) -> Float[Tensor, \"batch posn d_model\"]:\n",
        "        residual_mean = residual.mean(dim=-1, keepdim=True)\n",
        "        residual_std = (residual.var(dim=-1, keepdim=True, unbiased=False) + self.cfg.layer_norm_eps).sqrt()\n",
        "\n",
        "        residual = (residual - residual_mean) / residual_std\n",
        "        return residual * self.w + self.b\n",
        "\n",
        "\n",
        "rand_float_test(LayerNorm, [2, 4, 768])\n",
        "load_gpt2_test(LayerNorm, reference_gpt2.ln_final, cache[\"resid_post\", 11])"
      ]
    },
    {
      "cell_type": "markdown",
      "metadata": {
        "id": "u9GJDIsAm4R9"
      },
      "source": [
        "## Embedding\n",
        "\n",
        "```c\n",
        "Difficulty: 🔴🔴⚪⚪⚪\n",
        "Importance: 🔵🔵🔵⚪⚪\n",
        "\n",
        "You should spend up to 5-10 minutes on this exercise.\n",
        "```\n",
        "\n",
        "This is basically a lookup table from tokens to residual stream vectors.\n",
        "\n",
        "(Hint - you can implement this in just one line, without any complicated functions.)\n"
      ]
    },
    {
      "cell_type": "code",
      "execution_count": null,
      "metadata": {
        "colab": {
          "base_uri": "https://localhost:8080/"
        },
        "id": "oc6WFuDAm4R9",
        "outputId": "b542267f-00b9-43e6-f0bb-ee680773cdd0"
      },
      "outputs": [
        {
          "output_type": "stream",
          "name": "stdout",
          "text": [
            "Input shape: torch.Size([2, 4])\n",
            "Output shape: torch.Size([2, 4, 768]) \n",
            "\n",
            "Input shape: torch.Size([1, 35])\n",
            "Output shape: torch.Size([1, 35, 768])\n",
            "Reference output shape: torch.Size([1, 35, 768]) \n",
            "\n",
            "100.00% of the values are correct\n",
            "\n"
          ]
        }
      ],
      "source": [
        "class Embed(nn.Module):\n",
        "    def __init__(self, cfg: Config):\n",
        "        super().__init__()\n",
        "        self.cfg = cfg\n",
        "        self.W_E = nn.Parameter(t.empty((cfg.d_vocab, cfg.d_model)))\n",
        "        nn.init.normal_(self.W_E, std=self.cfg.init_range)\n",
        "\n",
        "    def forward(self, tokens: Int[Tensor, \"batch position\"]) -> Float[Tensor, \"batch position d_model\"]:\n",
        "        return self.W_E[tokens]\n",
        "\n",
        "\n",
        "rand_int_test(Embed, [2, 4])\n",
        "load_gpt2_test(Embed, reference_gpt2.embed, tokens)"
      ]
    },
    {
      "cell_type": "markdown",
      "metadata": {
        "id": "tfJu-lpMcPXo"
      },
      "source": [
        "<details>\n",
        "<summary>Help - I keep getting <code>RuntimeError: CUDA error: device-side assert triggered</code>.</summary>\n",
        "\n",
        "This is a uniquely frustrating type of error message, because it (1) forces you to restart the kernel, and (2) often won't tell you where the error message actually originated from!\n",
        "\n",
        "You can fix the second problem by adding the line `os.environ['CUDA_LAUNCH_BLOCKING'] = \"1\"` to the very top of your file (after importing `os`). This won't fix your bug, but it makes sure the correct origin point is identified.\n",
        "\n",
        "As for actually fixing the bug, this error usually ends up being the result of bad indexing, e.g. you're trying to apply an embedding layer to tokens which are larger than your maximum embedding.\n",
        "</details>\n"
      ]
    },
    {
      "cell_type": "markdown",
      "metadata": {
        "id": "YhHFmPZ6m4R9"
      },
      "source": [
        "## Positional Embedding\n",
        "\n",
        "```c\n",
        "Difficulty: 🔴🔴⚪⚪⚪\n",
        "Importance: 🔵🔵🔵⚪⚪\n",
        "\n",
        "You should spend up to 10-15 minutes on this exercise.\n",
        "```\n",
        "\n",
        "Positional embedding can also be thought of as a lookup table, but rather than the indices being our token IDs, the indices are just the numbers `0`, `1`, `2`, ..., `seq_len-1` (i.e. the position indices of the tokens in the sequence).\n"
      ]
    },
    {
      "cell_type": "code",
      "execution_count": null,
      "metadata": {
        "colab": {
          "base_uri": "https://localhost:8080/"
        },
        "id": "fNAkYB8dm4R9",
        "outputId": "c62f0622-9fd1-43b0-da08-3e1be4c45eab"
      },
      "outputs": [
        {
          "output_type": "stream",
          "name": "stdout",
          "text": [
            "Input shape: torch.Size([2, 4])\n",
            "Output shape: torch.Size([2, 4, 768]) \n",
            "\n",
            "Input shape: torch.Size([1, 35])\n",
            "Output shape: torch.Size([1, 35, 768])\n",
            "Reference output shape: torch.Size([1, 35, 768]) \n",
            "\n",
            "100.00% of the values are correct\n",
            "\n"
          ]
        }
      ],
      "source": [
        "class PosEmbed(nn.Module):\n",
        "    def __init__(self, cfg: Config):\n",
        "        super().__init__()\n",
        "        self.cfg = cfg\n",
        "        self.W_pos = nn.Parameter(t.empty((cfg.n_ctx, cfg.d_model)))\n",
        "        nn.init.normal_(self.W_pos, std=self.cfg.init_range)\n",
        "\n",
        "    def forward(self, tokens: Int[Tensor, \"batch position\"]) -> Float[Tensor, \"batch position d_model\"]:\n",
        "        batch, seq_len = tokens.shape\n",
        "        return einops.repeat(self.W_pos[:seq_len], \"seq d_model -> batch seq d_model\", batch=batch)\n",
        "\n",
        "rand_int_test(PosEmbed, [2, 4])\n",
        "load_gpt2_test(PosEmbed, reference_gpt2.pos_embed, tokens)"
      ]
    },
    {
      "cell_type": "markdown",
      "source": [
        "## Causal Mask\n",
        "```yaml\n",
        "Difficulty: 🔴🔴⚪⚪⚪\n",
        "Importance: 🔵🔵🔵🔵🔵\n",
        "\n",
        "You should spend up to 10-15 minutes on this exercise.\n",
        "```\n",
        "\n",
        "The causal mask function will be a method of the `Attention` class.\n",
        "It will take in attention scores, and apply a mask to them so that the model\n",
        "can only attend to previous positions (i.e. the model can't cheat by looking at future positions).\n",
        "We will implement this function first, and test it, before moving onto the `forward` method\n",
        "of the `Attention` class.\n",
        "\n",
        "A few hints:\n",
        "\n",
        "* You can use [`torch.where`](https://pytorch.org/docs/stable/generated/torch.where.html), or the [`torch.masked_fill_`](https://pytorch.org/docs/stable/generated/torch.Tensor.masked_fill.html) function when masking the attention scores.\n",
        "* The [`torch.triu`](https://pytorch.org/docs/stable/generated/torch.triu.html) function is useful for creating a mask that is True for all positions we want to set probabilities to zero for.\n",
        "* Make sure to use the `self.IGNORE` attribute to set the masked positions to negative infinity.\n",
        "<details>\n",
        "<summary>Question - why do you think we mask the attention scores by setting them to negative infinity, rather than the attention probabilities by setting them to zero?</summary>\n",
        "\n",
        "If we masked the attention probabilities, then the probabilities would no longer sum to 1.\n",
        "\n",
        "We want to mask the scores and *then* take softmax, so that the probabilities are still valid probabilities (i.e. they sum to 1), and the values in the masked positions have no influence on the model's output.\n",
        "</details>\n"
      ],
      "metadata": {
        "id": "6khln3YUa2yR"
      }
    },
    {
      "cell_type": "code",
      "source": [
        "class Attention(nn.Module):\n",
        "    IGNORE: Float[Tensor, \"\"]\n",
        "\n",
        "    def __init__(self, cfg: Config):\n",
        "        super().__init__()\n",
        "        self.cfg = cfg\n",
        "        self.register_buffer(\"IGNORE\", t.tensor(float(\"-inf\"), dtype=t.float32, device=device))\n",
        "\n",
        "    def apply_causal_mask(\n",
        "        self, attn_scores: Float[Tensor, \"batch n_heads query_pos key_pos\"],\n",
        "    ) -> Float[Tensor, \"batch n_heads query_pos key_pos\"]:\n",
        "        '''\n",
        "        Applies a causal mask to attention scores, and returns masked scores.\n",
        "        '''\n",
        "        # Define a mask that is True for all positions we want to set probabilities to zero for\n",
        "        all_ones = t.ones(attn_scores.size(-2), attn_scores.size(-1), device=attn_scores.device)\n",
        "        mask = t.triu(all_ones, diagonal=1).bool()\n",
        "        # Apply the mask to attention scores, then return the masked scores\n",
        "        attn_scores.masked_fill_(mask, self.IGNORE)\n",
        "        return attn_scores\n",
        "\n",
        "tests.test_causal_mask(Attention.apply_causal_mask)"
      ],
      "metadata": {
        "colab": {
          "base_uri": "https://localhost:8080/"
        },
        "id": "n6zKx__lcFgl",
        "outputId": "c9cb9b29-0695-4e88-9230-b6eeff156c27"
      },
      "execution_count": null,
      "outputs": [
        {
          "output_type": "stream",
          "name": "stdout",
          "text": [
            "All tests in `test_causal_mask` passed!\n"
          ]
        }
      ]
    },
    {
      "cell_type": "markdown",
      "source": [
        "\n",
        "\n",
        "<details>\n",
        "<summary>Hint (pseudocode)</summary>\n",
        "\n",
        "```python\n",
        "def apply_causal_mask(\n",
        "    self, attn_scores: Float[Tensor, \"batch n_heads query_pos key_pos\"]\n",
        "    ) -> Float[Tensor, \"batch n_heads query_pos key_pos\"]:\n",
        "\n",
        "    # Define a mask that is True for all positions we want to set probabilities to zero for\n",
        "\n",
        "    # Apply the mask to attention scores, then return the masked scores\n",
        "```\n",
        "</details>"
      ],
      "metadata": {
        "id": "9YH8nK5PcGZo"
      }
    },
    {
      "cell_type": "markdown",
      "metadata": {
        "id": "o_WZWukYm4R-"
      },
      "source": [
        "## Attention\n",
        "\n",
        "```c\n",
        "Difficulty: 🔴🔴🔴🔴⚪\n",
        "Importance: 🔵🔵🔵🔵🔵\n",
        "\n",
        "You should spend up to 30-45 minutes on this exercise.\n",
        "```\n",
        "\n",
        "* **Step 1:** Produce an attention pattern - for each destination token, probability distribution over previous tokens (including current token)\n",
        "    * Linear map from input -> query, key shape `[batch, seq_posn, head_index, d_head]`\n",
        "    * Dot product every *pair* of queries and keys to get attn_scores `[batch, head_index, query_pos, key_pos]` (query = dest, key = source)\n",
        "    * **Scale** and mask `attn_scores` to make it lower triangular, i.e. causal\n",
        "    * Softmax along the `key_pos` dimension, to get a probability distribution for each query (destination) token - this is our attention pattern!\n",
        "* **Step 2:** Move information from source tokens to destination token using attention pattern (move = apply linear map)\n",
        "    * Linear map from input -> value `[batch, key_pos, head_index, d_head]`\n",
        "    * Mix along the `key_pos` with attn pattern to get `z`, which is a weighted average of the value vectors `[batch, query_pos, head_index, d_head]`\n",
        "    * Map to output, `[batch, position, d_model]` (position = query_pos, we've summed over all heads)\n",
        "\n",
        "Note - when we say **scale**, we mean dividing by `sqrt(d_head)`. The purpose of this is to avoid vanishing gradients (which is a big problem when we're dealing with a function like softmax - if one of the values is much larger than all the others, the probabilities will be close to 0 or 1, and the gradients will be close to 0).\n",
        "\n",
        "Below is a much larger, more detailed version of the attention head diagram from earlier. This should give you an idea of the actual tensor operations involved. A few clarifications on this diagram:\n",
        "\n",
        "* Whenever there is a third dimension shown in the pictures, this refers to the `head_index` dimension. We can see that all operations within the attention layer are done independently for each head.\n",
        "* The objects in the box are activations; they have a batch dimension (for simplicity, we assume the batch dimension is 1 in the diagram). The objects to the right of the box are our parameters (weights and biases); they have no batch dimension.\n",
        "* We arrange the keys, queries and values as `(batch, seq_pos, head_idx, d_head)`, because the biases have shape `(head_idx, d_head)`, so this makes it convenient to add the biases (recall the rules of array broadcasting!).\n"
      ]
    },
    {
      "cell_type": "markdown",
      "metadata": {
        "id": "FuZvGlnhsIcr"
      },
      "source": [
        "<img src=\"https://raw.githubusercontent.com/chloeli-15/ARENA_img/main/img/transformer-attn-30.png\" width=\"1400\">\n"
      ]
    },
    {
      "cell_type": "markdown",
      "metadata": {
        "id": "PCODWJmAsr8x"
      },
      "source": [
        "<details>\n",
        "<summary><b>A few extra notes on attention (optional)</b></summary>\n",
        "\n",
        "Usually we have the relation `e = n * h` (i.e. `d_model = num_heads * d_head`). There are some computational justifications for this, but mostly this is just done out of convention (just like how we usually have `d_mlp = 4 * d_model`!).\n",
        "\n",
        "---\n",
        "\n",
        "The names **keys**, **queries** and **values** come from their analogy to retrieval systems. Broadly speaking:\n",
        "\n",
        "* The **queries** represent some information that a token is **\"looking for\"**\n",
        "* The **keys** represent the information that a token **\"contains\"**\n",
        "    * So the attention score being high basically means that the source (key) token contains the information which the destination (query) token **is looking for**\n",
        "* The **values** represent the information that is actually taken from the source token, to be moved to the destination token\n",
        "\n",
        "---\n",
        "\n",
        "This diagram can better help us understand the difference between the **QK** and **OV** circuit. We'll discuss this just briefly here, and will go into much more detail later on.\n",
        "\n",
        "The **QK** circuit consists of the operation of the $W_Q$ and $W_K$ matrices. In other words, it determines the attention pattern, i.e. where information is moved to and from in the residual stream. The functional form of the attention pattern $A$ is:\n",
        "\n",
        "$$\n",
        "A = \\text{softmax}\\left(\\frac{x^T W_Q W_K^T x}{\\sqrt{d_{head}}}\\right)\n",
        "$$\n",
        "\n",
        "where $x$ is the residual stream (shape `[seq_len, d_model]`), and $W_Q$, $W_K$ are the weight matrices for a single head (i.e. shape `[d_model, d_head]`).\n",
        "\n",
        "The **OV** circuit consists of the operation of the $W_V$ and $W_O$ matrices. Once attention patterns are fixed, these matrices operate on the residual stream at the source position, and their output is the thing which gets moved from source to destination position.\n",
        "\n",
        "The functional form of an entire attention head is:\n",
        "\n",
        "$$\n",
        "\\begin{aligned}\n",
        "\\text{output} &= \\text{softmax}\\left(\\frac{x W_Q W_K^T x^T}{\\sqrt{d_{head}}}\\right) (x W_V W_O) \\\\\n",
        "    &= Ax W_V W_O\n",
        "\\end{aligned}\n",
        "$$\n",
        "\n",
        "where $W_V$ has shape `[d_model, d_head]`, and $W_O$ has shape `[d_head, d_model]`.\n",
        "\n",
        "Here, we can clearly see that the **QK circuit** and **OV circuit** are doing conceptually different things, and should be thought of as two distinct parts of the attention head.\n",
        "\n",
        "Again, don't worry if you don't follow all of this right now - we'll go into **much** more detail on all of this in subsequent exercises. The purpose of the discussion here is just to give you a flavour of what's to come!\n",
        "\n",
        "</details>\n"
      ]
    },
    {
      "cell_type": "markdown",
      "metadata": {
        "id": "oA2JcOaHm4R-"
      },
      "source": [
        "First, it's useful to visualize and play around with attention patterns - what exactly are we looking at here? (Click on a head to lock onto just showing that head's pattern, it'll make it easier to interpret)\n"
      ]
    },
    {
      "cell_type": "code",
      "execution_count": null,
      "metadata": {
        "id": "T38f-qpJtBTD",
        "colab": {
          "base_uri": "https://localhost:8080/"
        },
        "outputId": "28b718d0-42ce-4a36-f71b-ca9143007b77"
      },
      "outputs": [
        {
          "output_type": "display_data",
          "data": {
            "text/plain": [
              "<circuitsvis.utils.render.RenderedHTML at 0x7a6a01c96d10>"
            ],
            "text/html": [
              "<div id=\"circuits-vis-99f0a70c-3808\" style=\"margin: 15px 0;\"/>\n",
              "    <script crossorigin type=\"module\">\n",
              "    import { render, AttentionPatterns } from \"https://unpkg.com/circuitsvis@1.41.0/dist/cdn/esm.js\";\n",
              "    render(\n",
              "      \"circuits-vis-99f0a70c-3808\",\n",
              "      AttentionPatterns,\n",
              "      {\"tokens\": [\"<|endoftext|>\", \"I\", \" am\", \" an\", \" amazing\", \" aut\", \"ore\", \"gressive\", \",\", \" dec\", \"oder\", \"-\", \"only\", \",\", \" G\", \"PT\", \"-\", \"2\", \" style\", \" transformer\", \".\", \" One\", \" day\", \" I\", \" will\", \" exceed\", \" human\", \" level\", \" intelligence\", \" and\", \" take\", \" over\", \" the\", \" world\", \"!\"], \"attention\": [[[1.0, 0.0, 0.0, 0.0, 0.0, 0.0, 0.0, 0.0, 0.0, 0.0, 0.0, 0.0, 0.0, 0.0, 0.0, 0.0, 0.0, 0.0, 0.0, 0.0, 0.0, 0.0, 0.0, 0.0, 0.0, 0.0, 0.0, 0.0, 0.0, 0.0, 0.0, 0.0, 0.0, 0.0, 0.0], [0.9679255485534668, 0.03207448124885559, 0.0, 0.0, 0.0, 0.0, 0.0, 0.0, 0.0, 0.0, 0.0, 0.0, 0.0, 0.0, 0.0, 0.0, 0.0, 0.0, 0.0, 0.0, 0.0, 0.0, 0.0, 0.0, 0.0, 0.0, 0.0, 0.0, 0.0, 0.0, 0.0, 0.0, 0.0, 0.0, 0.0], [0.8024235963821411, 0.16839203238487244, 0.029184354469180107, 0.0, 0.0, 0.0, 0.0, 0.0, 0.0, 0.0, 0.0, 0.0, 0.0, 0.0, 0.0, 0.0, 0.0, 0.0, 0.0, 0.0, 0.0, 0.0, 0.0, 0.0, 0.0, 0.0, 0.0, 0.0, 0.0, 0.0, 0.0, 0.0, 0.0, 0.0, 0.0], [0.6959055662155151, 0.12269631773233414, 0.14588485658168793, 0.03551324084401131, 0.0, 0.0, 0.0, 0.0, 0.0, 0.0, 0.0, 0.0, 0.0, 0.0, 0.0, 0.0, 0.0, 0.0, 0.0, 0.0, 0.0, 0.0, 0.0, 0.0, 0.0, 0.0, 0.0, 0.0, 0.0, 0.0, 0.0, 0.0, 0.0, 0.0, 0.0], [0.5661024451255798, 0.14705196022987366, 0.08665256202220917, 0.1125841736793518, 0.08760888874530792, 0.0, 0.0, 0.0, 0.0, 0.0, 0.0, 0.0, 0.0, 0.0, 0.0, 0.0, 0.0, 0.0, 0.0, 0.0, 0.0, 0.0, 0.0, 0.0, 0.0, 0.0, 0.0, 0.0, 0.0, 0.0, 0.0, 0.0, 0.0, 0.0, 0.0], [0.46218734979629517, 0.13512828946113586, 0.09698344022035599, 0.17473751306533813, 0.0462460070848465, 0.08471737802028656, 0.0, 0.0, 0.0, 0.0, 0.0, 0.0, 0.0, 0.0, 0.0, 0.0, 0.0, 0.0, 0.0, 0.0, 0.0, 0.0, 0.0, 0.0, 0.0, 0.0, 0.0, 0.0, 0.0, 0.0, 0.0, 0.0, 0.0, 0.0, 0.0], [0.4325161278247833, 0.10382882505655289, 0.0833013728260994, 0.06995750963687897, 0.0747937485575676, 0.21568654477596283, 0.019915921613574028, 0.0, 0.0, 0.0, 0.0, 0.0, 0.0, 0.0, 0.0, 0.0, 0.0, 0.0, 0.0, 0.0, 0.0, 0.0, 0.0, 0.0, 0.0, 0.0, 0.0, 0.0, 0.0, 0.0, 0.0, 0.0, 0.0, 0.0, 0.0], [0.22236740589141846, 0.0916769951581955, 0.08796324580907822, 0.25168728828430176, 0.08263692259788513, 0.10428164154291153, 0.06469018757343292, 0.09469633549451828, 0.0, 0.0, 0.0, 0.0, 0.0, 0.0, 0.0, 0.0, 0.0, 0.0, 0.0, 0.0, 0.0, 0.0, 0.0, 0.0, 0.0, 0.0, 0.0, 0.0, 0.0, 0.0, 0.0, 0.0, 0.0, 0.0, 0.0], [0.4049956798553467, 0.09078019857406616, 0.05237354338169098, 0.026201874017715454, 0.11047190427780151, 0.036674052476882935, 0.025538932532072067, 0.24528272449970245, 0.007681119255721569, 0.0, 0.0, 0.0, 0.0, 0.0, 0.0, 0.0, 0.0, 0.0, 0.0, 0.0, 0.0, 0.0, 0.0, 0.0, 0.0, 0.0, 0.0, 0.0, 0.0, 0.0, 0.0, 0.0, 0.0, 0.0, 0.0], [0.39985957741737366, 0.043613169342279434, 0.06183883547782898, 0.072983518242836, 0.03661305084824562, 0.09147471934556961, 0.07241709530353546, 0.07013335078954697, 0.06429056823253632, 0.08677610009908676, 0.0, 0.0, 0.0, 0.0, 0.0, 0.0, 0.0, 0.0, 0.0, 0.0, 0.0, 0.0, 0.0, 0.0, 0.0, 0.0, 0.0, 0.0, 0.0, 0.0, 0.0, 0.0, 0.0, 0.0, 0.0], [0.09702546894550323, 0.03552757576107979, 0.023214809596538544, 0.036767054349184036, 0.02515839971601963, 0.2775617241859436, 0.07676513493061066, 0.1950119435787201, 0.05580098181962967, 0.14529387652873993, 0.031873054802417755, 0.0, 0.0, 0.0, 0.0, 0.0, 0.0, 0.0, 0.0, 0.0, 0.0, 0.0, 0.0, 0.0, 0.0, 0.0, 0.0, 0.0, 0.0, 0.0, 0.0, 0.0, 0.0, 0.0, 0.0], [0.2414383590221405, 0.03971059247851372, 0.07687382400035858, 0.028042685240507126, 0.12435993552207947, 0.05601578205823898, 0.060636717826128006, 0.1284009963274002, 0.015699442476034164, 0.09114036709070206, 0.13185447454452515, 0.005826778709888458, 0.0, 0.0, 0.0, 0.0, 0.0, 0.0, 0.0, 0.0, 0.0, 0.0, 0.0, 0.0, 0.0, 0.0, 0.0, 0.0, 0.0, 0.0, 0.0, 0.0, 0.0, 0.0, 0.0], [0.1436309665441513, 0.051105011254549026, 0.05505894124507904, 0.07798512279987335, 0.0785427987575531, 0.03501972556114197, 0.1349860429763794, 0.22634069621562958, 0.04162852466106415, 0.035131409764289856, 0.02023601345717907, 0.041144441813230515, 0.059190284460783005, 0.0, 0.0, 0.0, 0.0, 0.0, 0.0, 0.0, 0.0, 0.0, 0.0, 0.0, 0.0, 0.0, 0.0, 0.0, 0.0, 0.0, 0.0, 0.0, 0.0, 0.0, 0.0], [0.3156285285949707, 0.06791998445987701, 0.03787236660718918, 0.017874589189887047, 0.0868317186832428, 0.029227815568447113, 0.017664164304733276, 0.18301637470722198, 0.004987799562513828, 0.043228670954704285, 0.05172259733080864, 0.008913452737033367, 0.12899240851402283, 0.006119508296251297, 0.0, 0.0, 0.0, 0.0, 0.0, 0.0, 0.0, 0.0, 0.0, 0.0, 0.0, 0.0, 0.0, 0.0, 0.0, 0.0, 0.0, 0.0, 0.0, 0.0, 0.0], [0.28410208225250244, 0.053453974425792694, 0.023969214409589767, 0.02256225422024727, 0.04619823768734932, 0.06391074508428574, 0.045392151921987534, 0.07758503407239914, 0.027644308283925056, 0.058041155338287354, 0.17727355659008026, 0.034006014466285706, 0.030527282506227493, 0.032130781561136246, 0.023203177377581596, 0.0, 0.0, 0.0, 0.0, 0.0, 0.0, 0.0, 0.0, 0.0, 0.0, 0.0, 0.0, 0.0, 0.0, 0.0, 0.0, 0.0, 0.0, 0.0, 0.0], [0.141039177775383, 0.028577815741300583, 0.037603966891765594, 0.03137827664613724, 0.036973342299461365, 0.07347070425748825, 0.07151781022548676, 0.09211234003305435, 0.03358155116438866, 0.036391306668519974, 0.18937671184539795, 0.03244518116116524, 0.06021038442850113, 0.039169251918792725, 0.040409527719020844, 0.05574263259768486, 0.0, 0.0, 0.0, 0.0, 0.0, 0.0, 0.0, 0.0, 0.0, 0.0, 0.0, 0.0, 0.0, 0.0, 0.0, 0.0, 0.0, 0.0, 0.0], [0.20265287160873413, 0.030252786353230476, 0.06003408133983612, 0.021786147728562355, 0.10314235091209412, 0.04516839608550072, 0.04681028798222542, 0.10542112588882446, 0.011398821137845516, 0.07159951329231262, 0.10570330172777176, 0.00419937027618289, 0.11079791188240051, 0.013912522234022617, 0.028923507779836655, 0.03286947309970856, 0.005327512510120869, 0.0, 0.0, 0.0, 0.0, 0.0, 0.0, 0.0, 0.0, 0.0, 0.0, 0.0, 0.0, 0.0, 0.0, 0.0, 0.0, 0.0, 0.0], [0.204983651638031, 0.04007228836417198, 0.04229810833930969, 0.024939006194472313, 0.04992292821407318, 0.029371699318289757, 0.030769696459174156, 0.10315561294555664, 0.025490209460258484, 0.07886798679828644, 0.10560186952352524, 0.01735270395874977, 0.08083698153495789, 0.03128696233034134, 0.05451057478785515, 0.052883174270391464, 0.021742789074778557, 0.005913802422583103, 0.0, 0.0, 0.0, 0.0, 0.0, 0.0, 0.0, 0.0, 0.0, 0.0, 0.0, 0.0, 0.0, 0.0, 0.0, 0.0, 0.0], [0.24350903928279877, 0.03636489436030388, 0.04196162521839142, 0.026215750724077225, 0.0404457226395607, 0.09965372085571289, 0.02575223706662655, 0.032494623214006424, 0.024459952488541603, 0.03520265221595764, 0.033835362643003464, 0.03347691521048546, 0.046648625284433365, 0.027967922389507294, 0.0186407882720232, 0.11764257401227951, 0.03875285014510155, 0.022786682471632957, 0.05418814346194267, 0.0, 0.0, 0.0, 0.0, 0.0, 0.0, 0.0, 0.0, 0.0, 0.0, 0.0, 0.0, 0.0, 0.0, 0.0, 0.0], [0.14194568991661072, 0.03406405448913574, 0.033009909093379974, 0.02023869752883911, 0.039273135364055634, 0.026005547493696213, 0.006318638566881418, 0.040797874331474304, 0.036380015313625336, 0.14631050825119019, 0.01638617180287838, 0.023598451167345047, 0.015842774882912636, 0.04227608069777489, 0.022458218038082123, 0.06867405027151108, 0.02787845768034458, 0.03722241893410683, 0.08677609264850616, 0.13454318046569824, 0.0, 0.0, 0.0, 0.0, 0.0, 0.0, 0.0, 0.0, 0.0, 0.0, 0.0, 0.0, 0.0, 0.0, 0.0], [0.21778137981891632, 0.026903681457042694, 0.023647204041481018, 0.007102567236870527, 0.03517003357410431, 0.013998538255691528, 0.010392274707555771, 0.09431244432926178, 0.002962290309369564, 0.03783803433179855, 0.03792330622673035, 0.003733976511284709, 0.06506101042032242, 0.0036364602856338024, 0.014758052304387093, 0.12028626352548599, 0.0049008834175765514, 0.00810736883431673, 0.017449840903282166, 0.24998736381530762, 0.004047100432217121, 0.0, 0.0, 0.0, 0.0, 0.0, 0.0, 0.0, 0.0, 0.0, 0.0, 0.0, 0.0, 0.0, 0.0], [0.1218722015619278, 0.07663216441869736, 0.030231961980462074, 0.016371842473745346, 0.05268791317939758, 0.02140214294195175, 0.023403869941830635, 0.1064968854188919, 0.018582480028271675, 0.035091664642095566, 0.0839414894580841, 0.017393292859196663, 0.04183054342865944, 0.021453872323036194, 0.0333310030400753, 0.050274256616830826, 0.020740864798426628, 0.04090357944369316, 0.03054094687104225, 0.09200656414031982, 0.028245704248547554, 0.03656468540430069, 0.0, 0.0, 0.0, 0.0, 0.0, 0.0, 0.0, 0.0, 0.0, 0.0, 0.0, 0.0, 0.0], [0.21260198950767517, 0.020284103229641914, 0.05000369995832443, 0.015904182568192482, 0.0572250671684742, 0.022857319563627243, 0.04604589194059372, 0.03530845046043396, 0.011784468777477741, 0.0414048433303833, 0.016803616657853127, 0.015782056376338005, 0.02020842395722866, 0.013090189546346664, 0.02085423842072487, 0.06297556310892105, 0.018039442598819733, 0.018052956089377403, 0.024445293471217155, 0.17059150338172913, 0.01593976654112339, 0.04152189940214157, 0.04827513173222542, 0.0, 0.0, 0.0, 0.0, 0.0, 0.0, 0.0, 0.0, 0.0, 0.0, 0.0, 0.0], [0.2671400308609009, 0.03564618527889252, 0.02042287588119507, 0.006622722838073969, 0.04034103453159332, 0.019110335037112236, 0.014575294218957424, 0.0564163401722908, 0.008403635583817959, 0.015526887029409409, 0.04414670541882515, 0.011055911891162395, 0.04001995921134949, 0.00935308076441288, 0.01935187540948391, 0.07054156064987183, 0.012798820622265339, 0.012832630425691605, 0.014165611937642097, 0.1173698753118515, 0.007312781643122435, 0.09727415442466736, 0.02075115032494068, 0.03882049396634102, 0.0, 0.0, 0.0, 0.0, 0.0, 0.0, 0.0, 0.0, 0.0, 0.0, 0.0], [0.14591234922409058, 0.03319379687309265, 0.03138770908117294, 0.0099279023706913, 0.05209652706980705, 0.019840894266963005, 0.01940171979367733, 0.07582408934831619, 0.012863261625170708, 0.03345128148794174, 0.016568414866924286, 0.01479717344045639, 0.05908382683992386, 0.015597393736243248, 0.011369230225682259, 0.021859481930732727, 0.019473867490887642, 0.014793703332543373, 0.05341862142086029, 0.09521488845348358, 0.016204562038183212, 0.06210915371775627, 0.06182850897312164, 0.0665796771645546, 0.03720194101333618, 0.0, 0.0, 0.0, 0.0, 0.0, 0.0, 0.0, 0.0, 0.0, 0.0], [0.06265702098608017, 0.014285165816545486, 0.025387201458215714, 0.030092531815171242, 0.02124691940844059, 0.029529917985200882, 0.02644667774438858, 0.014830506406724453, 0.015861928462982178, 0.04331433027982712, 0.02196395955979824, 0.019970117136836052, 0.04342854022979736, 0.018692895770072937, 0.00947535689920187, 0.024197477847337723, 0.02385362610220909, 0.02690874971449375, 0.014060704037547112, 0.17528501152992249, 0.03583677113056183, 0.04792255535721779, 0.03575059771537781, 0.012070516124367714, 0.05927426740527153, 0.1476566195487976, 0.0, 0.0, 0.0, 0.0, 0.0, 0.0, 0.0, 0.0, 0.0], [0.09766797721385956, 0.031521718949079514, 0.026686420664191246, 0.03645576909184456, 0.03492369130253792, 0.08635791391134262, 0.013895387761294842, 0.030186727643013, 0.019402576610445976, 0.03514167666435242, 0.04878156632184982, 0.012551562860608101, 0.04099080339074135, 0.020208820700645447, 0.012653258629143238, 0.00745104905217886, 0.013522976078093052, 0.024078071117401123, 0.04302706569433212, 0.15066801011562347, 0.02925257943570614, 0.018810173496603966, 0.016104500740766525, 0.028549866750836372, 0.029875919222831726, 0.051215603947639465, 0.04001830518245697, 0.0, 0.0, 0.0, 0.0, 0.0, 0.0, 0.0, 0.0], [0.09151812642812729, 0.01142111700028181, 0.0397990383207798, 0.01165858842432499, 0.03344331681728363, 0.04107608273625374, 0.00953829474747181, 0.04061255604028702, 0.009114394895732403, 0.04690401628613472, 0.027317605912685394, 0.010844952426850796, 0.0245475172996521, 0.010004603303968906, 0.008095637895166874, 0.00839681550860405, 0.011855492368340492, 0.008184150792658329, 0.041040629148483276, 0.3625811040401459, 0.007537385448813438, 0.009961558505892754, 0.021045759320259094, 0.01185503788292408, 0.03005831129848957, 0.03281193599104881, 0.028863215819001198, 0.00991279911249876, 0.0, 0.0, 0.0, 0.0, 0.0, 0.0, 0.0], [0.10946294665336609, 0.025872739031910896, 0.02392870932817459, 0.02004525251686573, 0.03590446338057518, 0.03167985379695892, 0.029145268723368645, 0.11399825662374496, 0.013954708352684975, 0.03480717912316322, 0.018105637282133102, 0.01762225478887558, 0.019007312133908272, 0.015307603403925896, 0.00970301404595375, 0.012407953850924969, 0.020091678947210312, 0.02726256288588047, 0.0656459629535675, 0.02715541608631611, 0.02622661367058754, 0.01894299127161503, 0.04077143967151642, 0.01907329633831978, 0.02157342992722988, 0.030219407752156258, 0.07011830061674118, 0.06031467393040657, 0.041651058942079544, 0.0, 0.0, 0.0, 0.0, 0.0, 0.0], [0.11406349390745163, 0.02655625529587269, 0.01995842717587948, 0.00893146637827158, 0.034943219274282455, 0.016834313049912453, 0.009377746842801571, 0.04451329633593559, 0.0037722205743193626, 0.028760313987731934, 0.020741159096360207, 0.005650988779962063, 0.06007760390639305, 0.004424976650625467, 0.010821838863193989, 0.041129279881715775, 0.007085717283189297, 0.010434006340801716, 0.02654852531850338, 0.11019264161586761, 0.007190015632659197, 0.056519411504268646, 0.028027107939124107, 0.06370094418525696, 0.03407692164182663, 0.07150980085134506, 0.040933217853307724, 0.014252981171011925, 0.06984367221593857, 0.009128457866609097, 0.0, 0.0, 0.0, 0.0, 0.0], [0.14399926364421844, 0.020454611629247665, 0.0426238551735878, 0.011592098511755466, 0.027789434418082237, 0.014342918060719967, 0.02910618484020233, 0.042158227413892746, 0.013669710606336594, 0.02058149129152298, 0.00864106323570013, 0.01240220945328474, 0.019577065482735634, 0.014879734255373478, 0.023319045081734657, 0.022367175668478012, 0.014413870871067047, 0.006065309979021549, 0.006985306739807129, 0.08859115839004517, 0.014219226315617561, 0.02754119038581848, 0.057073067873716354, 0.024985719472169876, 0.05733301118016243, 0.048089705407619476, 0.01826871559023857, 0.07940171658992767, 0.04377177357673645, 0.024849101901054382, 0.020906994119286537, 0.0, 0.0, 0.0, 0.0], [0.0778680294752121, 0.01973286271095276, 0.01990637369453907, 0.015179568901658058, 0.029269898310303688, 0.008963341824710369, 0.011427861638367176, 0.03169627487659454, 0.006965263746678829, 0.040641702711582184, 0.019985230639576912, 0.008789058774709702, 0.03574990853667259, 0.007953661493957043, 0.009612184017896652, 0.014965924434363842, 0.010367296636104584, 0.013545006513595581, 0.013747342862188816, 0.0681854709982872, 0.0118370670825243, 0.01935550384223461, 0.016761232167482376, 0.016301218420267105, 0.061250220984220505, 0.12023527175188065, 0.04739144816994667, 0.02382204867899418, 0.14942999184131622, 0.014121497981250286, 0.04741881415247917, 0.007523443084210157, 0.0, 0.0, 0.0], [0.14836616814136505, 0.03627424314618111, 0.02376875840127468, 0.005308397579938173, 0.032260358333587646, 0.017439445480704308, 0.015090293250977993, 0.04443071782588959, 0.0049357907846570015, 0.021151507273316383, 0.023849112913012505, 0.006127793807536364, 0.044309794902801514, 0.005717851687222719, 0.006861451547592878, 0.016362614929676056, 0.007707121316343546, 0.00910962838679552, 0.028427593410015106, 0.14491389691829681, 0.006351599469780922, 0.03453822806477547, 0.023273006081581116, 0.04803791269659996, 0.034416649490594864, 0.06975369155406952, 0.02756190299987793, 0.012016547843813896, 0.03535730019211769, 0.008575203828513622, 0.039163023233413696, 0.009715793654322624, 0.008826580829918385, 0.0, 0.0], [0.11389317363500595, 0.0219314843416214, 0.0264475978910923, 0.00760288443416357, 0.020530670881271362, 0.02971317060291767, 0.03694963455200195, 0.02875794842839241, 0.00798130501061678, 0.02935917302966118, 0.015349606052041054, 0.018420176580548286, 0.020850978791713715, 0.008514754474163055, 0.010930921882390976, 0.009227698668837547, 0.021279294043779373, 0.00922299176454544, 0.027651092037558556, 0.12458857893943787, 0.010509628802537918, 0.06096193194389343, 0.02203325368463993, 0.030366938561201096, 0.027411194518208504, 0.03459944203495979, 0.03202730044722557, 0.03952972590923309, 0.05353792756795883, 0.017732910811901093, 0.017497556284070015, 0.017771484330296516, 0.012080207467079163, 0.034737344831228256, 0.0], [0.13933585584163666, 0.021371260285377502, 0.01454135961830616, 0.005123289301991463, 0.031635086983442307, 0.010921812616288662, 0.012541360221803188, 0.02249285764992237, 0.0047742631286382675, 0.02490142546594143, 0.01085836160928011, 0.010577702894806862, 0.02590608410537243, 0.005286504980176687, 0.01675228774547577, 0.04520442336797714, 0.012112232856452465, 0.01471471507102251, 0.014629187062382698, 0.08781158179044724, 0.007287843618541956, 0.07496530562639236, 0.015995563939213753, 0.04392343759536743, 0.041024111211299896, 0.0758780986070633, 0.027924563735723495, 0.015250176191329956, 0.013413447886705399, 0.014532782137393951, 0.027215443551540375, 0.03453553095459938, 0.01820741780102253, 0.0350533202290535, 0.0233012642711401]], [[1.0, 0.0, 0.0, 0.0, 0.0, 0.0, 0.0, 0.0, 0.0, 0.0, 0.0, 0.0, 0.0, 0.0, 0.0, 0.0, 0.0, 0.0, 0.0, 0.0, 0.0, 0.0, 0.0, 0.0, 0.0, 0.0, 0.0, 0.0, 0.0, 0.0, 0.0, 0.0, 0.0, 0.0, 0.0], [0.00041899774805642664, 0.9995810389518738, 0.0, 0.0, 0.0, 0.0, 0.0, 0.0, 0.0, 0.0, 0.0, 0.0, 0.0, 0.0, 0.0, 0.0, 0.0, 0.0, 0.0, 0.0, 0.0, 0.0, 0.0, 0.0, 0.0, 0.0, 0.0, 0.0, 0.0, 0.0, 0.0, 0.0, 0.0, 0.0, 0.0], [0.00013394761481322348, 0.009511847048997879, 0.9903541803359985, 0.0, 0.0, 0.0, 0.0, 0.0, 0.0, 0.0, 0.0, 0.0, 0.0, 0.0, 0.0, 0.0, 0.0, 0.0, 0.0, 0.0, 0.0, 0.0, 0.0, 0.0, 0.0, 0.0, 0.0, 0.0, 0.0, 0.0, 0.0, 0.0, 0.0, 0.0, 0.0], [0.0008606771007180214, 0.0026100408285856247, 0.015066796913743019, 0.9814624786376953, 0.0, 0.0, 0.0, 0.0, 0.0, 0.0, 0.0, 0.0, 0.0, 0.0, 0.0, 0.0, 0.0, 0.0, 0.0, 0.0, 0.0, 0.0, 0.0, 0.0, 0.0, 0.0, 0.0, 0.0, 0.0, 0.0, 0.0, 0.0, 0.0, 0.0, 0.0], [3.71704445569776e-05, 0.0006769567262381315, 0.0012692955788224936, 0.000214078274439089, 0.9978025555610657, 0.0, 0.0, 0.0, 0.0, 0.0, 0.0, 0.0, 0.0, 0.0, 0.0, 0.0, 0.0, 0.0, 0.0, 0.0, 0.0, 0.0, 0.0, 0.0, 0.0, 0.0, 0.0, 0.0, 0.0, 0.0, 0.0, 0.0, 0.0, 0.0, 0.0], [8.425416308455169e-05, 0.0007904721423983574, 0.0032152850180864334, 0.0027085705660283566, 0.0013058256590738893, 0.9918956160545349, 0.0, 0.0, 0.0, 0.0, 0.0, 0.0, 0.0, 0.0, 0.0, 0.0, 0.0, 0.0, 0.0, 0.0, 0.0, 0.0, 0.0, 0.0, 0.0, 0.0, 0.0, 0.0, 0.0, 0.0, 0.0, 0.0, 0.0, 0.0, 0.0], [0.00014960514090489596, 0.0018361863913014531, 0.0016375025734305382, 0.0010130597511306405, 0.004209806676954031, 8.004387927940115e-05, 0.9910737872123718, 0.0, 0.0, 0.0, 0.0, 0.0, 0.0, 0.0, 0.0, 0.0, 0.0, 0.0, 0.0, 0.0, 0.0, 0.0, 0.0, 0.0, 0.0, 0.0, 0.0, 0.0, 0.0, 0.0, 0.0, 0.0, 0.0, 0.0, 0.0], [0.0002685562940314412, 0.0009259631624445319, 0.0008250497630797327, 0.0006819649715907872, 0.007268866058439016, 0.0013517058687284589, 0.000346916465787217, 0.9883310198783875, 0.0, 0.0, 0.0, 0.0, 0.0, 0.0, 0.0, 0.0, 0.0, 0.0, 0.0, 0.0, 0.0, 0.0, 0.0, 0.0, 0.0, 0.0, 0.0, 0.0, 0.0, 0.0, 0.0, 0.0, 0.0, 0.0, 0.0], [0.007326360326260328, 0.007828546687960625, 0.003931872081011534, 0.00018373991770204157, 6.433094677049667e-05, 0.00010083155211759731, 6.769884203094989e-05, 7.164074486354366e-05, 0.9804249405860901, 0.0, 0.0, 0.0, 0.0, 0.0, 0.0, 0.0, 0.0, 0.0, 0.0, 0.0, 0.0, 0.0, 0.0, 0.0, 0.0, 0.0, 0.0, 0.0, 0.0, 0.0, 0.0, 0.0, 0.0, 0.0, 0.0], [3.9175745769171044e-05, 9.137432789430022e-05, 0.00033399087260477245, 6.816777749918401e-05, 7.81233684392646e-05, 0.0009843038860708475, 0.00016941352805588394, 0.0025414626579731703, 4.413309216033667e-05, 0.9956498742103577, 0.0, 0.0, 0.0, 0.0, 0.0, 0.0, 0.0, 0.0, 0.0, 0.0, 0.0, 0.0, 0.0, 0.0, 0.0, 0.0, 0.0, 0.0, 0.0, 0.0, 0.0, 0.0, 0.0, 0.0, 0.0], [5.520306331163738e-06, 2.3466460334020667e-05, 9.186456736642867e-05, 8.01341884653084e-05, 3.939205635106191e-05, 8.521579002263024e-05, 2.573589881649241e-05, 7.120806549210101e-05, 4.276956133253407e-06, 0.000150497246067971, 0.9994226694107056, 0.0, 0.0, 0.0, 0.0, 0.0, 0.0, 0.0, 0.0, 0.0, 0.0, 0.0, 0.0, 0.0, 0.0, 0.0, 0.0, 0.0, 0.0, 0.0, 0.0, 0.0, 0.0, 0.0, 0.0], [0.0010400302708148956, 0.0022993627935647964, 0.002392067573964596, 0.0003133231948595494, 0.00013362908794078976, 0.0005168464849703014, 0.0011971096973866224, 6.827443576185033e-05, 0.005444325506687164, 0.0002821744710672647, 4.30573127232492e-05, 0.9862697720527649, 0.0, 0.0, 0.0, 0.0, 0.0, 0.0, 0.0, 0.0, 0.0, 0.0, 0.0, 0.0, 0.0, 0.0, 0.0, 0.0, 0.0, 0.0, 0.0, 0.0, 0.0, 0.0, 0.0], [4.6304139686981216e-05, 0.0003248231369070709, 0.00024459476117044687, 0.0015311678871512413, 0.0008613727986812592, 0.0012943900655955076, 6.198471237439662e-05, 2.664277417352423e-05, 4.8408732254756615e-05, 0.0019855701830238104, 0.0001397189626004547, 0.00011434302723500878, 0.9933207035064697, 0.0, 0.0, 0.0, 0.0, 0.0, 0.0, 0.0, 0.0, 0.0, 0.0, 0.0, 0.0, 0.0, 0.0, 0.0, 0.0, 0.0, 0.0, 0.0, 0.0, 0.0, 0.0], [0.0030442425049841404, 0.0018223653314635158, 0.0009289862355217338, 4.880233609583229e-05, 1.639114816498477e-05, 2.909563590947073e-05, 2.5079829356400296e-05, 2.913025855377782e-05, 0.4563221335411072, 2.4578679585829377e-05, 2.4832146664266475e-05, 0.003004396567121148, 1.677381305853487e-06, 0.5346783399581909, 0.0, 0.0, 0.0, 0.0, 0.0, 0.0, 0.0, 0.0, 0.0, 0.0, 0.0, 0.0, 0.0, 0.0, 0.0, 0.0, 0.0, 0.0, 0.0, 0.0, 0.0], [0.0003981789341196418, 0.0010285003809258342, 0.000828111544251442, 0.00023753165442030877, 7.348863437073305e-05, 0.0014350315323099494, 6.765663420083001e-05, 0.00029547399026341736, 0.0001429579424438998, 9.929091902449727e-05, 4.608220478985459e-06, 0.0005140062421560287, 5.035657068219734e-06, 0.00012475518451537937, 0.9947452545166016, 0.0, 0.0, 0.0, 0.0, 0.0, 0.0, 0.0, 0.0, 0.0, 0.0, 0.0, 0.0, 0.0, 0.0, 0.0, 0.0, 0.0, 0.0, 0.0, 0.0], [9.074855915969238e-05, 0.0002652599068824202, 0.00011011176684405655, 0.00021231926803011447, 8.290543337352574e-05, 0.0011814198223873973, 1.5688701751059853e-05, 0.0016655940562486649, 1.1725322110578418e-05, 0.0020509432069957256, 0.0001384257193421945, 1.557362156745512e-05, 1.1507429917401168e-05, 9.066193342732731e-06, 0.00022655802604276687, 0.9939122200012207, 0.0, 0.0, 0.0, 0.0, 0.0, 0.0, 0.0, 0.0, 0.0, 0.0, 0.0, 0.0, 0.0, 0.0, 0.0, 0.0, 0.0, 0.0, 0.0], [0.0004413543501868844, 0.0006528961821459234, 0.0006495664129033685, 9.398065594723448e-05, 4.112705573788844e-05, 0.00017028443107847124, 0.0005066705052740872, 2.8896070944028907e-05, 0.002370182890444994, 0.00010454316361574456, 1.9230950783821754e-05, 0.4705584943294525, 1.6804020560812205e-05, 0.002284094924107194, 0.00021698110504075885, 3.276940333307721e-05, 0.5218121409416199, 0.0, 0.0, 0.0, 0.0, 0.0, 0.0, 0.0, 0.0, 0.0, 0.0, 0.0, 0.0, 0.0, 0.0, 0.0, 0.0, 0.0, 0.0], [0.0005350520368665457, 0.0006631257710978389, 0.00018957503198180348, 0.00011594560055527836, 3.930590901290998e-05, 8.452115434920415e-05, 0.0002686002117116004, 0.00030034847441129386, 0.0001272758818231523, 0.00015363430429715663, 2.152453816961497e-05, 0.0004102020466234535, 0.0015090389642864466, 0.00011659036681521684, 0.0001377397566102445, 7.38915623514913e-05, 0.00039899483090266585, 0.9948546886444092, 0.0, 0.0, 0.0, 0.0, 0.0, 0.0, 0.0, 0.0, 0.0, 0.0, 0.0, 0.0, 0.0, 0.0, 0.0, 0.0, 0.0], [0.0002235245192423463, 0.00025025324430316687, 0.00011739329056581482, 1.8608248865348287e-05, 0.0006291479803621769, 0.0007579212542623281, 3.7840858567506075e-05, 0.0033851449843496084, 1.7918260709848255e-05, 0.00017818277410697192, 3.4344266168773174e-05, 7.747576455585659e-05, 6.471150845754892e-05, 1.5270292351488024e-05, 0.0002935955999419093, 0.00057343824300915, 7.154397462727502e-05, 0.0001588312879903242, 0.993094801902771, 0.0, 0.0, 0.0, 0.0, 0.0, 0.0, 0.0, 0.0, 0.0, 0.0, 0.0, 0.0, 0.0, 0.0, 0.0, 0.0], [0.00030641001649200916, 0.0004168006998952478, 0.0004519716603681445, 0.00015746380086056888, 0.0015800739638507366, 0.0022666300646960735, 0.00014483602717518806, 0.0025188743602484465, 4.4711858208756894e-05, 0.002739465096965432, 0.000434897345257923, 0.00015683105448260903, 2.8505737645900808e-05, 4.005827577202581e-05, 0.000593667384237051, 0.00011775219900300726, 0.0001403962232870981, 0.00018060373258776963, 0.0009641890646889806, 0.9867159128189087, 0.0, 0.0, 0.0, 0.0, 0.0, 0.0, 0.0, 0.0, 0.0, 0.0, 0.0, 0.0, 0.0, 0.0, 0.0], [0.009046890772879124, 0.0007260910351760685, 6.491785461548716e-05, 4.578269727062434e-05, 3.6695309972856194e-05, 3.389698758837767e-05, 4.1313283873023465e-05, 9.000127465697005e-05, 0.016163917258381844, 1.8953818653244525e-05, 3.3513806556584314e-05, 0.002181082498282194, 5.3411863518704195e-06, 0.01874946430325508, 0.00017897745419759303, 0.0004993692273274064, 0.002435566857457161, 4.271614670869894e-05, 7.329288200708106e-05, 1.915437496791128e-05, 0.9495130777359009, 0.0, 0.0, 0.0, 0.0, 0.0, 0.0, 0.0, 0.0, 0.0, 0.0, 0.0, 0.0, 0.0, 0.0], [0.00021946291963104159, 0.001166956964880228, 0.00021983245096635073, 0.0009876297554001212, 0.00031338463304564357, 0.00012072654499206692, 5.631537533190567e-06, 2.4260070858872496e-05, 4.544197872746736e-05, 1.852959394454956e-05, 1.4025716154719703e-05, 1.0154996743949596e-05, 0.00040180233190767467, 4.0526429074816406e-05, 0.0001710674405330792, 9.8690579761751e-06, 9.488572686677799e-06, 0.0003931091050617397, 5.709408924303716e-06, 1.7844293324742466e-05, 2.853044497896917e-05, 0.9957762360572815, 0.0, 0.0, 0.0, 0.0, 0.0, 0.0, 0.0, 0.0, 0.0, 0.0, 0.0, 0.0, 0.0], [0.00019361003069207072, 0.0008434188785031438, 0.0005215298151597381, 2.566456350905355e-05, 0.00046233192551881075, 0.00025401596212759614, 1.8471198927727528e-05, 0.00011509784235386178, 0.00027288994169794023, 0.00015436687681358308, 1.21491457321099e-05, 0.0006913745310157537, 5.695979416486807e-05, 0.00024024784215725958, 3.827492764685303e-05, 9.934457921190187e-05, 0.0006488921935670078, 8.011747559066862e-05, 0.00019218817760702223, 2.5529448976158164e-05, 0.00032434772583656013, 0.0010871076956391335, 0.9936420321464539, 0.0, 0.0, 0.0, 0.0, 0.0, 0.0, 0.0, 0.0, 0.0, 0.0, 0.0, 0.0], [0.0016077632317319512, 0.1769733428955078, 0.015483582392334938, 0.0003713875776156783, 0.0003786338202189654, 0.00016452711133752018, 0.00032773823477327824, 0.00016989698633551598, 0.002122962148860097, 3.573096910258755e-05, 6.090139868319966e-05, 0.0004562165413517505, 1.5447778423549607e-05, 0.0022543161176145077, 0.001566687598824501, 0.00011843754327856004, 0.00046998902689665556, 5.0373171688988805e-05, 0.00012108051305403933, 6.008960917824879e-05, 0.000892057316377759, 0.000751845829654485, 0.00026899660588242114, 0.7952780723571777, 0.0, 0.0, 0.0, 0.0, 0.0, 0.0, 0.0, 0.0, 0.0, 0.0, 0.0], [0.00039198657032102346, 0.0002142118028132245, 0.0005306118400767446, 1.0745785402832553e-05, 0.00011862379324156791, 4.225778684485704e-05, 0.00021160373580642045, 4.692554284702055e-05, 0.0004481582436710596, 0.00010691286297515035, 3.9354647014988586e-05, 0.0001683084265096113, 0.00017352365830447525, 0.00045245050569064915, 0.00014294112042989582, 0.00011699338210746646, 0.00017526814190205187, 0.00010119970829691738, 4.25139041908551e-05, 2.0371742721181363e-05, 3.8371315895346925e-05, 0.000113446127215866, 0.0002527929609641433, 6.991026020841673e-05, 0.9959704875946045, 0.0, 0.0, 0.0, 0.0, 0.0, 0.0, 0.0, 0.0, 0.0, 0.0], [0.00021530737285502255, 0.00010005858348449692, 0.0023809238336980343, 0.001983144087716937, 0.0011120130075141788, 5.563477679970674e-05, 0.0006109274108894169, 0.00024564380873925984, 8.819022332318127e-05, 0.0011510425247251987, 0.00010669918265193701, 0.0001755490229697898, 5.736288949265145e-05, 7.814808486727998e-05, 0.00024573493283241987, 9.594687981007155e-06, 0.00017032408504746854, 2.897270314861089e-05, 1.4011739040142857e-05, 0.00016692113422323018, 1.2888894161733333e-05, 0.00024495579418726265, 0.0005147024639882147, 4.942118903272785e-05, 0.0005746561218984425, 0.9896071553230286, 0.0, 0.0, 0.0, 0.0, 0.0, 0.0, 0.0, 0.0, 0.0], [0.00011423427349654958, 0.0008627416682429612, 0.0007732235244475305, 0.0007090758881531656, 0.0007292139925993979, 0.0014031633036211133, 0.00021403632126748562, 0.00017666495114099234, 6.622049113502726e-05, 3.2159430702449754e-05, 0.0004533063911367208, 0.00012008502380922437, 2.2129026547190733e-05, 5.8075143897440284e-05, 0.00012917444109916687, 1.9079687263001688e-05, 0.00011076675582444295, 8.56419592309976e-06, 2.363056773901917e-05, 0.000337998237228021, 5.211892130319029e-05, 0.00014455695054493845, 0.0001969498407561332, 0.00045105296885594726, 2.0576282622641884e-05, 8.764310041442513e-05, 0.992683470249176, 0.0, 0.0, 0.0, 0.0, 0.0, 0.0, 0.0, 0.0], [0.0001979835651582107, 0.00019567960407584906, 0.00022612242901232094, 0.00041943672113120556, 0.000597969745285809, 0.000451744650490582, 0.00034782904549501836, 0.0002585812471807003, 2.801990558509715e-05, 0.000722000899259001, 0.00013010468683205545, 0.0011632062960416079, 6.916914571775123e-05, 2.4789154849713668e-05, 0.00010386025678599253, 0.00038124973070807755, 0.0011587801855057478, 0.00033144469489343464, 0.00024494543322362006, 0.00012755185889545828, 0.0001609843602636829, 1.9267921743448824e-05, 0.00027174208662472665, 2.0765552108059637e-05, 6.825073796790093e-05, 0.00087642582366243, 0.0006782166310586035, 0.9907240271568298, 0.0, 0.0, 0.0, 0.0, 0.0, 0.0, 0.0], [3.157188984914683e-05, 0.0006791111663915217, 0.0007090723956935108, 0.0002416485658613965, 0.0004120545636396855, 0.000923742598388344, 0.00020848600252065808, 6.639298953814432e-05, 0.00011664829071378335, 8.601942681707442e-05, 0.010591328144073486, 0.0003372912178747356, 2.1898511477047578e-05, 0.00010110744187841192, 0.00010436101729283109, 5.858746590092778e-05, 0.0003251215966884047, 1.5854146113269962e-05, 5.0336129788775e-06, 0.00040949039976112545, 1.3119529285177123e-05, 5.313358997227624e-05, 1.1887270375154912e-05, 5.536681055673398e-05, 1.2197706382721663e-05, 8.952661301009357e-05, 0.002243552589789033, 0.00021041935542598367, 0.9818660616874695, 0.0, 0.0, 0.0, 0.0, 0.0, 0.0], [0.0007582925027236342, 0.0012331459438428283, 8.604941103840247e-05, 6.291332101682201e-05, 2.879176099668257e-05, 3.3166903449455276e-05, 7.622719567734748e-05, 0.00010868198296520859, 0.006450857501477003, 0.0001478909543948248, 1.0376486898167059e-05, 0.0023889727890491486, 7.883598300395533e-05, 0.007510697469115257, 0.00028743132133968174, 0.0001367574732284993, 0.0027602962218225002, 0.0007447172538377345, 8.81111845956184e-05, 2.470205072313547e-05, 0.006188869941979647, 0.00011647059727692977, 0.0001724402973195538, 0.00026217513368465006, 0.0001841977791627869, 4.4321401219349355e-05, 4.855170482187532e-05, 8.903052366804332e-05, 2.6887826606980525e-05, 0.9698501229286194, 0.0, 0.0, 0.0, 0.0, 0.0], [0.0002462745178490877, 0.00035919941728934646, 0.00020521896658465266, 9.387754107592627e-05, 8.577330299885944e-05, 5.495216100825928e-05, 4.531839658739045e-05, 1.0722168553911615e-05, 4.867112875217572e-05, 0.00011017618089681491, 0.00010064101661555469, 9.772245539352298e-05, 0.0005496817757375538, 4.362943582236767e-05, 3.945788193959743e-05, 7.14023262844421e-05, 9.814357326831669e-05, 5.700975816580467e-05, 2.4251130525954068e-05, 2.31456533583696e-06, 5.0569389713928103e-05, 0.0001131849130615592, 0.0002906991576310247, 6.889968790346757e-05, 0.0006683259271085262, 0.0002321746142115444, 8.348713890882209e-06, 1.7434649635106325e-05, 1.027312009682646e-05, 0.00013885690714232624, 0.9960569143295288, 0.0, 0.0, 0.0, 0.0], [0.00011105897283414379, 3.599156843847595e-05, 4.416053707245737e-05, 0.00022596365306526423, 0.00024025827588047832, 1.7348935216432437e-05, 7.204298890428618e-05, 0.0002373896713834256, 8.274748688563704e-05, 0.00010178543016081676, 7.876383278926369e-06, 6.391834904206917e-05, 3.295208443887532e-05, 7.889189873822033e-05, 0.00011627453932305798, 7.139142326195724e-06, 6.571760604856536e-05, 5.396364940679632e-06, 8.334015547006857e-06, 1.9613882614066824e-05, 4.110628287889995e-05, 8.537995745427907e-05, 3.1616174965165555e-05, 9.916993803926744e-06, 2.3832411898183636e-05, 0.0018293511820957065, 2.611123454698827e-05, 3.313507841085084e-05, 1.4612711311201565e-05, 0.0008547279867343605, 0.0001674516242928803, 0.995307981967926, 0.0, 0.0, 0.0], [0.0022552271839231253, 0.00046477571595460176, 0.00012283741671126336, 0.006661211606115103, 8.828959835227579e-05, 0.00024942788877524436, 0.0001755518460413441, 2.6563477149466053e-05, 0.004149143118411303, 0.00020833087910432369, 1.597336449776776e-05, 0.0007248219917528331, 1.231808346346952e-05, 0.004929245449602604, 0.0007067766855470836, 2.7460222554509528e-05, 0.0008252449333667755, 5.148737909621559e-05, 9.10726248548599e-06, 0.0011701990151777864, 0.0011320507619529963, 0.0003872281522490084, 0.00010000287875300273, 0.0005395385669544339, 0.0001279768766835332, 7.418715540552512e-05, 0.00063518580282107, 5.9918547776760533e-05, 0.00020302356278989464, 0.022641262039542198, 7.111392915248871e-05, 0.003479855600744486, 0.947674572467804, 0.0, 0.0], [0.00010488810949027538, 0.0005403985851444304, 0.0002700608456507325, 2.781992225209251e-05, 0.0008878537337295711, 0.0002531727368477732, 0.0002921407576650381, 0.0009951466927304864, 3.9432117773685604e-05, 6.531640246976167e-05, 5.1983330195071176e-05, 0.0006716347415931523, 1.9524166418705136e-05, 3.796433884417638e-05, 0.00031547032995149493, 0.00015760336827952415, 0.0006809115293435752, 0.00017366751853842288, 0.00023275859712157398, 0.0004935202305205166, 0.00015254231402650476, 8.96886849659495e-05, 0.0014225805643945932, 0.00022503072977997363, 0.00015392254863400012, 0.00010696907702367753, 0.005650238133966923, 0.0008653235854580998, 0.0002874949714168906, 0.00013868501991964877, 1.4354158338392153e-05, 2.8161975933471695e-05, 0.0001161200343631208, 0.9844375848770142, 0.0], [0.0018830401822924614, 0.00023013967438600957, 7.190548785729334e-05, 3.798293846557499e-06, 0.0022563631646335125, 4.3679774535121396e-05, 0.00012782966950908303, 0.0006368025206029415, 0.0005364003009162843, 5.325712663761806e-06, 7.917860784800723e-05, 2.6016030460596085e-05, 1.1253263437538408e-05, 0.0005611252854578197, 9.103798220166937e-06, 0.00021052244119346142, 2.6891138986684382e-05, 3.2424406526843086e-05, 0.0002593936806079, 0.0004526674747467041, 0.0011521012056618929, 1.1493538295326289e-05, 4.8182431783061475e-05, 0.00010571508755674586, 8.452803740510717e-05, 0.00010020880290539935, 2.8483780624810606e-05, 2.0415465769474395e-05, 1.8022984704657574e-06, 7.628967432538047e-05, 4.604334753821604e-05, 9.973581472877413e-05, 5.258407327346504e-06, 0.00019488534599076957, 0.9905608296394348]], [[1.0, 0.0, 0.0, 0.0, 0.0, 0.0, 0.0, 0.0, 0.0, 0.0, 0.0, 0.0, 0.0, 0.0, 0.0, 0.0, 0.0, 0.0, 0.0, 0.0, 0.0, 0.0, 0.0, 0.0, 0.0, 0.0, 0.0, 0.0, 0.0, 0.0, 0.0, 0.0, 0.0, 0.0, 0.0], [0.9424744844436646, 0.05752559006214142, 0.0, 0.0, 0.0, 0.0, 0.0, 0.0, 0.0, 0.0, 0.0, 0.0, 0.0, 0.0, 0.0, 0.0, 0.0, 0.0, 0.0, 0.0, 0.0, 0.0, 0.0, 0.0, 0.0, 0.0, 0.0, 0.0, 0.0, 0.0, 0.0, 0.0, 0.0, 0.0, 0.0], [0.8506749868392944, 0.09740971028804779, 0.051915302872657776, 0.0, 0.0, 0.0, 0.0, 0.0, 0.0, 0.0, 0.0, 0.0, 0.0, 0.0, 0.0, 0.0, 0.0, 0.0, 0.0, 0.0, 0.0, 0.0, 0.0, 0.0, 0.0, 0.0, 0.0, 0.0, 0.0, 0.0, 0.0, 0.0, 0.0, 0.0, 0.0], [0.7641512751579285, 0.10970379412174225, 0.07497040927410126, 0.051174525171518326, 0.0, 0.0, 0.0, 0.0, 0.0, 0.0, 0.0, 0.0, 0.0, 0.0, 0.0, 0.0, 0.0, 0.0, 0.0, 0.0, 0.0, 0.0, 0.0, 0.0, 0.0, 0.0, 0.0, 0.0, 0.0, 0.0, 0.0, 0.0, 0.0, 0.0, 0.0], [0.6748190522193909, 0.08416195958852768, 0.0547025166451931, 0.07581546902656555, 0.11050090938806534, 0.0, 0.0, 0.0, 0.0, 0.0, 0.0, 0.0, 0.0, 0.0, 0.0, 0.0, 0.0, 0.0, 0.0, 0.0, 0.0, 0.0, 0.0, 0.0, 0.0, 0.0, 0.0, 0.0, 0.0, 0.0, 0.0, 0.0, 0.0, 0.0, 0.0], [0.6857606172561646, 0.08229535073041916, 0.05202116817235947, 0.08139176666736603, 0.04085881635546684, 0.05767223238945007, 0.0, 0.0, 0.0, 0.0, 0.0, 0.0, 0.0, 0.0, 0.0, 0.0, 0.0, 0.0, 0.0, 0.0, 0.0, 0.0, 0.0, 0.0, 0.0, 0.0, 0.0, 0.0, 0.0, 0.0, 0.0, 0.0, 0.0, 0.0, 0.0], [0.6174605488777161, 0.056534551084041595, 0.0911170095205307, 0.06854881346225739, 0.06338423490524292, 0.035969749093055725, 0.06698516756296158, 0.0, 0.0, 0.0, 0.0, 0.0, 0.0, 0.0, 0.0, 0.0, 0.0, 0.0, 0.0, 0.0, 0.0, 0.0, 0.0, 0.0, 0.0, 0.0, 0.0, 0.0, 0.0, 0.0, 0.0, 0.0, 0.0, 0.0, 0.0], [0.6047279834747314, 0.06088969483971596, 0.05921149626374245, 0.0955815240740776, 0.04265916347503662, 0.03184342756867409, 0.042630646377801895, 0.06245603784918785, 0.0, 0.0, 0.0, 0.0, 0.0, 0.0, 0.0, 0.0, 0.0, 0.0, 0.0, 0.0, 0.0, 0.0, 0.0, 0.0, 0.0, 0.0, 0.0, 0.0, 0.0, 0.0, 0.0, 0.0, 0.0, 0.0, 0.0], [0.4008437693119049, 0.07533582299947739, 0.04270841181278229, 0.011760723777115345, 0.026680557057261467, 0.013492079451680183, 0.028465459123253822, 0.013900595717132092, 0.38681259751319885, 0.0, 0.0, 0.0, 0.0, 0.0, 0.0, 0.0, 0.0, 0.0, 0.0, 0.0, 0.0, 0.0, 0.0, 0.0, 0.0, 0.0, 0.0, 0.0, 0.0, 0.0, 0.0, 0.0, 0.0, 0.0, 0.0], [0.49680253863334656, 0.06792883574962616, 0.05792005732655525, 0.07101529091596603, 0.06963258981704712, 0.018800105899572372, 0.06757567822933197, 0.06346484273672104, 0.06656691431999207, 0.02029319666326046, 0.0, 0.0, 0.0, 0.0, 0.0, 0.0, 0.0, 0.0, 0.0, 0.0, 0.0, 0.0, 0.0, 0.0, 0.0, 0.0, 0.0, 0.0, 0.0, 0.0, 0.0, 0.0, 0.0, 0.0, 0.0], [0.5176076889038086, 0.08289016038179398, 0.052397675812244415, 0.06842364370822906, 0.046088289469480515, 0.02686595730483532, 0.08181491494178772, 0.03230837360024452, 0.05516277253627777, 0.018549636006355286, 0.017890896648168564, 0.0, 0.0, 0.0, 0.0, 0.0, 0.0, 0.0, 0.0, 0.0, 0.0, 0.0, 0.0, 0.0, 0.0, 0.0, 0.0, 0.0, 0.0, 0.0, 0.0, 0.0, 0.0, 0.0, 0.0], [0.3038182258605957, 0.03185644745826721, 0.02915768511593342, 0.011053645983338356, 0.013536774553358555, 0.016536910086870193, 0.015181957744061947, 0.01551173534244299, 0.026294970884919167, 0.016890998929739, 0.011886646039783955, 0.5082739591598511, 0.0, 0.0, 0.0, 0.0, 0.0, 0.0, 0.0, 0.0, 0.0, 0.0, 0.0, 0.0, 0.0, 0.0, 0.0, 0.0, 0.0, 0.0, 0.0, 0.0, 0.0, 0.0, 0.0], [0.35859888792037964, 0.07880906015634537, 0.059028640389442444, 0.04445865750312805, 0.07822325080633163, 0.01967952400445938, 0.05133122205734253, 0.0400983989238739, 0.08024681359529495, 0.027811912819743156, 0.01025061309337616, 0.1361035704612732, 0.015359452925622463, 0.0, 0.0, 0.0, 0.0, 0.0, 0.0, 0.0, 0.0, 0.0, 0.0, 0.0, 0.0, 0.0, 0.0, 0.0, 0.0, 0.0, 0.0, 0.0, 0.0, 0.0, 0.0], [0.25116774439811707, 0.046233996748924255, 0.027838552370667458, 0.007056495174765587, 0.01724417880177498, 0.008997933007776737, 0.017309948801994324, 0.009924148209393024, 0.25275108218193054, 0.012778302654623985, 0.008546066470444202, 0.04791996255517006, 0.006098274607211351, 0.2861333191394806, 0.0, 0.0, 0.0, 0.0, 0.0, 0.0, 0.0, 0.0, 0.0, 0.0, 0.0, 0.0, 0.0, 0.0, 0.0, 0.0, 0.0, 0.0, 0.0, 0.0, 0.0], [0.39800772070884705, 0.06433822214603424, 0.04979855194687843, 0.05949564650654793, 0.031821127980947495, 0.030714746564626694, 0.058995526283979416, 0.05480389669537544, 0.039193734526634216, 0.03556448221206665, 0.024916471913456917, 0.045719318091869354, 0.016671670600771904, 0.0389430969953537, 0.05101582035422325, 0.0, 0.0, 0.0, 0.0, 0.0, 0.0, 0.0, 0.0, 0.0, 0.0, 0.0, 0.0, 0.0, 0.0, 0.0, 0.0, 0.0, 0.0, 0.0, 0.0], [0.39033833146095276, 0.07549391686916351, 0.038446757942438126, 0.043667763471603394, 0.01782074198126793, 0.012712192721664906, 0.04530725255608559, 0.03603019192814827, 0.04217067360877991, 0.01675303839147091, 0.04224865511059761, 0.05092340707778931, 0.030772089958190918, 0.04072082042694092, 0.056488849222660065, 0.06010528653860092, 0.0, 0.0, 0.0, 0.0, 0.0, 0.0, 0.0, 0.0, 0.0, 0.0, 0.0, 0.0, 0.0, 0.0, 0.0, 0.0, 0.0, 0.0, 0.0], [0.1818234771490097, 0.01822478324174881, 0.017477890476584435, 0.006372255738824606, 0.007922587916254997, 0.010062881745398045, 0.00870315171778202, 0.01029747910797596, 0.015354440547525883, 0.011538180522620678, 0.007091041188687086, 0.31395548582077026, 0.006019816733896732, 0.015887580811977386, 0.015422006137669086, 0.013188587501645088, 0.34065836668014526, 0.0, 0.0, 0.0, 0.0, 0.0, 0.0, 0.0, 0.0, 0.0, 0.0, 0.0, 0.0, 0.0, 0.0, 0.0, 0.0, 0.0, 0.0], [0.23881429433822632, 0.07684364169836044, 0.04843557998538017, 0.028319763019680977, 0.042976222932338715, 0.01943075843155384, 0.03321721777319908, 0.027472948655486107, 0.018975932151079178, 0.04046750068664551, 0.020095594227313995, 0.058573152869939804, 0.03530573099851608, 0.019691886380314827, 0.09703770279884338, 0.039098065346479416, 0.061994507908821106, 0.09324944019317627, 0.0, 0.0, 0.0, 0.0, 0.0, 0.0, 0.0, 0.0, 0.0, 0.0, 0.0, 0.0, 0.0, 0.0, 0.0, 0.0, 0.0], [0.35636118054389954, 0.04354534670710564, 0.0543937012553215, 0.03599719703197479, 0.055608730763196945, 0.032856810837984085, 0.01944384165108204, 0.06911689788103104, 0.020649438723921776, 0.03360533341765404, 0.02761875092983246, 0.03407999500632286, 0.026847468689084053, 0.020337311550974846, 0.022298933938145638, 0.036227382719516754, 0.03464473783969879, 0.022655008360743523, 0.053711891174316406, 0.0, 0.0, 0.0, 0.0, 0.0, 0.0, 0.0, 0.0, 0.0, 0.0, 0.0, 0.0, 0.0, 0.0, 0.0, 0.0], [0.3967011570930481, 0.051782406866550446, 0.03996192663908005, 0.0663074404001236, 0.04557185247540474, 0.023983411490917206, 0.01939675584435463, 0.021365968510508537, 0.02025378867983818, 0.03685583919286728, 0.009492047131061554, 0.04181000962853432, 0.01449868269264698, 0.019783716648817062, 0.029715226963162422, 0.04631546884775162, 0.042466409504413605, 0.031475216150283813, 0.022027648985385895, 0.020235072821378708, 0.0, 0.0, 0.0, 0.0, 0.0, 0.0, 0.0, 0.0, 0.0, 0.0, 0.0, 0.0, 0.0, 0.0, 0.0], [0.23151393234729767, 0.13258197903633118, 0.06026102229952812, 0.011383593082427979, 0.024262716993689537, 0.014553466811776161, 0.01697956584393978, 0.013957410119473934, 0.022475892677903175, 0.027721287682652473, 0.02060706913471222, 0.040846843272447586, 0.02772320620715618, 0.024550708010792732, 0.03857919201254845, 0.04770103096961975, 0.044071100652217865, 0.07720751315355301, 0.046044740825891495, 0.04773346707224846, 0.029244298115372658, 0.0, 0.0, 0.0, 0.0, 0.0, 0.0, 0.0, 0.0, 0.0, 0.0, 0.0, 0.0, 0.0, 0.0], [0.20264171063899994, 0.048930857330560684, 0.03894680738449097, 0.026632266119122505, 0.04094347730278969, 0.016175057739019394, 0.04388013482093811, 0.04927310720086098, 0.037442903965711594, 0.018747961148619652, 0.010438330471515656, 0.03027418442070484, 0.01166881900280714, 0.03915899991989136, 0.0836191177368164, 0.026806533336639404, 0.03237595409154892, 0.026771074160933495, 0.04136868938803673, 0.04380552098155022, 0.09921545535326004, 0.030883025377988815, 0.0, 0.0, 0.0, 0.0, 0.0, 0.0, 0.0, 0.0, 0.0, 0.0, 0.0, 0.0, 0.0], [0.22999970614910126, 0.029275361448526382, 0.024823691695928574, 0.030747538432478905, 0.02443976327776909, 0.025078171864151955, 0.019048282876610756, 0.04161752015352249, 0.02524641901254654, 0.05536344647407532, 0.013840338215231895, 0.03206312283873558, 0.02337372675538063, 0.026896363124251366, 0.037655845284461975, 0.028709685429930687, 0.03498141095042229, 0.0382692888379097, 0.05304877832531929, 0.07750778645277023, 0.042357493191957474, 0.06297057867050171, 0.02268565446138382, 0.0, 0.0, 0.0, 0.0, 0.0, 0.0, 0.0, 0.0, 0.0, 0.0, 0.0, 0.0], [0.2523007392883301, 0.04309260472655296, 0.047794319689273834, 0.021534815430641174, 0.05364762991666794, 0.014357617124915123, 0.01696820557117462, 0.012399842962622643, 0.02810794860124588, 0.022964566946029663, 0.013637281022965908, 0.03462432697415352, 0.013057569041848183, 0.029753556475043297, 0.025925688445568085, 0.036895427852869034, 0.036465857177972794, 0.020091183483600616, 0.03424844145774841, 0.032270647585392, 0.07516516745090485, 0.03381401672959328, 0.05794450268149376, 0.042938098311424255, 0.0, 0.0, 0.0, 0.0, 0.0, 0.0, 0.0, 0.0, 0.0, 0.0, 0.0], [0.2481558620929718, 0.041838403791189194, 0.03725352883338928, 0.01991417445242405, 0.06031176447868347, 0.013761507347226143, 0.010237010195851326, 0.027118368074297905, 0.021247483789920807, 0.01499642338603735, 0.015956401824951172, 0.019741930067539215, 0.016942834481596947, 0.022782422602176666, 0.02115941047668457, 0.013419793918728828, 0.021131552755832672, 0.01588009111583233, 0.03851577267050743, 0.035099294036626816, 0.06386473029851913, 0.042158909142017365, 0.0559518076479435, 0.06510590761899948, 0.057454664260149, 0.0, 0.0, 0.0, 0.0, 0.0, 0.0, 0.0, 0.0, 0.0, 0.0], [0.24590614438056946, 0.03979460895061493, 0.03405001387000084, 0.03872009366750717, 0.02834436111152172, 0.024568278342485428, 0.013687250204384327, 0.019880935549736023, 0.017507942393422127, 0.041312143206596375, 0.024649053812026978, 0.01702808029949665, 0.015493776649236679, 0.01803990639746189, 0.028712540864944458, 0.008945342153310776, 0.01785881444811821, 0.02984653227031231, 0.026982223615050316, 0.061192579567432404, 0.03972143307328224, 0.040086906403303146, 0.046563830226659775, 0.0465921126306057, 0.04635817930102348, 0.0281569492071867, 0.0, 0.0, 0.0, 0.0, 0.0, 0.0, 0.0, 0.0, 0.0], [0.24299508333206177, 0.03093666024506092, 0.0372811034321785, 0.029979784041643143, 0.03951823711395264, 0.02068973518908024, 0.02446378953754902, 0.01616225391626358, 0.023514611646533012, 0.015184114687144756, 0.009779496118426323, 0.01040042843669653, 0.008830743841826916, 0.023988919332623482, 0.024419214576482773, 0.03784202039241791, 0.010589984245598316, 0.013367556035518646, 0.016263322904706, 0.09984058886766434, 0.025632793083786964, 0.027902815490961075, 0.054687801748514175, 0.03170407935976982, 0.027479570358991623, 0.016517244279384613, 0.08002808690071106, 0.0, 0.0, 0.0, 0.0, 0.0, 0.0, 0.0, 0.0], [0.24383299052715302, 0.02178153581917286, 0.019058486446738243, 0.02660839818418026, 0.0374055914580822, 0.02708662487566471, 0.005031609907746315, 0.026656044647097588, 0.017429376021027565, 0.028662465512752533, 0.012151002883911133, 0.030223222449421883, 0.014068301767110825, 0.018160903826355934, 0.015435302630066872, 0.015721840783953667, 0.03215307742357254, 0.024973008781671524, 0.047933775931596756, 0.04599001631140709, 0.031192142516374588, 0.038415271788835526, 0.0378812812268734, 0.03472226485610008, 0.03550752252340317, 0.033360373228788376, 0.05460803583264351, 0.023949556052684784, 0.0, 0.0, 0.0, 0.0, 0.0, 0.0, 0.0], [0.308788001537323, 0.04082433506846428, 0.010766169056296349, 0.02708975411951542, 0.019433293491601944, 0.03355547785758972, 0.01083952747285366, 0.011495564132928848, 0.011286419816315174, 0.019319290295243263, 0.034423623234033585, 0.010595863685011864, 0.01946372538805008, 0.011577975004911423, 0.014172402210533619, 0.021593423560261726, 0.010569149628281593, 0.018212515860795975, 0.007991205900907516, 0.05231864005327225, 0.019707778468728065, 0.03532519191503525, 0.029598264023661613, 0.028512969613075256, 0.021019773557782173, 0.018976135179400444, 0.031007934361696243, 0.017736954614520073, 0.10379861295223236, 0.0, 0.0, 0.0, 0.0, 0.0, 0.0], [0.11270298808813095, 0.013211614452302456, 0.015115483663976192, 0.008062336593866348, 0.01807505078613758, 0.020267320796847343, 0.00912178959697485, 0.02165440283715725, 0.024600302800536156, 0.012220287695527077, 0.005230673123151064, 0.021195201203227043, 0.0075057558715343475, 0.02724008820950985, 0.016828980296850204, 0.009307199157774448, 0.023774147033691406, 0.009840186685323715, 0.023520391434431076, 0.0180961936712265, 0.11592712998390198, 0.008296088315546513, 0.015038428828120232, 0.016261842101812363, 0.022837139666080475, 0.00797029584646225, 0.010346013121306896, 0.01360129565000534, 0.009923167526721954, 0.3622281551361084, 0.0, 0.0, 0.0, 0.0, 0.0], [0.19907142221927643, 0.0233529694378376, 0.027535514906048775, 0.020741190761327744, 0.04944239929318428, 0.0396454855799675, 0.01158048864454031, 0.03849605470895767, 0.012212726287543774, 0.01263486873358488, 0.018897846341133118, 0.011502719484269619, 0.01441795565187931, 0.01285514049232006, 0.01591629348695278, 0.009284351021051407, 0.011929105035960674, 0.014574804343283176, 0.029562370851635933, 0.03092147223651409, 0.0493488535284996, 0.02683302015066147, 0.03316977620124817, 0.02651390992105007, 0.03841780871152878, 0.03666594251990318, 0.037406861782073975, 0.0374491810798645, 0.04181370139122009, 0.04080497846007347, 0.027000805363059044, 0.0, 0.0, 0.0, 0.0], [0.135808527469635, 0.021598204970359802, 0.02843146026134491, 0.02136678621172905, 0.031841766089200974, 0.02831076644361019, 0.01123244222253561, 0.01613933965563774, 0.023436736315488815, 0.025144265964627266, 0.012804519385099411, 0.01200049463659525, 0.020912276580929756, 0.025003286078572273, 0.02769225463271141, 0.01730593480169773, 0.012859729118645191, 0.016066301614046097, 0.03278999403119087, 0.038290269672870636, 0.06080479547381401, 0.036749985069036484, 0.035247333347797394, 0.038578007370233536, 0.039048150181770325, 0.03664340823888779, 0.01453043520450592, 0.021632280200719833, 0.01049099676311016, 0.06733930855989456, 0.03867286816239357, 0.04122712090611458, 0.0, 0.0, 0.0], [0.13088135421276093, 0.023744337260723114, 0.02011433243751526, 0.009702394716441631, 0.0269522275775671, 0.0135911013931036, 0.009517527185380459, 0.013271709904074669, 0.027617916464805603, 0.011498376727104187, 0.008886142633855343, 0.016865799203515053, 0.009971977211534977, 0.031318604946136475, 0.01495380885899067, 0.01563660055398941, 0.01875585876405239, 0.008822464384138584, 0.024258315563201904, 0.018599875271320343, 0.06659717857837677, 0.023935336619615555, 0.030215023085474968, 0.03847971186041832, 0.060547858476638794, 0.038860976696014404, 0.021039573475718498, 0.026919962838292122, 0.03078671544790268, 0.06339392811059952, 0.053022921085357666, 0.07499753683805466, 0.016242537647485733, 0.0, 0.0], [0.21679525077342987, 0.03523939847946167, 0.014480572193861008, 0.03231681510806084, 0.021502697840332985, 0.019766855984926224, 0.0077169653959572315, 0.031425777822732925, 0.011421252973377705, 0.03985079377889633, 0.005697546061128378, 0.013826764188706875, 0.011217726394534111, 0.011028856970369816, 0.014342344366014004, 0.016691602766513824, 0.013800657354295254, 0.00905416626483202, 0.01655157469213009, 0.04516451433300972, 0.01674339920282364, 0.04049496725201607, 0.04600659757852554, 0.03918023779988289, 0.020771794021129608, 0.04241836071014404, 0.029444053769111633, 0.01654653251171112, 0.0433904267847538, 0.018028808757662773, 0.01749301515519619, 0.03195446357131004, 0.023179974406957626, 0.026455214247107506, 0.0], [0.12406575679779053, 0.055755216628313065, 0.02579311467707157, 0.007745691575109959, 0.01921473629772663, 0.011872401461005211, 0.009303716942667961, 0.015842607244849205, 0.01272842288017273, 0.012888260185718536, 0.013962882570922375, 0.016627255827188492, 0.01550709456205368, 0.013195223174989223, 0.01732509396970272, 0.02114797942340374, 0.017335498705506325, 0.01582430489361286, 0.024794382974505424, 0.011903033591806889, 0.03651025518774986, 0.023874759674072266, 0.04022137075662613, 0.06286037713289261, 0.10149350017309189, 0.053322602063417435, 0.021689608693122864, 0.01824428141117096, 0.008406991139054298, 0.02320229448378086, 0.04960419982671738, 0.02086932212114334, 0.016017969697713852, 0.01110194344073534, 0.04974794015288353]], [[1.0, 0.0, 0.0, 0.0, 0.0, 0.0, 0.0, 0.0, 0.0, 0.0, 0.0, 0.0, 0.0, 0.0, 0.0, 0.0, 0.0, 0.0, 0.0, 0.0, 0.0, 0.0, 0.0, 0.0, 0.0, 0.0, 0.0, 0.0, 0.0, 0.0, 0.0, 0.0, 0.0, 0.0, 0.0], [0.10778003185987473, 0.8922199010848999, 0.0, 0.0, 0.0, 0.0, 0.0, 0.0, 0.0, 0.0, 0.0, 0.0, 0.0, 0.0, 0.0, 0.0, 0.0, 0.0, 0.0, 0.0, 0.0, 0.0, 0.0, 0.0, 0.0, 0.0, 0.0, 0.0, 0.0, 0.0, 0.0, 0.0, 0.0, 0.0, 0.0], [0.011847435496747494, 0.5536144375801086, 0.4345381557941437, 0.0, 0.0, 0.0, 0.0, 0.0, 0.0, 0.0, 0.0, 0.0, 0.0, 0.0, 0.0, 0.0, 0.0, 0.0, 0.0, 0.0, 0.0, 0.0, 0.0, 0.0, 0.0, 0.0, 0.0, 0.0, 0.0, 0.0, 0.0, 0.0, 0.0, 0.0, 0.0], [0.06322263926267624, 0.021719152107834816, 0.0942729040980339, 0.8207852840423584, 0.0, 0.0, 0.0, 0.0, 0.0, 0.0, 0.0, 0.0, 0.0, 0.0, 0.0, 0.0, 0.0, 0.0, 0.0, 0.0, 0.0, 0.0, 0.0, 0.0, 0.0, 0.0, 0.0, 0.0, 0.0, 0.0, 0.0, 0.0, 0.0, 0.0, 0.0], [0.005095742642879486, 0.0005348753184080124, 0.0010105489054694772, 0.0046575660817325115, 0.9887012243270874, 0.0, 0.0, 0.0, 0.0, 0.0, 0.0, 0.0, 0.0, 0.0, 0.0, 0.0, 0.0, 0.0, 0.0, 0.0, 0.0, 0.0, 0.0, 0.0, 0.0, 0.0, 0.0, 0.0, 0.0, 0.0, 0.0, 0.0, 0.0, 0.0, 0.0], [0.00558595871552825, 0.000302401022054255, 0.0007955087930895388, 0.0006780334515497088, 0.028760118409991264, 0.9638779759407043, 0.0, 0.0, 0.0, 0.0, 0.0, 0.0, 0.0, 0.0, 0.0, 0.0, 0.0, 0.0, 0.0, 0.0, 0.0, 0.0, 0.0, 0.0, 0.0, 0.0, 0.0, 0.0, 0.0, 0.0, 0.0, 0.0, 0.0, 0.0, 0.0], [0.00026657318812794983, 0.00015396179514937103, 4.344207627582364e-05, 0.0003163387009408325, 0.007582374848425388, 0.008635700680315495, 0.9830015897750854, 0.0, 0.0, 0.0, 0.0, 0.0, 0.0, 0.0, 0.0, 0.0, 0.0, 0.0, 0.0, 0.0, 0.0, 0.0, 0.0, 0.0, 0.0, 0.0, 0.0, 0.0, 0.0, 0.0, 0.0, 0.0, 0.0, 0.0, 0.0], [0.0006940621533431113, 4.833178536500782e-05, 4.511346196522936e-05, 2.3520842660218477e-05, 0.0022377674467861652, 0.0012080539017915726, 0.009321358986198902, 0.9864218235015869, 0.0, 0.0, 0.0, 0.0, 0.0, 0.0, 0.0, 0.0, 0.0, 0.0, 0.0, 0.0, 0.0, 0.0, 0.0, 0.0, 0.0, 0.0, 0.0, 0.0, 0.0, 0.0, 0.0, 0.0, 0.0, 0.0, 0.0], [0.04771989583969116, 0.006346914917230606, 0.0055076261050999165, 0.012776722200214863, 0.012552585452795029, 0.012200531549751759, 0.0077605959959328175, 0.017114851623773575, 0.8780203461647034, 0.0, 0.0, 0.0, 0.0, 0.0, 0.0, 0.0, 0.0, 0.0, 0.0, 0.0, 0.0, 0.0, 0.0, 0.0, 0.0, 0.0, 0.0, 0.0, 0.0, 0.0, 0.0, 0.0, 0.0, 0.0, 0.0], [9.403799049323425e-05, 7.299134949789732e-07, 1.2948560197401093e-06, 1.0040589586424176e-06, 1.5192441424005665e-05, 3.609524719649926e-05, 3.1514464353676885e-05, 0.0010808269726112485, 4.2368457798147574e-05, 0.9986969828605652, 0.0, 0.0, 0.0, 0.0, 0.0, 0.0, 0.0, 0.0, 0.0, 0.0, 0.0, 0.0, 0.0, 0.0, 0.0, 0.0, 0.0, 0.0, 0.0, 0.0, 0.0, 0.0, 0.0, 0.0, 0.0], [0.00029844240634702146, 1.0225190635537729e-05, 2.0773864889633842e-05, 1.0716725228121504e-05, 7.453838043147698e-05, 0.00016580583178438246, 0.001366860931739211, 0.002583486260846257, 5.024066922487691e-05, 0.32439520955085754, 0.6710236668586731, 0.0, 0.0, 0.0, 0.0, 0.0, 0.0, 0.0, 0.0, 0.0, 0.0, 0.0, 0.0, 0.0, 0.0, 0.0, 0.0, 0.0, 0.0, 0.0, 0.0, 0.0, 0.0, 0.0, 0.0], [0.009233678691089153, 0.0007820429163984954, 0.0006810429622419178, 0.0018207880202680826, 0.0043833814561367035, 0.017509130761027336, 0.0033242497593164444, 0.01760742999613285, 0.08099659532308578, 0.10943033546209335, 0.014291897416114807, 0.7399394512176514, 0.0, 0.0, 0.0, 0.0, 0.0, 0.0, 0.0, 0.0, 0.0, 0.0, 0.0, 0.0, 0.0, 0.0, 0.0, 0.0, 0.0, 0.0, 0.0, 0.0, 0.0, 0.0, 0.0], [0.0002393030736129731, 3.3237884053960443e-06, 2.2832813556306064e-05, 1.024476659949869e-05, 1.0253623258904554e-05, 4.496405381360091e-05, 2.3576663807034492e-05, 6.216625479282811e-05, 0.0003292960172984749, 0.008749550208449364, 0.0018788747256621718, 0.0014183479361236095, 0.9872072339057922, 0.0, 0.0, 0.0, 0.0, 0.0, 0.0, 0.0, 0.0, 0.0, 0.0, 0.0, 0.0, 0.0, 0.0, 0.0, 0.0, 0.0, 0.0, 0.0, 0.0, 0.0, 0.0], [0.012295343913137913, 0.0005298616597428918, 0.0003560508484952152, 0.0006006716866977513, 0.0005327534163370728, 0.0005349718849174678, 0.00034733524080365896, 0.0008671166142448783, 0.034323085099458694, 0.013273635879158974, 0.007531201001256704, 0.0594179630279541, 0.09377514570951462, 0.7756149172782898, 0.0, 0.0, 0.0, 0.0, 0.0, 0.0, 0.0, 0.0, 0.0, 0.0, 0.0, 0.0, 0.0, 0.0, 0.0, 0.0, 0.0, 0.0, 0.0, 0.0, 0.0], [7.850881229387596e-05, 1.1863348845508881e-05, 5.970536676613847e-06, 4.359465037850896e-06, 6.93304127707961e-06, 5.567320476984605e-05, 8.762029210629407e-06, 2.2130006982479244e-05, 0.00022238277597352862, 0.0002802500384859741, 0.0008127266191877425, 0.0015677291667088866, 0.000189563914318569, 0.005879410542547703, 0.9908537864685059, 0.0, 0.0, 0.0, 0.0, 0.0, 0.0, 0.0, 0.0, 0.0, 0.0, 0.0, 0.0, 0.0, 0.0, 0.0, 0.0, 0.0, 0.0, 0.0, 0.0], [9.475010301684961e-05, 8.603468813817017e-06, 3.7448630791914184e-06, 1.4634196077167871e-07, 2.7017388219974237e-06, 1.141739085142035e-05, 8.620831067673862e-06, 9.928114013746381e-05, 3.119514076388441e-06, 0.00022620831441599876, 0.0005323358927853405, 2.9804918085574172e-05, 0.0013675669906660914, 5.10800709889736e-05, 0.009570831432938576, 0.9879898428916931, 0.0, 0.0, 0.0, 0.0, 0.0, 0.0, 0.0, 0.0, 0.0, 0.0, 0.0, 0.0, 0.0, 0.0, 0.0, 0.0, 0.0, 0.0, 0.0], [0.003944707103073597, 0.00013029140245635062, 9.947711077984422e-05, 0.0001977638603420928, 0.0004265847092028707, 0.0014889838639646769, 0.0002834679326042533, 0.0015356714138761163, 0.004810091573745012, 0.005567715968936682, 0.0010473588481545448, 0.04082655534148216, 0.009189022704958916, 0.09278515726327896, 0.015853000804781914, 0.02794087491929531, 0.7938733696937561, 0.0, 0.0, 0.0, 0.0, 0.0, 0.0, 0.0, 0.0, 0.0, 0.0, 0.0, 0.0, 0.0, 0.0, 0.0, 0.0, 0.0, 0.0], [0.000217236447497271, 2.3531203623861074e-05, 7.806291250744835e-06, 4.732967227027984e-06, 1.567120762047125e-06, 8.667434485687409e-06, 1.264625825569965e-05, 6.129281973699108e-05, 0.0001886947575258091, 0.0005901299300603569, 0.0004205672303214669, 0.0009746523573994637, 0.00042177739669568837, 0.004066715482622385, 0.0014422440435737371, 0.01196003332734108, 0.022401956841349602, 0.9571956396102905, 0.0, 0.0, 0.0, 0.0, 0.0, 0.0, 0.0, 0.0, 0.0, 0.0, 0.0, 0.0, 0.0, 0.0, 0.0, 0.0, 0.0], [0.0007360453018918633, 3.0168268949637422e-06, 1.355473841613275e-06, 1.4014691487318487e-06, 3.387712058611214e-05, 3.752295015146956e-05, 1.0748722161224578e-05, 0.0004302712914068252, 1.6196763681364246e-05, 0.0006748265586793423, 0.0005265927757136524, 0.00012409166083671153, 4.71071653009858e-05, 0.0002413820766378194, 0.0006886593182571232, 0.00038702154415659606, 0.002144157886505127, 0.0017651707166805863, 0.9921305775642395, 0.0, 0.0, 0.0, 0.0, 0.0, 0.0, 0.0, 0.0, 0.0, 0.0, 0.0, 0.0, 0.0, 0.0, 0.0, 0.0], [6.5298086155962665e-06, 4.013182230977463e-09, 4.275874321280071e-09, 9.052371297002537e-09, 5.135176479598158e-07, 3.731759534275625e-06, 1.4824254890299926e-07, 4.6551272134820465e-06, 1.663049964406582e-08, 3.0296805562102236e-06, 3.191981159034185e-05, 1.4017427929502446e-07, 4.954933956469176e-07, 2.3671096016641968e-07, 7.952925216159201e-07, 0.00018607274978421628, 2.4466733066219604e-06, 1.1982309843006078e-05, 0.0005082339630462229, 0.9992390871047974, 0.0, 0.0, 0.0, 0.0, 0.0, 0.0, 0.0, 0.0, 0.0, 0.0, 0.0, 0.0, 0.0, 0.0, 0.0], [0.009417898952960968, 0.00017362403741572052, 0.00019593218166846782, 0.00010542446398176253, 0.00012100123421987519, 0.0001375036226818338, 0.00020822332589887083, 0.00026208811323158443, 0.0009803810389712453, 0.0001742522290442139, 0.0013313950039446354, 0.0032773094717413187, 0.004840625915676355, 0.012378803454339504, 0.0018259006319567561, 0.024282049387693405, 0.05479969456791878, 0.0742848813533783, 0.07759268581867218, 0.10845343768596649, 0.6251569390296936, 0.0, 0.0, 0.0, 0.0, 0.0, 0.0, 0.0, 0.0, 0.0, 0.0, 0.0, 0.0, 0.0, 0.0], [0.0001788632944226265, 2.9717880352109205e-06, 1.2879229416284943e-06, 1.6619725329292123e-06, 3.153403667965904e-06, 7.608561645611189e-06, 4.480575910292828e-07, 4.628859642252792e-06, 4.462088327272795e-06, 4.640815859602299e-06, 4.678133336710744e-06, 2.2255237126955763e-05, 0.0006885053589940071, 5.880861499463208e-05, 5.511297786142677e-05, 0.0013147700810804963, 0.0004210422921460122, 0.000527929631061852, 0.0003059162700083107, 0.0011363041121512651, 0.004935153294354677, 0.9903199076652527, 0.0, 0.0, 0.0, 0.0, 0.0, 0.0, 0.0, 0.0, 0.0, 0.0, 0.0, 0.0, 0.0], [0.0009000810096040368, 3.4609056456247345e-05, 6.00008161200094e-06, 1.3317902585185948e-06, 8.382415217056405e-06, 7.950181498017628e-06, 8.352971576641721e-07, 5.017455350753153e-06, 1.1085563528467901e-05, 1.5506169802392833e-05, 2.244969073217362e-05, 3.2394586014561355e-05, 7.153368642320856e-05, 0.00011106140300398692, 6.552063041453948e-06, 3.557855961844325e-05, 0.00046084189671091735, 0.0006021015578880906, 0.007735580671578646, 0.004731383640319109, 0.012920107692480087, 0.016999104991555214, 0.9552805423736572, 0.0, 0.0, 0.0, 0.0, 0.0, 0.0, 0.0, 0.0, 0.0, 0.0, 0.0, 0.0], [8.094528311630711e-05, 5.4195297707337886e-05, 2.1191066480241716e-05, 8.660334174237505e-07, 5.241397047939245e-06, 2.8114016004110454e-06, 9.647673095969367e-07, 4.259619799995562e-06, 6.819952886871761e-06, 2.63700781033549e-06, 1.0387332622485701e-05, 3.11777948809322e-05, 2.574704740254674e-05, 8.829349826555699e-05, 0.00010530055442359298, 0.0003744474961422384, 0.0005833788309246302, 0.000901934108696878, 0.00043120168265886605, 0.004991122521460056, 0.0035159268882125616, 0.015127475373446941, 0.018385019153356552, 0.9552487730979919, 0.0, 0.0, 0.0, 0.0, 0.0, 0.0, 0.0, 0.0, 0.0, 0.0, 0.0], [0.00019926734967157245, 5.897874757465615e-07, 4.093071765964851e-07, 5.283640120978816e-07, 4.043731394176575e-07, 6.811446837673429e-07, 2.5019610916388046e-07, 3.190981203715637e-07, 5.018000592826866e-06, 3.0599273941334104e-06, 4.776866262545809e-06, 8.106227141979616e-06, 1.787102701200638e-05, 5.904938007006422e-05, 7.0194905674725305e-06, 5.101937131257728e-05, 0.000154196415678598, 0.00015557781443931162, 0.00046309444587677717, 0.00018736724450718611, 0.0029354498255997896, 0.0069986856542527676, 0.004895055666565895, 0.010302471928298473, 0.9735496640205383, 0.0, 0.0, 0.0, 0.0, 0.0, 0.0, 0.0, 0.0, 0.0, 0.0], [4.0418879507342353e-05, 7.668157664397768e-09, 6.183957879102309e-08, 4.1099543324207843e-08, 3.1613390660822915e-07, 1.0004030315258206e-07, 6.658504503320728e-08, 4.780253561875725e-07, 4.035145551029018e-08, 6.753223715350032e-06, 8.574250642823245e-08, 1.0514212078760465e-07, 3.2702703265385935e-06, 4.896545533483732e-07, 1.2450341273506638e-06, 9.069827683561016e-06, 2.069307356578065e-06, 8.541703209630214e-06, 4.513617022894323e-05, 8.528171747457236e-05, 8.476253424305469e-05, 0.0010267909383401275, 0.0013347769854590297, 0.0002960067067760974, 0.005626782309263945, 0.9914274215698242, 0.0, 0.0, 0.0, 0.0, 0.0, 0.0, 0.0, 0.0, 0.0], [0.0003747463633771986, 1.24301294590623e-07, 2.5229184075215016e-07, 3.0524404337484157e-07, 4.772516149387229e-06, 6.075460419197043e-07, 8.50171261390642e-07, 1.1030846508219838e-05, 8.098982817728029e-08, 9.651321306591853e-07, 7.193351621026522e-07, 3.2339349331778067e-07, 1.7605461835046299e-06, 4.4468180249168654e-07, 3.298762862868898e-07, 2.4300299628521316e-05, 3.6642647955886787e-06, 3.0616486128565157e-06, 2.627128196763806e-05, 0.00034267170121893287, 2.078816032735631e-05, 0.00013409749954007566, 0.000304724439047277, 9.803608554648235e-05, 0.0004919689381495118, 0.004237071610987186, 0.9939160943031311, 0.0, 0.0, 0.0, 0.0, 0.0, 0.0, 0.0, 0.0], [0.00023197651898954064, 7.363635745605279e-07, 1.0658058045009966e-06, 4.7498068056484044e-07, 2.187792688346235e-06, 2.0741754269693047e-06, 1.38421185624793e-07, 2.510647618692019e-06, 1.971602756611901e-07, 6.67200629322906e-06, 8.99181145541661e-07, 6.362203066601069e-07, 6.544808570652094e-07, 7.717981134192087e-07, 4.801893283001846e-07, 1.1122317118861247e-05, 5.561925263464218e-06, 3.862764970108401e-06, 6.753716297680512e-05, 0.00028979568742215633, 4.3725034629460424e-05, 0.0001520902442280203, 0.0009337748633697629, 0.00018159438332077116, 8.423319377470762e-05, 0.009933874011039734, 0.008723175153136253, 0.9793182611465454, 0.0, 0.0, 0.0, 0.0, 0.0, 0.0, 0.0], [0.00015704917313996702, 3.1231897423822375e-07, 2.931934659500257e-07, 3.137154465093772e-07, 2.1960966023470974e-06, 1.4164415915729478e-06, 1.1236403452130617e-06, 1.3091787423036294e-06, 5.9215043535232326e-08, 7.978082976478618e-07, 2.803679990392993e-06, 1.9766923742281506e-07, 3.994018413777667e-07, 2.3048994535201928e-07, 2.2642529984295834e-06, 1.6729478375054896e-05, 1.6667635236444767e-06, 2.8725471565849148e-06, 2.494694672350306e-05, 0.0002553278754930943, 4.849691322306171e-06, 4.708057167590596e-05, 5.3256761020747945e-05, 4.240333873894997e-05, 0.00020874898473266512, 0.002043812768533826, 0.08346710354089737, 0.0036730049178004265, 0.9099873900413513, 0.0, 0.0, 0.0, 0.0, 0.0, 0.0], [0.0010030765552073717, 7.60591501602903e-06, 5.4789093155704904e-06, 4.704091224994045e-06, 1.081826439985889e-06, 7.246849236253183e-07, 6.057198334019631e-07, 1.5847847407712834e-06, 3.183100852766074e-05, 1.844483222157578e-06, 1.3723778238272644e-06, 6.841032700322103e-06, 4.996117240807507e-06, 0.00014220463344827294, 2.102596681652358e-06, 2.0461138774408028e-05, 6.875452527310699e-05, 8.339442138094455e-05, 7.060819916659966e-05, 0.0002227002987638116, 0.0013453505234792829, 0.001195314689539373, 0.000763770891353488, 0.003412766382098198, 0.009595143608748913, 0.008245964534580708, 0.004028412979096174, 0.015673451125621796, 0.03710905462503433, 0.916948676109314, 0.0, 0.0, 0.0, 0.0, 0.0], [0.00014598063717130572, 1.3442448221212544e-07, 3.067958687097416e-07, 1.270083771487407e-07, 9.539670742242379e-08, 4.421364963036467e-08, 7.2709593901265634e-09, 2.1630542335060454e-07, 1.7861790979623038e-07, 1.1440969416298685e-07, 4.54667770100059e-08, 1.140669425581109e-07, 1.784633099077837e-07, 8.568714520151843e-07, 1.0497480928961522e-07, 1.2474922641558805e-06, 1.1682639069476863e-06, 6.484989967248111e-07, 9.923038305714726e-06, 2.663560189830605e-05, 2.1481033400050364e-05, 7.19235249562189e-05, 0.00015873317897785455, 0.00014563217700924724, 0.002426166320219636, 0.001514493953436613, 0.0007063166704028845, 0.0022442832123488188, 0.0045668138191103935, 0.009832333773374557, 0.9781237244606018, 0.0, 0.0, 0.0, 0.0], [1.0698754522309173e-05, 5.128420355049457e-08, 7.382474365158487e-08, 9.797535227562548e-08, 4.944870397594059e-07, 6.269719392548723e-07, 2.625734794037271e-07, 7.361913958447985e-07, 2.5101144274231046e-07, 2.176481757487636e-06, 5.363742161534901e-07, 8.60687521253567e-07, 2.151577263020954e-07, 1.0358810413890751e-06, 2.489502435309987e-07, 1.3481019777827896e-05, 8.521075869794004e-06, 5.1484980758687016e-06, 4.645083208743017e-06, 1.6832629626151174e-05, 5.864640843356028e-05, 3.652449231594801e-05, 0.00016485746891703457, 1.1944968719035387e-05, 0.0005173984682187438, 0.0024279055651277304, 0.0003477351274341345, 0.001596403424628079, 0.009022923186421394, 0.013163706287741661, 0.06333819776773453, 0.9092468619346619, 0.0, 0.0, 0.0], [0.001228731358423829, 8.407652785535902e-06, 8.363962479052134e-06, 8.199045623769052e-06, 3.972187187173404e-06, 3.987273430539062e-06, 1.5942531490509282e-06, 4.764992354466813e-06, 4.461924618226476e-06, 8.699210411577951e-06, 3.482301735857618e-06, 4.087223715032451e-06, 4.383186933409888e-06, 1.2878701454610564e-05, 2.7650000902212923e-06, 1.1550823728612158e-05, 2.850841156032402e-05, 1.972617428691592e-05, 8.007964788703248e-05, 0.00016381569730583578, 0.0002766104007605463, 0.00048299762420356274, 0.0005903014098294079, 0.001175061916001141, 0.0034667118452489376, 0.005802724976092577, 0.011907567270100117, 0.016952965408563614, 0.028466500341892242, 0.06137575954198837, 0.11517594009637833, 0.20177729427814484, 0.5509371757507324, 0.0, 0.0], [3.782525527640246e-05, 6.459638512978927e-08, 1.9273619145110388e-08, 7.975812366112223e-08, 6.700330459352699e-07, 1.2464347776131035e-07, 3.072170784435002e-08, 3.3671460641926387e-07, 9.953986790378622e-08, 4.54151972917316e-07, 3.406016446660942e-08, 1.7256121509490185e-07, 3.3590254133741837e-07, 3.2563309559918707e-07, 1.1636606345177825e-08, 3.2042096336226678e-06, 1.2533513427115395e-06, 1.766305558703607e-06, 1.1125961464131251e-05, 2.0410294382600114e-05, 8.103439540718682e-06, 1.288108524022391e-05, 0.0001419320615241304, 1.1411094419599976e-05, 0.00010671347263269126, 0.00010951134754577652, 0.0017927108565345407, 0.0015404963633045554, 0.0012465211329981685, 0.0015975888818502426, 0.0008927046437747777, 0.009557013399899006, 0.009279942139983177, 0.9736242294311523, 0.0], [0.0003539696044754237, 2.644032292664633e-06, 1.7576138588992762e-06, 1.234809019479144e-06, 5.949707883701194e-06, 1.3091880646243226e-06, 3.3621063266764395e-07, 2.4850552904354117e-07, 6.705458872602321e-07, 6.69953053034078e-08, 6.061916906219267e-07, 4.6190581315386225e-07, 2.3573272756038932e-06, 1.4622190747104469e-06, 2.976369444240845e-07, 1.600577434146544e-06, 2.460903942846926e-06, 1.9317201349622337e-06, 3.2001476938603446e-05, 2.4651970306877047e-05, 3.429640855756588e-05, 0.00016550840518902987, 7.883966463850811e-05, 0.00018387149611953646, 0.0011651525273919106, 0.00012255352339707315, 0.0011725190561264753, 0.0004984783008694649, 0.0035014813765883446, 0.003400745801627636, 0.011839515529572964, 0.005179085303097963, 0.01671386882662773, 0.029127661138772964, 0.9263803958892822]], [[1.0, 0.0, 0.0, 0.0, 0.0, 0.0, 0.0, 0.0, 0.0, 0.0, 0.0, 0.0, 0.0, 0.0, 0.0, 0.0, 0.0, 0.0, 0.0, 0.0, 0.0, 0.0, 0.0, 0.0, 0.0, 0.0, 0.0, 0.0, 0.0, 0.0, 0.0, 0.0, 0.0, 0.0, 0.0], [0.9238101243972778, 0.07618984580039978, 0.0, 0.0, 0.0, 0.0, 0.0, 0.0, 0.0, 0.0, 0.0, 0.0, 0.0, 0.0, 0.0, 0.0, 0.0, 0.0, 0.0, 0.0, 0.0, 0.0, 0.0, 0.0, 0.0, 0.0, 0.0, 0.0, 0.0, 0.0, 0.0, 0.0, 0.0, 0.0, 0.0], [0.3758925199508667, 0.10050594061613083, 0.5236015319824219, 0.0, 0.0, 0.0, 0.0, 0.0, 0.0, 0.0, 0.0, 0.0, 0.0, 0.0, 0.0, 0.0, 0.0, 0.0, 0.0, 0.0, 0.0, 0.0, 0.0, 0.0, 0.0, 0.0, 0.0, 0.0, 0.0, 0.0, 0.0, 0.0, 0.0, 0.0, 0.0], [0.41213738918304443, 0.08231588453054428, 0.18084760010242462, 0.32469916343688965, 0.0, 0.0, 0.0, 0.0, 0.0, 0.0, 0.0, 0.0, 0.0, 0.0, 0.0, 0.0, 0.0, 0.0, 0.0, 0.0, 0.0, 0.0, 0.0, 0.0, 0.0, 0.0, 0.0, 0.0, 0.0, 0.0, 0.0, 0.0, 0.0, 0.0, 0.0], [0.14052288234233856, 0.0058123148046433926, 0.028276395052671432, 0.05733037739992142, 0.7680580019950867, 0.0, 0.0, 0.0, 0.0, 0.0, 0.0, 0.0, 0.0, 0.0, 0.0, 0.0, 0.0, 0.0, 0.0, 0.0, 0.0, 0.0, 0.0, 0.0, 0.0, 0.0, 0.0, 0.0, 0.0, 0.0, 0.0, 0.0, 0.0, 0.0, 0.0], [0.019230712205171585, 0.0014746825909242034, 0.0016810818342491984, 0.004905841778963804, 0.025906596332788467, 0.9468011260032654, 0.0, 0.0, 0.0, 0.0, 0.0, 0.0, 0.0, 0.0, 0.0, 0.0, 0.0, 0.0, 0.0, 0.0, 0.0, 0.0, 0.0, 0.0, 0.0, 0.0, 0.0, 0.0, 0.0, 0.0, 0.0, 0.0, 0.0, 0.0, 0.0], [0.006040878128260374, 0.004658223129808903, 0.012865042313933372, 0.008953888900578022, 0.0702168196439743, 0.12025348842144012, 0.7770116925239563, 0.0, 0.0, 0.0, 0.0, 0.0, 0.0, 0.0, 0.0, 0.0, 0.0, 0.0, 0.0, 0.0, 0.0, 0.0, 0.0, 0.0, 0.0, 0.0, 0.0, 0.0, 0.0, 0.0, 0.0, 0.0, 0.0, 0.0, 0.0], [0.016248269006609917, 0.00392938032746315, 0.012836655601859093, 0.005099628120660782, 0.01735418103635311, 0.015599342063069344, 0.1360277384519577, 0.7929047346115112, 0.0, 0.0, 0.0, 0.0, 0.0, 0.0, 0.0, 0.0, 0.0, 0.0, 0.0, 0.0, 0.0, 0.0, 0.0, 0.0, 0.0, 0.0, 0.0, 0.0, 0.0, 0.0, 0.0, 0.0, 0.0, 0.0, 0.0], [0.13423283398151398, 0.07014795392751694, 0.03862923011183739, 0.03592688962817192, 0.05720482021570206, 0.06419359147548676, 0.03908979520201683, 0.2145734578371048, 0.34600138664245605, 0.0, 0.0, 0.0, 0.0, 0.0, 0.0, 0.0, 0.0, 0.0, 0.0, 0.0, 0.0, 0.0, 0.0, 0.0, 0.0, 0.0, 0.0, 0.0, 0.0, 0.0, 0.0, 0.0, 0.0, 0.0, 0.0], [0.003595878602936864, 0.00038495028275065124, 0.0004921666695736349, 0.0008088786853477359, 0.0025900956243276596, 0.0024076495319604874, 0.00017131850472651422, 0.011153006926178932, 0.0021147788502275944, 0.9762812852859497, 0.0, 0.0, 0.0, 0.0, 0.0, 0.0, 0.0, 0.0, 0.0, 0.0, 0.0, 0.0, 0.0, 0.0, 0.0, 0.0, 0.0, 0.0, 0.0, 0.0, 0.0, 0.0, 0.0, 0.0, 0.0], [0.0002283454086864367, 4.666256427299231e-05, 8.206469647120684e-05, 7.730673678452149e-05, 0.000120342563604936, 0.004319252446293831, 0.0038442264776676893, 0.0011965000303462148, 0.00016446947120130062, 0.8530563116073608, 0.13686445355415344, 0.0, 0.0, 0.0, 0.0, 0.0, 0.0, 0.0, 0.0, 0.0, 0.0, 0.0, 0.0, 0.0, 0.0, 0.0, 0.0, 0.0, 0.0, 0.0, 0.0, 0.0, 0.0, 0.0, 0.0], [0.06578908860683441, 0.019290778785943985, 0.020492717623710632, 0.021956784650683403, 0.026686668395996094, 0.08618336170911789, 0.031040918081998825, 0.16103027760982513, 0.030162543058395386, 0.2132367342710495, 0.0755448192358017, 0.2485853135585785, 0.0, 0.0, 0.0, 0.0, 0.0, 0.0, 0.0, 0.0, 0.0, 0.0, 0.0, 0.0, 0.0, 0.0, 0.0, 0.0, 0.0, 0.0, 0.0, 0.0, 0.0, 0.0, 0.0], [0.009123365394771099, 0.003399313660338521, 0.016818270087242126, 0.004648813046514988, 0.014602279290556908, 0.058332525193691254, 0.07909009605646133, 0.01766362600028515, 0.01608726754784584, 0.15053574740886688, 0.33433905243873596, 0.05438895896077156, 0.24097071588039398, 0.0, 0.0, 0.0, 0.0, 0.0, 0.0, 0.0, 0.0, 0.0, 0.0, 0.0, 0.0, 0.0, 0.0, 0.0, 0.0, 0.0, 0.0, 0.0, 0.0, 0.0, 0.0], [0.042534373700618744, 0.016550585627555847, 0.007813404314219952, 0.006833468098193407, 0.009650967083871365, 0.009173315949738026, 0.005910311825573444, 0.0300931166857481, 0.05324168875813484, 0.03575892746448517, 0.11968685686588287, 0.07133749127388, 0.29692214727401733, 0.29449334740638733, 0.0, 0.0, 0.0, 0.0, 0.0, 0.0, 0.0, 0.0, 0.0, 0.0, 0.0, 0.0, 0.0, 0.0, 0.0, 0.0, 0.0, 0.0, 0.0, 0.0, 0.0], [0.010158021003007889, 0.004377412144094706, 0.0065031819976866245, 0.003546682884916663, 0.006157045252621174, 0.0051498133689165115, 0.004158243536949158, 0.014994005672633648, 0.01772409863770008, 0.008609641343355179, 0.013557260856032372, 0.027689799666404724, 0.027776101604104042, 0.08518604934215546, 0.7644126415252686, 0.0, 0.0, 0.0, 0.0, 0.0, 0.0, 0.0, 0.0, 0.0, 0.0, 0.0, 0.0, 0.0, 0.0, 0.0, 0.0, 0.0, 0.0, 0.0, 0.0], [0.0005760933272540569, 3.7584850360872224e-05, 3.10057403112296e-05, 2.809088800859172e-05, 0.00011757218453567475, 0.0010626487201079726, 0.00084897835040465, 0.0023644277825951576, 0.00031711781048215926, 0.0005040704854764044, 0.0005438963999040425, 0.0009964650962501764, 0.004787198733538389, 0.0016582136740908027, 0.02118111029267311, 0.9649454951286316, 0.0, 0.0, 0.0, 0.0, 0.0, 0.0, 0.0, 0.0, 0.0, 0.0, 0.0, 0.0, 0.0, 0.0, 0.0, 0.0, 0.0, 0.0, 0.0], [0.05710108205676079, 0.012982724234461784, 0.01246335357427597, 0.012371204793453217, 0.013064752332866192, 0.03530247136950493, 0.013208805583417416, 0.06362836062908173, 0.010588890872895718, 0.061131980270147324, 0.027357200160622597, 0.08200794458389282, 0.03997459262609482, 0.04302835091948509, 0.06893420219421387, 0.0673389732837677, 0.3795151710510254, 0.0, 0.0, 0.0, 0.0, 0.0, 0.0, 0.0, 0.0, 0.0, 0.0, 0.0, 0.0, 0.0, 0.0, 0.0, 0.0, 0.0, 0.0], [0.05038187652826309, 0.010253239423036575, 0.009017400443553925, 0.007853329181671143, 0.00838209968060255, 0.01603054814040661, 0.007579760625958443, 0.016568146646022797, 0.009558070451021194, 0.02009841986000538, 0.028027687221765518, 0.03172840178012848, 0.021793970838189125, 0.03942330181598663, 0.11988722532987595, 0.04783086106181145, 0.14773684740066528, 0.4078488051891327, 0.0, 0.0, 0.0, 0.0, 0.0, 0.0, 0.0, 0.0, 0.0, 0.0, 0.0, 0.0, 0.0, 0.0, 0.0, 0.0, 0.0], [0.009583800099790096, 0.0005122205475345254, 0.0006106937653385103, 0.0009717887733131647, 0.0022611040621995926, 0.004041268955916166, 0.0003397607943043113, 0.0023014836478978395, 0.00146698288153857, 0.004360880237072706, 0.010039575397968292, 0.003883794415742159, 0.0019065372180193663, 0.004968367516994476, 0.003599887015298009, 0.0027956583071500063, 0.015628818422555923, 0.014497026801109314, 0.916230320930481, 0.0, 0.0, 0.0, 0.0, 0.0, 0.0, 0.0, 0.0, 0.0, 0.0, 0.0, 0.0, 0.0, 0.0, 0.0, 0.0], [0.03377578407526016, 0.0008472923072986305, 0.000936156720854342, 0.0006967566441744566, 0.004600140266120434, 0.0032575998920947313, 0.0004218367685098201, 0.007556704338639975, 0.0010570584563538432, 0.003643788630142808, 0.00017823856614995748, 0.0020456204656511545, 0.0014812102308496833, 0.00291804620064795, 0.005684815347194672, 0.06616660207509995, 0.0068207080475986, 0.00596610689535737, 0.022306187078356743, 0.8296393752098083, 0.0, 0.0, 0.0, 0.0, 0.0, 0.0, 0.0, 0.0, 0.0, 0.0, 0.0, 0.0, 0.0, 0.0, 0.0], [0.01433811616152525, 0.004506279714405537, 0.002293481957167387, 0.0045026326552033424, 0.0063485316932201385, 0.006440700497478247, 0.003075921442359686, 0.003429377218708396, 0.008825041353702545, 0.013563877902925014, 0.008806232362985611, 0.015333067625761032, 0.010930363088846207, 0.03256241977214813, 0.04165014252066612, 0.029358426108956337, 0.06823208928108215, 0.10101231932640076, 0.1282440721988678, 0.08141805976629257, 0.4151288866996765, 0.0, 0.0, 0.0, 0.0, 0.0, 0.0, 0.0, 0.0, 0.0, 0.0, 0.0, 0.0, 0.0, 0.0], [0.012516941875219345, 0.003707382595166564, 0.0011323608923703432, 0.002044016495347023, 0.002103799255564809, 0.000721756077837199, 0.0003587712999433279, 0.0010654572397470474, 0.00334186851978302, 0.0035347710363566875, 0.0018008308252319694, 0.005131386686116457, 0.005956845823675394, 0.01168146077543497, 0.023353148251771927, 0.02462638169527054, 0.023082593455910683, 0.024053940549492836, 0.04505404457449913, 0.04447479173541069, 0.09848441183567047, 0.6617729663848877, 0.0, 0.0, 0.0, 0.0, 0.0, 0.0, 0.0, 0.0, 0.0, 0.0, 0.0, 0.0, 0.0], [0.023378077894449234, 0.002970092697069049, 0.0022721642162650824, 0.0031212540343403816, 0.010448784567415714, 0.0027957134880125523, 0.0009500707965344191, 0.006640294101089239, 0.0025093043223023415, 0.006215896923094988, 0.0018756611971184611, 0.004366474226117134, 0.005894928704947233, 0.007904240861535072, 0.011842521838843822, 0.011780315078794956, 0.01693401299417019, 0.015606728382408619, 0.036991920322179794, 0.05676271766424179, 0.038851819932460785, 0.3010689318180084, 0.4288181662559509, 0.0, 0.0, 0.0, 0.0, 0.0, 0.0, 0.0, 0.0, 0.0, 0.0, 0.0, 0.0], [0.042250845581293106, 0.009647663682699203, 0.01306966133415699, 0.003493925789371133, 0.008718249388039112, 0.0008717640885151923, 0.0021130701061338186, 0.002520153997465968, 0.002825929084792733, 0.0030562574975192547, 0.005475996527820826, 0.004467588849365711, 0.005966207943856716, 0.008145660161972046, 0.027670908719301224, 0.013382636941969395, 0.01818913221359253, 0.032780248671770096, 0.028848374262452126, 0.059959497302770615, 0.09605947881937027, 0.20931926369667053, 0.10138262063264847, 0.2997848689556122, 0.0, 0.0, 0.0, 0.0, 0.0, 0.0, 0.0, 0.0, 0.0, 0.0, 0.0], [0.02581801824271679, 0.0012453024974092841, 0.0012367714662104845, 0.0031558237969875336, 0.002605457091704011, 0.0011178319109603763, 0.0002305324305780232, 0.0010614542989060283, 0.0012552981497719884, 0.001447018119506538, 0.0006083030020818114, 0.0021444326266646385, 0.0017222752794623375, 0.003063676180317998, 0.002130713313817978, 0.001739516039378941, 0.0074895648285746574, 0.004201175179332495, 0.016367284581065178, 0.01718752644956112, 0.01664702594280243, 0.06787317246198654, 0.0754612535238266, 0.04369649663567543, 0.700494110584259, 0.0, 0.0, 0.0, 0.0, 0.0, 0.0, 0.0, 0.0, 0.0, 0.0], [0.0075083100236952305, 0.000129139210912399, 0.00022904042270965874, 0.0003099401656072587, 0.0015875755343586206, 0.00015740802336949855, 0.00036546686897054315, 0.00026319510652683675, 0.000246187555603683, 0.0049638450145721436, 0.0008493296336382627, 0.00020542528363876045, 0.0035996590740978718, 0.0006757518276572227, 0.0006743194535374641, 0.002866035094484687, 0.0007401988259516656, 0.0012410664930939674, 0.0034339390695095062, 0.003348803613334894, 0.005896297283470631, 0.01531524769961834, 0.01358444057404995, 0.003806075546890497, 0.10587522387504578, 0.8221280574798584, 0.0, 0.0, 0.0, 0.0, 0.0, 0.0, 0.0, 0.0, 0.0], [0.0151468301191926, 0.0002837271895259619, 0.0004323893808759749, 0.0012392138596624136, 0.0026600719429552555, 0.0003459543804638088, 0.000295427133096382, 0.001877208356745541, 0.00023691265960223973, 0.00013219252286944538, 0.00033548110513947904, 0.00022997907944954932, 0.00027149065863341093, 0.000420953962020576, 0.0008192590321414173, 0.0003039469593204558, 0.000646936590783298, 0.0003804268199019134, 0.002392594935372472, 0.002976801944896579, 0.0025756140239536762, 0.005941803101450205, 0.005901211407035589, 0.0052087814547121525, 0.025423716753721237, 0.023241259157657623, 0.900279700756073, 0.0, 0.0, 0.0, 0.0, 0.0, 0.0, 0.0, 0.0], [0.020882192999124527, 0.0006866256007924676, 0.0014190328074619174, 0.001624722732231021, 0.00546672847121954, 0.001993071986362338, 0.0003444562025833875, 0.0014866309938952327, 0.000386028055800125, 0.0002986802428495139, 0.0003715487546287477, 0.0005332498694770038, 0.00025670829927548766, 0.0006083339685574174, 0.000378625700250268, 0.0013748229248449206, 0.001378134824335575, 0.0009236658224835992, 0.023375004529953003, 0.03773235157132149, 0.004063986707478762, 0.02184663712978363, 0.018512388691306114, 0.0050471993163228035, 0.018440276384353638, 0.06399492919445038, 0.3300280272960663, 0.4365459382534027, 0.0, 0.0, 0.0, 0.0, 0.0, 0.0, 0.0], [0.0027297884225845337, 0.00011315730807837099, 0.00025743202422745526, 0.0003065296041313559, 0.0008012374164536595, 0.0008870946476235986, 0.00010111580195371062, 0.002048569731414318, 0.00014291210391093045, 0.00019898040045518428, 0.0004309822106733918, 7.435751467710361e-05, 0.00011077821545768529, 0.00022297576651908457, 0.00010400122118880972, 0.0007566185086034238, 0.00018428813200443983, 0.00031020987080410123, 0.0010590283200144768, 0.00539438845589757, 0.0013711393112316728, 0.001723822089843452, 0.003438348649069667, 0.0007791534881107509, 0.0027107957284897566, 0.011246608570218086, 0.26186177134513855, 0.04286464303731918, 0.6577692627906799, 0.0, 0.0, 0.0, 0.0, 0.0, 0.0], [0.007169214077293873, 0.0026512276381254196, 0.00244502373971045, 0.0030232490971684456, 0.002686189953237772, 0.0007135477499105036, 0.0005127675831317902, 0.0003864858881570399, 0.0009532010881230235, 0.00044078408973291516, 0.0008591750520281494, 0.0012491049710661173, 0.0009424770250916481, 0.0016617259243503213, 0.00044353213161230087, 0.0014648409560322762, 0.0035774612333625555, 0.003767340211197734, 0.01212292443960905, 0.006853910628706217, 0.005249570589512587, 0.01970423199236393, 0.026669219136238098, 0.04096018895506859, 0.2385396510362625, 0.05725708603858948, 0.04040537774562836, 0.10933990031480789, 0.07736305892467499, 0.3305874764919281, 0.0, 0.0, 0.0, 0.0, 0.0], [0.011626660823822021, 0.0019658165983855724, 0.000917952333111316, 0.0018197431927546859, 0.0020789781119674444, 0.000293571240035817, 0.00010028555698227137, 0.0005799980135634542, 0.00048541201977059245, 9.764821152202785e-05, 0.00015712762251496315, 0.0004106421547476202, 0.00048777752090245485, 0.0007517859921790659, 0.0007532838499173522, 0.001224212464876473, 0.0010826849611476064, 0.0014821889344602823, 0.0027742490638047457, 0.003610332030802965, 0.0021372423507273197, 0.0093614486977458, 0.014277659356594086, 0.011846713721752167, 0.04729336500167847, 0.0450628288090229, 0.041560690850019455, 0.042807888239622116, 0.07079774886369705, 0.10084826499223709, 0.5813058018684387, 0.0, 0.0, 0.0, 0.0], [0.00387343461625278, 0.0002557098341640085, 0.0006259256624616683, 0.0005843961262144148, 0.0012326478026807308, 0.000394560513086617, 0.0003326679579913616, 0.00015581950719933957, 0.000164727185619995, 0.0007726291660219431, 0.0003866982879117131, 0.00027824463904835284, 0.00015239730419125408, 0.00025198535877279937, 6.452938396250829e-05, 0.00017264150665141642, 0.0007133578765206039, 0.0005384790129028261, 0.007539564277976751, 0.006723247934132814, 0.0013963925885036588, 0.0031103549990803003, 0.005501290317624807, 0.0024135878775268793, 0.038960568606853485, 0.023422345519065857, 0.009641135111451149, 0.02575089782476425, 0.12702485918998718, 0.04005928337574005, 0.5142087936401367, 0.18329684436321259, 0.0, 0.0, 0.0], [0.0151511300355196, 0.0013760683359578252, 0.0015560513129457831, 0.0021717101335525513, 0.0025110088754445314, 0.001785495551303029, 0.000470086932182312, 0.0006788121536374092, 0.0003899071889463812, 0.000990036642178893, 0.00038026581751182675, 0.00041825012885965407, 0.00044352910481393337, 0.0005140135763213038, 0.00016592236352153122, 0.0006932562682777643, 0.0009629509877413511, 0.0007656950620003045, 0.0043652234598994255, 0.006436270661652088, 0.0018688265699893236, 0.008356154896318913, 0.006384760141372681, 0.005890708416700363, 0.031187035143375397, 0.041009463369846344, 0.028566090390086174, 0.0415773019194603, 0.04076458141207695, 0.06712852418422699, 0.30426719784736633, 0.21618817746639252, 0.16458551585674286, 0.0, 0.0], [0.01735411398112774, 0.0005264725768938661, 0.0006208937847986817, 0.0016926322132349014, 0.006297260522842407, 0.0010202121920883656, 7.362555334111676e-05, 0.000676227908115834, 0.00044483100646175444, 7.778879080433398e-05, 4.9738027882995084e-05, 0.0003035978879779577, 0.0001734182587824762, 0.000516243395395577, 0.0002735278685577214, 0.0007443999638780951, 0.0006022219895385206, 0.00045444973511621356, 0.0026653388049453497, 0.002663874998688698, 0.0025515949819236994, 0.007818800397217274, 0.009490981698036194, 0.0009830404305830598, 0.007624233141541481, 0.011552363634109497, 0.09579719603061676, 0.08069905638694763, 0.09889813512563705, 0.03799614682793617, 0.05835618078708649, 0.11718900501728058, 0.11656814068555832, 0.31724420189857483, 0.0], [0.01079633180052042, 0.0030184625647962093, 0.0017010788433253765, 0.0027613972779363394, 0.0055464464239776134, 0.0005509485490620136, 0.00022208339942153543, 0.00023305878858081996, 0.00085550791118294, 8.429391164099798e-05, 0.00013491032586898655, 0.00040303412242792547, 0.00021568563533946872, 0.0009122323826886714, 0.0007261993596330285, 0.0003818846889771521, 0.0007406801450997591, 0.0007301228470169008, 0.0007852280978113413, 0.0013473372673615813, 0.004313784651458263, 0.007729165256023407, 0.00542280962690711, 0.006747077684849501, 0.013981970958411694, 0.004630993120372295, 0.01939181238412857, 0.0281336959451437, 0.016861923038959503, 0.07724330574274063, 0.0543515607714653, 0.13139016926288605, 0.15014059841632843, 0.0843437984585762, 0.363170325756073]], [[1.0, 0.0, 0.0, 0.0, 0.0, 0.0, 0.0, 0.0, 0.0, 0.0, 0.0, 0.0, 0.0, 0.0, 0.0, 0.0, 0.0, 0.0, 0.0, 0.0, 0.0, 0.0, 0.0, 0.0, 0.0, 0.0, 0.0, 0.0, 0.0, 0.0, 0.0, 0.0, 0.0, 0.0, 0.0], [0.19326065480709076, 0.806739330291748, 0.0, 0.0, 0.0, 0.0, 0.0, 0.0, 0.0, 0.0, 0.0, 0.0, 0.0, 0.0, 0.0, 0.0, 0.0, 0.0, 0.0, 0.0, 0.0, 0.0, 0.0, 0.0, 0.0, 0.0, 0.0, 0.0, 0.0, 0.0, 0.0, 0.0, 0.0, 0.0, 0.0], [0.09132367372512817, 0.0022218823432922363, 0.9064545035362244, 0.0, 0.0, 0.0, 0.0, 0.0, 0.0, 0.0, 0.0, 0.0, 0.0, 0.0, 0.0, 0.0, 0.0, 0.0, 0.0, 0.0, 0.0, 0.0, 0.0, 0.0, 0.0, 0.0, 0.0, 0.0, 0.0, 0.0, 0.0, 0.0, 0.0, 0.0, 0.0], [0.07127519696950912, 0.010394589975476265, 0.014608730562031269, 0.9037214517593384, 0.0, 0.0, 0.0, 0.0, 0.0, 0.0, 0.0, 0.0, 0.0, 0.0, 0.0, 0.0, 0.0, 0.0, 0.0, 0.0, 0.0, 0.0, 0.0, 0.0, 0.0, 0.0, 0.0, 0.0, 0.0, 0.0, 0.0, 0.0, 0.0, 0.0, 0.0], [0.007525154855102301, 8.942753629526123e-05, 7.544124673586339e-05, 3.4135737223550677e-06, 0.9923065304756165, 0.0, 0.0, 0.0, 0.0, 0.0, 0.0, 0.0, 0.0, 0.0, 0.0, 0.0, 0.0, 0.0, 0.0, 0.0, 0.0, 0.0, 0.0, 0.0, 0.0, 0.0, 0.0, 0.0, 0.0, 0.0, 0.0, 0.0, 0.0, 0.0, 0.0], [0.004521047696471214, 4.280504981579725e-06, 9.230407158611342e-05, 2.36362775467569e-05, 1.1194412763870787e-05, 0.9953475594520569, 0.0, 0.0, 0.0, 0.0, 0.0, 0.0, 0.0, 0.0, 0.0, 0.0, 0.0, 0.0, 0.0, 0.0, 0.0, 0.0, 0.0, 0.0, 0.0, 0.0, 0.0, 0.0, 0.0, 0.0, 0.0, 0.0, 0.0, 0.0, 0.0], [0.007938134483993053, 0.00010465254308655858, 4.188243838143535e-05, 8.37628795125056e-06, 0.00021111383102834225, 3.129787273792317e-06, 0.9916926622390747, 0.0, 0.0, 0.0, 0.0, 0.0, 0.0, 0.0, 0.0, 0.0, 0.0, 0.0, 0.0, 0.0, 0.0, 0.0, 0.0, 0.0, 0.0, 0.0, 0.0, 0.0, 0.0, 0.0, 0.0, 0.0, 0.0, 0.0, 0.0], [0.002452853135764599, 1.0800506970554125e-05, 1.5410754713229835e-05, 2.252152597748136e-07, 3.925124474335462e-05, 5.133615104568889e-06, 2.380052137596067e-05, 0.9974525570869446, 0.0, 0.0, 0.0, 0.0, 0.0, 0.0, 0.0, 0.0, 0.0, 0.0, 0.0, 0.0, 0.0, 0.0, 0.0, 0.0, 0.0, 0.0, 0.0, 0.0, 0.0, 0.0, 0.0, 0.0, 0.0, 0.0, 0.0], [0.1994483917951584, 0.17831815779209137, 0.06548022478818893, 0.13276457786560059, 0.038584496825933456, 0.010353412479162216, 0.021433597430586815, 0.006723289843648672, 0.34689387679100037, 0.0, 0.0, 0.0, 0.0, 0.0, 0.0, 0.0, 0.0, 0.0, 0.0, 0.0, 0.0, 0.0, 0.0, 0.0, 0.0, 0.0, 0.0, 0.0, 0.0, 0.0, 0.0, 0.0, 0.0, 0.0, 0.0], [0.0014458460500463843, 8.054711315708118e-07, 3.064588599954732e-05, 7.412928084704618e-07, 2.0274044345569564e-06, 1.1259045095357578e-05, 1.8223414599560783e-06, 8.012932812562212e-05, 1.056965501788909e-07, 0.9984266757965088, 0.0, 0.0, 0.0, 0.0, 0.0, 0.0, 0.0, 0.0, 0.0, 0.0, 0.0, 0.0, 0.0, 0.0, 0.0, 0.0, 0.0, 0.0, 0.0, 0.0, 0.0, 0.0, 0.0, 0.0, 0.0], [0.0023380196653306484, 1.2498677278927062e-05, 2.2450103642768227e-05, 4.236500444676494e-06, 2.95203193445559e-07, 1.8947034732264e-06, 7.769859075779095e-05, 8.969064765551593e-06, 4.6951914356441193e-08, 1.1347667623340385e-06, 0.9975327253341675, 0.0, 0.0, 0.0, 0.0, 0.0, 0.0, 0.0, 0.0, 0.0, 0.0, 0.0, 0.0, 0.0, 0.0, 0.0, 0.0, 0.0, 0.0, 0.0, 0.0, 0.0, 0.0, 0.0, 0.0], [0.04751453548669815, 0.052682626992464066, 0.020408127456903458, 0.058530084788799286, 0.007166560739278793, 0.008201420307159424, 0.01184640172868967, 0.0017474391497671604, 0.02496332861483097, 0.0026972531341016293, 0.0014261910691857338, 0.7628160715103149, 0.0, 0.0, 0.0, 0.0, 0.0, 0.0, 0.0, 0.0, 0.0, 0.0, 0.0, 0.0, 0.0, 0.0, 0.0, 0.0, 0.0, 0.0, 0.0, 0.0, 0.0, 0.0, 0.0], [0.006070819217711687, 0.00012957947910763323, 5.9433634305605665e-05, 5.659351245412836e-06, 0.00026153295766562223, 0.00012241856893524528, 1.0399356142443139e-05, 1.1076404007326346e-05, 4.060484855017421e-07, 0.0003600470663513988, 2.011543074331712e-05, 1.3643935403706564e-07, 0.9929484128952026, 0.0, 0.0, 0.0, 0.0, 0.0, 0.0, 0.0, 0.0, 0.0, 0.0, 0.0, 0.0, 0.0, 0.0, 0.0, 0.0, 0.0, 0.0, 0.0, 0.0, 0.0, 0.0], [0.09530571103096008, 0.14180326461791992, 0.05038181692361832, 0.10299669206142426, 0.029812078922986984, 0.006589414086192846, 0.016824400052428246, 0.004481854848563671, 0.2310646027326584, 0.019435426220297813, 0.010874398052692413, 0.0554320253431797, 0.03543870523571968, 0.19955967366695404, 0.0, 0.0, 0.0, 0.0, 0.0, 0.0, 0.0, 0.0, 0.0, 0.0, 0.0, 0.0, 0.0, 0.0, 0.0, 0.0, 0.0, 0.0, 0.0, 0.0, 0.0], [0.027447791770100594, 0.00014065360301174223, 0.00019846652867272496, 3.496767021715641e-05, 5.282149231788935e-06, 0.00015024220920167863, 8.12835933174938e-05, 1.2125149623898324e-05, 6.30389477009885e-05, 6.543221388710663e-05, 2.8324880076979753e-06, 3.890727020916529e-05, 5.673637133440934e-07, 4.210483530187048e-05, 0.9717162847518921, 0.0, 0.0, 0.0, 0.0, 0.0, 0.0, 0.0, 0.0, 0.0, 0.0, 0.0, 0.0, 0.0, 0.0, 0.0, 0.0, 0.0, 0.0, 0.0, 0.0], [0.004212121479213238, 3.0696890462422743e-05, 6.369442417053506e-05, 8.254556860265438e-07, 8.262148867288488e-07, 3.86834581149742e-05, 4.268815246177837e-06, 3.819413905148394e-06, 1.262802555856979e-07, 0.00013782763562630862, 1.780611273716204e-05, 1.7100200366826357e-08, 5.979883553663967e-06, 6.190309420617268e-08, 2.2941594579606317e-06, 0.9954808950424194, 0.0, 0.0, 0.0, 0.0, 0.0, 0.0, 0.0, 0.0, 0.0, 0.0, 0.0, 0.0, 0.0, 0.0, 0.0, 0.0, 0.0, 0.0, 0.0], [0.019846778362989426, 0.031683456152677536, 0.012553283013403416, 0.035718828439712524, 0.004399016499519348, 0.004350572358816862, 0.0074273706413805485, 0.0009372887434437871, 0.012662886641919613, 0.0016050541307777166, 0.000731996085960418, 0.4563409090042114, 0.002010870026424527, 0.009759282693266869, 0.008237505331635475, 0.00025941256899386644, 0.3914756178855896, 0.0, 0.0, 0.0, 0.0, 0.0, 0.0, 0.0, 0.0, 0.0, 0.0, 0.0, 0.0, 0.0, 0.0, 0.0, 0.0, 0.0, 0.0], [0.02729719690978527, 0.0024357084184885025, 0.0002706822706386447, 7.525577530032024e-05, 1.3686860256711952e-05, 5.773238626716193e-06, 0.0004301848530303687, 1.443816927348962e-05, 4.835145955439657e-05, 5.326117025106214e-05, 9.613318070478272e-06, 6.846700853202492e-05, 0.0003037679416593164, 2.8783944799215533e-05, 3.86640167562291e-05, 2.5926843591150828e-05, 4.6800509153399616e-05, 0.9688335061073303, 0.0, 0.0, 0.0, 0.0, 0.0, 0.0, 0.0, 0.0, 0.0, 0.0, 0.0, 0.0, 0.0, 0.0, 0.0, 0.0, 0.0], [0.006310693453997374, 3.2946885767159984e-05, 9.895686162053607e-06, 7.334576821449446e-07, 9.119841706706211e-05, 4.094929317943752e-05, 8.511712621839251e-06, 9.95071095530875e-05, 1.9264814454800216e-07, 8.829226771922549e-07, 1.8906105196947465e-06, 1.1808706403826363e-06, 3.1165191103355028e-06, 9.47476834767258e-08, 3.301757942608674e-06, 2.585522634035442e-05, 7.711299758739187e-07, 2.670865796972066e-06, 0.993365466594696, 0.0, 0.0, 0.0, 0.0, 0.0, 0.0, 0.0, 0.0, 0.0, 0.0, 0.0, 0.0, 0.0, 0.0, 0.0, 0.0], [0.0011340542696416378, 6.9619300120393746e-06, 1.2364388567220885e-05, 4.0065546613732295e-07, 5.351815343601629e-05, 5.240096470515709e-06, 4.4595097278943285e-05, 0.00016450797556899488, 1.4344506915620059e-08, 1.038803020492196e-06, 4.77888788736891e-05, 5.0586844935196495e-08, 9.468218991059985e-07, 7.475676966350875e-09, 6.603933684345975e-07, 3.843119429802755e-06, 3.346431753925572e-08, 2.41197824379924e-07, 1.6647783922962844e-05, 0.9985072016716003, 0.0, 0.0, 0.0, 0.0, 0.0, 0.0, 0.0, 0.0, 0.0, 0.0, 0.0, 0.0, 0.0, 0.0, 0.0], [0.08800847083330154, 0.1892128884792328, 0.04556255787611008, 0.08163288980722427, 0.017358075827360153, 0.004830402322113514, 0.018958786502480507, 0.004620133899152279, 0.06910263001918793, 0.012970473617315292, 0.010343027301132679, 0.05366412550210953, 0.009830270893871784, 0.05797470360994339, 0.011936409398913383, 0.00944663118571043, 0.046623390167951584, 0.07882606238126755, 0.010427412576973438, 0.0020946741569787264, 0.17657595872879028, 0.0, 0.0, 0.0, 0.0, 0.0, 0.0, 0.0, 0.0, 0.0, 0.0, 0.0, 0.0, 0.0, 0.0], [0.015971150249242783, 0.0030620144680142403, 0.00014189504145178944, 0.0007885739323683083, 4.299372449168004e-05, 4.13119669246953e-05, 6.306867726380005e-05, 3.5465118344291113e-06, 2.173125722038094e-05, 1.786093707778491e-05, 1.0213988389295992e-05, 2.659637902979739e-05, 3.785551598411985e-05, 1.3186858268454671e-05, 0.0001881764328572899, 4.9638774726190604e-06, 1.8085096598952077e-05, 4.864018046646379e-05, 4.463590812520124e-06, 2.4802479856589343e-06, 1.217890439875191e-05, 0.9794788956642151, 0.0, 0.0, 0.0, 0.0, 0.0, 0.0, 0.0, 0.0, 0.0, 0.0, 0.0, 0.0, 0.0], [0.007472236640751362, 0.0003719074302352965, 7.639086834387854e-05, 1.1135924978589173e-05, 3.0148716177791357e-05, 1.1014429219358135e-05, 5.4528740292880684e-05, 2.2444422938860953e-05, 1.1283858839306049e-05, 2.8587872293428518e-05, 5.627744940284174e-06, 7.513614400522783e-05, 7.73429565015249e-05, 6.529718575620791e-06, 8.796916517894715e-06, 8.651502866996452e-06, 5.0727925554383546e-05, 7.0408632382168435e-06, 3.187641777913086e-05, 1.4034882269697846e-06, 7.003594873822294e-06, 7.040087803034112e-05, 0.9915598034858704, 0.0, 0.0, 0.0, 0.0, 0.0, 0.0, 0.0, 0.0, 0.0, 0.0, 0.0, 0.0], [0.0220454353839159, 0.280494749546051, 0.01667478121817112, 0.00015087139036040753, 0.0006804480799473822, 2.7394167773309164e-05, 0.0008938339306041598, 1.2499216609285213e-05, 0.00026655333931557834, 5.584171503869584e-06, 5.109106859890744e-05, 9.500441956333816e-05, 1.8194823496742174e-05, 0.00018282842938788235, 0.0016493619186803699, 2.7935213438468054e-05, 6.991924601607025e-05, 7.677573739783838e-05, 2.088616747641936e-05, 4.512571194936754e-06, 0.00014541407290380448, 0.00044705081381835043, 5.514786971616559e-05, 0.6759037375450134, 0.0, 0.0, 0.0, 0.0, 0.0, 0.0, 0.0, 0.0, 0.0, 0.0, 0.0], [0.018799448385834694, 0.0019184600096195936, 0.0010523868259042501, 7.228145841509104e-05, 0.000137966126203537, 5.208816219237633e-05, 6.33438176009804e-05, 9.731957106851041e-06, 8.120811253320426e-05, 5.998387496219948e-05, 9.635974492994137e-06, 4.8187135689659044e-05, 4.688356784754433e-05, 5.250570393400267e-05, 0.00044942068052478135, 0.000289329414954409, 3.537202792358585e-05, 0.00022377951245289296, 0.00020209007197991014, 3.112006879746332e-06, 3.5228513297624886e-05, 9.855003008851781e-05, 0.0001810147223295644, 0.00012300792150199413, 0.9759548306465149, 0.0, 0.0, 0.0, 0.0, 0.0, 0.0, 0.0, 0.0, 0.0, 0.0], [0.001658979686908424, 6.632489657931728e-06, 3.9323513192357495e-05, 5.512151346920291e-06, 7.328293577302247e-05, 5.176204354029323e-07, 8.362695371033624e-05, 1.611545121704694e-05, 1.8408003654712957e-07, 0.00020032636530231684, 1.8497515839044354e-06, 7.683050995410667e-08, 1.8051083316095173e-05, 9.259771616143553e-08, 6.612191100430209e-06, 1.962790065590525e-06, 5.004856973300775e-08, 6.371137573069063e-08, 4.881658810518275e-07, 3.839158125629183e-06, 1.8601532758566464e-08, 1.6708705743440078e-06, 8.816633112473937e-07, 6.67335555704085e-08, 1.878519810816215e-07, 0.9978796243667603, 0.0, 0.0, 0.0, 0.0, 0.0, 0.0, 0.0, 0.0, 0.0], [0.005040666088461876, 0.00039155586273409426, 0.000561871042009443, 0.00014523050049319863, 3.937192013836466e-05, 5.409960067481734e-05, 0.000284795300103724, 4.828744931728579e-05, 3.104319375779596e-06, 6.896268314449117e-05, 0.0002681414771359414, 4.210932729620254e-06, 1.2119896382500883e-05, 2.0253992261132225e-06, 3.188779373886064e-05, 1.1356525646988302e-05, 3.018800271092914e-06, 1.2622905160242226e-05, 7.465584076271625e-06, 3.027807906619273e-06, 4.951120331497805e-07, 3.01545860565966e-05, 1.886378049675841e-05, 4.1512503230478615e-06, 5.0313265091972426e-06, 6.0690836107824e-06, 0.9929414987564087, 0.0, 0.0, 0.0, 0.0, 0.0, 0.0, 0.0, 0.0], [0.0012448678025975823, 0.00017617041885387152, 2.4151753677870147e-05, 1.2456692275009118e-05, 5.211313327890821e-05, 2.3546064767288044e-05, 5.673451960319653e-05, 0.000458277587313205, 2.498388084859471e-06, 0.00011349430133122951, 4.9202564696315676e-05, 1.3444564501696732e-05, 7.735941471764818e-05, 1.3437108918878948e-06, 6.060910891392268e-06, 0.00010331792873330414, 8.74549186846707e-06, 1.0811584616021719e-05, 0.00015856404206715524, 1.9056084283874952e-06, 5.418800128609291e-07, 1.2321393114689272e-06, 6.472238601418212e-05, 3.5890639082936104e-06, 8.650918061903212e-06, 2.9628040465468075e-06, 1.3278973710839637e-05, 0.9973099231719971, 0.0, 0.0, 0.0, 0.0, 0.0, 0.0, 0.0], [0.0019733335357159376, 0.0009750564931891859, 7.218508108053356e-05, 9.848405898083001e-05, 4.9608581321081147e-05, 5.434047125163488e-05, 0.0003797202662099153, 6.184627181937685e-06, 1.0831149666046258e-06, 4.491211257118266e-06, 0.0004798350273631513, 9.928648978529964e-07, 1.3564559594669845e-05, 6.477185365838523e-07, 1.0186113286181353e-05, 5.581327059189789e-06, 7.11347752258007e-07, 5.998071515023184e-07, 3.201087793058832e-06, 2.288283894813503e-06, 1.5130828501241922e-07, 7.130760423024185e-06, 1.79379571818572e-06, 2.402572863502428e-05, 2.8331155021987797e-07, 1.226912900165189e-05, 0.00023325464280787855, 0.00031319609843194485, 0.9952758550643921, 0.0, 0.0, 0.0, 0.0, 0.0, 0.0], [0.030099282041192055, 0.09027376770973206, 0.02814972773194313, 0.15763874351978302, 0.026473553851246834, 0.003006007056683302, 0.0172195415943861, 0.002244669711217284, 0.031200455501675606, 0.011351724155247211, 0.0013561324449256063, 0.029119187965989113, 0.0167735293507576, 0.023998098447918892, 0.009450534358620644, 0.006288202479481697, 0.02392304502427578, 0.058296240866184235, 0.009904230944812298, 0.0003779732505790889, 0.024595139548182487, 0.04042006656527519, 0.02788674831390381, 0.009823569096624851, 0.049947112798690796, 0.0010651148622855544, 0.014632527716457844, 0.011246385052800179, 0.0020601546857506037, 0.24117852747440338, 0.0, 0.0, 0.0, 0.0, 0.0], [0.004169422667473555, 0.000614328368101269, 0.0005938458489254117, 0.00011036222713300958, 9.005510219139978e-05, 1.3705171113542747e-05, 0.000590349140111357, 2.689233269848046e-06, 8.671501745993737e-06, 4.611639087670483e-05, 1.0056795872515067e-05, 5.362908268580213e-06, 5.199845691095106e-05, 4.802413968718611e-06, 2.119524469890166e-05, 2.478504757164046e-05, 3.4400377444399055e-06, 1.841083212639205e-05, 7.055151218082756e-05, 5.603974955192825e-07, 5.060179319116287e-06, 2.2592150344280526e-05, 6.252543971640989e-05, 1.8619348338688724e-05, 0.00014118559192866087, 2.633108670124784e-05, 1.261044644706999e-06, 1.0759871429399936e-06, 3.0931974492887093e-07, 5.793049240310211e-06, 0.9932644367218018, 0.0, 0.0, 0.0, 0.0], [0.01056664064526558, 0.0013905876548960805, 0.00043136277236044407, 0.0010295914253219962, 0.003916391171514988, 0.00015029506175778806, 0.001993597950786352, 0.00030443709692917764, 2.984503771585878e-05, 0.0006592920981347561, 1.2659824278671294e-05, 7.527495472459123e-05, 0.00039767660200595856, 1.727650669636205e-05, 0.0003858345444314182, 2.1061883671791293e-05, 5.3403040510602295e-05, 6.335022044368088e-05, 0.00012688428978435695, 6.783195658499608e-06, 2.7170535759069026e-05, 0.00013008950918447226, 3.859859862131998e-05, 4.366641951492056e-05, 8.064075700531248e-06, 0.0007468656403943896, 8.195231202989817e-06, 9.368601604364812e-05, 6.252453658817103e-06, 4.4472410081652924e-05, 0.00020698629668913782, 0.9770136475563049, 0.0, 0.0, 0.0], [0.017131473869085312, 0.10981202870607376, 0.045284971594810486, 0.16663998365402222, 0.04683491215109825, 0.012714337557554245, 0.024941833689808846, 0.0024605055805295706, 0.016514170914888382, 0.014018181711435318, 0.0028046509250998497, 0.01726129837334156, 0.056191351264715195, 0.011843174695968628, 0.024518394842743874, 0.008004872128367424, 0.01358298771083355, 0.02769653871655464, 0.007881488651037216, 0.0013759636785835028, 0.009033634327352047, 0.03747999668121338, 0.01436882745474577, 0.016579674556851387, 0.03148624673485756, 0.0022351096849888563, 0.007032560184597969, 0.020338797941803932, 0.0021573661360889673, 0.01573573425412178, 0.035292547196149826, 0.01779499091207981, 0.16295139491558075, 0.0, 0.0], [0.0027362387627363205, 0.0032704449258744717, 0.0002493853971827775, 2.9521164833568037e-05, 0.0027190805412828922, 1.568083098391071e-05, 0.0011440077796578407, 3.5285604099044576e-05, 1.9352108211023733e-05, 3.620967618189752e-05, 1.2202230209368281e-05, 0.00012145661457907408, 4.955609256285243e-05, 1.1851510862470604e-05, 8.826639532344416e-05, 3.184519300702959e-05, 8.618924039183185e-05, 0.0001305781042901799, 9.26754655665718e-05, 1.844452526711393e-05, 4.454887402971508e-06, 1.4211049347068183e-05, 0.0002081982820527628, 6.224944809218869e-05, 2.7290012440062128e-05, 8.52709672471974e-06, 0.0010931710712611675, 0.0010259002447128296, 1.8266448023496196e-05, 9.816331839829218e-06, 7.599973059768672e-07, 4.151817847741768e-06, 8.365900612261612e-06, 0.9866164922714233, 0.0], [0.013301754370331764, 0.0020241783931851387, 0.0009810642804950476, 0.00027103954926133156, 0.026242561638355255, 6.968410161789507e-05, 0.00018824632570613176, 0.0003323276177980006, 0.0002071750641334802, 0.0003558360622264445, 1.8688786440179683e-05, 0.0003101633337792009, 0.00028844253392890096, 0.00014157569967210293, 0.00021018930419813842, 0.0001373012928524986, 0.0002454254135955125, 0.0005858635413460433, 0.0008409079746343195, 0.0003789844340644777, 0.00011255504796281457, 0.0009485278860665858, 0.00025817210553213954, 0.0005371629376895726, 0.00023706436331849545, 9.896167466649786e-05, 1.4541826203640085e-05, 7.514368189731613e-05, 1.0142443898075726e-05, 7.690770144108683e-05, 6.643282540608197e-05, 5.4460051615023986e-05, 0.0001078200075426139, 0.002189122373238206, 0.9480817317962646]], [[1.0, 0.0, 0.0, 0.0, 0.0, 0.0, 0.0, 0.0, 0.0, 0.0, 0.0, 0.0, 0.0, 0.0, 0.0, 0.0, 0.0, 0.0, 0.0, 0.0, 0.0, 0.0, 0.0, 0.0, 0.0, 0.0, 0.0, 0.0, 0.0, 0.0, 0.0, 0.0, 0.0, 0.0, 0.0], [0.9360752105712891, 0.06392484903335571, 0.0, 0.0, 0.0, 0.0, 0.0, 0.0, 0.0, 0.0, 0.0, 0.0, 0.0, 0.0, 0.0, 0.0, 0.0, 0.0, 0.0, 0.0, 0.0, 0.0, 0.0, 0.0, 0.0, 0.0, 0.0, 0.0, 0.0, 0.0, 0.0, 0.0, 0.0, 0.0, 0.0], [0.8446658253669739, 0.06946853548288345, 0.0858655795454979, 0.0, 0.0, 0.0, 0.0, 0.0, 0.0, 0.0, 0.0, 0.0, 0.0, 0.0, 0.0, 0.0, 0.0, 0.0, 0.0, 0.0, 0.0, 0.0, 0.0, 0.0, 0.0, 0.0, 0.0, 0.0, 0.0, 0.0, 0.0, 0.0, 0.0, 0.0, 0.0], [0.6426600217819214, 0.1298869252204895, 0.17117175459861755, 0.05628127232193947, 0.0, 0.0, 0.0, 0.0, 0.0, 0.0, 0.0, 0.0, 0.0, 0.0, 0.0, 0.0, 0.0, 0.0, 0.0, 0.0, 0.0, 0.0, 0.0, 0.0, 0.0, 0.0, 0.0, 0.0, 0.0, 0.0, 0.0, 0.0, 0.0, 0.0, 0.0], [0.5074959397315979, 0.0778627097606659, 0.0726853460073471, 0.10711850970983505, 0.23483753204345703, 0.0, 0.0, 0.0, 0.0, 0.0, 0.0, 0.0, 0.0, 0.0, 0.0, 0.0, 0.0, 0.0, 0.0, 0.0, 0.0, 0.0, 0.0, 0.0, 0.0, 0.0, 0.0, 0.0, 0.0, 0.0, 0.0, 0.0, 0.0, 0.0, 0.0], [0.49707552790641785, 0.06315261125564575, 0.1155911460518837, 0.08851397782564163, 0.10196361690759659, 0.13370312750339508, 0.0, 0.0, 0.0, 0.0, 0.0, 0.0, 0.0, 0.0, 0.0, 0.0, 0.0, 0.0, 0.0, 0.0, 0.0, 0.0, 0.0, 0.0, 0.0, 0.0, 0.0, 0.0, 0.0, 0.0, 0.0, 0.0, 0.0, 0.0, 0.0], [0.30812814831733704, 0.06775974482297897, 0.13057540357112885, 0.054409366101026535, 0.040503207594156265, 0.3605913817882538, 0.03803272917866707, 0.0, 0.0, 0.0, 0.0, 0.0, 0.0, 0.0, 0.0, 0.0, 0.0, 0.0, 0.0, 0.0, 0.0, 0.0, 0.0, 0.0, 0.0, 0.0, 0.0, 0.0, 0.0, 0.0, 0.0, 0.0, 0.0, 0.0, 0.0], [0.32434970140457153, 0.06349693983793259, 0.07783648371696472, 0.07798175513744354, 0.07410475611686707, 0.13590548932552338, 0.07038861513137817, 0.1759362816810608, 0.0, 0.0, 0.0, 0.0, 0.0, 0.0, 0.0, 0.0, 0.0, 0.0, 0.0, 0.0, 0.0, 0.0, 0.0, 0.0, 0.0, 0.0, 0.0, 0.0, 0.0, 0.0, 0.0, 0.0, 0.0, 0.0, 0.0], [0.16412916779518127, 0.03469284996390343, 0.05131257697939873, 0.013316995464265347, 0.17712698876857758, 0.1595190167427063, 0.09812306612730026, 0.2969047427177429, 0.004874552134424448, 0.0, 0.0, 0.0, 0.0, 0.0, 0.0, 0.0, 0.0, 0.0, 0.0, 0.0, 0.0, 0.0, 0.0, 0.0, 0.0, 0.0, 0.0, 0.0, 0.0, 0.0, 0.0, 0.0, 0.0, 0.0, 0.0], [0.18775464594364166, 0.05488044396042824, 0.10758274048566818, 0.043910037726163864, 0.1406543254852295, 0.11696729063987732, 0.05246003344655037, 0.1536639779806137, 0.04935269430279732, 0.09277381002902985, 0.0, 0.0, 0.0, 0.0, 0.0, 0.0, 0.0, 0.0, 0.0, 0.0, 0.0, 0.0, 0.0, 0.0, 0.0, 0.0, 0.0, 0.0, 0.0, 0.0, 0.0, 0.0, 0.0, 0.0, 0.0], [0.2051711082458496, 0.04006879776716232, 0.0833921805024147, 0.045652780681848526, 0.05697014182806015, 0.13319885730743408, 0.026416394859552383, 0.09950856119394302, 0.050134606659412384, 0.21417365968227386, 0.045312922447919846, 0.0, 0.0, 0.0, 0.0, 0.0, 0.0, 0.0, 0.0, 0.0, 0.0, 0.0, 0.0, 0.0, 0.0, 0.0, 0.0, 0.0, 0.0, 0.0, 0.0, 0.0, 0.0, 0.0, 0.0], [0.10754457116127014, 0.020955439656972885, 0.05246846005320549, 0.008330849930644035, 0.17997519671916962, 0.10652033239603043, 0.07210803776979446, 0.20191140472888947, 0.0033460468985140324, 0.14021332561969757, 0.10356737673282623, 0.003058961359784007, 0.0, 0.0, 0.0, 0.0, 0.0, 0.0, 0.0, 0.0, 0.0, 0.0, 0.0, 0.0, 0.0, 0.0, 0.0, 0.0, 0.0, 0.0, 0.0, 0.0, 0.0, 0.0, 0.0], [0.09423349797725677, 0.02283540554344654, 0.055588558316230774, 0.026967845857143402, 0.12799426913261414, 0.07631109654903412, 0.07361149042844772, 0.16634686291217804, 0.030196363106369972, 0.11622446030378342, 0.1307915300130844, 0.02243354730308056, 0.05646511912345886, 0.0, 0.0, 0.0, 0.0, 0.0, 0.0, 0.0, 0.0, 0.0, 0.0, 0.0, 0.0, 0.0, 0.0, 0.0, 0.0, 0.0, 0.0, 0.0, 0.0, 0.0, 0.0], [0.11027707159519196, 0.0199173204600811, 0.033872127532958984, 0.008012223988771439, 0.12686948478221893, 0.12052718549966812, 0.06604591757059097, 0.21159584820270538, 0.002910380717366934, 0.13361389935016632, 0.07830420136451721, 0.005965668708086014, 0.0786396861076355, 0.0034490127582103014, 0.0, 0.0, 0.0, 0.0, 0.0, 0.0, 0.0, 0.0, 0.0, 0.0, 0.0, 0.0, 0.0, 0.0, 0.0, 0.0, 0.0, 0.0, 0.0, 0.0, 0.0], [0.1600770652294159, 0.05452114716172218, 0.0597362220287323, 0.020207514986395836, 0.05266043171286583, 0.10011065751314163, 0.11729259788990021, 0.14998747408390045, 0.017248373478651047, 0.05625282973051071, 0.09442036598920822, 0.012046908028423786, 0.020297683775424957, 0.018244555220007896, 0.06689617782831192, 0.0, 0.0, 0.0, 0.0, 0.0, 0.0, 0.0, 0.0, 0.0, 0.0, 0.0, 0.0, 0.0, 0.0, 0.0, 0.0, 0.0, 0.0, 0.0, 0.0], [0.17850054800510406, 0.04271137714385986, 0.05876287445425987, 0.025501534342765808, 0.028219731524586678, 0.0939594954252243, 0.035697728395462036, 0.03853300213813782, 0.027574114501476288, 0.1241721361875534, 0.09900189191102982, 0.02991955354809761, 0.04168914631009102, 0.030038561671972275, 0.0802922248840332, 0.06542611122131348, 0.0, 0.0, 0.0, 0.0, 0.0, 0.0, 0.0, 0.0, 0.0, 0.0, 0.0, 0.0, 0.0, 0.0, 0.0, 0.0, 0.0, 0.0, 0.0], [0.08262608200311661, 0.01422164961695671, 0.03910332918167114, 0.00580977788195014, 0.14161063730716705, 0.08671101927757263, 0.05503493919968605, 0.15626995265483856, 0.0023281811736524105, 0.11679328233003616, 0.08067943900823593, 0.002191798994317651, 0.09792858362197876, 0.002736866706982255, 0.03297453001141548, 0.08037843555212021, 0.002601494314149022, 0.0, 0.0, 0.0, 0.0, 0.0, 0.0, 0.0, 0.0, 0.0, 0.0, 0.0, 0.0, 0.0, 0.0, 0.0, 0.0, 0.0, 0.0], [0.09858326613903046, 0.0283206794410944, 0.05263180658221245, 0.01785864867269993, 0.061636604368686676, 0.08070766180753708, 0.07397957891225815, 0.09560470283031464, 0.009335819631814957, 0.08467234671115875, 0.11269155889749527, 0.018467875197529793, 0.038562625646591187, 0.011051509529352188, 0.06964193284511566, 0.09237805753946304, 0.022560428828001022, 0.031314946711063385, 0.0, 0.0, 0.0, 0.0, 0.0, 0.0, 0.0, 0.0, 0.0, 0.0, 0.0, 0.0, 0.0, 0.0, 0.0, 0.0, 0.0], [0.14957918226718903, 0.013048064894974232, 0.033948518335819244, 0.01506176870316267, 0.045098841190338135, 0.08479966968297958, 0.027256978675723076, 0.17206285893917084, 0.016850335523486137, 0.10883241146802902, 0.11793849617242813, 0.008323254995048046, 0.01613432541489601, 0.01772647723555565, 0.0261734239757061, 0.05189086124300957, 0.008976077660918236, 0.010605722665786743, 0.0756927877664566, 0.0, 0.0, 0.0, 0.0, 0.0, 0.0, 0.0, 0.0, 0.0, 0.0, 0.0, 0.0, 0.0, 0.0, 0.0, 0.0], [0.2303973287343979, 0.024296816438436508, 0.026559969410300255, 0.03924618661403656, 0.042302265763282776, 0.04924340546131134, 0.0079794367775321, 0.07322089374065399, 0.03455185517668724, 0.06601926684379578, 0.03830168768763542, 0.03672323375940323, 0.024140123277902603, 0.0371052622795105, 0.02855713479220867, 0.054463941603899, 0.039015062153339386, 0.015944387763738632, 0.046100106090307236, 0.0858316719532013, 0.0, 0.0, 0.0, 0.0, 0.0, 0.0, 0.0, 0.0, 0.0, 0.0, 0.0, 0.0, 0.0, 0.0, 0.0], [0.05691666156053543, 0.00622502202168107, 0.011754420585930347, 0.0035496787168085575, 0.07110720127820969, 0.0800657644867897, 0.02216234803199768, 0.11016804724931717, 0.0010484937811270356, 0.08122201263904572, 0.02667204663157463, 0.0021960819140076637, 0.030598528683185577, 0.0012014054227620363, 0.014937766827642918, 0.14736881852149963, 0.002626752248033881, 0.033389173448085785, 0.11049012839794159, 0.18504448235034943, 0.0012552263215184212, 0.0, 0.0, 0.0, 0.0, 0.0, 0.0, 0.0, 0.0, 0.0, 0.0, 0.0, 0.0, 0.0, 0.0], [0.09241703152656555, 0.026059623807668686, 0.024830598384141922, 0.014753974974155426, 0.07309960573911667, 0.041600823402404785, 0.028182964771986008, 0.10522368550300598, 0.010200566612184048, 0.026716873049736023, 0.038636259734630585, 0.008342118002474308, 0.03416535258293152, 0.01101187989115715, 0.02702195942401886, 0.10600949078798294, 0.009498463943600655, 0.016123086214065552, 0.06257017701864243, 0.19003157317638397, 0.010448908433318138, 0.043055012822151184, 0.0, 0.0, 0.0, 0.0, 0.0, 0.0, 0.0, 0.0, 0.0, 0.0, 0.0, 0.0, 0.0], [0.06173653528094292, 0.007029625587165356, 0.01948661170899868, 0.010366825386881828, 0.04601285979151726, 0.07236861437559128, 0.02275237813591957, 0.08978496491909027, 0.005041906144469976, 0.07019014656543732, 0.07947879284620285, 0.006475396454334259, 0.0383506715297699, 0.005680919624865055, 0.015840977430343628, 0.053441088646650314, 0.007524981163442135, 0.01886216178536415, 0.09784610569477081, 0.19087877869606018, 0.006985305342823267, 0.027727823704481125, 0.04613657668232918, 0.0, 0.0, 0.0, 0.0, 0.0, 0.0, 0.0, 0.0, 0.0, 0.0, 0.0, 0.0], [0.043498445302248, 0.0060291411355137825, 0.0162718053907156, 0.004962889943271875, 0.09232772886753082, 0.05643608421087265, 0.024273186922073364, 0.10004425793886185, 0.0013475855812430382, 0.046952683478593826, 0.043369974941015244, 0.002612093696370721, 0.02598002552986145, 0.001536774099804461, 0.013811730779707432, 0.12162505090236664, 0.00308405514806509, 0.014781148172914982, 0.08252862095832825, 0.20843428373336792, 0.0021058102138340473, 0.03356640785932541, 0.04992128163576126, 0.0044988240115344524, 0.0, 0.0, 0.0, 0.0, 0.0, 0.0, 0.0, 0.0, 0.0, 0.0, 0.0], [0.05493931472301483, 0.005164697300642729, 0.013282540254294872, 0.006816808599978685, 0.08581957966089249, 0.04258372262120247, 0.010111800394952297, 0.10901322960853577, 0.003067046171054244, 0.041951488703489304, 0.03668753430247307, 0.0038776053115725517, 0.036396291106939316, 0.003642827505245805, 0.015713080763816833, 0.04514280706644058, 0.0047706300392746925, 0.010733416303992271, 0.12949082255363464, 0.18343369662761688, 0.005763913970440626, 0.06008810177445412, 0.0642036497592926, 0.008479914627969265, 0.01882551610469818, 0.0, 0.0, 0.0, 0.0, 0.0, 0.0, 0.0, 0.0, 0.0, 0.0], [0.1161927878856659, 0.024008193984627724, 0.017500855028629303, 0.0227953027933836, 0.05027652531862259, 0.03202548623085022, 0.020647747442126274, 0.03974742814898491, 0.023735983297228813, 0.026677902787923813, 0.018856428563594818, 0.028171367943286896, 0.03460881859064102, 0.02664371207356453, 0.02276807278394699, 0.02357734553515911, 0.03119918331503868, 0.022620441392064095, 0.09706809371709824, 0.06436185538768768, 0.032514311373233795, 0.04557202756404877, 0.04268260300159454, 0.028252851217985153, 0.025809556245803833, 0.0816851556301117, 0.0, 0.0, 0.0, 0.0, 0.0, 0.0, 0.0, 0.0, 0.0], [0.11220823973417282, 0.005275930743664503, 0.013701369054615498, 0.006475638598203659, 0.05825745314359665, 0.05591835454106331, 0.013027259148657322, 0.10451261699199677, 0.004013675265014172, 0.0401136688888073, 0.03787229582667351, 0.003174528246745467, 0.012129997834563255, 0.0040962547063827515, 0.007334524765610695, 0.017732830718159676, 0.0034752306528389454, 0.0030595564749091864, 0.0948338732123375, 0.20002643764019012, 0.005673966836184263, 0.016374558210372925, 0.017230218276381493, 0.004368431866168976, 0.00930806528776884, 0.09713461250066757, 0.05267034098505974, 0.0, 0.0, 0.0, 0.0, 0.0, 0.0, 0.0, 0.0], [0.061152707785367966, 0.004939323291182518, 0.009762825444340706, 0.005227165296673775, 0.03646273910999298, 0.03137054294347763, 0.00821889191865921, 0.11535758525133133, 0.003272867063060403, 0.03824919834733009, 0.033371761441230774, 0.002179377246648073, 0.007692956831306219, 0.0034548048861324787, 0.009085441008210182, 0.027900513261556625, 0.0023665919434279203, 0.003948240075260401, 0.040771495550870895, 0.2757468819618225, 0.003546666819602251, 0.012455107644200325, 0.03261313959956169, 0.0032098167575895786, 0.0036030923947691917, 0.1000962108373642, 0.08892865478992462, 0.03501542657613754, 0.0, 0.0, 0.0, 0.0, 0.0, 0.0, 0.0], [0.11957035958766937, 0.008050517179071903, 0.0133772948756814, 0.00708926934748888, 0.02527540549635887, 0.051490843296051025, 0.0065854392014443874, 0.06165984645485878, 0.005620480980724096, 0.0556148998439312, 0.02729180082678795, 0.004286488518118858, 0.0076984320767223835, 0.00599625101312995, 0.007942017167806625, 0.02879052236676216, 0.004870967473834753, 0.0043137590400874615, 0.026228073984384537, 0.15385544300079346, 0.010709963738918304, 0.009564644657075405, 0.029178384691476822, 0.005329275969415903, 0.00805151741951704, 0.07812707871198654, 0.10984010249376297, 0.029521044343709946, 0.09406990557909012, 0.0, 0.0, 0.0, 0.0, 0.0, 0.0], [0.02588074654340744, 0.0032868781127035618, 0.009190610609948635, 0.002271316945552826, 0.042062558233737946, 0.0403556264936924, 0.015107081271708012, 0.0480133593082428, 0.000809609773568809, 0.039064232259988785, 0.02656680718064308, 0.001520446501672268, 0.021220151335000992, 0.0009539542952552438, 0.00781036913394928, 0.03313516080379486, 0.0018792501650750637, 0.010119682177901268, 0.06751003116369247, 0.12262910604476929, 0.001583222416229546, 0.02216803841292858, 0.0307852141559124, 0.0043188100680708885, 0.01872899942100048, 0.1447751224040985, 0.06957437098026276, 0.11388754844665527, 0.07182326912879944, 0.0029684773180633783, 0.0, 0.0, 0.0, 0.0, 0.0], [0.04612508788704872, 0.004929372109472752, 0.011905016377568245, 0.005939910188317299, 0.05086231231689453, 0.03915584832429886, 0.011702246963977814, 0.07777240127325058, 0.0027224915102124214, 0.029330719262361526, 0.03543661907315254, 0.00250865682028234, 0.011883247643709183, 0.00296385632827878, 0.008878659456968307, 0.018936678767204285, 0.0028045857325196266, 0.004066929686814547, 0.06637165695428848, 0.16173598170280457, 0.004074744880199432, 0.0174179058521986, 0.04845812916755676, 0.005489852745085955, 0.014467374421656132, 0.08884269744157791, 0.05744139850139618, 0.04815756157040596, 0.09182099997997284, 0.004751021973788738, 0.023045986890792847, 0.0, 0.0, 0.0, 0.0], [0.028616540133953094, 0.0035397151950746775, 0.012825743295252323, 0.003731104778125882, 0.02213282696902752, 0.026339078322052956, 0.015483644790947437, 0.046924490481615067, 0.0016770168440416455, 0.05343090370297432, 0.03818725794553757, 0.002529488643631339, 0.027682235464453697, 0.0019447177182883024, 0.010427956469357014, 0.02030639909207821, 0.003083114977926016, 0.00833756010979414, 0.06147446855902672, 0.05695468932390213, 0.0030909134075045586, 0.01978727988898754, 0.037704214453697205, 0.004031909164041281, 0.02077089063823223, 0.12126167118549347, 0.08733708411455154, 0.07036235183477402, 0.09933114051818848, 0.005798675119876862, 0.06381496042013168, 0.021079936996102333, 0.0, 0.0, 0.0], [0.022769223898649216, 0.002363814739510417, 0.006953607778996229, 0.0009745144634507596, 0.033431291580200195, 0.030963130295276642, 0.012881078757345676, 0.0763968899846077, 0.0002621040039230138, 0.03044993057847023, 0.036742568016052246, 0.0005670602549798787, 0.014569034799933434, 0.0003055331180803478, 0.005948359612375498, 0.02249256707727909, 0.0007025570375844836, 0.004866449628025293, 0.06026184931397438, 0.1558590680360794, 0.0005001767422072589, 0.01998809352517128, 0.030868493020534515, 0.003128150710836053, 0.01215117797255516, 0.11994653940200806, 0.07597393542528152, 0.09628814458847046, 0.07584254443645477, 0.0010643767891451716, 0.03271332383155823, 0.011111117899417877, 0.0006633001612499356, 0.0, 0.0], [0.06755810976028442, 0.0033527964260429144, 0.008972209878265858, 0.00340254046022892, 0.05607306584715843, 0.030404718592762947, 0.013628306798636913, 0.07952427864074707, 0.0025889384560287, 0.034729402512311935, 0.015315966680645943, 0.0025270995683968067, 0.007685467135161161, 0.0026928235311061144, 0.007112998049706221, 0.026128457859158516, 0.0027733673341572285, 0.007069502957165241, 0.050762053579092026, 0.17593887448310852, 0.003935439512133598, 0.010542861185967922, 0.01269734650850296, 0.002831441583111882, 0.004983491729944944, 0.05610368773341179, 0.10278664529323578, 0.0786440297961235, 0.06361378729343414, 0.004290644079446793, 0.012449043802917004, 0.007846899330615997, 0.003574162721633911, 0.03745954483747482, 0.0], [0.05889429152011871, 0.004834293387830257, 0.008816241286695004, 0.004917602054774761, 0.05724450573325157, 0.04719965532422066, 0.010384360328316689, 0.04373684525489807, 0.003253217786550522, 0.02700052224099636, 0.015385991893708706, 0.005444498732686043, 0.018304409459233284, 0.003610057756304741, 0.011856134980916977, 0.07255370169878006, 0.006018077023327351, 0.006411906331777573, 0.05586154758930206, 0.08374675363302231, 0.003973667975515127, 0.01859060488641262, 0.01944511942565441, 0.003880677744746208, 0.008932656608521938, 0.1224270761013031, 0.0409863144159317, 0.0742977187037468, 0.05774553492665291, 0.0063186329789459705, 0.013084123842418194, 0.02306581661105156, 0.005796520505100489, 0.04094136133790016, 0.015039590187370777]], [[1.0, 0.0, 0.0, 0.0, 0.0, 0.0, 0.0, 0.0, 0.0, 0.0, 0.0, 0.0, 0.0, 0.0, 0.0, 0.0, 0.0, 0.0, 0.0, 0.0, 0.0, 0.0, 0.0, 0.0, 0.0, 0.0, 0.0, 0.0, 0.0, 0.0, 0.0, 0.0, 0.0, 0.0, 0.0], [0.9780336022377014, 0.021966364234685898, 0.0, 0.0, 0.0, 0.0, 0.0, 0.0, 0.0, 0.0, 0.0, 0.0, 0.0, 0.0, 0.0, 0.0, 0.0, 0.0, 0.0, 0.0, 0.0, 0.0, 0.0, 0.0, 0.0, 0.0, 0.0, 0.0, 0.0, 0.0, 0.0, 0.0, 0.0, 0.0, 0.0], [0.5068987011909485, 0.4279147982597351, 0.06518648564815521, 0.0, 0.0, 0.0, 0.0, 0.0, 0.0, 0.0, 0.0, 0.0, 0.0, 0.0, 0.0, 0.0, 0.0, 0.0, 0.0, 0.0, 0.0, 0.0, 0.0, 0.0, 0.0, 0.0, 0.0, 0.0, 0.0, 0.0, 0.0, 0.0, 0.0, 0.0, 0.0], [0.34595051407814026, 0.23385095596313477, 0.1913880705833435, 0.22881045937538147, 0.0, 0.0, 0.0, 0.0, 0.0, 0.0, 0.0, 0.0, 0.0, 0.0, 0.0, 0.0, 0.0, 0.0, 0.0, 0.0, 0.0, 0.0, 0.0, 0.0, 0.0, 0.0, 0.0, 0.0, 0.0, 0.0, 0.0, 0.0, 0.0, 0.0, 0.0], [0.278596967458725, 0.1752573847770691, 0.11037099361419678, 0.2518095076084137, 0.18396516144275665, 0.0, 0.0, 0.0, 0.0, 0.0, 0.0, 0.0, 0.0, 0.0, 0.0, 0.0, 0.0, 0.0, 0.0, 0.0, 0.0, 0.0, 0.0, 0.0, 0.0, 0.0, 0.0, 0.0, 0.0, 0.0, 0.0, 0.0, 0.0, 0.0, 0.0], [0.20804189145565033, 0.08827143162488937, 0.06160815805196762, 0.25848421454429626, 0.2705698609352112, 0.11302444338798523, 0.0, 0.0, 0.0, 0.0, 0.0, 0.0, 0.0, 0.0, 0.0, 0.0, 0.0, 0.0, 0.0, 0.0, 0.0, 0.0, 0.0, 0.0, 0.0, 0.0, 0.0, 0.0, 0.0, 0.0, 0.0, 0.0, 0.0, 0.0, 0.0], [0.16325631737709045, 0.12141189724206924, 0.11990709602832794, 0.16166457533836365, 0.10774067044258118, 0.29750344157218933, 0.02851596474647522, 0.0, 0.0, 0.0, 0.0, 0.0, 0.0, 0.0, 0.0, 0.0, 0.0, 0.0, 0.0, 0.0, 0.0, 0.0, 0.0, 0.0, 0.0, 0.0, 0.0, 0.0, 0.0, 0.0, 0.0, 0.0, 0.0, 0.0, 0.0], [0.12280929833650589, 0.03978986665606499, 0.045145440846681595, 0.13578496873378754, 0.09269553422927856, 0.11808709800243378, 0.336984783411026, 0.10870295763015747, 0.0, 0.0, 0.0, 0.0, 0.0, 0.0, 0.0, 0.0, 0.0, 0.0, 0.0, 0.0, 0.0, 0.0, 0.0, 0.0, 0.0, 0.0, 0.0, 0.0, 0.0, 0.0, 0.0, 0.0, 0.0, 0.0, 0.0], [0.07854477316141129, 0.0357038713991642, 0.02910536527633667, 0.05200905352830887, 0.10322187840938568, 0.06222520396113396, 0.06801241636276245, 0.17029158771038055, 0.4008859097957611, 0.0, 0.0, 0.0, 0.0, 0.0, 0.0, 0.0, 0.0, 0.0, 0.0, 0.0, 0.0, 0.0, 0.0, 0.0, 0.0, 0.0, 0.0, 0.0, 0.0, 0.0, 0.0, 0.0, 0.0, 0.0, 0.0], [0.08555341511964798, 0.04508212208747864, 0.02075529284775257, 0.057487890124320984, 0.05853371322154999, 0.03812539950013161, 0.031640272587537766, 0.14470815658569336, 0.39396733045578003, 0.12414637207984924, 0.0, 0.0, 0.0, 0.0, 0.0, 0.0, 0.0, 0.0, 0.0, 0.0, 0.0, 0.0, 0.0, 0.0, 0.0, 0.0, 0.0, 0.0, 0.0, 0.0, 0.0, 0.0, 0.0, 0.0, 0.0], [0.03400759398937225, 0.00580130610615015, 0.004264356568455696, 0.014554588124155998, 0.002058123704046011, 0.010052228346467018, 0.015462442301213741, 0.014919930137693882, 0.07456019520759583, 0.8029413819313049, 0.021377811208367348, 0.0, 0.0, 0.0, 0.0, 0.0, 0.0, 0.0, 0.0, 0.0, 0.0, 0.0, 0.0, 0.0, 0.0, 0.0, 0.0, 0.0, 0.0, 0.0, 0.0, 0.0, 0.0, 0.0, 0.0], [0.036581333726644516, 0.008552644401788712, 0.009085919708013535, 0.01071859896183014, 0.03151053562760353, 0.07786069065332413, 0.028099488466978073, 0.05203390121459961, 0.09175645560026169, 0.24980765581130981, 0.22384585440158844, 0.18014688789844513, 0.0, 0.0, 0.0, 0.0, 0.0, 0.0, 0.0, 0.0, 0.0, 0.0, 0.0, 0.0, 0.0, 0.0, 0.0, 0.0, 0.0, 0.0, 0.0, 0.0, 0.0, 0.0, 0.0], [0.03899502754211426, 0.013953063637018204, 0.02715037390589714, 0.015978625044226646, 0.006068873684853315, 0.015332898125052452, 0.007358443457633257, 0.008143581449985504, 0.09236093610525131, 0.09582380950450897, 0.39708971977233887, 0.2250826209783554, 0.056661978363990784, 0.0, 0.0, 0.0, 0.0, 0.0, 0.0, 0.0, 0.0, 0.0, 0.0, 0.0, 0.0, 0.0, 0.0, 0.0, 0.0, 0.0, 0.0, 0.0, 0.0, 0.0, 0.0], [0.029417647048830986, 0.006853980477899313, 0.005433526821434498, 0.008306875824928284, 0.01573827862739563, 0.008708898909389973, 0.008349096402525902, 0.023920083418488503, 0.04694683477282524, 0.04814499244093895, 0.09309996664524078, 0.15290871262550354, 0.14854168891906738, 0.403629332780838, 0.0, 0.0, 0.0, 0.0, 0.0, 0.0, 0.0, 0.0, 0.0, 0.0, 0.0, 0.0, 0.0, 0.0, 0.0, 0.0, 0.0, 0.0, 0.0, 0.0, 0.0], [0.03712831437587738, 0.007584472186863422, 0.0035451464354991913, 0.00811796821653843, 0.018834177404642105, 0.005904986057430506, 0.009632606990635395, 0.011076657101511955, 0.04249942675232887, 0.015083982609212399, 0.019843479618430138, 0.11177277565002441, 0.12816862761974335, 0.33317863941192627, 0.24762876331806183, 0.0, 0.0, 0.0, 0.0, 0.0, 0.0, 0.0, 0.0, 0.0, 0.0, 0.0, 0.0, 0.0, 0.0, 0.0, 0.0, 0.0, 0.0, 0.0, 0.0], [0.02479150891304016, 0.002257242100313306, 0.0019112300360575318, 0.003149646334350109, 0.0017746692756190896, 0.003080858616158366, 0.019880734384059906, 0.006427107844501734, 0.015317482873797417, 0.0032266101334244013, 0.020296065136790276, 0.05772732198238373, 0.022555232048034668, 0.08885952830314636, 0.7141122221946716, 0.0146324522793293, 0.0, 0.0, 0.0, 0.0, 0.0, 0.0, 0.0, 0.0, 0.0, 0.0, 0.0, 0.0, 0.0, 0.0, 0.0, 0.0, 0.0, 0.0, 0.0], [0.01935279741883278, 0.0027357167564332485, 0.0027006438467651606, 0.002816397463902831, 0.007300619501620531, 0.016268707811832428, 0.0051346998661756516, 0.010258661583065987, 0.013791471719741821, 0.033804431557655334, 0.03394483029842377, 0.02411040849983692, 0.05347485840320587, 0.0969100371003151, 0.2761884033679962, 0.22190366685390472, 0.1793035864830017, 0.0, 0.0, 0.0, 0.0, 0.0, 0.0, 0.0, 0.0, 0.0, 0.0, 0.0, 0.0, 0.0, 0.0, 0.0, 0.0, 0.0, 0.0], [0.01677830144762993, 0.001383665599860251, 0.0012504443293437362, 0.00195326772518456, 0.0012283113319426775, 0.003427053801715374, 0.0017710165120661259, 0.0025876876898109913, 0.009956521913409233, 0.007537418976426125, 0.004963126964867115, 0.023668861016631126, 0.017456650733947754, 0.06967757642269135, 0.26127681136131287, 0.2408241480588913, 0.17677919566631317, 0.15747994184494019, 0.0, 0.0, 0.0, 0.0, 0.0, 0.0, 0.0, 0.0, 0.0, 0.0, 0.0, 0.0, 0.0, 0.0, 0.0, 0.0, 0.0], [0.0547504648566246, 0.009201949462294579, 0.0037833049427717924, 0.006891889031976461, 0.007006872911006212, 0.0052677844651043415, 0.0019135884940624237, 0.0066490075550973415, 0.02249072678387165, 0.0072037032805383205, 0.039859890937805176, 0.026306990534067154, 0.03598387539386749, 0.10654619336128235, 0.14742796123027802, 0.02953195758163929, 0.14834155142307281, 0.2342527210712433, 0.10658960789442062, 0.0, 0.0, 0.0, 0.0, 0.0, 0.0, 0.0, 0.0, 0.0, 0.0, 0.0, 0.0, 0.0, 0.0, 0.0, 0.0], [0.08004875481128693, 0.0035627468023449183, 0.003394146217033267, 0.011285566724836826, 0.012208578176796436, 0.0019434967543929815, 0.0039208256639540195, 0.024116627871990204, 0.0233499426394701, 0.008975890465080738, 0.005343955010175705, 0.02533605694770813, 0.013870189897716045, 0.1010364294052124, 0.03973815217614174, 0.08061378449201584, 0.12086472660303116, 0.12294687330722809, 0.14132510125637054, 0.1761181354522705, 0.0, 0.0, 0.0, 0.0, 0.0, 0.0, 0.0, 0.0, 0.0, 0.0, 0.0, 0.0, 0.0, 0.0, 0.0], [0.013053357601165771, 0.0019795659463852644, 0.0016182129038497806, 0.0014078516978770494, 0.0014868261059746146, 0.0013099164934828877, 0.0016642946284264326, 0.0025665194261819124, 0.0030626689549535513, 0.010340586304664612, 0.0077552516013383865, 0.008929411880671978, 0.008869529701769352, 0.01716512441635132, 0.07265796512365341, 0.08664464950561523, 0.062239501625299454, 0.16528461873531342, 0.07255078852176666, 0.09155549108982086, 0.3678579330444336, 0.0, 0.0, 0.0, 0.0, 0.0, 0.0, 0.0, 0.0, 0.0, 0.0, 0.0, 0.0, 0.0, 0.0], [0.012316016480326653, 0.0011592357186600566, 0.0007622403791174293, 0.0019507500110194087, 0.0012718492653220892, 0.0006892286473885179, 0.0005458985106088221, 0.00260300119407475, 0.003917666617780924, 0.000540936307515949, 0.0012741903774440289, 0.006503167096525431, 0.005551586858928204, 0.01797344908118248, 0.013353326357901096, 0.03805127739906311, 0.043033964931964874, 0.039586544036865234, 0.022300682961940765, 0.03898363187909126, 0.5949543118476868, 0.1526770442724228, 0.0, 0.0, 0.0, 0.0, 0.0, 0.0, 0.0, 0.0, 0.0, 0.0, 0.0, 0.0, 0.0], [0.013724966906011105, 0.0016125752590596676, 0.00032898757490329444, 0.0010084306122735143, 0.001175804529339075, 0.0007259277626872063, 0.0005918755778111517, 0.0009615604649297893, 0.003118620254099369, 0.00597000727429986, 0.003033466637134552, 0.0033445023000240326, 0.008407549001276493, 0.01365851704031229, 0.005607029423117638, 0.005321718752384186, 0.01928994245827198, 0.029109669849276543, 0.013599619269371033, 0.031337808817625046, 0.2513722777366638, 0.5305222868919373, 0.05617697164416313, 0.0, 0.0, 0.0, 0.0, 0.0, 0.0, 0.0, 0.0, 0.0, 0.0, 0.0, 0.0], [0.016002386808395386, 0.0009560455800965428, 0.0005680465837940574, 0.001554973772726953, 0.0015755734639242291, 0.0006219737697392702, 0.0011257646838203073, 0.0014368736883625388, 0.0023100469261407852, 0.0009028329513967037, 0.0013921476202085614, 0.003672591410577297, 0.0036322788801044226, 0.009217409417033195, 0.008623882196843624, 0.027025749906897545, 0.02137644588947296, 0.03330114856362343, 0.038854070007801056, 0.03905842453241348, 0.2659663259983063, 0.19372615218162537, 0.09792884439229965, 0.2291700839996338, 0.0, 0.0, 0.0, 0.0, 0.0, 0.0, 0.0, 0.0, 0.0, 0.0, 0.0], [0.009987283498048782, 0.0009651760919950902, 0.0006041587912477553, 0.0009222113876603544, 0.0008805813267827034, 0.0005974334198981524, 0.0002114921371685341, 0.0006455681868828833, 0.0012417701072990894, 0.0006859700661152601, 0.0007031501736491919, 0.0014577420661225915, 0.0018487717024981976, 0.0050772009417414665, 0.0019275677623227239, 0.012413395568728447, 0.008568290621042252, 0.012073676101863384, 0.021936653181910515, 0.029194137081503868, 0.14272743463516235, 0.09834034740924835, 0.11847678571939468, 0.31631970405578613, 0.21219350397586823, 0.0, 0.0, 0.0, 0.0, 0.0, 0.0, 0.0, 0.0, 0.0, 0.0], [0.01686088927090168, 0.001970325130969286, 0.0008858374785631895, 0.001765639055520296, 0.0023928347509354353, 0.0005271155969239771, 0.00036178925074636936, 0.0006361057166941464, 0.0022411325480788946, 0.0008515859954059124, 0.00038157866219989955, 0.0022748287301510572, 0.0018798471428453922, 0.007292233873158693, 0.002146673621609807, 0.0025263058487325907, 0.010355674661695957, 0.01196933165192604, 0.006590919103473425, 0.012827504426240921, 0.12130487710237503, 0.06624643504619598, 0.14612390100955963, 0.28280726075172424, 0.24703310430049896, 0.04974623769521713, 0.0, 0.0, 0.0, 0.0, 0.0, 0.0, 0.0, 0.0, 0.0], [0.02640504576265812, 0.0014231010572984815, 0.0016234448412433267, 0.002576404483988881, 0.0026897042989730835, 0.0012257531052455306, 0.0010898777982220054, 0.0009538466692902148, 0.0019223530543968081, 0.0024115240667015314, 0.002457943046465516, 0.0014354215236380696, 0.005378494970500469, 0.004732347093522549, 0.001939116045832634, 0.007957513444125652, 0.006086884997785091, 0.012657474726438522, 0.011602519080042839, 0.02909661829471588, 0.08598873764276505, 0.07665881514549255, 0.036240141838788986, 0.13133348524570465, 0.19490277767181396, 0.2176632583141327, 0.13154733180999756, 0.0, 0.0, 0.0, 0.0, 0.0, 0.0, 0.0, 0.0], [0.023896096274256706, 0.002067500725388527, 0.002509377198293805, 0.0018511989619582891, 0.003160967491567135, 0.0009005639003589749, 0.000268542644334957, 0.0005213565309531987, 0.001787210931070149, 0.0019308940973132849, 0.0010158225195482373, 0.0010442669736221433, 0.0015677035553380847, 0.004060095641762018, 0.0008207394275814295, 0.0033583056647330523, 0.0041171228513121605, 0.007223025895655155, 0.014547299593687057, 0.046351589262485504, 0.0560186542570591, 0.038400162011384964, 0.0416099838912487, 0.10494545847177505, 0.1578821837902069, 0.12118790298700333, 0.19090263545513153, 0.16605332493782043, 0.0, 0.0, 0.0, 0.0, 0.0, 0.0, 0.0], [0.04075777158141136, 0.003958361689001322, 0.005698093678802252, 0.003957987762987614, 0.0014047808945178986, 0.0003276942006777972, 0.0006401925929822028, 0.0012045823968946934, 0.0022385569754987955, 0.0007448486867360771, 0.0038365719374269247, 0.0016206828877329826, 0.0010148301953449845, 0.004261184949427843, 0.0009652957087382674, 0.0003954314743168652, 0.005401059985160828, 0.0072633991949260235, 0.005766802933067083, 0.02999185584485531, 0.04173653572797775, 0.0175276268273592, 0.025155039504170418, 0.07565268874168396, 0.24542634189128876, 0.06668496876955032, 0.26483190059661865, 0.05502413958311081, 0.08651075512170792, 0.0, 0.0, 0.0, 0.0, 0.0, 0.0], [0.011784803122282028, 0.0013947534607723355, 0.0009515657438896596, 0.0008953210199251771, 0.0010372730903327465, 0.0004972649039700627, 0.00025283859577029943, 0.0004317569255363196, 0.000534569553565234, 0.0002822921669576317, 0.00042747336556203663, 0.0005479573155753314, 0.0008038734667934477, 0.0011037482181563973, 0.001088287215679884, 0.0026353748980909586, 0.0020033163018524647, 0.0029394542798399925, 0.005114203784614801, 0.00916231982409954, 0.020236410200595856, 0.014397254213690758, 0.014386611059308052, 0.05287301912903786, 0.044258128851652145, 0.07174721360206604, 0.08077175170183182, 0.11779729276895523, 0.14486131072044373, 0.39478257298469543, 0.0, 0.0, 0.0, 0.0, 0.0], [0.012992862612009048, 0.0016676149098202586, 0.0010021072812378407, 0.0011761245550587773, 0.0007638346287421882, 0.00040058325976133347, 0.00012849245104007423, 0.00010518688941374421, 0.0005606435006484389, 0.00014079401444178075, 0.00012207550753373653, 0.0003985990188084543, 0.0002298829931532964, 0.0011077813105657697, 0.0003631029976531863, 0.0008891804027371109, 0.001440245658159256, 0.001452021417208016, 0.0026305692736059427, 0.0031673822086304426, 0.017224667593836784, 0.010722337290644646, 0.0050230007618665695, 0.04577844962477684, 0.04751970246434212, 0.027067119255661964, 0.052168600261211395, 0.05500798672437668, 0.11481024324893951, 0.44568806886672974, 0.1482507735490799, 0.0, 0.0, 0.0, 0.0], [0.01172002125531435, 0.0009638673509471118, 0.0016792783280834556, 0.0009598793112672865, 0.0011835334589704871, 0.0003587342507671565, 0.00013125187251716852, 0.0002098587719956413, 0.0003518577723298222, 0.000116738498036284, 0.0003326718579046428, 0.00020899793889839202, 0.00016304041491821408, 0.0005591597291640937, 0.00017877902428153902, 0.0005847534048371017, 0.0006520415772683918, 0.0008100886479951441, 0.0008232035324908793, 0.006545143201947212, 0.007790673058480024, 0.00662250118330121, 0.005052980035543442, 0.014489848166704178, 0.024942079558968544, 0.019010314717888832, 0.028525523841381073, 0.03678770735859871, 0.1426696926355362, 0.2348989099264145, 0.30085402727127075, 0.14982283115386963, 0.0, 0.0, 0.0], [0.011463277973234653, 0.0009014818933792412, 0.0005477440427057445, 0.0005869876476936042, 0.000561662542168051, 0.00023434776812791824, 0.00013944665261078626, 0.0001992678880924359, 0.0003140303888358176, 0.00012514636910054833, 0.0002147950290236622, 0.0002481343690305948, 0.00022906149388290942, 0.0005020766402594745, 0.00045190114178694785, 0.0006676736520603299, 0.0007638580282218754, 0.0009467164636589587, 0.0010094376048073173, 0.003719576168805361, 0.007444892078638077, 0.004500558599829674, 0.001834433525800705, 0.012973614037036896, 0.01552247442305088, 0.021838245913386345, 0.016228968277573586, 0.024697430431842804, 0.038053229451179504, 0.16302338242530823, 0.118260458111763, 0.2288477122783661, 0.3229479491710663, 0.0, 0.0], [0.009539728984236717, 0.0014243278419598937, 0.0009944578632712364, 0.000965557643212378, 0.0007854421273805201, 0.00030160631285980344, 0.00011159561108797789, 0.0008093687356449664, 0.0004005460359621793, 8.517079550074413e-05, 0.0006307564326561987, 0.0002086157473968342, 0.0002525560848880559, 0.0005451840697787702, 0.0002427552972221747, 0.0005828310386277735, 0.0005503927823156118, 0.001054857624694705, 0.0010979127837345004, 0.004033546894788742, 0.005151554010808468, 0.0072512575425207615, 0.003988178446888924, 0.012260396964848042, 0.013561553321778774, 0.03828654810786247, 0.06675272434949875, 0.013111517764627934, 0.10093280673027039, 0.13179121911525726, 0.05432310327887535, 0.1525149643421173, 0.30832439661026, 0.06713259220123291, 0.0], [0.009234576486051083, 0.001869691419415176, 0.0015434946399182081, 0.0012878909474238753, 0.0009349424508400261, 0.0002825605042744428, 0.00044942699605599046, 0.0005594994290731847, 0.0003277687355875969, 7.203821587609127e-05, 0.00010657894745236263, 0.00026362412609159946, 0.0003654728934634477, 0.00037483125925064087, 0.00031175377080217004, 0.0008969129412434995, 0.0006347449379973114, 0.0008650025120005012, 0.0008020040695555508, 0.0006307898438535631, 0.003218781901523471, 0.003845829050987959, 0.0030004349537193775, 0.007814166136085987, 0.010107206180691719, 0.016721578314900398, 0.007672079373151064, 0.010031210258603096, 0.005356390494853258, 0.07757057249546051, 0.03774444758892059, 0.13809116184711456, 0.1956760138273239, 0.030743561685085297, 0.43059292435646057]], [[1.0, 0.0, 0.0, 0.0, 0.0, 0.0, 0.0, 0.0, 0.0, 0.0, 0.0, 0.0, 0.0, 0.0, 0.0, 0.0, 0.0, 0.0, 0.0, 0.0, 0.0, 0.0, 0.0, 0.0, 0.0, 0.0, 0.0, 0.0, 0.0, 0.0, 0.0, 0.0, 0.0, 0.0, 0.0], [0.8970723748207092, 0.10292768478393555, 0.0, 0.0, 0.0, 0.0, 0.0, 0.0, 0.0, 0.0, 0.0, 0.0, 0.0, 0.0, 0.0, 0.0, 0.0, 0.0, 0.0, 0.0, 0.0, 0.0, 0.0, 0.0, 0.0, 0.0, 0.0, 0.0, 0.0, 0.0, 0.0, 0.0, 0.0, 0.0, 0.0], [0.7731762528419495, 0.17108598351478577, 0.05573771148920059, 0.0, 0.0, 0.0, 0.0, 0.0, 0.0, 0.0, 0.0, 0.0, 0.0, 0.0, 0.0, 0.0, 0.0, 0.0, 0.0, 0.0, 0.0, 0.0, 0.0, 0.0, 0.0, 0.0, 0.0, 0.0, 0.0, 0.0, 0.0, 0.0, 0.0, 0.0, 0.0], [0.2190985530614853, 0.09592846035957336, 0.1539974808692932, 0.5309755206108093, 0.0, 0.0, 0.0, 0.0, 0.0, 0.0, 0.0, 0.0, 0.0, 0.0, 0.0, 0.0, 0.0, 0.0, 0.0, 0.0, 0.0, 0.0, 0.0, 0.0, 0.0, 0.0, 0.0, 0.0, 0.0, 0.0, 0.0, 0.0, 0.0, 0.0, 0.0], [0.4932919442653656, 0.12421069294214249, 0.08378951251506805, 0.2104451060295105, 0.08826275169849396, 0.0, 0.0, 0.0, 0.0, 0.0, 0.0, 0.0, 0.0, 0.0, 0.0, 0.0, 0.0, 0.0, 0.0, 0.0, 0.0, 0.0, 0.0, 0.0, 0.0, 0.0, 0.0, 0.0, 0.0, 0.0, 0.0, 0.0, 0.0, 0.0, 0.0], [0.479253351688385, 0.11483936756849289, 0.05825283005833626, 0.12140920013189316, 0.19296899437904358, 0.03327626734972, 0.0, 0.0, 0.0, 0.0, 0.0, 0.0, 0.0, 0.0, 0.0, 0.0, 0.0, 0.0, 0.0, 0.0, 0.0, 0.0, 0.0, 0.0, 0.0, 0.0, 0.0, 0.0, 0.0, 0.0, 0.0, 0.0, 0.0, 0.0, 0.0], [0.33760708570480347, 0.13038288056850433, 0.12365774810314178, 0.1684832125902176, 0.0394856221973896, 0.15522728860378265, 0.04515616223216057, 0.0, 0.0, 0.0, 0.0, 0.0, 0.0, 0.0, 0.0, 0.0, 0.0, 0.0, 0.0, 0.0, 0.0, 0.0, 0.0, 0.0, 0.0, 0.0, 0.0, 0.0, 0.0, 0.0, 0.0, 0.0, 0.0, 0.0, 0.0], [0.3124314546585083, 0.1033550500869751, 0.07322120666503906, 0.13077443838119507, 0.08650767058134079, 0.20371749997138977, 0.047141339629888535, 0.04285135492682457, 0.0, 0.0, 0.0, 0.0, 0.0, 0.0, 0.0, 0.0, 0.0, 0.0, 0.0, 0.0, 0.0, 0.0, 0.0, 0.0, 0.0, 0.0, 0.0, 0.0, 0.0, 0.0, 0.0, 0.0, 0.0, 0.0, 0.0], [0.10719954967498779, 0.03256480023264885, 0.04615398496389389, 0.12522771954536438, 0.011105237528681755, 0.034330036491155624, 0.007858377881348133, 0.011366584338247776, 0.6241937875747681, 0.0, 0.0, 0.0, 0.0, 0.0, 0.0, 0.0, 0.0, 0.0, 0.0, 0.0, 0.0, 0.0, 0.0, 0.0, 0.0, 0.0, 0.0, 0.0, 0.0, 0.0, 0.0, 0.0, 0.0, 0.0, 0.0], [0.3028890788555145, 0.07804971188306808, 0.05937647446990013, 0.09426911175251007, 0.17377151548862457, 0.03861629217863083, 0.048025261610746384, 0.039512597024440765, 0.13237620890140533, 0.03311379998922348, 0.0, 0.0, 0.0, 0.0, 0.0, 0.0, 0.0, 0.0, 0.0, 0.0, 0.0, 0.0, 0.0, 0.0, 0.0, 0.0, 0.0, 0.0, 0.0, 0.0, 0.0, 0.0, 0.0, 0.0, 0.0], [0.13027669489383698, 0.042134881019592285, 0.07258211076259613, 0.10922863334417343, 0.03630434721708298, 0.19112572073936462, 0.03369798883795738, 0.057158660143613815, 0.11187218874692917, 0.16414129734039307, 0.05147743225097656, 0.0, 0.0, 0.0, 0.0, 0.0, 0.0, 0.0, 0.0, 0.0, 0.0, 0.0, 0.0, 0.0, 0.0, 0.0, 0.0, 0.0, 0.0, 0.0, 0.0, 0.0, 0.0, 0.0, 0.0], [0.0946442037820816, 0.02925345115363598, 0.038119398057460785, 0.14989575743675232, 0.02067086473107338, 0.07631717622280121, 0.008947467431426048, 0.0200450848788023, 0.305785596370697, 0.04752097278833389, 0.010440816171467304, 0.1983591914176941, 0.0, 0.0, 0.0, 0.0, 0.0, 0.0, 0.0, 0.0, 0.0, 0.0, 0.0, 0.0, 0.0, 0.0, 0.0, 0.0, 0.0, 0.0, 0.0, 0.0, 0.0, 0.0, 0.0], [0.1444079726934433, 0.06329524517059326, 0.07617761194705963, 0.07194557040929794, 0.033941060304641724, 0.08442072570323944, 0.035940200090408325, 0.07685540616512299, 0.11588278412818909, 0.05951957032084465, 0.06183493509888649, 0.14841711521148682, 0.027361799031496048, 0.0, 0.0, 0.0, 0.0, 0.0, 0.0, 0.0, 0.0, 0.0, 0.0, 0.0, 0.0, 0.0, 0.0, 0.0, 0.0, 0.0, 0.0, 0.0, 0.0, 0.0, 0.0], [0.041478727012872696, 0.011494414880871773, 0.0176435187458992, 0.04599722847342491, 0.004085006657987833, 0.013701112009584904, 0.002870899857953191, 0.004510778468102217, 0.24164843559265137, 0.009729516692459583, 0.0026167314499616623, 0.2641771137714386, 0.008053765632212162, 0.33199283480644226, 0.0, 0.0, 0.0, 0.0, 0.0, 0.0, 0.0, 0.0, 0.0, 0.0, 0.0, 0.0, 0.0, 0.0, 0.0, 0.0, 0.0, 0.0, 0.0, 0.0, 0.0], [0.15155856311321259, 0.0377250574529171, 0.027330638840794563, 0.06052474305033684, 0.030143283307552338, 0.028034880757331848, 0.013341411016881466, 0.022503038868308067, 0.11653434485197067, 0.051899705082178116, 0.010558650828897953, 0.10229875147342682, 0.015167287550866604, 0.14137382805347443, 0.19100576639175415, 0.0, 0.0, 0.0, 0.0, 0.0, 0.0, 0.0, 0.0, 0.0, 0.0, 0.0, 0.0, 0.0, 0.0, 0.0, 0.0, 0.0, 0.0, 0.0, 0.0], [0.2839045524597168, 0.0650240108370781, 0.03238335996866226, 0.02959110029041767, 0.0424320288002491, 0.028469786047935486, 0.041533127427101135, 0.08465312421321869, 0.0438549779355526, 0.027530403807759285, 0.0921814814209938, 0.03751114755868912, 0.048919033259153366, 0.049849674105644226, 0.0791383758187294, 0.013023807667195797, 0.0, 0.0, 0.0, 0.0, 0.0, 0.0, 0.0, 0.0, 0.0, 0.0, 0.0, 0.0, 0.0, 0.0, 0.0, 0.0, 0.0, 0.0, 0.0], [0.04885758087038994, 0.014007368125021458, 0.019542615860700607, 0.07337554544210434, 0.010089143179357052, 0.03972571715712547, 0.004310051444917917, 0.010590330697596073, 0.15303607285022736, 0.02649904042482376, 0.005417253356426954, 0.09647630155086517, 0.012806715443730354, 0.2047864943742752, 0.14743390679359436, 0.009689194150269032, 0.1233566477894783, 0.0, 0.0, 0.0, 0.0, 0.0, 0.0, 0.0, 0.0, 0.0, 0.0, 0.0, 0.0, 0.0, 0.0, 0.0, 0.0, 0.0, 0.0], [0.05943121761083603, 0.025951188057661057, 0.03547387942671776, 0.039079733192920685, 0.018049318343400955, 0.02308725193142891, 0.010503754019737244, 0.030069563537836075, 0.09918279200792313, 0.036144111305475235, 0.018410032615065575, 0.11741490662097931, 0.01716757006943226, 0.12769992649555206, 0.08459020406007767, 0.037902720272541046, 0.145772323012352, 0.07406950742006302, 0.0, 0.0, 0.0, 0.0, 0.0, 0.0, 0.0, 0.0, 0.0, 0.0, 0.0, 0.0, 0.0, 0.0, 0.0, 0.0, 0.0], [0.2724890112876892, 0.04502272233366966, 0.04612235724925995, 0.0420520082116127, 0.03813561797142029, 0.054544299840927124, 0.025706550106406212, 0.019254159182310104, 0.04536456987261772, 0.051068779081106186, 0.021479353308677673, 0.05142936855554581, 0.03568308427929878, 0.05110248178243637, 0.04221019148826599, 0.038132812827825546, 0.05789821222424507, 0.023540079593658447, 0.03876427561044693, 0.0, 0.0, 0.0, 0.0, 0.0, 0.0, 0.0, 0.0, 0.0, 0.0, 0.0, 0.0, 0.0, 0.0, 0.0, 0.0], [0.2398124486207962, 0.03723885491490364, 0.04641323536634445, 0.018074780702590942, 0.028609463945031166, 0.0315636545419693, 0.023263653740286827, 0.05314115807414055, 0.036729831248521805, 0.044361572712659836, 0.01409000065177679, 0.04079654440283775, 0.013384050689637661, 0.04018275812268257, 0.02512497454881668, 0.02228318713605404, 0.04457441717386246, 0.026357252150774002, 0.018502110615372658, 0.19549605250358582, 0.0, 0.0, 0.0, 0.0, 0.0, 0.0, 0.0, 0.0, 0.0, 0.0, 0.0, 0.0, 0.0, 0.0, 0.0], [0.034472569823265076, 0.007049787789583206, 0.008516231551766396, 0.019823286682367325, 0.00200619432143867, 0.008738486096262932, 0.0013805312337353826, 0.002584988484159112, 0.129638671875, 0.004980521742254496, 0.0014542952412739396, 0.09793514013290405, 0.004242660943418741, 0.17474927008152008, 0.020575352013111115, 0.0029217321425676346, 0.12519215047359467, 0.01766674593091011, 0.008172444067895412, 0.006463976111263037, 0.32143500447273254, 0.0, 0.0, 0.0, 0.0, 0.0, 0.0, 0.0, 0.0, 0.0, 0.0, 0.0, 0.0, 0.0, 0.0], [0.0753212496638298, 0.017385121434926987, 0.026499591767787933, 0.038201142102479935, 0.013464308343827724, 0.017004946246743202, 0.005682715214788914, 0.008161392994225025, 0.0879102572798729, 0.015652010217308998, 0.004622375126928091, 0.06870012730360031, 0.017068399116396904, 0.11098402738571167, 0.08843355625867844, 0.01554049737751484, 0.08290653675794601, 0.03445708751678467, 0.0349029004573822, 0.02266903780400753, 0.16727584600448608, 0.04715690016746521, 0.0, 0.0, 0.0, 0.0, 0.0, 0.0, 0.0, 0.0, 0.0, 0.0, 0.0, 0.0, 0.0], [0.11039687693119049, 0.01761859655380249, 0.012073220685124397, 0.07903024554252625, 0.04707181453704834, 0.028393486514687538, 0.0108532989397645, 0.038982950150966644, 0.042541783303022385, 0.05313578620553017, 0.01061656791716814, 0.04066743701696396, 0.016578681766986847, 0.050442539155483246, 0.04148310050368309, 0.011694184504449368, 0.048943907022476196, 0.04587531089782715, 0.06803462654352188, 0.031458184123039246, 0.07373648881912231, 0.09332364797592163, 0.027047282084822655, 0.0, 0.0, 0.0, 0.0, 0.0, 0.0, 0.0, 0.0, 0.0, 0.0, 0.0, 0.0], [0.05010591447353363, 0.01140363235026598, 0.018980002030730247, 0.04829110577702522, 0.005478163715451956, 0.02793811447918415, 0.0034753417130559683, 0.009667657315731049, 0.08883962780237198, 0.021459801122546196, 0.009184243157505989, 0.06738954037427902, 0.00629377830773592, 0.11730516701936722, 0.05559384450316429, 0.023259559646248817, 0.08538825064897537, 0.03017236664891243, 0.018553774803876877, 0.0497271865606308, 0.138699471950531, 0.03593091666698456, 0.029570577666163445, 0.04729194939136505, 0.0, 0.0, 0.0, 0.0, 0.0, 0.0, 0.0, 0.0, 0.0, 0.0, 0.0], [0.03365062549710274, 0.03973434120416641, 0.013943260535597801, 0.022155024111270905, 0.00737409945577383, 0.01253434270620346, 0.003937932662665844, 0.005588040221482515, 0.0527641586959362, 0.011353476904332638, 0.002976152580231428, 0.06121999770402908, 0.007114528678357601, 0.06609286367893219, 0.018457181751728058, 0.004707183223217726, 0.07780604064464569, 0.015934070572257042, 0.016269713640213013, 0.02733292244374752, 0.08945076912641525, 0.02828321047127247, 0.013428346253931522, 0.24125005304813385, 0.12664161622524261, 0.0, 0.0, 0.0, 0.0, 0.0, 0.0, 0.0, 0.0, 0.0, 0.0], [0.10163001716136932, 0.0481734462082386, 0.022741500288248062, 0.017647163942456245, 0.016357658430933952, 0.014718185178935528, 0.020238904282450676, 0.030098337680101395, 0.03836439177393913, 0.025297489017248154, 0.039593420922756195, 0.04179811477661133, 0.01849495992064476, 0.04345664381980896, 0.02387692779302597, 0.013411912135779858, 0.0480475053191185, 0.021995287388563156, 0.030744779855012894, 0.05168472230434418, 0.05786486715078354, 0.04216013476252556, 0.050390005111694336, 0.08024898916482925, 0.07608181238174438, 0.024882830679416656, 0.0, 0.0, 0.0, 0.0, 0.0, 0.0, 0.0, 0.0, 0.0], [0.06603525578975677, 0.02066011168062687, 0.02168169803917408, 0.03408762440085411, 0.015279395505785942, 0.018441997468471527, 0.010789590887725353, 0.05595838278532028, 0.03565487265586853, 0.021738862618803978, 0.02566494792699814, 0.03946557641029358, 0.019091863185167313, 0.04260499030351639, 0.04514032602310181, 0.012913585640490055, 0.0473557747900486, 0.0255618616938591, 0.035244137048721313, 0.09746363759040833, 0.056113142520189285, 0.03593846783041954, 0.03256699815392494, 0.043019849807024, 0.04697677120566368, 0.03246127441525459, 0.062089040875434875, 0.0, 0.0, 0.0, 0.0, 0.0, 0.0, 0.0, 0.0], [0.10541094839572906, 0.016973106190562248, 0.020341016352176666, 0.03266654163599014, 0.021851161494851112, 0.03178991749882698, 0.005571206100285053, 0.024194540455937386, 0.01674046739935875, 0.016082562506198883, 0.013484911061823368, 0.022790387272834778, 0.020844897255301476, 0.019816432148218155, 0.007412000093609095, 0.013035083189606667, 0.02698248252272606, 0.010132254101336002, 0.017667710781097412, 0.29726240038871765, 0.02345714345574379, 0.03235582634806633, 0.03224533051252365, 0.01998012326657772, 0.05017193779349327, 0.04827894642949104, 0.03308822214603424, 0.01937240920960903, 0.0, 0.0, 0.0, 0.0, 0.0, 0.0, 0.0], [0.1147821769118309, 0.028451889753341675, 0.030158083885908127, 0.029890714213252068, 0.01557769626379013, 0.04523629695177078, 0.0081566721200943, 0.046777669340372086, 0.020574569702148438, 0.018089186400175095, 0.016638442873954773, 0.024351516738533974, 0.014281016774475574, 0.02287057228386402, 0.024558430537581444, 0.021522248163819313, 0.02774013765156269, 0.012263167649507523, 0.016789691522717476, 0.030601760372519493, 0.03310447186231613, 0.04230615496635437, 0.05013414844870567, 0.0398956723511219, 0.02547145076096058, 0.03835652396082878, 0.14836570620536804, 0.04062197357416153, 0.012431961484253407, 0.0, 0.0, 0.0, 0.0, 0.0, 0.0], [0.010402966290712357, 0.003988311160355806, 0.0075365593656897545, 0.023714059963822365, 0.0015746998833492398, 0.004556497558951378, 0.0011461442336440086, 0.0020206545013934374, 0.08388329297304153, 0.006093547213822603, 0.0012243635719642043, 0.08011974394321442, 0.0032829302363097668, 0.11485148966312408, 0.020138544961810112, 0.0038740236777812243, 0.10355653613805771, 0.016239916905760765, 0.00621951837092638, 0.011158782057464123, 0.12897229194641113, 0.016916098073124886, 0.008813070133328438, 0.028795940801501274, 0.06059351563453674, 0.005618593189865351, 0.01689356192946434, 0.008791647851467133, 0.01702238619327545, 0.20200024545192719, 0.0, 0.0, 0.0, 0.0, 0.0], [0.05472036078572273, 0.015954438596963882, 0.01209825836122036, 0.02283375896513462, 0.018985215574502945, 0.02878391370177269, 0.008076779544353485, 0.008372063748538494, 0.03956406190991402, 0.012315316125750542, 0.0095883309841156, 0.023571284487843513, 0.010643098503351212, 0.04663846641778946, 0.014515894465148449, 0.012394603341817856, 0.027597350999712944, 0.0216914564371109, 0.020180558785796165, 0.018239213153719902, 0.05496656149625778, 0.03711787611246109, 0.024244993925094604, 0.03499605506658554, 0.14947673678398132, 0.029019534587860107, 0.04327641800045967, 0.01586645282804966, 0.04511537402868271, 0.11428382247686386, 0.024871772155165672, 0.0, 0.0, 0.0, 0.0], [0.02826632373034954, 0.008342590183019638, 0.009693153202533722, 0.024003300815820694, 0.012406982481479645, 0.009731609374284744, 0.007254770956933498, 0.011378861032426357, 0.0452534481883049, 0.014661096967756748, 0.004759800620377064, 0.03279305621981621, 0.009599767625331879, 0.05662671849131584, 0.023795725777745247, 0.004614102654159069, 0.03982143849134445, 0.021239010617136955, 0.025286570191383362, 0.10159792006015778, 0.09278307855129242, 0.02612387016415596, 0.015091435052454472, 0.03458566963672638, 0.06182193011045456, 0.013406998477876186, 0.01688978262245655, 0.030893541872501373, 0.02819487825036049, 0.11031373590230942, 0.04056955501437187, 0.03819921612739563, 0.0, 0.0, 0.0], [0.005920097231864929, 0.002644825493916869, 0.00575488805770874, 0.02199716679751873, 0.0013081273064017296, 0.005726538132876158, 0.0008704039501026273, 0.0018940421286970377, 0.052954964339733124, 0.004725011996924877, 0.0009999449830502272, 0.04342707246541977, 0.002174984198063612, 0.0736372247338295, 0.01701577566564083, 0.003086993470788002, 0.0577908493578434, 0.010734478943049908, 0.003425821429118514, 0.010332693345844746, 0.08509062975645065, 0.01242915540933609, 0.006230236496776342, 0.02222101390361786, 0.06411109864711761, 0.0050534820184111595, 0.0181523859500885, 0.007594150025397539, 0.006786436308175325, 0.16716448962688446, 0.013871809467673302, 0.014755620621144772, 0.25011757016181946, 0.0, 0.0], [0.05958717316389084, 0.014287114143371582, 0.009688670746982098, 0.028474612161517143, 0.028604792430996895, 0.02625935710966587, 0.008819637820124626, 0.022136040031909943, 0.01791020669043064, 0.026397546753287315, 0.01724357344210148, 0.025983817875385284, 0.0063161831349134445, 0.020043158903717995, 0.01544060930609703, 0.025940265506505966, 0.030103033408522606, 0.01836533658206463, 0.023130418732762337, 0.02621457912027836, 0.03115725703537464, 0.028986159712076187, 0.028961271047592163, 0.016435224562883377, 0.03480091318488121, 0.03794369101524353, 0.0738067775964737, 0.03077242337167263, 0.02851724438369274, 0.07387096434831619, 0.024587715044617653, 0.03523408621549606, 0.08090808242559433, 0.023072004318237305, 0.0], [0.052589867264032364, 0.008282377384603024, 0.00468659121543169, 0.0115561094135046, 0.00212435913272202, 0.007376661524176598, 0.0025699117686599493, 0.005167307332158089, 0.06430476158857346, 0.008688673377037048, 0.004349813796579838, 0.05405203998088837, 0.003567329840734601, 0.08101725578308105, 0.02145702764391899, 0.004144079051911831, 0.06621565669775009, 0.018716935068368912, 0.00948823057115078, 0.0060385423712432384, 0.10274296253919601, 0.01456521451473236, 0.009106303565204144, 0.021657664328813553, 0.03524799644947052, 0.004852634854614735, 0.008422162383794785, 0.019589494913816452, 0.011885889805853367, 0.1446465700864792, 0.016607560217380524, 0.02283477783203125, 0.08476631343364716, 0.015126856043934822, 0.05155406892299652]], [[1.0, 0.0, 0.0, 0.0, 0.0, 0.0, 0.0, 0.0, 0.0, 0.0, 0.0, 0.0, 0.0, 0.0, 0.0, 0.0, 0.0, 0.0, 0.0, 0.0, 0.0, 0.0, 0.0, 0.0, 0.0, 0.0, 0.0, 0.0, 0.0, 0.0, 0.0, 0.0, 0.0, 0.0, 0.0], [0.8803902268409729, 0.1196097731590271, 0.0, 0.0, 0.0, 0.0, 0.0, 0.0, 0.0, 0.0, 0.0, 0.0, 0.0, 0.0, 0.0, 0.0, 0.0, 0.0, 0.0, 0.0, 0.0, 0.0, 0.0, 0.0, 0.0, 0.0, 0.0, 0.0, 0.0, 0.0, 0.0, 0.0, 0.0, 0.0, 0.0], [0.800162672996521, 0.14422567188739777, 0.055611662566661835, 0.0, 0.0, 0.0, 0.0, 0.0, 0.0, 0.0, 0.0, 0.0, 0.0, 0.0, 0.0, 0.0, 0.0, 0.0, 0.0, 0.0, 0.0, 0.0, 0.0, 0.0, 0.0, 0.0, 0.0, 0.0, 0.0, 0.0, 0.0, 0.0, 0.0, 0.0, 0.0], [0.6471941471099854, 0.14701779186725616, 0.07931008189916611, 0.12647798657417297, 0.0, 0.0, 0.0, 0.0, 0.0, 0.0, 0.0, 0.0, 0.0, 0.0, 0.0, 0.0, 0.0, 0.0, 0.0, 0.0, 0.0, 0.0, 0.0, 0.0, 0.0, 0.0, 0.0, 0.0, 0.0, 0.0, 0.0, 0.0, 0.0, 0.0, 0.0], [0.6291002035140991, 0.1326993703842163, 0.08307391405105591, 0.103066086769104, 0.05206046253442764, 0.0, 0.0, 0.0, 0.0, 0.0, 0.0, 0.0, 0.0, 0.0, 0.0, 0.0, 0.0, 0.0, 0.0, 0.0, 0.0, 0.0, 0.0, 0.0, 0.0, 0.0, 0.0, 0.0, 0.0, 0.0, 0.0, 0.0, 0.0, 0.0, 0.0], [0.5631013512611389, 0.1237594336271286, 0.1115972250699997, 0.10842735320329666, 0.08343345671892166, 0.009681194089353085, 0.0, 0.0, 0.0, 0.0, 0.0, 0.0, 0.0, 0.0, 0.0, 0.0, 0.0, 0.0, 0.0, 0.0, 0.0, 0.0, 0.0, 0.0, 0.0, 0.0, 0.0, 0.0, 0.0, 0.0, 0.0, 0.0, 0.0, 0.0, 0.0], [0.4973389506340027, 0.11400073766708374, 0.07851860672235489, 0.10408835858106613, 0.08229987323284149, 0.08720176666975021, 0.03655163198709488, 0.0, 0.0, 0.0, 0.0, 0.0, 0.0, 0.0, 0.0, 0.0, 0.0, 0.0, 0.0, 0.0, 0.0, 0.0, 0.0, 0.0, 0.0, 0.0, 0.0, 0.0, 0.0, 0.0, 0.0, 0.0, 0.0, 0.0, 0.0], [0.46186625957489014, 0.10720604658126831, 0.07680260390043259, 0.09525883942842484, 0.11179572343826294, 0.046836573630571365, 0.0632898211479187, 0.03694412112236023, 0.0, 0.0, 0.0, 0.0, 0.0, 0.0, 0.0, 0.0, 0.0, 0.0, 0.0, 0.0, 0.0, 0.0, 0.0, 0.0, 0.0, 0.0, 0.0, 0.0, 0.0, 0.0, 0.0, 0.0, 0.0, 0.0, 0.0], [0.408801794052124, 0.11223534494638443, 0.061949536204338074, 0.08138208836317062, 0.06888711452484131, 0.04759938269853592, 0.05779566615819931, 0.06300586462020874, 0.09834323078393936, 0.0, 0.0, 0.0, 0.0, 0.0, 0.0, 0.0, 0.0, 0.0, 0.0, 0.0, 0.0, 0.0, 0.0, 0.0, 0.0, 0.0, 0.0, 0.0, 0.0, 0.0, 0.0, 0.0, 0.0, 0.0, 0.0], [0.3377854824066162, 0.07768954336643219, 0.061640236526727676, 0.08030418306589127, 0.0924348309636116, 0.12569792568683624, 0.04310277849435806, 0.080065056681633, 0.08753131330013275, 0.013748610392212868, 0.0, 0.0, 0.0, 0.0, 0.0, 0.0, 0.0, 0.0, 0.0, 0.0, 0.0, 0.0, 0.0, 0.0, 0.0, 0.0, 0.0, 0.0, 0.0, 0.0, 0.0, 0.0, 0.0, 0.0, 0.0], [0.40844565629959106, 0.07972611486911774, 0.059432800859212875, 0.07098966836929321, 0.06258387118577957, 0.07298710197210312, 0.05290915444493294, 0.06663116067647934, 0.08486580103635788, 0.03078523650765419, 0.010643374174833298, 0.0, 0.0, 0.0, 0.0, 0.0, 0.0, 0.0, 0.0, 0.0, 0.0, 0.0, 0.0, 0.0, 0.0, 0.0, 0.0, 0.0, 0.0, 0.0, 0.0, 0.0, 0.0, 0.0, 0.0], [0.32840877771377563, 0.08126058429479599, 0.052221182733774185, 0.0667019635438919, 0.062212202697992325, 0.04688328877091408, 0.04748227447271347, 0.04943712800741196, 0.08644373714923859, 0.05108509212732315, 0.046604085713624954, 0.08125966042280197, 0.0, 0.0, 0.0, 0.0, 0.0, 0.0, 0.0, 0.0, 0.0, 0.0, 0.0, 0.0, 0.0, 0.0, 0.0, 0.0, 0.0, 0.0, 0.0, 0.0, 0.0, 0.0, 0.0], [0.28456372022628784, 0.07334227114915848, 0.05956628546118736, 0.05995682254433632, 0.0626126229763031, 0.044922519475221634, 0.05354888737201691, 0.055395226925611496, 0.0760505273938179, 0.054391514509916306, 0.05521010607481003, 0.0848141685128212, 0.03562537580728531, 0.0, 0.0, 0.0, 0.0, 0.0, 0.0, 0.0, 0.0, 0.0, 0.0, 0.0, 0.0, 0.0, 0.0, 0.0, 0.0, 0.0, 0.0, 0.0, 0.0, 0.0, 0.0], [0.29869240522384644, 0.08053487539291382, 0.04630004242062569, 0.058416109532117844, 0.05245251581072807, 0.035896752029657364, 0.0431300550699234, 0.04816413298249245, 0.07179585844278336, 0.03588227555155754, 0.034986358135938644, 0.06638612598180771, 0.04749889299273491, 0.07986355572938919, 0.0, 0.0, 0.0, 0.0, 0.0, 0.0, 0.0, 0.0, 0.0, 0.0, 0.0, 0.0, 0.0, 0.0, 0.0, 0.0, 0.0, 0.0, 0.0, 0.0, 0.0], [0.26184865832328796, 0.06895224750041962, 0.046620942652225494, 0.05860463157296181, 0.046928770840168, 0.05568014830350876, 0.04915206879377365, 0.041177790611982346, 0.0749075785279274, 0.031984273344278336, 0.032572224736213684, 0.07257073372602463, 0.03739878907799721, 0.08542975783348083, 0.03617139905691147, 0.0, 0.0, 0.0, 0.0, 0.0, 0.0, 0.0, 0.0, 0.0, 0.0, 0.0, 0.0, 0.0, 0.0, 0.0, 0.0, 0.0, 0.0, 0.0, 0.0], [0.29417479038238525, 0.05360918864607811, 0.03860876336693764, 0.049526721239089966, 0.04060917720198631, 0.0414932556450367, 0.029716258868575096, 0.045369818806648254, 0.06024932861328125, 0.041599664837121964, 0.06637392193078995, 0.059824664145708084, 0.04050290957093239, 0.06734268367290497, 0.060957349836826324, 0.010041480883955956, 0.0, 0.0, 0.0, 0.0, 0.0, 0.0, 0.0, 0.0, 0.0, 0.0, 0.0, 0.0, 0.0, 0.0, 0.0, 0.0, 0.0, 0.0, 0.0], [0.24078036844730377, 0.057315025478601456, 0.03812979534268379, 0.04762374609708786, 0.04672614485025406, 0.035154763609170914, 0.03462180495262146, 0.0374724306166172, 0.062347814440727234, 0.03954547271132469, 0.035744305700063705, 0.058744993060827255, 0.0340784452855587, 0.07071570307016373, 0.05439116805791855, 0.03945150598883629, 0.06715652346611023, 0.0, 0.0, 0.0, 0.0, 0.0, 0.0, 0.0, 0.0, 0.0, 0.0, 0.0, 0.0, 0.0, 0.0, 0.0, 0.0, 0.0, 0.0], [0.1900811791419983, 0.05546914413571358, 0.03824986144900322, 0.04468470811843872, 0.0434919036924839, 0.03729136288166046, 0.03500030189752579, 0.03413337841629982, 0.05614838749170303, 0.02901819534599781, 0.026478586718440056, 0.06265047937631607, 0.03502202033996582, 0.06568854302167892, 0.05714196339249611, 0.04781633988022804, 0.07356443256139755, 0.06806916743516922, 0.0, 0.0, 0.0, 0.0, 0.0, 0.0, 0.0, 0.0, 0.0, 0.0, 0.0, 0.0, 0.0, 0.0, 0.0, 0.0, 0.0], [0.23406477272510529, 0.047656793147325516, 0.03626638278365135, 0.04350152984261513, 0.044823311269283295, 0.030926167964935303, 0.024145547300577164, 0.030471062287688255, 0.05100265145301819, 0.038521427661180496, 0.04128359258174896, 0.052890975028276443, 0.027892807498574257, 0.0573887936770916, 0.06067000702023506, 0.04387105628848076, 0.05933021381497383, 0.05117017403244972, 0.02412271313369274, 0.0, 0.0, 0.0, 0.0, 0.0, 0.0, 0.0, 0.0, 0.0, 0.0, 0.0, 0.0, 0.0, 0.0, 0.0, 0.0], [0.31211692094802856, 0.04305700212717056, 0.030739206820726395, 0.039901215583086014, 0.04073917865753174, 0.03397355601191521, 0.013991197571158409, 0.0325017012655735, 0.04214293882250786, 0.03136739879846573, 0.057223208248615265, 0.04209974780678749, 0.03285328671336174, 0.04662720859050751, 0.04874775558710098, 0.02173059806227684, 0.04722375050187111, 0.0298575758934021, 0.045303892344236374, 0.007802658714354038, 0.0, 0.0, 0.0, 0.0, 0.0, 0.0, 0.0, 0.0, 0.0, 0.0, 0.0, 0.0, 0.0, 0.0, 0.0], [0.19583050906658173, 0.05227473005652428, 0.03251206874847412, 0.037058886140584946, 0.04335429519414902, 0.027641309425234795, 0.02745206095278263, 0.03308156505227089, 0.045324403792619705, 0.02540675550699234, 0.02478162944316864, 0.03888050094246864, 0.030247310176491737, 0.050895124673843384, 0.04128778725862503, 0.03749213367700577, 0.04425322264432907, 0.044287215918302536, 0.04519395902752876, 0.050723981112241745, 0.07202055305242538, 0.0, 0.0, 0.0, 0.0, 0.0, 0.0, 0.0, 0.0, 0.0, 0.0, 0.0, 0.0, 0.0, 0.0], [0.16079992055892944, 0.04841073602437973, 0.033020976930856705, 0.03441706299781799, 0.035319775342941284, 0.02389702945947647, 0.026063481345772743, 0.028639722615480423, 0.044538743793964386, 0.024949483573436737, 0.02971614897251129, 0.040129996836185455, 0.024859076365828514, 0.051343947649002075, 0.05373542755842209, 0.04527631774544716, 0.04680594056844711, 0.0346059650182724, 0.04245501384139061, 0.054854534566402435, 0.06976334750652313, 0.046397335827350616, 0.0, 0.0, 0.0, 0.0, 0.0, 0.0, 0.0, 0.0, 0.0, 0.0, 0.0, 0.0, 0.0], [0.18932507932186127, 0.03910361975431442, 0.024852003902196884, 0.03345051780343056, 0.03860156983137131, 0.02410929650068283, 0.020502105355262756, 0.02430175431072712, 0.03976471349596977, 0.034181684255599976, 0.03484784811735153, 0.036197811365127563, 0.02366894669830799, 0.04502483457326889, 0.034989435225725174, 0.02682553231716156, 0.04153791815042496, 0.03736661747097969, 0.042022787034511566, 0.05591042712330818, 0.06404419988393784, 0.05618632212281227, 0.03318498656153679, 0.0, 0.0, 0.0, 0.0, 0.0, 0.0, 0.0, 0.0, 0.0, 0.0, 0.0, 0.0], [0.16596606373786926, 0.03388110175728798, 0.020657526329159737, 0.03212727978825569, 0.03747253865003586, 0.026519477367401123, 0.019882896915078163, 0.02560962550342083, 0.04091744124889374, 0.022610332816839218, 0.019720876589417458, 0.03376534953713417, 0.023503821343183517, 0.046445246785879135, 0.035414308309555054, 0.02736843377351761, 0.0387694425880909, 0.03146074712276459, 0.04639925807714462, 0.04867471009492874, 0.06382153928279877, 0.06529752910137177, 0.04629906266927719, 0.04741538688540459, 0.0, 0.0, 0.0, 0.0, 0.0, 0.0, 0.0, 0.0, 0.0, 0.0, 0.0], [0.1551409512758255, 0.036314819008111954, 0.022236889228224754, 0.02809740975499153, 0.04015664383769035, 0.024055983871221542, 0.017400912940502167, 0.021498551592230797, 0.0367506742477417, 0.017986755818128586, 0.019703907892107964, 0.028327787294983864, 0.02260460890829563, 0.041680529713630676, 0.030497968196868896, 0.025585588067770004, 0.032487597316503525, 0.027014952152967453, 0.041122857481241226, 0.04738449305295944, 0.06382341682910919, 0.056550100445747375, 0.04119998961687088, 0.06263257563114166, 0.059744078665971756, 0.0, 0.0, 0.0, 0.0, 0.0, 0.0, 0.0, 0.0, 0.0, 0.0], [0.12975940108299255, 0.027339696884155273, 0.02995751053094864, 0.022702831774950027, 0.03781533241271973, 0.03144637122750282, 0.01713675446808338, 0.046564918011426926, 0.030618296936154366, 0.018781673163175583, 0.025273190811276436, 0.028721965849399567, 0.019090941175818443, 0.03481002151966095, 0.026170209050178528, 0.026817740872502327, 0.03296038880944252, 0.02496025152504444, 0.05474759265780449, 0.05780106037855148, 0.05617622658610344, 0.03305984288454056, 0.05767423287034035, 0.04667418450117111, 0.06228700280189514, 0.020652376115322113, 0.0, 0.0, 0.0, 0.0, 0.0, 0.0, 0.0, 0.0, 0.0], [0.18126998841762543, 0.027924934402108192, 0.028055915609002113, 0.02945740334689617, 0.02853275090456009, 0.020307771861553192, 0.019550150260329247, 0.031531088054180145, 0.02923285774886608, 0.02111053839325905, 0.014580837450921535, 0.022505315020680428, 0.016256755217909813, 0.03150884434580803, 0.02451970987021923, 0.03659054636955261, 0.02503451332449913, 0.020030668005347252, 0.047266121953725815, 0.12142348289489746, 0.041896261274814606, 0.036460909992456436, 0.037346914410591125, 0.037057459354400635, 0.03521094098687172, 0.024784499779343605, 0.010552848689258099, 0.0, 0.0, 0.0, 0.0, 0.0, 0.0, 0.0, 0.0], [0.1419323980808258, 0.026873430237174034, 0.023394407704472542, 0.02419888786971569, 0.03441089391708374, 0.03176819160580635, 0.01428282167762518, 0.027884995564818382, 0.027823271229863167, 0.02026795782148838, 0.02007533609867096, 0.02603541500866413, 0.015271052718162537, 0.03118356317281723, 0.02134445495903492, 0.030780896544456482, 0.029686493799090385, 0.024966172873973846, 0.03290622681379318, 0.08126566559076309, 0.047380201518535614, 0.0395050011575222, 0.0381060466170311, 0.039200231432914734, 0.04723042622208595, 0.03223777934908867, 0.047684963792562485, 0.022302810102701187, 0.0, 0.0, 0.0, 0.0, 0.0, 0.0, 0.0], [0.19361068308353424, 0.028910452499985695, 0.017410730943083763, 0.0249919556081295, 0.020412279292941093, 0.03692351281642914, 0.01856403797864914, 0.022491103038191795, 0.026469890028238297, 0.019851718097925186, 0.01670689694583416, 0.02012958936393261, 0.017302941530942917, 0.028877532109618187, 0.019370274618268013, 0.021512912586331367, 0.02260465733706951, 0.01946551352739334, 0.03218545764684677, 0.09415606409311295, 0.039640821516513824, 0.04692871496081352, 0.032965514808893204, 0.034327466040849686, 0.035498879849910736, 0.0415242500603199, 0.03800845891237259, 0.024193784222006798, 0.0049639176577329636, 0.0, 0.0, 0.0, 0.0, 0.0, 0.0], [0.13062258064746857, 0.029238134622573853, 0.02056247368454933, 0.024924932047724724, 0.026433365419507027, 0.02088005468249321, 0.016895072534680367, 0.020366206765174866, 0.03079468384385109, 0.016811517998576164, 0.014352641068398952, 0.026399681344628334, 0.01796814799308777, 0.03419143334031105, 0.025793638080358505, 0.02088005840778351, 0.029983336105942726, 0.022576840594410896, 0.031984008848667145, 0.0387752503156662, 0.047299277037382126, 0.03951811045408249, 0.03569554165005684, 0.04647783562541008, 0.04560372605919838, 0.02769400365650654, 0.028376275673508644, 0.02950698882341385, 0.03388817608356476, 0.06550602614879608, 0.0, 0.0, 0.0, 0.0, 0.0], [0.10399013757705688, 0.021966123953461647, 0.016451168805360794, 0.022787991911172867, 0.024357156828045845, 0.019975418224930763, 0.013678604736924171, 0.020524615421891212, 0.026416655629873276, 0.01582498662173748, 0.01812475360929966, 0.022938061505556107, 0.015249832533299923, 0.02995176427066326, 0.01956865005195141, 0.017790071666240692, 0.026331374421715736, 0.02006237953901291, 0.030405646190047264, 0.058378033339977264, 0.04746948555111885, 0.03560005873441696, 0.03361857309937477, 0.039051603525877, 0.0462346151471138, 0.03415835276246071, 0.05063632130622864, 0.0330495648086071, 0.04132761061191559, 0.060074787586927414, 0.03400558978319168, 0.0, 0.0, 0.0, 0.0], [0.10689453780651093, 0.023425225168466568, 0.018311116844415665, 0.02227621339261532, 0.01998625509440899, 0.0183456651866436, 0.015893496572971344, 0.019802751019597054, 0.025829361751675606, 0.01607949286699295, 0.016656851395964622, 0.025818219408392906, 0.012892835773527622, 0.02911144495010376, 0.020739203318953514, 0.017621519044041634, 0.02965443581342697, 0.024281151592731476, 0.028045890852808952, 0.05205392837524414, 0.04263105243444443, 0.032518111169338226, 0.03738032653927803, 0.038434360176324844, 0.03982124105095863, 0.02629013918340206, 0.0352063924074173, 0.03138631954789162, 0.03282345086336136, 0.06194700673222542, 0.037625428289175034, 0.04021657630801201, 0.0, 0.0, 0.0], [0.1222902163863182, 0.02516898699104786, 0.0167140644043684, 0.022033261135220528, 0.02300073765218258, 0.015408718958497047, 0.01495801005512476, 0.018676765263080597, 0.026191167533397675, 0.012370297685265541, 0.010715771466493607, 0.021631909534335136, 0.013984640128910542, 0.02889923006296158, 0.02320098504424095, 0.018216609954833984, 0.024281233549118042, 0.018235331401228905, 0.02165396325290203, 0.03633745014667511, 0.03855650871992111, 0.036919448524713516, 0.033792268484830856, 0.042588260024785995, 0.03839157149195671, 0.02329576015472412, 0.030805258080363274, 0.024493306875228882, 0.03010578453540802, 0.05652609467506409, 0.037566833198070526, 0.04159916564822197, 0.05139036476612091, 0.0, 0.0], [0.13871708512306213, 0.021967247128486633, 0.016682984307408333, 0.021551374346017838, 0.026049228385090828, 0.01537912804633379, 0.01252230629324913, 0.0200252253562212, 0.021879857406020164, 0.014553078450262547, 0.01562824286520481, 0.018288586288690567, 0.012421746738255024, 0.023633433505892754, 0.017220675945281982, 0.02009168453514576, 0.02015186846256256, 0.018530186265707016, 0.024212492629885674, 0.07234081625938416, 0.034239377826452255, 0.030147049576044083, 0.03145884349942207, 0.0302029587328434, 0.03094874508678913, 0.02483321726322174, 0.030743274837732315, 0.022636577486991882, 0.04456690326333046, 0.04173138365149498, 0.028924643993377686, 0.029865331947803497, 0.04288144409656525, 0.02497304230928421, 0.0], [0.12327976524829865, 0.026707449927926064, 0.014834703877568245, 0.018021509051322937, 0.017764993011951447, 0.013351653702557087, 0.014073795638978481, 0.018723027780652046, 0.023980088531970978, 0.021256310865283012, 0.017004813998937607, 0.020616667345166206, 0.012905538082122803, 0.02609744481742382, 0.021554265171289444, 0.015845784917473793, 0.02278091385960579, 0.023595381528139114, 0.019861740991473198, 0.021922381594777107, 0.035971153527498245, 0.03369681537151337, 0.02117166854441166, 0.03536052256822586, 0.03450925275683403, 0.021897653117775917, 0.03512425720691681, 0.024112919345498085, 0.03299051895737648, 0.04677634686231613, 0.0304244551807642, 0.03270316869020462, 0.03790724650025368, 0.04262493923306465, 0.04055080562829971]], [[1.0, 0.0, 0.0, 0.0, 0.0, 0.0, 0.0, 0.0, 0.0, 0.0, 0.0, 0.0, 0.0, 0.0, 0.0, 0.0, 0.0, 0.0, 0.0, 0.0, 0.0, 0.0, 0.0, 0.0, 0.0, 0.0, 0.0, 0.0, 0.0, 0.0, 0.0, 0.0, 0.0, 0.0, 0.0], [0.6533873081207275, 0.34661275148391724, 0.0, 0.0, 0.0, 0.0, 0.0, 0.0, 0.0, 0.0, 0.0, 0.0, 0.0, 0.0, 0.0, 0.0, 0.0, 0.0, 0.0, 0.0, 0.0, 0.0, 0.0, 0.0, 0.0, 0.0, 0.0, 0.0, 0.0, 0.0, 0.0, 0.0, 0.0, 0.0, 0.0], [0.44511184096336365, 0.33376824855804443, 0.22111999988555908, 0.0, 0.0, 0.0, 0.0, 0.0, 0.0, 0.0, 0.0, 0.0, 0.0, 0.0, 0.0, 0.0, 0.0, 0.0, 0.0, 0.0, 0.0, 0.0, 0.0, 0.0, 0.0, 0.0, 0.0, 0.0, 0.0, 0.0, 0.0, 0.0, 0.0, 0.0, 0.0], [0.5459807515144348, 0.1529107391834259, 0.07645455747842789, 0.22465397417545319, 0.0, 0.0, 0.0, 0.0, 0.0, 0.0, 0.0, 0.0, 0.0, 0.0, 0.0, 0.0, 0.0, 0.0, 0.0, 0.0, 0.0, 0.0, 0.0, 0.0, 0.0, 0.0, 0.0, 0.0, 0.0, 0.0, 0.0, 0.0, 0.0, 0.0, 0.0], [0.4272027611732483, 0.1412525475025177, 0.061439741402864456, 0.11979995667934418, 0.2503049969673157, 0.0, 0.0, 0.0, 0.0, 0.0, 0.0, 0.0, 0.0, 0.0, 0.0, 0.0, 0.0, 0.0, 0.0, 0.0, 0.0, 0.0, 0.0, 0.0, 0.0, 0.0, 0.0, 0.0, 0.0, 0.0, 0.0, 0.0, 0.0, 0.0, 0.0], [0.40979307889938354, 0.11732906103134155, 0.06548824906349182, 0.12367469072341919, 0.042223718017339706, 0.2414911985397339, 0.0, 0.0, 0.0, 0.0, 0.0, 0.0, 0.0, 0.0, 0.0, 0.0, 0.0, 0.0, 0.0, 0.0, 0.0, 0.0, 0.0, 0.0, 0.0, 0.0, 0.0, 0.0, 0.0, 0.0, 0.0, 0.0, 0.0, 0.0, 0.0], [0.3643516004085541, 0.15547120571136475, 0.08527874946594238, 0.08832608163356781, 0.04993732273578644, 0.03409622982144356, 0.22253884375095367, 0.0, 0.0, 0.0, 0.0, 0.0, 0.0, 0.0, 0.0, 0.0, 0.0, 0.0, 0.0, 0.0, 0.0, 0.0, 0.0, 0.0, 0.0, 0.0, 0.0, 0.0, 0.0, 0.0, 0.0, 0.0, 0.0, 0.0, 0.0], [0.3562684953212738, 0.09063339233398438, 0.050068147480487823, 0.10755761712789536, 0.06895480304956436, 0.04669607803225517, 0.04097531735897064, 0.23884615302085876, 0.0, 0.0, 0.0, 0.0, 0.0, 0.0, 0.0, 0.0, 0.0, 0.0, 0.0, 0.0, 0.0, 0.0, 0.0, 0.0, 0.0, 0.0, 0.0, 0.0, 0.0, 0.0, 0.0, 0.0, 0.0, 0.0, 0.0], [0.3461388945579529, 0.14562256634235382, 0.09470635652542114, 0.104996457695961, 0.06400175392627716, 0.04047238454222679, 0.03757920861244202, 0.044482164084911346, 0.12200023233890533, 0.0, 0.0, 0.0, 0.0, 0.0, 0.0, 0.0, 0.0, 0.0, 0.0, 0.0, 0.0, 0.0, 0.0, 0.0, 0.0, 0.0, 0.0, 0.0, 0.0, 0.0, 0.0, 0.0, 0.0, 0.0, 0.0], [0.20510227978229523, 0.04824316129088402, 0.05157081037759781, 0.09953971207141876, 0.06673122197389603, 0.04558688402175903, 0.03648392856121063, 0.08169862627983093, 0.08583586663007736, 0.2792075276374817, 0.0, 0.0, 0.0, 0.0, 0.0, 0.0, 0.0, 0.0, 0.0, 0.0, 0.0, 0.0, 0.0, 0.0, 0.0, 0.0, 0.0, 0.0, 0.0, 0.0, 0.0, 0.0, 0.0, 0.0, 0.0], [0.2301696240901947, 0.07576316595077515, 0.06243026256561279, 0.061968374997377396, 0.050248246639966965, 0.03796260058879852, 0.057705141603946686, 0.056173257529735565, 0.06585752218961716, 0.04166557267308235, 0.2600562274456024, 0.0, 0.0, 0.0, 0.0, 0.0, 0.0, 0.0, 0.0, 0.0, 0.0, 0.0, 0.0, 0.0, 0.0, 0.0, 0.0, 0.0, 0.0, 0.0, 0.0, 0.0, 0.0, 0.0, 0.0], [0.2668822407722473, 0.0996926873922348, 0.06880500167608261, 0.1011010929942131, 0.036257676780223846, 0.048760294914245605, 0.031795430928468704, 0.03426746651530266, 0.09192277491092682, 0.04406016319990158, 0.024279993027448654, 0.1521751880645752, 0.0, 0.0, 0.0, 0.0, 0.0, 0.0, 0.0, 0.0, 0.0, 0.0, 0.0, 0.0, 0.0, 0.0, 0.0, 0.0, 0.0, 0.0, 0.0, 0.0, 0.0, 0.0, 0.0], [0.24808596074581146, 0.059437572956085205, 0.036453068256378174, 0.09643885493278503, 0.046652551740407944, 0.043580614030361176, 0.026409663259983063, 0.03871847316622734, 0.06937099248170853, 0.035532146692276, 0.02358422242105007, 0.058249205350875854, 0.21748657524585724, 0.0, 0.0, 0.0, 0.0, 0.0, 0.0, 0.0, 0.0, 0.0, 0.0, 0.0, 0.0, 0.0, 0.0, 0.0, 0.0, 0.0, 0.0, 0.0, 0.0, 0.0, 0.0], [0.22227585315704346, 0.08784300833940506, 0.06428327411413193, 0.07245952636003494, 0.051530078053474426, 0.033541664481163025, 0.031511493027210236, 0.04395980015397072, 0.10531803220510483, 0.036292850971221924, 0.03349635377526283, 0.07923727482557297, 0.03496610000729561, 0.10328467935323715, 0.0, 0.0, 0.0, 0.0, 0.0, 0.0, 0.0, 0.0, 0.0, 0.0, 0.0, 0.0, 0.0, 0.0, 0.0, 0.0, 0.0, 0.0, 0.0, 0.0, 0.0], [0.2625540494918823, 0.07451015710830688, 0.04962189495563507, 0.0651395246386528, 0.0221824049949646, 0.03923411667346954, 0.021433910354971886, 0.02829248644411564, 0.06496230512857437, 0.02216963656246662, 0.018070971593260765, 0.05796554312109947, 0.01818801276385784, 0.06176505982875824, 0.1939098834991455, 0.0, 0.0, 0.0, 0.0, 0.0, 0.0, 0.0, 0.0, 0.0, 0.0, 0.0, 0.0, 0.0, 0.0, 0.0, 0.0, 0.0, 0.0, 0.0, 0.0], [0.2145461142063141, 0.052079539746046066, 0.04338602349162102, 0.05108675733208656, 0.02305704914033413, 0.039872970432043076, 0.021457547321915627, 0.0431031696498394, 0.057124003767967224, 0.047324106097221375, 0.02007635124027729, 0.04863850399851799, 0.03173768147826195, 0.05389070883393288, 0.03922811895608902, 0.21339133381843567, 0.0, 0.0, 0.0, 0.0, 0.0, 0.0, 0.0, 0.0, 0.0, 0.0, 0.0, 0.0, 0.0, 0.0, 0.0, 0.0, 0.0, 0.0, 0.0], [0.1693463772535324, 0.05758475512266159, 0.04318230599164963, 0.06501621752977371, 0.025769708678126335, 0.03584060072898865, 0.02340392954647541, 0.028633086010813713, 0.06884392350912094, 0.03735612332820892, 0.021079324185848236, 0.12265526503324509, 0.025184905156493187, 0.07096561044454575, 0.049235545098781586, 0.02845790982246399, 0.12744443118572235, 0.0, 0.0, 0.0, 0.0, 0.0, 0.0, 0.0, 0.0, 0.0, 0.0, 0.0, 0.0, 0.0, 0.0, 0.0, 0.0, 0.0, 0.0], [0.1294490545988083, 0.04351518303155899, 0.028707355260849, 0.04557257145643234, 0.02128218673169613, 0.019885344430804253, 0.028857694938778877, 0.034781116992235184, 0.05532592535018921, 0.030885061249136925, 0.02108754962682724, 0.06504064798355103, 0.040431585162878036, 0.05797602981328964, 0.04136981442570686, 0.028544070199131966, 0.06784921139478683, 0.23943956196308136, 0.0, 0.0, 0.0, 0.0, 0.0, 0.0, 0.0, 0.0, 0.0, 0.0, 0.0, 0.0, 0.0, 0.0, 0.0, 0.0, 0.0], [0.14163610339164734, 0.035789649933576584, 0.02836523950099945, 0.04538756236433983, 0.04637839272618294, 0.039788708090782166, 0.014343786984682083, 0.04959797486662865, 0.04732619598507881, 0.030782438814640045, 0.018412165343761444, 0.04871036857366562, 0.023401634767651558, 0.04745563864707947, 0.03751208633184433, 0.023782702162861824, 0.04894063621759415, 0.033790670335292816, 0.2385980188846588, 0.0, 0.0, 0.0, 0.0, 0.0, 0.0, 0.0, 0.0, 0.0, 0.0, 0.0, 0.0, 0.0, 0.0, 0.0, 0.0], [0.13350322842597961, 0.03222054988145828, 0.02058890089392662, 0.037802185863256454, 0.04108010604977608, 0.03671092540025711, 0.025954408571124077, 0.04136638343334198, 0.043265704065561295, 0.03009646385908127, 0.02681291103363037, 0.040106941014528275, 0.024385903030633926, 0.04430920258164406, 0.033737413585186005, 0.02071092464029789, 0.04079743102192879, 0.03265015780925751, 0.03506242856383324, 0.25883781909942627, 0.0, 0.0, 0.0, 0.0, 0.0, 0.0, 0.0, 0.0, 0.0, 0.0, 0.0, 0.0, 0.0, 0.0, 0.0], [0.11974351108074188, 0.03914883732795715, 0.028956564143300056, 0.033427074551582336, 0.037695929408073425, 0.0205438993871212, 0.017558962106704712, 0.0326584167778492, 0.06372418999671936, 0.03310192748904228, 0.029867948964238167, 0.053869184106588364, 0.022512974217534065, 0.07236675173044205, 0.041434258222579956, 0.03790142387151718, 0.06002622842788696, 0.045860208570957184, 0.050910960882902145, 0.031955886632204056, 0.1267348974943161, 0.0, 0.0, 0.0, 0.0, 0.0, 0.0, 0.0, 0.0, 0.0, 0.0, 0.0, 0.0, 0.0, 0.0], [0.11878615617752075, 0.039572034031152725, 0.023222975432872772, 0.05364081636071205, 0.03261677920818329, 0.01737094856798649, 0.011663910001516342, 0.016273822635412216, 0.050143029540777206, 0.01326026115566492, 0.010486901737749577, 0.03813209384679794, 0.041936688125133514, 0.05336223915219307, 0.030980000272393227, 0.019617727026343346, 0.04024156183004379, 0.032441604882478714, 0.02054012380540371, 0.02684551291167736, 0.05771110579371452, 0.25115373730659485, 0.0, 0.0, 0.0, 0.0, 0.0, 0.0, 0.0, 0.0, 0.0, 0.0, 0.0, 0.0, 0.0], [0.1059650182723999, 0.036398228257894516, 0.02373066358268261, 0.02770346589386463, 0.029520336538553238, 0.01695851795375347, 0.009277227334678173, 0.019281186163425446, 0.043534502387046814, 0.02543572336435318, 0.01544105913490057, 0.041617266833782196, 0.018472319468855858, 0.04617343470454216, 0.026975229382514954, 0.016877302899956703, 0.043659280985593796, 0.020190222188830376, 0.018645785748958588, 0.016359709203243256, 0.05703482776880264, 0.06433958560228348, 0.2764090895652771, 0.0, 0.0, 0.0, 0.0, 0.0, 0.0, 0.0, 0.0, 0.0, 0.0, 0.0, 0.0], [0.08669395744800568, 0.14005149900913239, 0.054043419659137726, 0.026910439133644104, 0.026933513581752777, 0.016936616972088814, 0.01752723753452301, 0.011132634244859219, 0.03316717594861984, 0.009116588160395622, 0.014021697454154491, 0.02812526933848858, 0.012107604183256626, 0.036274369806051254, 0.030991656705737114, 0.015099084936082363, 0.03022146411240101, 0.02081548050045967, 0.018955033272504807, 0.021182602271437645, 0.04364988952875137, 0.043773483484983444, 0.025040635839104652, 0.23722875118255615, 0.0, 0.0, 0.0, 0.0, 0.0, 0.0, 0.0, 0.0, 0.0, 0.0, 0.0], [0.1050545945763588, 0.02472284995019436, 0.023438582196831703, 0.02425646223127842, 0.021477708593010902, 0.01411109883338213, 0.012018014676868916, 0.01570729911327362, 0.042195845395326614, 0.01680336892604828, 0.011159350164234638, 0.03127181529998779, 0.02032068930566311, 0.047023363411426544, 0.039886780083179474, 0.025853369385004044, 0.03450959548354149, 0.024522602558135986, 0.01759421080350876, 0.021597163751721382, 0.06303169578313828, 0.050369877368211746, 0.02654913440346718, 0.040915295481681824, 0.24560922384262085, 0.0, 0.0, 0.0, 0.0, 0.0, 0.0, 0.0, 0.0, 0.0, 0.0], [0.07146886736154556, 0.015683099627494812, 0.019199561327695847, 0.02765510231256485, 0.02588873915374279, 0.011495737358927727, 0.013834549114108086, 0.0250062458217144, 0.0328575037419796, 0.04069042578339577, 0.019407065585255623, 0.036282774060964584, 0.026671355590224266, 0.03698844835162163, 0.025391345843672752, 0.012203282676637173, 0.04081624001264572, 0.022441430017352104, 0.018680062144994736, 0.03714069351553917, 0.05291351303458214, 0.03374898061156273, 0.036007050424814224, 0.027396056801080704, 0.041577912867069244, 0.24855388700962067, 0.0, 0.0, 0.0, 0.0, 0.0, 0.0, 0.0, 0.0, 0.0], [0.09520062059164047, 0.023399097844958305, 0.016249949112534523, 0.03728702664375305, 0.02706948108971119, 0.02442619577050209, 0.01691671460866928, 0.020519252866506577, 0.035614464432001114, 0.0172467902302742, 0.01696518063545227, 0.03067062422633171, 0.01476179901510477, 0.037838950753211975, 0.025590205565094948, 0.013281546533107758, 0.03275727480649948, 0.016981476917862892, 0.012912827543914318, 0.04096674919128418, 0.04452373832464218, 0.032888542860746384, 0.021862002089619637, 0.02890506573021412, 0.02522219717502594, 0.015681950375437737, 0.2742602229118347, 0.0, 0.0, 0.0, 0.0, 0.0, 0.0, 0.0, 0.0], [0.07106206566095352, 0.02223449945449829, 0.01544252596795559, 0.028806837275624275, 0.02491171471774578, 0.014096679165959358, 0.01092530321329832, 0.02235645242035389, 0.028251037001609802, 0.025925250723958015, 0.012314549647271633, 0.03621361404657364, 0.0176627729088068, 0.031407054513692856, 0.01859503984451294, 0.018171401694417, 0.040066659450531006, 0.022728295996785164, 0.02500053495168686, 0.04014963284134865, 0.04249803349375725, 0.026281606405973434, 0.023634903132915497, 0.03034823201596737, 0.028446583077311516, 0.04931708425283432, 0.04533270001411438, 0.22781892120838165, 0.0, 0.0, 0.0, 0.0, 0.0, 0.0, 0.0], [0.1199868693947792, 0.03201313316822052, 0.020363764837384224, 0.03192231059074402, 0.020111484453082085, 0.017741894349455833, 0.014963153749704361, 0.014099689200520515, 0.0323602631688118, 0.012826556339859962, 0.01920422725379467, 0.024741899222135544, 0.014775939285755157, 0.03365084156394005, 0.03285077586770058, 0.01563302055001259, 0.0263309758156538, 0.009946920908987522, 0.010015268810093403, 0.023254673928022385, 0.03898428753018379, 0.03491940349340439, 0.011989151127636433, 0.03053087182343006, 0.023813730105757713, 0.0189790241420269, 0.06846079975366592, 0.019141538068652153, 0.22638750076293945, 0.0, 0.0, 0.0, 0.0, 0.0, 0.0], [0.0711139589548111, 0.02304501086473465, 0.017407838255167007, 0.025577742606401443, 0.018817277625203133, 0.014406668022274971, 0.011364500038325787, 0.019742920994758606, 0.037803780287504196, 0.017498360946774483, 0.012214533984661102, 0.034711793065071106, 0.016245104372501373, 0.0449482686817646, 0.031461041420698166, 0.017976263538002968, 0.040775004774332047, 0.02623201161623001, 0.02910454198718071, 0.03286314755678177, 0.06312329322099686, 0.03996739536523819, 0.03193743899464607, 0.05005760118365288, 0.050039853900671005, 0.02629847638309002, 0.04067577049136162, 0.03425350785255432, 0.033614423125982285, 0.08672250062227249, 0.0, 0.0, 0.0, 0.0, 0.0], [0.06342679262161255, 0.018928568810224533, 0.015915194526314735, 0.022974476218223572, 0.01581357792019844, 0.011996149085462093, 0.006959729827940464, 0.01044058334082365, 0.02760443463921547, 0.014203780330717564, 0.011755007319152355, 0.02697419933974743, 0.015696220099925995, 0.03244095668196678, 0.02146400883793831, 0.016300220042467117, 0.0315910205245018, 0.01829562894999981, 0.024074891582131386, 0.018299629911780357, 0.04905860498547554, 0.03294461593031883, 0.03169502690434456, 0.04070066660642624, 0.05526787042617798, 0.03228399530053139, 0.01833721064031124, 0.020621933043003082, 0.02061566896736622, 0.061421554535627365, 0.21189774572849274, 0.0, 0.0, 0.0, 0.0], [0.059031225740909576, 0.011650340631604195, 0.011906319297850132, 0.020305125042796135, 0.01582455448806286, 0.011342639103531837, 0.012165096588432789, 0.02051454968750477, 0.024635130539536476, 0.01787753403186798, 0.008976955898106098, 0.027097539976239204, 0.01015136856585741, 0.029500093311071396, 0.022961728274822235, 0.01152713131159544, 0.032491885125637054, 0.02021908201277256, 0.02027125097811222, 0.02760496735572815, 0.04230693355202675, 0.022920364513993263, 0.027398385107517242, 0.024839352816343307, 0.02841997891664505, 0.04172163084149361, 0.0314212366938591, 0.03520328924059868, 0.03063124231994152, 0.06006474792957306, 0.045377377420663834, 0.19364091753959656, 0.0, 0.0, 0.0], [0.08590574562549591, 0.014704101718962193, 0.010510568507015705, 0.02869984321296215, 0.016654493287205696, 0.012795398011803627, 0.009235285222530365, 0.014819215051829815, 0.028232719749212265, 0.011867674998939037, 0.009268180467188358, 0.023044349625706673, 0.017553269863128662, 0.03295404464006424, 0.02501373365521431, 0.012247501872479916, 0.02679956704378128, 0.013326535932719707, 0.016479838639497757, 0.034728214144706726, 0.03980801999568939, 0.05067336931824684, 0.030861180275678635, 0.027551837265491486, 0.036164216697216034, 0.01740611158311367, 0.04716059938073158, 0.025891834869980812, 0.02839728444814682, 0.06047138199210167, 0.03584859147667885, 0.03886667639017105, 0.11605864018201828, 0.0, 0.0], [0.056707713752985, 0.015243272297084332, 0.009892582893371582, 0.017495421692728996, 0.03529244288802147, 0.015370243228971958, 0.010747749358415604, 0.01709159091114998, 0.02124500647187233, 0.013064500875771046, 0.006394116207957268, 0.02176818624138832, 0.011015364900231361, 0.023290839046239853, 0.02097102627158165, 0.012346651405096054, 0.024119654670357704, 0.013815038837492466, 0.016820495948195457, 0.0345151424407959, 0.030974801629781723, 0.032177556306123734, 0.03227025642991066, 0.02327035181224346, 0.02725941501557827, 0.01785033755004406, 0.057764314115047455, 0.024271579459309578, 0.02524302341043949, 0.03774581849575043, 0.015895815566182137, 0.026596596464514732, 0.04215161129832268, 0.20932146906852722, 0.0], [0.04736970737576485, 0.013491555117070675, 0.008601197972893715, 0.0115343714132905, 0.03260952979326248, 0.00875001773238182, 0.010495420545339584, 0.015973463654518127, 0.024224916473031044, 0.013959750533103943, 0.011584165506064892, 0.020906997844576836, 0.012310193851590157, 0.02849937602877617, 0.014403223991394043, 0.011428188532590866, 0.024424538016319275, 0.021284056827425957, 0.027576269581913948, 0.025762224569916725, 0.04914955049753189, 0.02154945582151413, 0.020725881680846214, 0.030232436954975128, 0.04683733731508255, 0.02172248624265194, 0.020257210358977318, 0.019149551168084145, 0.01053390558809042, 0.05002592131495476, 0.030405579134821892, 0.022812239825725555, 0.029462488368153572, 0.039963189512491226, 0.20198364555835724]], [[1.0, 0.0, 0.0, 0.0, 0.0, 0.0, 0.0, 0.0, 0.0, 0.0, 0.0, 0.0, 0.0, 0.0, 0.0, 0.0, 0.0, 0.0, 0.0, 0.0, 0.0, 0.0, 0.0, 0.0, 0.0, 0.0, 0.0, 0.0, 0.0, 0.0, 0.0, 0.0, 0.0, 0.0, 0.0], [0.8253123164176941, 0.1746876984834671, 0.0, 0.0, 0.0, 0.0, 0.0, 0.0, 0.0, 0.0, 0.0, 0.0, 0.0, 0.0, 0.0, 0.0, 0.0, 0.0, 0.0, 0.0, 0.0, 0.0, 0.0, 0.0, 0.0, 0.0, 0.0, 0.0, 0.0, 0.0, 0.0, 0.0, 0.0, 0.0, 0.0], [0.758050262928009, 0.13029678165912628, 0.11165294796228409, 0.0, 0.0, 0.0, 0.0, 0.0, 0.0, 0.0, 0.0, 0.0, 0.0, 0.0, 0.0, 0.0, 0.0, 0.0, 0.0, 0.0, 0.0, 0.0, 0.0, 0.0, 0.0, 0.0, 0.0, 0.0, 0.0, 0.0, 0.0, 0.0, 0.0, 0.0, 0.0], [0.7232239842414856, 0.0827442854642868, 0.07870826870203018, 0.11532340198755264, 0.0, 0.0, 0.0, 0.0, 0.0, 0.0, 0.0, 0.0, 0.0, 0.0, 0.0, 0.0, 0.0, 0.0, 0.0, 0.0, 0.0, 0.0, 0.0, 0.0, 0.0, 0.0, 0.0, 0.0, 0.0, 0.0, 0.0, 0.0, 0.0, 0.0, 0.0], [0.5594542026519775, 0.08694439381361008, 0.09115549176931381, 0.09393443167209625, 0.1685115098953247, 0.0, 0.0, 0.0, 0.0, 0.0, 0.0, 0.0, 0.0, 0.0, 0.0, 0.0, 0.0, 0.0, 0.0, 0.0, 0.0, 0.0, 0.0, 0.0, 0.0, 0.0, 0.0, 0.0, 0.0, 0.0, 0.0, 0.0, 0.0, 0.0, 0.0], [0.5031397342681885, 0.08192656189203262, 0.05872314050793648, 0.10480903834104538, 0.1521419882774353, 0.09925954788923264, 0.0, 0.0, 0.0, 0.0, 0.0, 0.0, 0.0, 0.0, 0.0, 0.0, 0.0, 0.0, 0.0, 0.0, 0.0, 0.0, 0.0, 0.0, 0.0, 0.0, 0.0, 0.0, 0.0, 0.0, 0.0, 0.0, 0.0, 0.0, 0.0], [0.5279609560966492, 0.058259788900613785, 0.06836587935686111, 0.11652133613824844, 0.11039456725120544, 0.06918039172887802, 0.049317069351673126, 0.0, 0.0, 0.0, 0.0, 0.0, 0.0, 0.0, 0.0, 0.0, 0.0, 0.0, 0.0, 0.0, 0.0, 0.0, 0.0, 0.0, 0.0, 0.0, 0.0, 0.0, 0.0, 0.0, 0.0, 0.0, 0.0, 0.0, 0.0], [0.30010077357292175, 0.08826003223657608, 0.05834929645061493, 0.10984239727258682, 0.1686263084411621, 0.12896904349327087, 0.023227617144584656, 0.12262453883886337, 0.0, 0.0, 0.0, 0.0, 0.0, 0.0, 0.0, 0.0, 0.0, 0.0, 0.0, 0.0, 0.0, 0.0, 0.0, 0.0, 0.0, 0.0, 0.0, 0.0, 0.0, 0.0, 0.0, 0.0, 0.0, 0.0, 0.0], [0.39344051480293274, 0.047586195170879364, 0.051949676126241684, 0.07471577823162079, 0.11950987577438354, 0.059380386024713516, 0.02336861565709114, 0.102664053440094, 0.12738502025604248, 0.0, 0.0, 0.0, 0.0, 0.0, 0.0, 0.0, 0.0, 0.0, 0.0, 0.0, 0.0, 0.0, 0.0, 0.0, 0.0, 0.0, 0.0, 0.0, 0.0, 0.0, 0.0, 0.0, 0.0, 0.0, 0.0], [0.3446025848388672, 0.050329018384218216, 0.0599132664501667, 0.0448312871158123, 0.15738151967525482, 0.06782463192939758, 0.03229011222720146, 0.07052528113126755, 0.08953908085823059, 0.08276328444480896, 0.0, 0.0, 0.0, 0.0, 0.0, 0.0, 0.0, 0.0, 0.0, 0.0, 0.0, 0.0, 0.0, 0.0, 0.0, 0.0, 0.0, 0.0, 0.0, 0.0, 0.0, 0.0, 0.0, 0.0, 0.0], [0.33508479595184326, 0.04626999795436859, 0.04785763472318649, 0.10917432606220245, 0.04435233771800995, 0.044907256960868835, 0.028443867340683937, 0.0792061910033226, 0.10731324553489685, 0.06832480430603027, 0.08906552940607071, 0.0, 0.0, 0.0, 0.0, 0.0, 0.0, 0.0, 0.0, 0.0, 0.0, 0.0, 0.0, 0.0, 0.0, 0.0, 0.0, 0.0, 0.0, 0.0, 0.0, 0.0, 0.0, 0.0, 0.0], [0.31157219409942627, 0.03927763178944588, 0.03521272912621498, 0.0755099281668663, 0.08078573644161224, 0.04503688961267471, 0.028806505724787712, 0.10218675434589386, 0.08797678351402283, 0.05585259944200516, 0.08571925759315491, 0.0520629957318306, 0.0, 0.0, 0.0, 0.0, 0.0, 0.0, 0.0, 0.0, 0.0, 0.0, 0.0, 0.0, 0.0, 0.0, 0.0, 0.0, 0.0, 0.0, 0.0, 0.0, 0.0, 0.0, 0.0], [0.361469566822052, 0.06311225146055222, 0.026989929378032684, 0.0709579810500145, 0.039851732552051544, 0.029446516185998917, 0.02279636636376381, 0.07072702050209045, 0.11304391175508499, 0.033355191349983215, 0.03714420273900032, 0.04763942211866379, 0.08346597850322723, 0.0, 0.0, 0.0, 0.0, 0.0, 0.0, 0.0, 0.0, 0.0, 0.0, 0.0, 0.0, 0.0, 0.0, 0.0, 0.0, 0.0, 0.0, 0.0, 0.0, 0.0, 0.0], [0.26885923743247986, 0.032650746405124664, 0.03938185051083565, 0.050811443477869034, 0.08684229850769043, 0.043101973831653595, 0.017922358587384224, 0.06655362248420715, 0.07785408198833466, 0.04528901353478432, 0.06586873531341553, 0.046066053211688995, 0.07721766829490662, 0.08158092200756073, 0.0, 0.0, 0.0, 0.0, 0.0, 0.0, 0.0, 0.0, 0.0, 0.0, 0.0, 0.0, 0.0, 0.0, 0.0, 0.0, 0.0, 0.0, 0.0, 0.0, 0.0], [0.20790530741214752, 0.030814696103334427, 0.029462963342666626, 0.05067421868443489, 0.08743476867675781, 0.04770583659410477, 0.027333198115229607, 0.09152109175920486, 0.05214143916964531, 0.047082480043172836, 0.08081996440887451, 0.0545327253639698, 0.12074840813875198, 0.05516168475151062, 0.016661198809742928, 0.0, 0.0, 0.0, 0.0, 0.0, 0.0, 0.0, 0.0, 0.0, 0.0, 0.0, 0.0, 0.0, 0.0, 0.0, 0.0, 0.0, 0.0, 0.0, 0.0], [0.19932858645915985, 0.04206707328557968, 0.05715767666697502, 0.07193328440189362, 0.050658803433179855, 0.03152455762028694, 0.027136802673339844, 0.04140905663371086, 0.0932227224111557, 0.052022069692611694, 0.02542283572256565, 0.05927914008498192, 0.06613776087760925, 0.0958227589726448, 0.03163215145468712, 0.055244654417037964, 0.0, 0.0, 0.0, 0.0, 0.0, 0.0, 0.0, 0.0, 0.0, 0.0, 0.0, 0.0, 0.0, 0.0, 0.0, 0.0, 0.0, 0.0, 0.0], [0.23719795048236847, 0.030675798654556274, 0.029208479449152946, 0.058212388306856155, 0.060829851776361465, 0.03495609015226364, 0.02444051392376423, 0.0708492174744606, 0.05983855202794075, 0.039703454822301865, 0.05932590365409851, 0.03675239160656929, 0.07694026082754135, 0.06171645224094391, 0.014049733988940716, 0.06745625287294388, 0.0378466472029686, 0.0, 0.0, 0.0, 0.0, 0.0, 0.0, 0.0, 0.0, 0.0, 0.0, 0.0, 0.0, 0.0, 0.0, 0.0, 0.0, 0.0, 0.0], [0.2499532252550125, 0.02662949077785015, 0.039317574352025986, 0.044632140547037125, 0.07087577879428864, 0.0340941920876503, 0.021265029907226562, 0.05726420879364014, 0.05179663747549057, 0.03503984585404396, 0.043922796845436096, 0.03922875225543976, 0.061559129506349564, 0.051224227994680405, 0.015611975453794003, 0.08278116583824158, 0.038917429745197296, 0.035886358469724655, 0.0, 0.0, 0.0, 0.0, 0.0, 0.0, 0.0, 0.0, 0.0, 0.0, 0.0, 0.0, 0.0, 0.0, 0.0, 0.0, 0.0], [0.22269800305366516, 0.02651813067495823, 0.03978951275348663, 0.027604008093476295, 0.08196066319942474, 0.035829655826091766, 0.015378967858850956, 0.06874663382768631, 0.05343085527420044, 0.054698191583156586, 0.057215671986341476, 0.031615279614925385, 0.03717070817947388, 0.05228296294808388, 0.011851190589368343, 0.0720609575510025, 0.030878283083438873, 0.02441115491092205, 0.05585915222764015, 0.0, 0.0, 0.0, 0.0, 0.0, 0.0, 0.0, 0.0, 0.0, 0.0, 0.0, 0.0, 0.0, 0.0, 0.0, 0.0], [0.07419287413358688, 0.050926994532346725, 0.028230952098965645, 0.03420005366206169, 0.033614251762628555, 0.05182218924164772, 0.009658378548920155, 0.04940613731741905, 0.09883319586515427, 0.05356482416391373, 0.024581868201494217, 0.05879184231162071, 0.013026791624724865, 0.10889024287462234, 0.015677114948630333, 0.04766634479165077, 0.06507278978824615, 0.03886168450117111, 0.039842620491981506, 0.10313881933689117, 0.0, 0.0, 0.0, 0.0, 0.0, 0.0, 0.0, 0.0, 0.0, 0.0, 0.0, 0.0, 0.0, 0.0, 0.0], [0.22614891827106476, 0.025769881904125214, 0.03336166962981224, 0.04034487158060074, 0.06116845831274986, 0.03166025131940842, 0.023036981001496315, 0.04815824329853058, 0.049641288816928864, 0.025703292340040207, 0.051324229687452316, 0.029225805774331093, 0.04627237096428871, 0.046795472502708435, 0.010471497662365437, 0.04346736520528793, 0.027977751567959785, 0.03356108069419861, 0.03209925815463066, 0.055624037981033325, 0.05818727985024452, 0.0, 0.0, 0.0, 0.0, 0.0, 0.0, 0.0, 0.0, 0.0, 0.0, 0.0, 0.0, 0.0, 0.0], [0.1944299042224884, 0.020005803555250168, 0.025669973343610764, 0.027610069140791893, 0.07351991534233093, 0.025118578225374222, 0.016428446397185326, 0.05443365126848221, 0.044502679258584976, 0.022272871807217598, 0.029331276193261147, 0.03064262680709362, 0.06286600232124329, 0.0433916375041008, 0.010216004215180874, 0.09763482958078384, 0.029601432383060455, 0.028080472722649574, 0.037571635097265244, 0.05037401616573334, 0.06089740991592407, 0.015400814823806286, 0.0, 0.0, 0.0, 0.0, 0.0, 0.0, 0.0, 0.0, 0.0, 0.0, 0.0, 0.0, 0.0], [0.19766588509082794, 0.041157498955726624, 0.033601194620132446, 0.023870181292295456, 0.06633445620536804, 0.02801698073744774, 0.019582947716116905, 0.051785655319690704, 0.031591467559337616, 0.026536161080002785, 0.041643161326646805, 0.025757968425750732, 0.04328407719731331, 0.029939455911517143, 0.012750308960676193, 0.05606916546821594, 0.0246773399412632, 0.021505916491150856, 0.04559293016791344, 0.07480885088443756, 0.0443340428173542, 0.0219973623752594, 0.037497032433748245, 0.0, 0.0, 0.0, 0.0, 0.0, 0.0, 0.0, 0.0, 0.0, 0.0, 0.0, 0.0], [0.18043571710586548, 0.023349838331341743, 0.023929737508296967, 0.044541653245687485, 0.04070592299103737, 0.03654099628329277, 0.01661658100783825, 0.05323559045791626, 0.050283920019865036, 0.02584688737988472, 0.04605168104171753, 0.024920545518398285, 0.03976092115044594, 0.04893423616886139, 0.012390012852847576, 0.061916593462228775, 0.02396533638238907, 0.028754478320479393, 0.025095408782362938, 0.06865916401147842, 0.0735766738653183, 0.018046915531158447, 0.022800743579864502, 0.00964037049561739, 0.0, 0.0, 0.0, 0.0, 0.0, 0.0, 0.0, 0.0, 0.0, 0.0, 0.0], [0.24246364831924438, 0.024696459993720055, 0.03868826478719711, 0.033572301268577576, 0.054766181856393814, 0.03380468860268593, 0.020721618086099625, 0.032754622399806976, 0.04349980503320694, 0.01856265217065811, 0.036468490958213806, 0.031002487987279892, 0.03862546384334564, 0.03993181139230728, 0.010727168060839176, 0.038317687809467316, 0.029280314221978188, 0.024678131565451622, 0.027889320626854897, 0.045021578669548035, 0.04307599365711212, 0.016905829310417175, 0.023586299270391464, 0.0072986227460205555, 0.04366062581539154, 0.0, 0.0, 0.0, 0.0, 0.0, 0.0, 0.0, 0.0, 0.0, 0.0], [0.11111285537481308, 0.02945876307785511, 0.02455945685505867, 0.030902516096830368, 0.0338648222386837, 0.03363063931465149, 0.012831439264118671, 0.030669283121824265, 0.06390533596277237, 0.023481519892811775, 0.025704603642225266, 0.037669796496629715, 0.016167867928743362, 0.06660737097263336, 0.017231766134500504, 0.030658669769763947, 0.03924048691987991, 0.02429523505270481, 0.026388786733150482, 0.058640267699956894, 0.10666140913963318, 0.017623890191316605, 0.02424543723464012, 0.018279604613780975, 0.036750201135873795, 0.05941800773143768, 0.0, 0.0, 0.0, 0.0, 0.0, 0.0, 0.0, 0.0, 0.0], [0.17855210602283478, 0.04373873770236969, 0.027772285044193268, 0.03288250416517258, 0.08083146810531616, 0.03614852949976921, 0.019438134506344795, 0.03604714572429657, 0.03154062479734421, 0.02228383533656597, 0.02674209140241146, 0.020272960886359215, 0.04929489642381668, 0.028057042509317398, 0.010035552084445953, 0.028219010680913925, 0.01852661371231079, 0.025377949699759483, 0.039212293922901154, 0.052739884704351425, 0.024735096842050552, 0.028674781322479248, 0.029405994340777397, 0.013893150724470615, 0.017606468871235847, 0.05648735165596008, 0.02148348093032837, 0.0, 0.0, 0.0, 0.0, 0.0, 0.0, 0.0, 0.0], [0.15546512603759766, 0.049169376492500305, 0.02451593615114689, 0.02570052444934845, 0.05483129993081093, 0.042092740535736084, 0.011645037680864334, 0.06493962556123734, 0.031219737604260445, 0.02656279131770134, 0.0283268541097641, 0.018289048224687576, 0.03490861505270004, 0.02966100163757801, 0.008558593690395355, 0.046650480479002, 0.017669817432761192, 0.023724373430013657, 0.019038740545511246, 0.0771576315164566, 0.027307385578751564, 0.01974775269627571, 0.024364115670323372, 0.014429951086640358, 0.018928350880742073, 0.058505602180957794, 0.024364056065678596, 0.022225433960556984, 0.0, 0.0, 0.0, 0.0, 0.0, 0.0, 0.0], [0.19332922995090485, 0.026298345997929573, 0.030392471700906754, 0.029611900448799133, 0.0452016219496727, 0.03307906165719032, 0.021840771660208702, 0.026594175025820732, 0.045382823795080185, 0.03843946382403374, 0.02691538818180561, 0.024535102769732475, 0.015795717015862465, 0.04036760702729225, 0.01063427422195673, 0.026345476508140564, 0.022409794852137566, 0.01994604431092739, 0.04401850327849388, 0.06709349900484085, 0.03345473110675812, 0.0160849466919899, 0.02561587654054165, 0.011409511789679527, 0.013623231090605259, 0.04055492579936981, 0.016662979498505592, 0.035898882895708084, 0.018463708460330963, 0.0, 0.0, 0.0, 0.0, 0.0, 0.0], [0.15965193510055542, 0.018642349168658257, 0.026677707210183144, 0.0280478335916996, 0.04907771199941635, 0.026045674458146095, 0.01780770719051361, 0.03679425269365311, 0.045969411730766296, 0.019110895693302155, 0.037963204085826874, 0.027620617300271988, 0.028341040015220642, 0.04296436160802841, 0.008847585879266262, 0.03253019228577614, 0.02565998025238514, 0.024485118687152863, 0.029966216534376144, 0.04054071009159088, 0.04233502596616745, 0.017694557085633278, 0.02121768891811371, 0.006380947772413492, 0.031033918261528015, 0.03557972237467766, 0.025066176429390907, 0.026607496663928032, 0.02430843748152256, 0.04303153231739998, 0.0, 0.0, 0.0, 0.0, 0.0], [0.1966170370578766, 0.019791385158896446, 0.03303331881761551, 0.025687087327241898, 0.042206060141325, 0.03137582167983055, 0.01624363474547863, 0.030698416754603386, 0.03629426658153534, 0.02683933638036251, 0.026712186634540558, 0.023046307265758514, 0.021950097754597664, 0.033448364585638046, 0.010305731557309628, 0.022743649780750275, 0.021480804309248924, 0.021094733849167824, 0.031490400433540344, 0.03692729026079178, 0.037232112139463425, 0.01542199682444334, 0.019252337515354156, 0.007320489268749952, 0.024766921997070312, 0.04439166933298111, 0.019850734621286392, 0.026133660227060318, 0.01812446303665638, 0.042709071189165115, 0.036810584366321564, 0.0, 0.0, 0.0, 0.0], [0.16313210129737854, 0.022932492196559906, 0.029583675786852837, 0.02861548773944378, 0.0377846397459507, 0.026518696919083595, 0.026229020208120346, 0.031034154817461967, 0.03483205288648605, 0.018975621089339256, 0.03320293501019478, 0.026435934007167816, 0.03230736032128334, 0.0313292033970356, 0.01172788254916668, 0.027169134467840195, 0.02410651184618473, 0.022620312869548798, 0.02575555443763733, 0.038014139980077744, 0.03207404538989067, 0.017354249954223633, 0.017987210303544998, 0.009293689392507076, 0.042471375316381454, 0.031215865164995193, 0.019006576389074326, 0.021523455157876015, 0.01754119247198105, 0.04014519229531288, 0.018160762265324593, 0.04091950133442879, 0.0, 0.0, 0.0], [0.15803849697113037, 0.016828812658786774, 0.020642375573515892, 0.045382529497146606, 0.04664171114563942, 0.027835242450237274, 0.020206501707434654, 0.04211509972810745, 0.037034470587968826, 0.01774459145963192, 0.030353331938385963, 0.024713639169931412, 0.03428485989570618, 0.03341371938586235, 0.009082168340682983, 0.03521377220749855, 0.022280128672719002, 0.020850002765655518, 0.02739020623266697, 0.03231462836265564, 0.037649236619472504, 0.014920792542397976, 0.016553673893213272, 0.006309076678007841, 0.023218730464577675, 0.0279498603194952, 0.023832254111766815, 0.015323558822274208, 0.017670487985014915, 0.0268152616918087, 0.022188859060406685, 0.02869456261396408, 0.036507364362478256, 0.0, 0.0], [0.1701940894126892, 0.03212590888142586, 0.029870091006159782, 0.01961558125913143, 0.054893795400857925, 0.03622059524059296, 0.017152214422822, 0.032326590269804, 0.0315006859600544, 0.029624542221426964, 0.029094278812408447, 0.016624262556433678, 0.029989812523126602, 0.027614137157797813, 0.01094976719468832, 0.03436654433608055, 0.014830105938017368, 0.015176068060100079, 0.030502915382385254, 0.04159744456410408, 0.02064122073352337, 0.017041221261024475, 0.02617543749511242, 0.010538811795413494, 0.007441797759383917, 0.0343913733959198, 0.026077108457684517, 0.02961565926671028, 0.013693024404346943, 0.018074294552206993, 0.033748529851436615, 0.029002603143453598, 0.013117280788719654, 0.01617228239774704, 0.0], [0.11417394131422043, 0.016700688749551773, 0.023576240986585617, 0.032352834939956665, 0.055113621056079865, 0.02961665391921997, 0.01717638038098812, 0.05952785536646843, 0.0384342297911644, 0.020421098917722702, 0.03235999494791031, 0.019217435270547867, 0.019135111942887306, 0.03519751876592636, 0.010996293276548386, 0.044014427810907364, 0.016835955902934074, 0.01621248759329319, 0.023840539157390594, 0.04231659695506096, 0.03716839849948883, 0.009007311426103115, 0.01597953960299492, 0.005828784313052893, 0.02082640677690506, 0.028255829587578773, 0.03160592541098595, 0.02425203286111355, 0.0232852790504694, 0.019917482510209084, 0.02455977536737919, 0.021957378834486008, 0.01319314818829298, 0.020208802074193954, 0.03673402965068817]]]}\n",
              "    )\n",
              "    </script>"
            ]
          },
          "metadata": {}
        }
      ],
      "source": [
        "import circuitsvis as cv\n",
        "from IPython.display import display\n",
        "\n",
        "html = cv.attention.attention_patterns(\n",
        "    tokens=reference_gpt2.to_str_tokens(reference_text),\n",
        "    attention=cache[\"pattern\", 0][0]\n",
        ")\n",
        "display(html)"
      ]
    },
    {
      "cell_type": "markdown",
      "metadata": {
        "id": "PWWOyKPwcPXp"
      },
      "source": [
        "You can also use the `attention_heads` function, which has similar syntax but presents the information in a different (sometimes more helpful) way.\n"
      ]
    },
    {
      "cell_type": "markdown",
      "metadata": {
        "id": "yEZSwg6ucPXp"
      },
      "source": [
        "<details>\n",
        "<summary>Help - my <code>attention_heads</code> plots are behaving weirdly.</summary>\n",
        "\n",
        "This seems to be a bug in `circuitsvis` - on VSCode, the attention head plots continually shrink in size.\n",
        "\n",
        "Until this is fixed, one way to get around it is to open the plots in your browser. You can do this inline with the `webbrowser` library:\n",
        "\n",
        "```python\n",
        "attn_heads = cv.attention.attention_heads(\n",
        "    tokens=reference_gpt2.to_str_tokens(reference_text),\n",
        "    attention=cache[\"pattern\", 0][0]\n",
        ")\n",
        "\n",
        "path = \"attn_heads.html\"\n",
        "\n",
        "with open(path, \"w\") as f:\n",
        "    f.write(str(attn_heads))\n",
        "\n",
        "webbrowser.open(path)\n",
        "```\n",
        "\n",
        "To check exactly where this is getting saved, you can print your current working directory with `os.getcwd()`.\n",
        "</details>\n"
      ]
    },
    {
      "cell_type": "markdown",
      "metadata": {
        "id": "972Ltv3vtDOH"
      },
      "source": [
        "---\n",
        "\n",
        "Note - don't worry if you don't get 100% accuracy here; the tests are pretty stringent. Even things like having your `einsum` input arguments in a different order might result in the output being very slightly different. You should be getting at least 99% accuracy though, so if the value is lower then this it probably means you've made a mistake somewhere.\n",
        "\n",
        "Also, this implementation will probably be the most challenging exercise on this page, so don't worry if it takes you some time! You should look at parts of the solution if you're stuck.\n"
      ]
    },
    {
      "cell_type": "markdown",
      "metadata": {
        "id": "SHve8vRrcPXq"
      },
      "source": [
        "A couple of notes / hints:\n",
        "\n",
        "* Don't forget the attention score scaling (this should come before the masking).\n",
        "* You should overwrite your `Attention` class from earlier with the new implementation that initializes all the parameters, but copy in the your `apply_causal_mask` function.\n"
      ]
    },
    {
      "cell_type": "code",
      "execution_count": null,
      "metadata": {
        "colab": {
          "base_uri": "https://localhost:8080/"
        },
        "id": "wNOKYkvom4R_",
        "outputId": "c0902984-f006-42d9-dad5-f4bd5fec6625"
      },
      "outputs": [
        {
          "output_type": "stream",
          "name": "stdout",
          "text": [
            "All tests in `test_causal_mask` passed!\n",
            "Input shape: torch.Size([2, 4, 768])\n",
            "Output shape: torch.Size([2, 4, 768]) \n",
            "\n",
            "Input shape: torch.Size([1, 35, 768])\n",
            "Output shape: torch.Size([1, 35, 768])\n",
            "Reference output shape: torch.Size([1, 35, 768]) \n",
            "\n",
            "100.00% of the values are correct\n",
            "\n"
          ]
        }
      ],
      "source": [
        "class Attention(nn.Module):\n",
        "    IGNORE: Float[Tensor, \"\"]\n",
        "\n",
        "    def __init__(self, cfg: Config):\n",
        "        super().__init__()\n",
        "        self.cfg = cfg\n",
        "        self.W_Q = nn.Parameter(t.empty((cfg.n_heads, cfg.d_model, cfg.d_head)))\n",
        "        self.W_K = nn.Parameter(t.empty((cfg.n_heads, cfg.d_model, cfg.d_head)))\n",
        "        self.W_V = nn.Parameter(t.empty((cfg.n_heads, cfg.d_model, cfg.d_head)))\n",
        "        self.W_O = nn.Parameter(t.empty((cfg.n_heads, cfg.d_head, cfg.d_model)))\n",
        "        self.b_Q = nn.Parameter(t.zeros((cfg.n_heads, cfg.d_head)))\n",
        "        self.b_K = nn.Parameter(t.zeros((cfg.n_heads, cfg.d_head)))\n",
        "        self.b_V = nn.Parameter(t.zeros((cfg.n_heads, cfg.d_head)))\n",
        "        self.b_O = nn.Parameter(t.zeros((cfg.d_model)))\n",
        "        nn.init.normal_(self.W_Q, std=self.cfg.init_range)\n",
        "        nn.init.normal_(self.W_K, std=self.cfg.init_range)\n",
        "        nn.init.normal_(self.W_V, std=self.cfg.init_range)\n",
        "        nn.init.normal_(self.W_O, std=self.cfg.init_range)\n",
        "        self.register_buffer(\"IGNORE\", t.tensor(float(\"-inf\"), dtype=t.float32, device=device))\n",
        "\n",
        "    def forward(\n",
        "        self, normalized_resid_pre: Float[Tensor, \"batch posn d_model\"]\n",
        "    ) -> Float[Tensor, \"batch posn d_model\"]:\n",
        "        # Calculate query, key and value vectors\n",
        "        q = einops.einsum(\n",
        "            normalized_resid_pre, self.W_Q,\n",
        "            \"batch posn d_model, nheads d_model d_head -> batch posn nheads d_head\",\n",
        "        ) + self.b_Q\n",
        "        k = einops.einsum(\n",
        "            normalized_resid_pre, self.W_K,\n",
        "            \"batch posn d_model, nheads d_model d_head -> batch posn nheads d_head\",\n",
        "        ) + self.b_K\n",
        "        v = einops.einsum(\n",
        "            normalized_resid_pre, self.W_V,\n",
        "            \"batch posn d_model, nheads d_model d_head -> batch posn nheads d_head\",\n",
        "        ) + self.b_V\n",
        "\n",
        "        # Calculate attention scores, then scale and mask, and apply softmax to get probabilities\n",
        "        attn_scores = einops.einsum(\n",
        "            q, k,\n",
        "            \"batch posn_Q nheads d_head, batch posn_K nheads d_head -> batch nheads posn_Q posn_K\",\n",
        "        )\n",
        "        attn_scores_masked = self.apply_causal_mask(attn_scores / self.cfg.d_head ** 0.5)\n",
        "        attn_pattern = attn_scores_masked.softmax(-1)\n",
        "\n",
        "        # Take weighted sum of value vectors, according to attention probabilities\n",
        "        z = einops.einsum(\n",
        "            v, attn_pattern,\n",
        "            \"batch posn_K nheads d_head, batch nheads posn_Q posn_K -> batch posn_Q nheads d_head\",\n",
        "        )\n",
        "\n",
        "        # Calculate output (by applying matrix W_O and summing over heads, then adding bias b_O)\n",
        "        attn_out = einops.einsum(\n",
        "            z, self.W_O,\n",
        "            \"batch posn_Q nheads d_head, nheads d_head d_model -> batch posn_Q d_model\",\n",
        "        ) + self.b_O\n",
        "\n",
        "        return attn_out\n",
        "\n",
        "    def apply_causal_mask(\n",
        "        self, attn_scores: Float[Tensor, \"batch n_heads query_pos key_pos\"]\n",
        "    ) -> Float[Tensor, \"batch n_heads query_pos key_pos\"]:\n",
        "        '''\n",
        "        Applies a causal mask to attention scores, and returns masked scores.\n",
        "        '''\n",
        "        # Define a mask that is True for all positions we want to set probabilities to zero for\n",
        "        all_ones = t.ones(attn_scores.size(-2), attn_scores.size(-1), device=attn_scores.device)\n",
        "        mask = t.triu(all_ones, diagonal=1).bool()\n",
        "        # Apply the mask to attention scores, then return the masked scores\n",
        "        attn_scores.masked_fill_(mask, self.IGNORE)\n",
        "        return attn_scores\n",
        "\n",
        "tests.test_causal_mask(Attention.apply_causal_mask)\n",
        "rand_float_test(Attention, [2, 4, 768])\n",
        "load_gpt2_test(Attention, reference_gpt2.blocks[0].attn, cache[\"normalized\", 0, \"ln1\"])"
      ]
    },
    {
      "cell_type": "markdown",
      "metadata": {
        "id": "Cn0_PpeKt3UT"
      },
      "source": [
        "<details>\n",
        "<summary>Hint (pseudocode for the forward method)</summary>\n",
        "\n",
        "```python\n",
        "def forward(\n",
        "    self, normalized_resid_pre: Float[Tensor, \"batch posn d_model\"]\n",
        ") -> Float[Tensor, \"batch posn d_model\"]:\n",
        "\n",
        "    # Calculate query, key and value vectors\n",
        "\n",
        "    # Calculate attention scores, then scale and mask, and apply softmax to get probabilities\n",
        "\n",
        "    # Take weighted sum of value vectors, according to attention probabilities\n",
        "\n",
        "    # Calculate output (by applying matrix W_O and summing over heads, then adding bias b_O)\n",
        "```\n",
        "</details>"
      ]
    },
    {
      "cell_type": "markdown",
      "metadata": {
        "id": "5phgYX4Um4SA"
      },
      "source": [
        "## MLP\n",
        "\n",
        "```c\n",
        "Difficulty: 🔴🔴⚪⚪⚪\n",
        "Importance: 🔵🔵🔵🔵⚪\n",
        "\n",
        "You should spend up to 10-15 minutes on this exercise.\n",
        "```\n",
        "\n",
        "Next, you should implement the MLP layer, which consists of:\n",
        "\n",
        "* A linear layer, with weight `W_in`, bias `b_in`\n",
        "* A nonlinear function (we usually use GELU; the function `gelu_new` has been imported for this purpose)\n",
        "* A linear layer, with weight `W_out`, bias `b_out`\n"
      ]
    },
    {
      "cell_type": "code",
      "execution_count": null,
      "metadata": {
        "colab": {
          "base_uri": "https://localhost:8080/"
        },
        "id": "5ByI-Sj2m4SA",
        "outputId": "62e66e8a-f0c4-4047-c161-a06e8f398f2f"
      },
      "outputs": [
        {
          "output_type": "stream",
          "name": "stdout",
          "text": [
            "Input shape: torch.Size([2, 4, 768])\n",
            "Output shape: torch.Size([2, 4, 768]) \n",
            "\n",
            "Input shape: torch.Size([1, 35, 768])\n",
            "Output shape: torch.Size([1, 35, 768])\n",
            "Reference output shape: torch.Size([1, 35, 768]) \n",
            "\n",
            "100.00% of the values are correct\n",
            "\n"
          ]
        }
      ],
      "source": [
        "class MLP(nn.Module):\n",
        "    def __init__(self, cfg: Config):\n",
        "        super().__init__()\n",
        "        self.cfg = cfg\n",
        "        self.W_in = nn.Parameter(t.empty((cfg.d_model, cfg.d_mlp)))\n",
        "        self.W_out = nn.Parameter(t.empty((cfg.d_mlp, cfg.d_model)))\n",
        "        self.b_in = nn.Parameter(t.zeros((cfg.d_mlp)))\n",
        "        self.b_out = nn.Parameter(t.zeros((cfg.d_model)))\n",
        "        nn.init.normal_(self.W_in, std=self.cfg.init_range)\n",
        "        nn.init.normal_(self.W_out, std=self.cfg.init_range)\n",
        "\n",
        "    def forward(\n",
        "        self, normalized_resid_mid: Float[Tensor, \"batch posn d_model\"]\n",
        "    ) -> Float[Tensor, \"batch posn d_model\"]:\n",
        "        pre = einops.einsum(\n",
        "            normalized_resid_mid, self.W_in,\n",
        "            \"batch position d_model, d_model d_mlp -> batch position d_mlp\",\n",
        "        ) + self.b_in\n",
        "        post = gelu_new(pre)\n",
        "        mlp_out = einops.einsum(\n",
        "            post, self.W_out,\n",
        "            \"batch position d_mlp, d_mlp d_model -> batch position d_model\",\n",
        "        ) + self.b_out\n",
        "        return mlp_out\n",
        "\n",
        "\n",
        "rand_float_test(MLP, [2, 4, 768])\n",
        "load_gpt2_test(MLP, reference_gpt2.blocks[0].mlp, cache[\"normalized\", 0, \"ln2\"])"
      ]
    },
    {
      "cell_type": "markdown",
      "metadata": {
        "id": "wZWuD4I4m4SA"
      },
      "source": [
        "## Transformer Block\n",
        "\n",
        "```c\n",
        "Difficulty: 🔴🔴⚪⚪⚪\n",
        "Importance: 🔵🔵🔵⚪⚪\n",
        "\n",
        "You should spend up to ~10 minutes on this exercise.\n",
        "```\n",
        "\n",
        "Now, we can put together the attention, MLP and layernorms into a single transformer block. Remember to implement the residual connections correctly!\n"
      ]
    },
    {
      "cell_type": "code",
      "execution_count": null,
      "metadata": {
        "colab": {
          "base_uri": "https://localhost:8080/"
        },
        "id": "ffiFxAJzm4SA",
        "outputId": "524d9b53-71b4-46d7-bbd5-54d84e21e19a"
      },
      "outputs": [
        {
          "output_type": "stream",
          "name": "stdout",
          "text": [
            "Input shape: torch.Size([2, 4, 768])\n",
            "Output shape: torch.Size([2, 4, 768]) \n",
            "\n",
            "Input shape: torch.Size([1, 35, 768])\n",
            "Output shape: torch.Size([1, 35, 768])\n",
            "Reference output shape: torch.Size([1, 35, 768]) \n",
            "\n",
            "100.00% of the values are correct\n",
            "\n"
          ]
        }
      ],
      "source": [
        "class TransformerBlock(nn.Module):\n",
        "    def __init__(self, cfg: Config):\n",
        "        super().__init__()\n",
        "        self.cfg = cfg\n",
        "        self.ln1 = LayerNorm(cfg)\n",
        "        self.attn = Attention(cfg)\n",
        "        self.ln2 = LayerNorm(cfg)\n",
        "        self.mlp = MLP(cfg)\n",
        "\n",
        "    def forward(\n",
        "        self, resid_pre: Float[Tensor, \"batch position d_model\"]\n",
        "    ) -> Float[Tensor, \"batch position d_model\"]:\n",
        "        resid_mid = self.attn(self.ln1(resid_pre)) + resid_pre\n",
        "        resid_post = self.mlp(self.ln2(resid_mid)) + resid_mid\n",
        "        return resid_post\n",
        "\n",
        "\n",
        "rand_float_test(TransformerBlock, [2, 4, 768])\n",
        "load_gpt2_test(TransformerBlock, reference_gpt2.blocks[0], cache[\"resid_pre\", 0])"
      ]
    },
    {
      "cell_type": "markdown",
      "source": [
        "<details>\n",
        "<summary>Help - I'm getting 100% accuracy on all modules before this point, but only about 90% accuracy on this one.</summary>\n",
        "\n",
        "This might be because your layernorm implementation divides by `std + eps` rather than `(var + eps).sqrt()`. The latter matches the implementation used by GPT-2 (and this error only shows up in these tests).\n",
        "\n",
        "</details>"
      ],
      "metadata": {
        "id": "VxeGOLlmHV--"
      }
    },
    {
      "cell_type": "markdown",
      "metadata": {
        "id": "mgzAM-VQm4SA"
      },
      "source": [
        "## Unembedding\n",
        "\n",
        "```c\n",
        "Difficulty: 🔴🔴⚪⚪⚪\n",
        "Importance: 🔵🔵🔵⚪⚪\n",
        "\n",
        "You should spend up to ~10 minutes on this exercise.\n",
        "```\n",
        "\n",
        "The unembedding is just a linear layer (with weight `W_U` and bias `b_U`).\n"
      ]
    },
    {
      "cell_type": "code",
      "execution_count": null,
      "metadata": {
        "colab": {
          "base_uri": "https://localhost:8080/"
        },
        "id": "XEMB7p_Vm4SA",
        "outputId": "013532ae-c11b-4b23-992e-127a7e2e9a09"
      },
      "outputs": [
        {
          "output_type": "stream",
          "name": "stdout",
          "text": [
            "Input shape: torch.Size([2, 4, 768])\n",
            "Output shape: torch.Size([2, 4, 50257]) \n",
            "\n",
            "Input shape: torch.Size([1, 35, 768])\n",
            "Output shape: torch.Size([1, 35, 50257])\n",
            "Reference output shape: torch.Size([1, 35, 50257]) \n",
            "\n",
            "100.00% of the values are correct\n",
            "\n"
          ]
        }
      ],
      "source": [
        "class Unembed(nn.Module):\n",
        "    def __init__(self, cfg):\n",
        "        super().__init__()\n",
        "        self.cfg = cfg\n",
        "        self.W_U = nn.Parameter(t.empty((cfg.d_model, cfg.d_vocab)))\n",
        "        nn.init.normal_(self.W_U, std=self.cfg.init_range)\n",
        "        self.b_U = nn.Parameter(t.zeros((cfg.d_vocab), requires_grad=False))\n",
        "\n",
        "    def forward(\n",
        "        self, normalized_resid_final: Float[Tensor, \"batch position d_model\"]\n",
        "    ) -> Float[Tensor, \"batch position d_vocab\"]:\n",
        "        return einops.einsum(\n",
        "            normalized_resid_final, self.W_U,\n",
        "            \"batch posn d_model, d_model d_vocab -> batch posn d_vocab\",\n",
        "        ) + self.b_U\n",
        "        # Or, could just do `normalized_resid_final @ self.W_U + self.b_U`\n",
        "\n",
        "\n",
        "rand_float_test(Unembed, [2, 4, 768])\n",
        "load_gpt2_test(Unembed, reference_gpt2.unembed, cache[\"ln_final.hook_normalized\"])"
      ]
    },
    {
      "cell_type": "markdown",
      "metadata": {
        "id": "_eRyuDxLm4SB"
      },
      "source": [
        "## Full Transformer\n",
        "\n",
        "```c\n",
        "Difficulty: 🔴🔴⚪⚪⚪\n",
        "Importance: 🔵🔵🔵⚪⚪\n",
        "\n",
        "You should spend up to ~10 minutes on this exercise.\n",
        "```\n"
      ]
    },
    {
      "cell_type": "code",
      "execution_count": null,
      "metadata": {
        "colab": {
          "base_uri": "https://localhost:8080/"
        },
        "id": "KCCrXlzYm4SB",
        "outputId": "2beda014-ba2d-4aa2-d36f-967df360033d"
      },
      "outputs": [
        {
          "output_type": "stream",
          "name": "stdout",
          "text": [
            "Input shape: torch.Size([2, 4])\n",
            "Output shape: torch.Size([2, 4, 50257]) \n",
            "\n",
            "Input shape: torch.Size([1, 35])\n",
            "Output shape: torch.Size([1, 35, 50257])\n",
            "Reference output shape: torch.Size([1, 35, 50257]) \n",
            "\n",
            "100.00% of the values are correct\n",
            "\n"
          ]
        }
      ],
      "source": [
        "class DemoTransformer(nn.Module):\n",
        "    def __init__(self, cfg: Config):\n",
        "        super().__init__()\n",
        "        self.cfg = cfg\n",
        "        self.embed = Embed(cfg)\n",
        "        self.pos_embed = PosEmbed(cfg)\n",
        "        self.blocks = nn.ModuleList([TransformerBlock(cfg) for _ in range(cfg.n_layers)])\n",
        "        self.ln_final = LayerNorm(cfg)\n",
        "        self.unembed = Unembed(cfg)\n",
        "\n",
        "    def forward(self, tokens: Int[Tensor, \"batch position\"]) -> Float[Tensor, \"batch position d_vocab\"]:\n",
        "        residual = self.embed(tokens) + self.pos_embed(tokens)\n",
        "        for block in self.blocks:\n",
        "            residual = block(residual)\n",
        "        logits = self.unembed(self.ln_final(residual))\n",
        "        return logits\n",
        "\n",
        "\n",
        "rand_int_test(DemoTransformer, [2, 4])\n",
        "load_gpt2_test(DemoTransformer, reference_gpt2, tokens)"
      ]
    },
    {
      "cell_type": "markdown",
      "metadata": {
        "id": "yNwh7R1em4SB"
      },
      "source": [
        "**Try it out!**\n"
      ]
    },
    {
      "cell_type": "code",
      "execution_count": null,
      "metadata": {
        "id": "deE6uPlxm4SB"
      },
      "outputs": [],
      "source": [
        "demo_gpt2 = DemoTransformer(Config(debug=False)).to(device)\n",
        "demo_gpt2.load_state_dict(reference_gpt2.state_dict(), strict=False)\n",
        "\n",
        "demo_logits = demo_gpt2(tokens)"
      ]
    },
    {
      "cell_type": "markdown",
      "metadata": {
        "id": "gAhstai4m4SB"
      },
      "source": [
        "Let's take a test string, and calculate the loss!\n",
        "\n",
        "We're using the formula for **cross-entropy loss**. The cross entropy loss between a modelled distribution $Q$ and target distribution $P$ is:\n",
        "\n",
        "$$\n",
        "-\\sum_x P(x) \\log Q(x)\n",
        "$$\n",
        "\n",
        "In the case where $P$ is just the empirical distribution from target classes (i.e. $P(x^*) = 1$ for the correct class $x^*$) then this becomes:\n",
        "\n",
        "$$\n",
        "-\\log Q(x^*)\n",
        "$$\n",
        "\n",
        "in other words, the negative log prob of the true classification.\n"
      ]
    },
    {
      "cell_type": "code",
      "execution_count": null,
      "metadata": {
        "colab": {
          "base_uri": "https://localhost:8080/"
        },
        "id": "UtO9ZsL6m4SB",
        "outputId": "47e07f00-0f2c-4ad5-881a-6d58de577e30"
      },
      "outputs": [
        {
          "output_type": "stream",
          "name": "stdout",
          "text": [
            "Avg cross entropy loss: 4.5647\n",
            "Avg cross entropy loss for uniform distribution: 10.824905\n",
            "Avg probability assigned to correct token: 0.087910\n"
          ]
        }
      ],
      "source": [
        "def get_log_probs(\n",
        "    logits: Float[Tensor, \"batch posn d_vocab\"],\n",
        "    tokens: Int[Tensor, \"batch posn\"]\n",
        ") -> Float[Tensor, \"batch posn-1\"]:\n",
        "\n",
        "    log_probs = logits.log_softmax(dim=-1)\n",
        "    # Get logprobs the first seq_len-1 predictions (so we can compare them with the actual next tokens)\n",
        "    log_probs_for_tokens = log_probs[:, :-1].gather(dim=-1, index=tokens[:, 1:].unsqueeze(-1)).squeeze(-1)\n",
        "\n",
        "    return log_probs_for_tokens\n",
        "\n",
        "\n",
        "pred_log_probs = get_log_probs(demo_logits, tokens)\n",
        "print(f\"Avg cross entropy loss: {-pred_log_probs.mean():.4f}\")\n",
        "print(f\"Avg cross entropy loss for uniform distribution: {math.log(demo_gpt2.cfg.d_vocab):4f}\")\n",
        "print(f\"Avg probability assigned to correct token: {pred_log_probs.exp().mean():4f}\")"
      ]
    },
    {
      "cell_type": "markdown",
      "metadata": {
        "id": "cOChhr71m4SC"
      },
      "source": [
        "We can also greedily generate text, by taking the most likely next token and continually appending it to our prompt before feeding it back into the model:\n"
      ]
    },
    {
      "cell_type": "code",
      "execution_count": null,
      "metadata": {
        "colab": {
          "base_uri": "https://localhost:8080/",
          "referenced_widgets": [
            "a36388d1cd7d4c06b4ff0cf7f9a9e261",
            "0a171bf285c44e60bda69489a52e1e61",
            "42d0a45c61be4806b31dd5142b208141",
            "ffdd64c047884cfc9b45d56d4c547f93",
            "df9ad74c6f2a43a88f741e0faccd2c51",
            "942fb05fa3064f748ffaa984ad378a84",
            "393b28f820a94ec0838027af2ba60bf2",
            "d160d8a3b61b4c8984008b8ca17199b7",
            "0d63d9929a51456b9630674543352b8e",
            "25e55741622f4328b9940e8ca7c16389",
            "900ce3046c8b4d52974cb30dde07a8ba"
          ]
        },
        "id": "IPEmKN1Bm4SC",
        "outputId": "b28791c8-e6fa-442d-ea36-6b4da9502f40"
      },
      "outputs": [
        {
          "output_type": "display_data",
          "data": {
            "text/plain": [
              "  0%|          | 0/100 [00:00<?, ?it/s]"
            ],
            "application/vnd.jupyter.widget-view+json": {
              "version_major": 2,
              "version_minor": 0,
              "model_id": "a36388d1cd7d4c06b4ff0cf7f9a9e261"
            }
          },
          "metadata": {}
        },
        {
          "output_type": "stream",
          "name": "stdout",
          "text": [
            "The Total Perspective Vortex derives its picture of the whole Universe on the principle of the total perspective. The total perspective is the view of the whole Universe from the point of view of the observer. The total perspective is the view of the whole Universe from the point of view of the observer. The total perspective is the view of the whole Universe from the point of view of the observer. The total perspective is the view of the whole Universe from the point of view of the observer. The total perspective is the view of the whole Universe from the point of view of the observer. The\n"
          ]
        }
      ],
      "source": [
        "test_string = '''The Total Perspective Vortex derives its picture of the whole Universe on the principle of'''\n",
        "for i in tqdm(range(100)):\n",
        "    test_tokens = reference_gpt2.to_tokens(test_string).to(device)\n",
        "    demo_logits = demo_gpt2(test_tokens)\n",
        "    test_string += reference_gpt2.tokenizer.decode(demo_logits[-1, -1].argmax())\n",
        "\n",
        "print(test_string)"
      ]
    },
    {
      "cell_type": "markdown",
      "metadata": {
        "id": "tGrShZtp0O0E"
      },
      "source": [
        "In later sections, we'll learn to generate text in slightly more interesting ways than just argmaxing the output.\n"
      ]
    },
    {
      "cell_type": "markdown",
      "metadata": {
        "id": "QfeyG6NZm4SC"
      },
      "source": [
        "# 3️⃣ Training a Transformer\n"
      ]
    },
    {
      "cell_type": "markdown",
      "source": [
        "> ##### Learning objectives\n",
        ">\n",
        "> * Understand how to train a transformer from scratch\n",
        "> * Write a basic transformer training loop\n",
        "> * Interpret the transformer's falling cross entropy loss with reference to features of the training data (e.g. bigram frequencies)\n"
      ],
      "metadata": {
        "id": "RGFuGCKtnNy3"
      }
    },
    {
      "cell_type": "markdown",
      "source": [
        "Now that we've built our transformer, and verified that it performs as expected when we load in weights, let's try training it from scratch!\n",
        "\n",
        "This is a lightweight demonstration of how you can actually train your own GPT-2 with this code! Here we train a tiny model on a tiny dataset, but it's fundamentally the same code for training a larger/more real model (though you'll need beefier GPUs and data parallelism to do it remotely efficiently, and fancier parallelism for much bigger ones).\n",
        "\n",
        "For our purposes, we'll train 2L 4 heads per layer model, with context length 256, for 10*200 steps of batch size 16, just to show what it looks like (and so the notebook doesn't melt your colab / machine!)."
      ],
      "metadata": {
        "id": "K6oZKflnnXgj"
      }
    },
    {
      "cell_type": "markdown",
      "source": [
        "## Create Model"
      ],
      "metadata": {
        "id": "-VB5ELjInZzj"
      }
    },
    {
      "cell_type": "code",
      "source": [
        "model_cfg = Config(\n",
        "    debug=False,\n",
        "    d_model=256,\n",
        "    n_heads=4,\n",
        "    d_head=64,\n",
        "    d_mlp=1024,\n",
        "    n_layers=2,\n",
        "    n_ctx=256,\n",
        "    d_vocab=reference_gpt2.cfg.d_vocab\n",
        ")\n",
        "model = DemoTransformer(model_cfg)"
      ],
      "metadata": {
        "id": "4TMr-rMQnayL"
      },
      "execution_count": null,
      "outputs": []
    },
    {
      "cell_type": "markdown",
      "source": [
        "## Training Args\n",
        "\n",
        "\n",
        "Note, for this optimization we'll be using **weight decay**."
      ],
      "metadata": {
        "id": "ggSGeTT_nb5Z"
      }
    },
    {
      "cell_type": "code",
      "source": [
        "@dataclass\n",
        "class TransformerTrainingArgs():\n",
        "\tbatch_size = 16\n",
        "\tepochs = 20\n",
        "\tmax_steps_per_epoch = 200\n",
        "\tlr = 1e-3\n",
        "\tweight_decay = 1e-2\n",
        "\twandb_project: str | None = \"day1-demotransformer\"\n",
        "\twandb_name: str | None = None\n",
        "\n",
        "\n",
        "args = TransformerTrainingArgs()"
      ],
      "metadata": {
        "id": "95hodhD_ndRy"
      },
      "execution_count": null,
      "outputs": []
    },
    {
      "cell_type": "markdown",
      "source": [
        "## Create Data\n",
        "\n",
        "We load in a tiny dataset made by Neel Nanda, with the first 10K entries in the Pile (inspired by Stas' version for OpenWebText!)"
      ],
      "metadata": {
        "id": "lR8gVegcnfW2"
      }
    },
    {
      "cell_type": "code",
      "source": [
        "dataset = datasets.load_dataset(\"NeelNanda/pile-10k\", split=\"train\").remove_columns(\"meta\")\n",
        "print(dataset)\n",
        "print(dataset[0]['text'][:100])"
      ],
      "metadata": {
        "id": "9udsnznsnik8",
        "colab": {
          "base_uri": "https://localhost:8080/",
          "height": 236,
          "referenced_widgets": [
            "6f87610bff0c4c72be005e18d0fc2dec",
            "653c5df9e0e54a1da8c0bc75d53c14a3",
            "60466c14b8bc44f3b006f2a2880b4279",
            "bc52ae2e4b094ed5aadb67a3eea39be2",
            "2aaedb19d12746b6a06d846a1a74222c",
            "167e3bd044c14f7bbcec0f6acafce642",
            "e3464984ee9145bd8f7e99ccc0381d25",
            "2e917d03744046a189e2f06384aabbf5",
            "030ab3788549468084a71f0ef0159bf1",
            "b8682a70b0b94c249216e2784075c118",
            "bcf21571b416420abab8383121fe752e",
            "99b981bb1f4445d08adf9306bd5cd334",
            "1a1700c55aaa4373a001bab5c9039bf1",
            "cdbe8880c1d24b0a82f39a523fac9ddf",
            "74f5af12d87d4dc89784ee212c0d26fc",
            "5af580a0c43847b994945aa7cfb9529c",
            "2bce7c754fbd4c33927d8a10397dda69",
            "b6df27f5093541d6a705345530cffad9",
            "fd5b28df0792452ba67ec21bd81f1975",
            "a809d1f2f5d44ea2891c219ddb7a027b",
            "5ce65eca064d4e57a2eef2a84318860d",
            "8166a818655a4a87902ae5d850507895",
            "03e2d675a2cf465f82fab27591bad51c",
            "ef9c8e00a2834cf18e0d1b43acabd4f6",
            "88ed2d41c88b4e37896ed520aaa23a00",
            "88073a81f91e4df08b848e3b1f0996e1",
            "9c086515bad04933925fb455831e3d10",
            "4555aae2a2b04aaca5f2e010c5a208d2",
            "559c2d9b1aa2446ea424b53c13cf7212",
            "14832d7404344a57a7cf9d5517e44813",
            "b836a99f32d04804a43c48beab9418e0",
            "5fb067ced94c4a4dbbef00bd717c4c07",
            "dd79e485501e47b79390dc00604c42af",
            "8f9ee4be92c04c0890014d9052ab4489",
            "2d536596d6de4c0bacae40ef95c7fb07",
            "fa727041fd9a4434b7e0d91a31e27348",
            "eddadf78d77f4fa3b28f9ee771a5f6ae",
            "2e639b8a419f4e129921c83a53b27dc0",
            "6eba121eae64493389a2194925769d02",
            "76a67a602e264807b767f1bd4f14cd43",
            "df8eb69927184b65a8321cf7deecb4d7",
            "e83eecd430554bb2b86644a8c09b72b0",
            "6f70e1939d254459abf616af137628e4",
            "0ad2a56632744072a7ee05d0a54736d4"
          ]
        },
        "outputId": "726048eb-7b02-4238-bf38-45933cf32277"
      },
      "execution_count": null,
      "outputs": [
        {
          "output_type": "display_data",
          "data": {
            "text/plain": [
              "Downloading readme:   0%|          | 0.00/373 [00:00<?, ?B/s]"
            ],
            "application/vnd.jupyter.widget-view+json": {
              "version_major": 2,
              "version_minor": 0,
              "model_id": "6f87610bff0c4c72be005e18d0fc2dec"
            }
          },
          "metadata": {}
        },
        {
          "output_type": "display_data",
          "data": {
            "text/plain": [
              "Downloading metadata:   0%|          | 0.00/921 [00:00<?, ?B/s]"
            ],
            "application/vnd.jupyter.widget-view+json": {
              "version_major": 2,
              "version_minor": 0,
              "model_id": "99b981bb1f4445d08adf9306bd5cd334"
            }
          },
          "metadata": {}
        },
        {
          "output_type": "display_data",
          "data": {
            "text/plain": [
              "Downloading data:   0%|          | 0.00/33.3M [00:00<?, ?B/s]"
            ],
            "application/vnd.jupyter.widget-view+json": {
              "version_major": 2,
              "version_minor": 0,
              "model_id": "03e2d675a2cf465f82fab27591bad51c"
            }
          },
          "metadata": {}
        },
        {
          "output_type": "display_data",
          "data": {
            "text/plain": [
              "Generating train split:   0%|          | 0/10000 [00:00<?, ? examples/s]"
            ],
            "application/vnd.jupyter.widget-view+json": {
              "version_major": 2,
              "version_minor": 0,
              "model_id": "8f9ee4be92c04c0890014d9052ab4489"
            }
          },
          "metadata": {}
        },
        {
          "output_type": "stream",
          "name": "stdout",
          "text": [
            "Dataset({\n",
            "    features: ['text'],\n",
            "    num_rows: 10000\n",
            "})\n",
            "It is done, and submitted. You can play “Survival of the Tastiest” on Android, and on the web. Playi\n"
          ]
        }
      ]
    },
    {
      "cell_type": "markdown",
      "source": [
        "`tokenize_and_concatenate` is a useful function which takes our dataset of strings, and returns a dataset of token IDs ready to feed into the model. We then create a dataloader from this tokenized dataset. The useful method `train_test_split` can give us a training and testing set.\n"
      ],
      "metadata": {
        "id": "chj2r8J-njhC"
      }
    },
    {
      "cell_type": "code",
      "source": [
        "tokenized_dataset = tokenize_and_concatenate(dataset, reference_gpt2.tokenizer, streaming=False, max_length=model.cfg.n_ctx, column_name=\"text\", add_bos_token=True, num_proc=4)\n",
        "\n",
        "dataset_dict = tokenized_dataset.train_test_split(test_size=1000)\n",
        "train_loader = DataLoader(dataset_dict[\"train\"], batch_size=args.batch_size, shuffle=True, num_workers=4, pin_memory=True)\n",
        "test_loader = DataLoader(dataset_dict[\"test\"], batch_size=args.batch_size, shuffle=False, num_workers=4, pin_memory=True)"
      ],
      "metadata": {
        "id": "mgogWcLUnk0U",
        "colab": {
          "base_uri": "https://localhost:8080/",
          "height": 142,
          "referenced_widgets": [
            "8c6913bfb0cd4302a05200be9d2364de",
            "a7ef2f22bed6426cb6ee0725eb4a9e4a",
            "3f32e0938c3f473b87a9865e108a33a4",
            "2711bee9756642449ea09034a8183cdb",
            "583d959c4fa747b899f43cd78c0cc220",
            "8327bc1ef55a4d7ab6cb59bf515b7c0f",
            "c3aed2238b994f7e974c09f3296cb16f",
            "d04c12f4362847cfafa0c4500c113a58",
            "472dce48ab8747bab5e2d12a5da18325",
            "081c46b4e21f4307a3f9f1349357608e",
            "160cef91baa44ee7abfa7d847911eb5b"
          ]
        },
        "outputId": "77052de0-04ee-4e8b-8c21-fc4d33d8b828"
      },
      "execution_count": null,
      "outputs": [
        {
          "output_type": "display_data",
          "data": {
            "text/plain": [
              "Map (num_proc=4):   0%|          | 0/10000 [00:00<?, ? examples/s]"
            ],
            "application/vnd.jupyter.widget-view+json": {
              "version_major": 2,
              "version_minor": 0,
              "model_id": "8c6913bfb0cd4302a05200be9d2364de"
            }
          },
          "metadata": {}
        },
        {
          "output_type": "stream",
          "name": "stderr",
          "text": [
            "Token indices sequence length is longer than the specified maximum sequence length for this model (80023 > 1024). Running this sequence through the model will result in indexing errors\n",
            "Token indices sequence length is longer than the specified maximum sequence length for this model (101051 > 1024). Running this sequence through the model will result in indexing errors\n",
            "Token indices sequence length is longer than the specified maximum sequence length for this model (155995 > 1024). Running this sequence through the model will result in indexing errors\n",
            "Token indices sequence length is longer than the specified maximum sequence length for this model (229134 > 1024). Running this sequence through the model will result in indexing errors\n"
          ]
        }
      ]
    },
    {
      "cell_type": "markdown",
      "source": [
        "When we iterate through these dataloaders, we will find dictionaries with the single key `'tokens'`, which maps to a tensor of token IDs with shape `(batch, seq_len)`."
      ],
      "metadata": {
        "id": "Fcx4oMaInlpi"
      }
    },
    {
      "cell_type": "code",
      "source": [
        "first_batch = train_loader.dataset[:args.batch_size]\n",
        "\n",
        "print(first_batch.keys())\n",
        "print(first_batch['tokens'].shape)"
      ],
      "metadata": {
        "id": "Y_Y7vD8BnqK-",
        "colab": {
          "base_uri": "https://localhost:8080/"
        },
        "outputId": "79f74628-5954-46b9-8491-8e292473d63f"
      },
      "execution_count": null,
      "outputs": [
        {
          "output_type": "stream",
          "name": "stdout",
          "text": [
            "dict_keys(['tokens'])\n",
            "torch.Size([16, 256])\n"
          ]
        }
      ]
    },
    {
      "cell_type": "markdown",
      "source": [
        "## Training Loop\n",
        "\n",
        "If you did the material on [training loops](https://arena-ch0-fundamentals.streamlit.app/[0.3]_ResNets#training-loop) during the first week, this should all be familiar to you. If not, you can skim that section for an overview of the key concepts. The start of the **Training loop** section is most important, and the subsections on [Modularisation](https://arena-ch0-fundamentals.streamlit.app/[0.3]_ResNets#modularisation) and [dataclasses](https://arena-ch0-fundamentals.streamlit.app/[0.3]_ResNets#aside-dataclasses) are also very useful. Lastly, we'll also be using Weights and Biases to train our model - you can read about how to use it [here](https://arena-ch0-fundamentals.streamlit.app/[0.4]_Optimization#what-is-weights-and-biases). Here are (roughly) all the things you should know for the following exercises:\n",
        "                \n",
        "* The key parts of a gradient update step are:\n",
        "    * Calculating the (cross-entropy) loss between a model's output and the true labels,\n",
        "    * `loss.backward()` - calculate gradients of the loss with respect to the model parameters,\n",
        "    * `optimizer.step()` - update the model parameters using the gradients,\n",
        "    * `optimizer.zero_grad()` - zero the gradients so they don't accumulate.\n",
        "* We can nicely package up training loops into a class, which includes methods for training and validation steps among other things. This helps with writing code that can be reused in different contexts.\n",
        "* We can use dataclasses to store all the arguments relevant to training in one place, and then pass them to our trainer class. Autocompletion is one nice bonus of this!\n",
        "    * Be careful of scope here, you want to make sure you're referring to `self.args` within the trainer class, rather than the global `args`.\n",
        "* You can use Weights and Biases to track experiments and log relevant variables. The three essential functions are:\n",
        "    * `wandb.init()` - initialize a new run, takes arguments `project`, `name` and `config` (among others).\n",
        "    * `wandb.log()` - log a dictionary of variables, e.g. `{\"loss\": loss}`. Also takes a `step` argument.\n",
        "    * `wandb.finish()` - called at the end of training (no arguments)."
      ],
      "metadata": {
        "id": "hyjlKG-AnrZc"
      }
    },
    {
      "cell_type": "markdown",
      "source": [
        "### Exercise - write training loop\n",
        "\n",
        "```c\n",
        "Difficulty: 🔴🔴🔴⚪⚪\n",
        "Importance: 🔵🔵🔵🔵⚪\n",
        "\n",
        "You should spend up to 10-20 minutes on this exercise.\n",
        "```"
      ],
      "metadata": {
        "id": "tvM-W_TGnuoN"
      }
    },
    {
      "cell_type": "markdown",
      "source": [
        "You should fill in the methods below. Some guidance:\n",
        "\n",
        "* Remember we were able to calculate cross entropy loss using the `get_log_probs` function in the previous section.\n",
        "* You should use the optimizer `t.optim.AdamW` (Adam with weight decay), and with hyperparameters `lr` and `weight_decay` taken from your `TransformerTrainingArgs` dataclass instance.\n",
        "* The easiest way to compute accuracy is to have the `validation_step` method return a 1D boolean tensor indicating the positions where the model's prediction was correct. Then you can concatenate all these tensors together and take the mean to get the overall accuracy for the epoch.\n",
        "* We've given you the argument `max_steps_per_epoch`, a hacky way of making sure the training phase in each epoch doesn't go on for too long. You can terminate each training phase after this many steps.\n",
        "* Remember to move tokens to your device, via `tokens.to(device)` (this should be a global variable, defined at the top of your notebook).\n",
        "* You can refer back to the training loops from the [previous chapter of the course](https://arena-ch0-fundamentals.streamlit.app/[0.3]_ResNets#training-loop) if you'd like.\n"
      ],
      "metadata": {
        "id": "2qbuJ4winvyY"
      }
    },
    {
      "cell_type": "code",
      "source": [
        "class TransformerTrainer:\n",
        "    def __init__(self, args: TransformerTrainingArgs, model: DemoTransformer):\n",
        "        super().__init__()\n",
        "        self.model = model\n",
        "        self.args = args\n",
        "        self.optimizer = t.optim.AdamW(self.model.parameters(), lr=args.lr, weight_decay=args.weight_decay)\n",
        "        self.step = 0\n",
        "\n",
        "\n",
        "    def training_step(self, batch: Dict[str, Int[Tensor, \"batch seq\"]]) -> Float[Tensor, \"\"]:\n",
        "        '''\n",
        "        Calculates the loss on the tokens in the batch, performs a gradient update step, and logs the loss.\n",
        "\n",
        "        Remember that `batch` is a dictionary with the single key 'tokens'.\n",
        "        '''\n",
        "        tokens = batch[\"tokens\"].to(device)\n",
        "        logits = self.model(tokens)\n",
        "        loss = -get_log_probs(logits, tokens).mean()\n",
        "        loss.backward()\n",
        "        self.optimizer.step()\n",
        "        self.optimizer.zero_grad()\n",
        "        self.step += 1\n",
        "        wandb.log({\"train_loss\": loss}, step=self.step)\n",
        "        return loss\n",
        "\n",
        "\n",
        "    def validation_step(self, batch: Dict[str, Int[Tensor, \"batch seq\"]]):\n",
        "        '''\n",
        "        Calculates & returns the accuracy on the tokens in the batch (i.e. how often the model's prediction\n",
        "        is correct). Logging should happen in the `train` function (after we've computed the accuracy for\n",
        "        the whole validation set).\n",
        "        '''\n",
        "        tokens = batch[\"tokens\"].to(device)\n",
        "        logits: Tensor = self.model(tokens)[:, :-1]\n",
        "        predicted_tokens = logits.argmax(dim=-1)\n",
        "        correct_predictions = (predicted_tokens == tokens[:, 1:]).flatten()\n",
        "        return correct_predictions\n",
        "\n",
        "\n",
        "    def train(self):\n",
        "        '''\n",
        "        Trains the model, for `self.args.epochs` epochs. Also handles wandb initialisation, and early stopping\n",
        "        for each epoch at `self.args.max_steps_per_epoch` steps.\n",
        "        '''\n",
        "        wandb.init(project=self.args.wandb_project, name=self.args.wandb_name, config=self.args)\n",
        "        accuracy = np.nan\n",
        "\n",
        "        progress_bar = tqdm(total = self.args.max_steps_per_epoch * self.args.epochs)\n",
        "\n",
        "        for epoch in range(self.args.epochs):\n",
        "            for i, batch in enumerate(self.train_loader()):\n",
        "                loss = self.training_step(batch)\n",
        "                progress_bar.update()\n",
        "                progress_bar.set_description(f\"Epoch {epoch+1}, loss: {loss:.3f}, accuracy: {accuracy:.3f}\")\n",
        "                if i >= self.args.max_steps_per_epoch:\n",
        "                    break\n",
        "\n",
        "            correct_predictions = t.concat([self.validation_step(batch) for batch in self.test_loader()])\n",
        "            accuracy = correct_predictions.float().mean().item()\n",
        "            wandb.log({\"accuracy\": accuracy}, step=self.step)\n",
        "\n",
        "        wandb.finish()\n",
        "\n",
        "\n",
        "    def train_loader(self) -> DataLoader:\n",
        "        '''Returns train loader (as in code above).'''\n",
        "        return DataLoader(dataset_dict[\"train\"], batch_size=self.args.batch_size, shuffle=True, num_workers=4, pin_memory=True)\n",
        "\n",
        "\n",
        "    def test_loader(self) -> DataLoader:\n",
        "        '''Returns test loader (as in code above).'''\n",
        "        return DataLoader(dataset_dict[\"test\"], batch_size=self.args.batch_size, shuffle=False, num_workers=4, pin_memory=True)"
      ],
      "metadata": {
        "id": "zVBEDTGMnxSk"
      },
      "execution_count": null,
      "outputs": []
    },
    {
      "cell_type": "markdown",
      "source": [
        "Note - this section of the course used to use PyTorch Lightning, but this has now been taken out. You can see the old version of the training code which used PyTorch Lightning in the dropdown below.\n",
        "\n",
        "<details>\n",
        "<summary>PyTorch Lighting training loop</summary>\n",
        "\n",
        "```python\n",
        "class LitTransformer(pl.LightningModule):\n",
        "\tdef __init__(self, args: TransformerTrainingArgs, model: DemoTransformer, data_loader: DataLoader):\n",
        "\t\tsuper().__init__()\n",
        "\t\tself.model = model\n",
        "\t\tself.cfg = model.cfg\n",
        "\t\tself.args = args\n",
        "\t\tself.data_loader = data_loader\n",
        "\n",
        "\tdef forward(self, tokens: Int[Tensor, \"batch position\"]) -> Float[Tensor, \"batch position d_vocab\"]:\n",
        "\t\tlogits = self.model(tokens)\n",
        "\t\treturn logits\n",
        "\n",
        "\tdef training_step(self, batch: Dict[str, Tensor], batch_idx: int) -> Float[Tensor, \"\"]:\n",
        "\t\t'''\n",
        "\t\tHere you compute and return the training loss and some additional metrics for e.g.\n",
        "\t\tthe progress bar or logger.\n",
        "\t\t'''\n",
        "\t\ttokens = batch[\"tokens\"].to(device)\n",
        "\t\tlogits = self.model(tokens)\n",
        "\t\tloss = -get_log_probs(logits, tokens).mean()\n",
        "\t\tself.log(\"train_loss\", loss)\n",
        "\t\treturn loss\n",
        "\n",
        "\tdef configure_optimizers(self):\n",
        "\t\t'''\n",
        "\t\tChoose what optimizers and learning-rate schedulers to use in your optimization.\n",
        "\t\t'''\n",
        "\t\toptimizer = t.optim.AdamW(self.model.parameters(), lr=self.args.lr, weight_decay=self.args.weight_decay)\n",
        "\t\treturn optimizer\n",
        "\n",
        "\tdef train_dataloader(self):\n",
        "\t\treturn self.data_loader\n",
        "\n",
        "\n",
        "litmodel = LitTransformer(args, model, data_loader)\n",
        "logger = WandbLogger(save_dir=args.log_dir, project=args.log_name, name=args.run_name)\n",
        "\n",
        "trainer = pl.Trainer(\n",
        "    max_epochs=args.max_epochs,\n",
        "    logger=logger,\n",
        "    log_every_n_steps=args.log_every_n_steps\n",
        ")\n",
        "trainer.fit(model=litmodel, train_dataloaders=litmodel.data_loader)\n",
        "wandb.finish()\n",
        "```\n",
        "\n",
        "</details>"
      ],
      "metadata": {
        "id": "sx183tP93HpB"
      }
    },
    {
      "cell_type": "code",
      "source": [
        "model = DemoTransformer(model_cfg).to(device)\n",
        "args = TransformerTrainingArgs()\n",
        "trainer = TransformerTrainer(args, model)\n",
        "trainer.train()\n",
        "\n",
        "# See the full run here: https://api.wandb.ai/links/callum-mcdougall/4xtin05h"
      ],
      "metadata": {
        "id": "nWJyh1lon0IH",
        "colab": {
          "base_uri": "https://localhost:8080/",
          "height": 419,
          "referenced_widgets": [
            "2dfb60c6e80a491ca953a27649125385",
            "01f0532ca241404b974dec4050a2de8b",
            "66901f78efec4712ba50e831ec843dba",
            "5b477f0228da4fcc9b3c53ac82472292",
            "10deb23e1386466da04fd4ea987c70d4",
            "b7aa9114bc5c43aa84022a6fe59e1f9b",
            "5a8b6f3bc68d43df91dc819ee17f2271",
            "411c5f6bf15c4757bab96fcdb483d0cb",
            "14b15b845eeb464e89e64a18d5c1858d",
            "ceedef4908af440abc54f33160d0961c",
            "8b08be1344fa4c9090fed53b2c8ce831",
            "e9974058acfb40c5a369a63b0a8e4a12",
            "7f39341a95ae464ca801a8f65bec9279",
            "e41e6e59bc814b9582286d683f88d3c0",
            "7df4640b9eca4e7caf30acf12ead7b53",
            "345c86267b1d4efdaf888577b4e5cf15",
            "ca6423e7d61046d9be92aeaae1096667",
            "25269a401a3f430abcda636d65c82905",
            "aa8284f75021411284376e668cf5e1c7"
          ]
        },
        "outputId": "f8d86765-d2c6-4495-cceb-229043d5c3fd"
      },
      "execution_count": null,
      "outputs": [
        {
          "output_type": "display_data",
          "data": {
            "text/plain": [
              "<IPython.core.display.Javascript object>"
            ],
            "application/javascript": [
              "\n",
              "        window._wandbApiKey = new Promise((resolve, reject) => {\n",
              "            function loadScript(url) {\n",
              "            return new Promise(function(resolve, reject) {\n",
              "                let newScript = document.createElement(\"script\");\n",
              "                newScript.onerror = reject;\n",
              "                newScript.onload = resolve;\n",
              "                document.body.appendChild(newScript);\n",
              "                newScript.src = url;\n",
              "            });\n",
              "            }\n",
              "            loadScript(\"https://cdn.jsdelivr.net/npm/postmate/build/postmate.min.js\").then(() => {\n",
              "            const iframe = document.createElement('iframe')\n",
              "            iframe.style.cssText = \"width:0;height:0;border:none\"\n",
              "            document.body.appendChild(iframe)\n",
              "            const handshake = new Postmate({\n",
              "                container: iframe,\n",
              "                url: 'https://wandb.ai/authorize'\n",
              "            });\n",
              "            const timeout = setTimeout(() => reject(\"Couldn't auto authenticate\"), 5000)\n",
              "            handshake.then(function(child) {\n",
              "                child.on('authorize', data => {\n",
              "                    clearTimeout(timeout)\n",
              "                    resolve(data)\n",
              "                });\n",
              "            });\n",
              "            })\n",
              "        });\n",
              "    "
            ]
          },
          "metadata": {}
        },
        {
          "output_type": "stream",
          "name": "stderr",
          "text": [
            "\u001b[34m\u001b[1mwandb\u001b[0m: Logging into wandb.ai. (Learn how to deploy a W&B server locally: https://wandb.me/wandb-server)\n",
            "\u001b[34m\u001b[1mwandb\u001b[0m: You can find your API key in your browser here: https://wandb.ai/authorize\n",
            "wandb: Paste an API key from your profile and hit enter, or press ctrl+c to quit:"
          ]
        },
        {
          "name": "stdout",
          "output_type": "stream",
          "text": [
            " ··········\n"
          ]
        },
        {
          "output_type": "stream",
          "name": "stderr",
          "text": [
            "\u001b[34m\u001b[1mwandb\u001b[0m: Appending key for api.wandb.ai to your netrc file: /root/.netrc\n"
          ]
        },
        {
          "output_type": "display_data",
          "data": {
            "text/plain": [
              "<IPython.core.display.HTML object>"
            ],
            "text/html": [
              "Tracking run with wandb version 0.16.2"
            ]
          },
          "metadata": {}
        },
        {
          "output_type": "display_data",
          "data": {
            "text/plain": [
              "<IPython.core.display.HTML object>"
            ],
            "text/html": [
              "Run data is saved locally in <code>/content/chapter1_transformer_interp/exercises/wandb/run-20240114_102154-9os4a2f2</code>"
            ]
          },
          "metadata": {}
        },
        {
          "output_type": "display_data",
          "data": {
            "text/plain": [
              "<IPython.core.display.HTML object>"
            ],
            "text/html": [
              "Syncing run <strong><a href='https://wandb.ai/callum-mcdougall/day1-demotransformer/runs/9os4a2f2' target=\"_blank\">absurd-cloud-15</a></strong> to <a href='https://wandb.ai/callum-mcdougall/day1-demotransformer' target=\"_blank\">Weights & Biases</a> (<a href='https://wandb.me/run' target=\"_blank\">docs</a>)<br/>"
            ]
          },
          "metadata": {}
        },
        {
          "output_type": "display_data",
          "data": {
            "text/plain": [
              "<IPython.core.display.HTML object>"
            ],
            "text/html": [
              " View project at <a href='https://wandb.ai/callum-mcdougall/day1-demotransformer' target=\"_blank\">https://wandb.ai/callum-mcdougall/day1-demotransformer</a>"
            ]
          },
          "metadata": {}
        },
        {
          "output_type": "display_data",
          "data": {
            "text/plain": [
              "<IPython.core.display.HTML object>"
            ],
            "text/html": [
              " View run at <a href='https://wandb.ai/callum-mcdougall/day1-demotransformer/runs/9os4a2f2' target=\"_blank\">https://wandb.ai/callum-mcdougall/day1-demotransformer/runs/9os4a2f2</a>"
            ]
          },
          "metadata": {}
        },
        {
          "output_type": "display_data",
          "data": {
            "text/plain": [
              "  0%|          | 0/2000 [00:00<?, ?it/s]"
            ],
            "application/vnd.jupyter.widget-view+json": {
              "version_major": 2,
              "version_minor": 0,
              "model_id": "2dfb60c6e80a491ca953a27649125385"
            }
          },
          "metadata": {}
        },
        {
          "output_type": "display_data",
          "data": {
            "text/plain": [
              "VBox(children=(Label(value='0.011 MB of 0.011 MB uploaded\\r'), FloatProgress(value=1.0, max=1.0)))"
            ],
            "application/vnd.jupyter.widget-view+json": {
              "version_major": 2,
              "version_minor": 0,
              "model_id": "e9974058acfb40c5a369a63b0a8e4a12"
            }
          },
          "metadata": {}
        },
        {
          "output_type": "display_data",
          "data": {
            "text/plain": [
              "<IPython.core.display.HTML object>"
            ],
            "text/html": [
              "<style>\n",
              "    table.wandb td:nth-child(1) { padding: 0 10px; text-align: left ; width: auto;} td:nth-child(2) {text-align: left ; width: 100%}\n",
              "    .wandb-row { display: flex; flex-direction: row; flex-wrap: wrap; justify-content: flex-start; width: 100% }\n",
              "    .wandb-col { display: flex; flex-direction: column; flex-basis: 100%; flex: 1; padding: 10px; }\n",
              "    </style>\n",
              "<div class=\"wandb-row\"><div class=\"wandb-col\"><h3>Run history:</h3><br/><table class=\"wandb\"><tr><td>accuracy</td><td>▁▃▄▅▆▆▇▇██</td></tr><tr><td>train_loss</td><td>███▇▅▅▅▆▄▅▅▅▅▄▅▄▄▄▄▃▅▃▅▄▄▃▃▃▃▂▃▄▃▃▁▃▃▂▂▂</td></tr></table><br/></div><div class=\"wandb-col\"><h3>Run summary:</h3><br/><table class=\"wandb\"><tr><td>accuracy</td><td>0.28535</td></tr><tr><td>train_loss</td><td>4.9845</td></tr></table><br/></div></div>"
            ]
          },
          "metadata": {}
        },
        {
          "output_type": "display_data",
          "data": {
            "text/plain": [
              "<IPython.core.display.HTML object>"
            ],
            "text/html": [
              " View run <strong style=\"color:#cdcd00\">absurd-cloud-15</strong> at: <a href='https://wandb.ai/callum-mcdougall/day1-demotransformer/runs/9os4a2f2' target=\"_blank\">https://wandb.ai/callum-mcdougall/day1-demotransformer/runs/9os4a2f2</a><br/>Synced 4 W&B file(s), 0 media file(s), 0 artifact file(s) and 0 other file(s)"
            ]
          },
          "metadata": {}
        },
        {
          "output_type": "display_data",
          "data": {
            "text/plain": [
              "<IPython.core.display.HTML object>"
            ],
            "text/html": [
              "Find logs at: <code>./wandb/run-20240114_102154-9os4a2f2/logs</code>"
            ]
          },
          "metadata": {}
        }
      ]
    },
    {
      "cell_type": "markdown",
      "source": [
        "When you run the code for the first time, you'll have to login to Weights and Biases, and paste an API key into VSCode. After this is done, your Weights and Biases training run will start. It'll give you a lot of output text, one line of which will look like:\n",
        "\n",
        "```\n",
        "View run at https://wandb.ai/<USERNAME>/<PROJECT-NAME>/runs/<RUN-NAME>\n",
        "```\n",
        "\n",
        "which you can click on to visit the run page.\n",
        "\n",
        "> Note - to see the plots more clearly in Weights and Biases, you can click on the **edit panel** of your plot (the small pencil symbol at the top-right), then move the **smoothing** slider to the right."
      ],
      "metadata": {
        "id": "bypGwSMYn2Bl"
      }
    },
    {
      "cell_type": "markdown",
      "source": [
        "### A note on this loss curve (optional)\n",
        "\n",
        "\n",
        "What's up with the shape of our loss curve? It seems like we start at around 10-11, drops down very fast, but then levels out. It turns out, this is all to do with the kinds of algorithms the model learns during training.\n",
        "\n",
        "When it starts out, your model will be outputting random noise, which might look a lot like \"predict each token with approximately uniform probability\", i.e. $Q(x) = 1/d_\\text{vocab}$ for all $x$. This gives us a cross entropy loss of $\\log (d_\\text{vocab})$.\n",
        "\n"
      ],
      "metadata": {
        "id": "gstZwr1cn3sQ"
      }
    },
    {
      "cell_type": "code",
      "source": [
        "d_vocab = model.cfg.d_vocab\n",
        "\n",
        "print(f\"d_vocab = {d_vocab}\")\n",
        "print(f\"Cross entropy loss on uniform distribution = {math.log(d_vocab)}\")"
      ],
      "metadata": {
        "colab": {
          "base_uri": "https://localhost:8080/"
        },
        "id": "n0_NVezboOHw",
        "outputId": "3e240735-d3c9-409d-85f1-55fee750aa30"
      },
      "execution_count": null,
      "outputs": [
        {
          "output_type": "stream",
          "name": "stdout",
          "text": [
            "d_vocab = 50257\n",
            "Cross entropy loss on uniform distribution = 10.82490511970208\n"
          ]
        }
      ]
    },
    {
      "cell_type": "markdown",
      "source": [
        "The next thing we might expect the model to learn is the frequencies of words in the english language. After all, small common tokens like `\" and\"` or `\" the\"` might appear much more frequently than others. This would give us an average cross entropy loss of:\n",
        "\n",
        "$$\n",
        "- \\sum_x p_x \\log p_x\n",
        "$$\n",
        "\n",
        "where $p_x$ is the actual frequency of the word in our training data.\n",
        "\n",
        "We can evaluate this quantity as follows:"
      ],
      "metadata": {
        "id": "oLbVtVOYoQp5"
      }
    },
    {
      "cell_type": "code",
      "source": [
        "toks = tokenized_dataset[:][\"tokens\"].flatten()\n",
        "\n",
        "d_vocab = model.cfg.d_vocab\n",
        "freqs = t.bincount(toks, minlength=d_vocab)\n",
        "probs = freqs.float() / freqs.sum()\n",
        "\n",
        "distn = t.distributions.categorical.Categorical(probs=probs)\n",
        "entropy = distn.entropy()\n",
        "\n",
        "print(f\"Entropy of training data = {entropy}\")"
      ],
      "metadata": {
        "colab": {
          "base_uri": "https://localhost:8080/"
        },
        "id": "PYLIco76oSeX",
        "outputId": "0c6ce538-782a-475b-d7e2-75017a42384b"
      },
      "execution_count": null,
      "outputs": [
        {
          "output_type": "stream",
          "name": "stdout",
          "text": [
            "Entropy of training data = 7.349369525909424\n"
          ]
        }
      ]
    },
    {
      "cell_type": "markdown",
      "source": [
        "After unigram frequencies, the next thing our model usually learns is **bigram frequencies** (i.e. the frequency of pairs of adjacent tokens in the training data). For instance, `\"I\"` and `\" am\"` are common tokens, but their bigram frequency is much higher than it would be if they occurred independently. Bigram frequencies actually take you pretty far, since they also help with:\n",
        "\n",
        "* Some simple grammatical rules (e.g. a full stop being followed by a capitalized word)\n",
        "* Weird quirks of tokenization (e.g. `\" manip\"` being followed by `\"ulative\"`)\n",
        "* Common names (e.g. `\"Barack\"` being followed by `\" Obama\"`)\n",
        "\n",
        "\n",
        "After approximating bigram frequencies, we need to start using smarter techniques, like trigrams (which can only be implemented using attention heads), **induction heads** (which we'll learn a lot more about in the next set of exercises!), and fact memorization or more basic grammar and syntax rules. Marginal improvement starts getting a lot harder around here, leading to a flattening of our loss curve."
      ],
      "metadata": {
        "id": "cQwiLxr6oUUq"
      }
    },
    {
      "cell_type": "markdown",
      "source": [
        "### Exercise (optional) - log completions\n",
        "\n",
        "*Note - you might want to come back to this exercise after you understand how sampling works.*\n",
        "\n",
        "Choose a handle of prompts, and log the model's completions on those sentences. We recommend you do this with a lower frequency than loss is logged (e.g. once every 10-100 batches).\n",
        "\n",
        "The `wandb` syntax for logging text is pretty simple. Firstly, you can just print output as stdout and this is also logged to Weights & Biases (you can find it under the \"Logs\" section of your run). Alternatively, you can log data in the form of a table, and have it appear next to your other charts:\n",
        "\n",
        "```python\n",
        "wandb.log({\"completions_table\": wandb.Table(\n",
        "    data = data,\n",
        "    columns = [\"epoch\", \"step\", \"text\"]\n",
        ")})\n",
        "```\n",
        "\n",
        "where `data` is a list of length-3 lists, with each list containing (epoch, step, text). If you choose this option, we recommend logging the table less frequently than you're sampling from the model, to make sure you're not sending too much data (because unfortunately wandb doesn't have methods to incrementally update the table during logging).\n",
        "\n",
        "If you want to try this before going through the sampling exercises (which are quite long!), you can use the code below to sample output from the model. Note that the `TransformerSampler` object is already in inference mode, so you don't need to worry about this."
      ],
      "metadata": {
        "id": "BbUrPU4FgBHq"
      }
    },
    {
      "cell_type": "code",
      "source": [
        "def sampling_fn(model: DemoTransformer, prompt: str) -> str:\n",
        "    sampler = solutions.TransformerSampler(model, reference_gpt2.tokenizer)\n",
        "    output = sampler.sample(prompt, temperature=0.7, top_p=0.95, max_tokens_generated=16)\n",
        "    return output\n",
        "\n",
        "model = DemoTransformer(model_cfg).to(device)\n",
        "\n",
        "# Should be entirely random, because it uses a newly initialized model\n",
        "print(sampling_fn(model, prompt=\"John and Mary went to the\"))"
      ],
      "metadata": {
        "colab": {
          "base_uri": "https://localhost:8080/"
        },
        "id": "TWn5zK19nBZf",
        "outputId": "511de75a-84cf-417c-eaca-23d97fc9fd9a"
      },
      "execution_count": null,
      "outputs": [
        {
          "output_type": "stream",
          "name": "stdout",
          "text": [
            "John and Mary went to the massacre Fruitstory Skip Words Geraldontent explains rooft graceful Conj kg DepGGSpaceEngineersPOSE\n"
          ]
        }
      ]
    },
    {
      "cell_type": "code",
      "source": [
        "@dataclass\n",
        "class TransformerTrainingArgsLogText(TransformerTrainingArgs):\n",
        "    text_sample_freq: int = 20\n",
        "    table_log_freq: int = 200\n",
        "\n",
        "    def __post_init__(self):\n",
        "        assert self.table_log_freq >= self.text_sample_freq, \"You should log the table less frequently than you add text to it.\"\n",
        "\n",
        "\n",
        "def train_log_text(self, sampling_fn: Callable, prompt_list: list[str]):\n",
        "    '''\n",
        "    Trains the model, for `self.args.epochs` epochs. Also handles wandb initialisation, and early stopping\n",
        "    for each epoch at `self.args.max_steps_per_epoch` steps.\n",
        "\n",
        "    This also takes 2 extra arguments:\n",
        "        sampling_fn: function which takes model & a single prompt (i.e. text string) and returns text string output\n",
        "        prompt_list: list of prompts we'll log output on\n",
        "    '''\n",
        "    wandb.init(project=self.args.wandb_project, name=self.args.wandb_name, config=self.args)\n",
        "    accuracy = np.nan\n",
        "    progress_bar = tqdm(total = self.args.max_steps_per_epoch * self.args.epochs)\n",
        "\n",
        "    # Create a list for storing data\n",
        "    completions_list = []\n",
        "\n",
        "    for epoch in range(self.args.epochs):\n",
        "        for i, batch in enumerate(self.train_loader()):\n",
        "            loss = self.training_step(batch)\n",
        "            progress_bar.update()\n",
        "            progress_bar.set_description(f\"Epoch {epoch+1}, loss: {loss:.3f}, accuracy: {accuracy:.3f}\")\n",
        "\n",
        "            # Control the adding of text to the table, and the logging of text\n",
        "            if self.step % self.args.text_sample_freq == 0:\n",
        "                text_completions = [sampling_fn(self.model, prompt) for prompt in prompt_list]\n",
        "                completions_list.append([epoch, self.step, *text_completions])\n",
        "            if self.step % self.args.table_log_freq == 0:\n",
        "                wandb.log({\"completions_table\": wandb.Table(\n",
        "                    data=completions_list,\n",
        "                    columns=[\"epoch\", \"step\", *[f\"prompt_{i}\" for i in range(len(prompt_list))]]\n",
        "                )})\n",
        "\n",
        "            if i >= self.args.max_steps_per_epoch:\n",
        "                break\n",
        "\n",
        "        correct_predictions = t.concat([self.validation_step(batch) for batch in self.test_loader()])\n",
        "        accuracy = correct_predictions.float().mean().item()\n",
        "        wandb.log({\"accuracy\": accuracy}, step=self.step)\n",
        "\n",
        "    wandb.finish()\n",
        "\n",
        "\n",
        "TransformerTrainer.train_log_text = train_log_text"
      ],
      "metadata": {
        "id": "U0W50Vg9jO4B"
      },
      "execution_count": null,
      "outputs": []
    },
    {
      "cell_type": "code",
      "source": [
        "prompt_list = [\n",
        "    \"Eliezer Shlomo Yudkowsky (born September 11, 1979) is an American decision and artificial intelligence (AI) theorist and writer, best known for\",\n",
        "    \"In a shocking finding, scientist discovered a herd of unicorns living in a remote, previously unexplored valley, in the Andes Mountains. Even more surprising to the researchers was the fact that the unicorns spoke perfect English.\",\n",
        "    \"John and Mary went to the\",\n",
        "]\n",
        "\n",
        "model = DemoTransformer(model_cfg).to(device)\n",
        "args = TransformerTrainingArgsLogText()\n",
        "trainer = TransformerTrainer(args, model)\n",
        "trainer.train_log_text(sampling_fn, prompt_list)\n",
        "\n",
        "# Read full report here - https://api.wandb.ai/links/callum-mcdougall/5ex16e5w"
      ],
      "metadata": {
        "colab": {
          "base_uri": "https://localhost:8080/",
          "height": 329,
          "referenced_widgets": [
            "3bb9fc7df7a54508ab645067e2fe2e38",
            "55d42bdda76744f7b644c8ae5e828818",
            "d75405cf55dc4d158ec06c80bc2fd1ab",
            "853e137916fd40158434fc9f18049fca",
            "588962b44b114d80a159ee66270d5adc",
            "5b0e272c99b44a1b8deb51c84cda0eb1",
            "265c21ca6881457e89a51efda403d0b7",
            "dda79e21317a4baf99338f2e5f058620",
            "8213be13d86b44cfbd76cfd1dfba1817",
            "623744dfe17947e3b1ff49e8b0ec212b",
            "067c17b937954df0b6804c283d82e2bb",
            "2f749e4c720745fd8e979b9bfecf1792",
            "b2d8f858603045fe8b54fdcfb4963985",
            "6735ad1506df49b89a4476874b92e34a",
            "87fd2140a9554d83aa70175038eca918",
            "3588017acba646b3abb0bf940df4f3c7",
            "96f9aa6cb6924ad9b20068407c8a009e",
            "bfdbbaeef2984c77b7d14918804f60b0",
            "c14b3e5d4bfc47239b55da7e9fcc5628"
          ]
        },
        "id": "WjuX56rKnTJZ",
        "outputId": "f649b361-7624-47b7-f27f-4ec018fbddc3"
      },
      "execution_count": null,
      "outputs": [
        {
          "output_type": "display_data",
          "data": {
            "text/plain": [
              "<IPython.core.display.HTML object>"
            ],
            "text/html": [
              "Tracking run with wandb version 0.16.2"
            ]
          },
          "metadata": {}
        },
        {
          "output_type": "display_data",
          "data": {
            "text/plain": [
              "<IPython.core.display.HTML object>"
            ],
            "text/html": [
              "Run data is saved locally in <code>/content/chapter1_transformer_interp/exercises/wandb/run-20240114_112755-z5pt4igc</code>"
            ]
          },
          "metadata": {}
        },
        {
          "output_type": "display_data",
          "data": {
            "text/plain": [
              "<IPython.core.display.HTML object>"
            ],
            "text/html": [
              "Syncing run <strong><a href='https://wandb.ai/callum-mcdougall/day1-demotransformer/runs/z5pt4igc' target=\"_blank\">super-grass-20</a></strong> to <a href='https://wandb.ai/callum-mcdougall/day1-demotransformer' target=\"_blank\">Weights & Biases</a> (<a href='https://wandb.me/run' target=\"_blank\">docs</a>)<br/>"
            ]
          },
          "metadata": {}
        },
        {
          "output_type": "display_data",
          "data": {
            "text/plain": [
              "<IPython.core.display.HTML object>"
            ],
            "text/html": [
              " View project at <a href='https://wandb.ai/callum-mcdougall/day1-demotransformer' target=\"_blank\">https://wandb.ai/callum-mcdougall/day1-demotransformer</a>"
            ]
          },
          "metadata": {}
        },
        {
          "output_type": "display_data",
          "data": {
            "text/plain": [
              "<IPython.core.display.HTML object>"
            ],
            "text/html": [
              " View run at <a href='https://wandb.ai/callum-mcdougall/day1-demotransformer/runs/z5pt4igc' target=\"_blank\">https://wandb.ai/callum-mcdougall/day1-demotransformer/runs/z5pt4igc</a>"
            ]
          },
          "metadata": {}
        },
        {
          "output_type": "display_data",
          "data": {
            "text/plain": [
              "  0%|          | 0/2000 [00:00<?, ?it/s]"
            ],
            "application/vnd.jupyter.widget-view+json": {
              "version_major": 2,
              "version_minor": 0,
              "model_id": "3bb9fc7df7a54508ab645067e2fe2e38"
            }
          },
          "metadata": {}
        },
        {
          "output_type": "display_data",
          "data": {
            "text/plain": [
              "VBox(children=(Label(value='0.634 MB of 0.635 MB uploaded\\r'), FloatProgress(value=0.9987676233616529, max=1.0…"
            ],
            "application/vnd.jupyter.widget-view+json": {
              "version_major": 2,
              "version_minor": 0,
              "model_id": "2f749e4c720745fd8e979b9bfecf1792"
            }
          },
          "metadata": {}
        },
        {
          "output_type": "display_data",
          "data": {
            "text/plain": [
              "<IPython.core.display.HTML object>"
            ],
            "text/html": [
              "<style>\n",
              "    table.wandb td:nth-child(1) { padding: 0 10px; text-align: left ; width: auto;} td:nth-child(2) {text-align: left ; width: 100%}\n",
              "    .wandb-row { display: flex; flex-direction: row; flex-wrap: wrap; justify-content: flex-start; width: 100% }\n",
              "    .wandb-col { display: flex; flex-direction: column; flex-basis: 100%; flex: 1; padding: 10px; }\n",
              "    </style>\n",
              "<div class=\"wandb-row\"><div class=\"wandb-col\"><h3>Run history:</h3><br/><table class=\"wandb\"><tr><td>accuracy</td><td>▂▅▆██▇▅▄▃▁</td></tr><tr><td>train_loss</td><td>▇█▇▅▆▅▃▄▅▅▁▃▃▃▂▁▅▂▄▄▃▆▄▄▅▁▄▃▅▄▃▄▅▄▄▆▅▅▅▃</td></tr></table><br/></div><div class=\"wandb-col\"><h3>Run summary:</h3><br/><table class=\"wandb\"><tr><td>accuracy</td><td>0.15129</td></tr><tr><td>train_loss</td><td>6.17194</td></tr></table><br/></div></div>"
            ]
          },
          "metadata": {}
        },
        {
          "output_type": "display_data",
          "data": {
            "text/plain": [
              "<IPython.core.display.HTML object>"
            ],
            "text/html": [
              " View run <strong style=\"color:#cdcd00\">super-grass-20</strong> at: <a href='https://wandb.ai/callum-mcdougall/day1-demotransformer/runs/z5pt4igc' target=\"_blank\">https://wandb.ai/callum-mcdougall/day1-demotransformer/runs/z5pt4igc</a><br/>Synced 4 W&B file(s), 10 media file(s), 10 artifact file(s) and 0 other file(s)"
            ]
          },
          "metadata": {}
        },
        {
          "output_type": "display_data",
          "data": {
            "text/plain": [
              "<IPython.core.display.HTML object>"
            ],
            "text/html": [
              "Find logs at: <code>./wandb/run-20240114_112755-z5pt4igc/logs</code>"
            ]
          },
          "metadata": {}
        }
      ]
    },
    {
      "cell_type": "markdown",
      "source": [
        "You shouldn't expect to see perfect logical coherence from your model, but you should at least see that it respects basic word frequencies, and follows basic rules of grammar some of the time. Hopefully this gives some perspective on how difficult training a transformer can be!"
      ],
      "metadata": {
        "id": "4p8xSizdv8D8"
      }
    },
    {
      "cell_type": "markdown",
      "metadata": {
        "id": "kQAhp_gOcPXw"
      },
      "source": [
        "# 4️⃣ Sampling from a Transformer\n"
      ]
    },
    {
      "cell_type": "markdown",
      "metadata": {
        "id": "lN5qKnRvcPXw"
      },
      "source": [
        "> ##### Learning objectives\n",
        ">\n",
        "> * Learn how to sample from a transformer\n",
        ">     * This includes basic methods like greedy search or top-k, and more advanced methods like beam search\n",
        "> * Learn how to cache the output of a transformer, so that it can be used to generate text more efficiently\n",
        ">     * Optionally, rewrite your sampling functions to make use of your caching methods\n"
      ]
    },
    {
      "cell_type": "markdown",
      "metadata": {
        "id": "g62P1OjccPXw"
      },
      "source": [
        "One obvious method to sample tokens from a distribution would be to always take the token assigned the highest probability. But this can lead to some boring and repetitive outcomes, and at worst it can lock our transformer's output into a loop.\n",
        "\n",
        "First, you should read HuggingFace's blog post [How to generate text: using different decoding methods for language generation with Transformers](https://huggingface.co/blog/how-to-generate).\n",
        "\n",
        "Once you've done that, you can work through the `TransformerSampler` class below, and implement the different sampling methods. Each method will come with its own tests, and demo code for you to run.\n"
      ]
    },
    {
      "cell_type": "code",
      "execution_count": null,
      "metadata": {
        "id": "fHz9xznXcPXx"
      },
      "outputs": [],
      "source": [
        "model_cfg = Config()\n",
        "model = DemoTransformer(model_cfg).to(device)\n",
        "model.load_state_dict(reference_gpt2.state_dict(), strict=False)\n",
        "\n",
        "tokenizer = reference_gpt2.tokenizer"
      ]
    },
    {
      "cell_type": "code",
      "execution_count": null,
      "metadata": {
        "id": "3HFH1BKUcPXx"
      },
      "outputs": [],
      "source": [
        "class TransformerSampler:\n",
        "\n",
        "    def __init__(self, model: DemoTransformer, tokenizer: GPT2TokenizerFast):\n",
        "        self.model = model\n",
        "        self.cfg = model.cfg\n",
        "        self.tokenizer = tokenizer\n",
        "\n",
        "    @t.inference_mode()\n",
        "    def sample(self, prompt: str, max_tokens_generated=100, verbose=False, **kwargs):\n",
        "        '''\n",
        "        Returns a string of autoregressively generated text, starting from the prompt.\n",
        "\n",
        "        Sampling terminates at max_tokens_generated, or when the model generates an\n",
        "        end-of-sequence token.\n",
        "\n",
        "        kwargs are passed to sample_next_token, to give detailed instructions on how\n",
        "        new tokens are chosen.\n",
        "        '''\n",
        "        self.model.eval()\n",
        "        input_ids = self.tokenizer.encode(prompt, return_tensors=\"pt\").to(device)[0]\n",
        "\n",
        "        for i in range(max_tokens_generated):\n",
        "            # Get new logits (make sure we don't pass in more tokens than the model's context length)\n",
        "            logits = self.model(input_ids[None, -self.cfg.n_ctx:])\n",
        "            # We only take logits for the last token, because this is what we're sampling\n",
        "            logits = logits[0, -1]\n",
        "            # Get next token (as a tensor of size (1, 1) so we can concat it to input_ids)\n",
        "            next_token = t.tensor([TransformerSampler.sample_next_token(input_ids, logits, **kwargs)], device=device)\n",
        "            # Create new input ids string, with shape (1, old_seq_len + 1)\n",
        "            input_ids = t.cat([input_ids, next_token], dim=-1)\n",
        "            # Print out results, if required\n",
        "            if verbose:\n",
        "                print(self.tokenizer.decode(input_ids), end=\"\\r\")\n",
        "            # If our new token was the end-of-text token, stop\n",
        "            if next_token == getattr(self.tokenizer, \"eos_token_id\", None):\n",
        "                break\n",
        "\n",
        "        return self.tokenizer.decode(input_ids)\n",
        "\n",
        "\n",
        "    @t.inference_mode()\n",
        "    def beam_search(\n",
        "        self,\n",
        "        prompt: str,\n",
        "        num_return_sequences: int,\n",
        "        num_beams: int,\n",
        "        max_new_tokens: int,\n",
        "        no_repeat_ngram_size: int | None = None,\n",
        "        verbose=False,\n",
        "    ) -> list[tuple[float, str]]:\n",
        "        \"\"\"\n",
        "        Implements a beam search, by repeatedly performing the `generate` and `filter` steps (starting\n",
        "        from the initial prompt) until either of the two stopping criteria are met:\n",
        "\n",
        "            (1) we've generated `max_new_tokens` tokens, or\n",
        "            (2) we've generated `num_returns_sequences` terminating sequences.\n",
        "\n",
        "        To modularize this function, most of the actual complexity is in the Beams class,\n",
        "        in the `generate` and `filter` methods.\n",
        "        \"\"\"\n",
        "\n",
        "        assert num_return_sequences <= num_beams\n",
        "        self.model.eval()\n",
        "\n",
        "        tokens = self.tokenizer.encode(prompt, return_tensors=\"pt\").to(device)  # type: ignore\n",
        "\n",
        "        # list for final beams to return (and early terminations)\n",
        "        final_logprobs_and_completions = []\n",
        "        # Keep track of all best beams after each step\n",
        "        best_beams = Beams(self.model, self.tokenizer, t.tensor([0.0]).to(device), tokens)\n",
        "\n",
        "        for n in tqdm(range(max_new_tokens)):\n",
        "            # Generation step\n",
        "            best_beams = best_beams.generate(\n",
        "                toks_per_beam=num_beams, no_repeat_ngram_size=no_repeat_ngram_size\n",
        "            )\n",
        "\n",
        "            # Filtering step\n",
        "            best_beams, best_beams_terminated = best_beams.filter(num_beams=num_beams)\n",
        "            final_logprobs_and_completions.extend(best_beams_terminated.logprobs_and_completions)\n",
        "\n",
        "            # Print output\n",
        "            if verbose:\n",
        "                best_beams.print()\n",
        "\n",
        "            # Check stopping condition\n",
        "            if len(final_logprobs_and_completions) >= num_return_sequences:\n",
        "                return final_logprobs_and_completions[:num_return_sequences]\n",
        "\n",
        "        final_logprobs_and_completions.extend(best_beams.logprobs_and_completions)\n",
        "        final_logprobs_and_completions = final_logprobs_and_completions[:num_return_sequences]\n",
        "        return final_logprobs_and_completions\n",
        "\n",
        "\n",
        "    @staticmethod\n",
        "    def sample_next_token(\n",
        "        input_ids: Int[Tensor, \"seq_len\"],\n",
        "        logits: Float[Tensor, \"d_vocab\"],\n",
        "        temperature=1.0,\n",
        "        top_k=0,\n",
        "        top_p=0.0,\n",
        "        frequency_penalty=0.0,\n",
        "        seed=None\n",
        "    ):\n",
        "        assert input_ids.ndim == 1, \"input_ids should be a 1D sequence of token ids\"\n",
        "        assert temperature >= 0, \"Temperature should be non-negative\"\n",
        "        assert 0 <= top_p <= 1.0, \"Top-p must be a probability\"\n",
        "        assert 0 <= top_k, \"Top-k must be non-negative\"\n",
        "        assert not (top_p != 0 and top_k != 0), \"At most one of top-p and top-k supported\"\n",
        "\n",
        "        # Set random seeds for reproducibility\n",
        "        if seed is not None:\n",
        "            t.manual_seed(seed)\n",
        "            np.random.seed(seed)\n",
        "\n",
        "        # Apply all the specialized sampling methods\n",
        "        if temperature == 0:\n",
        "            return TransformerSampler.greedy_search(logits)\n",
        "        elif temperature != 1.0:\n",
        "            logits = TransformerSampler.apply_temperature(logits, temperature)\n",
        "        if frequency_penalty != 0.0:\n",
        "            logits = TransformerSampler.apply_frequency_penalty(input_ids, logits, frequency_penalty)\n",
        "        if top_k > 0:\n",
        "            return TransformerSampler.sample_top_k(logits, top_k)\n",
        "        if top_p > 0.0:\n",
        "            return TransformerSampler.sample_top_p(logits, top_p)\n",
        "        return TransformerSampler.sample_basic(logits)\n",
        "\n",
        "\n",
        "    @staticmethod\n",
        "    def greedy_search(logits: Float[Tensor, \"d_vocab\"]) -> int:\n",
        "        '''\n",
        "        Returns the most likely token (as an int).\n",
        "        '''\n",
        "        out = logits.argmax().item()\n",
        "        return out\n",
        "\n",
        "\n",
        "    @staticmethod\n",
        "    def apply_temperature(logits: Float[Tensor, \"d_vocab\"], temperature: float) -> Float[Tensor, \"d_vocab\"]:\n",
        "        '''\n",
        "        Applies temperature scaling to the logits.\n",
        "        '''\n",
        "        return logits / temperature\n",
        "\n",
        "\n",
        "\n",
        "    @staticmethod\n",
        "    def apply_frequency_penalty(input_ids: Int[Tensor, \"seq_len\"], logits: Float[Tensor, \"d_vocab\"], freq_penalty: float) -> Float[Tensor, \"d_vocab\"]:\n",
        "        '''\n",
        "        Applies a frequency penalty to the logits.\n",
        "        '''\n",
        "        d_vocab = logits.size(0)\n",
        "        id_freqs = t.bincount(input_ids, minlength=d_vocab)\n",
        "        return logits - freq_penalty * id_freqs\n",
        "\n",
        "\n",
        "\n",
        "    @staticmethod\n",
        "    def sample_basic(logits: Float[Tensor, \"d_vocab\"]) -> int:\n",
        "        '''\n",
        "        Samples from the distribution defined by the logits.\n",
        "        '''\n",
        "        sampled_token = t.distributions.categorical.Categorical(logits=logits).sample()\n",
        "        return sampled_token.item()\n",
        "\n",
        "\n",
        "\n",
        "    @staticmethod\n",
        "    def sample_top_k(logits: Float[Tensor, \"d_vocab\"], k: int) -> int:\n",
        "        '''\n",
        "        Samples from the top k most likely tokens.\n",
        "        '''\n",
        "        top_k_logits, top_k_token_ids = logits.topk(k)\n",
        "        # Get sampled token (which is an index corresponding to the list of top-k tokens)\n",
        "        sampled_token_idx = t.distributions.categorical.Categorical(logits=top_k_logits).sample()\n",
        "        # Get the actual token id, as an int\n",
        "        return top_k_token_ids[sampled_token_idx].item()\n",
        "\n",
        "\n",
        "\n",
        "    @staticmethod\n",
        "    def sample_top_p(logits: Float[Tensor, \"d_vocab\"], top_p: float, min_tokens_to_keep: int = 1) -> int:\n",
        "        '''\n",
        "        Samples from the most likely tokens which make up at least p cumulative probability.\n",
        "        '''\n",
        "        # Sort logits, and get cumulative probabilities\n",
        "        logits_sorted, indices = logits.sort(descending=True, stable=True)\n",
        "        cumul_probs = logits_sorted.softmax(-1).cumsum(-1)\n",
        "        # Choose which tokens to keep, in the set we sample from\n",
        "        n_keep = t.searchsorted(cumul_probs, top_p, side=\"left\").item() + 1\n",
        "        n_keep = max(n_keep, min_tokens_to_keep)\n",
        "        keep_idx = indices[:n_keep]\n",
        "        keep_logits = logits[keep_idx]\n",
        "        # Perform the sampling\n",
        "        sample = t.distributions.categorical.Categorical(logits=keep_logits).sample()\n",
        "        return keep_idx[sample].item()"
      ]
    },
    {
      "cell_type": "markdown",
      "metadata": {
        "id": "fDXP8oJTcPXx"
      },
      "source": [
        "## Main Sampling Function\n",
        "\n",
        "The first thing you should do is implement the `sample` method.\n",
        "\n",
        "### Exercise - implement `sample`\n",
        "\n",
        "```c\n",
        "Difficulty: 🔴🔴🔴⚪⚪\n",
        "Importance: 🔵🔵🔵⚪⚪\n",
        "\n",
        "You should spend up to 20-25 minutes on this exercise.\n",
        "```\n",
        "\n",
        "This function takes in a prompt (in the form of a string), encodes it as a sequence of token ids using `self.tokenizer.encode`, and then continually generates new tokens by repeating the following steps:\n",
        "\n",
        "1. Passing the tokenized prompt through the model to get logits,\n",
        "2. Taking the logit vector corresponding to the last token in the prompt (i.e. the prediction for the *next* token),\n",
        "3. Sampling from this distribution to get a new token, using `self.sample_next_token(input_ids, logits, **kwargs)` (here, `kwargs` contains all the sampling-specific arguments, e.g. temperature, top-k, etc.),\n",
        "4. Appending this new token to the input tokens, and repeating the process until we meet one of two termination critera:\n",
        "    * We generate `max_tokens_generated` new tokens, or\n",
        "    * We generate the end-of-sequence token (which we can access via `self.tokenizer.eos_token_id`).\n",
        "\n",
        "Finally, we use `self.tokenizer.decode` to convert the generated token ids back into a string, and return this string.\n",
        "\n",
        "We also have a `verbose` argument - when this is true you can print your output while it's being sampled.\n",
        "\n",
        "Below is some code which tests your sampling function by performing greedy sampling (which means always choosing the most likely next token at each step).\n",
        "\n",
        "<details>\n",
        "<summary>Why does <code>temperature=0.0</code> correspond to greedy sampling?</summary>\n",
        "\n",
        "To apply a temperature to our sampling (as we'll see later) means to scale all logits by `(1 / temperature)`. The basic intuition here is:\n",
        "\n",
        "* A higher temperature means a smaller scale factor, so the logits all approach zero, i.e. uniform distribution, and the sampling process is a lot more random (producing more diverse and varied outputs)\n",
        "* A lower temperature means a larger scale factor, so the logits all approach infinity, i.e. a dirac delta function, and the sampling process is a lot more deterministic (producing less varied output)\n",
        "\n",
        "As temperature gets close to zero, the difference between the largest logit and second largest logit becomes very large, so the distribution tends to \"probability of 1 on the highest-likelihood token\", i.e. greedy sampling. You can derive this formally if you prefer.\n",
        "</details>\n",
        "\n",
        "\n",
        "A few hints:\n",
        "\n",
        "* Don't forget about tensor shapes! Your model's input should always have a batch dimension, i.e. it should be shape `(1, seq_len)`.\n",
        "* The `sample_next_token` method will return an integer, so make sure you wrap this in a tensor before concatenating it to the end of your input IDs.\n",
        "* Also remember to have your tensors be on the same device (we have a global `device` variable).\n",
        "* Remember to put your model in evaluation mode, using `model.eval()`.\n",
        "\n",
        "To be clear - the idea is for you to implement the `sample` method of the `TransformerSampler` class; you can do this by either editing the class definition directly or (if you want to avoid scrolling) define the `sample` function outside the class and then assign it via `TransformerSampler.sample = sample`."
      ]
    },
    {
      "cell_type": "code",
      "execution_count": null,
      "metadata": {
        "colab": {
          "base_uri": "https://localhost:8080/"
        },
        "id": "UY8VJcSScPXx",
        "outputId": "71d23aa4-b348-4c12-9846-9d6244898519"
      },
      "outputs": [
        {
          "output_type": "stream",
          "name": "stdout",
          "text": [
            "Greedy decoding with prompt: 'Jingle bells, jingle bells, jingle all the way'\n",
            "\n",
            "Your model said: 'Jingle bells, jingle bells, jingle all the way up to the top of the mountain.'\n",
            "\n",
            "Tests passed!\n"
          ]
        }
      ],
      "source": [
        "sampler = TransformerSampler(model, tokenizer)\n",
        "\n",
        "prompt = \"Jingle bells, jingle bells, jingle all the way\"\n",
        "print(f\"Greedy decoding with prompt: {prompt!r}\\n\")\n",
        "\n",
        "output = sampler.sample(prompt, max_tokens_generated=8, temperature=0.0)\n",
        "print(f\"Your model said: {output!r}\\n\")\n",
        "\n",
        "expected = \"Jingle bells, jingle bells, jingle all the way up to the top of the mountain.\"\n",
        "assert output == expected\n",
        "\n",
        "print(\"Tests passed!\")"
      ]
    },
    {
      "cell_type": "markdown",
      "metadata": {
        "id": "hGIJNYIqcPXx"
      },
      "source": [
        "## Sampling with Categorical\n",
        "\n",
        "Now, we'll move into implementing specific sampling methods.\n",
        "\n",
        "PyTorch provides a [`distributions` package](https://pytorch.org/docs/stable/distributions.html#distribution) with a number of convenient methods for sampling from various distributions.\n",
        "\n",
        "For now, we just need [`t.distributions.categorical.Categorical`](https://pytorch.org/docs/stable/distributions.html#categorical). Use this to implement `sample_basic`, which just samples from the provided logits (which may have already been modified by the temperature and frequency penalties).\n",
        "\n",
        "Note that this will be slow since we aren't batching the samples, but don't worry about speed for now.\n"
      ]
    },
    {
      "cell_type": "markdown",
      "metadata": {
        "id": "qiydrLj2cPXy"
      },
      "source": [
        "### Exercise - Basic Sampling\n",
        "\n",
        "```c\n",
        "Difficulty: 🔴🔴⚪⚪⚪\n",
        "Importance: 🔵🔵⚪⚪⚪\n",
        "\n",
        "You should spend up to 5-10 minutes on this exercise.\n",
        "```\n",
        "\n",
        "Implement basic sampling in the `TransformerSampler` class above, then run the code below to verify your solution works.\n"
      ]
    },
    {
      "cell_type": "code",
      "execution_count": null,
      "metadata": {
        "colab": {
          "base_uri": "https://localhost:8080/",
          "referenced_widgets": [
            "7cecc605759047f2a5d364ce54e2c89f",
            "bdb0640c958443d1804d40d79e3a6566",
            "2b12dd44882a451c9b626d35401f2039",
            "7b579191ee1b4e71ac4814bca2c07ec4",
            "307cc152c41c49e880f52eee1c7058ef",
            "34815707f7cd4deb96c572f77d98990a",
            "c8b17a8c5ecb49189ad48662c0b20f93",
            "eed36690ae9a44d8b0ca92ace73239e8",
            "bba82aee7df14d5999e0504602d138bb",
            "9bff77c468714ea8a79e2f331411f6f7",
            "050fe852eb034cf2b4b7fe55fdf47404"
          ]
        },
        "id": "L9c5r-mEcPXy",
        "outputId": "949e9a45-222a-46f3-8ca8-9d4015afed01"
      },
      "outputs": [
        {
          "output_type": "display_data",
          "data": {
            "text/plain": [
              "  0%|          | 0/10000 [00:00<?, ?it/s]"
            ],
            "application/vnd.jupyter.widget-view+json": {
              "version_major": 2,
              "version_minor": 0,
              "model_id": "7cecc605759047f2a5d364ce54e2c89f"
            }
          },
          "metadata": {}
        },
        {
          "output_type": "stream",
          "name": "stdout",
          "text": [
            "Word: ' church'. Expected freq 0.0648, observed freq 0.0670\n",
            "Word: ' house' . Expected freq 0.0367, observed freq 0.0387\n",
            "Word: ' temple'. Expected freq 0.0145, observed freq 0.0126\n",
            "Word: ' same'  . Expected freq 0.0104, observed freq 0.0107\n",
            "Word: ' Church'. Expected freq 0.0097, observed freq 0.0091\n",
            "Tests passed!\n"
          ]
        }
      ],
      "source": [
        "prompt = \"John and Mary went to the\"\n",
        "input_ids = tokenizer.encode(prompt, return_tensors=\"pt\").to(device)\n",
        "logits = model(input_ids)[0, -1]\n",
        "\n",
        "expected_top_5 = {\n",
        "    \" church\": 0.0648,\n",
        "    \" house\": 0.0367,\n",
        "    \" temple\": 0.0145,\n",
        "    \" same\": 0.0104,\n",
        "    \" Church\": 0.0097\n",
        "}\n",
        "frequency_of_top_5 = defaultdict(int)\n",
        "\n",
        "N = 10_000\n",
        "for _ in tqdm(range(N)):\n",
        "    token = TransformerSampler.sample_next_token(input_ids.squeeze(), logits)\n",
        "    frequency_of_top_5[tokenizer.decode(token)] += 1\n",
        "\n",
        "for word in expected_top_5:\n",
        "    expected_freq = expected_top_5[word]\n",
        "    observed_freq = frequency_of_top_5[word] / N\n",
        "    print(f\"Word: {word!r:<9}. Expected freq {expected_freq:.4f}, observed freq {observed_freq:.4f}\")\n",
        "    assert abs(observed_freq - expected_freq) < 0.01, \"Try increasing N if this fails by a small amount.\"\n",
        "\n",
        "print(\"Tests passed!\")"
      ]
    },
    {
      "cell_type": "markdown",
      "metadata": {
        "id": "agkKC41tcPXy"
      },
      "source": [
        "### Exercise - Temperature\n",
        "\n",
        "```c\n",
        "Difficulty: 🔴⚪⚪⚪⚪\n",
        "Importance: 🔵🔵⚪⚪⚪\n",
        "\n",
        "You should spend up to 5-10 minutes on this exercise.\n",
        "```\n",
        "\n",
        "Temperature sounds fancy, but it's literally just dividing the logits by the temperature. You should implement this in your `TransformerSampler` class now.\n"
      ]
    },
    {
      "cell_type": "code",
      "execution_count": null,
      "metadata": {
        "colab": {
          "base_uri": "https://localhost:8080/"
        },
        "id": "2v5xEgjKcPXy",
        "outputId": "071236dd-f692-45b9-c3ec-81e7d1796dcb"
      },
      "outputs": [
        {
          "output_type": "stream",
          "name": "stdout",
          "text": [
            "A low temperature \"sharpens\" or \"peaks\" the distribution:  tensor([  0.0000, 693.1472])\n",
            "A high temperature flattens the distribution:  tensor([0.0000, 0.0007])\n",
            "Tests passed!\n"
          ]
        }
      ],
      "source": [
        "logits = t.tensor([1, 2]).log()\n",
        "\n",
        "cold_logits = TransformerSampler.apply_temperature(logits, temperature=0.001)\n",
        "print('A low temperature \"sharpens\" or \"peaks\" the distribution: ', cold_logits)\n",
        "t.testing.assert_close(cold_logits, 1000.0 * logits)\n",
        "\n",
        "hot_logits = TransformerSampler.apply_temperature(logits, temperature=1000.0)\n",
        "print(\"A high temperature flattens the distribution: \", hot_logits)\n",
        "t.testing.assert_close(hot_logits, 0.001 * logits)\n",
        "\n",
        "print(\"Tests passed!\")"
      ]
    },
    {
      "cell_type": "markdown",
      "metadata": {
        "id": "tKICeeiUcPXy"
      },
      "source": [
        "### Exercise - Frequency Penalty\n",
        "\n",
        "```c\n",
        "Difficulty: 🔴🔴⚪⚪⚪\n",
        "Importance: 🔵⚪⚪⚪⚪\n",
        "\n",
        "You should spend up to 10-15 minutes on this exercise.\n",
        "```\n",
        "\n",
        "The frequency penalty is simple as well: count the number of occurrences of each token, then subtract `freq_penalty` for each occurrence. Hint: use `t.bincount` (documentation [here](https://pytorch.org/docs/stable/generated/torch.bincount.html)) to do this in a vectorized way.\n",
        "\n",
        "You should implement the `apply_frequency_penalty` method in your `TransformerSampler` class now, then run the cell below to check your solution.\n"
      ]
    },
    {
      "cell_type": "markdown",
      "metadata": {
        "id": "WwlymnyjcPXy"
      },
      "source": [
        "<details>\n",
        "<summary>Help - I'm getting a <code>RuntimeError</code>; my tensor sizes don't match.</summary>\n",
        "\n",
        "Look at the documentation page for `t.bincount`. You might need to use the `minlength` argument - why?\n",
        "</details>\n"
      ]
    },
    {
      "cell_type": "code",
      "execution_count": null,
      "metadata": {
        "colab": {
          "base_uri": "https://localhost:8080/"
        },
        "id": "-9yekwtScPXz",
        "outputId": "d860bf0f-bf18-4adf-f2ee-a8df2a55f9b0"
      },
      "outputs": [
        {
          "output_type": "stream",
          "name": "stdout",
          "text": [
            "Tests passed!\n"
          ]
        }
      ],
      "source": [
        "bieber_prompt = \"And I was like Baby, baby, baby, oh Like, Baby, baby, baby, no Like, Baby, baby, baby, oh I thought you'd always be mine, mine\"\n",
        "input_ids = tokenizer.encode(bieber_prompt, return_tensors=\"pt\")\n",
        "logits = t.ones(tokenizer.vocab_size)\n",
        "penalized_logits = TransformerSampler.apply_frequency_penalty(input_ids.squeeze(), logits, 2.0)\n",
        "\n",
        "assert penalized_logits[5156].item() == -11, \"Expected 6 occurrences of ' baby' with leading space, 1-2*6=-11\"\n",
        "assert penalized_logits[14801].item() == -5, \"Expected 3 occurrences of ' Baby' with leading space, 1-2*3=-5\"\n",
        "\n",
        "print(\"Tests passed!\")"
      ]
    },
    {
      "cell_type": "markdown",
      "metadata": {
        "id": "W8fUy1OPcPXz"
      },
      "source": [
        "### Sampling - Manual Testing\n",
        "\n",
        "Run the below cell to get a sense for the `temperature` and `freq_penalty` arguments. Play with your own prompt and try other values.\n",
        "\n",
        "Note: your model can generate newlines or non-printing characters, so calling `print` on generated text sometimes looks awkward on screen. You can call `repr` on the string before printing to have the string escaped nicely.\n"
      ]
    },
    {
      "cell_type": "code",
      "execution_count": null,
      "metadata": {
        "colab": {
          "base_uri": "https://localhost:8080/"
        },
        "id": "KdOwKLj5cPXz",
        "outputId": "aa06a2dd-9e04-4a07-a49e-9e4d1c577b23"
      },
      "outputs": [
        {
          "output_type": "display_data",
          "data": {
            "text/plain": [
              "\u001b[3m                                             Sampling - Manual Testing                                             \u001b[0m\n",
              "┏━━━━━━━━━━━━━━━━━━━━━━━┳━━━━━━━━━━━━━━━━━━━━━━━━━━━━━━┳━━━━━━━━━━━━━━━━━━━━━━━━━━━━━━━━━━━━━━━━━━━━━━━━━━━━━━━━━━┓\n",
              "┃\u001b[1m \u001b[0m\u001b[1mName                 \u001b[0m\u001b[1m \u001b[0m┃\u001b[1m \u001b[0m\u001b[1mKwargs                      \u001b[0m\u001b[1m \u001b[0m┃\u001b[1m \u001b[0m\u001b[1mOutput                                                  \u001b[0m\u001b[1m \u001b[0m┃\n",
              "┡━━━━━━━━━━━━━━━━━━━━━━━╇━━━━━━━━━━━━━━━━━━━━━━━━━━━━━━╇━━━━━━━━━━━━━━━━━━━━━━━━━━━━━━━━━━━━━━━━━━━━━━━━━━━━━━━━━━┩\n",
              "│ High freq penalty     │ {'frequency_penalty': 100.0} │ \"Jingle bells, jingle bells, jingle all the way round    │\n",
              "│                       │                              │ Lesliemount is a British natural that can be admired     │\n",
              "│                       │                              │ without any other kingdom.\\nYou might wonder what's      │\n",
              "│                       │                              │ attracted us\"                                            │\n",
              "│                       │                              │                                                          │\n",
              "│ Negative freq penalty │ {'frequency_penalty': -3.0}  │ 'Jingle bells, jingle bells, jingle all the way, jingle  │\n",
              "│                       │                              │ bells, jingle bells, jingle bells, jingle bells, jingle  │\n",
              "│                       │                              │ bells, jingle bells'                                     │\n",
              "│                       │                              │                                                          │\n",
              "│ Too hot!              │ {'temperature': 2.0}         │ 'Jingle bells, jingle bells, jingle all the way back     │\n",
              "│                       │                              │ cliff look Earthquake\\n48 drums 9€ shore rehearsal girl  │\n",
              "│                       │                              │ spillfill filled interest Lessickson careful too Faster  │\n",
              "│                       │                              │ Emergency Current Walsh'                                 │\n",
              "│                       │                              │                                                          │\n",
              "│ Pleasantly cool       │ {'temperature': 0.7}         │ 'Jingle bells, jingle bells, jingle all the way to the   │\n",
              "│                       │                              │ top.\\n\\n...and nobody ever stopped her.\\n\\nThis is what  │\n",
              "│                       │                              │ happens when you start your own'                         │\n",
              "│                       │                              │                                                          │\n",
              "│ Pleasantly warm       │ {'temperature': 0.9}         │ 'Jingle bells, jingle bells, jingle all the way. The old │\n",
              "│                       │                              │ man turned to look him in the eye. \"Had you the darn     │\n",
              "│                       │                              │ granddest revolver in the world?\"'                       │\n",
              "│                       │                              │                                                          │\n",
              "│ Too cold!             │ {'temperature': 0.01}        │ 'Jingle bells, jingle bells, jingle all the way up to    │\n",
              "│                       │                              │ the top of the mountain.\\n\\nThe first time I saw the     │\n",
              "│                       │                              │ mountain, I was in the middle of'                        │\n",
              "│                       │                              │                                                          │\n",
              "└───────────────────────┴──────────────────────────────┴──────────────────────────────────────────────────────────┘\n"
            ],
            "text/html": [
              "<pre style=\"white-space:pre;overflow-x:auto;line-height:normal;font-family:Menlo,'DejaVu Sans Mono',consolas,'Courier New',monospace\"><span style=\"font-style: italic\">                                             Sampling - Manual Testing                                             </span>\n",
              "┏━━━━━━━━━━━━━━━━━━━━━━━┳━━━━━━━━━━━━━━━━━━━━━━━━━━━━━━┳━━━━━━━━━━━━━━━━━━━━━━━━━━━━━━━━━━━━━━━━━━━━━━━━━━━━━━━━━━┓\n",
              "┃<span style=\"font-weight: bold\"> Name                  </span>┃<span style=\"font-weight: bold\"> Kwargs                       </span>┃<span style=\"font-weight: bold\"> Output                                                   </span>┃\n",
              "┡━━━━━━━━━━━━━━━━━━━━━━━╇━━━━━━━━━━━━━━━━━━━━━━━━━━━━━━╇━━━━━━━━━━━━━━━━━━━━━━━━━━━━━━━━━━━━━━━━━━━━━━━━━━━━━━━━━━┩\n",
              "│ High freq penalty     │ {'frequency_penalty': 100.0} │ \"Jingle bells, jingle bells, jingle all the way round    │\n",
              "│                       │                              │ Lesliemount is a British natural that can be admired     │\n",
              "│                       │                              │ without any other kingdom.\\nYou might wonder what's      │\n",
              "│                       │                              │ attracted us\"                                            │\n",
              "│                       │                              │                                                          │\n",
              "│ Negative freq penalty │ {'frequency_penalty': -3.0}  │ 'Jingle bells, jingle bells, jingle all the way, jingle  │\n",
              "│                       │                              │ bells, jingle bells, jingle bells, jingle bells, jingle  │\n",
              "│                       │                              │ bells, jingle bells'                                     │\n",
              "│                       │                              │                                                          │\n",
              "│ Too hot!              │ {'temperature': 2.0}         │ 'Jingle bells, jingle bells, jingle all the way back     │\n",
              "│                       │                              │ cliff look Earthquake\\n48 drums 9€ shore rehearsal girl  │\n",
              "│                       │                              │ spillfill filled interest Lessickson careful too Faster  │\n",
              "│                       │                              │ Emergency Current Walsh'                                 │\n",
              "│                       │                              │                                                          │\n",
              "│ Pleasantly cool       │ {'temperature': 0.7}         │ 'Jingle bells, jingle bells, jingle all the way to the   │\n",
              "│                       │                              │ top.\\n\\n...and nobody ever stopped her.\\n\\nThis is what  │\n",
              "│                       │                              │ happens when you start your own'                         │\n",
              "│                       │                              │                                                          │\n",
              "│ Pleasantly warm       │ {'temperature': 0.9}         │ 'Jingle bells, jingle bells, jingle all the way. The old │\n",
              "│                       │                              │ man turned to look him in the eye. \"Had you the darn     │\n",
              "│                       │                              │ granddest revolver in the world?\"'                       │\n",
              "│                       │                              │                                                          │\n",
              "│ Too cold!             │ {'temperature': 0.01}        │ 'Jingle bells, jingle bells, jingle all the way up to    │\n",
              "│                       │                              │ the top of the mountain.\\n\\nThe first time I saw the     │\n",
              "│                       │                              │ mountain, I was in the middle of'                        │\n",
              "│                       │                              │                                                          │\n",
              "└───────────────────────┴──────────────────────────────┴──────────────────────────────────────────────────────────┘\n",
              "</pre>\n"
            ]
          },
          "metadata": {}
        }
      ],
      "source": [
        "sampler = TransformerSampler(model, tokenizer)\n",
        "\n",
        "N_RUNS = 1\n",
        "your_prompt = \"Jingle bells, jingle bells, jingle all the way\"\n",
        "cases = [\n",
        "    (\"High freq penalty\", dict(frequency_penalty=100.0)),\n",
        "    (\"Negative freq penalty\", dict(frequency_penalty=-3.0)),\n",
        "    (\"Too hot!\", dict(temperature=2.0)),\n",
        "    (\"Pleasantly cool\", dict(temperature=0.7)),\n",
        "    (\"Pleasantly warm\", dict(temperature=0.9)),\n",
        "    (\"Too cold!\", dict(temperature=0.01)),\n",
        "]\n",
        "\n",
        "table = Table(\"Name\", \"Kwargs\", \"Output\", title=\"Sampling - Manual Testing\")\n",
        "\n",
        "for (name, kwargs) in cases:\n",
        "    for i in range(N_RUNS):\n",
        "        output = sampler.sample(your_prompt, max_tokens_generated=24, **kwargs)\n",
        "        table.add_row(name, repr(kwargs), repr(output) + \"\\n\")\n",
        "\n",
        "rprint(table)"
      ]
    },
    {
      "cell_type": "markdown",
      "metadata": {
        "id": "mCdnzi3ucPXz"
      },
      "source": [
        "## Top-K Sampling\n",
        "\n",
        "Conceptually, the steps in top-k sampling are:\n",
        "- Find the `top_k` largest probabilities (you can use [`torch.topk`](https://pytorch.org/docs/stable/generated/torch.topk.html))\n",
        "- Set all other probabilities to zero\n",
        "- Normalize and sample\n"
      ]
    },
    {
      "cell_type": "markdown",
      "metadata": {
        "id": "kbeLdxoRcPX0"
      },
      "source": [
        "### Exercise - implement `sample_top_k`\n",
        "\n",
        "```c\n",
        "Difficulty: 🔴🔴⚪⚪⚪\n",
        "Importance: 🔵⚪⚪⚪⚪\n",
        "\n",
        "You should spend up to 5-10 minutes on this exercise.\n",
        "```\n",
        "\n",
        "Implement the method `sample_top_k` now. Your implementation should stay in log-space throughout (don't exponentiate to obtain probabilities). This means you don't actually need to worry about normalizing, because `Categorical` accepts unnormalised logits.\n"
      ]
    },
    {
      "cell_type": "code",
      "execution_count": null,
      "metadata": {
        "colab": {
          "base_uri": "https://localhost:8080/",
          "referenced_widgets": [
            "7a546cd980f14670b79fd1d8439d00be",
            "7d03c84d9f484b76a5e22d887670327f",
            "0ed83cb0cc4242b1b958cb84fa1dc595",
            "c3b5824abb064e38ade490d077dca8dc",
            "c6771b0970104186b3bbd9a42fb999d5",
            "a59a8e56e7264bc38b3fd5e0ceb1b1ac",
            "1b9c52cf0d474eb298e8d1605ace8ae4",
            "364ec42580d44a94a541fd92c9c060ac",
            "c9c4930e333147fb99d95fcf7959b506",
            "23010cc3961040ecb1883f3643e2406d",
            "cf8ca55e23d4493e9b8596c6e6aab2f7"
          ]
        },
        "id": "dsdJjWvHcPX1",
        "outputId": "fdb080a2-9e59-4ba4-fd2f-485185bc2b91"
      },
      "outputs": [
        {
          "output_type": "display_data",
          "data": {
            "text/plain": [
              "  0%|          | 0/10000 [00:00<?, ?it/s]"
            ],
            "application/vnd.jupyter.widget-view+json": {
              "version_major": 2,
              "version_minor": 0,
              "model_id": "7a546cd980f14670b79fd1d8439d00be"
            }
          },
          "metadata": {}
        },
        {
          "output_type": "stream",
          "name": "stdout",
          "text": [
            "Word: ' church'. Expected freq = 0.4761, observed freq = 0.4736\n",
            "Word: ' house' . Expected freq = 0.2697, observed freq = 0.2749\n",
            "Word: ' temple'. Expected freq = 0.1065, observed freq = 0.1058\n",
            "Word: ' same'  . Expected freq = 0.0764, observed freq = 0.0783\n",
            "Word: ' Church'. Expected freq = 0.0713, observed freq = 0.0674\n"
          ]
        }
      ],
      "source": [
        "prompt = \"John and Mary went to the\"\n",
        "input_ids = tokenizer.encode(prompt, return_tensors=\"pt\").to(device)\n",
        "logits = model(input_ids)[0, -1]\n",
        "\n",
        "expected_top_5 = {\n",
        "    \" church\": 0.0648,\n",
        "    \" house\": 0.0367,\n",
        "    \" temple\": 0.0145,\n",
        "    \" same\": 0.0104,\n",
        "    \" Church\": 0.0097\n",
        "}\n",
        "topk_5_sum = sum(expected_top_5.values())\n",
        "\n",
        "observed_freqs = defaultdict(int)\n",
        "\n",
        "N = 10000\n",
        "for _ in tqdm(range(N)):\n",
        "    token = TransformerSampler.sample_next_token(input_ids.squeeze(), logits, top_k=5)\n",
        "    observed_freqs[tokenizer.decode(token)] += 1\n",
        "\n",
        "for word in expected_top_5:\n",
        "    expected_freq = expected_top_5[word] / topk_5_sum\n",
        "    observed_freq = observed_freqs[word] / N\n",
        "    print(f\"Word: {word!r:<9}. Expected freq = {expected_freq:.4f}, observed freq = {observed_freq:.4f}\")\n",
        "    assert abs(observed_freq - expected_freq) < 0.015, \"Try increasing N if this fails by a small amount.\""
      ]
    },
    {
      "cell_type": "markdown",
      "metadata": {
        "id": "uyvCvF5gcPX1"
      },
      "source": [
        "### Top-K Sampling - Example\n",
        "\n",
        "The [GPT-2 paper](https://d4mucfpksywv.cloudfront.net/better-language-models/language_models_are_unsupervised_multitask_learners.pdf) famously included an example prompt about unicorns. Now it's your turn to see just how cherry picked this example was.\n",
        "\n",
        "The paper claims they used `top_k=40` and best of 10 samples.\n"
      ]
    },
    {
      "cell_type": "code",
      "execution_count": null,
      "metadata": {
        "colab": {
          "base_uri": "https://localhost:8080/"
        },
        "id": "oiCeB3vycPX1",
        "outputId": "bb399972-d43a-4c06-90b3-4c7b1cdc03ab"
      },
      "outputs": [
        {
          "output_type": "display_data",
          "data": {
            "text/plain": [
              "Your model said:\n",
              "\n",
              "\u001b[1;38;5;208mIn a shocking finding, scientist discovered a herd of unicorns living in a remote, previously unexplored valley, in\u001b[0m\n",
              "\u001b[1;38;5;208mthe Andes Mountains. Even more surprising to the researchers was the fact that the unicorns spoke perfect English. \u001b[0m\n",
              "\u001b[1;38;5;208mAs the researchers wrote in an article published in the Journal of Zoology, the unicorns' vocabulary \u001b[0m\u001b[1;38;5;208m\"has been \u001b[0m\n",
              "\u001b[1;38;5;208mextensively studied for the past two decades, with a specific aim of understanding the language of the animals and \u001b[0m\n",
              "\u001b[1;38;5;208mof which they have been native speakers.\"\u001b[0m\n",
              "\n",
              "\u001b[1;38;5;208mThe researchers were able to demonstrate that the unicorns'\u001b[0m\n"
            ],
            "text/html": [
              "<pre style=\"white-space:pre;overflow-x:auto;line-height:normal;font-family:Menlo,'DejaVu Sans Mono',consolas,'Courier New',monospace\">Your model said:\n",
              "\n",
              "<span style=\"color: #ff8700; text-decoration-color: #ff8700; font-weight: bold\">In a shocking finding, scientist discovered a herd of unicorns living in a remote, previously unexplored valley, in</span>\n",
              "<span style=\"color: #ff8700; text-decoration-color: #ff8700; font-weight: bold\">the Andes Mountains. Even more surprising to the researchers was the fact that the unicorns spoke perfect English. </span>\n",
              "<span style=\"color: #ff8700; text-decoration-color: #ff8700; font-weight: bold\">As the researchers wrote in an article published in the Journal of Zoology, the unicorns' vocabulary </span><span style=\"color: #ff8700; text-decoration-color: #ff8700; font-weight: bold\">\"has been </span>\n",
              "<span style=\"color: #ff8700; text-decoration-color: #ff8700; font-weight: bold\">extensively studied for the past two decades, with a specific aim of understanding the language of the animals and </span>\n",
              "<span style=\"color: #ff8700; text-decoration-color: #ff8700; font-weight: bold\">of which they have been native speakers.\"</span>\n",
              "\n",
              "<span style=\"color: #ff8700; text-decoration-color: #ff8700; font-weight: bold\">The researchers were able to demonstrate that the unicorns'</span>\n",
              "</pre>\n"
            ]
          },
          "metadata": {}
        }
      ],
      "source": [
        "sampler = TransformerSampler(model, tokenizer)\n",
        "\n",
        "your_prompt = \"In a shocking finding, scientist discovered a herd of unicorns living in a remote, previously unexplored valley, in the Andes Mountains. Even more surprising to the researchers was the fact that the unicorns spoke perfect English.\"\n",
        "output = sampler.sample(your_prompt, temperature=0.7, top_k=40, max_tokens_generated=64)\n",
        "rprint(f\"Your model said:\\n\\n[bold dark_orange]{output}\")"
      ]
    },
    {
      "cell_type": "markdown",
      "source": [
        "This is pretty incredible! For some perspective on how much of a paradigm shift even basic models like this represented, we recommend reading [this section from Simulators](https://www.lesswrong.com/posts/vJFdjigzmcXMhNTsx/simulators#The_limit_of_sequence_modeling)."
      ],
      "metadata": {
        "id": "YBLdLEp0yPVl"
      }
    },
    {
      "cell_type": "markdown",
      "metadata": {
        "id": "T97lNkmfcPX1"
      },
      "source": [
        "## Top-p aka Nucleus Sampling\n",
        "\n",
        "The basic idea is that we choose the most likely words, up until the total probability of words we've chosen crosses some threshold. Then we sample from those chosen words based on their logits.\n",
        "\n",
        "The steps are:\n",
        "\n",
        "- Sort the probabilities from largest to smallest\n",
        "- Find the cutoff point where the cumulative probability first equals or exceeds `top_p`. We do the cutoff inclusively, keeping the first probability above the threshold.\n",
        "- If the number of kept probabilities is less than `min_tokens_to_keep`, keep that many tokens instead.\n",
        "- Set all other probabilities to zero\n",
        "- Normalize and sample\n",
        "\n",
        "Optionally, refer to the paper [The Curious Case of Neural Text Degeneration](https://arxiv.org/pdf/1904.09751.pdf) for some comparison of different methods.\n"
      ]
    },
    {
      "cell_type": "markdown",
      "metadata": {
        "id": "GnjoqxzbcPX1"
      },
      "source": [
        "### Exercise - implement `sample_top_p`\n",
        "\n",
        "```c\n",
        "Difficulty: 🔴🔴🔴⚪⚪\n",
        "Importance: 🔵⚪⚪⚪⚪\n",
        "\n",
        "You should spend up to 15-20 minutes on this exercise.\n",
        "```\n",
        "\n",
        "<details>\n",
        "<summary>Example of top-p sampling (if you're confused)</summary>\n",
        "\n",
        "If our probabilities were `(0.4, 0.3, 0.2, 0.1)` and our cutoff was `top_p=0.8`, then we'd sample from the first three elements (because their total probability is `0.9` which is over the threshold, but the first two only have a total prob of `0.7` which is under the threshold). Once we've chosen to sample from those three, we would renormalise them by dividing by their sum (so the probabilities we use when sampling are `(4/9, 3/9, 2/9)`.\n",
        "</details>\n",
        "\n",
        "<details>\n",
        "<summary>Help - I'm stuck on how to implement this function.</summary>\n",
        "\n",
        "First, sort the logits using the `sort(descending=True)` method (this returns values and indices). Then you can get `cumulative_probs` by applying softmax to these logits and taking the cumsum. Then, you can decide how many probabilities to keep by using the `t.searchsorted` function.\n",
        "\n",
        "Once you've decided which probabilities to keep, it's easiest to sample from them using the original logits (you should have preserved the indices when you called `logits.sort`). This way, you don't need to worry about renormalising like you would if you were using probabilities.\n",
        "</details>\n"
      ]
    },
    {
      "cell_type": "code",
      "execution_count": null,
      "metadata": {
        "colab": {
          "base_uri": "https://localhost:8080/",
          "referenced_widgets": [
            "4e78dd4f28b24214bbd31a4fe348feb2",
            "f1ed7780ac7747fb822d17a443ea0236",
            "9fc5ce54061740d2b96913411c49bf93",
            "c35ac355a9a3476cb11022e9f9bd1be8",
            "1d41ab5b57ad4f51aebfd8019a645c2b",
            "243dd313cfa54250b04f7f9a93741c85",
            "84f7f40756dc4829ad48d525ce87136f",
            "926c763d477e49a2809b57511b397752",
            "aa5bb4760b81468ebae1df0ec5e4031f",
            "f4082a37f20c4fe490ca4dce3ef6da5c",
            "1eacd340cdc049fe9183106cebe3ba39"
          ]
        },
        "id": "N3MwZeFxcPX1",
        "outputId": "fe3dce13-d912-4c40-f635-b454fa9c17b4"
      },
      "outputs": [
        {
          "output_type": "display_data",
          "data": {
            "text/plain": [
              "  0%|          | 0/10000 [00:00<?, ?it/s]"
            ],
            "application/vnd.jupyter.widget-view+json": {
              "version_major": 2,
              "version_minor": 0,
              "model_id": "4e78dd4f28b24214bbd31a4fe348feb2"
            }
          },
          "metadata": {}
        },
        {
          "output_type": "stream",
          "name": "stdout",
          "text": [
            "Word: ' church'. Expected freq 0.6384, observed freq 0.6397\n",
            "Word: ' house' . Expected freq 0.3616, observed freq 0.3603\n"
          ]
        }
      ],
      "source": [
        "prompt = \"John and Mary went to the\"\n",
        "input_ids = tokenizer.encode(prompt, return_tensors=\"pt\").to(device)\n",
        "logits = model(input_ids)[0, -1]\n",
        "\n",
        "expected_top_10pct = {\n",
        "    \" church\": 0.0648,\n",
        "    \" house\": 0.0367, # These are the two most likely tokens, and add up to >10%\n",
        "}\n",
        "top_10pct_sum = sum(expected_top_10pct.values())\n",
        "\n",
        "observed_freqs = defaultdict(int)\n",
        "\n",
        "N = 10000\n",
        "for _ in tqdm(range(N)):\n",
        "    token = TransformerSampler.sample_next_token(input_ids.squeeze(), logits, top_p=0.1)\n",
        "    observed_freqs[tokenizer.decode(token)] += 1\n",
        "\n",
        "for word in expected_top_10pct:\n",
        "    expected_freq = expected_top_10pct[word] / top_10pct_sum\n",
        "    observed_freq = observed_freqs[word] / N\n",
        "    print(f\"Word: {word!r:<9}. Expected freq {expected_freq:.4f}, observed freq {observed_freq:.4f}\")\n",
        "    assert abs(observed_freq - expected_freq) < 0.01, \"Try increasing N if this fails by a small amount.\""
      ]
    },
    {
      "cell_type": "markdown",
      "metadata": {
        "id": "IWUCOaM6cPX2"
      },
      "source": [
        "### Top-p Sampling - Example\n"
      ]
    },
    {
      "cell_type": "code",
      "execution_count": null,
      "metadata": {
        "colab": {
          "base_uri": "https://localhost:8080/"
        },
        "id": "Bry04s3FcPX2",
        "outputId": "3616185d-5e27-4cce-f16f-c8f708f880db"
      },
      "outputs": [
        {
          "output_type": "display_data",
          "data": {
            "text/plain": [
              "Your model said:\n",
              "\n",
              "\u001b[1;38;5;208mEliezer Shlomo Yudkowsky \u001b[0m\u001b[1;38;5;208m(\u001b[0m\u001b[1;38;5;208mborn September \u001b[0m\u001b[1;38;5;208m11\u001b[0m\u001b[1;38;5;208m, \u001b[0m\u001b[1;38;5;208m1979\u001b[0m\u001b[1;38;5;208m)\u001b[0m\u001b[1;38;5;208m is an American decision and artificial intelligence \u001b[0m\u001b[1;38;5;208m(\u001b[0m\u001b[1;38;5;208mAI\u001b[0m\u001b[1;38;5;208m)\u001b[0m\u001b[1;38;5;208m \u001b[0m\n",
              "\u001b[1;38;5;208mtheorist and writer, best known for his work on the developments of artificial intelligence \u001b[0m\u001b[1;38;5;208m(\u001b[0m\u001b[1;38;5;208mAI\u001b[0m\u001b[1;38;5;208m)\u001b[0m\u001b[1;38;5;208m and neural network\u001b[0m\n",
              "\u001b[1;38;5;208mtheory. He is also the co-author of a number of books, including, most recently, Neural Networks and Non-Machine \u001b[0m\n",
              "\u001b[1;38;5;208mLearning. He is the founder of Stanford University's Center for Artificial Intelligence and the co-founder of the \u001b[0m\n",
              "\u001b[1;38;5;208mArtificial Intelligence Research\u001b[0m\n"
            ],
            "text/html": [
              "<pre style=\"white-space:pre;overflow-x:auto;line-height:normal;font-family:Menlo,'DejaVu Sans Mono',consolas,'Courier New',monospace\">Your model said:\n",
              "\n",
              "<span style=\"color: #ff8700; text-decoration-color: #ff8700; font-weight: bold\">Eliezer Shlomo Yudkowsky (born September </span><span style=\"color: #ff8700; text-decoration-color: #ff8700; font-weight: bold\">11</span><span style=\"color: #ff8700; text-decoration-color: #ff8700; font-weight: bold\">, </span><span style=\"color: #ff8700; text-decoration-color: #ff8700; font-weight: bold\">1979</span><span style=\"color: #ff8700; text-decoration-color: #ff8700; font-weight: bold\">) is an American decision and artificial intelligence (AI) </span>\n",
              "<span style=\"color: #ff8700; text-decoration-color: #ff8700; font-weight: bold\">theorist and writer, best known for his work on the developments of artificial intelligence (AI) and neural network</span>\n",
              "<span style=\"color: #ff8700; text-decoration-color: #ff8700; font-weight: bold\">theory. He is also the co-author of a number of books, including, most recently, Neural Networks and Non-Machine </span>\n",
              "<span style=\"color: #ff8700; text-decoration-color: #ff8700; font-weight: bold\">Learning. He is the founder of Stanford University's Center for Artificial Intelligence and the co-founder of the </span>\n",
              "<span style=\"color: #ff8700; text-decoration-color: #ff8700; font-weight: bold\">Artificial Intelligence Research</span>\n",
              "</pre>\n"
            ]
          },
          "metadata": {}
        }
      ],
      "source": [
        "sampler = TransformerSampler(model, tokenizer)\n",
        "\n",
        "your_prompt = \"Eliezer Shlomo Yudkowsky (born September 11, 1979) is an American decision and artificial intelligence (AI) theorist and writer, best known for\"\n",
        "output = sampler.sample(your_prompt, temperature=0.7, top_p=0.95, max_tokens_generated=64)\n",
        "rprint(f\"Your model said:\\n\\n[bold dark_orange]{output}\")"
      ]
    },
    {
      "cell_type": "markdown",
      "metadata": {
        "id": "mqRE2h_acPX2"
      },
      "source": [
        "## Beam search\n",
        "\n",
        "Finally, we'll implement a more advanced way of searching over output: **beam search**. You should read the [HuggingFace page](https://huggingface.co/blog/how-to-generate#beam-search) on beam search before moving on.\n",
        "\n",
        "In beam search, we maintain a list of size `num_beams` completions which are the most likely completions so far as measured by the product of their probabilities. Since this product can become very small, we use the sum of log probabilities instead. Note - log probabilities are *not* the same as your model's output. We get log probabilities by first taking softmax of our output and then taking log. You can do this with the [`log_softmax`](https://pytorch.org/docs/stable/generated/torch.nn.functional.log_softmax.html) function / tensor method.\n"
      ]
    },
    {
      "cell_type": "markdown",
      "metadata": {
        "id": "wibkh8dOcPX2"
      },
      "source": [
        "<details>\n",
        "<summary>Log probabilities are equal to the logit output after being translated by some amount X (where X is a function of the original logit output). Can you prove this?</summary>\n",
        "\n",
        "Suppose our vector of logits is $x$, and we take softmax to get a vector of probabilities $p$, then log again to get a vector of log probabilities $l$. Then the $i$-th element of this vector of logprobs is:\n",
        "\n",
        "$$\n",
        "\\begin{align}\n",
        "l_i &= \\log p_i \\\\\n",
        "&= \\log \\frac{\\exp(x_i)}{\\sum_j \\exp(x_j)} \\\\\n",
        "&= x_i - \\log \\sum_j \\exp(x_j) \\\\\n",
        "&= x_i - C\n",
        "\\end{align}\n",
        "$$\n",
        "\n",
        "where $C = \\log \\sum_j \\exp(x_j)$ is the same for all elements. So we can see that $l_i$ is equal to the logit output $x_i$ after being translated by $C$.\n",
        "\n",
        "It's important not to mix up logits and logprobs!\n",
        "</details>\n",
        "\n",
        "<details>\n",
        "<summary>Why do you think we use log softmax rather than logit output?</summary>\n",
        "\n",
        "Logit output is translation invariant. If we had two different beams and we were generating the next tokens in those beams, there would be no reasonable way to compare the two beams to each other, because we could shift the logit vector for one beam by a constant amount without changing the distribution.\n",
        "\n",
        "</details>\n"
      ]
    },
    {
      "cell_type": "markdown",
      "metadata": {
        "id": "s1QG0h7wcPX2"
      },
      "source": [
        "At each iteration, we run the batch of completions through the model and take the log-softmax to obtain `d_vocab` log-probs for each completion, or `num_beams * d_vocab` possible next completions in total.\n",
        "\n",
        "If we kept all of these, then we would have `num_beams * d_vocab * d_vocab` completions after the next iteration which is way too many, so instead we sort them by their score and loop through from best (highest) log probability to worst (lowest).\n",
        "\n",
        "The illustration below might help (based on real results from this method). Here, we have the following hyperparameters:\n",
        "\n",
        "```python\n",
        "num_beams = 3\n",
        "max_new_tokens = 3\n",
        "num_return_sequences = 2\n",
        "```\n"
      ]
    },
    {
      "cell_type": "markdown",
      "metadata": {
        "id": "G6Zfxl-pcPX2"
      },
      "source": [
        "<img src=\"https://raw.githubusercontent.com/callummcdougall/computational-thread-art/master/example_images/misc/beam-search.png\" width=\"1000\">\n"
      ]
    },
    {
      "cell_type": "markdown",
      "metadata": {
        "id": "gh-iImmLcPX2"
      },
      "source": [
        "Note how after each \"generate\" stage, we have `num_beams ** 2` possible completions, which we then filter down to `num_beams`. Can you see why we need to generate this many (and what might happen if we generated fewer)?\n"
      ]
    },
    {
      "cell_type": "markdown",
      "metadata": {
        "id": "y-eXHyZdcPX2"
      },
      "source": [
        "How do we deal with sequences that terminate early (i.e. by generating an EOS token)? Answer - we append them to the list of completions which we'll return at the end, and remove them from the generation tree. Our algorithm terminates when either all our sequences have length `max_new_tokens` larger than the initial prompt length, or we've generated `num_returns_sequences` terminating sequences.\n"
      ]
    },
    {
      "cell_type": "markdown",
      "metadata": {
        "id": "8KVcIOIWcPX2"
      },
      "source": [
        "### Exercise - implement `beam_search`\n",
        "\n",
        "```c\n",
        "Difficulty: 🔴🔴🔴🔴⚪\n",
        "Importance: 🔵⚪⚪⚪⚪\n",
        "\n",
        "You should spend up to 30-40 minutes on this exercise.\n",
        "```\n",
        "\n",
        "You should now complete the `beam_search` method in your `TransformerSampler` class.\n",
        "\n",
        "We've provided one possible template for you to use: the class `Beams`, with important methods `generate` and `filter` for you to fit in (which correspond to the two stages in the diagram above). There are also a few of helper functions in this class:\n",
        "\n",
        "* `new_beams`, which creates a new `Beams` object from an old one.\n",
        "* `__getitem__`, which allows you to index into a `Beams` object to get a specific batch of beams.\n",
        "* `logprobs_and_completions`, which turns a `Beams` object into a list of (logprob sum, string completion) tuples (useful for getting your final output).\n",
        "* `print`, which prints out the current state of the beams (useful for debugging, if you run `beam_search` with `verbose=True`).\n",
        "\n",
        "You can then fill in the `beam_search` function, using this class and its methods.\n",
        "\n",
        "We've provided unit tests for the `generate` and `filter` functions, so you can verify that these are correct before moving on to the full `beam_search` function.\n",
        "\n",
        "**Note that using the `Beams` class is not strictly necessary, you could fill in the `beam_search` function directly if you prefer.** The `Beams` class is just meant to provide one example way you might implement this function. Often, modular code like this is easier to write and debug, and easier to extend to cover new use cases (e.g. when we use caching in the bonus exercises).\n",
        "\n",
        "#### Why all the n-gram repetition?\n",
        "\n",
        "You should observe that, while the output of beam search is sometimes more fluent than some of the other sampling methods you implement, it also has an unfortunate tendency to repeat sentences or sequences. This makes sense - if the model produces a sentence with a relatively high logit sum, then it will want to produce the same sentence again even if it doesn't make a lot of sense in context.\n",
        "\n",
        "A common solution is to ban repetition of n-grams. We've provided the argument `no_repeat_ngram_size` in the `generate` method for this purpose. Using this argument should prevent the model from repeating any n-grams of that size. Good values of this parameter to try are 2 or 3.\n",
        "\n",
        "However, first you should focus on getting a working version of beam search *without* using this argument.\n",
        "\n",
        "<details>\n",
        "<summary>Hint (for <code>no_repeat_ngram_size</code>)</summary>\n",
        "\n",
        "It might be helpful to implement the following method first. You can use this rather than `torch.topk` in your `generate` method.\n",
        "\n",
        "```python\n",
        "def get_topk_non_repeating(\n",
        "    self,\n",
        "    logprobs: Float[Tensor, \"batch d_vocab\"],\n",
        "    no_repeat_ngram_size: int,\n",
        "    k: int,\n",
        ") -> tuple[Float[Tensor, \"k\"], Int[Tensor, \"k\"]]:\n",
        "    '''\n",
        "    logprobs:\n",
        "        tensor of the log-probs for the next token\n",
        "    no_repeat_ngram_size:\n",
        "        size of ngram to avoid repeating\n",
        "    k:\n",
        "        number of top logits to return, for each beam in our collection\n",
        "\n",
        "    Returns:\n",
        "        equivalent to the output of `logprobs.topk(dim=-1)`, but makes sure\n",
        "        that no returned tokens would produce an ngram of size  `no_repeat_ngram_size`\n",
        "        which has already appeared in `self.tokens`.\n",
        "    '''\n",
        "    pass\n",
        "```\n",
        "</details>\n"
      ]
    },
    {
      "cell_type": "code",
      "execution_count": null,
      "metadata": {
        "id": "moFpUzErcPX3"
      },
      "outputs": [],
      "source": [
        "@dataclass\n",
        "class Beams:\n",
        "    '''Class to store beams during beam search.'''\n",
        "    model: DemoTransformer\n",
        "    tokenizer: GPT2TokenizerFast\n",
        "    logprob_sums: Float[Tensor, \"batch\"]\n",
        "    tokens: Int[Tensor, \"batch seq\"]\n",
        "\n",
        "    def new_beams(self, logprob_sums, tokens) -> \"Beams\":\n",
        "        '''Creates a new Beams object with the same model and tokenizer.'''\n",
        "        return Beams(self.model, self.tokenizer, logprob_sums, tokens)\n",
        "\n",
        "    def __getitem__(self, idx) -> \"Beams\":\n",
        "        '''Allows you to take a slice of the beams object along the batch dimension.'''\n",
        "        return self.new_beams(self.logprob_sums[idx], self.tokens[idx])\n",
        "\n",
        "    @property\n",
        "    def logprobs_and_completions(self) -> list[tuple[float, str]]:\n",
        "        '''Returns self as a list of logprob sums and completions (useful for getting final output).'''\n",
        "        return [\n",
        "            (logprob_sum.item(), self.tokenizer.decode(tokens))\n",
        "            for (logprob_sum, tokens) in zip(self.logprob_sums, self.tokens)\n",
        "        ]\n",
        "\n",
        "\n",
        "    def generate(self, toks_per_beam: int, no_repeat_ngram_size: int | None = None) -> \"Beams\":\n",
        "        '''\n",
        "        Starting from the current set of beams (which has length `num_beams`), returns a new\n",
        "        set of `num_beams * toks_per_beam`, containing the best `toks_per_beam` continuations for each\n",
        "        of the original beams.\n",
        "\n",
        "        Optional argument `no_repeat_ngram_size` means your model won't generate any sequences with\n",
        "        a repeating n-gram of this length.\n",
        "        '''\n",
        "        # Get the output logprobs for the next token (for every sequence in current beams)\n",
        "        logprobs: Tensor = self.model(self.tokens)[:, -1, :].log_softmax(-1)\n",
        "\n",
        "        # Get the top `toks_per_beam` tokens for each sequence\n",
        "        # topk_logprobs, topk_tokenIDs = logprobs.topk(k=toks_per_beam)\n",
        "        topk_logprobs, topk_tokenIDs = self.get_topk_non_repeating(logprobs, no_repeat_ngram_size, k=toks_per_beam)\n",
        "\n",
        "        # Get all of the new possible beams, via einops operations\n",
        "        #   Here, we're effectively flattening out the batch dimension and k dimension, to give us tensors\n",
        "        #   with every possible combination of (original sequence, new token) pairs.)\n",
        "        new_logprob_sums = sum([\n",
        "            einops.repeat(self.logprob_sums, \"batch -> (batch k)\", k=toks_per_beam),\n",
        "            einops.rearrange(topk_logprobs, \"batch k -> (batch k)\")\n",
        "        ])\n",
        "        new_tokens = t.concat([\n",
        "            einops.repeat(self.tokens, \"batch seq -> (batch k) seq\", k=toks_per_beam),\n",
        "            einops.rearrange(topk_tokenIDs, \"batch k -> (batch k) 1\")\n",
        "        ], dim=-1)\n",
        "        return self.new_beams(new_logprob_sums, new_tokens)\n",
        "\n",
        "\n",
        "    def filter(self, num_beams: int) -> tuple[\"Beams\", \"Beams\"]:\n",
        "        '''\n",
        "        Returns:\n",
        "            best_beams: Beams\n",
        "                filtered version of self, containing all best `num_beams` which are also not terminated.\n",
        "\n",
        "            early_terminations: Beams\n",
        "                filtered version of self, containing all best `num_beams` which are also terminated.\n",
        "                i.e. the sum of lengths of these two should equal `num_beams`.\n",
        "        '''\n",
        "        # Get the indices of top `num_beams` beams\n",
        "        top_beam_indices = self.logprob_sums.topk(k=num_beams, dim=0).indices.tolist()\n",
        "        # Get the indices of terminated sequences\n",
        "        new_tokens = self.tokens[:, -1]\n",
        "        terminated_indices = t.nonzero(new_tokens == self.tokenizer.eos_token_id)\n",
        "\n",
        "        # Get the indices of the `num_beams` best sequences (some terminated, some not terminated)\n",
        "        best_continuing = [i for i in top_beam_indices if i not in terminated_indices]\n",
        "        best_terminated = [i for i in top_beam_indices if i in terminated_indices]\n",
        "\n",
        "        # Return the beam objects from these indices\n",
        "        return self[best_continuing], self[best_terminated]\n",
        "\n",
        "\n",
        "    def print(self, title=\"Best completions\", max_print_chars=80) -> None:\n",
        "        '''\n",
        "        Prints out a set of sequences with their corresponding logitsums.\n",
        "        '''\n",
        "        if len(self.tokens) == 0:\n",
        "            return\n",
        "        table = Table(\"logitsum\", \"completion\", title=title)\n",
        "        for logprob_sum, tokens in zip(self.logprob_sums, self.tokens):\n",
        "            text = self.tokenizer.decode(tokens)\n",
        "            if len(repr(text)) > max_print_chars:\n",
        "                text = text[:int(0.3 * max_print_chars)] + \" ... \" + text[-int(0.7 * max_print_chars):]\n",
        "            table.add_row(f\"{logprob_sum:>8.3f}\", repr(text))\n",
        "        rprint(table)\n",
        "\n",
        "\n",
        "    def get_topk_non_repeating(\n",
        "        self,\n",
        "        logprobs: Float[Tensor, \"batch d_vocab\"],\n",
        "        no_repeat_ngram_size: int | None,\n",
        "        k: int,\n",
        "    ) -> tuple[Float[Tensor, \"k\"], Int[Tensor, \"k\"]]:\n",
        "        '''\n",
        "        logprobs:\n",
        "            tensor of the log-probs for the next token\n",
        "        no_repeat_ngram_size:\n",
        "            size of ngram to avoid repeating\n",
        "        k:\n",
        "            number of top logits to return, for each beam in our collection\n",
        "\n",
        "        Returns:\n",
        "            equivalent to the output of `logprobs.topk(dim=-1)`, but makes sure\n",
        "            that no returned tokens would produce an ngram of size  `no_repeat_ngram_size`\n",
        "            which has already appeared in `self.tokens`.\n",
        "        '''\n",
        "        batch, seq_len = self.tokens.shape\n",
        "        neg_inf = t.tensor(-1.0e4).to(device)\n",
        "\n",
        "        # If completion isn't long enough for a repetition, or we have no restructions, just return topk\n",
        "        if (no_repeat_ngram_size is not None) and (seq_len > no_repeat_ngram_size-1):\n",
        "            # Otherwise, we need to check for ngram repetitions\n",
        "            # First, get the most recent `no_repeat_ngram_size-1` tokens\n",
        "            last_ngram_prefix = self.tokens[:, seq_len - (no_repeat_ngram_size-1):]\n",
        "            # Next, find all the tokens we're not allowed to generate (by going iterating through past ngrams and seeing if those ngram prefixes match the last one)\n",
        "            for i in range(seq_len - (no_repeat_ngram_size-1)):\n",
        "                ngrams = self.tokens[:, i:i+no_repeat_ngram_size] # (batch, ngram)\n",
        "                ngrams_are_repeated = (ngrams[:, :-1] == last_ngram_prefix).all(-1) # (batch,)\n",
        "                ngram_end_tokens = ngrams[:, [-1]] # (batch, 1)\n",
        "                # Fill logprobs with neginf wherever the ngrams are repeated\n",
        "                logprobs[range(batch), ngram_end_tokens] = t.where(\n",
        "                    ngrams_are_repeated,\n",
        "                    neg_inf,\n",
        "                    logprobs[range(batch), ngram_end_tokens],\n",
        "            )\n",
        "\n",
        "        # Finally, get our actual tokens\n",
        "        return logprobs.topk(k=k, dim=-1)"
      ]
    },
    {
      "cell_type": "markdown",
      "metadata": {
        "id": "e1pdBAk-cPX3"
      },
      "source": [
        "Example usage of the `Beams` class, and the `print` method (not the logitsums aren't necessarily accurate, this example is just an illustration):\n"
      ]
    },
    {
      "cell_type": "code",
      "execution_count": null,
      "metadata": {
        "colab": {
          "base_uri": "https://localhost:8080/"
        },
        "id": "lgzwrKEJcPX3",
        "outputId": "bd8ac961-f7fd-44e1-ecb4-d8308a675d5a"
      },
      "outputs": [
        {
          "output_type": "display_data",
          "data": {
            "text/plain": [
              "\u001b[3m         Best completions          \u001b[0m\n",
              "┏━━━━━━━━━━┳━━━━━━━━━━━━━━━━━━━━━━┓\n",
              "┃\u001b[1m \u001b[0m\u001b[1mlogitsum\u001b[0m\u001b[1m \u001b[0m┃\u001b[1m \u001b[0m\u001b[1mcompletion          \u001b[0m\u001b[1m \u001b[0m┃\n",
              "┡━━━━━━━━━━╇━━━━━━━━━━━━━━━━━━━━━━┩\n",
              "│  -10.000 │ 'this is the third'  │\n",
              "│  -15.000 │ 'this is the second' │\n",
              "│  -20.000 │ 'this is the first'  │\n",
              "└──────────┴──────────────────────┘\n"
            ],
            "text/html": [
              "<pre style=\"white-space:pre;overflow-x:auto;line-height:normal;font-family:Menlo,'DejaVu Sans Mono',consolas,'Courier New',monospace\"><span style=\"font-style: italic\">         Best completions          </span>\n",
              "┏━━━━━━━━━━┳━━━━━━━━━━━━━━━━━━━━━━┓\n",
              "┃<span style=\"font-weight: bold\"> logitsum </span>┃<span style=\"font-weight: bold\"> completion           </span>┃\n",
              "┡━━━━━━━━━━╇━━━━━━━━━━━━━━━━━━━━━━┩\n",
              "│  -10.000 │ 'this is the third'  │\n",
              "│  -15.000 │ 'this is the second' │\n",
              "│  -20.000 │ 'this is the first'  │\n",
              "└──────────┴──────────────────────┘\n",
              "</pre>\n"
            ]
          },
          "metadata": {}
        }
      ],
      "source": [
        "beams = Beams(\n",
        "    model,\n",
        "    tokenizer,\n",
        "    logprob_sums = t.tensor([-10.0, -15.0, -20.0]).to(device),\n",
        "    tokens = t.tensor([\n",
        "        [5661, 318, 262, 2368],\n",
        "        [5661, 318, 262, 1218],\n",
        "        [5661, 318, 262, 717],\n",
        "    ]).to(device)\n",
        ")\n",
        "\n",
        "beams.print()"
      ]
    },
    {
      "cell_type": "markdown",
      "metadata": {
        "id": "MqUUShtfcPX3"
      },
      "source": [
        "And here are some unit tests for your `generate` and `filter` methods:\n"
      ]
    },
    {
      "cell_type": "code",
      "execution_count": null,
      "metadata": {
        "colab": {
          "base_uri": "https://localhost:8080/"
        },
        "id": "iAXpTZ3NcPX3",
        "outputId": "84e83a96-4c7d-4ce7-90df-c1667f413d73"
      },
      "outputs": [
        {
          "output_type": "stream",
          "name": "stdout",
          "text": [
            "Testing generate, without no_repeat_ngram_size argument:\n"
          ]
        },
        {
          "output_type": "display_data",
          "data": {
            "text/plain": [
              "\u001b[3m            Best completions            \u001b[0m\n",
              "┏━━━━━━━━━━┳━━━━━━━━━━━━━━━━━━━━━━━━━━━┓\n",
              "┃\u001b[1m \u001b[0m\u001b[1mlogitsum\u001b[0m\u001b[1m \u001b[0m┃\u001b[1m \u001b[0m\u001b[1mcompletion               \u001b[0m\u001b[1m \u001b[0m┃\n",
              "┡━━━━━━━━━━╇━━━━━━━━━━━━━━━━━━━━━━━━━━━┩\n",
              "│  -11.829 │ 'this is the third time'  │\n",
              "│  -13.488 │ 'this is the third year'  │\n",
              "│  -16.610 │ 'this is the second time' │\n",
              "│  -18.534 │ 'this is the second of'   │\n",
              "│  -21.050 │ 'this is the first time'  │\n",
              "│  -22.922 │ 'this is the first of'    │\n",
              "└──────────┴───────────────────────────┘\n"
            ],
            "text/html": [
              "<pre style=\"white-space:pre;overflow-x:auto;line-height:normal;font-family:Menlo,'DejaVu Sans Mono',consolas,'Courier New',monospace\"><span style=\"font-style: italic\">            Best completions            </span>\n",
              "┏━━━━━━━━━━┳━━━━━━━━━━━━━━━━━━━━━━━━━━━┓\n",
              "┃<span style=\"font-weight: bold\"> logitsum </span>┃<span style=\"font-weight: bold\"> completion                </span>┃\n",
              "┡━━━━━━━━━━╇━━━━━━━━━━━━━━━━━━━━━━━━━━━┩\n",
              "│  -11.829 │ 'this is the third time'  │\n",
              "│  -13.488 │ 'this is the third year'  │\n",
              "│  -16.610 │ 'this is the second time' │\n",
              "│  -18.534 │ 'this is the second of'   │\n",
              "│  -21.050 │ 'this is the first time'  │\n",
              "│  -22.922 │ 'this is the first of'    │\n",
              "└──────────┴───────────────────────────┘\n",
              "</pre>\n"
            ]
          },
          "metadata": {}
        }
      ],
      "source": [
        "print(\"Testing generate, without no_repeat_ngram_size argument:\")\n",
        "new_beams = beams.generate(toks_per_beam=2)\n",
        "new_beams.print()\n",
        "assert new_beams.logprobs_and_completions[0][1] == \"this is the third time\""
      ]
    },
    {
      "cell_type": "code",
      "execution_count": null,
      "metadata": {
        "colab": {
          "base_uri": "https://localhost:8080/"
        },
        "id": "lmAyuDSFcPX3",
        "outputId": "11fb5857-a915-4e64-d436-ddeb6120955a"
      },
      "outputs": [
        {
          "output_type": "stream",
          "name": "stdout",
          "text": [
            "Testing generate, with no_repeat_ngram_size argument:\n"
          ]
        },
        {
          "output_type": "display_data",
          "data": {
            "text/plain": [
              "\u001b[3m           Best completions            \u001b[0m\n",
              "┏━━━━━━━━━━┳━━━━━━━━━━━━━━━━━━━━━━━━━━┓\n",
              "┃\u001b[1m \u001b[0m\u001b[1mlogitsum\u001b[0m\u001b[1m \u001b[0m┃\u001b[1m \u001b[0m\u001b[1mcompletion              \u001b[0m\u001b[1m \u001b[0m┃\n",
              "┡━━━━━━━━━━╇━━━━━━━━━━━━━━━━━━━━━━━━━━┩\n",
              "│   -1.660 │ ' one two one two three' │\n",
              "│   -2.761 │ ' one two one two.'      │\n",
              "│   -2.883 │ ' one two one two,'      │\n",
              "└──────────┴──────────────────────────┘\n"
            ],
            "text/html": [
              "<pre style=\"white-space:pre;overflow-x:auto;line-height:normal;font-family:Menlo,'DejaVu Sans Mono',consolas,'Courier New',monospace\"><span style=\"font-style: italic\">           Best completions            </span>\n",
              "┏━━━━━━━━━━┳━━━━━━━━━━━━━━━━━━━━━━━━━━┓\n",
              "┃<span style=\"font-weight: bold\"> logitsum </span>┃<span style=\"font-weight: bold\"> completion               </span>┃\n",
              "┡━━━━━━━━━━╇━━━━━━━━━━━━━━━━━━━━━━━━━━┩\n",
              "│   -1.660 │ ' one two one two three' │\n",
              "│   -2.761 │ ' one two one two.'      │\n",
              "│   -2.883 │ ' one two one two,'      │\n",
              "└──────────┴──────────────────────────┘\n",
              "</pre>\n"
            ]
          },
          "metadata": {}
        },
        {
          "output_type": "display_data",
          "data": {
            "text/plain": [
              "\u001b[3m           Best completions            \u001b[0m\n",
              "┏━━━━━━━━━━┳━━━━━━━━━━━━━━━━━━━━━━━━━━┓\n",
              "┃\u001b[1m \u001b[0m\u001b[1mlogitsum\u001b[0m\u001b[1m \u001b[0m┃\u001b[1m \u001b[0m\u001b[1mcompletion              \u001b[0m\u001b[1m \u001b[0m┃\n",
              "┡━━━━━━━━━━╇━━━━━━━━━━━━━━━━━━━━━━━━━━┩\n",
              "│   -1.660 │ ' one two one two three' │\n",
              "│   -1.824 │ ' one two one two two'   │\n",
              "│   -2.761 │ ' one two one two.'      │\n",
              "└──────────┴──────────────────────────┘\n"
            ],
            "text/html": [
              "<pre style=\"white-space:pre;overflow-x:auto;line-height:normal;font-family:Menlo,'DejaVu Sans Mono',consolas,'Courier New',monospace\"><span style=\"font-style: italic\">           Best completions            </span>\n",
              "┏━━━━━━━━━━┳━━━━━━━━━━━━━━━━━━━━━━━━━━┓\n",
              "┃<span style=\"font-weight: bold\"> logitsum </span>┃<span style=\"font-weight: bold\"> completion               </span>┃\n",
              "┡━━━━━━━━━━╇━━━━━━━━━━━━━━━━━━━━━━━━━━┩\n",
              "│   -1.660 │ ' one two one two three' │\n",
              "│   -1.824 │ ' one two one two two'   │\n",
              "│   -2.761 │ ' one two one two.'      │\n",
              "└──────────┴──────────────────────────┘\n",
              "</pre>\n"
            ]
          },
          "metadata": {}
        },
        {
          "output_type": "stream",
          "name": "stdout",
          "text": [
            "All tests for `generate` passed!\n"
          ]
        }
      ],
      "source": [
        "print(\"Testing generate, with no_repeat_ngram_size argument:\")\n",
        "\n",
        "bigram_beams = Beams(\n",
        "    model,\n",
        "    tokenizer,\n",
        "    logprob_sums = t.tensor([-0.0]).to(device),\n",
        "    tokens = t.tensor([[530, 734, 530, 734]]).to(device)\n",
        "    # tokens are \" one two one two\"\n",
        ")\n",
        "\n",
        "# With no_repeat_ngram_size=1, should not generate the token \" one\" or \" two\"\n",
        "new_bigram_beams = bigram_beams.generate(toks_per_beam=3, no_repeat_ngram_size=1)\n",
        "new_bigram_beams.print()\n",
        "assert all([not (completion[1].endswith(\" one\") or completion[1].endswith(\" two\")) for completion in new_bigram_beams.logprobs_and_completions])\n",
        "\n",
        "# With no_repeat_ngram_size=2, it can generate \" two\" (which it should), but not \" one\"\n",
        "new_bigram_beams = bigram_beams.generate(toks_per_beam=3, no_repeat_ngram_size=2)\n",
        "new_bigram_beams.print()\n",
        "assert all([not completion[1].endswith(\" one\") for completion in new_bigram_beams.logprobs_and_completions])\n",
        "assert any([not completion[1].endswith(\" two\") for completion in new_bigram_beams.logprobs_and_completions])\n",
        "\n",
        "print(\"All tests for `generate` passed!\")"
      ]
    },
    {
      "cell_type": "code",
      "execution_count": null,
      "metadata": {
        "colab": {
          "base_uri": "https://localhost:8080/"
        },
        "id": "5Bf1nuU0cPX4",
        "outputId": "a3375bb4-cdf2-4742-da9d-173168c0799d"
      },
      "outputs": [
        {
          "output_type": "stream",
          "name": "stdout",
          "text": [
            "All tests for `filter` passed!\n"
          ]
        }
      ],
      "source": [
        "logprob_sums = t.tensor([-1.0, -2.0]).to(device)\n",
        "tokens = t.tensor([\n",
        "    [19485, 13],\n",
        "    [19485, tokenizer.eos_token_id]\n",
        "]).to(device)\n",
        "\n",
        "beams_with_eos = Beams(model, tokenizer, logprob_sums, tokens)\n",
        "best_beams, early_terminations = beams_with_eos.filter(2)\n",
        "\n",
        "t.testing.assert_close(best_beams.logprob_sums, logprob_sums[[0]])\n",
        "t.testing.assert_close(best_beams.tokens, tokens[[0]])\n",
        "\n",
        "assert early_terminations.logprobs_and_completions == [(-2.0, \"Stop\" + tokenizer.eos_token)]\n",
        "\n",
        "print(\"All tests for `filter` passed!\")"
      ]
    },
    {
      "cell_type": "markdown",
      "metadata": {
        "id": "BnJYnKUrcPX4"
      },
      "source": [
        "Once you've passed both these unit tests, you can try implementing the full beam search function. It should create a `Beams` object from the initial prompt, and then repeatedly call `generate` and `filter` until the stopping criteria are met.\n"
      ]
    },
    {
      "cell_type": "code",
      "execution_count": null,
      "metadata": {
        "colab": {
          "base_uri": "https://localhost:8080/",
          "referenced_widgets": [
            "c07b8bd6704f4d0ca66196ee9036bde4",
            "32d1f4d1258a4774bdf49804832e5fed",
            "77ac3cd9d84f40adaf7574563d6c6b63",
            "7c8692f08b1a4de98536191639789bd4",
            "d1d65dc557894096b2c0b43b208a60c0",
            "0b8b61344bce416c84da7f506d1f9333",
            "6b2deefe3b5b4ba3966f4479ceccab8b",
            "ccafb6637b7a4d1097c80a74173b3e81",
            "08832bc355c547e8bcb0b45eb9c6781c",
            "8d3533e770644b2286757fc98c3598a4",
            "4409e8c14ba142ecb80d8c81ff09f7cb"
          ]
        },
        "id": "0NP13WhKcPX4",
        "outputId": "9e819fd8-ca43-4e3b-8335-f6c2441f5e74"
      },
      "outputs": [
        {
          "output_type": "display_data",
          "data": {
            "text/plain": [
              "  0%|          | 0/60 [00:00<?, ?it/s]"
            ],
            "application/vnd.jupyter.widget-view+json": {
              "version_major": 2,
              "version_minor": 0,
              "model_id": "c07b8bd6704f4d0ca66196ee9036bde4"
            }
          },
          "metadata": {}
        },
        {
          "output_type": "stream",
          "name": "stdout",
          "text": [
            "========================= Avg logprob (as probability) = 0.255 =========================\n"
          ]
        },
        {
          "output_type": "display_data",
          "data": {
            "text/plain": [
              "Best output:\n",
              "\n",
              "\u001b[1;38;5;208mThe ships hung in the sky in much the same way that they did at the beginning of the Second World War.\u001b[0m\n",
              "\n",
              "\u001b[1;38;5;208mFor the first time in history, the U.S. Navy was able to carry out a full-scale amphibious assault on a large \u001b[0m\n",
              "\u001b[1;38;5;208mnumber of targets in a short period of time. In doing so, it allowed the Navy to\u001b[0m\n"
            ],
            "text/html": [
              "<pre style=\"white-space:pre;overflow-x:auto;line-height:normal;font-family:Menlo,'DejaVu Sans Mono',consolas,'Courier New',monospace\">Best output:\n",
              "\n",
              "<span style=\"color: #ff8700; text-decoration-color: #ff8700; font-weight: bold\">The ships hung in the sky in much the same way that they did at the beginning of the Second World War.</span>\n",
              "\n",
              "<span style=\"color: #ff8700; text-decoration-color: #ff8700; font-weight: bold\">For the first time in history, the U.S. Navy was able to carry out a full-scale amphibious assault on a large </span>\n",
              "<span style=\"color: #ff8700; text-decoration-color: #ff8700; font-weight: bold\">number of targets in a short period of time. In doing so, it allowed the Navy to</span>\n",
              "</pre>\n"
            ]
          },
          "metadata": {}
        },
        {
          "output_type": "stream",
          "name": "stdout",
          "text": [
            "========================= Avg logprob (as probability) = 0.254 =========================\n"
          ]
        },
        {
          "output_type": "display_data",
          "data": {
            "text/plain": [
              "Best output:\n",
              "\n",
              "\u001b[1;38;5;208mThe ships hung in the sky in much the same way that they did at the beginning of the Second World War.\u001b[0m\n",
              "\n",
              "\u001b[1;38;5;208mFor the first time in history, the U.S. Navy was able to carry out a full-scale amphibious assault on a large \u001b[0m\n",
              "\u001b[1;38;5;208mnumber of targets in a short period of time. It was a major victory for the United States\u001b[0m\n"
            ],
            "text/html": [
              "<pre style=\"white-space:pre;overflow-x:auto;line-height:normal;font-family:Menlo,'DejaVu Sans Mono',consolas,'Courier New',monospace\">Best output:\n",
              "\n",
              "<span style=\"color: #ff8700; text-decoration-color: #ff8700; font-weight: bold\">The ships hung in the sky in much the same way that they did at the beginning of the Second World War.</span>\n",
              "\n",
              "<span style=\"color: #ff8700; text-decoration-color: #ff8700; font-weight: bold\">For the first time in history, the U.S. Navy was able to carry out a full-scale amphibious assault on a large </span>\n",
              "<span style=\"color: #ff8700; text-decoration-color: #ff8700; font-weight: bold\">number of targets in a short period of time. It was a major victory for the United States</span>\n",
              "</pre>\n"
            ]
          },
          "metadata": {}
        },
        {
          "output_type": "stream",
          "name": "stdout",
          "text": [
            "========================= Avg logprob (as probability) = 0.254 =========================\n"
          ]
        },
        {
          "output_type": "display_data",
          "data": {
            "text/plain": [
              "Best output:\n",
              "\n",
              "\u001b[1;38;5;208mThe ships hung in the sky in much the same way that they did at the beginning of the Second World War.\u001b[0m\n",
              "\n",
              "\u001b[1;38;5;208mFor the first time in history, the U.S. Navy was able to carry out a full-scale amphibious assault on a large \u001b[0m\n",
              "\u001b[1;38;5;208mnumber of targets in a short period of time. In fact, it was only a matter of\u001b[0m\n"
            ],
            "text/html": [
              "<pre style=\"white-space:pre;overflow-x:auto;line-height:normal;font-family:Menlo,'DejaVu Sans Mono',consolas,'Courier New',monospace\">Best output:\n",
              "\n",
              "<span style=\"color: #ff8700; text-decoration-color: #ff8700; font-weight: bold\">The ships hung in the sky in much the same way that they did at the beginning of the Second World War.</span>\n",
              "\n",
              "<span style=\"color: #ff8700; text-decoration-color: #ff8700; font-weight: bold\">For the first time in history, the U.S. Navy was able to carry out a full-scale amphibious assault on a large </span>\n",
              "<span style=\"color: #ff8700; text-decoration-color: #ff8700; font-weight: bold\">number of targets in a short period of time. In fact, it was only a matter of</span>\n",
              "</pre>\n"
            ]
          },
          "metadata": {}
        }
      ],
      "source": [
        "sampler = TransformerSampler(model, tokenizer)\n",
        "\n",
        "prompt = \"The ships hung in the sky in much the same way that\"\n",
        "orig_len = len(tokenizer.encode(prompt))\n",
        "\n",
        "final_logitsums_and_completions = sampler.beam_search(\n",
        "    prompt=prompt,\n",
        "    num_return_sequences=3,\n",
        "    num_beams=40,\n",
        "    max_new_tokens=60,\n",
        "    no_repeat_ngram_size=2,\n",
        "    verbose=False\n",
        ")\n",
        "\n",
        "# Print all the best output\n",
        "for logprob_sum, text in final_logitsums_and_completions:\n",
        "    avg_logprob_as_prob = t.tensor(logprob_sum / (len(tokenizer.encode(text)) - orig_len)).exp().item()\n",
        "    print(\"=\" * 25 + f\" Avg logprob (as probability) = {avg_logprob_as_prob:.3f} \" + \"=\" * 25)\n",
        "    rprint(\"Best output:\\n\\n[bold dark_orange]\" + text)"
      ]
    },
    {
      "cell_type": "markdown",
      "metadata": {
        "id": "-dqqc8YxcPX4"
      },
      "source": [
        "## Caching\n"
      ]
    },
    {
      "cell_type": "markdown",
      "metadata": {
        "id": "wAc3yC7QcPX4"
      },
      "source": [
        "*This section is also designed to be challenging, and take quite some time. There are many different ways to solve it, and you're expected to try and find your own way (you should think about this for a while before looking at the suggestions in the dropdowns). Additionally, you might not find it as interesting as some of the other sections. In this case, and if you have a lot of extra time, you might want to start on the \"building BERT\" exercises from this chapter.*\n"
      ]
    },
    {
      "cell_type": "markdown",
      "metadata": {
        "id": "9VKmF1WecPX4"
      },
      "source": [
        "### How can caching help us?\n",
        "\n",
        "The text generation we've done so far is needlessly re-computing certain values, which is very noticeable when you try to generate longer sequences.\n",
        "\n",
        "Suppose you're generating text, and you've already run GPT on the sentence \"My life motto:\". Now you want to run the model on the sentence \"My life motto: Always\". Which computations from the first sentence can you reuse?\n",
        "\n",
        "<details>\n",
        "<summary>Answer</summary>\n",
        "\n",
        "At each attention layer, the only things the attention layer needs from the previous sequence positions are the key and value vectors. This is explained in the following diagram:\n",
        "\n",
        "<img src=\"https://raw.githubusercontent.com/callummcdougall/computational-thread-art/master/example_images/misc/tl-cache.png\" width=\"600\">\n",
        "\n",
        "</details>\n"
      ]
    },
    {
      "cell_type": "markdown",
      "metadata": {
        "id": "ea_jn5wUcPX5"
      },
      "source": [
        "### Exercise - implement caching\n",
        "\n",
        "```c\n",
        "Difficulty: 🔴🔴🔴🔴🔴\n",
        "Importance: 🔵⚪⚪⚪⚪\n",
        "\n",
        "You are expected to spend well over an hour on this exercise, if you choose to do it.\n",
        "```\n",
        "\n",
        "Modify your GPT-2 to optionally use a cache. When you run your GPT on `\"My life motto:\"`, it should store the necessary values in the cache. Then in the next forward pass with just `\" Always\"` as input, it should load the cached values instead of recomputing them (and update the cache). This only needs to work with a single input sequence (batch size of 1), and you can assume that after the first forward pass, the input will be just one token.\n",
        "\n",
        "The design of the cache is completely up to you - discuss possible designs with your partner before writing code. It should be possible to have only one GPT2 instance and many different cache instances at one time. Imagine that you want to use one instance to serve multiple users submitting requests for text generation like in [AI Dungeon](https://aidungeon.io/).\n",
        "\n",
        "You'll also need to rewrite parts of your `DemoTransformer` code, in order to get this to work. The tests have been built to accommodate modules which return their output as the first element in a tuple (i.e. `(output, cache)`) rather than just returning the output, so you should use the tests to verify that your modules still work as expected.\n",
        "\n",
        "Some example considerations:\n",
        "\n",
        "* Which GPT-2 classes need to interact with the cache?\n",
        "    * Will you need to change the positional embedding, and if so then how?\n",
        "* Should the cache be mutable and be updated in place, or does updating actually just create a separate instance?\n",
        "    * *(Hint here - think about how you might use the cache during beam search.)*\n",
        "* Is it possible for other programmers to incorrectly use your cache? Is there a way to prevent this failure mode or at least detect this and complain loudly?\n"
      ]
    },
    {
      "cell_type": "markdown",
      "metadata": {
        "id": "GB9XshlycPX5"
      },
      "source": [
        "<details>\n",
        "<summary>Cache implentation (example)</summary>\n",
        "\n",
        "This KeyValueCache object is structured as just a fancy tensor (it inherits all the methods from Tensor). The main difference is that it has a few extra helper methods, e.g. constructing an empty cache from a Config object.\n",
        "\n",
        "There are other ways you could do this, e.g. having your `KeyValueCache` class contain list of `KeyValueCacheEntry` objects (where each of these corresponds to a different layer).\n",
        "\n",
        "```python\n",
        "# Define a type for a single layer's cache entry (useful for type checking in later functions)\n",
        "KeyValueCacheTensor = Float[Tensor, \"2 batch seq_len n_heads d_head\"]\n",
        "\n",
        "class KeyValueCache(Tensor):\n",
        "    '''\n",
        "    This class holds tensors of key and value vectors, to be used for caching.\n",
        "\n",
        "    If we define it using cfg and batch then it's initialized as empty, but\n",
        "    we can also define it from kv_cache_entries.\n",
        "    '''\n",
        "    @classmethod\n",
        "    def new_empty(cls, cfg: Config, batch: int = 1) -> \"KeyValueCache\":\n",
        "        '''\n",
        "        Doing a forward pass on a cache created in this way indicates \"we don't\n",
        "        yet have a cache, but we want this forward pass to return a cache\".\n",
        "        Whereas using cache=None in a forward pass indicates we don't want to\n",
        "        return a cache.\n",
        "        '''\n",
        "        shape = (cfg.n_layers, 2, batch, 0, cfg.n_heads, cfg.d_head)\n",
        "        return cls(*shape).to(device)\n",
        "\n",
        "    # Define a handful of properties, so they can be referenced directly rather than\n",
        "    # indexing (which is more likely to lead to mistakes)\n",
        "\n",
        "    @property\n",
        "    def k(self) -> Tensor:\n",
        "        return self[:, 0]\n",
        "\n",
        "    @property\n",
        "    def v(self) -> Tensor:\n",
        "        return self[:, 1]\n",
        "\n",
        "    @property\n",
        "    def batch(self) -> int:\n",
        "        return self.shape[2]\n",
        "\n",
        "    @property\n",
        "    def seq_len(self) -> int:\n",
        "        return self.shape[3]\n",
        "\n",
        "\n",
        "# Example implementation:\n",
        "cfg = model.cfg\n",
        "batch = 6\n",
        "kv_cache = KeyValueCache.new_empty(cfg, batch)\n",
        "\n",
        "print(f\"Shape of all kv-cache = {tuple(kv_cache.shape)}\")\n",
        "print(f\"Shape of just k-cache = {tuple(kv_cache.k.shape)}\")\n",
        "for kv_cache_entry in kv_cache:\n",
        "    print(f\"Shape of cache entry for one layer = {tuple(kv_cache_entry.shape)}\")\n",
        "    break\n",
        "print(f\"Batch size = {kv_cache.batch}\")\n",
        "print(f\"Current sequence length = {kv_cache.seq_len}\")\n",
        "```\n",
        "\n",
        "</details>\n",
        "\n",
        "<details>\n",
        "<summary>New <code>DemoTransformer</code> components (and testing)</summary>\n",
        "\n",
        "```python\n",
        "# Define new model parts where necessary, and create a new model & test it\n",
        "# Note that sometimes our modules return a tuple of (tensor output, cache) rather than just output. The\n",
        "# tests have been built to accommodate this.\n",
        "\n",
        "\n",
        "class PosEmbed(nn.Module):\n",
        "    def __init__(self, cfg: Config):\n",
        "        super().__init__()\n",
        "        self.cfg = cfg\n",
        "        self.W_pos = nn.Parameter(t.empty((cfg.n_ctx, cfg.d_model)))\n",
        "        nn.init.normal_(self.W_pos, std=self.cfg.init_range)\n",
        "\n",
        "    def forward(\n",
        "        self,\n",
        "        tokens: Int[Tensor, \"batch position\"],\n",
        "        past_kv_pos_offset: int = 0\n",
        "    ) -> Float[Tensor, \"batch position d_model\"]:\n",
        "\n",
        "        batch, seq_len = tokens.shape\n",
        "        return einops.repeat(\n",
        "            self.W_pos[past_kv_pos_offset: seq_len+past_kv_pos_offset],\n",
        "            \"seq d_model -> batch seq d_model\",\n",
        "            batch=batch\n",
        "        )\n",
        "\n",
        "\n",
        "class Attention(nn.Module):\n",
        "    IGNORE: Float[Tensor, \"\"]\n",
        "\n",
        "    def __init__(self, cfg: Config):\n",
        "        super().__init__()\n",
        "        self.cfg = cfg\n",
        "        self.W_Q = nn.Parameter(t.empty((cfg.n_heads, cfg.d_model, cfg.d_head)))\n",
        "        self.W_K = nn.Parameter(t.empty((cfg.n_heads, cfg.d_model, cfg.d_head)))\n",
        "        self.W_V = nn.Parameter(t.empty((cfg.n_heads, cfg.d_model, cfg.d_head)))\n",
        "        self.W_O = nn.Parameter(t.empty((cfg.n_heads, cfg.d_head, cfg.d_model)))\n",
        "        self.b_Q = nn.Parameter(t.zeros((cfg.n_heads, cfg.d_head)))\n",
        "        self.b_K = nn.Parameter(t.zeros((cfg.n_heads, cfg.d_head)))\n",
        "        self.b_V = nn.Parameter(t.zeros((cfg.n_heads, cfg.d_head)))\n",
        "        self.b_O = nn.Parameter(t.zeros((cfg.d_model)))\n",
        "        nn.init.normal_(self.W_Q, std=self.cfg.init_range)\n",
        "        nn.init.normal_(self.W_K, std=self.cfg.init_range)\n",
        "        nn.init.normal_(self.W_V, std=self.cfg.init_range)\n",
        "        nn.init.normal_(self.W_O, std=self.cfg.init_range)\n",
        "        self.register_buffer(\"IGNORE\", t.tensor(-1e5, dtype=t.float32, device=device))\n",
        "\n",
        "    def forward(\n",
        "        self,\n",
        "        normalized_resid_pre: Float[Tensor, \"batch posn d_model\"],\n",
        "        kv_cache_entry: KeyValueCacheTensor | None = None,\n",
        "    ) -> tuple[\n",
        "        Float[Tensor, \"batch posn d_model\"],\n",
        "        KeyValueCacheTensor | None\n",
        "    ]:\n",
        "        '''\n",
        "        Returns the result of applying attention layer to normlized_resid_pre, as well as\n",
        "        the new cached key and value vectors (which we get from concatenating the old cached\n",
        "        ones with the new key and value vectors).\n",
        "        '''\n",
        "        # Calculate the new query, key and value vectors\n",
        "        q = einops.einsum(\n",
        "            normalized_resid_pre, self.W_Q,\n",
        "            \"batch posn d_model, nheads d_model d_head -> batch posn nheads d_head\"\n",
        "        ) + self.b_Q\n",
        "        k = einops.einsum(\n",
        "            normalized_resid_pre, self.W_K,\n",
        "            \"batch posn d_model, nheads d_model d_head -> batch posn nheads d_head\"\n",
        "        ) + self.b_K\n",
        "        v = einops.einsum(\n",
        "            normalized_resid_pre, self.W_V,\n",
        "            \"batch posn d_model, nheads d_model d_head -> batch posn nheads d_head\"\n",
        "        ) + self.b_V\n",
        "\n",
        "        # If cache_entry is not None, this means we use the previous key and value vectors\n",
        "        # Also we'll need to get a new cache entry which will be used later to construct a new cache\n",
        "        if kv_cache_entry is not None:\n",
        "            k = t.concat([kv_cache_entry[0], k], dim=1)\n",
        "            v = t.concat([kv_cache_entry[1], v], dim=1)\n",
        "            kv_cache_entry = t.stack([k, v])\n",
        "\n",
        "        # Calculate attention scores, then scale and mask, and apply softmax to get probabilities\n",
        "        attn_scores = einops.einsum(\n",
        "            q, k,\n",
        "            \"batch posn_Q nheads d_head, batch posn_K nheads d_head -> batch nheads posn_Q posn_K\"\n",
        "        )\n",
        "        attn_scores_masked = self.apply_causal_mask(attn_scores / self.cfg.d_head ** 0.5)\n",
        "        attn_pattern = attn_scores_masked.softmax(-1)\n",
        "\n",
        "        # Take weighted sum of value vectors, according to attention probabilities\n",
        "        z = einops.einsum(\n",
        "            v, attn_pattern,\n",
        "            \"batch posn_K nheads d_head, batch nheads posn_Q posn_K -> batch posn_Q nheads d_head\"\n",
        "        )\n",
        "\n",
        "        # Calculate output (by applying matrix W_O and summing over heads, then adding bias b_O)\n",
        "        out = einops.einsum(\n",
        "            z, self.W_O,\n",
        "            \"batch posn_Q nheads d_head, nheads d_head d_model -> batch posn_Q d_model\"\n",
        "        ) + self.b_O\n",
        "\n",
        "        return out, kv_cache_entry\n",
        "\n",
        "    def apply_causal_mask(\n",
        "        self, attn_scores: Float[Tensor, \"batch n_heads query_pos key_pos\"]\n",
        "    ) -> Float[Tensor, \"batch n_heads query_pos key_pos\"]:\n",
        "        '''\n",
        "        Here, attn_scores have shape (batch, n_heads, query_pos, key_pos), where query_pos represents the\n",
        "        new (non-cached) positions, and key_pos represent all the positions (cached and non-cached).\n",
        "\n",
        "        So when we create our mask, the query indices and key indices will both go up to the same value\n",
        "        (the full sequence length), but the query indices will start at >0.\n",
        "        '''\n",
        "        new_seq_len, full_seq_len = attn_scores.shape[-2:]\n",
        "        assert new_seq_len <= full_seq_len\n",
        "        q_posn = einops.repeat(attn_scores.new_tensor(range(full_seq_len-new_seq_len, full_seq_len)), \"q -> q k\", k=full_seq_len)\n",
        "        k_posn = einops.repeat(attn_scores.new_tensor(range(full_seq_len)), \"k -> q k\", q=new_seq_len)\n",
        "        mask = q_posn < k_posn\n",
        "        attn_scores = attn_scores.masked_fill(mask, self.IGNORE)\n",
        "        return attn_scores\n",
        "\n",
        "\n",
        "class TransformerBlock(nn.Module):\n",
        "    def __init__(self, cfg: Config):\n",
        "        super().__init__()\n",
        "        self.cfg = cfg\n",
        "        self.ln1 = LayerNorm(cfg)\n",
        "        self.attn = Attention(cfg)\n",
        "        self.ln2 = LayerNorm(cfg)\n",
        "        self.mlp = MLP(cfg)\n",
        "\n",
        "    def forward(\n",
        "        self,\n",
        "        resid_pre: Float[Tensor, \"batch position d_model\"],\n",
        "        kv_cache_entry: KeyValueCacheTensor | None = None,\n",
        "    ) -> Float[Tensor, \"batch position d_model\"]:\n",
        "\n",
        "        attn_out, kv_cache_entry = self.attn(self.ln1(resid_pre), kv_cache_entry)\n",
        "        resid_mid = attn_out + resid_pre\n",
        "        resid_post = self.mlp(self.ln2(resid_mid)) + resid_mid\n",
        "        return resid_post, kv_cache_entry\n",
        "\n",
        "\n",
        "\n",
        "class DemoTransformer(nn.Module):\n",
        "    def __init__(self, cfg: Config):\n",
        "        super().__init__()\n",
        "        self.cfg = cfg\n",
        "        self.embed = Embed(cfg)\n",
        "        self.pos_embed = PosEmbed(cfg)\n",
        "        self.blocks = nn.ModuleList([TransformerBlock(cfg) for _ in range(cfg.n_layers)])\n",
        "        self.ln_final = LayerNorm(cfg)\n",
        "        self.unembed = Unembed(cfg)\n",
        "\n",
        "    def forward(\n",
        "        self,\n",
        "        tokens: Int[Tensor, \"batch seq_pos\"],\n",
        "        kv_cache: KeyValueCache | None = None\n",
        "    ) -> Float[Tensor, \"batch position d_vocab\"]:\n",
        "\n",
        "        using_kv_cache = kv_cache is not None\n",
        "\n",
        "        if using_kv_cache:\n",
        "            # If using kv_cache, then we only need to pass forward the newest tokens\n",
        "            # Remember to add positional offset!\n",
        "            n_cached_tokens = kv_cache.seq_len\n",
        "            tokens = tokens[:, n_cached_tokens:]\n",
        "            residual = self.embed(tokens) + self.pos_embed(tokens, n_cached_tokens)\n",
        "        else:\n",
        "            # If not using cache, turn it into a list of None's (so we can iterate through it)\n",
        "            kv_cache = [None for _ in range(self.cfg.n_layers)]\n",
        "            residual = self.embed(tokens) + self.pos_embed(tokens)\n",
        "\n",
        "        # Apply all layers, and create a (new) kv_cache from the key & value vectors\n",
        "        new_kv_cache_entries: list[KeyValueCacheTensor] = []\n",
        "        for block, kv_cache_entry in zip(self.blocks, kv_cache):\n",
        "            residual, kv_cache_entry = block(residual, kv_cache_entry)\n",
        "            if using_kv_cache: new_kv_cache_entries.append(kv_cache_entry)\n",
        "\n",
        "        logits = self.unembed(self.ln_final(residual))\n",
        "\n",
        "        if using_kv_cache:\n",
        "            return logits, KeyValueCache(t.stack(new_kv_cache_entries))\n",
        "        else:\n",
        "            return logits, None\n",
        "\n",
        "\n",
        "tokens = reference_gpt2.to_tokens(reference_text).to(device)\n",
        "logits, cache = reference_gpt2.run_with_cache(tokens)\n",
        "\n",
        "rand_int_test(PosEmbed, [2, 4])\n",
        "load_gpt2_test(PosEmbed, reference_gpt2.pos_embed, tokens)\n",
        "rand_float_test(Attention, [2, 4, 768])\n",
        "load_gpt2_test(Attention, reference_gpt2.blocks[0].attn, cache[\"normalized\", 0, \"ln1\"])\n",
        "rand_float_test(TransformerBlock, [2, 4, 768])\n",
        "load_gpt2_test(TransformerBlock, reference_gpt2.blocks[0], cache[\"resid_pre\", 0])\n",
        "rand_int_test(DemoTransformer, [2, 4])\n",
        "load_gpt2_test(DemoTransformer, reference_gpt2, tokens)\n",
        "```\n",
        "\n",
        "</details>\n",
        "\n",
        "<details>\n",
        "<summary>New sampling function</summary>\n",
        "\n",
        "```python\n",
        "@t.inference_mode()\n",
        "def sample_with_cache(\n",
        "    self: TransformerSampler,\n",
        "    prompt: str,\n",
        "    max_tokens_generated=100,\n",
        "    kv_cache: KeyValueCache | None = None,\n",
        "    verbose=False,\n",
        "    seed: int | None = None,\n",
        "    **kwargs\n",
        ") -> str:\n",
        "\n",
        "    self.model.eval()\n",
        "    input_ids = self.tokenizer.encode(prompt, return_tensors=\"pt\").to(device)[0]\n",
        "    if seed is not None:\n",
        "        np.random.seed(seed)\n",
        "        t.manual_seed(seed)\n",
        "\n",
        "    for i in tqdm(range(max_tokens_generated)):\n",
        "        # Get new logits (make sure we don't pass in more tokens than the model's context length)\n",
        "        logits, kv_cache = self.model(input_ids[None, -self.cfg.n_ctx:], kv_cache)\n",
        "        # We only take logits for the last token, because this is what we're sampling\n",
        "        logits = logits[0, -1]\n",
        "        # Get next token (as a tensor of size (1, 1) so we can concat it to input_ids)\n",
        "        next_token = t.tensor([TransformerSampler.sample_next_token(input_ids, logits, **kwargs)], device=device)\n",
        "        # Create new input ids string, with shape (1, old_seq_len + 1)\n",
        "        input_ids = t.cat([input_ids, next_token], dim=-1)\n",
        "        # Print out results, if required\n",
        "        if verbose:\n",
        "            print(self.tokenizer.decode(input_ids), end=\"\\r\")\n",
        "        # If our new token was the end-of-text token, stop\n",
        "        if next_token == getattr(self.tokenizer, \"eos_token_id\", None):\n",
        "            break\n",
        "\n",
        "    return self.tokenizer.decode(input_ids)\n",
        "\n",
        "\n",
        "TransformerSampler.sample = sample_with_cache\n",
        "```\n",
        "</details>\n",
        "\n",
        "<details>\n",
        "<summary>Code to verify that the same output is being produced by cache and no-cache versions (and to compare speeds)</summary>\n",
        "\n",
        "```python\n",
        "device = t.device(\"cuda\") # can also try \"cpu\"\n",
        "\n",
        "model = DemoTransformer(Config()).to(device)\n",
        "model.load_state_dict(reference_gpt2.state_dict(), strict=False);\n",
        "\n",
        "initial_text = \"Eliezer Shlomo Yudkowsky (born September 11, 1979) is an American decision and artificial intelligence (AI) theorist and writer, best known for\"\n",
        "# input_ids = tokenizer.encode(initial_text, return_tensors=\"pt\").squeeze()\n",
        "\n",
        "sampler = TransformerSampler(model, tokenizer)\n",
        "\n",
        "# Run the noncached version\n",
        "t0 = time.time()\n",
        "text = sampler.sample(\n",
        "    initial_text,\n",
        "    temperature=0.7,\n",
        "    top_p=0.95,\n",
        "    seed=0,\n",
        ")\n",
        "print(f\"Time taken (without cache): {time.time() - t0:.2f} seconds\")\n",
        "rprint(f\"Model output:\\n\\n[bold dark_orange]{text}[/]\")\n",
        "\n",
        "# Run the cached version\n",
        "t0 = time.time()\n",
        "text_with_cache = sampler.sample(\n",
        "    initial_text,\n",
        "    temperature=0.7,\n",
        "    top_p=0.95,\n",
        "    seed=0,\n",
        "    kv_cache=KeyValueCache.new_empty(sampler.cfg)\n",
        ")\n",
        "print(f\"Time taken (with cache): {time.time() - t0:.2f} seconds\")\n",
        "rprint(f\"Model output:\\n\\n[bold dark_orange]{text_with_cache}[/]\")\n",
        "\n",
        "# # Check they are the same\n",
        "assert text == text_with_cache, \"Your outputs are different, meaning you've probably made a mistake in your cache implementation (or failed to use random seeds).\"\n",
        "print(\"Tests passed!\")\n",
        "```\n",
        "\n",
        "</details>\n"
      ]
    },
    {
      "cell_type": "markdown",
      "metadata": {
        "id": "85IhdKHzcPX5"
      },
      "source": [
        "You may find that your cache implementation provides a modest speedup, but probably not close to the `seq_len`-factor speedup you'd expect from the fact that you only compute one additional token at each step rather than all of them. Why is this? The answer is that, much like everything to do with computational and memory costs in deep learning, it's not so simple. There are a host of different factors which might be bottlenecking our model's forward pass speed. If you try this on the CPU, you should get a much more noticeable speedup.\n",
        "\n",
        "For a bit more on these topics, see [here](https://kipp.ly/blog/transformer-inference-arithmetic/#kv-cache).\n"
      ]
    },
    {
      "cell_type": "markdown",
      "metadata": {
        "id": "oCJRcZUecPX5"
      },
      "source": [
        "## Bonus - cached beam search\n",
        "\n",
        "Can you modify your beam search function to use caching?\n",
        "\n",
        "Depending on how you implemented your cache earlier, you might find that a different form of caching is better suited to beam search.\n",
        "\n",
        "Again, we've provided an example implementation in a dropdown below, which is based on the cache implementation above and the previous solution for `beam_search`.\n",
        "\n",
        "<details>\n",
        "<summary>Cached beam search function</summary>\n",
        "\n",
        "As we touched on earlier, thanks to our modular code, not a lot needs to be changed when adding cache support.\n",
        "\n",
        "```python\n",
        "@dataclass\n",
        "class Beams:\n",
        "    '''Class to store beams during beam search.'''\n",
        "    model: DemoTransformer\n",
        "    tokenizer: GPT2TokenizerFast\n",
        "    logprob_sums: Float[Tensor, \"batch\"]\n",
        "    tokens: Int[Tensor, \"batch seq\"]\n",
        "    kv_cache: KeyValueCache | None = None\n",
        "\n",
        "    def new_beams(self, logprob_sums, tokens, kv_cache) -> \"Beams\":\n",
        "        '''Creates a new Beams object with the same model and tokenizer.'''\n",
        "        return Beams(self.model, self.tokenizer, logprob_sums, tokens, kv_cache)\n",
        "\n",
        "    def __getitem__(self, idx) -> \"Beams\":\n",
        "        '''Helpful function allowing you to take a slice of the beams object along the batch dimension.'''\n",
        "        return self.new_beams(\n",
        "            self.logprob_sums[idx],\n",
        "            self.tokens[idx],\n",
        "            self.kv_cache[:, :, idx] if self.kv_cache is not None else None\n",
        "        )\n",
        "\n",
        "    @property\n",
        "    def logprobs_and_completions(self) -> list[tuple[float, str]]:\n",
        "        '''Returns self as a list of logprob sums and completions (useful for getting final output).'''\n",
        "        return [\n",
        "            (logprob_sum.item(), self.tokenizer.decode(tokens))\n",
        "            for (logprob_sum, tokens) in zip(self.logprob_sums, self.tokens)\n",
        "        ]\n",
        "\n",
        "\n",
        "    def generate(self, new_beams: int, no_repeat_ngram_size: int | None = None) -> \"Beams\":\n",
        "        '''\n",
        "        Starting from the current set of beams (which has length `num_beams`), returns a new\n",
        "        set of `num_beams * new_beams`, containing the best `new_beams` continuations for each\n",
        "        of the original beams.\n",
        "\n",
        "        Optional argument `no_repeat_ngram_size` means your model won't generate any sequences with\n",
        "        a repeating n-gram of this length (don't worry about implementing this until later).\n",
        "        '''\n",
        "        # Get the output logprobs for the next token (for every sequence in current beams)\n",
        "        logprobs, kv_cache = self.model(self.tokens, self.kv_cache)\n",
        "        logprobs = logprobs[:, -1, :].log_softmax(-1)\n",
        "\n",
        "        # Get the top `new_beams` tokens for each sequence\n",
        "        topk_logprobs, topk_tokenIDs = self.get_topk_non_repeating(logprobs, no_repeat_ngram_size, k=new_beams)\n",
        "\n",
        "        # Get all of the new possible beams, via einops operations\n",
        "        #   Here, we're effectively flattening out the batch dimension and k dimension, to give us tensors\n",
        "        #   with every possible combination of (original sequence, new token) pairs.)\n",
        "        new_logprob_sums = sum([\n",
        "            einops.repeat(self.logprob_sums, \"batch -> (batch k)\", k=new_beams),\n",
        "            einops.rearrange(topk_logprobs, \"batch k -> (batch k)\")\n",
        "        ])\n",
        "        new_tokens = t.concat([\n",
        "            einops.repeat(self.tokens, \"batch seq -> (batch k) seq\", k=new_beams),\n",
        "            einops.rearrange(topk_tokenIDs, \"batch k -> (batch k) 1\")\n",
        "        ], dim=-1)\n",
        "        new_kv_cache = None if (self.kv_cache is None) else einops.repeat(\n",
        "            kv_cache, \"layer k_and_v batch ... -> layer k_and_v (batch k) ...\", k=new_beams\n",
        "        )\n",
        "        return self.new_beams(new_logprob_sums, new_tokens, new_kv_cache)\n",
        "\n",
        "\n",
        "    def filter(self, num_beams: int) -> tuple[\"Beams\", \"Beams\"]:\n",
        "        '''\n",
        "        Returns:\n",
        "            best_beams: Beams\n",
        "                filtered version of self, containing all best `num_beams` which are also not terminated.\n",
        "\n",
        "            early_terminations: Beams\n",
        "                filtered version of self, containing all best `num_beams` which are also terminated.\n",
        "                i.e. the sum of lengths of these two should equal `num_beams`.\n",
        "        '''\n",
        "        # Get the indices of top `num_beams` beams\n",
        "        top_beam_indices = self.logprob_sums.topk(k=num_beams, dim=0).indices.tolist()\n",
        "        # Get the indices of terminated sequences\n",
        "        new_tokens = self.tokens[:, -1]\n",
        "        terminated_indices = t.nonzero(new_tokens == self.tokenizer.eos_token_id)\n",
        "\n",
        "        # Get the indices of the `num_beams` best sequences (some terminated, some not terminated)\n",
        "        best_continuing = [i for i in top_beam_indices if i not in terminated_indices]\n",
        "        best_terminated = [i for i in top_beam_indices if i in terminated_indices]\n",
        "\n",
        "        # Return the beam objects from these indices\n",
        "        return self[best_continuing], self[best_terminated]\n",
        "\n",
        "\n",
        "    def get_topk_non_repeating(\n",
        "        self,\n",
        "        logprobs: Float[Tensor, \"batch d_vocab\"],\n",
        "        no_repeat_ngram_size: int | None,\n",
        "        k: int,\n",
        "    ) -> tuple[Float[Tensor, \"k\"], Int[Tensor, \"k\"]]:\n",
        "        '''\n",
        "        logprobs:\n",
        "            tensor of the log-probs for the next token\n",
        "        no_repeat_ngram_size:\n",
        "            size of ngram to avoid repeating\n",
        "        k:\n",
        "            number of top logits to return, for each beam in our collection\n",
        "\n",
        "        Returns:\n",
        "            equivalent to the output of `logprobs.topk(dim=-1)`, but makes sure\n",
        "            that no returned tokens would produce an ngram of size  `no_repeat_ngram_size`\n",
        "            which has already appeared in `self.tokens`.\n",
        "        '''\n",
        "        batch, seq_len = self.tokens.shape\n",
        "        neg_inf = t.tensor(-1.0e4).to(device)\n",
        "\n",
        "        # If completion isn't long enough for a repetition, or we have no restructions, just return topk\n",
        "        if (no_repeat_ngram_size is not None) and (seq_len > no_repeat_ngram_size-1):\n",
        "            # Otherwise, we need to check for ngram repetitions\n",
        "            # First, get the most recent `no_repeat_ngram_size-1` tokens\n",
        "            last_ngram_prefix = self.tokens[:, seq_len - (no_repeat_ngram_size-1):]\n",
        "            # Next, find all the tokens we're not allowed to generate (by going iterating through past ngrams and seeing if those ngram prefixes match the last one)\n",
        "            for i in range(seq_len - (no_repeat_ngram_size-1)):\n",
        "                ngrams = self.tokens[:, i:i+no_repeat_ngram_size] # (batch, ngram)\n",
        "                ngrams_are_repeated = (ngrams[:, :-1] == last_ngram_prefix).all(-1) # (batch,)\n",
        "                ngram_end_tokens = ngrams[:, [-1]] # (batch, 1)\n",
        "                # Fill logprobs with neginf wherever the ngrams are repeated\n",
        "                logprobs[range(batch), ngram_end_tokens] = t.where(\n",
        "                    ngrams_are_repeated,\n",
        "                    neg_inf,\n",
        "                    logprobs[range(batch), ngram_end_tokens],\n",
        "            )\n",
        "\n",
        "        # Finally, get our actual tokens\n",
        "        return logprobs.topk(k=k, dim=-1)\n",
        "\n",
        "    def print(self, title=\"Best completions\", max_print_chars=80) -> None:\n",
        "        '''\n",
        "        Prints out a set of sequences with their corresponding logitsums.\n",
        "        '''\n",
        "        if len(self.tokens) == 0:\n",
        "            return\n",
        "        table = Table(\"logitsum\", \"completion\", title=title)\n",
        "        for logprob_sum, tokens in zip(self.logprob_sums, self.tokens):\n",
        "            text = self.tokenizer.decode(tokens)\n",
        "            if len(repr(text)) > max_print_chars:\n",
        "                text = text[:int(0.3 * max_print_chars)] + \" ... \" + text[-int(0.7 * max_print_chars):]\n",
        "            table.add_row(f\"{logprob_sum:>8.3f}\", repr(text))\n",
        "        rprint(table)\n",
        "\n",
        "\n",
        "    @t.inference_mode()\n",
        "    def beam_search(\n",
        "        self,\n",
        "        prompt: str,\n",
        "        num_return_sequences: int,\n",
        "        num_beams: int,\n",
        "        max_new_tokens: int,\n",
        "        no_repeat_ngram_size: int | None = None,\n",
        "        kv_cache: KeyValueCache | None = None,\n",
        "        verbose=False\n",
        "    ) -> list[tuple[float, Tensor]]:\n",
        "        '''\n",
        "        Implements a beam search, by repeatedly performing the `generate` and `filter` steps (starting\n",
        "        from the initial prompt) until either of the two stopping criteria are met:\n",
        "\n",
        "            (1) we've generated `max_new_tokens` tokens, or\n",
        "            (2) we've generated `num_returns_sequences` terminating sequences.\n",
        "\n",
        "        To modularize this function, most of the actual complexity is in the Beams class,\n",
        "        in the `generate` and `filter` methods.\n",
        "        '''\n",
        "\n",
        "        assert num_return_sequences <= num_beams\n",
        "        self.model.eval()\n",
        "\n",
        "        tokens = self.tokenizer.encode(prompt, return_tensors=\"pt\").to(device)\n",
        "\n",
        "        # list for final beams to return (and early terminations)\n",
        "        final_logprobs_and_completions: list[tuple[float, str]] = []\n",
        "        # Keep track of all best beams after each step\n",
        "        best_beams = Beams(self.model, self.tokenizer, t.tensor([0.0]).to(device), tokens, kv_cache)\n",
        "\n",
        "        for n in tqdm(range(max_new_tokens)):\n",
        "\n",
        "            # Generation step\n",
        "            best_beams = best_beams.generate(num_beams, no_repeat_ngram_size)\n",
        "\n",
        "            # Filtering step\n",
        "            best_beams, best_beams_terminated = best_beams.filter(num_beams)\n",
        "            final_logprobs_and_completions.extend(best_beams_terminated.logprobs_and_completions)\n",
        "\n",
        "            # Print output\n",
        "            if verbose:\n",
        "                best_beams.print()\n",
        "\n",
        "            # Check stopping condition\n",
        "            if len(final_logprobs_and_completions) >= num_return_sequences:\n",
        "                return final_logprobs_and_completions[:num_return_sequences]\n",
        "\n",
        "        final_logprobs_and_completions.extend(best_beams.logprobs_and_completions)\n",
        "        final_logprobs_and_completions = final_logprobs_and_completions[:num_return_sequences]\n",
        "        return final_logprobs_and_completions\n",
        "\n",
        "\n",
        "```\n",
        "\n",
        "</details>\n",
        "\n",
        "<details>\n",
        "<summary>Code to verify that the same output is being produced by cache and no-cache versions (and to compare speeds)</summary>\n",
        "\n",
        "```python\n",
        "prompt = \"For you, the day Bison graced your village was the most important day of your life. But for me, it was\"\n",
        "orig_len = len(tokenizer.encode(prompt))\n",
        "\n",
        "beam_search_kwargs = dict(\n",
        "    prompt=prompt,\n",
        "    num_return_sequences=3,\n",
        "    num_beams=20,\n",
        "    max_new_tokens=60,\n",
        "    no_repeat_ngram_size=2,\n",
        "    verbose=False\n",
        ")\n",
        "\n",
        "sampler = TransformerSampler(model, tokenizer)\n",
        "\n",
        "# Run the noncached version\n",
        "t0 = time.time()\n",
        "final_logitsums_and_completions = sampler.beam_search(**beam_search_kwargs)\n",
        "logprob_sum, text = final_logitsums_and_completions[0]\n",
        "avg_logprob_as_prob = t.tensor(logprob_sum / (len(tokenizer.encode(text)) - orig_len)).exp().item()\n",
        "print(f\"Time (without cache): {time.time() - t0:.2f} seconds\")\n",
        "print(f\"Avg logprob (expressed as a probability) = {avg_logprob_as_prob:.3f}\")\n",
        "rprint(f\"Output:\\n\\n[bold dark_orange]{text}[/]\\n\\n\")\n",
        "\n",
        "# Run the cached version\n",
        "t0 = time.time()\n",
        "beam_search_kwargs[\"kv_cache\"] = KeyValueCache.new_empty(model.cfg)\n",
        "final_logitsums_and_completions = sampler.beam_search(**beam_search_kwargs)\n",
        "logprob_sum, text_with_cache = final_logitsums_and_completions[0]\n",
        "avg_logprob_as_prob = t.tensor(logprob_sum / (len(tokenizer.encode(text)) - orig_len)).exp().item()\n",
        "print(f\"Time (with cache): {time.time() - t0:.2f} seconds\")\n",
        "print(f\"Avg logprob (as probability) = {avg_logprob_as_prob:.3f}\", end=\"\")\n",
        "rprint(f\"Output:\\n\\n[bold dark_orange]{text_with_cache}[/]\\n\\n\")\n",
        "\n",
        "# Check they are the same\n",
        "assert text == text_with_cache, \"Your outputs are different, meaning you've probably made a mistake in your cache implementation.\"\n",
        "print(\"Tests passed!\")\n",
        "```\n",
        "\n",
        "</details>\n"
      ]
    }
  ],
  "metadata": {
    "accelerator": "GPU",
    "colab": {
      "collapsed_sections": [
        "Ny4PdCRf3YPu",
        "3mItbKVVm4Rx",
        "w1x_mWI6m4Rz",
        "BaSOTaLdm4R6",
        "QfeyG6NZm4SC",
        "kQAhp_gOcPXw"
      ],
      "provenance": [],
      "gpuClass": "premium",
      "include_colab_link": true
    },
    "gpuClass": "premium",
    "kernelspec": {
      "display_name": "arena",
      "language": "python",
      "name": "python3"
    },
    "language_info": {
      "codemirror_mode": {
        "name": "ipython",
        "version": 3
      },
      "file_extension": ".py",
      "mimetype": "text/x-python",
      "name": "python",
      "nbconvert_exporter": "python",
      "pygments_lexer": "ipython3",
      "version": "3.10.9"
    },
    "orig_nbformat": 4,
    "vscode": {
      "interpreter": {
        "hash": "0575d7a87c0e74eddddcbc1a627da1d71db6b89a3121c036174dfb29a1bf0df3"
      }
    },
    "widgets": {
      "application/vnd.jupyter.widget-state+json": {
        "6f87610bff0c4c72be005e18d0fc2dec": {
          "model_module": "@jupyter-widgets/controls",
          "model_name": "HBoxModel",
          "model_module_version": "1.5.0",
          "state": {
            "_dom_classes": [],
            "_model_module": "@jupyter-widgets/controls",
            "_model_module_version": "1.5.0",
            "_model_name": "HBoxModel",
            "_view_count": null,
            "_view_module": "@jupyter-widgets/controls",
            "_view_module_version": "1.5.0",
            "_view_name": "HBoxView",
            "box_style": "",
            "children": [
              "IPY_MODEL_653c5df9e0e54a1da8c0bc75d53c14a3",
              "IPY_MODEL_60466c14b8bc44f3b006f2a2880b4279",
              "IPY_MODEL_bc52ae2e4b094ed5aadb67a3eea39be2"
            ],
            "layout": "IPY_MODEL_2aaedb19d12746b6a06d846a1a74222c"
          }
        },
        "653c5df9e0e54a1da8c0bc75d53c14a3": {
          "model_module": "@jupyter-widgets/controls",
          "model_name": "HTMLModel",
          "model_module_version": "1.5.0",
          "state": {
            "_dom_classes": [],
            "_model_module": "@jupyter-widgets/controls",
            "_model_module_version": "1.5.0",
            "_model_name": "HTMLModel",
            "_view_count": null,
            "_view_module": "@jupyter-widgets/controls",
            "_view_module_version": "1.5.0",
            "_view_name": "HTMLView",
            "description": "",
            "description_tooltip": null,
            "layout": "IPY_MODEL_167e3bd044c14f7bbcec0f6acafce642",
            "placeholder": "​",
            "style": "IPY_MODEL_e3464984ee9145bd8f7e99ccc0381d25",
            "value": "Downloading readme: 100%"
          }
        },
        "60466c14b8bc44f3b006f2a2880b4279": {
          "model_module": "@jupyter-widgets/controls",
          "model_name": "FloatProgressModel",
          "model_module_version": "1.5.0",
          "state": {
            "_dom_classes": [],
            "_model_module": "@jupyter-widgets/controls",
            "_model_module_version": "1.5.0",
            "_model_name": "FloatProgressModel",
            "_view_count": null,
            "_view_module": "@jupyter-widgets/controls",
            "_view_module_version": "1.5.0",
            "_view_name": "ProgressView",
            "bar_style": "success",
            "description": "",
            "description_tooltip": null,
            "layout": "IPY_MODEL_2e917d03744046a189e2f06384aabbf5",
            "max": 373,
            "min": 0,
            "orientation": "horizontal",
            "style": "IPY_MODEL_030ab3788549468084a71f0ef0159bf1",
            "value": 373
          }
        },
        "bc52ae2e4b094ed5aadb67a3eea39be2": {
          "model_module": "@jupyter-widgets/controls",
          "model_name": "HTMLModel",
          "model_module_version": "1.5.0",
          "state": {
            "_dom_classes": [],
            "_model_module": "@jupyter-widgets/controls",
            "_model_module_version": "1.5.0",
            "_model_name": "HTMLModel",
            "_view_count": null,
            "_view_module": "@jupyter-widgets/controls",
            "_view_module_version": "1.5.0",
            "_view_name": "HTMLView",
            "description": "",
            "description_tooltip": null,
            "layout": "IPY_MODEL_b8682a70b0b94c249216e2784075c118",
            "placeholder": "​",
            "style": "IPY_MODEL_bcf21571b416420abab8383121fe752e",
            "value": " 373/373 [00:00&lt;00:00, 34.4kB/s]"
          }
        },
        "2aaedb19d12746b6a06d846a1a74222c": {
          "model_module": "@jupyter-widgets/base",
          "model_name": "LayoutModel",
          "model_module_version": "1.2.0",
          "state": {
            "_model_module": "@jupyter-widgets/base",
            "_model_module_version": "1.2.0",
            "_model_name": "LayoutModel",
            "_view_count": null,
            "_view_module": "@jupyter-widgets/base",
            "_view_module_version": "1.2.0",
            "_view_name": "LayoutView",
            "align_content": null,
            "align_items": null,
            "align_self": null,
            "border": null,
            "bottom": null,
            "display": null,
            "flex": null,
            "flex_flow": null,
            "grid_area": null,
            "grid_auto_columns": null,
            "grid_auto_flow": null,
            "grid_auto_rows": null,
            "grid_column": null,
            "grid_gap": null,
            "grid_row": null,
            "grid_template_areas": null,
            "grid_template_columns": null,
            "grid_template_rows": null,
            "height": null,
            "justify_content": null,
            "justify_items": null,
            "left": null,
            "margin": null,
            "max_height": null,
            "max_width": null,
            "min_height": null,
            "min_width": null,
            "object_fit": null,
            "object_position": null,
            "order": null,
            "overflow": null,
            "overflow_x": null,
            "overflow_y": null,
            "padding": null,
            "right": null,
            "top": null,
            "visibility": null,
            "width": null
          }
        },
        "167e3bd044c14f7bbcec0f6acafce642": {
          "model_module": "@jupyter-widgets/base",
          "model_name": "LayoutModel",
          "model_module_version": "1.2.0",
          "state": {
            "_model_module": "@jupyter-widgets/base",
            "_model_module_version": "1.2.0",
            "_model_name": "LayoutModel",
            "_view_count": null,
            "_view_module": "@jupyter-widgets/base",
            "_view_module_version": "1.2.0",
            "_view_name": "LayoutView",
            "align_content": null,
            "align_items": null,
            "align_self": null,
            "border": null,
            "bottom": null,
            "display": null,
            "flex": null,
            "flex_flow": null,
            "grid_area": null,
            "grid_auto_columns": null,
            "grid_auto_flow": null,
            "grid_auto_rows": null,
            "grid_column": null,
            "grid_gap": null,
            "grid_row": null,
            "grid_template_areas": null,
            "grid_template_columns": null,
            "grid_template_rows": null,
            "height": null,
            "justify_content": null,
            "justify_items": null,
            "left": null,
            "margin": null,
            "max_height": null,
            "max_width": null,
            "min_height": null,
            "min_width": null,
            "object_fit": null,
            "object_position": null,
            "order": null,
            "overflow": null,
            "overflow_x": null,
            "overflow_y": null,
            "padding": null,
            "right": null,
            "top": null,
            "visibility": null,
            "width": null
          }
        },
        "e3464984ee9145bd8f7e99ccc0381d25": {
          "model_module": "@jupyter-widgets/controls",
          "model_name": "DescriptionStyleModel",
          "model_module_version": "1.5.0",
          "state": {
            "_model_module": "@jupyter-widgets/controls",
            "_model_module_version": "1.5.0",
            "_model_name": "DescriptionStyleModel",
            "_view_count": null,
            "_view_module": "@jupyter-widgets/base",
            "_view_module_version": "1.2.0",
            "_view_name": "StyleView",
            "description_width": ""
          }
        },
        "2e917d03744046a189e2f06384aabbf5": {
          "model_module": "@jupyter-widgets/base",
          "model_name": "LayoutModel",
          "model_module_version": "1.2.0",
          "state": {
            "_model_module": "@jupyter-widgets/base",
            "_model_module_version": "1.2.0",
            "_model_name": "LayoutModel",
            "_view_count": null,
            "_view_module": "@jupyter-widgets/base",
            "_view_module_version": "1.2.0",
            "_view_name": "LayoutView",
            "align_content": null,
            "align_items": null,
            "align_self": null,
            "border": null,
            "bottom": null,
            "display": null,
            "flex": null,
            "flex_flow": null,
            "grid_area": null,
            "grid_auto_columns": null,
            "grid_auto_flow": null,
            "grid_auto_rows": null,
            "grid_column": null,
            "grid_gap": null,
            "grid_row": null,
            "grid_template_areas": null,
            "grid_template_columns": null,
            "grid_template_rows": null,
            "height": null,
            "justify_content": null,
            "justify_items": null,
            "left": null,
            "margin": null,
            "max_height": null,
            "max_width": null,
            "min_height": null,
            "min_width": null,
            "object_fit": null,
            "object_position": null,
            "order": null,
            "overflow": null,
            "overflow_x": null,
            "overflow_y": null,
            "padding": null,
            "right": null,
            "top": null,
            "visibility": null,
            "width": null
          }
        },
        "030ab3788549468084a71f0ef0159bf1": {
          "model_module": "@jupyter-widgets/controls",
          "model_name": "ProgressStyleModel",
          "model_module_version": "1.5.0",
          "state": {
            "_model_module": "@jupyter-widgets/controls",
            "_model_module_version": "1.5.0",
            "_model_name": "ProgressStyleModel",
            "_view_count": null,
            "_view_module": "@jupyter-widgets/base",
            "_view_module_version": "1.2.0",
            "_view_name": "StyleView",
            "bar_color": null,
            "description_width": ""
          }
        },
        "b8682a70b0b94c249216e2784075c118": {
          "model_module": "@jupyter-widgets/base",
          "model_name": "LayoutModel",
          "model_module_version": "1.2.0",
          "state": {
            "_model_module": "@jupyter-widgets/base",
            "_model_module_version": "1.2.0",
            "_model_name": "LayoutModel",
            "_view_count": null,
            "_view_module": "@jupyter-widgets/base",
            "_view_module_version": "1.2.0",
            "_view_name": "LayoutView",
            "align_content": null,
            "align_items": null,
            "align_self": null,
            "border": null,
            "bottom": null,
            "display": null,
            "flex": null,
            "flex_flow": null,
            "grid_area": null,
            "grid_auto_columns": null,
            "grid_auto_flow": null,
            "grid_auto_rows": null,
            "grid_column": null,
            "grid_gap": null,
            "grid_row": null,
            "grid_template_areas": null,
            "grid_template_columns": null,
            "grid_template_rows": null,
            "height": null,
            "justify_content": null,
            "justify_items": null,
            "left": null,
            "margin": null,
            "max_height": null,
            "max_width": null,
            "min_height": null,
            "min_width": null,
            "object_fit": null,
            "object_position": null,
            "order": null,
            "overflow": null,
            "overflow_x": null,
            "overflow_y": null,
            "padding": null,
            "right": null,
            "top": null,
            "visibility": null,
            "width": null
          }
        },
        "bcf21571b416420abab8383121fe752e": {
          "model_module": "@jupyter-widgets/controls",
          "model_name": "DescriptionStyleModel",
          "model_module_version": "1.5.0",
          "state": {
            "_model_module": "@jupyter-widgets/controls",
            "_model_module_version": "1.5.0",
            "_model_name": "DescriptionStyleModel",
            "_view_count": null,
            "_view_module": "@jupyter-widgets/base",
            "_view_module_version": "1.2.0",
            "_view_name": "StyleView",
            "description_width": ""
          }
        },
        "99b981bb1f4445d08adf9306bd5cd334": {
          "model_module": "@jupyter-widgets/controls",
          "model_name": "HBoxModel",
          "model_module_version": "1.5.0",
          "state": {
            "_dom_classes": [],
            "_model_module": "@jupyter-widgets/controls",
            "_model_module_version": "1.5.0",
            "_model_name": "HBoxModel",
            "_view_count": null,
            "_view_module": "@jupyter-widgets/controls",
            "_view_module_version": "1.5.0",
            "_view_name": "HBoxView",
            "box_style": "",
            "children": [
              "IPY_MODEL_1a1700c55aaa4373a001bab5c9039bf1",
              "IPY_MODEL_cdbe8880c1d24b0a82f39a523fac9ddf",
              "IPY_MODEL_74f5af12d87d4dc89784ee212c0d26fc"
            ],
            "layout": "IPY_MODEL_5af580a0c43847b994945aa7cfb9529c"
          }
        },
        "1a1700c55aaa4373a001bab5c9039bf1": {
          "model_module": "@jupyter-widgets/controls",
          "model_name": "HTMLModel",
          "model_module_version": "1.5.0",
          "state": {
            "_dom_classes": [],
            "_model_module": "@jupyter-widgets/controls",
            "_model_module_version": "1.5.0",
            "_model_name": "HTMLModel",
            "_view_count": null,
            "_view_module": "@jupyter-widgets/controls",
            "_view_module_version": "1.5.0",
            "_view_name": "HTMLView",
            "description": "",
            "description_tooltip": null,
            "layout": "IPY_MODEL_2bce7c754fbd4c33927d8a10397dda69",
            "placeholder": "​",
            "style": "IPY_MODEL_b6df27f5093541d6a705345530cffad9",
            "value": "Downloading metadata: 100%"
          }
        },
        "cdbe8880c1d24b0a82f39a523fac9ddf": {
          "model_module": "@jupyter-widgets/controls",
          "model_name": "FloatProgressModel",
          "model_module_version": "1.5.0",
          "state": {
            "_dom_classes": [],
            "_model_module": "@jupyter-widgets/controls",
            "_model_module_version": "1.5.0",
            "_model_name": "FloatProgressModel",
            "_view_count": null,
            "_view_module": "@jupyter-widgets/controls",
            "_view_module_version": "1.5.0",
            "_view_name": "ProgressView",
            "bar_style": "success",
            "description": "",
            "description_tooltip": null,
            "layout": "IPY_MODEL_fd5b28df0792452ba67ec21bd81f1975",
            "max": 921,
            "min": 0,
            "orientation": "horizontal",
            "style": "IPY_MODEL_a809d1f2f5d44ea2891c219ddb7a027b",
            "value": 921
          }
        },
        "74f5af12d87d4dc89784ee212c0d26fc": {
          "model_module": "@jupyter-widgets/controls",
          "model_name": "HTMLModel",
          "model_module_version": "1.5.0",
          "state": {
            "_dom_classes": [],
            "_model_module": "@jupyter-widgets/controls",
            "_model_module_version": "1.5.0",
            "_model_name": "HTMLModel",
            "_view_count": null,
            "_view_module": "@jupyter-widgets/controls",
            "_view_module_version": "1.5.0",
            "_view_name": "HTMLView",
            "description": "",
            "description_tooltip": null,
            "layout": "IPY_MODEL_5ce65eca064d4e57a2eef2a84318860d",
            "placeholder": "​",
            "style": "IPY_MODEL_8166a818655a4a87902ae5d850507895",
            "value": " 921/921 [00:00&lt;00:00, 82.8kB/s]"
          }
        },
        "5af580a0c43847b994945aa7cfb9529c": {
          "model_module": "@jupyter-widgets/base",
          "model_name": "LayoutModel",
          "model_module_version": "1.2.0",
          "state": {
            "_model_module": "@jupyter-widgets/base",
            "_model_module_version": "1.2.0",
            "_model_name": "LayoutModel",
            "_view_count": null,
            "_view_module": "@jupyter-widgets/base",
            "_view_module_version": "1.2.0",
            "_view_name": "LayoutView",
            "align_content": null,
            "align_items": null,
            "align_self": null,
            "border": null,
            "bottom": null,
            "display": null,
            "flex": null,
            "flex_flow": null,
            "grid_area": null,
            "grid_auto_columns": null,
            "grid_auto_flow": null,
            "grid_auto_rows": null,
            "grid_column": null,
            "grid_gap": null,
            "grid_row": null,
            "grid_template_areas": null,
            "grid_template_columns": null,
            "grid_template_rows": null,
            "height": null,
            "justify_content": null,
            "justify_items": null,
            "left": null,
            "margin": null,
            "max_height": null,
            "max_width": null,
            "min_height": null,
            "min_width": null,
            "object_fit": null,
            "object_position": null,
            "order": null,
            "overflow": null,
            "overflow_x": null,
            "overflow_y": null,
            "padding": null,
            "right": null,
            "top": null,
            "visibility": null,
            "width": null
          }
        },
        "2bce7c754fbd4c33927d8a10397dda69": {
          "model_module": "@jupyter-widgets/base",
          "model_name": "LayoutModel",
          "model_module_version": "1.2.0",
          "state": {
            "_model_module": "@jupyter-widgets/base",
            "_model_module_version": "1.2.0",
            "_model_name": "LayoutModel",
            "_view_count": null,
            "_view_module": "@jupyter-widgets/base",
            "_view_module_version": "1.2.0",
            "_view_name": "LayoutView",
            "align_content": null,
            "align_items": null,
            "align_self": null,
            "border": null,
            "bottom": null,
            "display": null,
            "flex": null,
            "flex_flow": null,
            "grid_area": null,
            "grid_auto_columns": null,
            "grid_auto_flow": null,
            "grid_auto_rows": null,
            "grid_column": null,
            "grid_gap": null,
            "grid_row": null,
            "grid_template_areas": null,
            "grid_template_columns": null,
            "grid_template_rows": null,
            "height": null,
            "justify_content": null,
            "justify_items": null,
            "left": null,
            "margin": null,
            "max_height": null,
            "max_width": null,
            "min_height": null,
            "min_width": null,
            "object_fit": null,
            "object_position": null,
            "order": null,
            "overflow": null,
            "overflow_x": null,
            "overflow_y": null,
            "padding": null,
            "right": null,
            "top": null,
            "visibility": null,
            "width": null
          }
        },
        "b6df27f5093541d6a705345530cffad9": {
          "model_module": "@jupyter-widgets/controls",
          "model_name": "DescriptionStyleModel",
          "model_module_version": "1.5.0",
          "state": {
            "_model_module": "@jupyter-widgets/controls",
            "_model_module_version": "1.5.0",
            "_model_name": "DescriptionStyleModel",
            "_view_count": null,
            "_view_module": "@jupyter-widgets/base",
            "_view_module_version": "1.2.0",
            "_view_name": "StyleView",
            "description_width": ""
          }
        },
        "fd5b28df0792452ba67ec21bd81f1975": {
          "model_module": "@jupyter-widgets/base",
          "model_name": "LayoutModel",
          "model_module_version": "1.2.0",
          "state": {
            "_model_module": "@jupyter-widgets/base",
            "_model_module_version": "1.2.0",
            "_model_name": "LayoutModel",
            "_view_count": null,
            "_view_module": "@jupyter-widgets/base",
            "_view_module_version": "1.2.0",
            "_view_name": "LayoutView",
            "align_content": null,
            "align_items": null,
            "align_self": null,
            "border": null,
            "bottom": null,
            "display": null,
            "flex": null,
            "flex_flow": null,
            "grid_area": null,
            "grid_auto_columns": null,
            "grid_auto_flow": null,
            "grid_auto_rows": null,
            "grid_column": null,
            "grid_gap": null,
            "grid_row": null,
            "grid_template_areas": null,
            "grid_template_columns": null,
            "grid_template_rows": null,
            "height": null,
            "justify_content": null,
            "justify_items": null,
            "left": null,
            "margin": null,
            "max_height": null,
            "max_width": null,
            "min_height": null,
            "min_width": null,
            "object_fit": null,
            "object_position": null,
            "order": null,
            "overflow": null,
            "overflow_x": null,
            "overflow_y": null,
            "padding": null,
            "right": null,
            "top": null,
            "visibility": null,
            "width": null
          }
        },
        "a809d1f2f5d44ea2891c219ddb7a027b": {
          "model_module": "@jupyter-widgets/controls",
          "model_name": "ProgressStyleModel",
          "model_module_version": "1.5.0",
          "state": {
            "_model_module": "@jupyter-widgets/controls",
            "_model_module_version": "1.5.0",
            "_model_name": "ProgressStyleModel",
            "_view_count": null,
            "_view_module": "@jupyter-widgets/base",
            "_view_module_version": "1.2.0",
            "_view_name": "StyleView",
            "bar_color": null,
            "description_width": ""
          }
        },
        "5ce65eca064d4e57a2eef2a84318860d": {
          "model_module": "@jupyter-widgets/base",
          "model_name": "LayoutModel",
          "model_module_version": "1.2.0",
          "state": {
            "_model_module": "@jupyter-widgets/base",
            "_model_module_version": "1.2.0",
            "_model_name": "LayoutModel",
            "_view_count": null,
            "_view_module": "@jupyter-widgets/base",
            "_view_module_version": "1.2.0",
            "_view_name": "LayoutView",
            "align_content": null,
            "align_items": null,
            "align_self": null,
            "border": null,
            "bottom": null,
            "display": null,
            "flex": null,
            "flex_flow": null,
            "grid_area": null,
            "grid_auto_columns": null,
            "grid_auto_flow": null,
            "grid_auto_rows": null,
            "grid_column": null,
            "grid_gap": null,
            "grid_row": null,
            "grid_template_areas": null,
            "grid_template_columns": null,
            "grid_template_rows": null,
            "height": null,
            "justify_content": null,
            "justify_items": null,
            "left": null,
            "margin": null,
            "max_height": null,
            "max_width": null,
            "min_height": null,
            "min_width": null,
            "object_fit": null,
            "object_position": null,
            "order": null,
            "overflow": null,
            "overflow_x": null,
            "overflow_y": null,
            "padding": null,
            "right": null,
            "top": null,
            "visibility": null,
            "width": null
          }
        },
        "8166a818655a4a87902ae5d850507895": {
          "model_module": "@jupyter-widgets/controls",
          "model_name": "DescriptionStyleModel",
          "model_module_version": "1.5.0",
          "state": {
            "_model_module": "@jupyter-widgets/controls",
            "_model_module_version": "1.5.0",
            "_model_name": "DescriptionStyleModel",
            "_view_count": null,
            "_view_module": "@jupyter-widgets/base",
            "_view_module_version": "1.2.0",
            "_view_name": "StyleView",
            "description_width": ""
          }
        },
        "03e2d675a2cf465f82fab27591bad51c": {
          "model_module": "@jupyter-widgets/controls",
          "model_name": "HBoxModel",
          "model_module_version": "1.5.0",
          "state": {
            "_dom_classes": [],
            "_model_module": "@jupyter-widgets/controls",
            "_model_module_version": "1.5.0",
            "_model_name": "HBoxModel",
            "_view_count": null,
            "_view_module": "@jupyter-widgets/controls",
            "_view_module_version": "1.5.0",
            "_view_name": "HBoxView",
            "box_style": "",
            "children": [
              "IPY_MODEL_ef9c8e00a2834cf18e0d1b43acabd4f6",
              "IPY_MODEL_88ed2d41c88b4e37896ed520aaa23a00",
              "IPY_MODEL_88073a81f91e4df08b848e3b1f0996e1"
            ],
            "layout": "IPY_MODEL_9c086515bad04933925fb455831e3d10"
          }
        },
        "ef9c8e00a2834cf18e0d1b43acabd4f6": {
          "model_module": "@jupyter-widgets/controls",
          "model_name": "HTMLModel",
          "model_module_version": "1.5.0",
          "state": {
            "_dom_classes": [],
            "_model_module": "@jupyter-widgets/controls",
            "_model_module_version": "1.5.0",
            "_model_name": "HTMLModel",
            "_view_count": null,
            "_view_module": "@jupyter-widgets/controls",
            "_view_module_version": "1.5.0",
            "_view_name": "HTMLView",
            "description": "",
            "description_tooltip": null,
            "layout": "IPY_MODEL_4555aae2a2b04aaca5f2e010c5a208d2",
            "placeholder": "​",
            "style": "IPY_MODEL_559c2d9b1aa2446ea424b53c13cf7212",
            "value": "Downloading data: 100%"
          }
        },
        "88ed2d41c88b4e37896ed520aaa23a00": {
          "model_module": "@jupyter-widgets/controls",
          "model_name": "FloatProgressModel",
          "model_module_version": "1.5.0",
          "state": {
            "_dom_classes": [],
            "_model_module": "@jupyter-widgets/controls",
            "_model_module_version": "1.5.0",
            "_model_name": "FloatProgressModel",
            "_view_count": null,
            "_view_module": "@jupyter-widgets/controls",
            "_view_module_version": "1.5.0",
            "_view_name": "ProgressView",
            "bar_style": "success",
            "description": "",
            "description_tooltip": null,
            "layout": "IPY_MODEL_14832d7404344a57a7cf9d5517e44813",
            "max": 33262901,
            "min": 0,
            "orientation": "horizontal",
            "style": "IPY_MODEL_b836a99f32d04804a43c48beab9418e0",
            "value": 33262901
          }
        },
        "88073a81f91e4df08b848e3b1f0996e1": {
          "model_module": "@jupyter-widgets/controls",
          "model_name": "HTMLModel",
          "model_module_version": "1.5.0",
          "state": {
            "_dom_classes": [],
            "_model_module": "@jupyter-widgets/controls",
            "_model_module_version": "1.5.0",
            "_model_name": "HTMLModel",
            "_view_count": null,
            "_view_module": "@jupyter-widgets/controls",
            "_view_module_version": "1.5.0",
            "_view_name": "HTMLView",
            "description": "",
            "description_tooltip": null,
            "layout": "IPY_MODEL_5fb067ced94c4a4dbbef00bd717c4c07",
            "placeholder": "​",
            "style": "IPY_MODEL_dd79e485501e47b79390dc00604c42af",
            "value": " 33.3M/33.3M [00:01&lt;00:00, 23.6MB/s]"
          }
        },
        "9c086515bad04933925fb455831e3d10": {
          "model_module": "@jupyter-widgets/base",
          "model_name": "LayoutModel",
          "model_module_version": "1.2.0",
          "state": {
            "_model_module": "@jupyter-widgets/base",
            "_model_module_version": "1.2.0",
            "_model_name": "LayoutModel",
            "_view_count": null,
            "_view_module": "@jupyter-widgets/base",
            "_view_module_version": "1.2.0",
            "_view_name": "LayoutView",
            "align_content": null,
            "align_items": null,
            "align_self": null,
            "border": null,
            "bottom": null,
            "display": null,
            "flex": null,
            "flex_flow": null,
            "grid_area": null,
            "grid_auto_columns": null,
            "grid_auto_flow": null,
            "grid_auto_rows": null,
            "grid_column": null,
            "grid_gap": null,
            "grid_row": null,
            "grid_template_areas": null,
            "grid_template_columns": null,
            "grid_template_rows": null,
            "height": null,
            "justify_content": null,
            "justify_items": null,
            "left": null,
            "margin": null,
            "max_height": null,
            "max_width": null,
            "min_height": null,
            "min_width": null,
            "object_fit": null,
            "object_position": null,
            "order": null,
            "overflow": null,
            "overflow_x": null,
            "overflow_y": null,
            "padding": null,
            "right": null,
            "top": null,
            "visibility": null,
            "width": null
          }
        },
        "4555aae2a2b04aaca5f2e010c5a208d2": {
          "model_module": "@jupyter-widgets/base",
          "model_name": "LayoutModel",
          "model_module_version": "1.2.0",
          "state": {
            "_model_module": "@jupyter-widgets/base",
            "_model_module_version": "1.2.0",
            "_model_name": "LayoutModel",
            "_view_count": null,
            "_view_module": "@jupyter-widgets/base",
            "_view_module_version": "1.2.0",
            "_view_name": "LayoutView",
            "align_content": null,
            "align_items": null,
            "align_self": null,
            "border": null,
            "bottom": null,
            "display": null,
            "flex": null,
            "flex_flow": null,
            "grid_area": null,
            "grid_auto_columns": null,
            "grid_auto_flow": null,
            "grid_auto_rows": null,
            "grid_column": null,
            "grid_gap": null,
            "grid_row": null,
            "grid_template_areas": null,
            "grid_template_columns": null,
            "grid_template_rows": null,
            "height": null,
            "justify_content": null,
            "justify_items": null,
            "left": null,
            "margin": null,
            "max_height": null,
            "max_width": null,
            "min_height": null,
            "min_width": null,
            "object_fit": null,
            "object_position": null,
            "order": null,
            "overflow": null,
            "overflow_x": null,
            "overflow_y": null,
            "padding": null,
            "right": null,
            "top": null,
            "visibility": null,
            "width": null
          }
        },
        "559c2d9b1aa2446ea424b53c13cf7212": {
          "model_module": "@jupyter-widgets/controls",
          "model_name": "DescriptionStyleModel",
          "model_module_version": "1.5.0",
          "state": {
            "_model_module": "@jupyter-widgets/controls",
            "_model_module_version": "1.5.0",
            "_model_name": "DescriptionStyleModel",
            "_view_count": null,
            "_view_module": "@jupyter-widgets/base",
            "_view_module_version": "1.2.0",
            "_view_name": "StyleView",
            "description_width": ""
          }
        },
        "14832d7404344a57a7cf9d5517e44813": {
          "model_module": "@jupyter-widgets/base",
          "model_name": "LayoutModel",
          "model_module_version": "1.2.0",
          "state": {
            "_model_module": "@jupyter-widgets/base",
            "_model_module_version": "1.2.0",
            "_model_name": "LayoutModel",
            "_view_count": null,
            "_view_module": "@jupyter-widgets/base",
            "_view_module_version": "1.2.0",
            "_view_name": "LayoutView",
            "align_content": null,
            "align_items": null,
            "align_self": null,
            "border": null,
            "bottom": null,
            "display": null,
            "flex": null,
            "flex_flow": null,
            "grid_area": null,
            "grid_auto_columns": null,
            "grid_auto_flow": null,
            "grid_auto_rows": null,
            "grid_column": null,
            "grid_gap": null,
            "grid_row": null,
            "grid_template_areas": null,
            "grid_template_columns": null,
            "grid_template_rows": null,
            "height": null,
            "justify_content": null,
            "justify_items": null,
            "left": null,
            "margin": null,
            "max_height": null,
            "max_width": null,
            "min_height": null,
            "min_width": null,
            "object_fit": null,
            "object_position": null,
            "order": null,
            "overflow": null,
            "overflow_x": null,
            "overflow_y": null,
            "padding": null,
            "right": null,
            "top": null,
            "visibility": null,
            "width": null
          }
        },
        "b836a99f32d04804a43c48beab9418e0": {
          "model_module": "@jupyter-widgets/controls",
          "model_name": "ProgressStyleModel",
          "model_module_version": "1.5.0",
          "state": {
            "_model_module": "@jupyter-widgets/controls",
            "_model_module_version": "1.5.0",
            "_model_name": "ProgressStyleModel",
            "_view_count": null,
            "_view_module": "@jupyter-widgets/base",
            "_view_module_version": "1.2.0",
            "_view_name": "StyleView",
            "bar_color": null,
            "description_width": ""
          }
        },
        "5fb067ced94c4a4dbbef00bd717c4c07": {
          "model_module": "@jupyter-widgets/base",
          "model_name": "LayoutModel",
          "model_module_version": "1.2.0",
          "state": {
            "_model_module": "@jupyter-widgets/base",
            "_model_module_version": "1.2.0",
            "_model_name": "LayoutModel",
            "_view_count": null,
            "_view_module": "@jupyter-widgets/base",
            "_view_module_version": "1.2.0",
            "_view_name": "LayoutView",
            "align_content": null,
            "align_items": null,
            "align_self": null,
            "border": null,
            "bottom": null,
            "display": null,
            "flex": null,
            "flex_flow": null,
            "grid_area": null,
            "grid_auto_columns": null,
            "grid_auto_flow": null,
            "grid_auto_rows": null,
            "grid_column": null,
            "grid_gap": null,
            "grid_row": null,
            "grid_template_areas": null,
            "grid_template_columns": null,
            "grid_template_rows": null,
            "height": null,
            "justify_content": null,
            "justify_items": null,
            "left": null,
            "margin": null,
            "max_height": null,
            "max_width": null,
            "min_height": null,
            "min_width": null,
            "object_fit": null,
            "object_position": null,
            "order": null,
            "overflow": null,
            "overflow_x": null,
            "overflow_y": null,
            "padding": null,
            "right": null,
            "top": null,
            "visibility": null,
            "width": null
          }
        },
        "dd79e485501e47b79390dc00604c42af": {
          "model_module": "@jupyter-widgets/controls",
          "model_name": "DescriptionStyleModel",
          "model_module_version": "1.5.0",
          "state": {
            "_model_module": "@jupyter-widgets/controls",
            "_model_module_version": "1.5.0",
            "_model_name": "DescriptionStyleModel",
            "_view_count": null,
            "_view_module": "@jupyter-widgets/base",
            "_view_module_version": "1.2.0",
            "_view_name": "StyleView",
            "description_width": ""
          }
        },
        "8f9ee4be92c04c0890014d9052ab4489": {
          "model_module": "@jupyter-widgets/controls",
          "model_name": "HBoxModel",
          "model_module_version": "1.5.0",
          "state": {
            "_dom_classes": [],
            "_model_module": "@jupyter-widgets/controls",
            "_model_module_version": "1.5.0",
            "_model_name": "HBoxModel",
            "_view_count": null,
            "_view_module": "@jupyter-widgets/controls",
            "_view_module_version": "1.5.0",
            "_view_name": "HBoxView",
            "box_style": "",
            "children": [
              "IPY_MODEL_2d536596d6de4c0bacae40ef95c7fb07",
              "IPY_MODEL_fa727041fd9a4434b7e0d91a31e27348",
              "IPY_MODEL_eddadf78d77f4fa3b28f9ee771a5f6ae"
            ],
            "layout": "IPY_MODEL_2e639b8a419f4e129921c83a53b27dc0"
          }
        },
        "2d536596d6de4c0bacae40ef95c7fb07": {
          "model_module": "@jupyter-widgets/controls",
          "model_name": "HTMLModel",
          "model_module_version": "1.5.0",
          "state": {
            "_dom_classes": [],
            "_model_module": "@jupyter-widgets/controls",
            "_model_module_version": "1.5.0",
            "_model_name": "HTMLModel",
            "_view_count": null,
            "_view_module": "@jupyter-widgets/controls",
            "_view_module_version": "1.5.0",
            "_view_name": "HTMLView",
            "description": "",
            "description_tooltip": null,
            "layout": "IPY_MODEL_6eba121eae64493389a2194925769d02",
            "placeholder": "​",
            "style": "IPY_MODEL_76a67a602e264807b767f1bd4f14cd43",
            "value": "Generating train split: 100%"
          }
        },
        "fa727041fd9a4434b7e0d91a31e27348": {
          "model_module": "@jupyter-widgets/controls",
          "model_name": "FloatProgressModel",
          "model_module_version": "1.5.0",
          "state": {
            "_dom_classes": [],
            "_model_module": "@jupyter-widgets/controls",
            "_model_module_version": "1.5.0",
            "_model_name": "FloatProgressModel",
            "_view_count": null,
            "_view_module": "@jupyter-widgets/controls",
            "_view_module_version": "1.5.0",
            "_view_name": "ProgressView",
            "bar_style": "success",
            "description": "",
            "description_tooltip": null,
            "layout": "IPY_MODEL_df8eb69927184b65a8321cf7deecb4d7",
            "max": 10000,
            "min": 0,
            "orientation": "horizontal",
            "style": "IPY_MODEL_e83eecd430554bb2b86644a8c09b72b0",
            "value": 10000
          }
        },
        "eddadf78d77f4fa3b28f9ee771a5f6ae": {
          "model_module": "@jupyter-widgets/controls",
          "model_name": "HTMLModel",
          "model_module_version": "1.5.0",
          "state": {
            "_dom_classes": [],
            "_model_module": "@jupyter-widgets/controls",
            "_model_module_version": "1.5.0",
            "_model_name": "HTMLModel",
            "_view_count": null,
            "_view_module": "@jupyter-widgets/controls",
            "_view_module_version": "1.5.0",
            "_view_name": "HTMLView",
            "description": "",
            "description_tooltip": null,
            "layout": "IPY_MODEL_6f70e1939d254459abf616af137628e4",
            "placeholder": "​",
            "style": "IPY_MODEL_0ad2a56632744072a7ee05d0a54736d4",
            "value": " 10000/10000 [00:00&lt;00:00, 29350.13 examples/s]"
          }
        },
        "2e639b8a419f4e129921c83a53b27dc0": {
          "model_module": "@jupyter-widgets/base",
          "model_name": "LayoutModel",
          "model_module_version": "1.2.0",
          "state": {
            "_model_module": "@jupyter-widgets/base",
            "_model_module_version": "1.2.0",
            "_model_name": "LayoutModel",
            "_view_count": null,
            "_view_module": "@jupyter-widgets/base",
            "_view_module_version": "1.2.0",
            "_view_name": "LayoutView",
            "align_content": null,
            "align_items": null,
            "align_self": null,
            "border": null,
            "bottom": null,
            "display": null,
            "flex": null,
            "flex_flow": null,
            "grid_area": null,
            "grid_auto_columns": null,
            "grid_auto_flow": null,
            "grid_auto_rows": null,
            "grid_column": null,
            "grid_gap": null,
            "grid_row": null,
            "grid_template_areas": null,
            "grid_template_columns": null,
            "grid_template_rows": null,
            "height": null,
            "justify_content": null,
            "justify_items": null,
            "left": null,
            "margin": null,
            "max_height": null,
            "max_width": null,
            "min_height": null,
            "min_width": null,
            "object_fit": null,
            "object_position": null,
            "order": null,
            "overflow": null,
            "overflow_x": null,
            "overflow_y": null,
            "padding": null,
            "right": null,
            "top": null,
            "visibility": null,
            "width": null
          }
        },
        "6eba121eae64493389a2194925769d02": {
          "model_module": "@jupyter-widgets/base",
          "model_name": "LayoutModel",
          "model_module_version": "1.2.0",
          "state": {
            "_model_module": "@jupyter-widgets/base",
            "_model_module_version": "1.2.0",
            "_model_name": "LayoutModel",
            "_view_count": null,
            "_view_module": "@jupyter-widgets/base",
            "_view_module_version": "1.2.0",
            "_view_name": "LayoutView",
            "align_content": null,
            "align_items": null,
            "align_self": null,
            "border": null,
            "bottom": null,
            "display": null,
            "flex": null,
            "flex_flow": null,
            "grid_area": null,
            "grid_auto_columns": null,
            "grid_auto_flow": null,
            "grid_auto_rows": null,
            "grid_column": null,
            "grid_gap": null,
            "grid_row": null,
            "grid_template_areas": null,
            "grid_template_columns": null,
            "grid_template_rows": null,
            "height": null,
            "justify_content": null,
            "justify_items": null,
            "left": null,
            "margin": null,
            "max_height": null,
            "max_width": null,
            "min_height": null,
            "min_width": null,
            "object_fit": null,
            "object_position": null,
            "order": null,
            "overflow": null,
            "overflow_x": null,
            "overflow_y": null,
            "padding": null,
            "right": null,
            "top": null,
            "visibility": null,
            "width": null
          }
        },
        "76a67a602e264807b767f1bd4f14cd43": {
          "model_module": "@jupyter-widgets/controls",
          "model_name": "DescriptionStyleModel",
          "model_module_version": "1.5.0",
          "state": {
            "_model_module": "@jupyter-widgets/controls",
            "_model_module_version": "1.5.0",
            "_model_name": "DescriptionStyleModel",
            "_view_count": null,
            "_view_module": "@jupyter-widgets/base",
            "_view_module_version": "1.2.0",
            "_view_name": "StyleView",
            "description_width": ""
          }
        },
        "df8eb69927184b65a8321cf7deecb4d7": {
          "model_module": "@jupyter-widgets/base",
          "model_name": "LayoutModel",
          "model_module_version": "1.2.0",
          "state": {
            "_model_module": "@jupyter-widgets/base",
            "_model_module_version": "1.2.0",
            "_model_name": "LayoutModel",
            "_view_count": null,
            "_view_module": "@jupyter-widgets/base",
            "_view_module_version": "1.2.0",
            "_view_name": "LayoutView",
            "align_content": null,
            "align_items": null,
            "align_self": null,
            "border": null,
            "bottom": null,
            "display": null,
            "flex": null,
            "flex_flow": null,
            "grid_area": null,
            "grid_auto_columns": null,
            "grid_auto_flow": null,
            "grid_auto_rows": null,
            "grid_column": null,
            "grid_gap": null,
            "grid_row": null,
            "grid_template_areas": null,
            "grid_template_columns": null,
            "grid_template_rows": null,
            "height": null,
            "justify_content": null,
            "justify_items": null,
            "left": null,
            "margin": null,
            "max_height": null,
            "max_width": null,
            "min_height": null,
            "min_width": null,
            "object_fit": null,
            "object_position": null,
            "order": null,
            "overflow": null,
            "overflow_x": null,
            "overflow_y": null,
            "padding": null,
            "right": null,
            "top": null,
            "visibility": null,
            "width": null
          }
        },
        "e83eecd430554bb2b86644a8c09b72b0": {
          "model_module": "@jupyter-widgets/controls",
          "model_name": "ProgressStyleModel",
          "model_module_version": "1.5.0",
          "state": {
            "_model_module": "@jupyter-widgets/controls",
            "_model_module_version": "1.5.0",
            "_model_name": "ProgressStyleModel",
            "_view_count": null,
            "_view_module": "@jupyter-widgets/base",
            "_view_module_version": "1.2.0",
            "_view_name": "StyleView",
            "bar_color": null,
            "description_width": ""
          }
        },
        "6f70e1939d254459abf616af137628e4": {
          "model_module": "@jupyter-widgets/base",
          "model_name": "LayoutModel",
          "model_module_version": "1.2.0",
          "state": {
            "_model_module": "@jupyter-widgets/base",
            "_model_module_version": "1.2.0",
            "_model_name": "LayoutModel",
            "_view_count": null,
            "_view_module": "@jupyter-widgets/base",
            "_view_module_version": "1.2.0",
            "_view_name": "LayoutView",
            "align_content": null,
            "align_items": null,
            "align_self": null,
            "border": null,
            "bottom": null,
            "display": null,
            "flex": null,
            "flex_flow": null,
            "grid_area": null,
            "grid_auto_columns": null,
            "grid_auto_flow": null,
            "grid_auto_rows": null,
            "grid_column": null,
            "grid_gap": null,
            "grid_row": null,
            "grid_template_areas": null,
            "grid_template_columns": null,
            "grid_template_rows": null,
            "height": null,
            "justify_content": null,
            "justify_items": null,
            "left": null,
            "margin": null,
            "max_height": null,
            "max_width": null,
            "min_height": null,
            "min_width": null,
            "object_fit": null,
            "object_position": null,
            "order": null,
            "overflow": null,
            "overflow_x": null,
            "overflow_y": null,
            "padding": null,
            "right": null,
            "top": null,
            "visibility": null,
            "width": null
          }
        },
        "0ad2a56632744072a7ee05d0a54736d4": {
          "model_module": "@jupyter-widgets/controls",
          "model_name": "DescriptionStyleModel",
          "model_module_version": "1.5.0",
          "state": {
            "_model_module": "@jupyter-widgets/controls",
            "_model_module_version": "1.5.0",
            "_model_name": "DescriptionStyleModel",
            "_view_count": null,
            "_view_module": "@jupyter-widgets/base",
            "_view_module_version": "1.2.0",
            "_view_name": "StyleView",
            "description_width": ""
          }
        },
        "8c6913bfb0cd4302a05200be9d2364de": {
          "model_module": "@jupyter-widgets/controls",
          "model_name": "HBoxModel",
          "model_module_version": "1.5.0",
          "state": {
            "_dom_classes": [],
            "_model_module": "@jupyter-widgets/controls",
            "_model_module_version": "1.5.0",
            "_model_name": "HBoxModel",
            "_view_count": null,
            "_view_module": "@jupyter-widgets/controls",
            "_view_module_version": "1.5.0",
            "_view_name": "HBoxView",
            "box_style": "",
            "children": [
              "IPY_MODEL_a7ef2f22bed6426cb6ee0725eb4a9e4a",
              "IPY_MODEL_3f32e0938c3f473b87a9865e108a33a4",
              "IPY_MODEL_2711bee9756642449ea09034a8183cdb"
            ],
            "layout": "IPY_MODEL_583d959c4fa747b899f43cd78c0cc220"
          }
        },
        "a7ef2f22bed6426cb6ee0725eb4a9e4a": {
          "model_module": "@jupyter-widgets/controls",
          "model_name": "HTMLModel",
          "model_module_version": "1.5.0",
          "state": {
            "_dom_classes": [],
            "_model_module": "@jupyter-widgets/controls",
            "_model_module_version": "1.5.0",
            "_model_name": "HTMLModel",
            "_view_count": null,
            "_view_module": "@jupyter-widgets/controls",
            "_view_module_version": "1.5.0",
            "_view_name": "HTMLView",
            "description": "",
            "description_tooltip": null,
            "layout": "IPY_MODEL_8327bc1ef55a4d7ab6cb59bf515b7c0f",
            "placeholder": "​",
            "style": "IPY_MODEL_c3aed2238b994f7e974c09f3296cb16f",
            "value": "Map (num_proc=4): 100%"
          }
        },
        "3f32e0938c3f473b87a9865e108a33a4": {
          "model_module": "@jupyter-widgets/controls",
          "model_name": "FloatProgressModel",
          "model_module_version": "1.5.0",
          "state": {
            "_dom_classes": [],
            "_model_module": "@jupyter-widgets/controls",
            "_model_module_version": "1.5.0",
            "_model_name": "FloatProgressModel",
            "_view_count": null,
            "_view_module": "@jupyter-widgets/controls",
            "_view_module_version": "1.5.0",
            "_view_name": "ProgressView",
            "bar_style": "success",
            "description": "",
            "description_tooltip": null,
            "layout": "IPY_MODEL_d04c12f4362847cfafa0c4500c113a58",
            "max": 10000,
            "min": 0,
            "orientation": "horizontal",
            "style": "IPY_MODEL_472dce48ab8747bab5e2d12a5da18325",
            "value": 10000
          }
        },
        "2711bee9756642449ea09034a8183cdb": {
          "model_module": "@jupyter-widgets/controls",
          "model_name": "HTMLModel",
          "model_module_version": "1.5.0",
          "state": {
            "_dom_classes": [],
            "_model_module": "@jupyter-widgets/controls",
            "_model_module_version": "1.5.0",
            "_model_name": "HTMLModel",
            "_view_count": null,
            "_view_module": "@jupyter-widgets/controls",
            "_view_module_version": "1.5.0",
            "_view_name": "HTMLView",
            "description": "",
            "description_tooltip": null,
            "layout": "IPY_MODEL_081c46b4e21f4307a3f9f1349357608e",
            "placeholder": "​",
            "style": "IPY_MODEL_160cef91baa44ee7abfa7d847911eb5b",
            "value": " 10000/10000 [00:23&lt;00:00, 353.66 examples/s]"
          }
        },
        "583d959c4fa747b899f43cd78c0cc220": {
          "model_module": "@jupyter-widgets/base",
          "model_name": "LayoutModel",
          "model_module_version": "1.2.0",
          "state": {
            "_model_module": "@jupyter-widgets/base",
            "_model_module_version": "1.2.0",
            "_model_name": "LayoutModel",
            "_view_count": null,
            "_view_module": "@jupyter-widgets/base",
            "_view_module_version": "1.2.0",
            "_view_name": "LayoutView",
            "align_content": null,
            "align_items": null,
            "align_self": null,
            "border": null,
            "bottom": null,
            "display": null,
            "flex": null,
            "flex_flow": null,
            "grid_area": null,
            "grid_auto_columns": null,
            "grid_auto_flow": null,
            "grid_auto_rows": null,
            "grid_column": null,
            "grid_gap": null,
            "grid_row": null,
            "grid_template_areas": null,
            "grid_template_columns": null,
            "grid_template_rows": null,
            "height": null,
            "justify_content": null,
            "justify_items": null,
            "left": null,
            "margin": null,
            "max_height": null,
            "max_width": null,
            "min_height": null,
            "min_width": null,
            "object_fit": null,
            "object_position": null,
            "order": null,
            "overflow": null,
            "overflow_x": null,
            "overflow_y": null,
            "padding": null,
            "right": null,
            "top": null,
            "visibility": null,
            "width": null
          }
        },
        "8327bc1ef55a4d7ab6cb59bf515b7c0f": {
          "model_module": "@jupyter-widgets/base",
          "model_name": "LayoutModel",
          "model_module_version": "1.2.0",
          "state": {
            "_model_module": "@jupyter-widgets/base",
            "_model_module_version": "1.2.0",
            "_model_name": "LayoutModel",
            "_view_count": null,
            "_view_module": "@jupyter-widgets/base",
            "_view_module_version": "1.2.0",
            "_view_name": "LayoutView",
            "align_content": null,
            "align_items": null,
            "align_self": null,
            "border": null,
            "bottom": null,
            "display": null,
            "flex": null,
            "flex_flow": null,
            "grid_area": null,
            "grid_auto_columns": null,
            "grid_auto_flow": null,
            "grid_auto_rows": null,
            "grid_column": null,
            "grid_gap": null,
            "grid_row": null,
            "grid_template_areas": null,
            "grid_template_columns": null,
            "grid_template_rows": null,
            "height": null,
            "justify_content": null,
            "justify_items": null,
            "left": null,
            "margin": null,
            "max_height": null,
            "max_width": null,
            "min_height": null,
            "min_width": null,
            "object_fit": null,
            "object_position": null,
            "order": null,
            "overflow": null,
            "overflow_x": null,
            "overflow_y": null,
            "padding": null,
            "right": null,
            "top": null,
            "visibility": null,
            "width": null
          }
        },
        "c3aed2238b994f7e974c09f3296cb16f": {
          "model_module": "@jupyter-widgets/controls",
          "model_name": "DescriptionStyleModel",
          "model_module_version": "1.5.0",
          "state": {
            "_model_module": "@jupyter-widgets/controls",
            "_model_module_version": "1.5.0",
            "_model_name": "DescriptionStyleModel",
            "_view_count": null,
            "_view_module": "@jupyter-widgets/base",
            "_view_module_version": "1.2.0",
            "_view_name": "StyleView",
            "description_width": ""
          }
        },
        "d04c12f4362847cfafa0c4500c113a58": {
          "model_module": "@jupyter-widgets/base",
          "model_name": "LayoutModel",
          "model_module_version": "1.2.0",
          "state": {
            "_model_module": "@jupyter-widgets/base",
            "_model_module_version": "1.2.0",
            "_model_name": "LayoutModel",
            "_view_count": null,
            "_view_module": "@jupyter-widgets/base",
            "_view_module_version": "1.2.0",
            "_view_name": "LayoutView",
            "align_content": null,
            "align_items": null,
            "align_self": null,
            "border": null,
            "bottom": null,
            "display": null,
            "flex": null,
            "flex_flow": null,
            "grid_area": null,
            "grid_auto_columns": null,
            "grid_auto_flow": null,
            "grid_auto_rows": null,
            "grid_column": null,
            "grid_gap": null,
            "grid_row": null,
            "grid_template_areas": null,
            "grid_template_columns": null,
            "grid_template_rows": null,
            "height": null,
            "justify_content": null,
            "justify_items": null,
            "left": null,
            "margin": null,
            "max_height": null,
            "max_width": null,
            "min_height": null,
            "min_width": null,
            "object_fit": null,
            "object_position": null,
            "order": null,
            "overflow": null,
            "overflow_x": null,
            "overflow_y": null,
            "padding": null,
            "right": null,
            "top": null,
            "visibility": null,
            "width": null
          }
        },
        "472dce48ab8747bab5e2d12a5da18325": {
          "model_module": "@jupyter-widgets/controls",
          "model_name": "ProgressStyleModel",
          "model_module_version": "1.5.0",
          "state": {
            "_model_module": "@jupyter-widgets/controls",
            "_model_module_version": "1.5.0",
            "_model_name": "ProgressStyleModel",
            "_view_count": null,
            "_view_module": "@jupyter-widgets/base",
            "_view_module_version": "1.2.0",
            "_view_name": "StyleView",
            "bar_color": null,
            "description_width": ""
          }
        },
        "081c46b4e21f4307a3f9f1349357608e": {
          "model_module": "@jupyter-widgets/base",
          "model_name": "LayoutModel",
          "model_module_version": "1.2.0",
          "state": {
            "_model_module": "@jupyter-widgets/base",
            "_model_module_version": "1.2.0",
            "_model_name": "LayoutModel",
            "_view_count": null,
            "_view_module": "@jupyter-widgets/base",
            "_view_module_version": "1.2.0",
            "_view_name": "LayoutView",
            "align_content": null,
            "align_items": null,
            "align_self": null,
            "border": null,
            "bottom": null,
            "display": null,
            "flex": null,
            "flex_flow": null,
            "grid_area": null,
            "grid_auto_columns": null,
            "grid_auto_flow": null,
            "grid_auto_rows": null,
            "grid_column": null,
            "grid_gap": null,
            "grid_row": null,
            "grid_template_areas": null,
            "grid_template_columns": null,
            "grid_template_rows": null,
            "height": null,
            "justify_content": null,
            "justify_items": null,
            "left": null,
            "margin": null,
            "max_height": null,
            "max_width": null,
            "min_height": null,
            "min_width": null,
            "object_fit": null,
            "object_position": null,
            "order": null,
            "overflow": null,
            "overflow_x": null,
            "overflow_y": null,
            "padding": null,
            "right": null,
            "top": null,
            "visibility": null,
            "width": null
          }
        },
        "160cef91baa44ee7abfa7d847911eb5b": {
          "model_module": "@jupyter-widgets/controls",
          "model_name": "DescriptionStyleModel",
          "model_module_version": "1.5.0",
          "state": {
            "_model_module": "@jupyter-widgets/controls",
            "_model_module_version": "1.5.0",
            "_model_name": "DescriptionStyleModel",
            "_view_count": null,
            "_view_module": "@jupyter-widgets/base",
            "_view_module_version": "1.2.0",
            "_view_name": "StyleView",
            "description_width": ""
          }
        },
        "2dfb60c6e80a491ca953a27649125385": {
          "model_module": "@jupyter-widgets/controls",
          "model_name": "HBoxModel",
          "model_module_version": "1.5.0",
          "state": {
            "_dom_classes": [],
            "_model_module": "@jupyter-widgets/controls",
            "_model_module_version": "1.5.0",
            "_model_name": "HBoxModel",
            "_view_count": null,
            "_view_module": "@jupyter-widgets/controls",
            "_view_module_version": "1.5.0",
            "_view_name": "HBoxView",
            "box_style": "",
            "children": [
              "IPY_MODEL_01f0532ca241404b974dec4050a2de8b",
              "IPY_MODEL_66901f78efec4712ba50e831ec843dba",
              "IPY_MODEL_5b477f0228da4fcc9b3c53ac82472292"
            ],
            "layout": "IPY_MODEL_10deb23e1386466da04fd4ea987c70d4"
          }
        },
        "01f0532ca241404b974dec4050a2de8b": {
          "model_module": "@jupyter-widgets/controls",
          "model_name": "HTMLModel",
          "model_module_version": "1.5.0",
          "state": {
            "_dom_classes": [],
            "_model_module": "@jupyter-widgets/controls",
            "_model_module_version": "1.5.0",
            "_model_name": "HTMLModel",
            "_view_count": null,
            "_view_module": "@jupyter-widgets/controls",
            "_view_module_version": "1.5.0",
            "_view_name": "HTMLView",
            "description": "",
            "description_tooltip": null,
            "layout": "IPY_MODEL_b7aa9114bc5c43aa84022a6fe59e1f9b",
            "placeholder": "​",
            "style": "IPY_MODEL_5a8b6f3bc68d43df91dc819ee17f2271",
            "value": "Epoch 10, loss: 4.984, accuracy: 0.279: "
          }
        },
        "66901f78efec4712ba50e831ec843dba": {
          "model_module": "@jupyter-widgets/controls",
          "model_name": "FloatProgressModel",
          "model_module_version": "1.5.0",
          "state": {
            "_dom_classes": [],
            "_model_module": "@jupyter-widgets/controls",
            "_model_module_version": "1.5.0",
            "_model_name": "FloatProgressModel",
            "_view_count": null,
            "_view_module": "@jupyter-widgets/controls",
            "_view_module_version": "1.5.0",
            "_view_name": "ProgressView",
            "bar_style": "success",
            "description": "",
            "description_tooltip": null,
            "layout": "IPY_MODEL_411c5f6bf15c4757bab96fcdb483d0cb",
            "max": 2000,
            "min": 0,
            "orientation": "horizontal",
            "style": "IPY_MODEL_14b15b845eeb464e89e64a18d5c1858d",
            "value": 2000
          }
        },
        "5b477f0228da4fcc9b3c53ac82472292": {
          "model_module": "@jupyter-widgets/controls",
          "model_name": "HTMLModel",
          "model_module_version": "1.5.0",
          "state": {
            "_dom_classes": [],
            "_model_module": "@jupyter-widgets/controls",
            "_model_module_version": "1.5.0",
            "_model_name": "HTMLModel",
            "_view_count": null,
            "_view_module": "@jupyter-widgets/controls",
            "_view_module_version": "1.5.0",
            "_view_name": "HTMLView",
            "description": "",
            "description_tooltip": null,
            "layout": "IPY_MODEL_ceedef4908af440abc54f33160d0961c",
            "placeholder": "​",
            "style": "IPY_MODEL_8b08be1344fa4c9090fed53b2c8ce831",
            "value": " 2010/? [01:50&lt;00:00, 21.94it/s]"
          }
        },
        "10deb23e1386466da04fd4ea987c70d4": {
          "model_module": "@jupyter-widgets/base",
          "model_name": "LayoutModel",
          "model_module_version": "1.2.0",
          "state": {
            "_model_module": "@jupyter-widgets/base",
            "_model_module_version": "1.2.0",
            "_model_name": "LayoutModel",
            "_view_count": null,
            "_view_module": "@jupyter-widgets/base",
            "_view_module_version": "1.2.0",
            "_view_name": "LayoutView",
            "align_content": null,
            "align_items": null,
            "align_self": null,
            "border": null,
            "bottom": null,
            "display": null,
            "flex": null,
            "flex_flow": null,
            "grid_area": null,
            "grid_auto_columns": null,
            "grid_auto_flow": null,
            "grid_auto_rows": null,
            "grid_column": null,
            "grid_gap": null,
            "grid_row": null,
            "grid_template_areas": null,
            "grid_template_columns": null,
            "grid_template_rows": null,
            "height": null,
            "justify_content": null,
            "justify_items": null,
            "left": null,
            "margin": null,
            "max_height": null,
            "max_width": null,
            "min_height": null,
            "min_width": null,
            "object_fit": null,
            "object_position": null,
            "order": null,
            "overflow": null,
            "overflow_x": null,
            "overflow_y": null,
            "padding": null,
            "right": null,
            "top": null,
            "visibility": null,
            "width": null
          }
        },
        "b7aa9114bc5c43aa84022a6fe59e1f9b": {
          "model_module": "@jupyter-widgets/base",
          "model_name": "LayoutModel",
          "model_module_version": "1.2.0",
          "state": {
            "_model_module": "@jupyter-widgets/base",
            "_model_module_version": "1.2.0",
            "_model_name": "LayoutModel",
            "_view_count": null,
            "_view_module": "@jupyter-widgets/base",
            "_view_module_version": "1.2.0",
            "_view_name": "LayoutView",
            "align_content": null,
            "align_items": null,
            "align_self": null,
            "border": null,
            "bottom": null,
            "display": null,
            "flex": null,
            "flex_flow": null,
            "grid_area": null,
            "grid_auto_columns": null,
            "grid_auto_flow": null,
            "grid_auto_rows": null,
            "grid_column": null,
            "grid_gap": null,
            "grid_row": null,
            "grid_template_areas": null,
            "grid_template_columns": null,
            "grid_template_rows": null,
            "height": null,
            "justify_content": null,
            "justify_items": null,
            "left": null,
            "margin": null,
            "max_height": null,
            "max_width": null,
            "min_height": null,
            "min_width": null,
            "object_fit": null,
            "object_position": null,
            "order": null,
            "overflow": null,
            "overflow_x": null,
            "overflow_y": null,
            "padding": null,
            "right": null,
            "top": null,
            "visibility": null,
            "width": null
          }
        },
        "5a8b6f3bc68d43df91dc819ee17f2271": {
          "model_module": "@jupyter-widgets/controls",
          "model_name": "DescriptionStyleModel",
          "model_module_version": "1.5.0",
          "state": {
            "_model_module": "@jupyter-widgets/controls",
            "_model_module_version": "1.5.0",
            "_model_name": "DescriptionStyleModel",
            "_view_count": null,
            "_view_module": "@jupyter-widgets/base",
            "_view_module_version": "1.2.0",
            "_view_name": "StyleView",
            "description_width": ""
          }
        },
        "411c5f6bf15c4757bab96fcdb483d0cb": {
          "model_module": "@jupyter-widgets/base",
          "model_name": "LayoutModel",
          "model_module_version": "1.2.0",
          "state": {
            "_model_module": "@jupyter-widgets/base",
            "_model_module_version": "1.2.0",
            "_model_name": "LayoutModel",
            "_view_count": null,
            "_view_module": "@jupyter-widgets/base",
            "_view_module_version": "1.2.0",
            "_view_name": "LayoutView",
            "align_content": null,
            "align_items": null,
            "align_self": null,
            "border": null,
            "bottom": null,
            "display": null,
            "flex": null,
            "flex_flow": null,
            "grid_area": null,
            "grid_auto_columns": null,
            "grid_auto_flow": null,
            "grid_auto_rows": null,
            "grid_column": null,
            "grid_gap": null,
            "grid_row": null,
            "grid_template_areas": null,
            "grid_template_columns": null,
            "grid_template_rows": null,
            "height": null,
            "justify_content": null,
            "justify_items": null,
            "left": null,
            "margin": null,
            "max_height": null,
            "max_width": null,
            "min_height": null,
            "min_width": null,
            "object_fit": null,
            "object_position": null,
            "order": null,
            "overflow": null,
            "overflow_x": null,
            "overflow_y": null,
            "padding": null,
            "right": null,
            "top": null,
            "visibility": null,
            "width": null
          }
        },
        "14b15b845eeb464e89e64a18d5c1858d": {
          "model_module": "@jupyter-widgets/controls",
          "model_name": "ProgressStyleModel",
          "model_module_version": "1.5.0",
          "state": {
            "_model_module": "@jupyter-widgets/controls",
            "_model_module_version": "1.5.0",
            "_model_name": "ProgressStyleModel",
            "_view_count": null,
            "_view_module": "@jupyter-widgets/base",
            "_view_module_version": "1.2.0",
            "_view_name": "StyleView",
            "bar_color": null,
            "description_width": ""
          }
        },
        "ceedef4908af440abc54f33160d0961c": {
          "model_module": "@jupyter-widgets/base",
          "model_name": "LayoutModel",
          "model_module_version": "1.2.0",
          "state": {
            "_model_module": "@jupyter-widgets/base",
            "_model_module_version": "1.2.0",
            "_model_name": "LayoutModel",
            "_view_count": null,
            "_view_module": "@jupyter-widgets/base",
            "_view_module_version": "1.2.0",
            "_view_name": "LayoutView",
            "align_content": null,
            "align_items": null,
            "align_self": null,
            "border": null,
            "bottom": null,
            "display": null,
            "flex": null,
            "flex_flow": null,
            "grid_area": null,
            "grid_auto_columns": null,
            "grid_auto_flow": null,
            "grid_auto_rows": null,
            "grid_column": null,
            "grid_gap": null,
            "grid_row": null,
            "grid_template_areas": null,
            "grid_template_columns": null,
            "grid_template_rows": null,
            "height": null,
            "justify_content": null,
            "justify_items": null,
            "left": null,
            "margin": null,
            "max_height": null,
            "max_width": null,
            "min_height": null,
            "min_width": null,
            "object_fit": null,
            "object_position": null,
            "order": null,
            "overflow": null,
            "overflow_x": null,
            "overflow_y": null,
            "padding": null,
            "right": null,
            "top": null,
            "visibility": null,
            "width": null
          }
        },
        "8b08be1344fa4c9090fed53b2c8ce831": {
          "model_module": "@jupyter-widgets/controls",
          "model_name": "DescriptionStyleModel",
          "model_module_version": "1.5.0",
          "state": {
            "_model_module": "@jupyter-widgets/controls",
            "_model_module_version": "1.5.0",
            "_model_name": "DescriptionStyleModel",
            "_view_count": null,
            "_view_module": "@jupyter-widgets/base",
            "_view_module_version": "1.2.0",
            "_view_name": "StyleView",
            "description_width": ""
          }
        },
        "e9974058acfb40c5a369a63b0a8e4a12": {
          "model_module": "@jupyter-widgets/controls",
          "model_name": "VBoxModel",
          "model_module_version": "1.5.0",
          "state": {
            "_dom_classes": [],
            "_model_module": "@jupyter-widgets/controls",
            "_model_module_version": "1.5.0",
            "_model_name": "VBoxModel",
            "_view_count": null,
            "_view_module": "@jupyter-widgets/controls",
            "_view_module_version": "1.5.0",
            "_view_name": "VBoxView",
            "box_style": "",
            "children": [
              "IPY_MODEL_7f39341a95ae464ca801a8f65bec9279",
              "IPY_MODEL_e41e6e59bc814b9582286d683f88d3c0"
            ],
            "layout": "IPY_MODEL_7df4640b9eca4e7caf30acf12ead7b53"
          }
        },
        "7f39341a95ae464ca801a8f65bec9279": {
          "model_module": "@jupyter-widgets/controls",
          "model_name": "LabelModel",
          "model_module_version": "1.5.0",
          "state": {
            "_dom_classes": [],
            "_model_module": "@jupyter-widgets/controls",
            "_model_module_version": "1.5.0",
            "_model_name": "LabelModel",
            "_view_count": null,
            "_view_module": "@jupyter-widgets/controls",
            "_view_module_version": "1.5.0",
            "_view_name": "LabelView",
            "description": "",
            "description_tooltip": null,
            "layout": "IPY_MODEL_345c86267b1d4efdaf888577b4e5cf15",
            "placeholder": "​",
            "style": "IPY_MODEL_ca6423e7d61046d9be92aeaae1096667",
            "value": "0.011 MB of 0.011 MB uploaded\r"
          }
        },
        "e41e6e59bc814b9582286d683f88d3c0": {
          "model_module": "@jupyter-widgets/controls",
          "model_name": "FloatProgressModel",
          "model_module_version": "1.5.0",
          "state": {
            "_dom_classes": [],
            "_model_module": "@jupyter-widgets/controls",
            "_model_module_version": "1.5.0",
            "_model_name": "FloatProgressModel",
            "_view_count": null,
            "_view_module": "@jupyter-widgets/controls",
            "_view_module_version": "1.5.0",
            "_view_name": "ProgressView",
            "bar_style": "",
            "description": "",
            "description_tooltip": null,
            "layout": "IPY_MODEL_25269a401a3f430abcda636d65c82905",
            "max": 1,
            "min": 0,
            "orientation": "horizontal",
            "style": "IPY_MODEL_aa8284f75021411284376e668cf5e1c7",
            "value": 1
          }
        },
        "7df4640b9eca4e7caf30acf12ead7b53": {
          "model_module": "@jupyter-widgets/base",
          "model_name": "LayoutModel",
          "model_module_version": "1.2.0",
          "state": {
            "_model_module": "@jupyter-widgets/base",
            "_model_module_version": "1.2.0",
            "_model_name": "LayoutModel",
            "_view_count": null,
            "_view_module": "@jupyter-widgets/base",
            "_view_module_version": "1.2.0",
            "_view_name": "LayoutView",
            "align_content": null,
            "align_items": null,
            "align_self": null,
            "border": null,
            "bottom": null,
            "display": null,
            "flex": null,
            "flex_flow": null,
            "grid_area": null,
            "grid_auto_columns": null,
            "grid_auto_flow": null,
            "grid_auto_rows": null,
            "grid_column": null,
            "grid_gap": null,
            "grid_row": null,
            "grid_template_areas": null,
            "grid_template_columns": null,
            "grid_template_rows": null,
            "height": null,
            "justify_content": null,
            "justify_items": null,
            "left": null,
            "margin": null,
            "max_height": null,
            "max_width": null,
            "min_height": null,
            "min_width": null,
            "object_fit": null,
            "object_position": null,
            "order": null,
            "overflow": null,
            "overflow_x": null,
            "overflow_y": null,
            "padding": null,
            "right": null,
            "top": null,
            "visibility": null,
            "width": null
          }
        },
        "345c86267b1d4efdaf888577b4e5cf15": {
          "model_module": "@jupyter-widgets/base",
          "model_name": "LayoutModel",
          "model_module_version": "1.2.0",
          "state": {
            "_model_module": "@jupyter-widgets/base",
            "_model_module_version": "1.2.0",
            "_model_name": "LayoutModel",
            "_view_count": null,
            "_view_module": "@jupyter-widgets/base",
            "_view_module_version": "1.2.0",
            "_view_name": "LayoutView",
            "align_content": null,
            "align_items": null,
            "align_self": null,
            "border": null,
            "bottom": null,
            "display": null,
            "flex": null,
            "flex_flow": null,
            "grid_area": null,
            "grid_auto_columns": null,
            "grid_auto_flow": null,
            "grid_auto_rows": null,
            "grid_column": null,
            "grid_gap": null,
            "grid_row": null,
            "grid_template_areas": null,
            "grid_template_columns": null,
            "grid_template_rows": null,
            "height": null,
            "justify_content": null,
            "justify_items": null,
            "left": null,
            "margin": null,
            "max_height": null,
            "max_width": null,
            "min_height": null,
            "min_width": null,
            "object_fit": null,
            "object_position": null,
            "order": null,
            "overflow": null,
            "overflow_x": null,
            "overflow_y": null,
            "padding": null,
            "right": null,
            "top": null,
            "visibility": null,
            "width": null
          }
        },
        "ca6423e7d61046d9be92aeaae1096667": {
          "model_module": "@jupyter-widgets/controls",
          "model_name": "DescriptionStyleModel",
          "model_module_version": "1.5.0",
          "state": {
            "_model_module": "@jupyter-widgets/controls",
            "_model_module_version": "1.5.0",
            "_model_name": "DescriptionStyleModel",
            "_view_count": null,
            "_view_module": "@jupyter-widgets/base",
            "_view_module_version": "1.2.0",
            "_view_name": "StyleView",
            "description_width": ""
          }
        },
        "25269a401a3f430abcda636d65c82905": {
          "model_module": "@jupyter-widgets/base",
          "model_name": "LayoutModel",
          "model_module_version": "1.2.0",
          "state": {
            "_model_module": "@jupyter-widgets/base",
            "_model_module_version": "1.2.0",
            "_model_name": "LayoutModel",
            "_view_count": null,
            "_view_module": "@jupyter-widgets/base",
            "_view_module_version": "1.2.0",
            "_view_name": "LayoutView",
            "align_content": null,
            "align_items": null,
            "align_self": null,
            "border": null,
            "bottom": null,
            "display": null,
            "flex": null,
            "flex_flow": null,
            "grid_area": null,
            "grid_auto_columns": null,
            "grid_auto_flow": null,
            "grid_auto_rows": null,
            "grid_column": null,
            "grid_gap": null,
            "grid_row": null,
            "grid_template_areas": null,
            "grid_template_columns": null,
            "grid_template_rows": null,
            "height": null,
            "justify_content": null,
            "justify_items": null,
            "left": null,
            "margin": null,
            "max_height": null,
            "max_width": null,
            "min_height": null,
            "min_width": null,
            "object_fit": null,
            "object_position": null,
            "order": null,
            "overflow": null,
            "overflow_x": null,
            "overflow_y": null,
            "padding": null,
            "right": null,
            "top": null,
            "visibility": null,
            "width": null
          }
        },
        "aa8284f75021411284376e668cf5e1c7": {
          "model_module": "@jupyter-widgets/controls",
          "model_name": "ProgressStyleModel",
          "model_module_version": "1.5.0",
          "state": {
            "_model_module": "@jupyter-widgets/controls",
            "_model_module_version": "1.5.0",
            "_model_name": "ProgressStyleModel",
            "_view_count": null,
            "_view_module": "@jupyter-widgets/base",
            "_view_module_version": "1.2.0",
            "_view_name": "StyleView",
            "bar_color": null,
            "description_width": ""
          }
        },
        "3bb9fc7df7a54508ab645067e2fe2e38": {
          "model_module": "@jupyter-widgets/controls",
          "model_name": "HBoxModel",
          "model_module_version": "1.5.0",
          "state": {
            "_dom_classes": [],
            "_model_module": "@jupyter-widgets/controls",
            "_model_module_version": "1.5.0",
            "_model_name": "HBoxModel",
            "_view_count": null,
            "_view_module": "@jupyter-widgets/controls",
            "_view_module_version": "1.5.0",
            "_view_name": "HBoxView",
            "box_style": "",
            "children": [
              "IPY_MODEL_55d42bdda76744f7b644c8ae5e828818",
              "IPY_MODEL_d75405cf55dc4d158ec06c80bc2fd1ab",
              "IPY_MODEL_853e137916fd40158434fc9f18049fca"
            ],
            "layout": "IPY_MODEL_588962b44b114d80a159ee66270d5adc"
          }
        },
        "55d42bdda76744f7b644c8ae5e828818": {
          "model_module": "@jupyter-widgets/controls",
          "model_name": "HTMLModel",
          "model_module_version": "1.5.0",
          "state": {
            "_dom_classes": [],
            "_model_module": "@jupyter-widgets/controls",
            "_model_module_version": "1.5.0",
            "_model_name": "HTMLModel",
            "_view_count": null,
            "_view_module": "@jupyter-widgets/controls",
            "_view_module_version": "1.5.0",
            "_view_name": "HTMLView",
            "description": "",
            "description_tooltip": null,
            "layout": "IPY_MODEL_5b0e272c99b44a1b8deb51c84cda0eb1",
            "placeholder": "​",
            "style": "IPY_MODEL_265c21ca6881457e89a51efda403d0b7",
            "value": "Epoch 10, loss: 6.172, accuracy: 0.161: "
          }
        },
        "d75405cf55dc4d158ec06c80bc2fd1ab": {
          "model_module": "@jupyter-widgets/controls",
          "model_name": "FloatProgressModel",
          "model_module_version": "1.5.0",
          "state": {
            "_dom_classes": [],
            "_model_module": "@jupyter-widgets/controls",
            "_model_module_version": "1.5.0",
            "_model_name": "FloatProgressModel",
            "_view_count": null,
            "_view_module": "@jupyter-widgets/controls",
            "_view_module_version": "1.5.0",
            "_view_name": "ProgressView",
            "bar_style": "success",
            "description": "",
            "description_tooltip": null,
            "layout": "IPY_MODEL_dda79e21317a4baf99338f2e5f058620",
            "max": 2000,
            "min": 0,
            "orientation": "horizontal",
            "style": "IPY_MODEL_8213be13d86b44cfbd76cfd1dfba1817",
            "value": 2000
          }
        },
        "853e137916fd40158434fc9f18049fca": {
          "model_module": "@jupyter-widgets/controls",
          "model_name": "HTMLModel",
          "model_module_version": "1.5.0",
          "state": {
            "_dom_classes": [],
            "_model_module": "@jupyter-widgets/controls",
            "_model_module_version": "1.5.0",
            "_model_name": "HTMLModel",
            "_view_count": null,
            "_view_module": "@jupyter-widgets/controls",
            "_view_module_version": "1.5.0",
            "_view_name": "HTMLView",
            "description": "",
            "description_tooltip": null,
            "layout": "IPY_MODEL_623744dfe17947e3b1ff49e8b0ec212b",
            "placeholder": "​",
            "style": "IPY_MODEL_067c17b937954df0b6804c283d82e2bb",
            "value": " 2010/? [14:10&lt;00:00,  3.54it/s]"
          }
        },
        "588962b44b114d80a159ee66270d5adc": {
          "model_module": "@jupyter-widgets/base",
          "model_name": "LayoutModel",
          "model_module_version": "1.2.0",
          "state": {
            "_model_module": "@jupyter-widgets/base",
            "_model_module_version": "1.2.0",
            "_model_name": "LayoutModel",
            "_view_count": null,
            "_view_module": "@jupyter-widgets/base",
            "_view_module_version": "1.2.0",
            "_view_name": "LayoutView",
            "align_content": null,
            "align_items": null,
            "align_self": null,
            "border": null,
            "bottom": null,
            "display": null,
            "flex": null,
            "flex_flow": null,
            "grid_area": null,
            "grid_auto_columns": null,
            "grid_auto_flow": null,
            "grid_auto_rows": null,
            "grid_column": null,
            "grid_gap": null,
            "grid_row": null,
            "grid_template_areas": null,
            "grid_template_columns": null,
            "grid_template_rows": null,
            "height": null,
            "justify_content": null,
            "justify_items": null,
            "left": null,
            "margin": null,
            "max_height": null,
            "max_width": null,
            "min_height": null,
            "min_width": null,
            "object_fit": null,
            "object_position": null,
            "order": null,
            "overflow": null,
            "overflow_x": null,
            "overflow_y": null,
            "padding": null,
            "right": null,
            "top": null,
            "visibility": null,
            "width": null
          }
        },
        "5b0e272c99b44a1b8deb51c84cda0eb1": {
          "model_module": "@jupyter-widgets/base",
          "model_name": "LayoutModel",
          "model_module_version": "1.2.0",
          "state": {
            "_model_module": "@jupyter-widgets/base",
            "_model_module_version": "1.2.0",
            "_model_name": "LayoutModel",
            "_view_count": null,
            "_view_module": "@jupyter-widgets/base",
            "_view_module_version": "1.2.0",
            "_view_name": "LayoutView",
            "align_content": null,
            "align_items": null,
            "align_self": null,
            "border": null,
            "bottom": null,
            "display": null,
            "flex": null,
            "flex_flow": null,
            "grid_area": null,
            "grid_auto_columns": null,
            "grid_auto_flow": null,
            "grid_auto_rows": null,
            "grid_column": null,
            "grid_gap": null,
            "grid_row": null,
            "grid_template_areas": null,
            "grid_template_columns": null,
            "grid_template_rows": null,
            "height": null,
            "justify_content": null,
            "justify_items": null,
            "left": null,
            "margin": null,
            "max_height": null,
            "max_width": null,
            "min_height": null,
            "min_width": null,
            "object_fit": null,
            "object_position": null,
            "order": null,
            "overflow": null,
            "overflow_x": null,
            "overflow_y": null,
            "padding": null,
            "right": null,
            "top": null,
            "visibility": null,
            "width": null
          }
        },
        "265c21ca6881457e89a51efda403d0b7": {
          "model_module": "@jupyter-widgets/controls",
          "model_name": "DescriptionStyleModel",
          "model_module_version": "1.5.0",
          "state": {
            "_model_module": "@jupyter-widgets/controls",
            "_model_module_version": "1.5.0",
            "_model_name": "DescriptionStyleModel",
            "_view_count": null,
            "_view_module": "@jupyter-widgets/base",
            "_view_module_version": "1.2.0",
            "_view_name": "StyleView",
            "description_width": ""
          }
        },
        "dda79e21317a4baf99338f2e5f058620": {
          "model_module": "@jupyter-widgets/base",
          "model_name": "LayoutModel",
          "model_module_version": "1.2.0",
          "state": {
            "_model_module": "@jupyter-widgets/base",
            "_model_module_version": "1.2.0",
            "_model_name": "LayoutModel",
            "_view_count": null,
            "_view_module": "@jupyter-widgets/base",
            "_view_module_version": "1.2.0",
            "_view_name": "LayoutView",
            "align_content": null,
            "align_items": null,
            "align_self": null,
            "border": null,
            "bottom": null,
            "display": null,
            "flex": null,
            "flex_flow": null,
            "grid_area": null,
            "grid_auto_columns": null,
            "grid_auto_flow": null,
            "grid_auto_rows": null,
            "grid_column": null,
            "grid_gap": null,
            "grid_row": null,
            "grid_template_areas": null,
            "grid_template_columns": null,
            "grid_template_rows": null,
            "height": null,
            "justify_content": null,
            "justify_items": null,
            "left": null,
            "margin": null,
            "max_height": null,
            "max_width": null,
            "min_height": null,
            "min_width": null,
            "object_fit": null,
            "object_position": null,
            "order": null,
            "overflow": null,
            "overflow_x": null,
            "overflow_y": null,
            "padding": null,
            "right": null,
            "top": null,
            "visibility": null,
            "width": null
          }
        },
        "8213be13d86b44cfbd76cfd1dfba1817": {
          "model_module": "@jupyter-widgets/controls",
          "model_name": "ProgressStyleModel",
          "model_module_version": "1.5.0",
          "state": {
            "_model_module": "@jupyter-widgets/controls",
            "_model_module_version": "1.5.0",
            "_model_name": "ProgressStyleModel",
            "_view_count": null,
            "_view_module": "@jupyter-widgets/base",
            "_view_module_version": "1.2.0",
            "_view_name": "StyleView",
            "bar_color": null,
            "description_width": ""
          }
        },
        "623744dfe17947e3b1ff49e8b0ec212b": {
          "model_module": "@jupyter-widgets/base",
          "model_name": "LayoutModel",
          "model_module_version": "1.2.0",
          "state": {
            "_model_module": "@jupyter-widgets/base",
            "_model_module_version": "1.2.0",
            "_model_name": "LayoutModel",
            "_view_count": null,
            "_view_module": "@jupyter-widgets/base",
            "_view_module_version": "1.2.0",
            "_view_name": "LayoutView",
            "align_content": null,
            "align_items": null,
            "align_self": null,
            "border": null,
            "bottom": null,
            "display": null,
            "flex": null,
            "flex_flow": null,
            "grid_area": null,
            "grid_auto_columns": null,
            "grid_auto_flow": null,
            "grid_auto_rows": null,
            "grid_column": null,
            "grid_gap": null,
            "grid_row": null,
            "grid_template_areas": null,
            "grid_template_columns": null,
            "grid_template_rows": null,
            "height": null,
            "justify_content": null,
            "justify_items": null,
            "left": null,
            "margin": null,
            "max_height": null,
            "max_width": null,
            "min_height": null,
            "min_width": null,
            "object_fit": null,
            "object_position": null,
            "order": null,
            "overflow": null,
            "overflow_x": null,
            "overflow_y": null,
            "padding": null,
            "right": null,
            "top": null,
            "visibility": null,
            "width": null
          }
        },
        "067c17b937954df0b6804c283d82e2bb": {
          "model_module": "@jupyter-widgets/controls",
          "model_name": "DescriptionStyleModel",
          "model_module_version": "1.5.0",
          "state": {
            "_model_module": "@jupyter-widgets/controls",
            "_model_module_version": "1.5.0",
            "_model_name": "DescriptionStyleModel",
            "_view_count": null,
            "_view_module": "@jupyter-widgets/base",
            "_view_module_version": "1.2.0",
            "_view_name": "StyleView",
            "description_width": ""
          }
        },
        "2f749e4c720745fd8e979b9bfecf1792": {
          "model_module": "@jupyter-widgets/controls",
          "model_name": "VBoxModel",
          "model_module_version": "1.5.0",
          "state": {
            "_dom_classes": [],
            "_model_module": "@jupyter-widgets/controls",
            "_model_module_version": "1.5.0",
            "_model_name": "VBoxModel",
            "_view_count": null,
            "_view_module": "@jupyter-widgets/controls",
            "_view_module_version": "1.5.0",
            "_view_name": "VBoxView",
            "box_style": "",
            "children": [
              "IPY_MODEL_b2d8f858603045fe8b54fdcfb4963985",
              "IPY_MODEL_6735ad1506df49b89a4476874b92e34a"
            ],
            "layout": "IPY_MODEL_87fd2140a9554d83aa70175038eca918"
          }
        },
        "b2d8f858603045fe8b54fdcfb4963985": {
          "model_module": "@jupyter-widgets/controls",
          "model_name": "LabelModel",
          "model_module_version": "1.5.0",
          "state": {
            "_dom_classes": [],
            "_model_module": "@jupyter-widgets/controls",
            "_model_module_version": "1.5.0",
            "_model_name": "LabelModel",
            "_view_count": null,
            "_view_module": "@jupyter-widgets/controls",
            "_view_module_version": "1.5.0",
            "_view_name": "LabelView",
            "description": "",
            "description_tooltip": null,
            "layout": "IPY_MODEL_3588017acba646b3abb0bf940df4f3c7",
            "placeholder": "​",
            "style": "IPY_MODEL_96f9aa6cb6924ad9b20068407c8a009e",
            "value": "0.635 MB of 0.635 MB uploaded\r"
          }
        },
        "6735ad1506df49b89a4476874b92e34a": {
          "model_module": "@jupyter-widgets/controls",
          "model_name": "FloatProgressModel",
          "model_module_version": "1.5.0",
          "state": {
            "_dom_classes": [],
            "_model_module": "@jupyter-widgets/controls",
            "_model_module_version": "1.5.0",
            "_model_name": "FloatProgressModel",
            "_view_count": null,
            "_view_module": "@jupyter-widgets/controls",
            "_view_module_version": "1.5.0",
            "_view_name": "ProgressView",
            "bar_style": "",
            "description": "",
            "description_tooltip": null,
            "layout": "IPY_MODEL_bfdbbaeef2984c77b7d14918804f60b0",
            "max": 1,
            "min": 0,
            "orientation": "horizontal",
            "style": "IPY_MODEL_c14b3e5d4bfc47239b55da7e9fcc5628",
            "value": 1
          }
        },
        "87fd2140a9554d83aa70175038eca918": {
          "model_module": "@jupyter-widgets/base",
          "model_name": "LayoutModel",
          "model_module_version": "1.2.0",
          "state": {
            "_model_module": "@jupyter-widgets/base",
            "_model_module_version": "1.2.0",
            "_model_name": "LayoutModel",
            "_view_count": null,
            "_view_module": "@jupyter-widgets/base",
            "_view_module_version": "1.2.0",
            "_view_name": "LayoutView",
            "align_content": null,
            "align_items": null,
            "align_self": null,
            "border": null,
            "bottom": null,
            "display": null,
            "flex": null,
            "flex_flow": null,
            "grid_area": null,
            "grid_auto_columns": null,
            "grid_auto_flow": null,
            "grid_auto_rows": null,
            "grid_column": null,
            "grid_gap": null,
            "grid_row": null,
            "grid_template_areas": null,
            "grid_template_columns": null,
            "grid_template_rows": null,
            "height": null,
            "justify_content": null,
            "justify_items": null,
            "left": null,
            "margin": null,
            "max_height": null,
            "max_width": null,
            "min_height": null,
            "min_width": null,
            "object_fit": null,
            "object_position": null,
            "order": null,
            "overflow": null,
            "overflow_x": null,
            "overflow_y": null,
            "padding": null,
            "right": null,
            "top": null,
            "visibility": null,
            "width": null
          }
        },
        "3588017acba646b3abb0bf940df4f3c7": {
          "model_module": "@jupyter-widgets/base",
          "model_name": "LayoutModel",
          "model_module_version": "1.2.0",
          "state": {
            "_model_module": "@jupyter-widgets/base",
            "_model_module_version": "1.2.0",
            "_model_name": "LayoutModel",
            "_view_count": null,
            "_view_module": "@jupyter-widgets/base",
            "_view_module_version": "1.2.0",
            "_view_name": "LayoutView",
            "align_content": null,
            "align_items": null,
            "align_self": null,
            "border": null,
            "bottom": null,
            "display": null,
            "flex": null,
            "flex_flow": null,
            "grid_area": null,
            "grid_auto_columns": null,
            "grid_auto_flow": null,
            "grid_auto_rows": null,
            "grid_column": null,
            "grid_gap": null,
            "grid_row": null,
            "grid_template_areas": null,
            "grid_template_columns": null,
            "grid_template_rows": null,
            "height": null,
            "justify_content": null,
            "justify_items": null,
            "left": null,
            "margin": null,
            "max_height": null,
            "max_width": null,
            "min_height": null,
            "min_width": null,
            "object_fit": null,
            "object_position": null,
            "order": null,
            "overflow": null,
            "overflow_x": null,
            "overflow_y": null,
            "padding": null,
            "right": null,
            "top": null,
            "visibility": null,
            "width": null
          }
        },
        "96f9aa6cb6924ad9b20068407c8a009e": {
          "model_module": "@jupyter-widgets/controls",
          "model_name": "DescriptionStyleModel",
          "model_module_version": "1.5.0",
          "state": {
            "_model_module": "@jupyter-widgets/controls",
            "_model_module_version": "1.5.0",
            "_model_name": "DescriptionStyleModel",
            "_view_count": null,
            "_view_module": "@jupyter-widgets/base",
            "_view_module_version": "1.2.0",
            "_view_name": "StyleView",
            "description_width": ""
          }
        },
        "bfdbbaeef2984c77b7d14918804f60b0": {
          "model_module": "@jupyter-widgets/base",
          "model_name": "LayoutModel",
          "model_module_version": "1.2.0",
          "state": {
            "_model_module": "@jupyter-widgets/base",
            "_model_module_version": "1.2.0",
            "_model_name": "LayoutModel",
            "_view_count": null,
            "_view_module": "@jupyter-widgets/base",
            "_view_module_version": "1.2.0",
            "_view_name": "LayoutView",
            "align_content": null,
            "align_items": null,
            "align_self": null,
            "border": null,
            "bottom": null,
            "display": null,
            "flex": null,
            "flex_flow": null,
            "grid_area": null,
            "grid_auto_columns": null,
            "grid_auto_flow": null,
            "grid_auto_rows": null,
            "grid_column": null,
            "grid_gap": null,
            "grid_row": null,
            "grid_template_areas": null,
            "grid_template_columns": null,
            "grid_template_rows": null,
            "height": null,
            "justify_content": null,
            "justify_items": null,
            "left": null,
            "margin": null,
            "max_height": null,
            "max_width": null,
            "min_height": null,
            "min_width": null,
            "object_fit": null,
            "object_position": null,
            "order": null,
            "overflow": null,
            "overflow_x": null,
            "overflow_y": null,
            "padding": null,
            "right": null,
            "top": null,
            "visibility": null,
            "width": null
          }
        },
        "c14b3e5d4bfc47239b55da7e9fcc5628": {
          "model_module": "@jupyter-widgets/controls",
          "model_name": "ProgressStyleModel",
          "model_module_version": "1.5.0",
          "state": {
            "_model_module": "@jupyter-widgets/controls",
            "_model_module_version": "1.5.0",
            "_model_name": "ProgressStyleModel",
            "_view_count": null,
            "_view_module": "@jupyter-widgets/base",
            "_view_module_version": "1.2.0",
            "_view_name": "StyleView",
            "bar_color": null,
            "description_width": ""
          }
        },
        "9da9f51b4f2c483699dfc7fb9df9a5d2": {
          "model_module": "@jupyter-widgets/controls",
          "model_name": "HBoxModel",
          "model_module_version": "1.5.0",
          "state": {
            "_dom_classes": [],
            "_model_module": "@jupyter-widgets/controls",
            "_model_module_version": "1.5.0",
            "_model_name": "HBoxModel",
            "_view_count": null,
            "_view_module": "@jupyter-widgets/controls",
            "_view_module_version": "1.5.0",
            "_view_name": "HBoxView",
            "box_style": "",
            "children": [
              "IPY_MODEL_fbf22afa4db3426fb770a6a44258c687",
              "IPY_MODEL_915e9caf9579434c9f3ad3c77f0f6c8a",
              "IPY_MODEL_1072d456618a4346af720632bdd0b964"
            ],
            "layout": "IPY_MODEL_7e945997017343e89c40390529486570"
          }
        },
        "fbf22afa4db3426fb770a6a44258c687": {
          "model_module": "@jupyter-widgets/controls",
          "model_name": "HTMLModel",
          "model_module_version": "1.5.0",
          "state": {
            "_dom_classes": [],
            "_model_module": "@jupyter-widgets/controls",
            "_model_module_version": "1.5.0",
            "_model_name": "HTMLModel",
            "_view_count": null,
            "_view_module": "@jupyter-widgets/controls",
            "_view_module_version": "1.5.0",
            "_view_name": "HTMLView",
            "description": "",
            "description_tooltip": null,
            "layout": "IPY_MODEL_a29c7a94c0d9433f87a42fefefb72399",
            "placeholder": "​",
            "style": "IPY_MODEL_e32e19692a4144cf9d931fac67d8efb3",
            "value": "config.json: 100%"
          }
        },
        "915e9caf9579434c9f3ad3c77f0f6c8a": {
          "model_module": "@jupyter-widgets/controls",
          "model_name": "FloatProgressModel",
          "model_module_version": "1.5.0",
          "state": {
            "_dom_classes": [],
            "_model_module": "@jupyter-widgets/controls",
            "_model_module_version": "1.5.0",
            "_model_name": "FloatProgressModel",
            "_view_count": null,
            "_view_module": "@jupyter-widgets/controls",
            "_view_module_version": "1.5.0",
            "_view_name": "ProgressView",
            "bar_style": "success",
            "description": "",
            "description_tooltip": null,
            "layout": "IPY_MODEL_11760cbbc33f499b9b4b4d67f9952589",
            "max": 665,
            "min": 0,
            "orientation": "horizontal",
            "style": "IPY_MODEL_57af692487df44b89d3d3c02da6bdf89",
            "value": 665
          }
        },
        "1072d456618a4346af720632bdd0b964": {
          "model_module": "@jupyter-widgets/controls",
          "model_name": "HTMLModel",
          "model_module_version": "1.5.0",
          "state": {
            "_dom_classes": [],
            "_model_module": "@jupyter-widgets/controls",
            "_model_module_version": "1.5.0",
            "_model_name": "HTMLModel",
            "_view_count": null,
            "_view_module": "@jupyter-widgets/controls",
            "_view_module_version": "1.5.0",
            "_view_name": "HTMLView",
            "description": "",
            "description_tooltip": null,
            "layout": "IPY_MODEL_3e2b886eca7a4e4f9f842a47e3f3cace",
            "placeholder": "​",
            "style": "IPY_MODEL_dd4f96cddd5b45669f91e79df6739348",
            "value": " 665/665 [00:00&lt;00:00, 54.5kB/s]"
          }
        },
        "7e945997017343e89c40390529486570": {
          "model_module": "@jupyter-widgets/base",
          "model_name": "LayoutModel",
          "model_module_version": "1.2.0",
          "state": {
            "_model_module": "@jupyter-widgets/base",
            "_model_module_version": "1.2.0",
            "_model_name": "LayoutModel",
            "_view_count": null,
            "_view_module": "@jupyter-widgets/base",
            "_view_module_version": "1.2.0",
            "_view_name": "LayoutView",
            "align_content": null,
            "align_items": null,
            "align_self": null,
            "border": null,
            "bottom": null,
            "display": null,
            "flex": null,
            "flex_flow": null,
            "grid_area": null,
            "grid_auto_columns": null,
            "grid_auto_flow": null,
            "grid_auto_rows": null,
            "grid_column": null,
            "grid_gap": null,
            "grid_row": null,
            "grid_template_areas": null,
            "grid_template_columns": null,
            "grid_template_rows": null,
            "height": null,
            "justify_content": null,
            "justify_items": null,
            "left": null,
            "margin": null,
            "max_height": null,
            "max_width": null,
            "min_height": null,
            "min_width": null,
            "object_fit": null,
            "object_position": null,
            "order": null,
            "overflow": null,
            "overflow_x": null,
            "overflow_y": null,
            "padding": null,
            "right": null,
            "top": null,
            "visibility": null,
            "width": null
          }
        },
        "a29c7a94c0d9433f87a42fefefb72399": {
          "model_module": "@jupyter-widgets/base",
          "model_name": "LayoutModel",
          "model_module_version": "1.2.0",
          "state": {
            "_model_module": "@jupyter-widgets/base",
            "_model_module_version": "1.2.0",
            "_model_name": "LayoutModel",
            "_view_count": null,
            "_view_module": "@jupyter-widgets/base",
            "_view_module_version": "1.2.0",
            "_view_name": "LayoutView",
            "align_content": null,
            "align_items": null,
            "align_self": null,
            "border": null,
            "bottom": null,
            "display": null,
            "flex": null,
            "flex_flow": null,
            "grid_area": null,
            "grid_auto_columns": null,
            "grid_auto_flow": null,
            "grid_auto_rows": null,
            "grid_column": null,
            "grid_gap": null,
            "grid_row": null,
            "grid_template_areas": null,
            "grid_template_columns": null,
            "grid_template_rows": null,
            "height": null,
            "justify_content": null,
            "justify_items": null,
            "left": null,
            "margin": null,
            "max_height": null,
            "max_width": null,
            "min_height": null,
            "min_width": null,
            "object_fit": null,
            "object_position": null,
            "order": null,
            "overflow": null,
            "overflow_x": null,
            "overflow_y": null,
            "padding": null,
            "right": null,
            "top": null,
            "visibility": null,
            "width": null
          }
        },
        "e32e19692a4144cf9d931fac67d8efb3": {
          "model_module": "@jupyter-widgets/controls",
          "model_name": "DescriptionStyleModel",
          "model_module_version": "1.5.0",
          "state": {
            "_model_module": "@jupyter-widgets/controls",
            "_model_module_version": "1.5.0",
            "_model_name": "DescriptionStyleModel",
            "_view_count": null,
            "_view_module": "@jupyter-widgets/base",
            "_view_module_version": "1.2.0",
            "_view_name": "StyleView",
            "description_width": ""
          }
        },
        "11760cbbc33f499b9b4b4d67f9952589": {
          "model_module": "@jupyter-widgets/base",
          "model_name": "LayoutModel",
          "model_module_version": "1.2.0",
          "state": {
            "_model_module": "@jupyter-widgets/base",
            "_model_module_version": "1.2.0",
            "_model_name": "LayoutModel",
            "_view_count": null,
            "_view_module": "@jupyter-widgets/base",
            "_view_module_version": "1.2.0",
            "_view_name": "LayoutView",
            "align_content": null,
            "align_items": null,
            "align_self": null,
            "border": null,
            "bottom": null,
            "display": null,
            "flex": null,
            "flex_flow": null,
            "grid_area": null,
            "grid_auto_columns": null,
            "grid_auto_flow": null,
            "grid_auto_rows": null,
            "grid_column": null,
            "grid_gap": null,
            "grid_row": null,
            "grid_template_areas": null,
            "grid_template_columns": null,
            "grid_template_rows": null,
            "height": null,
            "justify_content": null,
            "justify_items": null,
            "left": null,
            "margin": null,
            "max_height": null,
            "max_width": null,
            "min_height": null,
            "min_width": null,
            "object_fit": null,
            "object_position": null,
            "order": null,
            "overflow": null,
            "overflow_x": null,
            "overflow_y": null,
            "padding": null,
            "right": null,
            "top": null,
            "visibility": null,
            "width": null
          }
        },
        "57af692487df44b89d3d3c02da6bdf89": {
          "model_module": "@jupyter-widgets/controls",
          "model_name": "ProgressStyleModel",
          "model_module_version": "1.5.0",
          "state": {
            "_model_module": "@jupyter-widgets/controls",
            "_model_module_version": "1.5.0",
            "_model_name": "ProgressStyleModel",
            "_view_count": null,
            "_view_module": "@jupyter-widgets/base",
            "_view_module_version": "1.2.0",
            "_view_name": "StyleView",
            "bar_color": null,
            "description_width": ""
          }
        },
        "3e2b886eca7a4e4f9f842a47e3f3cace": {
          "model_module": "@jupyter-widgets/base",
          "model_name": "LayoutModel",
          "model_module_version": "1.2.0",
          "state": {
            "_model_module": "@jupyter-widgets/base",
            "_model_module_version": "1.2.0",
            "_model_name": "LayoutModel",
            "_view_count": null,
            "_view_module": "@jupyter-widgets/base",
            "_view_module_version": "1.2.0",
            "_view_name": "LayoutView",
            "align_content": null,
            "align_items": null,
            "align_self": null,
            "border": null,
            "bottom": null,
            "display": null,
            "flex": null,
            "flex_flow": null,
            "grid_area": null,
            "grid_auto_columns": null,
            "grid_auto_flow": null,
            "grid_auto_rows": null,
            "grid_column": null,
            "grid_gap": null,
            "grid_row": null,
            "grid_template_areas": null,
            "grid_template_columns": null,
            "grid_template_rows": null,
            "height": null,
            "justify_content": null,
            "justify_items": null,
            "left": null,
            "margin": null,
            "max_height": null,
            "max_width": null,
            "min_height": null,
            "min_width": null,
            "object_fit": null,
            "object_position": null,
            "order": null,
            "overflow": null,
            "overflow_x": null,
            "overflow_y": null,
            "padding": null,
            "right": null,
            "top": null,
            "visibility": null,
            "width": null
          }
        },
        "dd4f96cddd5b45669f91e79df6739348": {
          "model_module": "@jupyter-widgets/controls",
          "model_name": "DescriptionStyleModel",
          "model_module_version": "1.5.0",
          "state": {
            "_model_module": "@jupyter-widgets/controls",
            "_model_module_version": "1.5.0",
            "_model_name": "DescriptionStyleModel",
            "_view_count": null,
            "_view_module": "@jupyter-widgets/base",
            "_view_module_version": "1.2.0",
            "_view_name": "StyleView",
            "description_width": ""
          }
        },
        "6ad5e6ce5bc24450b6ec090d39c4bc6f": {
          "model_module": "@jupyter-widgets/controls",
          "model_name": "HBoxModel",
          "model_module_version": "1.5.0",
          "state": {
            "_dom_classes": [],
            "_model_module": "@jupyter-widgets/controls",
            "_model_module_version": "1.5.0",
            "_model_name": "HBoxModel",
            "_view_count": null,
            "_view_module": "@jupyter-widgets/controls",
            "_view_module_version": "1.5.0",
            "_view_name": "HBoxView",
            "box_style": "",
            "children": [
              "IPY_MODEL_e48eec02f60c439c90172dda5880c676",
              "IPY_MODEL_459861abdcaf46bca1ea0830578783c0",
              "IPY_MODEL_23307e5eac78485ead559790bb79973c"
            ],
            "layout": "IPY_MODEL_54f69ad0960f472cbcd31c288db56d3c"
          }
        },
        "e48eec02f60c439c90172dda5880c676": {
          "model_module": "@jupyter-widgets/controls",
          "model_name": "HTMLModel",
          "model_module_version": "1.5.0",
          "state": {
            "_dom_classes": [],
            "_model_module": "@jupyter-widgets/controls",
            "_model_module_version": "1.5.0",
            "_model_name": "HTMLModel",
            "_view_count": null,
            "_view_module": "@jupyter-widgets/controls",
            "_view_module_version": "1.5.0",
            "_view_name": "HTMLView",
            "description": "",
            "description_tooltip": null,
            "layout": "IPY_MODEL_431e91c1ddbe4accbaccec488d751e7a",
            "placeholder": "​",
            "style": "IPY_MODEL_e12eeaf2b7eb4ef7981b067f666cd1dc",
            "value": "model.safetensors: 100%"
          }
        },
        "459861abdcaf46bca1ea0830578783c0": {
          "model_module": "@jupyter-widgets/controls",
          "model_name": "FloatProgressModel",
          "model_module_version": "1.5.0",
          "state": {
            "_dom_classes": [],
            "_model_module": "@jupyter-widgets/controls",
            "_model_module_version": "1.5.0",
            "_model_name": "FloatProgressModel",
            "_view_count": null,
            "_view_module": "@jupyter-widgets/controls",
            "_view_module_version": "1.5.0",
            "_view_name": "ProgressView",
            "bar_style": "success",
            "description": "",
            "description_tooltip": null,
            "layout": "IPY_MODEL_2bafdf4f8cd348f2a503249e2726f627",
            "max": 548105171,
            "min": 0,
            "orientation": "horizontal",
            "style": "IPY_MODEL_36721e3256ed4674b7e535dd17b88978",
            "value": 548105171
          }
        },
        "23307e5eac78485ead559790bb79973c": {
          "model_module": "@jupyter-widgets/controls",
          "model_name": "HTMLModel",
          "model_module_version": "1.5.0",
          "state": {
            "_dom_classes": [],
            "_model_module": "@jupyter-widgets/controls",
            "_model_module_version": "1.5.0",
            "_model_name": "HTMLModel",
            "_view_count": null,
            "_view_module": "@jupyter-widgets/controls",
            "_view_module_version": "1.5.0",
            "_view_name": "HTMLView",
            "description": "",
            "description_tooltip": null,
            "layout": "IPY_MODEL_f3065da00a5f431ab719ac4025e68a6a",
            "placeholder": "​",
            "style": "IPY_MODEL_316e18d55071467f95cdd2f1f44e81c9",
            "value": " 548M/548M [00:03&lt;00:00, 176MB/s]"
          }
        },
        "54f69ad0960f472cbcd31c288db56d3c": {
          "model_module": "@jupyter-widgets/base",
          "model_name": "LayoutModel",
          "model_module_version": "1.2.0",
          "state": {
            "_model_module": "@jupyter-widgets/base",
            "_model_module_version": "1.2.0",
            "_model_name": "LayoutModel",
            "_view_count": null,
            "_view_module": "@jupyter-widgets/base",
            "_view_module_version": "1.2.0",
            "_view_name": "LayoutView",
            "align_content": null,
            "align_items": null,
            "align_self": null,
            "border": null,
            "bottom": null,
            "display": null,
            "flex": null,
            "flex_flow": null,
            "grid_area": null,
            "grid_auto_columns": null,
            "grid_auto_flow": null,
            "grid_auto_rows": null,
            "grid_column": null,
            "grid_gap": null,
            "grid_row": null,
            "grid_template_areas": null,
            "grid_template_columns": null,
            "grid_template_rows": null,
            "height": null,
            "justify_content": null,
            "justify_items": null,
            "left": null,
            "margin": null,
            "max_height": null,
            "max_width": null,
            "min_height": null,
            "min_width": null,
            "object_fit": null,
            "object_position": null,
            "order": null,
            "overflow": null,
            "overflow_x": null,
            "overflow_y": null,
            "padding": null,
            "right": null,
            "top": null,
            "visibility": null,
            "width": null
          }
        },
        "431e91c1ddbe4accbaccec488d751e7a": {
          "model_module": "@jupyter-widgets/base",
          "model_name": "LayoutModel",
          "model_module_version": "1.2.0",
          "state": {
            "_model_module": "@jupyter-widgets/base",
            "_model_module_version": "1.2.0",
            "_model_name": "LayoutModel",
            "_view_count": null,
            "_view_module": "@jupyter-widgets/base",
            "_view_module_version": "1.2.0",
            "_view_name": "LayoutView",
            "align_content": null,
            "align_items": null,
            "align_self": null,
            "border": null,
            "bottom": null,
            "display": null,
            "flex": null,
            "flex_flow": null,
            "grid_area": null,
            "grid_auto_columns": null,
            "grid_auto_flow": null,
            "grid_auto_rows": null,
            "grid_column": null,
            "grid_gap": null,
            "grid_row": null,
            "grid_template_areas": null,
            "grid_template_columns": null,
            "grid_template_rows": null,
            "height": null,
            "justify_content": null,
            "justify_items": null,
            "left": null,
            "margin": null,
            "max_height": null,
            "max_width": null,
            "min_height": null,
            "min_width": null,
            "object_fit": null,
            "object_position": null,
            "order": null,
            "overflow": null,
            "overflow_x": null,
            "overflow_y": null,
            "padding": null,
            "right": null,
            "top": null,
            "visibility": null,
            "width": null
          }
        },
        "e12eeaf2b7eb4ef7981b067f666cd1dc": {
          "model_module": "@jupyter-widgets/controls",
          "model_name": "DescriptionStyleModel",
          "model_module_version": "1.5.0",
          "state": {
            "_model_module": "@jupyter-widgets/controls",
            "_model_module_version": "1.5.0",
            "_model_name": "DescriptionStyleModel",
            "_view_count": null,
            "_view_module": "@jupyter-widgets/base",
            "_view_module_version": "1.2.0",
            "_view_name": "StyleView",
            "description_width": ""
          }
        },
        "2bafdf4f8cd348f2a503249e2726f627": {
          "model_module": "@jupyter-widgets/base",
          "model_name": "LayoutModel",
          "model_module_version": "1.2.0",
          "state": {
            "_model_module": "@jupyter-widgets/base",
            "_model_module_version": "1.2.0",
            "_model_name": "LayoutModel",
            "_view_count": null,
            "_view_module": "@jupyter-widgets/base",
            "_view_module_version": "1.2.0",
            "_view_name": "LayoutView",
            "align_content": null,
            "align_items": null,
            "align_self": null,
            "border": null,
            "bottom": null,
            "display": null,
            "flex": null,
            "flex_flow": null,
            "grid_area": null,
            "grid_auto_columns": null,
            "grid_auto_flow": null,
            "grid_auto_rows": null,
            "grid_column": null,
            "grid_gap": null,
            "grid_row": null,
            "grid_template_areas": null,
            "grid_template_columns": null,
            "grid_template_rows": null,
            "height": null,
            "justify_content": null,
            "justify_items": null,
            "left": null,
            "margin": null,
            "max_height": null,
            "max_width": null,
            "min_height": null,
            "min_width": null,
            "object_fit": null,
            "object_position": null,
            "order": null,
            "overflow": null,
            "overflow_x": null,
            "overflow_y": null,
            "padding": null,
            "right": null,
            "top": null,
            "visibility": null,
            "width": null
          }
        },
        "36721e3256ed4674b7e535dd17b88978": {
          "model_module": "@jupyter-widgets/controls",
          "model_name": "ProgressStyleModel",
          "model_module_version": "1.5.0",
          "state": {
            "_model_module": "@jupyter-widgets/controls",
            "_model_module_version": "1.5.0",
            "_model_name": "ProgressStyleModel",
            "_view_count": null,
            "_view_module": "@jupyter-widgets/base",
            "_view_module_version": "1.2.0",
            "_view_name": "StyleView",
            "bar_color": null,
            "description_width": ""
          }
        },
        "f3065da00a5f431ab719ac4025e68a6a": {
          "model_module": "@jupyter-widgets/base",
          "model_name": "LayoutModel",
          "model_module_version": "1.2.0",
          "state": {
            "_model_module": "@jupyter-widgets/base",
            "_model_module_version": "1.2.0",
            "_model_name": "LayoutModel",
            "_view_count": null,
            "_view_module": "@jupyter-widgets/base",
            "_view_module_version": "1.2.0",
            "_view_name": "LayoutView",
            "align_content": null,
            "align_items": null,
            "align_self": null,
            "border": null,
            "bottom": null,
            "display": null,
            "flex": null,
            "flex_flow": null,
            "grid_area": null,
            "grid_auto_columns": null,
            "grid_auto_flow": null,
            "grid_auto_rows": null,
            "grid_column": null,
            "grid_gap": null,
            "grid_row": null,
            "grid_template_areas": null,
            "grid_template_columns": null,
            "grid_template_rows": null,
            "height": null,
            "justify_content": null,
            "justify_items": null,
            "left": null,
            "margin": null,
            "max_height": null,
            "max_width": null,
            "min_height": null,
            "min_width": null,
            "object_fit": null,
            "object_position": null,
            "order": null,
            "overflow": null,
            "overflow_x": null,
            "overflow_y": null,
            "padding": null,
            "right": null,
            "top": null,
            "visibility": null,
            "width": null
          }
        },
        "316e18d55071467f95cdd2f1f44e81c9": {
          "model_module": "@jupyter-widgets/controls",
          "model_name": "DescriptionStyleModel",
          "model_module_version": "1.5.0",
          "state": {
            "_model_module": "@jupyter-widgets/controls",
            "_model_module_version": "1.5.0",
            "_model_name": "DescriptionStyleModel",
            "_view_count": null,
            "_view_module": "@jupyter-widgets/base",
            "_view_module_version": "1.2.0",
            "_view_name": "StyleView",
            "description_width": ""
          }
        },
        "fc83fef0aa4647c48803f1560c9c00d7": {
          "model_module": "@jupyter-widgets/controls",
          "model_name": "HBoxModel",
          "model_module_version": "1.5.0",
          "state": {
            "_dom_classes": [],
            "_model_module": "@jupyter-widgets/controls",
            "_model_module_version": "1.5.0",
            "_model_name": "HBoxModel",
            "_view_count": null,
            "_view_module": "@jupyter-widgets/controls",
            "_view_module_version": "1.5.0",
            "_view_name": "HBoxView",
            "box_style": "",
            "children": [
              "IPY_MODEL_132c841e28fb43b0a80ebbb7353ee6fa",
              "IPY_MODEL_d22d7522eda84d758cc35387bd5854ec",
              "IPY_MODEL_b31436906365474497d94f16fc24c0c6"
            ],
            "layout": "IPY_MODEL_25b2cacf9cb740a9b8601032e2e5d88d"
          }
        },
        "132c841e28fb43b0a80ebbb7353ee6fa": {
          "model_module": "@jupyter-widgets/controls",
          "model_name": "HTMLModel",
          "model_module_version": "1.5.0",
          "state": {
            "_dom_classes": [],
            "_model_module": "@jupyter-widgets/controls",
            "_model_module_version": "1.5.0",
            "_model_name": "HTMLModel",
            "_view_count": null,
            "_view_module": "@jupyter-widgets/controls",
            "_view_module_version": "1.5.0",
            "_view_name": "HTMLView",
            "description": "",
            "description_tooltip": null,
            "layout": "IPY_MODEL_069276e549284c33a86463dd91701594",
            "placeholder": "​",
            "style": "IPY_MODEL_df71f49fabe246dbaee4271b10733d0f",
            "value": "generation_config.json: 100%"
          }
        },
        "d22d7522eda84d758cc35387bd5854ec": {
          "model_module": "@jupyter-widgets/controls",
          "model_name": "FloatProgressModel",
          "model_module_version": "1.5.0",
          "state": {
            "_dom_classes": [],
            "_model_module": "@jupyter-widgets/controls",
            "_model_module_version": "1.5.0",
            "_model_name": "FloatProgressModel",
            "_view_count": null,
            "_view_module": "@jupyter-widgets/controls",
            "_view_module_version": "1.5.0",
            "_view_name": "ProgressView",
            "bar_style": "success",
            "description": "",
            "description_tooltip": null,
            "layout": "IPY_MODEL_aa6ed61af5914fbdba5ffb90bf765277",
            "max": 124,
            "min": 0,
            "orientation": "horizontal",
            "style": "IPY_MODEL_e2f7c02da2d34faa8d53fbab7c43f85c",
            "value": 124
          }
        },
        "b31436906365474497d94f16fc24c0c6": {
          "model_module": "@jupyter-widgets/controls",
          "model_name": "HTMLModel",
          "model_module_version": "1.5.0",
          "state": {
            "_dom_classes": [],
            "_model_module": "@jupyter-widgets/controls",
            "_model_module_version": "1.5.0",
            "_model_name": "HTMLModel",
            "_view_count": null,
            "_view_module": "@jupyter-widgets/controls",
            "_view_module_version": "1.5.0",
            "_view_name": "HTMLView",
            "description": "",
            "description_tooltip": null,
            "layout": "IPY_MODEL_875cc03ca9274ad686084b7f846e6ef7",
            "placeholder": "​",
            "style": "IPY_MODEL_22e36e9c185646189ada8e6f9ec8df3e",
            "value": " 124/124 [00:00&lt;00:00, 10.2kB/s]"
          }
        },
        "25b2cacf9cb740a9b8601032e2e5d88d": {
          "model_module": "@jupyter-widgets/base",
          "model_name": "LayoutModel",
          "model_module_version": "1.2.0",
          "state": {
            "_model_module": "@jupyter-widgets/base",
            "_model_module_version": "1.2.0",
            "_model_name": "LayoutModel",
            "_view_count": null,
            "_view_module": "@jupyter-widgets/base",
            "_view_module_version": "1.2.0",
            "_view_name": "LayoutView",
            "align_content": null,
            "align_items": null,
            "align_self": null,
            "border": null,
            "bottom": null,
            "display": null,
            "flex": null,
            "flex_flow": null,
            "grid_area": null,
            "grid_auto_columns": null,
            "grid_auto_flow": null,
            "grid_auto_rows": null,
            "grid_column": null,
            "grid_gap": null,
            "grid_row": null,
            "grid_template_areas": null,
            "grid_template_columns": null,
            "grid_template_rows": null,
            "height": null,
            "justify_content": null,
            "justify_items": null,
            "left": null,
            "margin": null,
            "max_height": null,
            "max_width": null,
            "min_height": null,
            "min_width": null,
            "object_fit": null,
            "object_position": null,
            "order": null,
            "overflow": null,
            "overflow_x": null,
            "overflow_y": null,
            "padding": null,
            "right": null,
            "top": null,
            "visibility": null,
            "width": null
          }
        },
        "069276e549284c33a86463dd91701594": {
          "model_module": "@jupyter-widgets/base",
          "model_name": "LayoutModel",
          "model_module_version": "1.2.0",
          "state": {
            "_model_module": "@jupyter-widgets/base",
            "_model_module_version": "1.2.0",
            "_model_name": "LayoutModel",
            "_view_count": null,
            "_view_module": "@jupyter-widgets/base",
            "_view_module_version": "1.2.0",
            "_view_name": "LayoutView",
            "align_content": null,
            "align_items": null,
            "align_self": null,
            "border": null,
            "bottom": null,
            "display": null,
            "flex": null,
            "flex_flow": null,
            "grid_area": null,
            "grid_auto_columns": null,
            "grid_auto_flow": null,
            "grid_auto_rows": null,
            "grid_column": null,
            "grid_gap": null,
            "grid_row": null,
            "grid_template_areas": null,
            "grid_template_columns": null,
            "grid_template_rows": null,
            "height": null,
            "justify_content": null,
            "justify_items": null,
            "left": null,
            "margin": null,
            "max_height": null,
            "max_width": null,
            "min_height": null,
            "min_width": null,
            "object_fit": null,
            "object_position": null,
            "order": null,
            "overflow": null,
            "overflow_x": null,
            "overflow_y": null,
            "padding": null,
            "right": null,
            "top": null,
            "visibility": null,
            "width": null
          }
        },
        "df71f49fabe246dbaee4271b10733d0f": {
          "model_module": "@jupyter-widgets/controls",
          "model_name": "DescriptionStyleModel",
          "model_module_version": "1.5.0",
          "state": {
            "_model_module": "@jupyter-widgets/controls",
            "_model_module_version": "1.5.0",
            "_model_name": "DescriptionStyleModel",
            "_view_count": null,
            "_view_module": "@jupyter-widgets/base",
            "_view_module_version": "1.2.0",
            "_view_name": "StyleView",
            "description_width": ""
          }
        },
        "aa6ed61af5914fbdba5ffb90bf765277": {
          "model_module": "@jupyter-widgets/base",
          "model_name": "LayoutModel",
          "model_module_version": "1.2.0",
          "state": {
            "_model_module": "@jupyter-widgets/base",
            "_model_module_version": "1.2.0",
            "_model_name": "LayoutModel",
            "_view_count": null,
            "_view_module": "@jupyter-widgets/base",
            "_view_module_version": "1.2.0",
            "_view_name": "LayoutView",
            "align_content": null,
            "align_items": null,
            "align_self": null,
            "border": null,
            "bottom": null,
            "display": null,
            "flex": null,
            "flex_flow": null,
            "grid_area": null,
            "grid_auto_columns": null,
            "grid_auto_flow": null,
            "grid_auto_rows": null,
            "grid_column": null,
            "grid_gap": null,
            "grid_row": null,
            "grid_template_areas": null,
            "grid_template_columns": null,
            "grid_template_rows": null,
            "height": null,
            "justify_content": null,
            "justify_items": null,
            "left": null,
            "margin": null,
            "max_height": null,
            "max_width": null,
            "min_height": null,
            "min_width": null,
            "object_fit": null,
            "object_position": null,
            "order": null,
            "overflow": null,
            "overflow_x": null,
            "overflow_y": null,
            "padding": null,
            "right": null,
            "top": null,
            "visibility": null,
            "width": null
          }
        },
        "e2f7c02da2d34faa8d53fbab7c43f85c": {
          "model_module": "@jupyter-widgets/controls",
          "model_name": "ProgressStyleModel",
          "model_module_version": "1.5.0",
          "state": {
            "_model_module": "@jupyter-widgets/controls",
            "_model_module_version": "1.5.0",
            "_model_name": "ProgressStyleModel",
            "_view_count": null,
            "_view_module": "@jupyter-widgets/base",
            "_view_module_version": "1.2.0",
            "_view_name": "StyleView",
            "bar_color": null,
            "description_width": ""
          }
        },
        "875cc03ca9274ad686084b7f846e6ef7": {
          "model_module": "@jupyter-widgets/base",
          "model_name": "LayoutModel",
          "model_module_version": "1.2.0",
          "state": {
            "_model_module": "@jupyter-widgets/base",
            "_model_module_version": "1.2.0",
            "_model_name": "LayoutModel",
            "_view_count": null,
            "_view_module": "@jupyter-widgets/base",
            "_view_module_version": "1.2.0",
            "_view_name": "LayoutView",
            "align_content": null,
            "align_items": null,
            "align_self": null,
            "border": null,
            "bottom": null,
            "display": null,
            "flex": null,
            "flex_flow": null,
            "grid_area": null,
            "grid_auto_columns": null,
            "grid_auto_flow": null,
            "grid_auto_rows": null,
            "grid_column": null,
            "grid_gap": null,
            "grid_row": null,
            "grid_template_areas": null,
            "grid_template_columns": null,
            "grid_template_rows": null,
            "height": null,
            "justify_content": null,
            "justify_items": null,
            "left": null,
            "margin": null,
            "max_height": null,
            "max_width": null,
            "min_height": null,
            "min_width": null,
            "object_fit": null,
            "object_position": null,
            "order": null,
            "overflow": null,
            "overflow_x": null,
            "overflow_y": null,
            "padding": null,
            "right": null,
            "top": null,
            "visibility": null,
            "width": null
          }
        },
        "22e36e9c185646189ada8e6f9ec8df3e": {
          "model_module": "@jupyter-widgets/controls",
          "model_name": "DescriptionStyleModel",
          "model_module_version": "1.5.0",
          "state": {
            "_model_module": "@jupyter-widgets/controls",
            "_model_module_version": "1.5.0",
            "_model_name": "DescriptionStyleModel",
            "_view_count": null,
            "_view_module": "@jupyter-widgets/base",
            "_view_module_version": "1.2.0",
            "_view_name": "StyleView",
            "description_width": ""
          }
        },
        "b5c00762304947ff8e009a6751f113eb": {
          "model_module": "@jupyter-widgets/controls",
          "model_name": "HBoxModel",
          "model_module_version": "1.5.0",
          "state": {
            "_dom_classes": [],
            "_model_module": "@jupyter-widgets/controls",
            "_model_module_version": "1.5.0",
            "_model_name": "HBoxModel",
            "_view_count": null,
            "_view_module": "@jupyter-widgets/controls",
            "_view_module_version": "1.5.0",
            "_view_name": "HBoxView",
            "box_style": "",
            "children": [
              "IPY_MODEL_af8dec136ba040949568d399827fc245",
              "IPY_MODEL_4a6a8324589b435488004ce90f8cff6f",
              "IPY_MODEL_7f4a8cc1bb10435d958cc68f46533755"
            ],
            "layout": "IPY_MODEL_2c1b55040c4b436baf0fa1c4f52d3b0a"
          }
        },
        "af8dec136ba040949568d399827fc245": {
          "model_module": "@jupyter-widgets/controls",
          "model_name": "HTMLModel",
          "model_module_version": "1.5.0",
          "state": {
            "_dom_classes": [],
            "_model_module": "@jupyter-widgets/controls",
            "_model_module_version": "1.5.0",
            "_model_name": "HTMLModel",
            "_view_count": null,
            "_view_module": "@jupyter-widgets/controls",
            "_view_module_version": "1.5.0",
            "_view_name": "HTMLView",
            "description": "",
            "description_tooltip": null,
            "layout": "IPY_MODEL_51802aed5fe942f29024f3526d47740c",
            "placeholder": "​",
            "style": "IPY_MODEL_4ad508ef753547a0bfe0b0fd5bb46cbf",
            "value": "tokenizer_config.json: 100%"
          }
        },
        "4a6a8324589b435488004ce90f8cff6f": {
          "model_module": "@jupyter-widgets/controls",
          "model_name": "FloatProgressModel",
          "model_module_version": "1.5.0",
          "state": {
            "_dom_classes": [],
            "_model_module": "@jupyter-widgets/controls",
            "_model_module_version": "1.5.0",
            "_model_name": "FloatProgressModel",
            "_view_count": null,
            "_view_module": "@jupyter-widgets/controls",
            "_view_module_version": "1.5.0",
            "_view_name": "ProgressView",
            "bar_style": "success",
            "description": "",
            "description_tooltip": null,
            "layout": "IPY_MODEL_24584b548d7a4fb4b768436c4c2c81e0",
            "max": 26,
            "min": 0,
            "orientation": "horizontal",
            "style": "IPY_MODEL_6df5ae6289a14b93bdb07f676b2be0cf",
            "value": 26
          }
        },
        "7f4a8cc1bb10435d958cc68f46533755": {
          "model_module": "@jupyter-widgets/controls",
          "model_name": "HTMLModel",
          "model_module_version": "1.5.0",
          "state": {
            "_dom_classes": [],
            "_model_module": "@jupyter-widgets/controls",
            "_model_module_version": "1.5.0",
            "_model_name": "HTMLModel",
            "_view_count": null,
            "_view_module": "@jupyter-widgets/controls",
            "_view_module_version": "1.5.0",
            "_view_name": "HTMLView",
            "description": "",
            "description_tooltip": null,
            "layout": "IPY_MODEL_bb214beec9c34200828394505851d180",
            "placeholder": "​",
            "style": "IPY_MODEL_c6426ad4e29042219e3ed6b8b747412f",
            "value": " 26.0/26.0 [00:00&lt;00:00, 1.91kB/s]"
          }
        },
        "2c1b55040c4b436baf0fa1c4f52d3b0a": {
          "model_module": "@jupyter-widgets/base",
          "model_name": "LayoutModel",
          "model_module_version": "1.2.0",
          "state": {
            "_model_module": "@jupyter-widgets/base",
            "_model_module_version": "1.2.0",
            "_model_name": "LayoutModel",
            "_view_count": null,
            "_view_module": "@jupyter-widgets/base",
            "_view_module_version": "1.2.0",
            "_view_name": "LayoutView",
            "align_content": null,
            "align_items": null,
            "align_self": null,
            "border": null,
            "bottom": null,
            "display": null,
            "flex": null,
            "flex_flow": null,
            "grid_area": null,
            "grid_auto_columns": null,
            "grid_auto_flow": null,
            "grid_auto_rows": null,
            "grid_column": null,
            "grid_gap": null,
            "grid_row": null,
            "grid_template_areas": null,
            "grid_template_columns": null,
            "grid_template_rows": null,
            "height": null,
            "justify_content": null,
            "justify_items": null,
            "left": null,
            "margin": null,
            "max_height": null,
            "max_width": null,
            "min_height": null,
            "min_width": null,
            "object_fit": null,
            "object_position": null,
            "order": null,
            "overflow": null,
            "overflow_x": null,
            "overflow_y": null,
            "padding": null,
            "right": null,
            "top": null,
            "visibility": null,
            "width": null
          }
        },
        "51802aed5fe942f29024f3526d47740c": {
          "model_module": "@jupyter-widgets/base",
          "model_name": "LayoutModel",
          "model_module_version": "1.2.0",
          "state": {
            "_model_module": "@jupyter-widgets/base",
            "_model_module_version": "1.2.0",
            "_model_name": "LayoutModel",
            "_view_count": null,
            "_view_module": "@jupyter-widgets/base",
            "_view_module_version": "1.2.0",
            "_view_name": "LayoutView",
            "align_content": null,
            "align_items": null,
            "align_self": null,
            "border": null,
            "bottom": null,
            "display": null,
            "flex": null,
            "flex_flow": null,
            "grid_area": null,
            "grid_auto_columns": null,
            "grid_auto_flow": null,
            "grid_auto_rows": null,
            "grid_column": null,
            "grid_gap": null,
            "grid_row": null,
            "grid_template_areas": null,
            "grid_template_columns": null,
            "grid_template_rows": null,
            "height": null,
            "justify_content": null,
            "justify_items": null,
            "left": null,
            "margin": null,
            "max_height": null,
            "max_width": null,
            "min_height": null,
            "min_width": null,
            "object_fit": null,
            "object_position": null,
            "order": null,
            "overflow": null,
            "overflow_x": null,
            "overflow_y": null,
            "padding": null,
            "right": null,
            "top": null,
            "visibility": null,
            "width": null
          }
        },
        "4ad508ef753547a0bfe0b0fd5bb46cbf": {
          "model_module": "@jupyter-widgets/controls",
          "model_name": "DescriptionStyleModel",
          "model_module_version": "1.5.0",
          "state": {
            "_model_module": "@jupyter-widgets/controls",
            "_model_module_version": "1.5.0",
            "_model_name": "DescriptionStyleModel",
            "_view_count": null,
            "_view_module": "@jupyter-widgets/base",
            "_view_module_version": "1.2.0",
            "_view_name": "StyleView",
            "description_width": ""
          }
        },
        "24584b548d7a4fb4b768436c4c2c81e0": {
          "model_module": "@jupyter-widgets/base",
          "model_name": "LayoutModel",
          "model_module_version": "1.2.0",
          "state": {
            "_model_module": "@jupyter-widgets/base",
            "_model_module_version": "1.2.0",
            "_model_name": "LayoutModel",
            "_view_count": null,
            "_view_module": "@jupyter-widgets/base",
            "_view_module_version": "1.2.0",
            "_view_name": "LayoutView",
            "align_content": null,
            "align_items": null,
            "align_self": null,
            "border": null,
            "bottom": null,
            "display": null,
            "flex": null,
            "flex_flow": null,
            "grid_area": null,
            "grid_auto_columns": null,
            "grid_auto_flow": null,
            "grid_auto_rows": null,
            "grid_column": null,
            "grid_gap": null,
            "grid_row": null,
            "grid_template_areas": null,
            "grid_template_columns": null,
            "grid_template_rows": null,
            "height": null,
            "justify_content": null,
            "justify_items": null,
            "left": null,
            "margin": null,
            "max_height": null,
            "max_width": null,
            "min_height": null,
            "min_width": null,
            "object_fit": null,
            "object_position": null,
            "order": null,
            "overflow": null,
            "overflow_x": null,
            "overflow_y": null,
            "padding": null,
            "right": null,
            "top": null,
            "visibility": null,
            "width": null
          }
        },
        "6df5ae6289a14b93bdb07f676b2be0cf": {
          "model_module": "@jupyter-widgets/controls",
          "model_name": "ProgressStyleModel",
          "model_module_version": "1.5.0",
          "state": {
            "_model_module": "@jupyter-widgets/controls",
            "_model_module_version": "1.5.0",
            "_model_name": "ProgressStyleModel",
            "_view_count": null,
            "_view_module": "@jupyter-widgets/base",
            "_view_module_version": "1.2.0",
            "_view_name": "StyleView",
            "bar_color": null,
            "description_width": ""
          }
        },
        "bb214beec9c34200828394505851d180": {
          "model_module": "@jupyter-widgets/base",
          "model_name": "LayoutModel",
          "model_module_version": "1.2.0",
          "state": {
            "_model_module": "@jupyter-widgets/base",
            "_model_module_version": "1.2.0",
            "_model_name": "LayoutModel",
            "_view_count": null,
            "_view_module": "@jupyter-widgets/base",
            "_view_module_version": "1.2.0",
            "_view_name": "LayoutView",
            "align_content": null,
            "align_items": null,
            "align_self": null,
            "border": null,
            "bottom": null,
            "display": null,
            "flex": null,
            "flex_flow": null,
            "grid_area": null,
            "grid_auto_columns": null,
            "grid_auto_flow": null,
            "grid_auto_rows": null,
            "grid_column": null,
            "grid_gap": null,
            "grid_row": null,
            "grid_template_areas": null,
            "grid_template_columns": null,
            "grid_template_rows": null,
            "height": null,
            "justify_content": null,
            "justify_items": null,
            "left": null,
            "margin": null,
            "max_height": null,
            "max_width": null,
            "min_height": null,
            "min_width": null,
            "object_fit": null,
            "object_position": null,
            "order": null,
            "overflow": null,
            "overflow_x": null,
            "overflow_y": null,
            "padding": null,
            "right": null,
            "top": null,
            "visibility": null,
            "width": null
          }
        },
        "c6426ad4e29042219e3ed6b8b747412f": {
          "model_module": "@jupyter-widgets/controls",
          "model_name": "DescriptionStyleModel",
          "model_module_version": "1.5.0",
          "state": {
            "_model_module": "@jupyter-widgets/controls",
            "_model_module_version": "1.5.0",
            "_model_name": "DescriptionStyleModel",
            "_view_count": null,
            "_view_module": "@jupyter-widgets/base",
            "_view_module_version": "1.2.0",
            "_view_name": "StyleView",
            "description_width": ""
          }
        },
        "e9def34937834814934be6c3093dc3e1": {
          "model_module": "@jupyter-widgets/controls",
          "model_name": "HBoxModel",
          "model_module_version": "1.5.0",
          "state": {
            "_dom_classes": [],
            "_model_module": "@jupyter-widgets/controls",
            "_model_module_version": "1.5.0",
            "_model_name": "HBoxModel",
            "_view_count": null,
            "_view_module": "@jupyter-widgets/controls",
            "_view_module_version": "1.5.0",
            "_view_name": "HBoxView",
            "box_style": "",
            "children": [
              "IPY_MODEL_58e6b2510c6d4bb7885b5bf54b38ff4b",
              "IPY_MODEL_5d762931950a4c948af696704d916af8",
              "IPY_MODEL_c50558f6c56c42bfb5987bfb9d874886"
            ],
            "layout": "IPY_MODEL_1036fba67472407c99972816c55aae1a"
          }
        },
        "58e6b2510c6d4bb7885b5bf54b38ff4b": {
          "model_module": "@jupyter-widgets/controls",
          "model_name": "HTMLModel",
          "model_module_version": "1.5.0",
          "state": {
            "_dom_classes": [],
            "_model_module": "@jupyter-widgets/controls",
            "_model_module_version": "1.5.0",
            "_model_name": "HTMLModel",
            "_view_count": null,
            "_view_module": "@jupyter-widgets/controls",
            "_view_module_version": "1.5.0",
            "_view_name": "HTMLView",
            "description": "",
            "description_tooltip": null,
            "layout": "IPY_MODEL_2dc4224acf8a45a980596608d204ac29",
            "placeholder": "​",
            "style": "IPY_MODEL_8478f91647b44738894f71f3df5041f2",
            "value": "vocab.json: 100%"
          }
        },
        "5d762931950a4c948af696704d916af8": {
          "model_module": "@jupyter-widgets/controls",
          "model_name": "FloatProgressModel",
          "model_module_version": "1.5.0",
          "state": {
            "_dom_classes": [],
            "_model_module": "@jupyter-widgets/controls",
            "_model_module_version": "1.5.0",
            "_model_name": "FloatProgressModel",
            "_view_count": null,
            "_view_module": "@jupyter-widgets/controls",
            "_view_module_version": "1.5.0",
            "_view_name": "ProgressView",
            "bar_style": "success",
            "description": "",
            "description_tooltip": null,
            "layout": "IPY_MODEL_9a27f381a7924600bfa35d0ab6464139",
            "max": 1042301,
            "min": 0,
            "orientation": "horizontal",
            "style": "IPY_MODEL_909e866f22c547faacb93d93c6184b23",
            "value": 1042301
          }
        },
        "c50558f6c56c42bfb5987bfb9d874886": {
          "model_module": "@jupyter-widgets/controls",
          "model_name": "HTMLModel",
          "model_module_version": "1.5.0",
          "state": {
            "_dom_classes": [],
            "_model_module": "@jupyter-widgets/controls",
            "_model_module_version": "1.5.0",
            "_model_name": "HTMLModel",
            "_view_count": null,
            "_view_module": "@jupyter-widgets/controls",
            "_view_module_version": "1.5.0",
            "_view_name": "HTMLView",
            "description": "",
            "description_tooltip": null,
            "layout": "IPY_MODEL_bf838f807405406fb3cc1a2356917355",
            "placeholder": "​",
            "style": "IPY_MODEL_dff93eb948a54e41a86422dd09bf73ef",
            "value": " 1.04M/1.04M [00:00&lt;00:00, 12.0MB/s]"
          }
        },
        "1036fba67472407c99972816c55aae1a": {
          "model_module": "@jupyter-widgets/base",
          "model_name": "LayoutModel",
          "model_module_version": "1.2.0",
          "state": {
            "_model_module": "@jupyter-widgets/base",
            "_model_module_version": "1.2.0",
            "_model_name": "LayoutModel",
            "_view_count": null,
            "_view_module": "@jupyter-widgets/base",
            "_view_module_version": "1.2.0",
            "_view_name": "LayoutView",
            "align_content": null,
            "align_items": null,
            "align_self": null,
            "border": null,
            "bottom": null,
            "display": null,
            "flex": null,
            "flex_flow": null,
            "grid_area": null,
            "grid_auto_columns": null,
            "grid_auto_flow": null,
            "grid_auto_rows": null,
            "grid_column": null,
            "grid_gap": null,
            "grid_row": null,
            "grid_template_areas": null,
            "grid_template_columns": null,
            "grid_template_rows": null,
            "height": null,
            "justify_content": null,
            "justify_items": null,
            "left": null,
            "margin": null,
            "max_height": null,
            "max_width": null,
            "min_height": null,
            "min_width": null,
            "object_fit": null,
            "object_position": null,
            "order": null,
            "overflow": null,
            "overflow_x": null,
            "overflow_y": null,
            "padding": null,
            "right": null,
            "top": null,
            "visibility": null,
            "width": null
          }
        },
        "2dc4224acf8a45a980596608d204ac29": {
          "model_module": "@jupyter-widgets/base",
          "model_name": "LayoutModel",
          "model_module_version": "1.2.0",
          "state": {
            "_model_module": "@jupyter-widgets/base",
            "_model_module_version": "1.2.0",
            "_model_name": "LayoutModel",
            "_view_count": null,
            "_view_module": "@jupyter-widgets/base",
            "_view_module_version": "1.2.0",
            "_view_name": "LayoutView",
            "align_content": null,
            "align_items": null,
            "align_self": null,
            "border": null,
            "bottom": null,
            "display": null,
            "flex": null,
            "flex_flow": null,
            "grid_area": null,
            "grid_auto_columns": null,
            "grid_auto_flow": null,
            "grid_auto_rows": null,
            "grid_column": null,
            "grid_gap": null,
            "grid_row": null,
            "grid_template_areas": null,
            "grid_template_columns": null,
            "grid_template_rows": null,
            "height": null,
            "justify_content": null,
            "justify_items": null,
            "left": null,
            "margin": null,
            "max_height": null,
            "max_width": null,
            "min_height": null,
            "min_width": null,
            "object_fit": null,
            "object_position": null,
            "order": null,
            "overflow": null,
            "overflow_x": null,
            "overflow_y": null,
            "padding": null,
            "right": null,
            "top": null,
            "visibility": null,
            "width": null
          }
        },
        "8478f91647b44738894f71f3df5041f2": {
          "model_module": "@jupyter-widgets/controls",
          "model_name": "DescriptionStyleModel",
          "model_module_version": "1.5.0",
          "state": {
            "_model_module": "@jupyter-widgets/controls",
            "_model_module_version": "1.5.0",
            "_model_name": "DescriptionStyleModel",
            "_view_count": null,
            "_view_module": "@jupyter-widgets/base",
            "_view_module_version": "1.2.0",
            "_view_name": "StyleView",
            "description_width": ""
          }
        },
        "9a27f381a7924600bfa35d0ab6464139": {
          "model_module": "@jupyter-widgets/base",
          "model_name": "LayoutModel",
          "model_module_version": "1.2.0",
          "state": {
            "_model_module": "@jupyter-widgets/base",
            "_model_module_version": "1.2.0",
            "_model_name": "LayoutModel",
            "_view_count": null,
            "_view_module": "@jupyter-widgets/base",
            "_view_module_version": "1.2.0",
            "_view_name": "LayoutView",
            "align_content": null,
            "align_items": null,
            "align_self": null,
            "border": null,
            "bottom": null,
            "display": null,
            "flex": null,
            "flex_flow": null,
            "grid_area": null,
            "grid_auto_columns": null,
            "grid_auto_flow": null,
            "grid_auto_rows": null,
            "grid_column": null,
            "grid_gap": null,
            "grid_row": null,
            "grid_template_areas": null,
            "grid_template_columns": null,
            "grid_template_rows": null,
            "height": null,
            "justify_content": null,
            "justify_items": null,
            "left": null,
            "margin": null,
            "max_height": null,
            "max_width": null,
            "min_height": null,
            "min_width": null,
            "object_fit": null,
            "object_position": null,
            "order": null,
            "overflow": null,
            "overflow_x": null,
            "overflow_y": null,
            "padding": null,
            "right": null,
            "top": null,
            "visibility": null,
            "width": null
          }
        },
        "909e866f22c547faacb93d93c6184b23": {
          "model_module": "@jupyter-widgets/controls",
          "model_name": "ProgressStyleModel",
          "model_module_version": "1.5.0",
          "state": {
            "_model_module": "@jupyter-widgets/controls",
            "_model_module_version": "1.5.0",
            "_model_name": "ProgressStyleModel",
            "_view_count": null,
            "_view_module": "@jupyter-widgets/base",
            "_view_module_version": "1.2.0",
            "_view_name": "StyleView",
            "bar_color": null,
            "description_width": ""
          }
        },
        "bf838f807405406fb3cc1a2356917355": {
          "model_module": "@jupyter-widgets/base",
          "model_name": "LayoutModel",
          "model_module_version": "1.2.0",
          "state": {
            "_model_module": "@jupyter-widgets/base",
            "_model_module_version": "1.2.0",
            "_model_name": "LayoutModel",
            "_view_count": null,
            "_view_module": "@jupyter-widgets/base",
            "_view_module_version": "1.2.0",
            "_view_name": "LayoutView",
            "align_content": null,
            "align_items": null,
            "align_self": null,
            "border": null,
            "bottom": null,
            "display": null,
            "flex": null,
            "flex_flow": null,
            "grid_area": null,
            "grid_auto_columns": null,
            "grid_auto_flow": null,
            "grid_auto_rows": null,
            "grid_column": null,
            "grid_gap": null,
            "grid_row": null,
            "grid_template_areas": null,
            "grid_template_columns": null,
            "grid_template_rows": null,
            "height": null,
            "justify_content": null,
            "justify_items": null,
            "left": null,
            "margin": null,
            "max_height": null,
            "max_width": null,
            "min_height": null,
            "min_width": null,
            "object_fit": null,
            "object_position": null,
            "order": null,
            "overflow": null,
            "overflow_x": null,
            "overflow_y": null,
            "padding": null,
            "right": null,
            "top": null,
            "visibility": null,
            "width": null
          }
        },
        "dff93eb948a54e41a86422dd09bf73ef": {
          "model_module": "@jupyter-widgets/controls",
          "model_name": "DescriptionStyleModel",
          "model_module_version": "1.5.0",
          "state": {
            "_model_module": "@jupyter-widgets/controls",
            "_model_module_version": "1.5.0",
            "_model_name": "DescriptionStyleModel",
            "_view_count": null,
            "_view_module": "@jupyter-widgets/base",
            "_view_module_version": "1.2.0",
            "_view_name": "StyleView",
            "description_width": ""
          }
        },
        "bb26097c468443649712ed17a512b77a": {
          "model_module": "@jupyter-widgets/controls",
          "model_name": "HBoxModel",
          "model_module_version": "1.5.0",
          "state": {
            "_dom_classes": [],
            "_model_module": "@jupyter-widgets/controls",
            "_model_module_version": "1.5.0",
            "_model_name": "HBoxModel",
            "_view_count": null,
            "_view_module": "@jupyter-widgets/controls",
            "_view_module_version": "1.5.0",
            "_view_name": "HBoxView",
            "box_style": "",
            "children": [
              "IPY_MODEL_8b73d93793984a379f8acb69cedb2d5f",
              "IPY_MODEL_28726b229ee540eeab59c5e4f20819e2",
              "IPY_MODEL_2fa8d3133ec34c3faad5f9770c817461"
            ],
            "layout": "IPY_MODEL_ff3529365c894ad8a5eb7627a2ca007b"
          }
        },
        "8b73d93793984a379f8acb69cedb2d5f": {
          "model_module": "@jupyter-widgets/controls",
          "model_name": "HTMLModel",
          "model_module_version": "1.5.0",
          "state": {
            "_dom_classes": [],
            "_model_module": "@jupyter-widgets/controls",
            "_model_module_version": "1.5.0",
            "_model_name": "HTMLModel",
            "_view_count": null,
            "_view_module": "@jupyter-widgets/controls",
            "_view_module_version": "1.5.0",
            "_view_name": "HTMLView",
            "description": "",
            "description_tooltip": null,
            "layout": "IPY_MODEL_e0368bd43b8f4b848932dcbc0d4e2027",
            "placeholder": "​",
            "style": "IPY_MODEL_7182eb49c1ec44b8bfc7615ec75d9acf",
            "value": "merges.txt: 100%"
          }
        },
        "28726b229ee540eeab59c5e4f20819e2": {
          "model_module": "@jupyter-widgets/controls",
          "model_name": "FloatProgressModel",
          "model_module_version": "1.5.0",
          "state": {
            "_dom_classes": [],
            "_model_module": "@jupyter-widgets/controls",
            "_model_module_version": "1.5.0",
            "_model_name": "FloatProgressModel",
            "_view_count": null,
            "_view_module": "@jupyter-widgets/controls",
            "_view_module_version": "1.5.0",
            "_view_name": "ProgressView",
            "bar_style": "success",
            "description": "",
            "description_tooltip": null,
            "layout": "IPY_MODEL_3e2a6d9bdc884f96b29cedbf74883745",
            "max": 456318,
            "min": 0,
            "orientation": "horizontal",
            "style": "IPY_MODEL_919aa1c2964f47c494041435ec740e97",
            "value": 456318
          }
        },
        "2fa8d3133ec34c3faad5f9770c817461": {
          "model_module": "@jupyter-widgets/controls",
          "model_name": "HTMLModel",
          "model_module_version": "1.5.0",
          "state": {
            "_dom_classes": [],
            "_model_module": "@jupyter-widgets/controls",
            "_model_module_version": "1.5.0",
            "_model_name": "HTMLModel",
            "_view_count": null,
            "_view_module": "@jupyter-widgets/controls",
            "_view_module_version": "1.5.0",
            "_view_name": "HTMLView",
            "description": "",
            "description_tooltip": null,
            "layout": "IPY_MODEL_d3679cca28834dc7ba5ce6131d9f8c3c",
            "placeholder": "​",
            "style": "IPY_MODEL_17a0a49f5a074c5e929425d50da0c71f",
            "value": " 456k/456k [00:00&lt;00:00, 11.2MB/s]"
          }
        },
        "ff3529365c894ad8a5eb7627a2ca007b": {
          "model_module": "@jupyter-widgets/base",
          "model_name": "LayoutModel",
          "model_module_version": "1.2.0",
          "state": {
            "_model_module": "@jupyter-widgets/base",
            "_model_module_version": "1.2.0",
            "_model_name": "LayoutModel",
            "_view_count": null,
            "_view_module": "@jupyter-widgets/base",
            "_view_module_version": "1.2.0",
            "_view_name": "LayoutView",
            "align_content": null,
            "align_items": null,
            "align_self": null,
            "border": null,
            "bottom": null,
            "display": null,
            "flex": null,
            "flex_flow": null,
            "grid_area": null,
            "grid_auto_columns": null,
            "grid_auto_flow": null,
            "grid_auto_rows": null,
            "grid_column": null,
            "grid_gap": null,
            "grid_row": null,
            "grid_template_areas": null,
            "grid_template_columns": null,
            "grid_template_rows": null,
            "height": null,
            "justify_content": null,
            "justify_items": null,
            "left": null,
            "margin": null,
            "max_height": null,
            "max_width": null,
            "min_height": null,
            "min_width": null,
            "object_fit": null,
            "object_position": null,
            "order": null,
            "overflow": null,
            "overflow_x": null,
            "overflow_y": null,
            "padding": null,
            "right": null,
            "top": null,
            "visibility": null,
            "width": null
          }
        },
        "e0368bd43b8f4b848932dcbc0d4e2027": {
          "model_module": "@jupyter-widgets/base",
          "model_name": "LayoutModel",
          "model_module_version": "1.2.0",
          "state": {
            "_model_module": "@jupyter-widgets/base",
            "_model_module_version": "1.2.0",
            "_model_name": "LayoutModel",
            "_view_count": null,
            "_view_module": "@jupyter-widgets/base",
            "_view_module_version": "1.2.0",
            "_view_name": "LayoutView",
            "align_content": null,
            "align_items": null,
            "align_self": null,
            "border": null,
            "bottom": null,
            "display": null,
            "flex": null,
            "flex_flow": null,
            "grid_area": null,
            "grid_auto_columns": null,
            "grid_auto_flow": null,
            "grid_auto_rows": null,
            "grid_column": null,
            "grid_gap": null,
            "grid_row": null,
            "grid_template_areas": null,
            "grid_template_columns": null,
            "grid_template_rows": null,
            "height": null,
            "justify_content": null,
            "justify_items": null,
            "left": null,
            "margin": null,
            "max_height": null,
            "max_width": null,
            "min_height": null,
            "min_width": null,
            "object_fit": null,
            "object_position": null,
            "order": null,
            "overflow": null,
            "overflow_x": null,
            "overflow_y": null,
            "padding": null,
            "right": null,
            "top": null,
            "visibility": null,
            "width": null
          }
        },
        "7182eb49c1ec44b8bfc7615ec75d9acf": {
          "model_module": "@jupyter-widgets/controls",
          "model_name": "DescriptionStyleModel",
          "model_module_version": "1.5.0",
          "state": {
            "_model_module": "@jupyter-widgets/controls",
            "_model_module_version": "1.5.0",
            "_model_name": "DescriptionStyleModel",
            "_view_count": null,
            "_view_module": "@jupyter-widgets/base",
            "_view_module_version": "1.2.0",
            "_view_name": "StyleView",
            "description_width": ""
          }
        },
        "3e2a6d9bdc884f96b29cedbf74883745": {
          "model_module": "@jupyter-widgets/base",
          "model_name": "LayoutModel",
          "model_module_version": "1.2.0",
          "state": {
            "_model_module": "@jupyter-widgets/base",
            "_model_module_version": "1.2.0",
            "_model_name": "LayoutModel",
            "_view_count": null,
            "_view_module": "@jupyter-widgets/base",
            "_view_module_version": "1.2.0",
            "_view_name": "LayoutView",
            "align_content": null,
            "align_items": null,
            "align_self": null,
            "border": null,
            "bottom": null,
            "display": null,
            "flex": null,
            "flex_flow": null,
            "grid_area": null,
            "grid_auto_columns": null,
            "grid_auto_flow": null,
            "grid_auto_rows": null,
            "grid_column": null,
            "grid_gap": null,
            "grid_row": null,
            "grid_template_areas": null,
            "grid_template_columns": null,
            "grid_template_rows": null,
            "height": null,
            "justify_content": null,
            "justify_items": null,
            "left": null,
            "margin": null,
            "max_height": null,
            "max_width": null,
            "min_height": null,
            "min_width": null,
            "object_fit": null,
            "object_position": null,
            "order": null,
            "overflow": null,
            "overflow_x": null,
            "overflow_y": null,
            "padding": null,
            "right": null,
            "top": null,
            "visibility": null,
            "width": null
          }
        },
        "919aa1c2964f47c494041435ec740e97": {
          "model_module": "@jupyter-widgets/controls",
          "model_name": "ProgressStyleModel",
          "model_module_version": "1.5.0",
          "state": {
            "_model_module": "@jupyter-widgets/controls",
            "_model_module_version": "1.5.0",
            "_model_name": "ProgressStyleModel",
            "_view_count": null,
            "_view_module": "@jupyter-widgets/base",
            "_view_module_version": "1.2.0",
            "_view_name": "StyleView",
            "bar_color": null,
            "description_width": ""
          }
        },
        "d3679cca28834dc7ba5ce6131d9f8c3c": {
          "model_module": "@jupyter-widgets/base",
          "model_name": "LayoutModel",
          "model_module_version": "1.2.0",
          "state": {
            "_model_module": "@jupyter-widgets/base",
            "_model_module_version": "1.2.0",
            "_model_name": "LayoutModel",
            "_view_count": null,
            "_view_module": "@jupyter-widgets/base",
            "_view_module_version": "1.2.0",
            "_view_name": "LayoutView",
            "align_content": null,
            "align_items": null,
            "align_self": null,
            "border": null,
            "bottom": null,
            "display": null,
            "flex": null,
            "flex_flow": null,
            "grid_area": null,
            "grid_auto_columns": null,
            "grid_auto_flow": null,
            "grid_auto_rows": null,
            "grid_column": null,
            "grid_gap": null,
            "grid_row": null,
            "grid_template_areas": null,
            "grid_template_columns": null,
            "grid_template_rows": null,
            "height": null,
            "justify_content": null,
            "justify_items": null,
            "left": null,
            "margin": null,
            "max_height": null,
            "max_width": null,
            "min_height": null,
            "min_width": null,
            "object_fit": null,
            "object_position": null,
            "order": null,
            "overflow": null,
            "overflow_x": null,
            "overflow_y": null,
            "padding": null,
            "right": null,
            "top": null,
            "visibility": null,
            "width": null
          }
        },
        "17a0a49f5a074c5e929425d50da0c71f": {
          "model_module": "@jupyter-widgets/controls",
          "model_name": "DescriptionStyleModel",
          "model_module_version": "1.5.0",
          "state": {
            "_model_module": "@jupyter-widgets/controls",
            "_model_module_version": "1.5.0",
            "_model_name": "DescriptionStyleModel",
            "_view_count": null,
            "_view_module": "@jupyter-widgets/base",
            "_view_module_version": "1.2.0",
            "_view_name": "StyleView",
            "description_width": ""
          }
        },
        "79e6ceba94ac4e5dba862e1f8893047c": {
          "model_module": "@jupyter-widgets/controls",
          "model_name": "HBoxModel",
          "model_module_version": "1.5.0",
          "state": {
            "_dom_classes": [],
            "_model_module": "@jupyter-widgets/controls",
            "_model_module_version": "1.5.0",
            "_model_name": "HBoxModel",
            "_view_count": null,
            "_view_module": "@jupyter-widgets/controls",
            "_view_module_version": "1.5.0",
            "_view_name": "HBoxView",
            "box_style": "",
            "children": [
              "IPY_MODEL_d1a44b72213241af81eaf8c967a3b132",
              "IPY_MODEL_b05a07489a9a4feb80f8e4179634e29e",
              "IPY_MODEL_edd394a599f24c8b9656ce80d6beda6c"
            ],
            "layout": "IPY_MODEL_60275a1e7872409981b1bd17203d5936"
          }
        },
        "d1a44b72213241af81eaf8c967a3b132": {
          "model_module": "@jupyter-widgets/controls",
          "model_name": "HTMLModel",
          "model_module_version": "1.5.0",
          "state": {
            "_dom_classes": [],
            "_model_module": "@jupyter-widgets/controls",
            "_model_module_version": "1.5.0",
            "_model_name": "HTMLModel",
            "_view_count": null,
            "_view_module": "@jupyter-widgets/controls",
            "_view_module_version": "1.5.0",
            "_view_name": "HTMLView",
            "description": "",
            "description_tooltip": null,
            "layout": "IPY_MODEL_a06b226086904c838ee841aa032713ef",
            "placeholder": "​",
            "style": "IPY_MODEL_2152a37f3f27443ea2887085793a9dad",
            "value": "tokenizer.json: 100%"
          }
        },
        "b05a07489a9a4feb80f8e4179634e29e": {
          "model_module": "@jupyter-widgets/controls",
          "model_name": "FloatProgressModel",
          "model_module_version": "1.5.0",
          "state": {
            "_dom_classes": [],
            "_model_module": "@jupyter-widgets/controls",
            "_model_module_version": "1.5.0",
            "_model_name": "FloatProgressModel",
            "_view_count": null,
            "_view_module": "@jupyter-widgets/controls",
            "_view_module_version": "1.5.0",
            "_view_name": "ProgressView",
            "bar_style": "success",
            "description": "",
            "description_tooltip": null,
            "layout": "IPY_MODEL_934dbe9ed9214fa6a6b6405c96af4557",
            "max": 1355256,
            "min": 0,
            "orientation": "horizontal",
            "style": "IPY_MODEL_7e151238a096462398b675c0c1e29a9b",
            "value": 1355256
          }
        },
        "edd394a599f24c8b9656ce80d6beda6c": {
          "model_module": "@jupyter-widgets/controls",
          "model_name": "HTMLModel",
          "model_module_version": "1.5.0",
          "state": {
            "_dom_classes": [],
            "_model_module": "@jupyter-widgets/controls",
            "_model_module_version": "1.5.0",
            "_model_name": "HTMLModel",
            "_view_count": null,
            "_view_module": "@jupyter-widgets/controls",
            "_view_module_version": "1.5.0",
            "_view_name": "HTMLView",
            "description": "",
            "description_tooltip": null,
            "layout": "IPY_MODEL_0e48a525efb240d7b18714081b537a61",
            "placeholder": "​",
            "style": "IPY_MODEL_edc5b164d98843cfa6f6ffe5728c026f",
            "value": " 1.36M/1.36M [00:00&lt;00:00, 4.36MB/s]"
          }
        },
        "60275a1e7872409981b1bd17203d5936": {
          "model_module": "@jupyter-widgets/base",
          "model_name": "LayoutModel",
          "model_module_version": "1.2.0",
          "state": {
            "_model_module": "@jupyter-widgets/base",
            "_model_module_version": "1.2.0",
            "_model_name": "LayoutModel",
            "_view_count": null,
            "_view_module": "@jupyter-widgets/base",
            "_view_module_version": "1.2.0",
            "_view_name": "LayoutView",
            "align_content": null,
            "align_items": null,
            "align_self": null,
            "border": null,
            "bottom": null,
            "display": null,
            "flex": null,
            "flex_flow": null,
            "grid_area": null,
            "grid_auto_columns": null,
            "grid_auto_flow": null,
            "grid_auto_rows": null,
            "grid_column": null,
            "grid_gap": null,
            "grid_row": null,
            "grid_template_areas": null,
            "grid_template_columns": null,
            "grid_template_rows": null,
            "height": null,
            "justify_content": null,
            "justify_items": null,
            "left": null,
            "margin": null,
            "max_height": null,
            "max_width": null,
            "min_height": null,
            "min_width": null,
            "object_fit": null,
            "object_position": null,
            "order": null,
            "overflow": null,
            "overflow_x": null,
            "overflow_y": null,
            "padding": null,
            "right": null,
            "top": null,
            "visibility": null,
            "width": null
          }
        },
        "a06b226086904c838ee841aa032713ef": {
          "model_module": "@jupyter-widgets/base",
          "model_name": "LayoutModel",
          "model_module_version": "1.2.0",
          "state": {
            "_model_module": "@jupyter-widgets/base",
            "_model_module_version": "1.2.0",
            "_model_name": "LayoutModel",
            "_view_count": null,
            "_view_module": "@jupyter-widgets/base",
            "_view_module_version": "1.2.0",
            "_view_name": "LayoutView",
            "align_content": null,
            "align_items": null,
            "align_self": null,
            "border": null,
            "bottom": null,
            "display": null,
            "flex": null,
            "flex_flow": null,
            "grid_area": null,
            "grid_auto_columns": null,
            "grid_auto_flow": null,
            "grid_auto_rows": null,
            "grid_column": null,
            "grid_gap": null,
            "grid_row": null,
            "grid_template_areas": null,
            "grid_template_columns": null,
            "grid_template_rows": null,
            "height": null,
            "justify_content": null,
            "justify_items": null,
            "left": null,
            "margin": null,
            "max_height": null,
            "max_width": null,
            "min_height": null,
            "min_width": null,
            "object_fit": null,
            "object_position": null,
            "order": null,
            "overflow": null,
            "overflow_x": null,
            "overflow_y": null,
            "padding": null,
            "right": null,
            "top": null,
            "visibility": null,
            "width": null
          }
        },
        "2152a37f3f27443ea2887085793a9dad": {
          "model_module": "@jupyter-widgets/controls",
          "model_name": "DescriptionStyleModel",
          "model_module_version": "1.5.0",
          "state": {
            "_model_module": "@jupyter-widgets/controls",
            "_model_module_version": "1.5.0",
            "_model_name": "DescriptionStyleModel",
            "_view_count": null,
            "_view_module": "@jupyter-widgets/base",
            "_view_module_version": "1.2.0",
            "_view_name": "StyleView",
            "description_width": ""
          }
        },
        "934dbe9ed9214fa6a6b6405c96af4557": {
          "model_module": "@jupyter-widgets/base",
          "model_name": "LayoutModel",
          "model_module_version": "1.2.0",
          "state": {
            "_model_module": "@jupyter-widgets/base",
            "_model_module_version": "1.2.0",
            "_model_name": "LayoutModel",
            "_view_count": null,
            "_view_module": "@jupyter-widgets/base",
            "_view_module_version": "1.2.0",
            "_view_name": "LayoutView",
            "align_content": null,
            "align_items": null,
            "align_self": null,
            "border": null,
            "bottom": null,
            "display": null,
            "flex": null,
            "flex_flow": null,
            "grid_area": null,
            "grid_auto_columns": null,
            "grid_auto_flow": null,
            "grid_auto_rows": null,
            "grid_column": null,
            "grid_gap": null,
            "grid_row": null,
            "grid_template_areas": null,
            "grid_template_columns": null,
            "grid_template_rows": null,
            "height": null,
            "justify_content": null,
            "justify_items": null,
            "left": null,
            "margin": null,
            "max_height": null,
            "max_width": null,
            "min_height": null,
            "min_width": null,
            "object_fit": null,
            "object_position": null,
            "order": null,
            "overflow": null,
            "overflow_x": null,
            "overflow_y": null,
            "padding": null,
            "right": null,
            "top": null,
            "visibility": null,
            "width": null
          }
        },
        "7e151238a096462398b675c0c1e29a9b": {
          "model_module": "@jupyter-widgets/controls",
          "model_name": "ProgressStyleModel",
          "model_module_version": "1.5.0",
          "state": {
            "_model_module": "@jupyter-widgets/controls",
            "_model_module_version": "1.5.0",
            "_model_name": "ProgressStyleModel",
            "_view_count": null,
            "_view_module": "@jupyter-widgets/base",
            "_view_module_version": "1.2.0",
            "_view_name": "StyleView",
            "bar_color": null,
            "description_width": ""
          }
        },
        "0e48a525efb240d7b18714081b537a61": {
          "model_module": "@jupyter-widgets/base",
          "model_name": "LayoutModel",
          "model_module_version": "1.2.0",
          "state": {
            "_model_module": "@jupyter-widgets/base",
            "_model_module_version": "1.2.0",
            "_model_name": "LayoutModel",
            "_view_count": null,
            "_view_module": "@jupyter-widgets/base",
            "_view_module_version": "1.2.0",
            "_view_name": "LayoutView",
            "align_content": null,
            "align_items": null,
            "align_self": null,
            "border": null,
            "bottom": null,
            "display": null,
            "flex": null,
            "flex_flow": null,
            "grid_area": null,
            "grid_auto_columns": null,
            "grid_auto_flow": null,
            "grid_auto_rows": null,
            "grid_column": null,
            "grid_gap": null,
            "grid_row": null,
            "grid_template_areas": null,
            "grid_template_columns": null,
            "grid_template_rows": null,
            "height": null,
            "justify_content": null,
            "justify_items": null,
            "left": null,
            "margin": null,
            "max_height": null,
            "max_width": null,
            "min_height": null,
            "min_width": null,
            "object_fit": null,
            "object_position": null,
            "order": null,
            "overflow": null,
            "overflow_x": null,
            "overflow_y": null,
            "padding": null,
            "right": null,
            "top": null,
            "visibility": null,
            "width": null
          }
        },
        "edc5b164d98843cfa6f6ffe5728c026f": {
          "model_module": "@jupyter-widgets/controls",
          "model_name": "DescriptionStyleModel",
          "model_module_version": "1.5.0",
          "state": {
            "_model_module": "@jupyter-widgets/controls",
            "_model_module_version": "1.5.0",
            "_model_name": "DescriptionStyleModel",
            "_view_count": null,
            "_view_module": "@jupyter-widgets/base",
            "_view_module_version": "1.2.0",
            "_view_name": "StyleView",
            "description_width": ""
          }
        },
        "a36388d1cd7d4c06b4ff0cf7f9a9e261": {
          "model_module": "@jupyter-widgets/controls",
          "model_name": "HBoxModel",
          "model_module_version": "1.5.0",
          "state": {
            "_dom_classes": [],
            "_model_module": "@jupyter-widgets/controls",
            "_model_module_version": "1.5.0",
            "_model_name": "HBoxModel",
            "_view_count": null,
            "_view_module": "@jupyter-widgets/controls",
            "_view_module_version": "1.5.0",
            "_view_name": "HBoxView",
            "box_style": "",
            "children": [
              "IPY_MODEL_0a171bf285c44e60bda69489a52e1e61",
              "IPY_MODEL_42d0a45c61be4806b31dd5142b208141",
              "IPY_MODEL_ffdd64c047884cfc9b45d56d4c547f93"
            ],
            "layout": "IPY_MODEL_df9ad74c6f2a43a88f741e0faccd2c51"
          }
        },
        "0a171bf285c44e60bda69489a52e1e61": {
          "model_module": "@jupyter-widgets/controls",
          "model_name": "HTMLModel",
          "model_module_version": "1.5.0",
          "state": {
            "_dom_classes": [],
            "_model_module": "@jupyter-widgets/controls",
            "_model_module_version": "1.5.0",
            "_model_name": "HTMLModel",
            "_view_count": null,
            "_view_module": "@jupyter-widgets/controls",
            "_view_module_version": "1.5.0",
            "_view_name": "HTMLView",
            "description": "",
            "description_tooltip": null,
            "layout": "IPY_MODEL_942fb05fa3064f748ffaa984ad378a84",
            "placeholder": "​",
            "style": "IPY_MODEL_393b28f820a94ec0838027af2ba60bf2",
            "value": "100%"
          }
        },
        "42d0a45c61be4806b31dd5142b208141": {
          "model_module": "@jupyter-widgets/controls",
          "model_name": "FloatProgressModel",
          "model_module_version": "1.5.0",
          "state": {
            "_dom_classes": [],
            "_model_module": "@jupyter-widgets/controls",
            "_model_module_version": "1.5.0",
            "_model_name": "FloatProgressModel",
            "_view_count": null,
            "_view_module": "@jupyter-widgets/controls",
            "_view_module_version": "1.5.0",
            "_view_name": "ProgressView",
            "bar_style": "success",
            "description": "",
            "description_tooltip": null,
            "layout": "IPY_MODEL_d160d8a3b61b4c8984008b8ca17199b7",
            "max": 100,
            "min": 0,
            "orientation": "horizontal",
            "style": "IPY_MODEL_0d63d9929a51456b9630674543352b8e",
            "value": 100
          }
        },
        "ffdd64c047884cfc9b45d56d4c547f93": {
          "model_module": "@jupyter-widgets/controls",
          "model_name": "HTMLModel",
          "model_module_version": "1.5.0",
          "state": {
            "_dom_classes": [],
            "_model_module": "@jupyter-widgets/controls",
            "_model_module_version": "1.5.0",
            "_model_name": "HTMLModel",
            "_view_count": null,
            "_view_module": "@jupyter-widgets/controls",
            "_view_module_version": "1.5.0",
            "_view_name": "HTMLView",
            "description": "",
            "description_tooltip": null,
            "layout": "IPY_MODEL_25e55741622f4328b9940e8ca7c16389",
            "placeholder": "​",
            "style": "IPY_MODEL_900ce3046c8b4d52974cb30dde07a8ba",
            "value": " 100/100 [00:02&lt;00:00, 39.11it/s]"
          }
        },
        "df9ad74c6f2a43a88f741e0faccd2c51": {
          "model_module": "@jupyter-widgets/base",
          "model_name": "LayoutModel",
          "model_module_version": "1.2.0",
          "state": {
            "_model_module": "@jupyter-widgets/base",
            "_model_module_version": "1.2.0",
            "_model_name": "LayoutModel",
            "_view_count": null,
            "_view_module": "@jupyter-widgets/base",
            "_view_module_version": "1.2.0",
            "_view_name": "LayoutView",
            "align_content": null,
            "align_items": null,
            "align_self": null,
            "border": null,
            "bottom": null,
            "display": null,
            "flex": null,
            "flex_flow": null,
            "grid_area": null,
            "grid_auto_columns": null,
            "grid_auto_flow": null,
            "grid_auto_rows": null,
            "grid_column": null,
            "grid_gap": null,
            "grid_row": null,
            "grid_template_areas": null,
            "grid_template_columns": null,
            "grid_template_rows": null,
            "height": null,
            "justify_content": null,
            "justify_items": null,
            "left": null,
            "margin": null,
            "max_height": null,
            "max_width": null,
            "min_height": null,
            "min_width": null,
            "object_fit": null,
            "object_position": null,
            "order": null,
            "overflow": null,
            "overflow_x": null,
            "overflow_y": null,
            "padding": null,
            "right": null,
            "top": null,
            "visibility": null,
            "width": null
          }
        },
        "942fb05fa3064f748ffaa984ad378a84": {
          "model_module": "@jupyter-widgets/base",
          "model_name": "LayoutModel",
          "model_module_version": "1.2.0",
          "state": {
            "_model_module": "@jupyter-widgets/base",
            "_model_module_version": "1.2.0",
            "_model_name": "LayoutModel",
            "_view_count": null,
            "_view_module": "@jupyter-widgets/base",
            "_view_module_version": "1.2.0",
            "_view_name": "LayoutView",
            "align_content": null,
            "align_items": null,
            "align_self": null,
            "border": null,
            "bottom": null,
            "display": null,
            "flex": null,
            "flex_flow": null,
            "grid_area": null,
            "grid_auto_columns": null,
            "grid_auto_flow": null,
            "grid_auto_rows": null,
            "grid_column": null,
            "grid_gap": null,
            "grid_row": null,
            "grid_template_areas": null,
            "grid_template_columns": null,
            "grid_template_rows": null,
            "height": null,
            "justify_content": null,
            "justify_items": null,
            "left": null,
            "margin": null,
            "max_height": null,
            "max_width": null,
            "min_height": null,
            "min_width": null,
            "object_fit": null,
            "object_position": null,
            "order": null,
            "overflow": null,
            "overflow_x": null,
            "overflow_y": null,
            "padding": null,
            "right": null,
            "top": null,
            "visibility": null,
            "width": null
          }
        },
        "393b28f820a94ec0838027af2ba60bf2": {
          "model_module": "@jupyter-widgets/controls",
          "model_name": "DescriptionStyleModel",
          "model_module_version": "1.5.0",
          "state": {
            "_model_module": "@jupyter-widgets/controls",
            "_model_module_version": "1.5.0",
            "_model_name": "DescriptionStyleModel",
            "_view_count": null,
            "_view_module": "@jupyter-widgets/base",
            "_view_module_version": "1.2.0",
            "_view_name": "StyleView",
            "description_width": ""
          }
        },
        "d160d8a3b61b4c8984008b8ca17199b7": {
          "model_module": "@jupyter-widgets/base",
          "model_name": "LayoutModel",
          "model_module_version": "1.2.0",
          "state": {
            "_model_module": "@jupyter-widgets/base",
            "_model_module_version": "1.2.0",
            "_model_name": "LayoutModel",
            "_view_count": null,
            "_view_module": "@jupyter-widgets/base",
            "_view_module_version": "1.2.0",
            "_view_name": "LayoutView",
            "align_content": null,
            "align_items": null,
            "align_self": null,
            "border": null,
            "bottom": null,
            "display": null,
            "flex": null,
            "flex_flow": null,
            "grid_area": null,
            "grid_auto_columns": null,
            "grid_auto_flow": null,
            "grid_auto_rows": null,
            "grid_column": null,
            "grid_gap": null,
            "grid_row": null,
            "grid_template_areas": null,
            "grid_template_columns": null,
            "grid_template_rows": null,
            "height": null,
            "justify_content": null,
            "justify_items": null,
            "left": null,
            "margin": null,
            "max_height": null,
            "max_width": null,
            "min_height": null,
            "min_width": null,
            "object_fit": null,
            "object_position": null,
            "order": null,
            "overflow": null,
            "overflow_x": null,
            "overflow_y": null,
            "padding": null,
            "right": null,
            "top": null,
            "visibility": null,
            "width": null
          }
        },
        "0d63d9929a51456b9630674543352b8e": {
          "model_module": "@jupyter-widgets/controls",
          "model_name": "ProgressStyleModel",
          "model_module_version": "1.5.0",
          "state": {
            "_model_module": "@jupyter-widgets/controls",
            "_model_module_version": "1.5.0",
            "_model_name": "ProgressStyleModel",
            "_view_count": null,
            "_view_module": "@jupyter-widgets/base",
            "_view_module_version": "1.2.0",
            "_view_name": "StyleView",
            "bar_color": null,
            "description_width": ""
          }
        },
        "25e55741622f4328b9940e8ca7c16389": {
          "model_module": "@jupyter-widgets/base",
          "model_name": "LayoutModel",
          "model_module_version": "1.2.0",
          "state": {
            "_model_module": "@jupyter-widgets/base",
            "_model_module_version": "1.2.0",
            "_model_name": "LayoutModel",
            "_view_count": null,
            "_view_module": "@jupyter-widgets/base",
            "_view_module_version": "1.2.0",
            "_view_name": "LayoutView",
            "align_content": null,
            "align_items": null,
            "align_self": null,
            "border": null,
            "bottom": null,
            "display": null,
            "flex": null,
            "flex_flow": null,
            "grid_area": null,
            "grid_auto_columns": null,
            "grid_auto_flow": null,
            "grid_auto_rows": null,
            "grid_column": null,
            "grid_gap": null,
            "grid_row": null,
            "grid_template_areas": null,
            "grid_template_columns": null,
            "grid_template_rows": null,
            "height": null,
            "justify_content": null,
            "justify_items": null,
            "left": null,
            "margin": null,
            "max_height": null,
            "max_width": null,
            "min_height": null,
            "min_width": null,
            "object_fit": null,
            "object_position": null,
            "order": null,
            "overflow": null,
            "overflow_x": null,
            "overflow_y": null,
            "padding": null,
            "right": null,
            "top": null,
            "visibility": null,
            "width": null
          }
        },
        "900ce3046c8b4d52974cb30dde07a8ba": {
          "model_module": "@jupyter-widgets/controls",
          "model_name": "DescriptionStyleModel",
          "model_module_version": "1.5.0",
          "state": {
            "_model_module": "@jupyter-widgets/controls",
            "_model_module_version": "1.5.0",
            "_model_name": "DescriptionStyleModel",
            "_view_count": null,
            "_view_module": "@jupyter-widgets/base",
            "_view_module_version": "1.2.0",
            "_view_name": "StyleView",
            "description_width": ""
          }
        },
        "7cecc605759047f2a5d364ce54e2c89f": {
          "model_module": "@jupyter-widgets/controls",
          "model_name": "HBoxModel",
          "model_module_version": "1.5.0",
          "state": {
            "_dom_classes": [],
            "_model_module": "@jupyter-widgets/controls",
            "_model_module_version": "1.5.0",
            "_model_name": "HBoxModel",
            "_view_count": null,
            "_view_module": "@jupyter-widgets/controls",
            "_view_module_version": "1.5.0",
            "_view_name": "HBoxView",
            "box_style": "",
            "children": [
              "IPY_MODEL_bdb0640c958443d1804d40d79e3a6566",
              "IPY_MODEL_2b12dd44882a451c9b626d35401f2039",
              "IPY_MODEL_7b579191ee1b4e71ac4814bca2c07ec4"
            ],
            "layout": "IPY_MODEL_307cc152c41c49e880f52eee1c7058ef"
          }
        },
        "bdb0640c958443d1804d40d79e3a6566": {
          "model_module": "@jupyter-widgets/controls",
          "model_name": "HTMLModel",
          "model_module_version": "1.5.0",
          "state": {
            "_dom_classes": [],
            "_model_module": "@jupyter-widgets/controls",
            "_model_module_version": "1.5.0",
            "_model_name": "HTMLModel",
            "_view_count": null,
            "_view_module": "@jupyter-widgets/controls",
            "_view_module_version": "1.5.0",
            "_view_name": "HTMLView",
            "description": "",
            "description_tooltip": null,
            "layout": "IPY_MODEL_34815707f7cd4deb96c572f77d98990a",
            "placeholder": "​",
            "style": "IPY_MODEL_c8b17a8c5ecb49189ad48662c0b20f93",
            "value": "100%"
          }
        },
        "2b12dd44882a451c9b626d35401f2039": {
          "model_module": "@jupyter-widgets/controls",
          "model_name": "FloatProgressModel",
          "model_module_version": "1.5.0",
          "state": {
            "_dom_classes": [],
            "_model_module": "@jupyter-widgets/controls",
            "_model_module_version": "1.5.0",
            "_model_name": "FloatProgressModel",
            "_view_count": null,
            "_view_module": "@jupyter-widgets/controls",
            "_view_module_version": "1.5.0",
            "_view_name": "ProgressView",
            "bar_style": "success",
            "description": "",
            "description_tooltip": null,
            "layout": "IPY_MODEL_eed36690ae9a44d8b0ca92ace73239e8",
            "max": 10000,
            "min": 0,
            "orientation": "horizontal",
            "style": "IPY_MODEL_bba82aee7df14d5999e0504602d138bb",
            "value": 10000
          }
        },
        "7b579191ee1b4e71ac4814bca2c07ec4": {
          "model_module": "@jupyter-widgets/controls",
          "model_name": "HTMLModel",
          "model_module_version": "1.5.0",
          "state": {
            "_dom_classes": [],
            "_model_module": "@jupyter-widgets/controls",
            "_model_module_version": "1.5.0",
            "_model_name": "HTMLModel",
            "_view_count": null,
            "_view_module": "@jupyter-widgets/controls",
            "_view_module_version": "1.5.0",
            "_view_name": "HTMLView",
            "description": "",
            "description_tooltip": null,
            "layout": "IPY_MODEL_9bff77c468714ea8a79e2f331411f6f7",
            "placeholder": "​",
            "style": "IPY_MODEL_050fe852eb034cf2b4b7fe55fdf47404",
            "value": " 10000/10000 [00:08&lt;00:00, 1647.56it/s]"
          }
        },
        "307cc152c41c49e880f52eee1c7058ef": {
          "model_module": "@jupyter-widgets/base",
          "model_name": "LayoutModel",
          "model_module_version": "1.2.0",
          "state": {
            "_model_module": "@jupyter-widgets/base",
            "_model_module_version": "1.2.0",
            "_model_name": "LayoutModel",
            "_view_count": null,
            "_view_module": "@jupyter-widgets/base",
            "_view_module_version": "1.2.0",
            "_view_name": "LayoutView",
            "align_content": null,
            "align_items": null,
            "align_self": null,
            "border": null,
            "bottom": null,
            "display": null,
            "flex": null,
            "flex_flow": null,
            "grid_area": null,
            "grid_auto_columns": null,
            "grid_auto_flow": null,
            "grid_auto_rows": null,
            "grid_column": null,
            "grid_gap": null,
            "grid_row": null,
            "grid_template_areas": null,
            "grid_template_columns": null,
            "grid_template_rows": null,
            "height": null,
            "justify_content": null,
            "justify_items": null,
            "left": null,
            "margin": null,
            "max_height": null,
            "max_width": null,
            "min_height": null,
            "min_width": null,
            "object_fit": null,
            "object_position": null,
            "order": null,
            "overflow": null,
            "overflow_x": null,
            "overflow_y": null,
            "padding": null,
            "right": null,
            "top": null,
            "visibility": null,
            "width": null
          }
        },
        "34815707f7cd4deb96c572f77d98990a": {
          "model_module": "@jupyter-widgets/base",
          "model_name": "LayoutModel",
          "model_module_version": "1.2.0",
          "state": {
            "_model_module": "@jupyter-widgets/base",
            "_model_module_version": "1.2.0",
            "_model_name": "LayoutModel",
            "_view_count": null,
            "_view_module": "@jupyter-widgets/base",
            "_view_module_version": "1.2.0",
            "_view_name": "LayoutView",
            "align_content": null,
            "align_items": null,
            "align_self": null,
            "border": null,
            "bottom": null,
            "display": null,
            "flex": null,
            "flex_flow": null,
            "grid_area": null,
            "grid_auto_columns": null,
            "grid_auto_flow": null,
            "grid_auto_rows": null,
            "grid_column": null,
            "grid_gap": null,
            "grid_row": null,
            "grid_template_areas": null,
            "grid_template_columns": null,
            "grid_template_rows": null,
            "height": null,
            "justify_content": null,
            "justify_items": null,
            "left": null,
            "margin": null,
            "max_height": null,
            "max_width": null,
            "min_height": null,
            "min_width": null,
            "object_fit": null,
            "object_position": null,
            "order": null,
            "overflow": null,
            "overflow_x": null,
            "overflow_y": null,
            "padding": null,
            "right": null,
            "top": null,
            "visibility": null,
            "width": null
          }
        },
        "c8b17a8c5ecb49189ad48662c0b20f93": {
          "model_module": "@jupyter-widgets/controls",
          "model_name": "DescriptionStyleModel",
          "model_module_version": "1.5.0",
          "state": {
            "_model_module": "@jupyter-widgets/controls",
            "_model_module_version": "1.5.0",
            "_model_name": "DescriptionStyleModel",
            "_view_count": null,
            "_view_module": "@jupyter-widgets/base",
            "_view_module_version": "1.2.0",
            "_view_name": "StyleView",
            "description_width": ""
          }
        },
        "eed36690ae9a44d8b0ca92ace73239e8": {
          "model_module": "@jupyter-widgets/base",
          "model_name": "LayoutModel",
          "model_module_version": "1.2.0",
          "state": {
            "_model_module": "@jupyter-widgets/base",
            "_model_module_version": "1.2.0",
            "_model_name": "LayoutModel",
            "_view_count": null,
            "_view_module": "@jupyter-widgets/base",
            "_view_module_version": "1.2.0",
            "_view_name": "LayoutView",
            "align_content": null,
            "align_items": null,
            "align_self": null,
            "border": null,
            "bottom": null,
            "display": null,
            "flex": null,
            "flex_flow": null,
            "grid_area": null,
            "grid_auto_columns": null,
            "grid_auto_flow": null,
            "grid_auto_rows": null,
            "grid_column": null,
            "grid_gap": null,
            "grid_row": null,
            "grid_template_areas": null,
            "grid_template_columns": null,
            "grid_template_rows": null,
            "height": null,
            "justify_content": null,
            "justify_items": null,
            "left": null,
            "margin": null,
            "max_height": null,
            "max_width": null,
            "min_height": null,
            "min_width": null,
            "object_fit": null,
            "object_position": null,
            "order": null,
            "overflow": null,
            "overflow_x": null,
            "overflow_y": null,
            "padding": null,
            "right": null,
            "top": null,
            "visibility": null,
            "width": null
          }
        },
        "bba82aee7df14d5999e0504602d138bb": {
          "model_module": "@jupyter-widgets/controls",
          "model_name": "ProgressStyleModel",
          "model_module_version": "1.5.0",
          "state": {
            "_model_module": "@jupyter-widgets/controls",
            "_model_module_version": "1.5.0",
            "_model_name": "ProgressStyleModel",
            "_view_count": null,
            "_view_module": "@jupyter-widgets/base",
            "_view_module_version": "1.2.0",
            "_view_name": "StyleView",
            "bar_color": null,
            "description_width": ""
          }
        },
        "9bff77c468714ea8a79e2f331411f6f7": {
          "model_module": "@jupyter-widgets/base",
          "model_name": "LayoutModel",
          "model_module_version": "1.2.0",
          "state": {
            "_model_module": "@jupyter-widgets/base",
            "_model_module_version": "1.2.0",
            "_model_name": "LayoutModel",
            "_view_count": null,
            "_view_module": "@jupyter-widgets/base",
            "_view_module_version": "1.2.0",
            "_view_name": "LayoutView",
            "align_content": null,
            "align_items": null,
            "align_self": null,
            "border": null,
            "bottom": null,
            "display": null,
            "flex": null,
            "flex_flow": null,
            "grid_area": null,
            "grid_auto_columns": null,
            "grid_auto_flow": null,
            "grid_auto_rows": null,
            "grid_column": null,
            "grid_gap": null,
            "grid_row": null,
            "grid_template_areas": null,
            "grid_template_columns": null,
            "grid_template_rows": null,
            "height": null,
            "justify_content": null,
            "justify_items": null,
            "left": null,
            "margin": null,
            "max_height": null,
            "max_width": null,
            "min_height": null,
            "min_width": null,
            "object_fit": null,
            "object_position": null,
            "order": null,
            "overflow": null,
            "overflow_x": null,
            "overflow_y": null,
            "padding": null,
            "right": null,
            "top": null,
            "visibility": null,
            "width": null
          }
        },
        "050fe852eb034cf2b4b7fe55fdf47404": {
          "model_module": "@jupyter-widgets/controls",
          "model_name": "DescriptionStyleModel",
          "model_module_version": "1.5.0",
          "state": {
            "_model_module": "@jupyter-widgets/controls",
            "_model_module_version": "1.5.0",
            "_model_name": "DescriptionStyleModel",
            "_view_count": null,
            "_view_module": "@jupyter-widgets/base",
            "_view_module_version": "1.2.0",
            "_view_name": "StyleView",
            "description_width": ""
          }
        },
        "7a546cd980f14670b79fd1d8439d00be": {
          "model_module": "@jupyter-widgets/controls",
          "model_name": "HBoxModel",
          "model_module_version": "1.5.0",
          "state": {
            "_dom_classes": [],
            "_model_module": "@jupyter-widgets/controls",
            "_model_module_version": "1.5.0",
            "_model_name": "HBoxModel",
            "_view_count": null,
            "_view_module": "@jupyter-widgets/controls",
            "_view_module_version": "1.5.0",
            "_view_name": "HBoxView",
            "box_style": "",
            "children": [
              "IPY_MODEL_7d03c84d9f484b76a5e22d887670327f",
              "IPY_MODEL_0ed83cb0cc4242b1b958cb84fa1dc595",
              "IPY_MODEL_c3b5824abb064e38ade490d077dca8dc"
            ],
            "layout": "IPY_MODEL_c6771b0970104186b3bbd9a42fb999d5"
          }
        },
        "7d03c84d9f484b76a5e22d887670327f": {
          "model_module": "@jupyter-widgets/controls",
          "model_name": "HTMLModel",
          "model_module_version": "1.5.0",
          "state": {
            "_dom_classes": [],
            "_model_module": "@jupyter-widgets/controls",
            "_model_module_version": "1.5.0",
            "_model_name": "HTMLModel",
            "_view_count": null,
            "_view_module": "@jupyter-widgets/controls",
            "_view_module_version": "1.5.0",
            "_view_name": "HTMLView",
            "description": "",
            "description_tooltip": null,
            "layout": "IPY_MODEL_a59a8e56e7264bc38b3fd5e0ceb1b1ac",
            "placeholder": "​",
            "style": "IPY_MODEL_1b9c52cf0d474eb298e8d1605ace8ae4",
            "value": "100%"
          }
        },
        "0ed83cb0cc4242b1b958cb84fa1dc595": {
          "model_module": "@jupyter-widgets/controls",
          "model_name": "FloatProgressModel",
          "model_module_version": "1.5.0",
          "state": {
            "_dom_classes": [],
            "_model_module": "@jupyter-widgets/controls",
            "_model_module_version": "1.5.0",
            "_model_name": "FloatProgressModel",
            "_view_count": null,
            "_view_module": "@jupyter-widgets/controls",
            "_view_module_version": "1.5.0",
            "_view_name": "ProgressView",
            "bar_style": "success",
            "description": "",
            "description_tooltip": null,
            "layout": "IPY_MODEL_364ec42580d44a94a541fd92c9c060ac",
            "max": 10000,
            "min": 0,
            "orientation": "horizontal",
            "style": "IPY_MODEL_c9c4930e333147fb99d95fcf7959b506",
            "value": 10000
          }
        },
        "c3b5824abb064e38ade490d077dca8dc": {
          "model_module": "@jupyter-widgets/controls",
          "model_name": "HTMLModel",
          "model_module_version": "1.5.0",
          "state": {
            "_dom_classes": [],
            "_model_module": "@jupyter-widgets/controls",
            "_model_module_version": "1.5.0",
            "_model_name": "HTMLModel",
            "_view_count": null,
            "_view_module": "@jupyter-widgets/controls",
            "_view_module_version": "1.5.0",
            "_view_name": "HTMLView",
            "description": "",
            "description_tooltip": null,
            "layout": "IPY_MODEL_23010cc3961040ecb1883f3643e2406d",
            "placeholder": "​",
            "style": "IPY_MODEL_cf8ca55e23d4493e9b8596c6e6aab2f7",
            "value": " 10000/10000 [00:07&lt;00:00, 1323.70it/s]"
          }
        },
        "c6771b0970104186b3bbd9a42fb999d5": {
          "model_module": "@jupyter-widgets/base",
          "model_name": "LayoutModel",
          "model_module_version": "1.2.0",
          "state": {
            "_model_module": "@jupyter-widgets/base",
            "_model_module_version": "1.2.0",
            "_model_name": "LayoutModel",
            "_view_count": null,
            "_view_module": "@jupyter-widgets/base",
            "_view_module_version": "1.2.0",
            "_view_name": "LayoutView",
            "align_content": null,
            "align_items": null,
            "align_self": null,
            "border": null,
            "bottom": null,
            "display": null,
            "flex": null,
            "flex_flow": null,
            "grid_area": null,
            "grid_auto_columns": null,
            "grid_auto_flow": null,
            "grid_auto_rows": null,
            "grid_column": null,
            "grid_gap": null,
            "grid_row": null,
            "grid_template_areas": null,
            "grid_template_columns": null,
            "grid_template_rows": null,
            "height": null,
            "justify_content": null,
            "justify_items": null,
            "left": null,
            "margin": null,
            "max_height": null,
            "max_width": null,
            "min_height": null,
            "min_width": null,
            "object_fit": null,
            "object_position": null,
            "order": null,
            "overflow": null,
            "overflow_x": null,
            "overflow_y": null,
            "padding": null,
            "right": null,
            "top": null,
            "visibility": null,
            "width": null
          }
        },
        "a59a8e56e7264bc38b3fd5e0ceb1b1ac": {
          "model_module": "@jupyter-widgets/base",
          "model_name": "LayoutModel",
          "model_module_version": "1.2.0",
          "state": {
            "_model_module": "@jupyter-widgets/base",
            "_model_module_version": "1.2.0",
            "_model_name": "LayoutModel",
            "_view_count": null,
            "_view_module": "@jupyter-widgets/base",
            "_view_module_version": "1.2.0",
            "_view_name": "LayoutView",
            "align_content": null,
            "align_items": null,
            "align_self": null,
            "border": null,
            "bottom": null,
            "display": null,
            "flex": null,
            "flex_flow": null,
            "grid_area": null,
            "grid_auto_columns": null,
            "grid_auto_flow": null,
            "grid_auto_rows": null,
            "grid_column": null,
            "grid_gap": null,
            "grid_row": null,
            "grid_template_areas": null,
            "grid_template_columns": null,
            "grid_template_rows": null,
            "height": null,
            "justify_content": null,
            "justify_items": null,
            "left": null,
            "margin": null,
            "max_height": null,
            "max_width": null,
            "min_height": null,
            "min_width": null,
            "object_fit": null,
            "object_position": null,
            "order": null,
            "overflow": null,
            "overflow_x": null,
            "overflow_y": null,
            "padding": null,
            "right": null,
            "top": null,
            "visibility": null,
            "width": null
          }
        },
        "1b9c52cf0d474eb298e8d1605ace8ae4": {
          "model_module": "@jupyter-widgets/controls",
          "model_name": "DescriptionStyleModel",
          "model_module_version": "1.5.0",
          "state": {
            "_model_module": "@jupyter-widgets/controls",
            "_model_module_version": "1.5.0",
            "_model_name": "DescriptionStyleModel",
            "_view_count": null,
            "_view_module": "@jupyter-widgets/base",
            "_view_module_version": "1.2.0",
            "_view_name": "StyleView",
            "description_width": ""
          }
        },
        "364ec42580d44a94a541fd92c9c060ac": {
          "model_module": "@jupyter-widgets/base",
          "model_name": "LayoutModel",
          "model_module_version": "1.2.0",
          "state": {
            "_model_module": "@jupyter-widgets/base",
            "_model_module_version": "1.2.0",
            "_model_name": "LayoutModel",
            "_view_count": null,
            "_view_module": "@jupyter-widgets/base",
            "_view_module_version": "1.2.0",
            "_view_name": "LayoutView",
            "align_content": null,
            "align_items": null,
            "align_self": null,
            "border": null,
            "bottom": null,
            "display": null,
            "flex": null,
            "flex_flow": null,
            "grid_area": null,
            "grid_auto_columns": null,
            "grid_auto_flow": null,
            "grid_auto_rows": null,
            "grid_column": null,
            "grid_gap": null,
            "grid_row": null,
            "grid_template_areas": null,
            "grid_template_columns": null,
            "grid_template_rows": null,
            "height": null,
            "justify_content": null,
            "justify_items": null,
            "left": null,
            "margin": null,
            "max_height": null,
            "max_width": null,
            "min_height": null,
            "min_width": null,
            "object_fit": null,
            "object_position": null,
            "order": null,
            "overflow": null,
            "overflow_x": null,
            "overflow_y": null,
            "padding": null,
            "right": null,
            "top": null,
            "visibility": null,
            "width": null
          }
        },
        "c9c4930e333147fb99d95fcf7959b506": {
          "model_module": "@jupyter-widgets/controls",
          "model_name": "ProgressStyleModel",
          "model_module_version": "1.5.0",
          "state": {
            "_model_module": "@jupyter-widgets/controls",
            "_model_module_version": "1.5.0",
            "_model_name": "ProgressStyleModel",
            "_view_count": null,
            "_view_module": "@jupyter-widgets/base",
            "_view_module_version": "1.2.0",
            "_view_name": "StyleView",
            "bar_color": null,
            "description_width": ""
          }
        },
        "23010cc3961040ecb1883f3643e2406d": {
          "model_module": "@jupyter-widgets/base",
          "model_name": "LayoutModel",
          "model_module_version": "1.2.0",
          "state": {
            "_model_module": "@jupyter-widgets/base",
            "_model_module_version": "1.2.0",
            "_model_name": "LayoutModel",
            "_view_count": null,
            "_view_module": "@jupyter-widgets/base",
            "_view_module_version": "1.2.0",
            "_view_name": "LayoutView",
            "align_content": null,
            "align_items": null,
            "align_self": null,
            "border": null,
            "bottom": null,
            "display": null,
            "flex": null,
            "flex_flow": null,
            "grid_area": null,
            "grid_auto_columns": null,
            "grid_auto_flow": null,
            "grid_auto_rows": null,
            "grid_column": null,
            "grid_gap": null,
            "grid_row": null,
            "grid_template_areas": null,
            "grid_template_columns": null,
            "grid_template_rows": null,
            "height": null,
            "justify_content": null,
            "justify_items": null,
            "left": null,
            "margin": null,
            "max_height": null,
            "max_width": null,
            "min_height": null,
            "min_width": null,
            "object_fit": null,
            "object_position": null,
            "order": null,
            "overflow": null,
            "overflow_x": null,
            "overflow_y": null,
            "padding": null,
            "right": null,
            "top": null,
            "visibility": null,
            "width": null
          }
        },
        "cf8ca55e23d4493e9b8596c6e6aab2f7": {
          "model_module": "@jupyter-widgets/controls",
          "model_name": "DescriptionStyleModel",
          "model_module_version": "1.5.0",
          "state": {
            "_model_module": "@jupyter-widgets/controls",
            "_model_module_version": "1.5.0",
            "_model_name": "DescriptionStyleModel",
            "_view_count": null,
            "_view_module": "@jupyter-widgets/base",
            "_view_module_version": "1.2.0",
            "_view_name": "StyleView",
            "description_width": ""
          }
        },
        "4e78dd4f28b24214bbd31a4fe348feb2": {
          "model_module": "@jupyter-widgets/controls",
          "model_name": "HBoxModel",
          "model_module_version": "1.5.0",
          "state": {
            "_dom_classes": [],
            "_model_module": "@jupyter-widgets/controls",
            "_model_module_version": "1.5.0",
            "_model_name": "HBoxModel",
            "_view_count": null,
            "_view_module": "@jupyter-widgets/controls",
            "_view_module_version": "1.5.0",
            "_view_name": "HBoxView",
            "box_style": "",
            "children": [
              "IPY_MODEL_f1ed7780ac7747fb822d17a443ea0236",
              "IPY_MODEL_9fc5ce54061740d2b96913411c49bf93",
              "IPY_MODEL_c35ac355a9a3476cb11022e9f9bd1be8"
            ],
            "layout": "IPY_MODEL_1d41ab5b57ad4f51aebfd8019a645c2b"
          }
        },
        "f1ed7780ac7747fb822d17a443ea0236": {
          "model_module": "@jupyter-widgets/controls",
          "model_name": "HTMLModel",
          "model_module_version": "1.5.0",
          "state": {
            "_dom_classes": [],
            "_model_module": "@jupyter-widgets/controls",
            "_model_module_version": "1.5.0",
            "_model_name": "HTMLModel",
            "_view_count": null,
            "_view_module": "@jupyter-widgets/controls",
            "_view_module_version": "1.5.0",
            "_view_name": "HTMLView",
            "description": "",
            "description_tooltip": null,
            "layout": "IPY_MODEL_243dd313cfa54250b04f7f9a93741c85",
            "placeholder": "​",
            "style": "IPY_MODEL_84f7f40756dc4829ad48d525ce87136f",
            "value": "100%"
          }
        },
        "9fc5ce54061740d2b96913411c49bf93": {
          "model_module": "@jupyter-widgets/controls",
          "model_name": "FloatProgressModel",
          "model_module_version": "1.5.0",
          "state": {
            "_dom_classes": [],
            "_model_module": "@jupyter-widgets/controls",
            "_model_module_version": "1.5.0",
            "_model_name": "FloatProgressModel",
            "_view_count": null,
            "_view_module": "@jupyter-widgets/controls",
            "_view_module_version": "1.5.0",
            "_view_name": "ProgressView",
            "bar_style": "success",
            "description": "",
            "description_tooltip": null,
            "layout": "IPY_MODEL_926c763d477e49a2809b57511b397752",
            "max": 10000,
            "min": 0,
            "orientation": "horizontal",
            "style": "IPY_MODEL_aa5bb4760b81468ebae1df0ec5e4031f",
            "value": 10000
          }
        },
        "c35ac355a9a3476cb11022e9f9bd1be8": {
          "model_module": "@jupyter-widgets/controls",
          "model_name": "HTMLModel",
          "model_module_version": "1.5.0",
          "state": {
            "_dom_classes": [],
            "_model_module": "@jupyter-widgets/controls",
            "_model_module_version": "1.5.0",
            "_model_name": "HTMLModel",
            "_view_count": null,
            "_view_module": "@jupyter-widgets/controls",
            "_view_module_version": "1.5.0",
            "_view_name": "HTMLView",
            "description": "",
            "description_tooltip": null,
            "layout": "IPY_MODEL_f4082a37f20c4fe490ca4dce3ef6da5c",
            "placeholder": "​",
            "style": "IPY_MODEL_1eacd340cdc049fe9183106cebe3ba39",
            "value": " 10000/10000 [00:09&lt;00:00, 1097.43it/s]"
          }
        },
        "1d41ab5b57ad4f51aebfd8019a645c2b": {
          "model_module": "@jupyter-widgets/base",
          "model_name": "LayoutModel",
          "model_module_version": "1.2.0",
          "state": {
            "_model_module": "@jupyter-widgets/base",
            "_model_module_version": "1.2.0",
            "_model_name": "LayoutModel",
            "_view_count": null,
            "_view_module": "@jupyter-widgets/base",
            "_view_module_version": "1.2.0",
            "_view_name": "LayoutView",
            "align_content": null,
            "align_items": null,
            "align_self": null,
            "border": null,
            "bottom": null,
            "display": null,
            "flex": null,
            "flex_flow": null,
            "grid_area": null,
            "grid_auto_columns": null,
            "grid_auto_flow": null,
            "grid_auto_rows": null,
            "grid_column": null,
            "grid_gap": null,
            "grid_row": null,
            "grid_template_areas": null,
            "grid_template_columns": null,
            "grid_template_rows": null,
            "height": null,
            "justify_content": null,
            "justify_items": null,
            "left": null,
            "margin": null,
            "max_height": null,
            "max_width": null,
            "min_height": null,
            "min_width": null,
            "object_fit": null,
            "object_position": null,
            "order": null,
            "overflow": null,
            "overflow_x": null,
            "overflow_y": null,
            "padding": null,
            "right": null,
            "top": null,
            "visibility": null,
            "width": null
          }
        },
        "243dd313cfa54250b04f7f9a93741c85": {
          "model_module": "@jupyter-widgets/base",
          "model_name": "LayoutModel",
          "model_module_version": "1.2.0",
          "state": {
            "_model_module": "@jupyter-widgets/base",
            "_model_module_version": "1.2.0",
            "_model_name": "LayoutModel",
            "_view_count": null,
            "_view_module": "@jupyter-widgets/base",
            "_view_module_version": "1.2.0",
            "_view_name": "LayoutView",
            "align_content": null,
            "align_items": null,
            "align_self": null,
            "border": null,
            "bottom": null,
            "display": null,
            "flex": null,
            "flex_flow": null,
            "grid_area": null,
            "grid_auto_columns": null,
            "grid_auto_flow": null,
            "grid_auto_rows": null,
            "grid_column": null,
            "grid_gap": null,
            "grid_row": null,
            "grid_template_areas": null,
            "grid_template_columns": null,
            "grid_template_rows": null,
            "height": null,
            "justify_content": null,
            "justify_items": null,
            "left": null,
            "margin": null,
            "max_height": null,
            "max_width": null,
            "min_height": null,
            "min_width": null,
            "object_fit": null,
            "object_position": null,
            "order": null,
            "overflow": null,
            "overflow_x": null,
            "overflow_y": null,
            "padding": null,
            "right": null,
            "top": null,
            "visibility": null,
            "width": null
          }
        },
        "84f7f40756dc4829ad48d525ce87136f": {
          "model_module": "@jupyter-widgets/controls",
          "model_name": "DescriptionStyleModel",
          "model_module_version": "1.5.0",
          "state": {
            "_model_module": "@jupyter-widgets/controls",
            "_model_module_version": "1.5.0",
            "_model_name": "DescriptionStyleModel",
            "_view_count": null,
            "_view_module": "@jupyter-widgets/base",
            "_view_module_version": "1.2.0",
            "_view_name": "StyleView",
            "description_width": ""
          }
        },
        "926c763d477e49a2809b57511b397752": {
          "model_module": "@jupyter-widgets/base",
          "model_name": "LayoutModel",
          "model_module_version": "1.2.0",
          "state": {
            "_model_module": "@jupyter-widgets/base",
            "_model_module_version": "1.2.0",
            "_model_name": "LayoutModel",
            "_view_count": null,
            "_view_module": "@jupyter-widgets/base",
            "_view_module_version": "1.2.0",
            "_view_name": "LayoutView",
            "align_content": null,
            "align_items": null,
            "align_self": null,
            "border": null,
            "bottom": null,
            "display": null,
            "flex": null,
            "flex_flow": null,
            "grid_area": null,
            "grid_auto_columns": null,
            "grid_auto_flow": null,
            "grid_auto_rows": null,
            "grid_column": null,
            "grid_gap": null,
            "grid_row": null,
            "grid_template_areas": null,
            "grid_template_columns": null,
            "grid_template_rows": null,
            "height": null,
            "justify_content": null,
            "justify_items": null,
            "left": null,
            "margin": null,
            "max_height": null,
            "max_width": null,
            "min_height": null,
            "min_width": null,
            "object_fit": null,
            "object_position": null,
            "order": null,
            "overflow": null,
            "overflow_x": null,
            "overflow_y": null,
            "padding": null,
            "right": null,
            "top": null,
            "visibility": null,
            "width": null
          }
        },
        "aa5bb4760b81468ebae1df0ec5e4031f": {
          "model_module": "@jupyter-widgets/controls",
          "model_name": "ProgressStyleModel",
          "model_module_version": "1.5.0",
          "state": {
            "_model_module": "@jupyter-widgets/controls",
            "_model_module_version": "1.5.0",
            "_model_name": "ProgressStyleModel",
            "_view_count": null,
            "_view_module": "@jupyter-widgets/base",
            "_view_module_version": "1.2.0",
            "_view_name": "StyleView",
            "bar_color": null,
            "description_width": ""
          }
        },
        "f4082a37f20c4fe490ca4dce3ef6da5c": {
          "model_module": "@jupyter-widgets/base",
          "model_name": "LayoutModel",
          "model_module_version": "1.2.0",
          "state": {
            "_model_module": "@jupyter-widgets/base",
            "_model_module_version": "1.2.0",
            "_model_name": "LayoutModel",
            "_view_count": null,
            "_view_module": "@jupyter-widgets/base",
            "_view_module_version": "1.2.0",
            "_view_name": "LayoutView",
            "align_content": null,
            "align_items": null,
            "align_self": null,
            "border": null,
            "bottom": null,
            "display": null,
            "flex": null,
            "flex_flow": null,
            "grid_area": null,
            "grid_auto_columns": null,
            "grid_auto_flow": null,
            "grid_auto_rows": null,
            "grid_column": null,
            "grid_gap": null,
            "grid_row": null,
            "grid_template_areas": null,
            "grid_template_columns": null,
            "grid_template_rows": null,
            "height": null,
            "justify_content": null,
            "justify_items": null,
            "left": null,
            "margin": null,
            "max_height": null,
            "max_width": null,
            "min_height": null,
            "min_width": null,
            "object_fit": null,
            "object_position": null,
            "order": null,
            "overflow": null,
            "overflow_x": null,
            "overflow_y": null,
            "padding": null,
            "right": null,
            "top": null,
            "visibility": null,
            "width": null
          }
        },
        "1eacd340cdc049fe9183106cebe3ba39": {
          "model_module": "@jupyter-widgets/controls",
          "model_name": "DescriptionStyleModel",
          "model_module_version": "1.5.0",
          "state": {
            "_model_module": "@jupyter-widgets/controls",
            "_model_module_version": "1.5.0",
            "_model_name": "DescriptionStyleModel",
            "_view_count": null,
            "_view_module": "@jupyter-widgets/base",
            "_view_module_version": "1.2.0",
            "_view_name": "StyleView",
            "description_width": ""
          }
        },
        "c07b8bd6704f4d0ca66196ee9036bde4": {
          "model_module": "@jupyter-widgets/controls",
          "model_name": "HBoxModel",
          "model_module_version": "1.5.0",
          "state": {
            "_dom_classes": [],
            "_model_module": "@jupyter-widgets/controls",
            "_model_module_version": "1.5.0",
            "_model_name": "HBoxModel",
            "_view_count": null,
            "_view_module": "@jupyter-widgets/controls",
            "_view_module_version": "1.5.0",
            "_view_name": "HBoxView",
            "box_style": "",
            "children": [
              "IPY_MODEL_32d1f4d1258a4774bdf49804832e5fed",
              "IPY_MODEL_77ac3cd9d84f40adaf7574563d6c6b63",
              "IPY_MODEL_7c8692f08b1a4de98536191639789bd4"
            ],
            "layout": "IPY_MODEL_d1d65dc557894096b2c0b43b208a60c0"
          }
        },
        "32d1f4d1258a4774bdf49804832e5fed": {
          "model_module": "@jupyter-widgets/controls",
          "model_name": "HTMLModel",
          "model_module_version": "1.5.0",
          "state": {
            "_dom_classes": [],
            "_model_module": "@jupyter-widgets/controls",
            "_model_module_version": "1.5.0",
            "_model_name": "HTMLModel",
            "_view_count": null,
            "_view_module": "@jupyter-widgets/controls",
            "_view_module_version": "1.5.0",
            "_view_name": "HTMLView",
            "description": "",
            "description_tooltip": null,
            "layout": "IPY_MODEL_0b8b61344bce416c84da7f506d1f9333",
            "placeholder": "​",
            "style": "IPY_MODEL_6b2deefe3b5b4ba3966f4479ceccab8b",
            "value": "100%"
          }
        },
        "77ac3cd9d84f40adaf7574563d6c6b63": {
          "model_module": "@jupyter-widgets/controls",
          "model_name": "FloatProgressModel",
          "model_module_version": "1.5.0",
          "state": {
            "_dom_classes": [],
            "_model_module": "@jupyter-widgets/controls",
            "_model_module_version": "1.5.0",
            "_model_name": "FloatProgressModel",
            "_view_count": null,
            "_view_module": "@jupyter-widgets/controls",
            "_view_module_version": "1.5.0",
            "_view_name": "ProgressView",
            "bar_style": "success",
            "description": "",
            "description_tooltip": null,
            "layout": "IPY_MODEL_ccafb6637b7a4d1097c80a74173b3e81",
            "max": 60,
            "min": 0,
            "orientation": "horizontal",
            "style": "IPY_MODEL_08832bc355c547e8bcb0b45eb9c6781c",
            "value": 60
          }
        },
        "7c8692f08b1a4de98536191639789bd4": {
          "model_module": "@jupyter-widgets/controls",
          "model_name": "HTMLModel",
          "model_module_version": "1.5.0",
          "state": {
            "_dom_classes": [],
            "_model_module": "@jupyter-widgets/controls",
            "_model_module_version": "1.5.0",
            "_model_name": "HTMLModel",
            "_view_count": null,
            "_view_module": "@jupyter-widgets/controls",
            "_view_module_version": "1.5.0",
            "_view_name": "HTMLView",
            "description": "",
            "description_tooltip": null,
            "layout": "IPY_MODEL_8d3533e770644b2286757fc98c3598a4",
            "placeholder": "​",
            "style": "IPY_MODEL_4409e8c14ba142ecb80d8c81ff09f7cb",
            "value": " 60/60 [00:03&lt;00:00, 12.08it/s]"
          }
        },
        "d1d65dc557894096b2c0b43b208a60c0": {
          "model_module": "@jupyter-widgets/base",
          "model_name": "LayoutModel",
          "model_module_version": "1.2.0",
          "state": {
            "_model_module": "@jupyter-widgets/base",
            "_model_module_version": "1.2.0",
            "_model_name": "LayoutModel",
            "_view_count": null,
            "_view_module": "@jupyter-widgets/base",
            "_view_module_version": "1.2.0",
            "_view_name": "LayoutView",
            "align_content": null,
            "align_items": null,
            "align_self": null,
            "border": null,
            "bottom": null,
            "display": null,
            "flex": null,
            "flex_flow": null,
            "grid_area": null,
            "grid_auto_columns": null,
            "grid_auto_flow": null,
            "grid_auto_rows": null,
            "grid_column": null,
            "grid_gap": null,
            "grid_row": null,
            "grid_template_areas": null,
            "grid_template_columns": null,
            "grid_template_rows": null,
            "height": null,
            "justify_content": null,
            "justify_items": null,
            "left": null,
            "margin": null,
            "max_height": null,
            "max_width": null,
            "min_height": null,
            "min_width": null,
            "object_fit": null,
            "object_position": null,
            "order": null,
            "overflow": null,
            "overflow_x": null,
            "overflow_y": null,
            "padding": null,
            "right": null,
            "top": null,
            "visibility": null,
            "width": null
          }
        },
        "0b8b61344bce416c84da7f506d1f9333": {
          "model_module": "@jupyter-widgets/base",
          "model_name": "LayoutModel",
          "model_module_version": "1.2.0",
          "state": {
            "_model_module": "@jupyter-widgets/base",
            "_model_module_version": "1.2.0",
            "_model_name": "LayoutModel",
            "_view_count": null,
            "_view_module": "@jupyter-widgets/base",
            "_view_module_version": "1.2.0",
            "_view_name": "LayoutView",
            "align_content": null,
            "align_items": null,
            "align_self": null,
            "border": null,
            "bottom": null,
            "display": null,
            "flex": null,
            "flex_flow": null,
            "grid_area": null,
            "grid_auto_columns": null,
            "grid_auto_flow": null,
            "grid_auto_rows": null,
            "grid_column": null,
            "grid_gap": null,
            "grid_row": null,
            "grid_template_areas": null,
            "grid_template_columns": null,
            "grid_template_rows": null,
            "height": null,
            "justify_content": null,
            "justify_items": null,
            "left": null,
            "margin": null,
            "max_height": null,
            "max_width": null,
            "min_height": null,
            "min_width": null,
            "object_fit": null,
            "object_position": null,
            "order": null,
            "overflow": null,
            "overflow_x": null,
            "overflow_y": null,
            "padding": null,
            "right": null,
            "top": null,
            "visibility": null,
            "width": null
          }
        },
        "6b2deefe3b5b4ba3966f4479ceccab8b": {
          "model_module": "@jupyter-widgets/controls",
          "model_name": "DescriptionStyleModel",
          "model_module_version": "1.5.0",
          "state": {
            "_model_module": "@jupyter-widgets/controls",
            "_model_module_version": "1.5.0",
            "_model_name": "DescriptionStyleModel",
            "_view_count": null,
            "_view_module": "@jupyter-widgets/base",
            "_view_module_version": "1.2.0",
            "_view_name": "StyleView",
            "description_width": ""
          }
        },
        "ccafb6637b7a4d1097c80a74173b3e81": {
          "model_module": "@jupyter-widgets/base",
          "model_name": "LayoutModel",
          "model_module_version": "1.2.0",
          "state": {
            "_model_module": "@jupyter-widgets/base",
            "_model_module_version": "1.2.0",
            "_model_name": "LayoutModel",
            "_view_count": null,
            "_view_module": "@jupyter-widgets/base",
            "_view_module_version": "1.2.0",
            "_view_name": "LayoutView",
            "align_content": null,
            "align_items": null,
            "align_self": null,
            "border": null,
            "bottom": null,
            "display": null,
            "flex": null,
            "flex_flow": null,
            "grid_area": null,
            "grid_auto_columns": null,
            "grid_auto_flow": null,
            "grid_auto_rows": null,
            "grid_column": null,
            "grid_gap": null,
            "grid_row": null,
            "grid_template_areas": null,
            "grid_template_columns": null,
            "grid_template_rows": null,
            "height": null,
            "justify_content": null,
            "justify_items": null,
            "left": null,
            "margin": null,
            "max_height": null,
            "max_width": null,
            "min_height": null,
            "min_width": null,
            "object_fit": null,
            "object_position": null,
            "order": null,
            "overflow": null,
            "overflow_x": null,
            "overflow_y": null,
            "padding": null,
            "right": null,
            "top": null,
            "visibility": null,
            "width": null
          }
        },
        "08832bc355c547e8bcb0b45eb9c6781c": {
          "model_module": "@jupyter-widgets/controls",
          "model_name": "ProgressStyleModel",
          "model_module_version": "1.5.0",
          "state": {
            "_model_module": "@jupyter-widgets/controls",
            "_model_module_version": "1.5.0",
            "_model_name": "ProgressStyleModel",
            "_view_count": null,
            "_view_module": "@jupyter-widgets/base",
            "_view_module_version": "1.2.0",
            "_view_name": "StyleView",
            "bar_color": null,
            "description_width": ""
          }
        },
        "8d3533e770644b2286757fc98c3598a4": {
          "model_module": "@jupyter-widgets/base",
          "model_name": "LayoutModel",
          "model_module_version": "1.2.0",
          "state": {
            "_model_module": "@jupyter-widgets/base",
            "_model_module_version": "1.2.0",
            "_model_name": "LayoutModel",
            "_view_count": null,
            "_view_module": "@jupyter-widgets/base",
            "_view_module_version": "1.2.0",
            "_view_name": "LayoutView",
            "align_content": null,
            "align_items": null,
            "align_self": null,
            "border": null,
            "bottom": null,
            "display": null,
            "flex": null,
            "flex_flow": null,
            "grid_area": null,
            "grid_auto_columns": null,
            "grid_auto_flow": null,
            "grid_auto_rows": null,
            "grid_column": null,
            "grid_gap": null,
            "grid_row": null,
            "grid_template_areas": null,
            "grid_template_columns": null,
            "grid_template_rows": null,
            "height": null,
            "justify_content": null,
            "justify_items": null,
            "left": null,
            "margin": null,
            "max_height": null,
            "max_width": null,
            "min_height": null,
            "min_width": null,
            "object_fit": null,
            "object_position": null,
            "order": null,
            "overflow": null,
            "overflow_x": null,
            "overflow_y": null,
            "padding": null,
            "right": null,
            "top": null,
            "visibility": null,
            "width": null
          }
        },
        "4409e8c14ba142ecb80d8c81ff09f7cb": {
          "model_module": "@jupyter-widgets/controls",
          "model_name": "DescriptionStyleModel",
          "model_module_version": "1.5.0",
          "state": {
            "_model_module": "@jupyter-widgets/controls",
            "_model_module_version": "1.5.0",
            "_model_name": "DescriptionStyleModel",
            "_view_count": null,
            "_view_module": "@jupyter-widgets/base",
            "_view_module_version": "1.2.0",
            "_view_name": "StyleView",
            "description_width": ""
          }
        }
      }
    }
  },
  "nbformat": 4,
  "nbformat_minor": 0
}