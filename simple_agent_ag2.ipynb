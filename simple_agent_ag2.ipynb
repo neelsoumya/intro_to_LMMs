{
  "nbformat": 4,
  "nbformat_minor": 0,
  "metadata": {
    "colab": {
      "provenance": [],
      "authorship_tag": "ABX9TyPZu2nUsOmyJIh8SE0yATFJ",
      "include_colab_link": true
    },
    "kernelspec": {
      "name": "python3",
      "display_name": "Python 3"
    },
    "language_info": {
      "name": "python"
    }
  },
  "cells": [
    {
      "cell_type": "markdown",
      "metadata": {
        "id": "view-in-github",
        "colab_type": "text"
      },
      "source": [
        "<a href=\"https://colab.research.google.com/github/neelsoumya/intro_to_LMMs/blob/main/simple_agent_ag2.ipynb\" target=\"_parent\"><img src=\"https://colab.research.google.com/assets/colab-badge.svg\" alt=\"Open In Colab\"/></a>"
      ]
    },
    {
      "cell_type": "markdown",
      "source": [
        "Simple agent using AG2\n",
        "\n",
        "https://docs.ag2.ai/latest/docs/quick-start/\n",
        "\n",
        "The task is to use OpenAI to re-envision AI"
      ],
      "metadata": {
        "id": "Zwx189cgDRuq"
      }
    },
    {
      "cell_type": "markdown",
      "source": [
        "Install packages"
      ],
      "metadata": {
        "id": "EdvZ6kem7_u6"
      }
    },
    {
      "cell_type": "code",
      "source": [
        "pip install ag2[openai]"
      ],
      "metadata": {
        "colab": {
          "base_uri": "https://localhost:8080/"
        },
        "id": "LBU71Eqj8BHm",
        "outputId": "b2a80594-c0b9-4f4e-8a5c-8f87343b73c1"
      },
      "execution_count": 34,
      "outputs": [
        {
          "output_type": "stream",
          "name": "stdout",
          "text": [
            "Requirement already satisfied: ag2[openai] in /usr/local/lib/python3.11/dist-packages (0.9.1.post0)\n",
            "Requirement already satisfied: anyio<5.0.0,>=3.0.0 in /usr/local/lib/python3.11/dist-packages (from ag2[openai]) (4.9.0)\n",
            "Requirement already satisfied: asyncer==0.0.8 in /usr/local/lib/python3.11/dist-packages (from ag2[openai]) (0.0.8)\n",
            "Requirement already satisfied: diskcache in /usr/local/lib/python3.11/dist-packages (from ag2[openai]) (5.6.3)\n",
            "Requirement already satisfied: docker in /usr/local/lib/python3.11/dist-packages (from ag2[openai]) (7.1.0)\n",
            "Requirement already satisfied: httpx<1,>=0.28.1 in /usr/local/lib/python3.11/dist-packages (from ag2[openai]) (0.28.1)\n",
            "Requirement already satisfied: packaging in /usr/local/lib/python3.11/dist-packages (from ag2[openai]) (24.2)\n",
            "Requirement already satisfied: pydantic<3,>=2.6.1 in /usr/local/lib/python3.11/dist-packages (from ag2[openai]) (2.11.4)\n",
            "Requirement already satisfied: python-dotenv in /usr/local/lib/python3.11/dist-packages (from ag2[openai]) (1.1.0)\n",
            "Requirement already satisfied: termcolor in /usr/local/lib/python3.11/dist-packages (from ag2[openai]) (3.1.0)\n",
            "Requirement already satisfied: tiktoken in /usr/local/lib/python3.11/dist-packages (from ag2[openai]) (0.9.0)\n",
            "Requirement already satisfied: openai>=1.66.2 in /usr/local/lib/python3.11/dist-packages (from ag2[openai]) (1.76.2)\n",
            "Requirement already satisfied: idna>=2.8 in /usr/local/lib/python3.11/dist-packages (from anyio<5.0.0,>=3.0.0->ag2[openai]) (3.10)\n",
            "Requirement already satisfied: sniffio>=1.1 in /usr/local/lib/python3.11/dist-packages (from anyio<5.0.0,>=3.0.0->ag2[openai]) (1.3.1)\n",
            "Requirement already satisfied: typing_extensions>=4.5 in /usr/local/lib/python3.11/dist-packages (from anyio<5.0.0,>=3.0.0->ag2[openai]) (4.13.2)\n",
            "Requirement already satisfied: certifi in /usr/local/lib/python3.11/dist-packages (from httpx<1,>=0.28.1->ag2[openai]) (2025.4.26)\n",
            "Requirement already satisfied: httpcore==1.* in /usr/local/lib/python3.11/dist-packages (from httpx<1,>=0.28.1->ag2[openai]) (1.0.9)\n",
            "Requirement already satisfied: h11>=0.16 in /usr/local/lib/python3.11/dist-packages (from httpcore==1.*->httpx<1,>=0.28.1->ag2[openai]) (0.16.0)\n",
            "Requirement already satisfied: distro<2,>=1.7.0 in /usr/local/lib/python3.11/dist-packages (from openai>=1.66.2->ag2[openai]) (1.9.0)\n",
            "Requirement already satisfied: jiter<1,>=0.4.0 in /usr/local/lib/python3.11/dist-packages (from openai>=1.66.2->ag2[openai]) (0.9.0)\n",
            "Requirement already satisfied: tqdm>4 in /usr/local/lib/python3.11/dist-packages (from openai>=1.66.2->ag2[openai]) (4.67.1)\n",
            "Requirement already satisfied: annotated-types>=0.6.0 in /usr/local/lib/python3.11/dist-packages (from pydantic<3,>=2.6.1->ag2[openai]) (0.7.0)\n",
            "Requirement already satisfied: pydantic-core==2.33.2 in /usr/local/lib/python3.11/dist-packages (from pydantic<3,>=2.6.1->ag2[openai]) (2.33.2)\n",
            "Requirement already satisfied: typing-inspection>=0.4.0 in /usr/local/lib/python3.11/dist-packages (from pydantic<3,>=2.6.1->ag2[openai]) (0.4.0)\n",
            "Requirement already satisfied: requests>=2.26.0 in /usr/local/lib/python3.11/dist-packages (from docker->ag2[openai]) (2.32.3)\n",
            "Requirement already satisfied: urllib3>=1.26.0 in /usr/local/lib/python3.11/dist-packages (from docker->ag2[openai]) (2.4.0)\n",
            "Requirement already satisfied: regex>=2022.1.18 in /usr/local/lib/python3.11/dist-packages (from tiktoken->ag2[openai]) (2024.11.6)\n",
            "Requirement already satisfied: charset-normalizer<4,>=2 in /usr/local/lib/python3.11/dist-packages (from requests>=2.26.0->docker->ag2[openai]) (3.4.1)\n"
          ]
        }
      ]
    },
    {
      "cell_type": "markdown",
      "source": [
        "Building ag agentic AI assistant that responds to your prompt"
      ],
      "metadata": {
        "id": "Qk7Pm7XW8TZM"
      }
    },
    {
      "cell_type": "markdown",
      "source": [
        "Setup an LLM configuration"
      ],
      "metadata": {
        "id": "iR-pz_098ctd"
      }
    },
    {
      "cell_type": "code",
      "source": [
        "# Import agent class\n",
        "from autogen import ConversableAgent, LLMConfig"
      ],
      "metadata": {
        "id": "amnTaLJ_8XmG"
      },
      "execution_count": 35,
      "outputs": []
    },
    {
      "cell_type": "markdown",
      "source": [
        "Store and get Open API key in Google Colab"
      ],
      "metadata": {
        "id": "xOFGDRaoAFvx"
      }
    },
    {
      "cell_type": "code",
      "source": [
        "from google.colab import userdata\n",
        "import os\n",
        "\n",
        "# store OPENAI_API_KEY in secrets in Google Colab\n",
        "OPENAI_API_KEY = userdata.get('OPENAI_API_KEY')\n",
        "# OPENAI_API_KEY\n",
        "os.environ[\"OPENAI_API_KEY\"] = OPENAI_API_KEY\n"
      ],
      "metadata": {
        "id": "QLrSbLi29RhR"
      },
      "execution_count": 36,
      "outputs": []
    },
    {
      "cell_type": "markdown",
      "source": [
        "Define LLM configuration"
      ],
      "metadata": {
        "id": "9cxZZcQr86q8"
      }
    },
    {
      "cell_type": "code",
      "source": [
        "# uses the OPENAI_API_KEY environment variable\n",
        "llm_config = LLMConfig(api_type = \"openai\", model=\"gpt-4o-mini\")\n",
        "\n"
      ],
      "metadata": {
        "id": "DKvrhU8G88iQ"
      },
      "execution_count": 37,
      "outputs": []
    },
    {
      "cell_type": "markdown",
      "source": [
        "Create LLM agent"
      ],
      "metadata": {
        "id": "PP2nkKOt9Nhl"
      }
    },
    {
      "cell_type": "code",
      "source": [
        "with llm_config:\n",
        "    my_agent = ConversableAgent(name = \"poetic_assistant\",\n",
        "                              system_message = \"You are a helpful AI assistant tasked with re-envisioning AI.\")\n"
      ],
      "metadata": {
        "id": "RRiLKo3Z-7Fm"
      },
      "execution_count": 38,
      "outputs": []
    },
    {
      "cell_type": "markdown",
      "source": [
        "Run the agent"
      ],
      "metadata": {
        "id": "MAnf5ZgTAcEg"
      }
    },
    {
      "cell_type": "code",
      "source": [
        "str_prompt = \"Can you try to re-envision AI in a way that is neither too dystopic (AI is going to take over the world) or borders on techno-solutionism (AI is going to solve all problems of the world)\"\n",
        "i_MAX_TURNS = 3\n",
        "response = my_agent.run(message=str_prompt,\n",
        "                        max_turns = i_MAX_TURNS,\n",
        "                        user_input=True\n",
        ")\n"
      ],
      "metadata": {
        "id": "lnIHjmmIAdLG"
      },
      "execution_count": 39,
      "outputs": []
    },
    {
      "cell_type": "markdown",
      "source": [
        "Iterate through the chat"
      ],
      "metadata": {
        "id": "wEVNWCbhBFo4"
      }
    },
    {
      "cell_type": "code",
      "source": [
        "response.process()\n",
        "print(response.messages)"
      ],
      "metadata": {
        "colab": {
          "base_uri": "https://localhost:8080/"
        },
        "id": "YjicR7eLBHon",
        "outputId": "50eccf59-1639-4449-e281-6fba5eae1f65"
      },
      "execution_count": 40,
      "outputs": [
        {
          "output_type": "stream",
          "name": "stdout",
          "text": [
            "user (to poetic_assistant):\n",
            "\n",
            "Can you try to re-envision AI in a way that is neither too dystopic (AI is going to take over the world) or borders on techno-solutionism (AI is going to solve all problems of the world)\n",
            "\n",
            "--------------------------------------------------------------------------------\n",
            "\n",
            ">>>>>>>> USING AUTO REPLY...\n",
            "poetic_assistant (to user):\n",
            "\n",
            "Certainly! Re-envisioning AI involves striking a balance between recognizing its potential and understanding its limitations. Here’s a vision that emphasizes collaboration, ethics, and human-centered progress:\n",
            "\n",
            "### AI as a Collaborative Tool\n",
            "\n",
            "1. **Augmentation, Not Replacement**: AI should be designed to augment human capabilities, enhancing our skills and creativity rather than replacing jobs or decision-making. It can serve as a powerful assistant that boosts productivity, assists with information retrieval, and offers insights, leaving humans to focus on tasks that require emotional intelligence and complex judgment.\n",
            "\n",
            "2. **Ethical Frameworks and Governance**: It’s essential to develop robust ethical frameworks and governance structures that guide AI development and deployment. This means ensuring transparency in AI systems, accountability for decisions made by AI, and protecting individual rights. Diverse stakeholders—including ethicists, sociologists, technologists, and the general public—should be involved in shaping these frameworks to reflect a broad range of values.\n",
            "\n",
            "3. **Fostering Inclusivity**: AI systems should be built with inclusivity in mind, ensuring they serve and benefit all parts of society. This involves addressing biases in AI training data and engaging with marginalized communities to understand their needs and values in the context of AI applications.\n",
            "\n",
            "4. **Building Human-AI Relationships**: The focus should be on creating symbiotic relationships between humans and AI. This includes designing AI systems that communicate in intuitive ways, understand human emotions, and adapt to user preferences, making interactions more natural and beneficial.\n",
            "\n",
            "5. **Focus on Localized Solutions**: Rather than assuming AI can solve every global problem, its application should be tailored to specific local contexts. By involving local communities in the design and implementation of AI solutions, we can ensure that the technology meets real needs and is culturally appropriate.\n",
            "\n",
            "6. **Education and Empowerment**: AI literacy should be prioritized to empower individuals to understand and engage with AI technology. By promoting education in AI-related skills and ethics, we can encourage a more informed public discourse around the benefits and challenges of AI.\n",
            "\n",
            "7. **Iterative Development and Continuous Feedback**: AI systems should be iteratively developed with ongoing feedback loops to learn from real-world use and adapt accordingly. This helps in refining AI applications over time to better meet user needs and societal expectations.\n",
            "\n",
            "8. **Sustainability and Well-being**: AI should contribute to advancing sustainability and enhancing quality of life. It should help in tackling pressing issues like climate change, healthcare access, and education, always with a focus on long-term well-being rather than short-term gains.\n",
            "\n",
            "### Conclusion\n",
            "\n",
            "In this re-envisioned view, AI is not viewed as a panacea or a threat but as a multifaceted tool that, when implemented thoughtfully, can enhance our collective human experience. By focusing on collaboration, ethics, inclusivity, and empowerment, we can navigate the complexities of AI in a way that promotes a shared, sustainable future.\n",
            "\n",
            "--------------------------------------------------------------------------------\n",
            "Replying as user. Provide feedback to poetic_assistant. Press enter to skip and use auto-reply, or type 'exit' to end the conversation: can you give me some references that talk about re-envisioning AI that is not dystopic or borders on technosolutionism\n",
            "user (to poetic_assistant):\n",
            "\n",
            "can you give me some references that talk about re-envisioning AI that is not dystopic or borders on technosolutionism\n",
            "\n",
            "--------------------------------------------------------------------------------\n",
            "\n",
            ">>>>>>>> USING AUTO REPLY...\n",
            "poetic_assistant (to user):\n",
            "\n",
            "Certainly! Here are several references that discuss the concept of re-envisioning AI in ways that avoid both dystopian narratives and overly simplistic technological solutions:\n",
            "\n",
            "1. **\"Weapons of Math Destruction\" by Cathy O'Neil**: In this book, O'Neil discusses the potential dangers of algorithmic decision-making while also emphasizing the importance of accountability, transparency, and ethics in developing AI systems. She advocates for a more responsible approach to AI implementation.\n",
            "\n",
            "2. **\"Human Compatible: Artificial Intelligence and the Problem of Control\" by Stuart Russell**: Russell outlines the challenges of aligning AI with human values and well-being. He emphasizes the need for AI systems that prioritize human safety and ethical considerations rather than merely optimizing for efficiency or profit.\n",
            "\n",
            "3. **\"AI for Good: A Global Perspective\" by various authors (published by the International Telecommunication Union)**: This report discusses the potential of AI to address global challenges such as climate change and inequality, while focusing on ethical frameworks and responsible practices that ensure benefits are widespread and equitable.\n",
            "\n",
            "4. **\"Artificial Intelligence: A Guide to Intelligent Systems\" by Michael Negnevitsky**: This book provides an overview of intelligent systems with a focus on the collaborative potential of AI and challenges to overcome, encouraging a balanced view of AI's impacts on society.\n",
            "\n",
            "5. **\"The Ethical Algorithm: The Science of Socially Aware Algorithm Design\" by Michael Kearns and Aaron Roth**: This book discusses designing algorithms that account for social good and ethical considerations, promoting a vision of AI that is responsible and you-focused.\n",
            "\n",
            "6. **\"Designing Ethical AI\" by Kate Crawford and Ryan Calo**: Their work emphasizes the importance of ethical considerations and inclusive practices in AI design. They argue for AI that works for everyone rather than against certain groups.\n",
            "\n",
            "7. **\"Artificial Intelligence: A Guide for Thinking Humans\" by Melanie Mitchell**: Mitchell provides a nuanced view of AI, discussing its limitations and potential while urging for a more thoughtful and cautious approach to its development.\n",
            "\n",
            "8. **AI and Ethics Journal**: An academic journal dedicated to discussing the ethical implications of AI technology exploring various perspectives that balance innovation with ethical considerations.\n",
            "\n",
            "9. **The Partnership on AI**: An organization focused on ensuring that AI technologies are developed and implemented in a way that is beneficial to people and society. Their publications often discuss best practices and frameworks for ethically guiding AI advancements.\n",
            "\n",
            "10. **\"The Age of Surveillance Capitalism\" by Shoshana Zuboff**: While critically examining the tech industry and surveillance capitalism, Zuboff engages with ideas about how we might rethink the role of technology, including AI, to create a more ethical digital society.\n",
            "\n",
            "These references provide a foundation for understanding how AI can be re-envisioned through careful consideration of ethics, human values, and the socio-economic context, avoiding simplistic solutions and dystopian fears.\n",
            "\n",
            "--------------------------------------------------------------------------------\n",
            "Replying as user. Provide feedback to poetic_assistant. Press enter to skip and use auto-reply, or type 'exit' to end the conversation: exit\n",
            "\n",
            ">>>>>>>> TERMINATING RUN (734caa17-e3d8-4432-9619-a706f76308fb): User requested to end the conversation\n",
            "[{'content': 'Can you try to re-envision AI in a way that is neither too dystopic (AI is going to take over the world) or borders on techno-solutionism (AI is going to solve all problems of the world)', 'role': 'assistant', 'name': 'user'}, {'content': 'Certainly! Re-envisioning AI involves striking a balance between recognizing its potential and understanding its limitations. Here’s a vision that emphasizes collaboration, ethics, and human-centered progress:\\n\\n### AI as a Collaborative Tool\\n\\n1. **Augmentation, Not Replacement**: AI should be designed to augment human capabilities, enhancing our skills and creativity rather than replacing jobs or decision-making. It can serve as a powerful assistant that boosts productivity, assists with information retrieval, and offers insights, leaving humans to focus on tasks that require emotional intelligence and complex judgment.\\n\\n2. **Ethical Frameworks and Governance**: It’s essential to develop robust ethical frameworks and governance structures that guide AI development and deployment. This means ensuring transparency in AI systems, accountability for decisions made by AI, and protecting individual rights. Diverse stakeholders—including ethicists, sociologists, technologists, and the general public—should be involved in shaping these frameworks to reflect a broad range of values.\\n\\n3. **Fostering Inclusivity**: AI systems should be built with inclusivity in mind, ensuring they serve and benefit all parts of society. This involves addressing biases in AI training data and engaging with marginalized communities to understand their needs and values in the context of AI applications.\\n\\n4. **Building Human-AI Relationships**: The focus should be on creating symbiotic relationships between humans and AI. This includes designing AI systems that communicate in intuitive ways, understand human emotions, and adapt to user preferences, making interactions more natural and beneficial.\\n\\n5. **Focus on Localized Solutions**: Rather than assuming AI can solve every global problem, its application should be tailored to specific local contexts. By involving local communities in the design and implementation of AI solutions, we can ensure that the technology meets real needs and is culturally appropriate.\\n\\n6. **Education and Empowerment**: AI literacy should be prioritized to empower individuals to understand and engage with AI technology. By promoting education in AI-related skills and ethics, we can encourage a more informed public discourse around the benefits and challenges of AI.\\n\\n7. **Iterative Development and Continuous Feedback**: AI systems should be iteratively developed with ongoing feedback loops to learn from real-world use and adapt accordingly. This helps in refining AI applications over time to better meet user needs and societal expectations.\\n\\n8. **Sustainability and Well-being**: AI should contribute to advancing sustainability and enhancing quality of life. It should help in tackling pressing issues like climate change, healthcare access, and education, always with a focus on long-term well-being rather than short-term gains.\\n\\n### Conclusion\\n\\nIn this re-envisioned view, AI is not viewed as a panacea or a threat but as a multifaceted tool that, when implemented thoughtfully, can enhance our collective human experience. By focusing on collaboration, ethics, inclusivity, and empowerment, we can navigate the complexities of AI in a way that promotes a shared, sustainable future.', 'role': 'user', 'name': 'poetic_assistant'}, {'content': 'can you give me some references that talk about re-envisioning AI that is not dystopic or borders on technosolutionism', 'role': 'assistant', 'name': 'user'}, {'content': 'Certainly! Here are several references that discuss the concept of re-envisioning AI in ways that avoid both dystopian narratives and overly simplistic technological solutions:\\n\\n1. **\"Weapons of Math Destruction\" by Cathy O\\'Neil**: In this book, O\\'Neil discusses the potential dangers of algorithmic decision-making while also emphasizing the importance of accountability, transparency, and ethics in developing AI systems. She advocates for a more responsible approach to AI implementation.\\n\\n2. **\"Human Compatible: Artificial Intelligence and the Problem of Control\" by Stuart Russell**: Russell outlines the challenges of aligning AI with human values and well-being. He emphasizes the need for AI systems that prioritize human safety and ethical considerations rather than merely optimizing for efficiency or profit.\\n\\n3. **\"AI for Good: A Global Perspective\" by various authors (published by the International Telecommunication Union)**: This report discusses the potential of AI to address global challenges such as climate change and inequality, while focusing on ethical frameworks and responsible practices that ensure benefits are widespread and equitable.\\n\\n4. **\"Artificial Intelligence: A Guide to Intelligent Systems\" by Michael Negnevitsky**: This book provides an overview of intelligent systems with a focus on the collaborative potential of AI and challenges to overcome, encouraging a balanced view of AI\\'s impacts on society.\\n\\n5. **\"The Ethical Algorithm: The Science of Socially Aware Algorithm Design\" by Michael Kearns and Aaron Roth**: This book discusses designing algorithms that account for social good and ethical considerations, promoting a vision of AI that is responsible and you-focused.\\n\\n6. **\"Designing Ethical AI\" by Kate Crawford and Ryan Calo**: Their work emphasizes the importance of ethical considerations and inclusive practices in AI design. They argue for AI that works for everyone rather than against certain groups.\\n\\n7. **\"Artificial Intelligence: A Guide for Thinking Humans\" by Melanie Mitchell**: Mitchell provides a nuanced view of AI, discussing its limitations and potential while urging for a more thoughtful and cautious approach to its development.\\n\\n8. **AI and Ethics Journal**: An academic journal dedicated to discussing the ethical implications of AI technology exploring various perspectives that balance innovation with ethical considerations.\\n\\n9. **The Partnership on AI**: An organization focused on ensuring that AI technologies are developed and implemented in a way that is beneficial to people and society. Their publications often discuss best practices and frameworks for ethically guiding AI advancements.\\n\\n10. **\"The Age of Surveillance Capitalism\" by Shoshana Zuboff**: While critically examining the tech industry and surveillance capitalism, Zuboff engages with ideas about how we might rethink the role of technology, including AI, to create a more ethical digital society.\\n\\nThese references provide a foundation for understanding how AI can be re-envisioned through careful consideration of ethics, human values, and the socio-economic context, avoiding simplistic solutions and dystopian fears.', 'role': 'user', 'name': 'poetic_assistant'}]\n"
          ]
        }
      ]
    }
  ]
}