{
 "cells": [
  {
   "cell_type": "code",
   "execution_count": 1,
   "id": "bffb78d5",
   "metadata": {},
   "outputs": [],
   "source": [
    "import numpy as np\n",
    "import matplotlib.pyplot as plt\n",
    "\n",
    "# Softmax function definition\n",
    "def softmax(x):\n",
    "    \"\"\"Compute softmax values for each set of logits in x.\"\"\"\n",
    "    exp_x = np.exp(x - np.max(x))  # subtract np.max(x) for numerical stability\n",
    "    return exp_x / exp_x.sum(axis=0, keepdims=True)\n",
    "\n",
    "# Example logits (raw scores for each class)\n",
    "logits = np.array([2.0, 1.0, 0.1])\n",
    "\n",
    "# Compute softmax probabilities\n",
    "probabilities = softmax(logits)\n",
    "\n",
    "# Print out logits and corresponding softmax probabilities\n",
    "print(\"Logits:\", logits)\n",
    "print(\"Softmax Probabilities:\", probabilities)\n",
    "\n",
    "# Plot the logits and the softmax probabilities\n",
    "labels = ['Class 1', 'Class 2', 'Class 3']\n",
    "\n",
    "# Create a figure and axis\n",
    "fig, ax = plt.subplots(1, 1, figsize=(8, 5))\n",
    "\n",
    "# Plot logits (raw scores)\n",
    "ax.bar(labels, logits, color='orange', alpha=0.7, label='Logits')\n",
    "\n",
    "# Plot softmax probabilities (normalized values)\n",
    "ax.bar(labels, probabilities, color='blue', alpha=0.5, label='Softmax Probabilities')\n",
    "\n",
    "# Add a title and labels\n",
    "ax.set_title(\"Softmax Transformation: Logits vs. Probabilities\")\n",
    "ax.set_ylabel(\"Value\")\n",
    "ax.legend()\n",
    "\n",
    "plt.show()"
   ]
  }
 ],
 "metadata": {
  "kernelspec": {
   "display_name": "Python 3",
   "language": "python",
   "name": "python3"
  },
  "language_info": {
   "codemirror_mode": {
    "name": "ipython",
    "version": 3
   },
   "file_extension": ".py",
   "mimetype": "text/x-python",
   "name": "python",
   "nbconvert_exporter": "python",
   "version": "3.9.7"
  }
 },
 "nbformat": 4,
 "nbformat_minor": 5
}
