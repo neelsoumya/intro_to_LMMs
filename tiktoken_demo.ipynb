{
 "cells": [
  {
   "cell_type": "markdown",
   "id": "b185c290",
   "metadata": {},
   "source": [
    "# Tokenization with `tiktoken`"
   ]
  },
  {
   "cell_type": "markdown",
   "id": "2baa0110",
   "metadata": {},
   "source": [
    "This notebook demonstrates how to use the `tiktoken` library to tokenize text using the GPT-2 tokenizer."
   ]
  },
  {
   "cell_type": "code",
   "execution_count": null,
   "id": "46abe7d5",
   "metadata": {},
   "outputs": [],
   "source": [
    "# Install tiktoken if not already installed\n",
    "!pip install tiktoken"
   ]
  },
  {
   "cell_type": "code",
   "execution_count": null,
   "id": "3917301c",
   "metadata": {},
   "outputs": [],
   "source": [
    "import tiktoken\n",
    "\n",
    "# Get the GPT-2 encoding\n",
    "enc = tiktoken.get_encoding(\"gpt2\")\n",
    "\n",
    "# Encode a string into tokens\n",
    "tokens = enc.encode(\"Hello, how are you?\")\n",
    "\n",
    "# Display the token IDs\n",
    "print(tokens)  # Output: [15496, 11, 703, 389, 345]"
   ]
  }
 ],
 "metadata": {},
 "nbformat": 4,
 "nbformat_minor": 5
}
